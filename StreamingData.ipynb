{
 "cells": [
  {
   "cell_type": "code",
   "execution_count": null,
   "metadata": {
    "application/vnd.databricks.v1+cell": {
     "cellMetadata": {
      "byteLimit": 2048000,
      "rowLimit": 10000
     },
     "inputWidgets": {},
     "nuid": "bfa95bc1-290a-453f-9a6f-0f4545ac25df",
     "showTitle": false,
     "title": ""
    }
   },
   "outputs": [],
   "source": [
    "#explicit specify schema for input stream\n",
    "from pyspark.sql.types import StructType, StructField, IntegerType, StringType, FloatType"
   ]
  },
  {
   "cell_type": "code",
   "execution_count": null,
   "metadata": {
    "application/vnd.databricks.v1+cell": {
     "cellMetadata": {
      "byteLimit": 2048000,
      "rowLimit": 10000
     },
     "inputWidgets": {},
     "nuid": "b7d6ed45-9609-44ff-9761-1fc24f887d5a",
     "showTitle": false,
     "title": ""
    }
   },
   "outputs": [
    {
     "name": "stdout",
     "output_type": "stream",
     "text": [
      "Out[14]: True"
     ]
    }
   ],
   "source": [
    "dbutils.fs.mkdirs(\"dbfs:/FileStore/shared_uploads/streaming\")"
   ]
  },
  {
   "cell_type": "code",
   "execution_count": null,
   "metadata": {
    "application/vnd.databricks.v1+cell": {
     "cellMetadata": {
      "byteLimit": 2048000,
      "rowLimit": 10000
     },
     "inputWidgets": {},
     "nuid": "028913bd-3164-4c63-8df2-33b1ea871b56",
     "showTitle": false,
     "title": ""
    }
   },
   "outputs": [
    {
     "name": "stdout",
     "output_type": "stream",
     "text": [
      "Out[52]: [FileInfo(path='dbfs:/FileStore/shared_uploads/streaming/laptops_01.csv', name='laptops_01.csv', size=760, modificationTime=1692626899000),\n",
      " FileInfo(path='dbfs:/FileStore/shared_uploads/streaming/laptops_02.csv', name='laptops_02.csv', size=833, modificationTime=1692626899000),\n",
      " FileInfo(path='dbfs:/FileStore/shared_uploads/streaming/laptops_03.csv', name='laptops_03.csv', size=834, modificationTime=1692639302000),\n",
      " FileInfo(path='dbfs:/FileStore/shared_uploads/streaming/laptops_04.csv', name='laptops_04.csv', size=910, modificationTime=1692639302000),\n",
      " FileInfo(path='dbfs:/FileStore/shared_uploads/streaming/laptops_05.csv', name='laptops_05.csv', size=828, modificationTime=1692641517000),\n",
      " FileInfo(path='dbfs:/FileStore/shared_uploads/streaming/laptops_06.csv', name='laptops_06.csv', size=910, modificationTime=1692641517000),\n",
      " FileInfo(path='dbfs:/FileStore/shared_uploads/streaming/laptops_07.csv', name='laptops_07.csv', size=841, modificationTime=1692703242000),\n",
      " FileInfo(path='dbfs:/FileStore/shared_uploads/streaming/laptops_08.csv', name='laptops_08.csv', size=874, modificationTime=1692703529000),\n",
      " FileInfo(path='dbfs:/FileStore/shared_uploads/streaming/laptops_09.csv', name='laptops_09.csv', size=852, modificationTime=1692703529000),\n",
      " FileInfo(path='dbfs:/FileStore/shared_uploads/streaming/laptops_10.csv', name='laptops_10.csv', size=830, modificationTime=1692703529000)]"
     ]
    }
   ],
   "source": [
    "dbutils.fs.ls(\"dbfs:/FileStore/shared_uploads/streaming\")"
   ]
  },
  {
   "cell_type": "code",
   "execution_count": null,
   "metadata": {
    "application/vnd.databricks.v1+cell": {
     "cellMetadata": {
      "byteLimit": 2048000,
      "rowLimit": 10000
     },
     "inputWidgets": {},
     "nuid": "33f0f21f-2719-4b45-8197-3baf7d36653b",
     "showTitle": false,
     "title": ""
    }
   },
   "outputs": [],
   "source": [
    "##explicit specify schema for input stream\n",
    "# False: fields are not nullable\n",
    "schema = StructType([ \n",
    "    StructField(\"Id\",IntegerType(),False), \n",
    "    StructField(\"Company\",StringType(),False), \n",
    "    StructField(\"Product\",StringType(),False), \n",
    "    StructField(\"TypeName\", StringType(), False), \n",
    "    StructField(\"Price_euros\", FloatType(), False)\n",
    "  ])"
   ]
  },
  {
   "cell_type": "code",
   "execution_count": null,
   "metadata": {
    "application/vnd.databricks.v1+cell": {
     "cellMetadata": {
      "byteLimit": 2048000,
      "rowLimit": 10000
     },
     "inputWidgets": {},
     "nuid": "1d246b44-8615-48b7-be80-d79679c10328",
     "showTitle": false,
     "title": ""
    }
   },
   "outputs": [
    {
     "data": {
      "text/html": [
       "<style scoped>\n",
       "  .table-result-container {\n",
       "    max-height: 300px;\n",
       "    overflow: auto;\n",
       "  }\n",
       "  table, th, td {\n",
       "    border: 1px solid black;\n",
       "    border-collapse: collapse;\n",
       "  }\n",
       "  th, td {\n",
       "    padding: 5px;\n",
       "  }\n",
       "  th {\n",
       "    text-align: left;\n",
       "  }\n",
       "</style><div class='table-result-container'><table class='table-result'><thead style='background-color: white'><tr><th>Id</th><th>Company</th><th>Product</th><th>TypeName</th><th>Price_euros</th></tr></thead><tbody><tr><td>1</td><td>Apple</td><td>MacBook Pro</td><td>Ultrabook</td><td>1339.69</td></tr><tr><td>2</td><td>Apple</td><td>Macbook Air</td><td>Ultrabook</td><td>898.94</td></tr><tr><td>3</td><td>HP</td><td>250 G6</td><td>Notebook</td><td>575.0</td></tr><tr><td>4</td><td>Apple</td><td>MacBook Pro</td><td>Ultrabook</td><td>2537.45</td></tr><tr><td>5</td><td>Apple</td><td>MacBook Pro</td><td>Ultrabook</td><td>1803.6</td></tr><tr><td>6</td><td>Acer</td><td>Aspire 3</td><td>Notebook</td><td>400.0</td></tr><tr><td>7</td><td>Apple</td><td>MacBook Pro</td><td>Ultrabook</td><td>2139.97</td></tr><tr><td>8</td><td>Apple</td><td>Macbook Air</td><td>Ultrabook</td><td>1158.7</td></tr><tr><td>9</td><td>Asus</td><td>ZenBook UX430UN</td><td>Ultrabook</td><td>1495.0</td></tr><tr><td>10</td><td>Acer</td><td>Swift 3</td><td>Ultrabook</td><td>770.0</td></tr><tr><td>11</td><td>HP</td><td>250 G6</td><td>Notebook</td><td>393.9</td></tr><tr><td>12</td><td>HP</td><td>250 G6</td><td>Notebook</td><td>344.99</td></tr><tr><td>13</td><td>Apple</td><td>MacBook Pro</td><td>Ultrabook</td><td>2439.97</td></tr><tr><td>14</td><td>Dell</td><td>Inspiron 3567</td><td>Notebook</td><td>498.9</td></tr><tr><td>15</td><td>Apple</td><td>MacBook 12\"\"</td><td>Ultrabook</td><td>1262.4</td></tr><tr><td>16</td><td>Apple</td><td>MacBook Pro</td><td>Ultrabook</td><td>1518.55</td></tr><tr><td>17</td><td>Dell</td><td>Inspiron 3567</td><td>Notebook</td><td>745.0</td></tr><tr><td>18</td><td>Apple</td><td>MacBook Pro</td><td>Ultrabook</td><td>2858.0</td></tr><tr><td>19</td><td>Lenovo</td><td>IdeaPad 320-15IKB</td><td>Notebook</td><td>499.0</td></tr><tr><td>20</td><td>Dell</td><td>XPS 13</td><td>Ultrabook</td><td>979.0</td></tr></tbody></table></div>"
      ]
     },
     "metadata": {
      "application/vnd.databricks.v1+output": {
       "addedWidgets": {},
       "aggData": [],
       "aggError": "",
       "aggOverflow": false,
       "aggSchema": [],
       "aggSeriesLimitReached": false,
       "aggType": "",
       "arguments": {},
       "columnCustomDisplayInfos": {},
       "data": [
        [
         1,
         "Apple",
         "MacBook Pro",
         "Ultrabook",
         1339.69
        ],
        [
         2,
         "Apple",
         "Macbook Air",
         "Ultrabook",
         898.94
        ],
        [
         3,
         "HP",
         "250 G6",
         "Notebook",
         575
        ],
        [
         4,
         "Apple",
         "MacBook Pro",
         "Ultrabook",
         2537.45
        ],
        [
         5,
         "Apple",
         "MacBook Pro",
         "Ultrabook",
         1803.6
        ],
        [
         6,
         "Acer",
         "Aspire 3",
         "Notebook",
         400
        ],
        [
         7,
         "Apple",
         "MacBook Pro",
         "Ultrabook",
         2139.97
        ],
        [
         8,
         "Apple",
         "Macbook Air",
         "Ultrabook",
         1158.7
        ],
        [
         9,
         "Asus",
         "ZenBook UX430UN",
         "Ultrabook",
         1495
        ],
        [
         10,
         "Acer",
         "Swift 3",
         "Ultrabook",
         770
        ],
        [
         11,
         "HP",
         "250 G6",
         "Notebook",
         393.9
        ],
        [
         12,
         "HP",
         "250 G6",
         "Notebook",
         344.99
        ],
        [
         13,
         "Apple",
         "MacBook Pro",
         "Ultrabook",
         2439.97
        ],
        [
         14,
         "Dell",
         "Inspiron 3567",
         "Notebook",
         498.9
        ],
        [
         15,
         "Apple",
         "MacBook 12\"\"",
         "Ultrabook",
         1262.4
        ],
        [
         16,
         "Apple",
         "MacBook Pro",
         "Ultrabook",
         1518.55
        ],
        [
         17,
         "Dell",
         "Inspiron 3567",
         "Notebook",
         745
        ],
        [
         18,
         "Apple",
         "MacBook Pro",
         "Ultrabook",
         2858
        ],
        [
         19,
         "Lenovo",
         "IdeaPad 320-15IKB",
         "Notebook",
         499
        ],
        [
         20,
         "Dell",
         "XPS 13",
         "Ultrabook",
         979
        ]
       ],
       "datasetInfos": [],
       "dbfsResultPath": null,
       "isJsonSchema": true,
       "metadata": {},
       "overflow": false,
       "plotOptions": {
        "customPlotOptions": {},
        "displayType": "table",
        "pivotAggregation": null,
        "pivotColumns": null,
        "xColumns": null,
        "yColumns": null
       },
       "removedWidgets": [],
       "schema": [
        {
         "metadata": "{}",
         "name": "Id",
         "type": "\"integer\""
        },
        {
         "metadata": "{}",
         "name": "Company",
         "type": "\"string\""
        },
        {
         "metadata": "{}",
         "name": "Product",
         "type": "\"string\""
        },
        {
         "metadata": "{}",
         "name": "TypeName",
         "type": "\"string\""
        },
        {
         "metadata": "{}",
         "name": "Price_euros",
         "type": "\"float\""
        }
       ],
       "type": "table"
      }
     },
     "output_type": "display_data"
    }
   ],
   "source": [
    "# read data we have already uploaded into dbfs\n",
    "labtob_data = spark.read.format(\"csv\")\\\n",
    "                .option(\"header\", \"true\")\\\n",
    "                .schema(schema)\\\n",
    "                .load(\"dbfs:/FileStore/shared_uploads/streaming/laptops_01.csv\")\n",
    "display(labtob_data)"
   ]
  },
  {
   "cell_type": "code",
   "execution_count": null,
   "metadata": {
    "application/vnd.databricks.v1+cell": {
     "cellMetadata": {
      "byteLimit": 2048000,
      "rowLimit": 10000
     },
     "inputWidgets": {},
     "nuid": "a6a982cf-3107-4ac5-bb05-a026295b283a",
     "showTitle": false,
     "title": ""
    }
   },
   "outputs": [
    {
     "name": "stdout",
     "output_type": "stream",
     "text": [
      "Is laptobs data streamed? False\n"
     ]
    }
   ],
   "source": [
    "#isStreaming: false means data not stream(real time) is batch data\n",
    "print(\"Is laptobs data streamed? {}\".format(labtob_data.isStreaming))"
   ]
  },
  {
   "cell_type": "code",
   "execution_count": null,
   "metadata": {
    "application/vnd.databricks.v1+cell": {
     "cellMetadata": {},
     "inputWidgets": {},
     "nuid": "97ba07be-ecfc-4d34-9d20-82a7091084ec",
     "showTitle": false,
     "title": ""
    }
   },
   "outputs": [],
   "source": [
    "\"\"\"\n",
    "readStream:\n",
    "- monitor operations in sub folder\n",
    "- if upload another file in sub folder will assume the stream (append as new records when \n",
    "read as dataframe)\n",
    "\"\"\""
   ]
  },
  {
   "cell_type": "code",
   "execution_count": null,
   "metadata": {
    "application/vnd.databricks.v1+cell": {
     "cellMetadata": {
      "byteLimit": 2048000,
      "rowLimit": 10000
     },
     "inputWidgets": {},
     "nuid": "c13d1608-1c11-40dc-bacc-23a437eaa3cb",
     "showTitle": false,
     "title": ""
    }
   },
   "outputs": [
    {
     "data": {
      "text/html": [
       "<style scoped>\n",
       "  .table-result-container {\n",
       "    max-height: 300px;\n",
       "    overflow: auto;\n",
       "  }\n",
       "  table, th, td {\n",
       "    border: 1px solid black;\n",
       "    border-collapse: collapse;\n",
       "  }\n",
       "  th, td {\n",
       "    padding: 5px;\n",
       "  }\n",
       "  th {\n",
       "    text-align: left;\n",
       "  }\n",
       "</style><div class='table-result-container'><table class='table-result'><thead style='background-color: white'><tr><th>Id</th><th>Company</th><th>Product</th><th>TypeName</th><th>Price_euros</th></tr></thead><tbody><tr><td>21</td><td>Asus</td><td>Vivobook E200HA</td><td>Netbook</td><td>191.9</td></tr><tr><td>22</td><td>Lenovo</td><td>Legion Y520-15IKBN</td><td>Gaming</td><td>999.0</td></tr><tr><td>23</td><td>HP</td><td>255 G6</td><td>Notebook</td><td>258.0</td></tr><tr><td>24</td><td>Dell</td><td>Inspiron 5379</td><td>2 in 1 Convertible</td><td>819.0</td></tr><tr><td>25</td><td>HP</td><td>15-BS101nv (i7-8550U/8GB/256GB/FHD/W10)</td><td>Ultrabook</td><td>659.0</td></tr><tr><td>26</td><td>Dell</td><td>Inspiron 3567</td><td>Notebook</td><td>418.64</td></tr><tr><td>27</td><td>Apple</td><td>MacBook Air</td><td>Ultrabook</td><td>1099.0</td></tr><tr><td>28</td><td>Dell</td><td>Inspiron 5570</td><td>Notebook</td><td>800.0</td></tr><tr><td>29</td><td>Dell</td><td>Latitude 5590</td><td>Ultrabook</td><td>1298.0</td></tr><tr><td>30</td><td>HP</td><td>ProBook 470</td><td>Notebook</td><td>896.0</td></tr><tr><td>31</td><td>Chuwi</td><td>LapBook 15.6\"\"</td><td>Notebook</td><td>244.99</td></tr><tr><td>32</td><td>Asus</td><td>E402WA-GA010T (E2-6110/2GB/32GB/W10)</td><td>Notebook</td><td>199.0</td></tr><tr><td>33</td><td>HP</td><td>17-ak001nv (A6-9220/4GB/500GB/Radeon</td><td>Notebook</td><td>439.0</td></tr><tr><td>34</td><td>Dell</td><td>XPS 13</td><td>Ultrabook</td><td>1869.0</td></tr><tr><td>35</td><td>Apple</td><td>MacBook Air</td><td>Ultrabook</td><td>998.0</td></tr><tr><td>36</td><td>Lenovo</td><td>IdeaPad 120S-14IAP</td><td>Notebook</td><td>249.0</td></tr><tr><td>37</td><td>Acer</td><td>Aspire 3</td><td>Notebook</td><td>367.0</td></tr><tr><td>38</td><td>Dell</td><td>Inspiron 5770</td><td>Notebook</td><td>979.0</td></tr><tr><td>39</td><td>HP</td><td>250 G6</td><td>Notebook</td><td>488.69</td></tr><tr><td>40</td><td>HP</td><td>ProBook 450</td><td>Notebook</td><td>879.0</td></tr><tr><td>1</td><td>Apple</td><td>MacBook Pro</td><td>Ultrabook</td><td>1339.69</td></tr><tr><td>2</td><td>Apple</td><td>Macbook Air</td><td>Ultrabook</td><td>898.94</td></tr><tr><td>3</td><td>HP</td><td>250 G6</td><td>Notebook</td><td>575.0</td></tr><tr><td>4</td><td>Apple</td><td>MacBook Pro</td><td>Ultrabook</td><td>2537.45</td></tr><tr><td>5</td><td>Apple</td><td>MacBook Pro</td><td>Ultrabook</td><td>1803.6</td></tr><tr><td>6</td><td>Acer</td><td>Aspire 3</td><td>Notebook</td><td>400.0</td></tr><tr><td>7</td><td>Apple</td><td>MacBook Pro</td><td>Ultrabook</td><td>2139.97</td></tr><tr><td>8</td><td>Apple</td><td>Macbook Air</td><td>Ultrabook</td><td>1158.7</td></tr><tr><td>9</td><td>Asus</td><td>ZenBook UX430UN</td><td>Ultrabook</td><td>1495.0</td></tr><tr><td>10</td><td>Acer</td><td>Swift 3</td><td>Ultrabook</td><td>770.0</td></tr><tr><td>11</td><td>HP</td><td>250 G6</td><td>Notebook</td><td>393.9</td></tr><tr><td>12</td><td>HP</td><td>250 G6</td><td>Notebook</td><td>344.99</td></tr><tr><td>13</td><td>Apple</td><td>MacBook Pro</td><td>Ultrabook</td><td>2439.97</td></tr><tr><td>14</td><td>Dell</td><td>Inspiron 3567</td><td>Notebook</td><td>498.9</td></tr><tr><td>15</td><td>Apple</td><td>MacBook 12\"\"</td><td>Ultrabook</td><td>1262.4</td></tr><tr><td>16</td><td>Apple</td><td>MacBook Pro</td><td>Ultrabook</td><td>1518.55</td></tr><tr><td>17</td><td>Dell</td><td>Inspiron 3567</td><td>Notebook</td><td>745.0</td></tr><tr><td>18</td><td>Apple</td><td>MacBook Pro</td><td>Ultrabook</td><td>2858.0</td></tr><tr><td>19</td><td>Lenovo</td><td>IdeaPad 320-15IKB</td><td>Notebook</td><td>499.0</td></tr><tr><td>20</td><td>Dell</td><td>XPS 13</td><td>Ultrabook</td><td>979.0</td></tr><tr><td>60</td><td>Asus</td><td>X541UA-DM1897 (i3-6006U/4GB/256GB/FHD/Linux)</td><td>Notebook</td><td>415.0</td></tr><tr><td>61</td><td>Dell</td><td>Inspiron 5770</td><td>Notebook</td><td>1299.0</td></tr><tr><td>62</td><td>Dell</td><td>Vostro 5471</td><td>Ultrabook</td><td>879.0</td></tr><tr><td>63</td><td>Lenovo</td><td>IdeaPad 520S-14IKB</td><td>Notebook</td><td>599.0</td></tr><tr><td>64</td><td>Asus</td><td>UX410UA-GV350T (i5-8250U/8GB/256GB/FHD/W10)</td><td>Notebook</td><td>941.0</td></tr><tr><td>66</td><td>HP</td><td>250 G6</td><td>Notebook</td><td>690.0</td></tr><tr><td>67</td><td>Asus</td><td>ZenBook Pro</td><td>Ultrabook</td><td>1983.0</td></tr><tr><td>68</td><td>HP</td><td>250 G6</td><td>Notebook</td><td>438.69</td></tr><tr><td>69</td><td>HP</td><td>Stream 14-AX040wm</td><td>Notebook</td><td>229.0</td></tr><tr><td>70</td><td>Lenovo</td><td>V310-15ISK (i5-7200U/4GB/1TB/FHD/W10)</td><td>Notebook</td><td>549.0</td></tr><tr><td>71</td><td>Asus</td><td>FX753VE-GC093 (i7-7700HQ/12GB/1TB/GeForce</td><td>Gaming</td><td>949.0</td></tr><tr><td>72</td><td>Microsoft</td><td>Surface Laptop</td><td>Ultrabook</td><td>1089.0</td></tr><tr><td>73</td><td>Dell</td><td>Inspiron 5370</td><td>Ultrabook</td><td>955.0</td></tr><tr><td>74</td><td>Dell</td><td>Inspiron 5570</td><td>Notebook</td><td>870.0</td></tr><tr><td>75</td><td>MSI</td><td>GL72M 7RDX</td><td>Gaming</td><td>1095.0</td></tr><tr><td>76</td><td>Acer</td><td>Aspire E5-475</td><td>Notebook</td><td>389.0</td></tr><tr><td>77</td><td>Asus</td><td>FX503VD-E4022T (i7-7700HQ/8GB/1TB/GeForce</td><td>Gaming</td><td>949.0</td></tr><tr><td>78</td><td>Lenovo</td><td>IdeaPad 320-15IKBN</td><td>Notebook</td><td>519.0</td></tr><tr><td>79</td><td>Dell</td><td>Inspiron 5570</td><td>Notebook</td><td>855.0</td></tr><tr><td>80</td><td>Acer</td><td>Aspire A515-51G-32MX</td><td>Notebook</td><td>530.0</td></tr><tr><td>41</td><td>Asus</td><td>X540UA-DM186 (i3-6006U/4GB/1TB/FHD/Linux)</td><td>Notebook</td><td>389.0</td></tr><tr><td>42</td><td>Dell</td><td>Inspiron 7577</td><td>Gaming</td><td>1499.0</td></tr><tr><td>43</td><td>Asus</td><td>X542UQ-GO005 (i5-7200U/8GB/1TB/GeForce</td><td>Notebook</td><td>522.99</td></tr><tr><td>44</td><td>Acer</td><td>Aspire A515-51G</td><td>Notebook</td><td>682.0</td></tr><tr><td>45</td><td>Dell</td><td>Inspiron 7773</td><td>2 in 1 Convertible</td><td>999.0</td></tr><tr><td>46</td><td>Apple</td><td>MacBook Pro</td><td>Ultrabook</td><td>1419.0</td></tr><tr><td>47</td><td>Lenovo</td><td>IdeaPad 320-15ISK</td><td>Notebook</td><td>369.0</td></tr><tr><td>48</td><td>Asus</td><td>Rog Strix</td><td>Gaming</td><td>1299.0</td></tr><tr><td>49</td><td>Dell</td><td>Inspiron 3567</td><td>Notebook</td><td>639.0</td></tr><tr><td>50</td><td>Asus</td><td>X751NV-TY001T (N4200/4GB/1TB/GeForce</td><td>Notebook</td><td>466.0</td></tr><tr><td>51</td><td>Lenovo</td><td>Yoga Book</td><td>2 in 1 Convertible</td><td>319.0</td></tr><tr><td>52</td><td>Acer</td><td>Aspire A515-51G</td><td>Notebook</td><td>841.0</td></tr><tr><td>53</td><td>HP</td><td>255 G6</td><td>Notebook</td><td>398.49</td></tr><tr><td>54</td><td>HP</td><td>ProBook 430</td><td>Notebook</td><td>1103.0</td></tr><tr><td>55</td><td>Acer</td><td>Aspire 3</td><td>Notebook</td><td>384.0</td></tr><tr><td>56</td><td>Dell</td><td>Inspiron 3576</td><td>Notebook</td><td>767.8</td></tr><tr><td>57</td><td>HP</td><td>15-bs002nv (i3-6006U/4GB/128GB/FHD/W10)</td><td>Notebook</td><td>439.0</td></tr><tr><td>58</td><td>Asus</td><td>VivoBook Max</td><td>Notebook</td><td>586.19</td></tr><tr><td>59</td><td>MSI</td><td>GS73VR 7RG</td><td>Gaming</td><td>2449.0</td></tr><tr><td>102</td><td>HP</td><td>Omen 15-ce007nv</td><td>Gaming</td><td>1249.0</td></tr><tr><td>103</td><td>HP</td><td>15-bs017nv (i7-7500U/8GB/256GB/Radeon</td><td>Notebook</td><td>719.0</td></tr><tr><td>104</td><td>HP</td><td>15-bw000nv (E2-9000e/4GB/500GB/Radeon</td><td>Notebook</td><td>349.0</td></tr><tr><td>105</td><td>Dell</td><td>Inspiron 3576</td><td>Notebook</td><td>647.0</td></tr><tr><td>106</td><td>HP</td><td>Envy 13-ad009n</td><td>Ultrabook</td><td>1119.0</td></tr><tr><td>107</td><td>Microsoft</td><td>Surface Laptop</td><td>Ultrabook</td><td>1340.0</td></tr><tr><td>108</td><td>HP</td><td>Pavilion 14-BK001nv</td><td>Notebook</td><td>659.0</td></tr><tr><td>109</td><td>Lenovo</td><td>Ideapad 310-15ISK</td><td>Notebook</td><td>414.9</td></tr><tr><td>110</td><td>Asus</td><td>UX430UQ-GV209R (i7-7500U/8GB/256GB/GeForce</td><td>Ultrabook</td><td>1193.0</td></tr><tr><td>111</td><td>MSI</td><td>GP62M 7REX</td><td>Gaming</td><td>1299.0</td></tr><tr><td>112</td><td>Lenovo</td><td>Thinkpad T470</td><td>Notebook</td><td>1480.0</td></tr><tr><td>113</td><td>Asus</td><td>VivoBook S15</td><td>Ultrabook</td><td>1262.0</td></tr><tr><td>114</td><td>Dell</td><td>XPS 13</td><td>Ultrabook</td><td>1379.0</td></tr><tr><td>115</td><td>Lenovo</td><td>ThinkPad Yoga</td><td>2 in 1 Convertible</td><td>1399.0</td></tr><tr><td>116</td><td>HP</td><td>Probook 440</td><td>Notebook</td><td>722.0</td></tr><tr><td>117</td><td>Dell</td><td>XPS 13</td><td>Ultrabook</td><td>1629.0</td></tr><tr><td>118</td><td>HP</td><td>Spectre x360</td><td>2 in 1 Convertible</td><td>1398.99</td></tr><tr><td>119</td><td>HP</td><td>Probook 440</td><td>Notebook</td><td>1084.0</td></tr><tr><td>120</td><td>Dell</td><td>Inspiron 7570</td><td>Notebook</td><td>1130.33</td></tr><tr><td>121</td><td>Asus</td><td>X705UV-BX074T (i3-6006U/4GB/1TB/GeForce</td><td>Notebook</td><td>564.0</td></tr><tr><td>81</td><td>HP</td><td>ProBook 470</td><td>Notebook</td><td>977.0</td></tr><tr><td>82</td><td>Dell</td><td>Latitude 5590</td><td>Ultrabook</td><td>1096.16</td></tr><tr><td>83</td><td>Apple</td><td>MacBook 12\"\"</td><td>Ultrabook</td><td>1510.0</td></tr><tr><td>84</td><td>HP</td><td>ProBook 440</td><td>Notebook</td><td>860.0</td></tr><tr><td>85</td><td>Lenovo</td><td>IdeaPad 320-15AST</td><td>Notebook</td><td>399.0</td></tr><tr><td>86</td><td>Acer</td><td>Aspire 3</td><td>Notebook</td><td>395.0</td></tr><tr><td>87</td><td>Dell</td><td>Inspiron 7577</td><td>Gaming</td><td>1349.0</td></tr><tr><td>88</td><td>HP</td><td>Pavilion 15-CK000nv</td><td>Ultrabook</td><td>699.0</td></tr><tr><td>89</td><td>HP</td><td>250 G6</td><td>Notebook</td><td>598.99</td></tr><tr><td>90</td><td>Asus</td><td>FX503VM-E4007T (i7-7700HQ/16GB/1TB</td><td>Gaming</td><td>1449.0</td></tr><tr><td>91</td><td>Dell</td><td>XPS 13</td><td>Ultrabook</td><td>1649.0</td></tr><tr><td>92</td><td>Asus</td><td>FX550IK-DM018T (FX-9830P/8GB/1TB/Radeon</td><td>Gaming</td><td>699.0</td></tr><tr><td>93</td><td>Acer</td><td>Aspire 5</td><td>Notebook</td><td>689.0</td></tr><tr><td>94</td><td>HP</td><td>Probook 430</td><td>Notebook</td><td>1197.0</td></tr><tr><td>95</td><td>Dell</td><td>Inspiron 7577</td><td>Gaming</td><td>1195.0</td></tr><tr><td>96</td><td>Asus</td><td>Zenbook UX430UA</td><td>Ultrabook</td><td>1049.0</td></tr><tr><td>97</td><td>Acer</td><td>Spin 5</td><td>2 in 1 Convertible</td><td>847.0</td></tr><tr><td>98</td><td>Dell</td><td>Inspiron 3567</td><td>Notebook</td><td>599.9</td></tr><tr><td>99</td><td>Dell</td><td>Inspiron 3567</td><td>Notebook</td><td>485.0</td></tr><tr><td>100</td><td>Asus</td><td>X541UV-DM1439T (i3-7100U/6GB/256GB/GeForce</td><td>Notebook</td><td>577.0</td></tr><tr><td>122</td><td>Asus</td><td>VivoBook S15</td><td>Notebook</td><td>1118.0</td></tr><tr><td>123</td><td>Acer</td><td>Spin 3</td><td>Notebook</td><td>479.0</td></tr><tr><td>124</td><td>MSI</td><td>GS63VR 7RG</td><td>Gaming</td><td>2241.5</td></tr><tr><td>125</td><td>Lenovo</td><td>IdeaPad 320-15IKBN</td><td>Notebook</td><td>629.0</td></tr><tr><td>126</td><td>HP</td><td>Probook 470</td><td>Notebook</td><td>1271.0</td></tr><tr><td>127</td><td>Acer</td><td>Aspire 3</td><td>Notebook</td><td>451.0</td></tr><tr><td>128</td><td>HP</td><td>250 G6</td><td>Notebook</td><td>259.0</td></tr><tr><td>129</td><td>HP</td><td>Probook 440</td><td>Notebook</td><td>812.0</td></tr><tr><td>130</td><td>Asus</td><td>E402WA-GA007T (E2-6110/4GB/64GB/W10</td><td>Notebook</td><td>277.99</td></tr><tr><td>131</td><td>Dell</td><td>Inspiron 5770</td><td>Notebook</td><td>1396.0</td></tr><tr><td>132</td><td>HP</td><td>ProBook 470</td><td>Notebook</td><td>928.0</td></tr><tr><td>133</td><td>Dell</td><td>Inspiron 5567</td><td>Notebook</td><td>638.99</td></tr><tr><td>134</td><td>Dell</td><td>Inspiron 3567</td><td>Notebook</td><td>449.0</td></tr><tr><td>135</td><td>Acer</td><td>Swift 3</td><td>Ultrabook</td><td>884.0</td></tr><tr><td>136</td><td>Acer</td><td>Aspire A515-51G-37JS</td><td>Notebook</td><td>572.0</td></tr><tr><td>137</td><td>HP</td><td>15-BS078nr (i7-7500U/8GB/1TB/W10)</td><td>Notebook</td><td>598.0</td></tr><tr><td>138</td><td>HP</td><td>Probook 440</td><td>Notebook</td><td>988.0</td></tr><tr><td>139</td><td>Lenovo</td><td>V110-15IAP (N3350/4GB/1TB/No</td><td>Notebook</td><td>252.36</td></tr><tr><td>140</td><td>Asus</td><td>FX753VD-GC086T (i5-7300HQ/8GB/1TB</td><td>Gaming</td><td>938.0</td></tr><tr><td>141</td><td>Lenovo</td><td>IdeaPad 320-15IKBN</td><td>Notebook</td><td>499.0</td></tr><tr><td>142</td><td>HP</td><td>Envy 13-AD007nv</td><td>Notebook</td><td>699.0</td></tr><tr><td>143</td><td>Acer</td><td>Aspire 5</td><td>Notebook</td><td>655.0</td></tr><tr><td>144</td><td>Lenovo</td><td>ThinkPad E480</td><td>Notebook</td><td>1116.02</td></tr><tr><td>145</td><td>Lenovo</td><td>Legion Y520-15IKBN</td><td>Gaming</td><td>869.0</td></tr><tr><td>146</td><td>Toshiba</td><td>Satellite Pro</td><td>Notebook</td><td>602.0</td></tr><tr><td>147</td><td>HP</td><td>255 G6</td><td>Notebook</td><td>369.0</td></tr><tr><td>148</td><td>Asus</td><td>ZenBook UX430UA</td><td>Ultrabook</td><td>1099.0</td></tr><tr><td>149</td><td>HP</td><td>EliteBook Folio</td><td>Ultrabook</td><td>2014.0</td></tr><tr><td>150</td><td>Asus</td><td>X541NA (N3350/4GB/1TB/FHD/W10)</td><td>Notebook</td><td>344.0</td></tr><tr><td>151</td><td>MSI</td><td>GE72MVR 7RG</td><td>Gaming</td><td>2029.0</td></tr><tr><td>152</td><td>Acer</td><td>Aspire A315-51</td><td>Notebook</td><td>447.0</td></tr><tr><td>153</td><td>Dell</td><td>Inspiron 5577</td><td>Gaming</td><td>1249.26</td></tr><tr><td>154</td><td>Dell</td><td>Inspiron 7567</td><td>Gaming</td><td>899.0</td></tr><tr><td>155</td><td>Lenovo</td><td>V110-15IKB (i5-7200U/4GB/128GB/W10)</td><td>Notebook</td><td>498.0</td></tr><tr><td>156</td><td>MSI</td><td>GE73VR 7RE</td><td>Gaming</td><td>1890.0</td></tr><tr><td>157</td><td>HP</td><td>EliteBook 840</td><td>Ultrabook</td><td>1082.0</td></tr><tr><td>158</td><td>HP</td><td>15-BS103nv (i5-8250U/6GB/256GB/Radeon</td><td>Notebook</td><td>619.0</td></tr><tr><td>159</td><td>Lenovo</td><td>Yoga 520-14IKB</td><td>2 in 1 Convertible</td><td>629.0</td></tr><tr><td>160</td><td>Asus</td><td>ZenBook Flip</td><td>2 in 1 Convertible</td><td>1315.0</td></tr><tr><td>161</td><td>Dell</td><td>Inspiron 5579</td><td>2 in 1 Convertible</td><td>1049.0</td></tr><tr><td>163</td><td>Toshiba</td><td>Satellite Pro</td><td>Notebook</td><td>447.0</td></tr><tr><td>164</td><td>Asus</td><td>X555BP-XX180T (A9-9420/4GB/1TB/Radeon</td><td>Notebook</td><td>403.0</td></tr><tr><td>165</td><td>Acer</td><td>Aspire A517-51G</td><td>Notebook</td><td>805.0</td></tr><tr><td>166</td><td>Dell</td><td>Inspiron 3576</td><td>Notebook</td><td>728.0</td></tr><tr><td>167</td><td>Lenovo</td><td>Legion Y520-15IKBN</td><td>Gaming</td><td>1079.0</td></tr><tr><td>168</td><td>Acer</td><td>Aspire A315-31</td><td>Notebook</td><td>348.0</td></tr><tr><td>169</td><td>MSI</td><td>GE63VR 7RE</td><td>Gaming</td><td>1799.0</td></tr><tr><td>170</td><td>Acer</td><td>Aspire 3</td><td>Notebook</td><td>363.51</td></tr><tr><td>171</td><td>Dell</td><td>Inspiron 5577</td><td>Gaming</td><td>1060.49</td></tr><tr><td>172</td><td>Acer</td><td>Aspire A517-51G</td><td>Notebook</td><td>854.0</td></tr><tr><td>173</td><td>HP</td><td>ProBook 430</td><td>Notebook</td><td>754.0</td></tr><tr><td>174</td><td>Huawei</td><td>MateBook X</td><td>Ultrabook</td><td>1349.0</td></tr><tr><td>175</td><td>HP</td><td>17-bs001nv (i5-7200U/6GB/2TB/Radeon</td><td>Notebook</td><td>699.0</td></tr><tr><td>176</td><td>Lenovo</td><td>IdeaPad 320-15AST</td><td>Notebook</td><td>309.0</td></tr><tr><td>177</td><td>Toshiba</td><td>Satellite Pro</td><td>Notebook</td><td>489.0</td></tr><tr><td>178</td><td>HP</td><td>ProBook 470</td><td>Notebook</td><td>923.0</td></tr><tr><td>179</td><td>Dell</td><td>Inspiron 3567</td><td>Notebook</td><td>459.0</td></tr><tr><td>180</td><td>Acer</td><td>Aspire A315-51</td><td>Notebook</td><td>449.0</td></tr><tr><td>181</td><td>MSI</td><td>GT80S 6QF-074US</td><td>Gaming</td><td>2799.0</td></tr><tr><td>182</td><td>Lenovo</td><td>V310-15IKB (i5-7200U/8GB/1TB</td><td>Notebook</td><td>813.0</td></tr><tr><td>183</td><td>HP</td><td>Spectre x360</td><td>2 in 1 Convertible</td><td>1499.0</td></tr><tr><td>184</td><td>Dell</td><td>Inspiron 5570</td><td>Notebook</td><td>1049.0</td></tr><tr><td>185</td><td>Dell</td><td>XPS 13</td><td>Ultrabook</td><td>1399.0</td></tr><tr><td>186</td><td>Lenovo</td><td>Yoga 920-13IKB</td><td>2 in 1 Convertible</td><td>1849.0</td></tr><tr><td>187</td><td>Toshiba</td><td>Satellite Pro</td><td>Notebook</td><td>793.0</td></tr><tr><td>188</td><td>Xiaomi</td><td>Mi Notebook</td><td>Notebook</td><td>1199.0</td></tr><tr><td>189</td><td>Dell</td><td>Inspiron 7773</td><td>Notebook</td><td>1549.0</td></tr><tr><td>190</td><td>Dell</td><td>XPS 15</td><td>Notebook</td><td>2397.0</td></tr><tr><td>191</td><td>Lenovo</td><td>Legion Y520-15IKBN</td><td>Gaming</td><td>779.0</td></tr><tr><td>192</td><td>Acer</td><td>Swift 7</td><td>Ultrabook</td><td>989.0</td></tr><tr><td>193</td><td>Dell</td><td>Inspiron 5770</td><td>Notebook</td><td>1085.0</td></tr><tr><td>194</td><td>Lenovo</td><td>Thinkpad Yoga</td><td>2 in 1 Convertible</td><td>2824.0</td></tr><tr><td>195</td><td>Vero</td><td>K147 (N3350/4GB/32GB/FHD/W10)</td><td>Notebook</td><td>260.0</td></tr><tr><td>196</td><td>Xiaomi</td><td>Mi Notebook</td><td>Ultrabook</td><td>999.9</td></tr><tr><td>197</td><td>Lenovo</td><td>IdeaPad 320-17IKBR</td><td>Notebook</td><td>698.0</td></tr><tr><td>198</td><td>Dell</td><td>Inspiron 5379</td><td>2 in 1 Convertible</td><td>839.0</td></tr><tr><td>199</td><td>HP</td><td>ProBook 470</td><td>Notebook</td><td>914.0</td></tr><tr><td>200</td><td>Razer</td><td>Blade Pro</td><td>Gaming</td><td>6099.0</td></tr><tr><td>201</td><td>HP</td><td>ProBook 430</td><td>Notebook</td><td>959.0</td></tr><tr><td>202</td><td>HP</td><td>Omen 17-W295</td><td>Gaming</td><td>1379.0</td></tr></tbody></table></div>"
      ]
     },
     "metadata": {
      "application/vnd.databricks.v1+output": {
       "addedWidgets": {},
       "aggData": [],
       "aggError": "",
       "aggOverflow": false,
       "aggSchema": [],
       "aggSeriesLimitReached": false,
       "aggType": "",
       "arguments": {},
       "columnCustomDisplayInfos": {},
       "data": [
        [
         21,
         "Asus",
         "Vivobook E200HA",
         "Netbook",
         191.9
        ],
        [
         22,
         "Lenovo",
         "Legion Y520-15IKBN",
         "Gaming",
         999
        ],
        [
         23,
         "HP",
         "255 G6",
         "Notebook",
         258
        ],
        [
         24,
         "Dell",
         "Inspiron 5379",
         "2 in 1 Convertible",
         819
        ],
        [
         25,
         "HP",
         "15-BS101nv (i7-8550U/8GB/256GB/FHD/W10)",
         "Ultrabook",
         659
        ],
        [
         26,
         "Dell",
         "Inspiron 3567",
         "Notebook",
         418.64
        ],
        [
         27,
         "Apple",
         "MacBook Air",
         "Ultrabook",
         1099
        ],
        [
         28,
         "Dell",
         "Inspiron 5570",
         "Notebook",
         800
        ],
        [
         29,
         "Dell",
         "Latitude 5590",
         "Ultrabook",
         1298
        ],
        [
         30,
         "HP",
         "ProBook 470",
         "Notebook",
         896
        ],
        [
         31,
         "Chuwi",
         "LapBook 15.6\"\"",
         "Notebook",
         244.99
        ],
        [
         32,
         "Asus",
         "E402WA-GA010T (E2-6110/2GB/32GB/W10)",
         "Notebook",
         199
        ],
        [
         33,
         "HP",
         "17-ak001nv (A6-9220/4GB/500GB/Radeon",
         "Notebook",
         439
        ],
        [
         34,
         "Dell",
         "XPS 13",
         "Ultrabook",
         1869
        ],
        [
         35,
         "Apple",
         "MacBook Air",
         "Ultrabook",
         998
        ],
        [
         36,
         "Lenovo",
         "IdeaPad 120S-14IAP",
         "Notebook",
         249
        ],
        [
         37,
         "Acer",
         "Aspire 3",
         "Notebook",
         367
        ],
        [
         38,
         "Dell",
         "Inspiron 5770",
         "Notebook",
         979
        ],
        [
         39,
         "HP",
         "250 G6",
         "Notebook",
         488.69
        ],
        [
         40,
         "HP",
         "ProBook 450",
         "Notebook",
         879
        ],
        [
         1,
         "Apple",
         "MacBook Pro",
         "Ultrabook",
         1339.69
        ],
        [
         2,
         "Apple",
         "Macbook Air",
         "Ultrabook",
         898.94
        ],
        [
         3,
         "HP",
         "250 G6",
         "Notebook",
         575
        ],
        [
         4,
         "Apple",
         "MacBook Pro",
         "Ultrabook",
         2537.45
        ],
        [
         5,
         "Apple",
         "MacBook Pro",
         "Ultrabook",
         1803.6
        ],
        [
         6,
         "Acer",
         "Aspire 3",
         "Notebook",
         400
        ],
        [
         7,
         "Apple",
         "MacBook Pro",
         "Ultrabook",
         2139.97
        ],
        [
         8,
         "Apple",
         "Macbook Air",
         "Ultrabook",
         1158.7
        ],
        [
         9,
         "Asus",
         "ZenBook UX430UN",
         "Ultrabook",
         1495
        ],
        [
         10,
         "Acer",
         "Swift 3",
         "Ultrabook",
         770
        ],
        [
         11,
         "HP",
         "250 G6",
         "Notebook",
         393.9
        ],
        [
         12,
         "HP",
         "250 G6",
         "Notebook",
         344.99
        ],
        [
         13,
         "Apple",
         "MacBook Pro",
         "Ultrabook",
         2439.97
        ],
        [
         14,
         "Dell",
         "Inspiron 3567",
         "Notebook",
         498.9
        ],
        [
         15,
         "Apple",
         "MacBook 12\"\"",
         "Ultrabook",
         1262.4
        ],
        [
         16,
         "Apple",
         "MacBook Pro",
         "Ultrabook",
         1518.55
        ],
        [
         17,
         "Dell",
         "Inspiron 3567",
         "Notebook",
         745
        ],
        [
         18,
         "Apple",
         "MacBook Pro",
         "Ultrabook",
         2858
        ],
        [
         19,
         "Lenovo",
         "IdeaPad 320-15IKB",
         "Notebook",
         499
        ],
        [
         20,
         "Dell",
         "XPS 13",
         "Ultrabook",
         979
        ],
        [
         60,
         "Asus",
         "X541UA-DM1897 (i3-6006U/4GB/256GB/FHD/Linux)",
         "Notebook",
         415
        ],
        [
         61,
         "Dell",
         "Inspiron 5770",
         "Notebook",
         1299
        ],
        [
         62,
         "Dell",
         "Vostro 5471",
         "Ultrabook",
         879
        ],
        [
         63,
         "Lenovo",
         "IdeaPad 520S-14IKB",
         "Notebook",
         599
        ],
        [
         64,
         "Asus",
         "UX410UA-GV350T (i5-8250U/8GB/256GB/FHD/W10)",
         "Notebook",
         941
        ],
        [
         66,
         "HP",
         "250 G6",
         "Notebook",
         690
        ],
        [
         67,
         "Asus",
         "ZenBook Pro",
         "Ultrabook",
         1983
        ],
        [
         68,
         "HP",
         "250 G6",
         "Notebook",
         438.69
        ],
        [
         69,
         "HP",
         "Stream 14-AX040wm",
         "Notebook",
         229
        ],
        [
         70,
         "Lenovo",
         "V310-15ISK (i5-7200U/4GB/1TB/FHD/W10)",
         "Notebook",
         549
        ],
        [
         71,
         "Asus",
         "FX753VE-GC093 (i7-7700HQ/12GB/1TB/GeForce",
         "Gaming",
         949
        ],
        [
         72,
         "Microsoft",
         "Surface Laptop",
         "Ultrabook",
         1089
        ],
        [
         73,
         "Dell",
         "Inspiron 5370",
         "Ultrabook",
         955
        ],
        [
         74,
         "Dell",
         "Inspiron 5570",
         "Notebook",
         870
        ],
        [
         75,
         "MSI",
         "GL72M 7RDX",
         "Gaming",
         1095
        ],
        [
         76,
         "Acer",
         "Aspire E5-475",
         "Notebook",
         389
        ],
        [
         77,
         "Asus",
         "FX503VD-E4022T (i7-7700HQ/8GB/1TB/GeForce",
         "Gaming",
         949
        ],
        [
         78,
         "Lenovo",
         "IdeaPad 320-15IKBN",
         "Notebook",
         519
        ],
        [
         79,
         "Dell",
         "Inspiron 5570",
         "Notebook",
         855
        ],
        [
         80,
         "Acer",
         "Aspire A515-51G-32MX",
         "Notebook",
         530
        ],
        [
         41,
         "Asus",
         "X540UA-DM186 (i3-6006U/4GB/1TB/FHD/Linux)",
         "Notebook",
         389
        ],
        [
         42,
         "Dell",
         "Inspiron 7577",
         "Gaming",
         1499
        ],
        [
         43,
         "Asus",
         "X542UQ-GO005 (i5-7200U/8GB/1TB/GeForce",
         "Notebook",
         522.99
        ],
        [
         44,
         "Acer",
         "Aspire A515-51G",
         "Notebook",
         682
        ],
        [
         45,
         "Dell",
         "Inspiron 7773",
         "2 in 1 Convertible",
         999
        ],
        [
         46,
         "Apple",
         "MacBook Pro",
         "Ultrabook",
         1419
        ],
        [
         47,
         "Lenovo",
         "IdeaPad 320-15ISK",
         "Notebook",
         369
        ],
        [
         48,
         "Asus",
         "Rog Strix",
         "Gaming",
         1299
        ],
        [
         49,
         "Dell",
         "Inspiron 3567",
         "Notebook",
         639
        ],
        [
         50,
         "Asus",
         "X751NV-TY001T (N4200/4GB/1TB/GeForce",
         "Notebook",
         466
        ],
        [
         51,
         "Lenovo",
         "Yoga Book",
         "2 in 1 Convertible",
         319
        ],
        [
         52,
         "Acer",
         "Aspire A515-51G",
         "Notebook",
         841
        ],
        [
         53,
         "HP",
         "255 G6",
         "Notebook",
         398.49
        ],
        [
         54,
         "HP",
         "ProBook 430",
         "Notebook",
         1103
        ],
        [
         55,
         "Acer",
         "Aspire 3",
         "Notebook",
         384
        ],
        [
         56,
         "Dell",
         "Inspiron 3576",
         "Notebook",
         767.8
        ],
        [
         57,
         "HP",
         "15-bs002nv (i3-6006U/4GB/128GB/FHD/W10)",
         "Notebook",
         439
        ],
        [
         58,
         "Asus",
         "VivoBook Max",
         "Notebook",
         586.19
        ],
        [
         59,
         "MSI",
         "GS73VR 7RG",
         "Gaming",
         2449
        ],
        [
         102,
         "HP",
         "Omen 15-ce007nv",
         "Gaming",
         1249
        ],
        [
         103,
         "HP",
         "15-bs017nv (i7-7500U/8GB/256GB/Radeon",
         "Notebook",
         719
        ],
        [
         104,
         "HP",
         "15-bw000nv (E2-9000e/4GB/500GB/Radeon",
         "Notebook",
         349
        ],
        [
         105,
         "Dell",
         "Inspiron 3576",
         "Notebook",
         647
        ],
        [
         106,
         "HP",
         "Envy 13-ad009n",
         "Ultrabook",
         1119
        ],
        [
         107,
         "Microsoft",
         "Surface Laptop",
         "Ultrabook",
         1340
        ],
        [
         108,
         "HP",
         "Pavilion 14-BK001nv",
         "Notebook",
         659
        ],
        [
         109,
         "Lenovo",
         "Ideapad 310-15ISK",
         "Notebook",
         414.9
        ],
        [
         110,
         "Asus",
         "UX430UQ-GV209R (i7-7500U/8GB/256GB/GeForce",
         "Ultrabook",
         1193
        ],
        [
         111,
         "MSI",
         "GP62M 7REX",
         "Gaming",
         1299
        ],
        [
         112,
         "Lenovo",
         "Thinkpad T470",
         "Notebook",
         1480
        ],
        [
         113,
         "Asus",
         "VivoBook S15",
         "Ultrabook",
         1262
        ],
        [
         114,
         "Dell",
         "XPS 13",
         "Ultrabook",
         1379
        ],
        [
         115,
         "Lenovo",
         "ThinkPad Yoga",
         "2 in 1 Convertible",
         1399
        ],
        [
         116,
         "HP",
         "Probook 440",
         "Notebook",
         722
        ],
        [
         117,
         "Dell",
         "XPS 13",
         "Ultrabook",
         1629
        ],
        [
         118,
         "HP",
         "Spectre x360",
         "2 in 1 Convertible",
         1398.99
        ],
        [
         119,
         "HP",
         "Probook 440",
         "Notebook",
         1084
        ],
        [
         120,
         "Dell",
         "Inspiron 7570",
         "Notebook",
         1130.33
        ],
        [
         121,
         "Asus",
         "X705UV-BX074T (i3-6006U/4GB/1TB/GeForce",
         "Notebook",
         564
        ],
        [
         81,
         "HP",
         "ProBook 470",
         "Notebook",
         977
        ],
        [
         82,
         "Dell",
         "Latitude 5590",
         "Ultrabook",
         1096.16
        ],
        [
         83,
         "Apple",
         "MacBook 12\"\"",
         "Ultrabook",
         1510
        ],
        [
         84,
         "HP",
         "ProBook 440",
         "Notebook",
         860
        ],
        [
         85,
         "Lenovo",
         "IdeaPad 320-15AST",
         "Notebook",
         399
        ],
        [
         86,
         "Acer",
         "Aspire 3",
         "Notebook",
         395
        ],
        [
         87,
         "Dell",
         "Inspiron 7577",
         "Gaming",
         1349
        ],
        [
         88,
         "HP",
         "Pavilion 15-CK000nv",
         "Ultrabook",
         699
        ],
        [
         89,
         "HP",
         "250 G6",
         "Notebook",
         598.99
        ],
        [
         90,
         "Asus",
         "FX503VM-E4007T (i7-7700HQ/16GB/1TB",
         "Gaming",
         1449
        ],
        [
         91,
         "Dell",
         "XPS 13",
         "Ultrabook",
         1649
        ],
        [
         92,
         "Asus",
         "FX550IK-DM018T (FX-9830P/8GB/1TB/Radeon",
         "Gaming",
         699
        ],
        [
         93,
         "Acer",
         "Aspire 5",
         "Notebook",
         689
        ],
        [
         94,
         "HP",
         "Probook 430",
         "Notebook",
         1197
        ],
        [
         95,
         "Dell",
         "Inspiron 7577",
         "Gaming",
         1195
        ],
        [
         96,
         "Asus",
         "Zenbook UX430UA",
         "Ultrabook",
         1049
        ],
        [
         97,
         "Acer",
         "Spin 5",
         "2 in 1 Convertible",
         847
        ],
        [
         98,
         "Dell",
         "Inspiron 3567",
         "Notebook",
         599.9
        ],
        [
         99,
         "Dell",
         "Inspiron 3567",
         "Notebook",
         485
        ],
        [
         100,
         "Asus",
         "X541UV-DM1439T (i3-7100U/6GB/256GB/GeForce",
         "Notebook",
         577
        ],
        [
         122,
         "Asus",
         "VivoBook S15",
         "Notebook",
         1118
        ],
        [
         123,
         "Acer",
         "Spin 3",
         "Notebook",
         479
        ],
        [
         124,
         "MSI",
         "GS63VR 7RG",
         "Gaming",
         2241.5
        ],
        [
         125,
         "Lenovo",
         "IdeaPad 320-15IKBN",
         "Notebook",
         629
        ],
        [
         126,
         "HP",
         "Probook 470",
         "Notebook",
         1271
        ],
        [
         127,
         "Acer",
         "Aspire 3",
         "Notebook",
         451
        ],
        [
         128,
         "HP",
         "250 G6",
         "Notebook",
         259
        ],
        [
         129,
         "HP",
         "Probook 440",
         "Notebook",
         812
        ],
        [
         130,
         "Asus",
         "E402WA-GA007T (E2-6110/4GB/64GB/W10",
         "Notebook",
         277.99
        ],
        [
         131,
         "Dell",
         "Inspiron 5770",
         "Notebook",
         1396
        ],
        [
         132,
         "HP",
         "ProBook 470",
         "Notebook",
         928
        ],
        [
         133,
         "Dell",
         "Inspiron 5567",
         "Notebook",
         638.99
        ],
        [
         134,
         "Dell",
         "Inspiron 3567",
         "Notebook",
         449
        ],
        [
         135,
         "Acer",
         "Swift 3",
         "Ultrabook",
         884
        ],
        [
         136,
         "Acer",
         "Aspire A515-51G-37JS",
         "Notebook",
         572
        ],
        [
         137,
         "HP",
         "15-BS078nr (i7-7500U/8GB/1TB/W10)",
         "Notebook",
         598
        ],
        [
         138,
         "HP",
         "Probook 440",
         "Notebook",
         988
        ],
        [
         139,
         "Lenovo",
         "V110-15IAP (N3350/4GB/1TB/No",
         "Notebook",
         252.36
        ],
        [
         140,
         "Asus",
         "FX753VD-GC086T (i5-7300HQ/8GB/1TB",
         "Gaming",
         938
        ],
        [
         141,
         "Lenovo",
         "IdeaPad 320-15IKBN",
         "Notebook",
         499
        ],
        [
         142,
         "HP",
         "Envy 13-AD007nv",
         "Notebook",
         699
        ],
        [
         143,
         "Acer",
         "Aspire 5",
         "Notebook",
         655
        ],
        [
         144,
         "Lenovo",
         "ThinkPad E480",
         "Notebook",
         1116.02
        ],
        [
         145,
         "Lenovo",
         "Legion Y520-15IKBN",
         "Gaming",
         869
        ],
        [
         146,
         "Toshiba",
         "Satellite Pro",
         "Notebook",
         602
        ],
        [
         147,
         "HP",
         "255 G6",
         "Notebook",
         369
        ],
        [
         148,
         "Asus",
         "ZenBook UX430UA",
         "Ultrabook",
         1099
        ],
        [
         149,
         "HP",
         "EliteBook Folio",
         "Ultrabook",
         2014
        ],
        [
         150,
         "Asus",
         "X541NA (N3350/4GB/1TB/FHD/W10)",
         "Notebook",
         344
        ],
        [
         151,
         "MSI",
         "GE72MVR 7RG",
         "Gaming",
         2029
        ],
        [
         152,
         "Acer",
         "Aspire A315-51",
         "Notebook",
         447
        ],
        [
         153,
         "Dell",
         "Inspiron 5577",
         "Gaming",
         1249.26
        ],
        [
         154,
         "Dell",
         "Inspiron 7567",
         "Gaming",
         899
        ],
        [
         155,
         "Lenovo",
         "V110-15IKB (i5-7200U/4GB/128GB/W10)",
         "Notebook",
         498
        ],
        [
         156,
         "MSI",
         "GE73VR 7RE",
         "Gaming",
         1890
        ],
        [
         157,
         "HP",
         "EliteBook 840",
         "Ultrabook",
         1082
        ],
        [
         158,
         "HP",
         "15-BS103nv (i5-8250U/6GB/256GB/Radeon",
         "Notebook",
         619
        ],
        [
         159,
         "Lenovo",
         "Yoga 520-14IKB",
         "2 in 1 Convertible",
         629
        ],
        [
         160,
         "Asus",
         "ZenBook Flip",
         "2 in 1 Convertible",
         1315
        ],
        [
         161,
         "Dell",
         "Inspiron 5579",
         "2 in 1 Convertible",
         1049
        ],
        [
         163,
         "Toshiba",
         "Satellite Pro",
         "Notebook",
         447
        ],
        [
         164,
         "Asus",
         "X555BP-XX180T (A9-9420/4GB/1TB/Radeon",
         "Notebook",
         403
        ],
        [
         165,
         "Acer",
         "Aspire A517-51G",
         "Notebook",
         805
        ],
        [
         166,
         "Dell",
         "Inspiron 3576",
         "Notebook",
         728
        ],
        [
         167,
         "Lenovo",
         "Legion Y520-15IKBN",
         "Gaming",
         1079
        ],
        [
         168,
         "Acer",
         "Aspire A315-31",
         "Notebook",
         348
        ],
        [
         169,
         "MSI",
         "GE63VR 7RE",
         "Gaming",
         1799
        ],
        [
         170,
         "Acer",
         "Aspire 3",
         "Notebook",
         363.51
        ],
        [
         171,
         "Dell",
         "Inspiron 5577",
         "Gaming",
         1060.49
        ],
        [
         172,
         "Acer",
         "Aspire A517-51G",
         "Notebook",
         854
        ],
        [
         173,
         "HP",
         "ProBook 430",
         "Notebook",
         754
        ],
        [
         174,
         "Huawei",
         "MateBook X",
         "Ultrabook",
         1349
        ],
        [
         175,
         "HP",
         "17-bs001nv (i5-7200U/6GB/2TB/Radeon",
         "Notebook",
         699
        ],
        [
         176,
         "Lenovo",
         "IdeaPad 320-15AST",
         "Notebook",
         309
        ],
        [
         177,
         "Toshiba",
         "Satellite Pro",
         "Notebook",
         489
        ],
        [
         178,
         "HP",
         "ProBook 470",
         "Notebook",
         923
        ],
        [
         179,
         "Dell",
         "Inspiron 3567",
         "Notebook",
         459
        ],
        [
         180,
         "Acer",
         "Aspire A315-51",
         "Notebook",
         449
        ],
        [
         181,
         "MSI",
         "GT80S 6QF-074US",
         "Gaming",
         2799
        ],
        [
         182,
         "Lenovo",
         "V310-15IKB (i5-7200U/8GB/1TB",
         "Notebook",
         813
        ],
        [
         183,
         "HP",
         "Spectre x360",
         "2 in 1 Convertible",
         1499
        ],
        [
         184,
         "Dell",
         "Inspiron 5570",
         "Notebook",
         1049
        ],
        [
         185,
         "Dell",
         "XPS 13",
         "Ultrabook",
         1399
        ],
        [
         186,
         "Lenovo",
         "Yoga 920-13IKB",
         "2 in 1 Convertible",
         1849
        ],
        [
         187,
         "Toshiba",
         "Satellite Pro",
         "Notebook",
         793
        ],
        [
         188,
         "Xiaomi",
         "Mi Notebook",
         "Notebook",
         1199
        ],
        [
         189,
         "Dell",
         "Inspiron 7773",
         "Notebook",
         1549
        ],
        [
         190,
         "Dell",
         "XPS 15",
         "Notebook",
         2397
        ],
        [
         191,
         "Lenovo",
         "Legion Y520-15IKBN",
         "Gaming",
         779
        ],
        [
         192,
         "Acer",
         "Swift 7",
         "Ultrabook",
         989
        ],
        [
         193,
         "Dell",
         "Inspiron 5770",
         "Notebook",
         1085
        ],
        [
         194,
         "Lenovo",
         "Thinkpad Yoga",
         "2 in 1 Convertible",
         2824
        ],
        [
         195,
         "Vero",
         "K147 (N3350/4GB/32GB/FHD/W10)",
         "Notebook",
         260
        ],
        [
         196,
         "Xiaomi",
         "Mi Notebook",
         "Ultrabook",
         999.9
        ],
        [
         197,
         "Lenovo",
         "IdeaPad 320-17IKBR",
         "Notebook",
         698
        ],
        [
         198,
         "Dell",
         "Inspiron 5379",
         "2 in 1 Convertible",
         839
        ],
        [
         199,
         "HP",
         "ProBook 470",
         "Notebook",
         914
        ],
        [
         200,
         "Razer",
         "Blade Pro",
         "Gaming",
         6099
        ],
        [
         201,
         "HP",
         "ProBook 430",
         "Notebook",
         959
        ],
        [
         202,
         "HP",
         "Omen 17-W295",
         "Gaming",
         1379
        ]
       ],
       "datasetInfos": [],
       "dbfsResultPath": null,
       "isJsonSchema": true,
       "metadata": {},
       "overflow": false,
       "plotOptions": {
        "customPlotOptions": {},
        "displayType": "table",
        "pivotAggregation": null,
        "pivotColumns": null,
        "xColumns": null,
        "yColumns": null
       },
       "removedWidgets": [],
       "schema": [
        {
         "metadata": "{}",
         "name": "Id",
         "type": "\"integer\""
        },
        {
         "metadata": "{}",
         "name": "Company",
         "type": "\"string\""
        },
        {
         "metadata": "{}",
         "name": "Product",
         "type": "\"string\""
        },
        {
         "metadata": "{}",
         "name": "TypeName",
         "type": "\"string\""
        },
        {
         "metadata": "{}",
         "name": "Price_euros",
         "type": "\"float\""
        }
       ],
       "type": "table"
      }
     },
     "output_type": "display_data"
    }
   ],
   "source": [
    "# Read data as stream not batch\n",
    "#load: the dir path we read data from\n",
    "labtob_data_stream = spark.readStream.format(\"csv\")\\\n",
    "                .option(\"header\", \"true\")\\\n",
    "                .schema(schema)\\\n",
    "                .load(\"dbfs:/FileStore/shared_uploads/streaming\")\n",
    "labtob_data_stream.display()"
   ]
  },
  {
   "cell_type": "code",
   "execution_count": null,
   "metadata": {
    "application/vnd.databricks.v1+cell": {
     "cellMetadata": {},
     "inputWidgets": {},
     "nuid": "4575c324-ff6a-482f-af2e-54e1fb3866d0",
     "showTitle": false,
     "title": ""
    }
   },
   "outputs": [],
   "source": [
    "\"\"\"\n",
    "Stream jobs continues running & monitoring input for new records to process\n",
    "\"\"\""
   ]
  },
  {
   "cell_type": "code",
   "execution_count": null,
   "metadata": {
    "application/vnd.databricks.v1+cell": {
     "cellMetadata": {
      "byteLimit": 2048000,
      "rowLimit": 10000
     },
     "inputWidgets": {},
     "nuid": "1ee78c97-475d-442f-880d-f3575d3cc8fa",
     "showTitle": false,
     "title": ""
    }
   },
   "outputs": [
    {
     "name": "stdout",
     "output_type": "stream",
     "text": [
      "Is laptobs data streamed? True\n"
     ]
    }
   ],
   "source": [
    "print(\"Is laptobs data streamed? {}\".format(labtob_data_stream.isStreaming))"
   ]
  },
  {
   "cell_type": "code",
   "execution_count": null,
   "metadata": {
    "application/vnd.databricks.v1+cell": {
     "cellMetadata": {
      "byteLimit": 2048000,
      "rowLimit": 10000
     },
     "inputWidgets": {},
     "nuid": "6af4a48c-8b62-4480-93f8-993c2ff102e8",
     "showTitle": false,
     "title": ""
    }
   },
   "outputs": [],
   "source": [
    "from pyspark.sql.functions import round"
   ]
  },
  {
   "cell_type": "code",
   "execution_count": null,
   "metadata": {
    "application/vnd.databricks.v1+cell": {
     "cellMetadata": {
      "byteLimit": 2048000,
      "rowLimit": 10000
     },
     "inputWidgets": {},
     "nuid": "0d8337b9-d6ca-485b-9098-81a791ab7ebb",
     "showTitle": false,
     "title": ""
    }
   },
   "outputs": [
    {
     "data": {
      "text/html": [
       "<style scoped>\n",
       "  .table-result-container {\n",
       "    max-height: 300px;\n",
       "    overflow: auto;\n",
       "  }\n",
       "  table, th, td {\n",
       "    border: 1px solid black;\n",
       "    border-collapse: collapse;\n",
       "  }\n",
       "  th, td {\n",
       "    padding: 5px;\n",
       "  }\n",
       "  th {\n",
       "    text-align: left;\n",
       "  }\n",
       "</style><div class='table-result-container'><table class='table-result'><thead style='background-color: white'><tr><th>Id</th><th>Company</th><th>Product</th><th>TypeName</th><th>Price_euros</th><th>price_usd</th></tr></thead><tbody><tr><td>60</td><td>Asus</td><td>X541UA-DM1897 (i3-6006U/4GB/256GB/FHD/Linux)</td><td>Notebook</td><td>415.0</td><td>622.5</td></tr><tr><td>61</td><td>Dell</td><td>Inspiron 5770</td><td>Notebook</td><td>1299.0</td><td>1948.5</td></tr><tr><td>62</td><td>Dell</td><td>Vostro 5471</td><td>Ultrabook</td><td>879.0</td><td>1318.5</td></tr><tr><td>63</td><td>Lenovo</td><td>IdeaPad 520S-14IKB</td><td>Notebook</td><td>599.0</td><td>898.5</td></tr><tr><td>64</td><td>Asus</td><td>UX410UA-GV350T (i5-8250U/8GB/256GB/FHD/W10)</td><td>Notebook</td><td>941.0</td><td>1411.5</td></tr><tr><td>66</td><td>HP</td><td>250 G6</td><td>Notebook</td><td>690.0</td><td>1035.0</td></tr><tr><td>67</td><td>Asus</td><td>ZenBook Pro</td><td>Ultrabook</td><td>1983.0</td><td>2974.5</td></tr><tr><td>68</td><td>HP</td><td>250 G6</td><td>Notebook</td><td>438.69</td><td>658.04</td></tr><tr><td>69</td><td>HP</td><td>Stream 14-AX040wm</td><td>Notebook</td><td>229.0</td><td>343.5</td></tr><tr><td>70</td><td>Lenovo</td><td>V310-15ISK (i5-7200U/4GB/1TB/FHD/W10)</td><td>Notebook</td><td>549.0</td><td>823.5</td></tr><tr><td>71</td><td>Asus</td><td>FX753VE-GC093 (i7-7700HQ/12GB/1TB/GeForce</td><td>Gaming</td><td>949.0</td><td>1423.5</td></tr><tr><td>72</td><td>Microsoft</td><td>Surface Laptop</td><td>Ultrabook</td><td>1089.0</td><td>1633.5</td></tr><tr><td>73</td><td>Dell</td><td>Inspiron 5370</td><td>Ultrabook</td><td>955.0</td><td>1432.5</td></tr><tr><td>74</td><td>Dell</td><td>Inspiron 5570</td><td>Notebook</td><td>870.0</td><td>1305.0</td></tr><tr><td>75</td><td>MSI</td><td>GL72M 7RDX</td><td>Gaming</td><td>1095.0</td><td>1642.5</td></tr><tr><td>76</td><td>Acer</td><td>Aspire E5-475</td><td>Notebook</td><td>389.0</td><td>583.5</td></tr><tr><td>77</td><td>Asus</td><td>FX503VD-E4022T (i7-7700HQ/8GB/1TB/GeForce</td><td>Gaming</td><td>949.0</td><td>1423.5</td></tr><tr><td>78</td><td>Lenovo</td><td>IdeaPad 320-15IKBN</td><td>Notebook</td><td>519.0</td><td>778.5</td></tr><tr><td>79</td><td>Dell</td><td>Inspiron 5570</td><td>Notebook</td><td>855.0</td><td>1282.5</td></tr><tr><td>80</td><td>Acer</td><td>Aspire A515-51G-32MX</td><td>Notebook</td><td>530.0</td><td>795.0</td></tr><tr><td>102</td><td>HP</td><td>Omen 15-ce007nv</td><td>Gaming</td><td>1249.0</td><td>1873.5</td></tr><tr><td>103</td><td>HP</td><td>15-bs017nv (i7-7500U/8GB/256GB/Radeon</td><td>Notebook</td><td>719.0</td><td>1078.5</td></tr><tr><td>104</td><td>HP</td><td>15-bw000nv (E2-9000e/4GB/500GB/Radeon</td><td>Notebook</td><td>349.0</td><td>523.5</td></tr><tr><td>105</td><td>Dell</td><td>Inspiron 3576</td><td>Notebook</td><td>647.0</td><td>970.5</td></tr><tr><td>106</td><td>HP</td><td>Envy 13-ad009n</td><td>Ultrabook</td><td>1119.0</td><td>1678.5</td></tr><tr><td>107</td><td>Microsoft</td><td>Surface Laptop</td><td>Ultrabook</td><td>1340.0</td><td>2010.0</td></tr><tr><td>108</td><td>HP</td><td>Pavilion 14-BK001nv</td><td>Notebook</td><td>659.0</td><td>988.5</td></tr><tr><td>109</td><td>Lenovo</td><td>Ideapad 310-15ISK</td><td>Notebook</td><td>414.9</td><td>622.35</td></tr><tr><td>110</td><td>Asus</td><td>UX430UQ-GV209R (i7-7500U/8GB/256GB/GeForce</td><td>Ultrabook</td><td>1193.0</td><td>1789.5</td></tr><tr><td>111</td><td>MSI</td><td>GP62M 7REX</td><td>Gaming</td><td>1299.0</td><td>1948.5</td></tr><tr><td>112</td><td>Lenovo</td><td>Thinkpad T470</td><td>Notebook</td><td>1480.0</td><td>2220.0</td></tr><tr><td>113</td><td>Asus</td><td>VivoBook S15</td><td>Ultrabook</td><td>1262.0</td><td>1893.0</td></tr><tr><td>114</td><td>Dell</td><td>XPS 13</td><td>Ultrabook</td><td>1379.0</td><td>2068.5</td></tr><tr><td>115</td><td>Lenovo</td><td>ThinkPad Yoga</td><td>2 in 1 Convertible</td><td>1399.0</td><td>2098.5</td></tr><tr><td>116</td><td>HP</td><td>Probook 440</td><td>Notebook</td><td>722.0</td><td>1083.0</td></tr><tr><td>117</td><td>Dell</td><td>XPS 13</td><td>Ultrabook</td><td>1629.0</td><td>2443.5</td></tr><tr><td>118</td><td>HP</td><td>Spectre x360</td><td>2 in 1 Convertible</td><td>1398.99</td><td>2098.48</td></tr><tr><td>119</td><td>HP</td><td>Probook 440</td><td>Notebook</td><td>1084.0</td><td>1626.0</td></tr><tr><td>120</td><td>Dell</td><td>Inspiron 7570</td><td>Notebook</td><td>1130.33</td><td>1695.49</td></tr><tr><td>121</td><td>Asus</td><td>X705UV-BX074T (i3-6006U/4GB/1TB/GeForce</td><td>Notebook</td><td>564.0</td><td>846.0</td></tr><tr><td>41</td><td>Asus</td><td>X540UA-DM186 (i3-6006U/4GB/1TB/FHD/Linux)</td><td>Notebook</td><td>389.0</td><td>583.5</td></tr><tr><td>42</td><td>Dell</td><td>Inspiron 7577</td><td>Gaming</td><td>1499.0</td><td>2248.5</td></tr><tr><td>43</td><td>Asus</td><td>X542UQ-GO005 (i5-7200U/8GB/1TB/GeForce</td><td>Notebook</td><td>522.99</td><td>784.48</td></tr><tr><td>44</td><td>Acer</td><td>Aspire A515-51G</td><td>Notebook</td><td>682.0</td><td>1023.0</td></tr><tr><td>45</td><td>Dell</td><td>Inspiron 7773</td><td>2 in 1 Convertible</td><td>999.0</td><td>1498.5</td></tr><tr><td>46</td><td>Apple</td><td>MacBook Pro</td><td>Ultrabook</td><td>1419.0</td><td>2128.5</td></tr><tr><td>47</td><td>Lenovo</td><td>IdeaPad 320-15ISK</td><td>Notebook</td><td>369.0</td><td>553.5</td></tr><tr><td>48</td><td>Asus</td><td>Rog Strix</td><td>Gaming</td><td>1299.0</td><td>1948.5</td></tr><tr><td>49</td><td>Dell</td><td>Inspiron 3567</td><td>Notebook</td><td>639.0</td><td>958.5</td></tr><tr><td>50</td><td>Asus</td><td>X751NV-TY001T (N4200/4GB/1TB/GeForce</td><td>Notebook</td><td>466.0</td><td>699.0</td></tr><tr><td>51</td><td>Lenovo</td><td>Yoga Book</td><td>2 in 1 Convertible</td><td>319.0</td><td>478.5</td></tr><tr><td>52</td><td>Acer</td><td>Aspire A515-51G</td><td>Notebook</td><td>841.0</td><td>1261.5</td></tr><tr><td>53</td><td>HP</td><td>255 G6</td><td>Notebook</td><td>398.49</td><td>597.73</td></tr><tr><td>54</td><td>HP</td><td>ProBook 430</td><td>Notebook</td><td>1103.0</td><td>1654.5</td></tr><tr><td>55</td><td>Acer</td><td>Aspire 3</td><td>Notebook</td><td>384.0</td><td>576.0</td></tr><tr><td>56</td><td>Dell</td><td>Inspiron 3576</td><td>Notebook</td><td>767.8</td><td>1151.7</td></tr><tr><td>57</td><td>HP</td><td>15-bs002nv (i3-6006U/4GB/128GB/FHD/W10)</td><td>Notebook</td><td>439.0</td><td>658.5</td></tr><tr><td>58</td><td>Asus</td><td>VivoBook Max</td><td>Notebook</td><td>586.19</td><td>879.29</td></tr><tr><td>59</td><td>MSI</td><td>GS73VR 7RG</td><td>Gaming</td><td>2449.0</td><td>3673.5</td></tr><tr><td>21</td><td>Asus</td><td>Vivobook E200HA</td><td>Netbook</td><td>191.9</td><td>287.85</td></tr><tr><td>22</td><td>Lenovo</td><td>Legion Y520-15IKBN</td><td>Gaming</td><td>999.0</td><td>1498.5</td></tr><tr><td>23</td><td>HP</td><td>255 G6</td><td>Notebook</td><td>258.0</td><td>387.0</td></tr><tr><td>24</td><td>Dell</td><td>Inspiron 5379</td><td>2 in 1 Convertible</td><td>819.0</td><td>1228.5</td></tr><tr><td>25</td><td>HP</td><td>15-BS101nv (i7-8550U/8GB/256GB/FHD/W10)</td><td>Ultrabook</td><td>659.0</td><td>988.5</td></tr><tr><td>26</td><td>Dell</td><td>Inspiron 3567</td><td>Notebook</td><td>418.64</td><td>627.96</td></tr><tr><td>27</td><td>Apple</td><td>MacBook Air</td><td>Ultrabook</td><td>1099.0</td><td>1648.5</td></tr><tr><td>28</td><td>Dell</td><td>Inspiron 5570</td><td>Notebook</td><td>800.0</td><td>1200.0</td></tr><tr><td>29</td><td>Dell</td><td>Latitude 5590</td><td>Ultrabook</td><td>1298.0</td><td>1947.0</td></tr><tr><td>30</td><td>HP</td><td>ProBook 470</td><td>Notebook</td><td>896.0</td><td>1344.0</td></tr><tr><td>31</td><td>Chuwi</td><td>LapBook 15.6\"\"</td><td>Notebook</td><td>244.99</td><td>367.49</td></tr><tr><td>32</td><td>Asus</td><td>E402WA-GA010T (E2-6110/2GB/32GB/W10)</td><td>Notebook</td><td>199.0</td><td>298.5</td></tr><tr><td>33</td><td>HP</td><td>17-ak001nv (A6-9220/4GB/500GB/Radeon</td><td>Notebook</td><td>439.0</td><td>658.5</td></tr><tr><td>34</td><td>Dell</td><td>XPS 13</td><td>Ultrabook</td><td>1869.0</td><td>2803.5</td></tr><tr><td>35</td><td>Apple</td><td>MacBook Air</td><td>Ultrabook</td><td>998.0</td><td>1497.0</td></tr><tr><td>36</td><td>Lenovo</td><td>IdeaPad 120S-14IAP</td><td>Notebook</td><td>249.0</td><td>373.5</td></tr><tr><td>37</td><td>Acer</td><td>Aspire 3</td><td>Notebook</td><td>367.0</td><td>550.5</td></tr><tr><td>38</td><td>Dell</td><td>Inspiron 5770</td><td>Notebook</td><td>979.0</td><td>1468.5</td></tr><tr><td>39</td><td>HP</td><td>250 G6</td><td>Notebook</td><td>488.69</td><td>733.04</td></tr><tr><td>40</td><td>HP</td><td>ProBook 450</td><td>Notebook</td><td>879.0</td><td>1318.5</td></tr><tr><td>81</td><td>HP</td><td>ProBook 470</td><td>Notebook</td><td>977.0</td><td>1465.5</td></tr><tr><td>82</td><td>Dell</td><td>Latitude 5590</td><td>Ultrabook</td><td>1096.16</td><td>1644.24</td></tr><tr><td>83</td><td>Apple</td><td>MacBook 12\"\"</td><td>Ultrabook</td><td>1510.0</td><td>2265.0</td></tr><tr><td>84</td><td>HP</td><td>ProBook 440</td><td>Notebook</td><td>860.0</td><td>1290.0</td></tr><tr><td>85</td><td>Lenovo</td><td>IdeaPad 320-15AST</td><td>Notebook</td><td>399.0</td><td>598.5</td></tr><tr><td>86</td><td>Acer</td><td>Aspire 3</td><td>Notebook</td><td>395.0</td><td>592.5</td></tr><tr><td>87</td><td>Dell</td><td>Inspiron 7577</td><td>Gaming</td><td>1349.0</td><td>2023.5</td></tr><tr><td>88</td><td>HP</td><td>Pavilion 15-CK000nv</td><td>Ultrabook</td><td>699.0</td><td>1048.5</td></tr><tr><td>89</td><td>HP</td><td>250 G6</td><td>Notebook</td><td>598.99</td><td>898.48</td></tr><tr><td>90</td><td>Asus</td><td>FX503VM-E4007T (i7-7700HQ/16GB/1TB</td><td>Gaming</td><td>1449.0</td><td>2173.5</td></tr><tr><td>91</td><td>Dell</td><td>XPS 13</td><td>Ultrabook</td><td>1649.0</td><td>2473.5</td></tr><tr><td>92</td><td>Asus</td><td>FX550IK-DM018T (FX-9830P/8GB/1TB/Radeon</td><td>Gaming</td><td>699.0</td><td>1048.5</td></tr><tr><td>93</td><td>Acer</td><td>Aspire 5</td><td>Notebook</td><td>689.0</td><td>1033.5</td></tr><tr><td>94</td><td>HP</td><td>Probook 430</td><td>Notebook</td><td>1197.0</td><td>1795.5</td></tr><tr><td>95</td><td>Dell</td><td>Inspiron 7577</td><td>Gaming</td><td>1195.0</td><td>1792.5</td></tr><tr><td>96</td><td>Asus</td><td>Zenbook UX430UA</td><td>Ultrabook</td><td>1049.0</td><td>1573.5</td></tr><tr><td>97</td><td>Acer</td><td>Spin 5</td><td>2 in 1 Convertible</td><td>847.0</td><td>1270.5</td></tr><tr><td>98</td><td>Dell</td><td>Inspiron 3567</td><td>Notebook</td><td>599.9</td><td>899.85</td></tr><tr><td>99</td><td>Dell</td><td>Inspiron 3567</td><td>Notebook</td><td>485.0</td><td>727.5</td></tr><tr><td>100</td><td>Asus</td><td>X541UV-DM1439T (i3-7100U/6GB/256GB/GeForce</td><td>Notebook</td><td>577.0</td><td>865.5</td></tr><tr><td>1</td><td>Apple</td><td>MacBook Pro</td><td>Ultrabook</td><td>1339.69</td><td>2009.53</td></tr><tr><td>2</td><td>Apple</td><td>Macbook Air</td><td>Ultrabook</td><td>898.94</td><td>1348.41</td></tr><tr><td>3</td><td>HP</td><td>250 G6</td><td>Notebook</td><td>575.0</td><td>862.5</td></tr><tr><td>4</td><td>Apple</td><td>MacBook Pro</td><td>Ultrabook</td><td>2537.45</td><td>3806.17</td></tr><tr><td>5</td><td>Apple</td><td>MacBook Pro</td><td>Ultrabook</td><td>1803.6</td><td>2705.4</td></tr><tr><td>6</td><td>Acer</td><td>Aspire 3</td><td>Notebook</td><td>400.0</td><td>600.0</td></tr><tr><td>7</td><td>Apple</td><td>MacBook Pro</td><td>Ultrabook</td><td>2139.97</td><td>3209.95</td></tr><tr><td>8</td><td>Apple</td><td>Macbook Air</td><td>Ultrabook</td><td>1158.7</td><td>1738.05</td></tr><tr><td>9</td><td>Asus</td><td>ZenBook UX430UN</td><td>Ultrabook</td><td>1495.0</td><td>2242.5</td></tr><tr><td>10</td><td>Acer</td><td>Swift 3</td><td>Ultrabook</td><td>770.0</td><td>1155.0</td></tr><tr><td>11</td><td>HP</td><td>250 G6</td><td>Notebook</td><td>393.9</td><td>590.85</td></tr><tr><td>12</td><td>HP</td><td>250 G6</td><td>Notebook</td><td>344.99</td><td>517.48</td></tr><tr><td>13</td><td>Apple</td><td>MacBook Pro</td><td>Ultrabook</td><td>2439.97</td><td>3659.95</td></tr><tr><td>14</td><td>Dell</td><td>Inspiron 3567</td><td>Notebook</td><td>498.9</td><td>748.35</td></tr><tr><td>15</td><td>Apple</td><td>MacBook 12\"\"</td><td>Ultrabook</td><td>1262.4</td><td>1893.6</td></tr><tr><td>16</td><td>Apple</td><td>MacBook Pro</td><td>Ultrabook</td><td>1518.55</td><td>2277.83</td></tr><tr><td>17</td><td>Dell</td><td>Inspiron 3567</td><td>Notebook</td><td>745.0</td><td>1117.5</td></tr><tr><td>18</td><td>Apple</td><td>MacBook Pro</td><td>Ultrabook</td><td>2858.0</td><td>4287.0</td></tr><tr><td>19</td><td>Lenovo</td><td>IdeaPad 320-15IKB</td><td>Notebook</td><td>499.0</td><td>748.5</td></tr><tr><td>20</td><td>Dell</td><td>XPS 13</td><td>Ultrabook</td><td>979.0</td><td>1468.5</td></tr><tr><td>122</td><td>Asus</td><td>VivoBook S15</td><td>Notebook</td><td>1118.0</td><td>1677.0</td></tr><tr><td>123</td><td>Acer</td><td>Spin 3</td><td>Notebook</td><td>479.0</td><td>718.5</td></tr><tr><td>124</td><td>MSI</td><td>GS63VR 7RG</td><td>Gaming</td><td>2241.5</td><td>3362.25</td></tr><tr><td>125</td><td>Lenovo</td><td>IdeaPad 320-15IKBN</td><td>Notebook</td><td>629.0</td><td>943.5</td></tr><tr><td>126</td><td>HP</td><td>Probook 470</td><td>Notebook</td><td>1271.0</td><td>1906.5</td></tr><tr><td>127</td><td>Acer</td><td>Aspire 3</td><td>Notebook</td><td>451.0</td><td>676.5</td></tr><tr><td>128</td><td>HP</td><td>250 G6</td><td>Notebook</td><td>259.0</td><td>388.5</td></tr><tr><td>129</td><td>HP</td><td>Probook 440</td><td>Notebook</td><td>812.0</td><td>1218.0</td></tr><tr><td>130</td><td>Asus</td><td>E402WA-GA007T (E2-6110/4GB/64GB/W10</td><td>Notebook</td><td>277.99</td><td>416.98</td></tr><tr><td>131</td><td>Dell</td><td>Inspiron 5770</td><td>Notebook</td><td>1396.0</td><td>2094.0</td></tr><tr><td>132</td><td>HP</td><td>ProBook 470</td><td>Notebook</td><td>928.0</td><td>1392.0</td></tr><tr><td>133</td><td>Dell</td><td>Inspiron 5567</td><td>Notebook</td><td>638.99</td><td>958.48</td></tr><tr><td>134</td><td>Dell</td><td>Inspiron 3567</td><td>Notebook</td><td>449.0</td><td>673.5</td></tr><tr><td>135</td><td>Acer</td><td>Swift 3</td><td>Ultrabook</td><td>884.0</td><td>1326.0</td></tr><tr><td>136</td><td>Acer</td><td>Aspire A515-51G-37JS</td><td>Notebook</td><td>572.0</td><td>858.0</td></tr><tr><td>137</td><td>HP</td><td>15-BS078nr (i7-7500U/8GB/1TB/W10)</td><td>Notebook</td><td>598.0</td><td>897.0</td></tr><tr><td>138</td><td>HP</td><td>Probook 440</td><td>Notebook</td><td>988.0</td><td>1482.0</td></tr><tr><td>139</td><td>Lenovo</td><td>V110-15IAP (N3350/4GB/1TB/No</td><td>Notebook</td><td>252.36</td><td>378.54</td></tr><tr><td>140</td><td>Asus</td><td>FX753VD-GC086T (i5-7300HQ/8GB/1TB</td><td>Gaming</td><td>938.0</td><td>1407.0</td></tr><tr><td>141</td><td>Lenovo</td><td>IdeaPad 320-15IKBN</td><td>Notebook</td><td>499.0</td><td>748.5</td></tr><tr><td>142</td><td>HP</td><td>Envy 13-AD007nv</td><td>Notebook</td><td>699.0</td><td>1048.5</td></tr><tr><td>143</td><td>Acer</td><td>Aspire 5</td><td>Notebook</td><td>655.0</td><td>982.5</td></tr><tr><td>144</td><td>Lenovo</td><td>ThinkPad E480</td><td>Notebook</td><td>1116.02</td><td>1674.03</td></tr><tr><td>145</td><td>Lenovo</td><td>Legion Y520-15IKBN</td><td>Gaming</td><td>869.0</td><td>1303.5</td></tr><tr><td>146</td><td>Toshiba</td><td>Satellite Pro</td><td>Notebook</td><td>602.0</td><td>903.0</td></tr><tr><td>147</td><td>HP</td><td>255 G6</td><td>Notebook</td><td>369.0</td><td>553.5</td></tr><tr><td>148</td><td>Asus</td><td>ZenBook UX430UA</td><td>Ultrabook</td><td>1099.0</td><td>1648.5</td></tr><tr><td>149</td><td>HP</td><td>EliteBook Folio</td><td>Ultrabook</td><td>2014.0</td><td>3021.0</td></tr><tr><td>150</td><td>Asus</td><td>X541NA (N3350/4GB/1TB/FHD/W10)</td><td>Notebook</td><td>344.0</td><td>516.0</td></tr><tr><td>151</td><td>MSI</td><td>GE72MVR 7RG</td><td>Gaming</td><td>2029.0</td><td>3043.5</td></tr><tr><td>152</td><td>Acer</td><td>Aspire A315-51</td><td>Notebook</td><td>447.0</td><td>670.5</td></tr><tr><td>153</td><td>Dell</td><td>Inspiron 5577</td><td>Gaming</td><td>1249.26</td><td>1873.89</td></tr><tr><td>154</td><td>Dell</td><td>Inspiron 7567</td><td>Gaming</td><td>899.0</td><td>1348.5</td></tr><tr><td>155</td><td>Lenovo</td><td>V110-15IKB (i5-7200U/4GB/128GB/W10)</td><td>Notebook</td><td>498.0</td><td>747.0</td></tr><tr><td>156</td><td>MSI</td><td>GE73VR 7RE</td><td>Gaming</td><td>1890.0</td><td>2835.0</td></tr><tr><td>157</td><td>HP</td><td>EliteBook 840</td><td>Ultrabook</td><td>1082.0</td><td>1623.0</td></tr><tr><td>158</td><td>HP</td><td>15-BS103nv (i5-8250U/6GB/256GB/Radeon</td><td>Notebook</td><td>619.0</td><td>928.5</td></tr><tr><td>159</td><td>Lenovo</td><td>Yoga 520-14IKB</td><td>2 in 1 Convertible</td><td>629.0</td><td>943.5</td></tr><tr><td>160</td><td>Asus</td><td>ZenBook Flip</td><td>2 in 1 Convertible</td><td>1315.0</td><td>1972.5</td></tr><tr><td>161</td><td>Dell</td><td>Inspiron 5579</td><td>2 in 1 Convertible</td><td>1049.0</td><td>1573.5</td></tr><tr><td>163</td><td>Toshiba</td><td>Satellite Pro</td><td>Notebook</td><td>447.0</td><td>670.5</td></tr><tr><td>164</td><td>Asus</td><td>X555BP-XX180T (A9-9420/4GB/1TB/Radeon</td><td>Notebook</td><td>403.0</td><td>604.5</td></tr><tr><td>165</td><td>Acer</td><td>Aspire A517-51G</td><td>Notebook</td><td>805.0</td><td>1207.5</td></tr><tr><td>166</td><td>Dell</td><td>Inspiron 3576</td><td>Notebook</td><td>728.0</td><td>1092.0</td></tr><tr><td>167</td><td>Lenovo</td><td>Legion Y520-15IKBN</td><td>Gaming</td><td>1079.0</td><td>1618.5</td></tr><tr><td>168</td><td>Acer</td><td>Aspire A315-31</td><td>Notebook</td><td>348.0</td><td>522.0</td></tr><tr><td>169</td><td>MSI</td><td>GE63VR 7RE</td><td>Gaming</td><td>1799.0</td><td>2698.5</td></tr><tr><td>170</td><td>Acer</td><td>Aspire 3</td><td>Notebook</td><td>363.51</td><td>545.27</td></tr><tr><td>171</td><td>Dell</td><td>Inspiron 5577</td><td>Gaming</td><td>1060.49</td><td>1590.73</td></tr><tr><td>172</td><td>Acer</td><td>Aspire A517-51G</td><td>Notebook</td><td>854.0</td><td>1281.0</td></tr><tr><td>173</td><td>HP</td><td>ProBook 430</td><td>Notebook</td><td>754.0</td><td>1131.0</td></tr><tr><td>174</td><td>Huawei</td><td>MateBook X</td><td>Ultrabook</td><td>1349.0</td><td>2023.5</td></tr><tr><td>175</td><td>HP</td><td>17-bs001nv (i5-7200U/6GB/2TB/Radeon</td><td>Notebook</td><td>699.0</td><td>1048.5</td></tr><tr><td>176</td><td>Lenovo</td><td>IdeaPad 320-15AST</td><td>Notebook</td><td>309.0</td><td>463.5</td></tr><tr><td>177</td><td>Toshiba</td><td>Satellite Pro</td><td>Notebook</td><td>489.0</td><td>733.5</td></tr><tr><td>178</td><td>HP</td><td>ProBook 470</td><td>Notebook</td><td>923.0</td><td>1384.5</td></tr><tr><td>179</td><td>Dell</td><td>Inspiron 3567</td><td>Notebook</td><td>459.0</td><td>688.5</td></tr><tr><td>180</td><td>Acer</td><td>Aspire A315-51</td><td>Notebook</td><td>449.0</td><td>673.5</td></tr><tr><td>181</td><td>MSI</td><td>GT80S 6QF-074US</td><td>Gaming</td><td>2799.0</td><td>4198.5</td></tr><tr><td>182</td><td>Lenovo</td><td>V310-15IKB (i5-7200U/8GB/1TB</td><td>Notebook</td><td>813.0</td><td>1219.5</td></tr><tr><td>183</td><td>HP</td><td>Spectre x360</td><td>2 in 1 Convertible</td><td>1499.0</td><td>2248.5</td></tr><tr><td>184</td><td>Dell</td><td>Inspiron 5570</td><td>Notebook</td><td>1049.0</td><td>1573.5</td></tr><tr><td>185</td><td>Dell</td><td>XPS 13</td><td>Ultrabook</td><td>1399.0</td><td>2098.5</td></tr><tr><td>186</td><td>Lenovo</td><td>Yoga 920-13IKB</td><td>2 in 1 Convertible</td><td>1849.0</td><td>2773.5</td></tr><tr><td>187</td><td>Toshiba</td><td>Satellite Pro</td><td>Notebook</td><td>793.0</td><td>1189.5</td></tr><tr><td>188</td><td>Xiaomi</td><td>Mi Notebook</td><td>Notebook</td><td>1199.0</td><td>1798.5</td></tr><tr><td>189</td><td>Dell</td><td>Inspiron 7773</td><td>Notebook</td><td>1549.0</td><td>2323.5</td></tr><tr><td>190</td><td>Dell</td><td>XPS 15</td><td>Notebook</td><td>2397.0</td><td>3595.5</td></tr><tr><td>191</td><td>Lenovo</td><td>Legion Y520-15IKBN</td><td>Gaming</td><td>779.0</td><td>1168.5</td></tr><tr><td>192</td><td>Acer</td><td>Swift 7</td><td>Ultrabook</td><td>989.0</td><td>1483.5</td></tr><tr><td>193</td><td>Dell</td><td>Inspiron 5770</td><td>Notebook</td><td>1085.0</td><td>1627.5</td></tr><tr><td>194</td><td>Lenovo</td><td>Thinkpad Yoga</td><td>2 in 1 Convertible</td><td>2824.0</td><td>4236.0</td></tr><tr><td>195</td><td>Vero</td><td>K147 (N3350/4GB/32GB/FHD/W10)</td><td>Notebook</td><td>260.0</td><td>390.0</td></tr><tr><td>196</td><td>Xiaomi</td><td>Mi Notebook</td><td>Ultrabook</td><td>999.9</td><td>1499.85</td></tr><tr><td>197</td><td>Lenovo</td><td>IdeaPad 320-17IKBR</td><td>Notebook</td><td>698.0</td><td>1047.0</td></tr><tr><td>198</td><td>Dell</td><td>Inspiron 5379</td><td>2 in 1 Convertible</td><td>839.0</td><td>1258.5</td></tr><tr><td>199</td><td>HP</td><td>ProBook 470</td><td>Notebook</td><td>914.0</td><td>1371.0</td></tr><tr><td>200</td><td>Razer</td><td>Blade Pro</td><td>Gaming</td><td>6099.0</td><td>9148.5</td></tr><tr><td>201</td><td>HP</td><td>ProBook 430</td><td>Notebook</td><td>959.0</td><td>1438.5</td></tr><tr><td>202</td><td>HP</td><td>Omen 17-W295</td><td>Gaming</td><td>1379.0</td><td>2068.5</td></tr></tbody></table></div>"
      ]
     },
     "metadata": {
      "application/vnd.databricks.v1+output": {
       "addedWidgets": {},
       "aggData": [],
       "aggError": "",
       "aggOverflow": false,
       "aggSchema": [],
       "aggSeriesLimitReached": false,
       "aggType": "",
       "arguments": {},
       "columnCustomDisplayInfos": {},
       "data": [
        [
         60,
         "Asus",
         "X541UA-DM1897 (i3-6006U/4GB/256GB/FHD/Linux)",
         "Notebook",
         415,
         622.5
        ],
        [
         61,
         "Dell",
         "Inspiron 5770",
         "Notebook",
         1299,
         1948.5
        ],
        [
         62,
         "Dell",
         "Vostro 5471",
         "Ultrabook",
         879,
         1318.5
        ],
        [
         63,
         "Lenovo",
         "IdeaPad 520S-14IKB",
         "Notebook",
         599,
         898.5
        ],
        [
         64,
         "Asus",
         "UX410UA-GV350T (i5-8250U/8GB/256GB/FHD/W10)",
         "Notebook",
         941,
         1411.5
        ],
        [
         66,
         "HP",
         "250 G6",
         "Notebook",
         690,
         1035
        ],
        [
         67,
         "Asus",
         "ZenBook Pro",
         "Ultrabook",
         1983,
         2974.5
        ],
        [
         68,
         "HP",
         "250 G6",
         "Notebook",
         438.69,
         658.04
        ],
        [
         69,
         "HP",
         "Stream 14-AX040wm",
         "Notebook",
         229,
         343.5
        ],
        [
         70,
         "Lenovo",
         "V310-15ISK (i5-7200U/4GB/1TB/FHD/W10)",
         "Notebook",
         549,
         823.5
        ],
        [
         71,
         "Asus",
         "FX753VE-GC093 (i7-7700HQ/12GB/1TB/GeForce",
         "Gaming",
         949,
         1423.5
        ],
        [
         72,
         "Microsoft",
         "Surface Laptop",
         "Ultrabook",
         1089,
         1633.5
        ],
        [
         73,
         "Dell",
         "Inspiron 5370",
         "Ultrabook",
         955,
         1432.5
        ],
        [
         74,
         "Dell",
         "Inspiron 5570",
         "Notebook",
         870,
         1305
        ],
        [
         75,
         "MSI",
         "GL72M 7RDX",
         "Gaming",
         1095,
         1642.5
        ],
        [
         76,
         "Acer",
         "Aspire E5-475",
         "Notebook",
         389,
         583.5
        ],
        [
         77,
         "Asus",
         "FX503VD-E4022T (i7-7700HQ/8GB/1TB/GeForce",
         "Gaming",
         949,
         1423.5
        ],
        [
         78,
         "Lenovo",
         "IdeaPad 320-15IKBN",
         "Notebook",
         519,
         778.5
        ],
        [
         79,
         "Dell",
         "Inspiron 5570",
         "Notebook",
         855,
         1282.5
        ],
        [
         80,
         "Acer",
         "Aspire A515-51G-32MX",
         "Notebook",
         530,
         795
        ],
        [
         102,
         "HP",
         "Omen 15-ce007nv",
         "Gaming",
         1249,
         1873.5
        ],
        [
         103,
         "HP",
         "15-bs017nv (i7-7500U/8GB/256GB/Radeon",
         "Notebook",
         719,
         1078.5
        ],
        [
         104,
         "HP",
         "15-bw000nv (E2-9000e/4GB/500GB/Radeon",
         "Notebook",
         349,
         523.5
        ],
        [
         105,
         "Dell",
         "Inspiron 3576",
         "Notebook",
         647,
         970.5
        ],
        [
         106,
         "HP",
         "Envy 13-ad009n",
         "Ultrabook",
         1119,
         1678.5
        ],
        [
         107,
         "Microsoft",
         "Surface Laptop",
         "Ultrabook",
         1340,
         2010
        ],
        [
         108,
         "HP",
         "Pavilion 14-BK001nv",
         "Notebook",
         659,
         988.5
        ],
        [
         109,
         "Lenovo",
         "Ideapad 310-15ISK",
         "Notebook",
         414.9,
         622.35
        ],
        [
         110,
         "Asus",
         "UX430UQ-GV209R (i7-7500U/8GB/256GB/GeForce",
         "Ultrabook",
         1193,
         1789.5
        ],
        [
         111,
         "MSI",
         "GP62M 7REX",
         "Gaming",
         1299,
         1948.5
        ],
        [
         112,
         "Lenovo",
         "Thinkpad T470",
         "Notebook",
         1480,
         2220
        ],
        [
         113,
         "Asus",
         "VivoBook S15",
         "Ultrabook",
         1262,
         1893
        ],
        [
         114,
         "Dell",
         "XPS 13",
         "Ultrabook",
         1379,
         2068.5
        ],
        [
         115,
         "Lenovo",
         "ThinkPad Yoga",
         "2 in 1 Convertible",
         1399,
         2098.5
        ],
        [
         116,
         "HP",
         "Probook 440",
         "Notebook",
         722,
         1083
        ],
        [
         117,
         "Dell",
         "XPS 13",
         "Ultrabook",
         1629,
         2443.5
        ],
        [
         118,
         "HP",
         "Spectre x360",
         "2 in 1 Convertible",
         1398.99,
         2098.48
        ],
        [
         119,
         "HP",
         "Probook 440",
         "Notebook",
         1084,
         1626
        ],
        [
         120,
         "Dell",
         "Inspiron 7570",
         "Notebook",
         1130.33,
         1695.49
        ],
        [
         121,
         "Asus",
         "X705UV-BX074T (i3-6006U/4GB/1TB/GeForce",
         "Notebook",
         564,
         846
        ],
        [
         41,
         "Asus",
         "X540UA-DM186 (i3-6006U/4GB/1TB/FHD/Linux)",
         "Notebook",
         389,
         583.5
        ],
        [
         42,
         "Dell",
         "Inspiron 7577",
         "Gaming",
         1499,
         2248.5
        ],
        [
         43,
         "Asus",
         "X542UQ-GO005 (i5-7200U/8GB/1TB/GeForce",
         "Notebook",
         522.99,
         784.48
        ],
        [
         44,
         "Acer",
         "Aspire A515-51G",
         "Notebook",
         682,
         1023
        ],
        [
         45,
         "Dell",
         "Inspiron 7773",
         "2 in 1 Convertible",
         999,
         1498.5
        ],
        [
         46,
         "Apple",
         "MacBook Pro",
         "Ultrabook",
         1419,
         2128.5
        ],
        [
         47,
         "Lenovo",
         "IdeaPad 320-15ISK",
         "Notebook",
         369,
         553.5
        ],
        [
         48,
         "Asus",
         "Rog Strix",
         "Gaming",
         1299,
         1948.5
        ],
        [
         49,
         "Dell",
         "Inspiron 3567",
         "Notebook",
         639,
         958.5
        ],
        [
         50,
         "Asus",
         "X751NV-TY001T (N4200/4GB/1TB/GeForce",
         "Notebook",
         466,
         699
        ],
        [
         51,
         "Lenovo",
         "Yoga Book",
         "2 in 1 Convertible",
         319,
         478.5
        ],
        [
         52,
         "Acer",
         "Aspire A515-51G",
         "Notebook",
         841,
         1261.5
        ],
        [
         53,
         "HP",
         "255 G6",
         "Notebook",
         398.49,
         597.73
        ],
        [
         54,
         "HP",
         "ProBook 430",
         "Notebook",
         1103,
         1654.5
        ],
        [
         55,
         "Acer",
         "Aspire 3",
         "Notebook",
         384,
         576
        ],
        [
         56,
         "Dell",
         "Inspiron 3576",
         "Notebook",
         767.8,
         1151.7
        ],
        [
         57,
         "HP",
         "15-bs002nv (i3-6006U/4GB/128GB/FHD/W10)",
         "Notebook",
         439,
         658.5
        ],
        [
         58,
         "Asus",
         "VivoBook Max",
         "Notebook",
         586.19,
         879.29
        ],
        [
         59,
         "MSI",
         "GS73VR 7RG",
         "Gaming",
         2449,
         3673.5
        ],
        [
         21,
         "Asus",
         "Vivobook E200HA",
         "Netbook",
         191.9,
         287.85
        ],
        [
         22,
         "Lenovo",
         "Legion Y520-15IKBN",
         "Gaming",
         999,
         1498.5
        ],
        [
         23,
         "HP",
         "255 G6",
         "Notebook",
         258,
         387
        ],
        [
         24,
         "Dell",
         "Inspiron 5379",
         "2 in 1 Convertible",
         819,
         1228.5
        ],
        [
         25,
         "HP",
         "15-BS101nv (i7-8550U/8GB/256GB/FHD/W10)",
         "Ultrabook",
         659,
         988.5
        ],
        [
         26,
         "Dell",
         "Inspiron 3567",
         "Notebook",
         418.64,
         627.96
        ],
        [
         27,
         "Apple",
         "MacBook Air",
         "Ultrabook",
         1099,
         1648.5
        ],
        [
         28,
         "Dell",
         "Inspiron 5570",
         "Notebook",
         800,
         1200
        ],
        [
         29,
         "Dell",
         "Latitude 5590",
         "Ultrabook",
         1298,
         1947
        ],
        [
         30,
         "HP",
         "ProBook 470",
         "Notebook",
         896,
         1344
        ],
        [
         31,
         "Chuwi",
         "LapBook 15.6\"\"",
         "Notebook",
         244.99,
         367.49
        ],
        [
         32,
         "Asus",
         "E402WA-GA010T (E2-6110/2GB/32GB/W10)",
         "Notebook",
         199,
         298.5
        ],
        [
         33,
         "HP",
         "17-ak001nv (A6-9220/4GB/500GB/Radeon",
         "Notebook",
         439,
         658.5
        ],
        [
         34,
         "Dell",
         "XPS 13",
         "Ultrabook",
         1869,
         2803.5
        ],
        [
         35,
         "Apple",
         "MacBook Air",
         "Ultrabook",
         998,
         1497
        ],
        [
         36,
         "Lenovo",
         "IdeaPad 120S-14IAP",
         "Notebook",
         249,
         373.5
        ],
        [
         37,
         "Acer",
         "Aspire 3",
         "Notebook",
         367,
         550.5
        ],
        [
         38,
         "Dell",
         "Inspiron 5770",
         "Notebook",
         979,
         1468.5
        ],
        [
         39,
         "HP",
         "250 G6",
         "Notebook",
         488.69,
         733.04
        ],
        [
         40,
         "HP",
         "ProBook 450",
         "Notebook",
         879,
         1318.5
        ],
        [
         81,
         "HP",
         "ProBook 470",
         "Notebook",
         977,
         1465.5
        ],
        [
         82,
         "Dell",
         "Latitude 5590",
         "Ultrabook",
         1096.16,
         1644.24
        ],
        [
         83,
         "Apple",
         "MacBook 12\"\"",
         "Ultrabook",
         1510,
         2265
        ],
        [
         84,
         "HP",
         "ProBook 440",
         "Notebook",
         860,
         1290
        ],
        [
         85,
         "Lenovo",
         "IdeaPad 320-15AST",
         "Notebook",
         399,
         598.5
        ],
        [
         86,
         "Acer",
         "Aspire 3",
         "Notebook",
         395,
         592.5
        ],
        [
         87,
         "Dell",
         "Inspiron 7577",
         "Gaming",
         1349,
         2023.5
        ],
        [
         88,
         "HP",
         "Pavilion 15-CK000nv",
         "Ultrabook",
         699,
         1048.5
        ],
        [
         89,
         "HP",
         "250 G6",
         "Notebook",
         598.99,
         898.48
        ],
        [
         90,
         "Asus",
         "FX503VM-E4007T (i7-7700HQ/16GB/1TB",
         "Gaming",
         1449,
         2173.5
        ],
        [
         91,
         "Dell",
         "XPS 13",
         "Ultrabook",
         1649,
         2473.5
        ],
        [
         92,
         "Asus",
         "FX550IK-DM018T (FX-9830P/8GB/1TB/Radeon",
         "Gaming",
         699,
         1048.5
        ],
        [
         93,
         "Acer",
         "Aspire 5",
         "Notebook",
         689,
         1033.5
        ],
        [
         94,
         "HP",
         "Probook 430",
         "Notebook",
         1197,
         1795.5
        ],
        [
         95,
         "Dell",
         "Inspiron 7577",
         "Gaming",
         1195,
         1792.5
        ],
        [
         96,
         "Asus",
         "Zenbook UX430UA",
         "Ultrabook",
         1049,
         1573.5
        ],
        [
         97,
         "Acer",
         "Spin 5",
         "2 in 1 Convertible",
         847,
         1270.5
        ],
        [
         98,
         "Dell",
         "Inspiron 3567",
         "Notebook",
         599.9,
         899.85
        ],
        [
         99,
         "Dell",
         "Inspiron 3567",
         "Notebook",
         485,
         727.5
        ],
        [
         100,
         "Asus",
         "X541UV-DM1439T (i3-7100U/6GB/256GB/GeForce",
         "Notebook",
         577,
         865.5
        ],
        [
         1,
         "Apple",
         "MacBook Pro",
         "Ultrabook",
         1339.69,
         2009.53
        ],
        [
         2,
         "Apple",
         "Macbook Air",
         "Ultrabook",
         898.94,
         1348.41
        ],
        [
         3,
         "HP",
         "250 G6",
         "Notebook",
         575,
         862.5
        ],
        [
         4,
         "Apple",
         "MacBook Pro",
         "Ultrabook",
         2537.45,
         3806.17
        ],
        [
         5,
         "Apple",
         "MacBook Pro",
         "Ultrabook",
         1803.6,
         2705.4
        ],
        [
         6,
         "Acer",
         "Aspire 3",
         "Notebook",
         400,
         600
        ],
        [
         7,
         "Apple",
         "MacBook Pro",
         "Ultrabook",
         2139.97,
         3209.95
        ],
        [
         8,
         "Apple",
         "Macbook Air",
         "Ultrabook",
         1158.7,
         1738.05
        ],
        [
         9,
         "Asus",
         "ZenBook UX430UN",
         "Ultrabook",
         1495,
         2242.5
        ],
        [
         10,
         "Acer",
         "Swift 3",
         "Ultrabook",
         770,
         1155
        ],
        [
         11,
         "HP",
         "250 G6",
         "Notebook",
         393.9,
         590.85
        ],
        [
         12,
         "HP",
         "250 G6",
         "Notebook",
         344.99,
         517.48
        ],
        [
         13,
         "Apple",
         "MacBook Pro",
         "Ultrabook",
         2439.97,
         3659.95
        ],
        [
         14,
         "Dell",
         "Inspiron 3567",
         "Notebook",
         498.9,
         748.35
        ],
        [
         15,
         "Apple",
         "MacBook 12\"\"",
         "Ultrabook",
         1262.4,
         1893.6
        ],
        [
         16,
         "Apple",
         "MacBook Pro",
         "Ultrabook",
         1518.55,
         2277.83
        ],
        [
         17,
         "Dell",
         "Inspiron 3567",
         "Notebook",
         745,
         1117.5
        ],
        [
         18,
         "Apple",
         "MacBook Pro",
         "Ultrabook",
         2858,
         4287
        ],
        [
         19,
         "Lenovo",
         "IdeaPad 320-15IKB",
         "Notebook",
         499,
         748.5
        ],
        [
         20,
         "Dell",
         "XPS 13",
         "Ultrabook",
         979,
         1468.5
        ],
        [
         122,
         "Asus",
         "VivoBook S15",
         "Notebook",
         1118,
         1677
        ],
        [
         123,
         "Acer",
         "Spin 3",
         "Notebook",
         479,
         718.5
        ],
        [
         124,
         "MSI",
         "GS63VR 7RG",
         "Gaming",
         2241.5,
         3362.25
        ],
        [
         125,
         "Lenovo",
         "IdeaPad 320-15IKBN",
         "Notebook",
         629,
         943.5
        ],
        [
         126,
         "HP",
         "Probook 470",
         "Notebook",
         1271,
         1906.5
        ],
        [
         127,
         "Acer",
         "Aspire 3",
         "Notebook",
         451,
         676.5
        ],
        [
         128,
         "HP",
         "250 G6",
         "Notebook",
         259,
         388.5
        ],
        [
         129,
         "HP",
         "Probook 440",
         "Notebook",
         812,
         1218
        ],
        [
         130,
         "Asus",
         "E402WA-GA007T (E2-6110/4GB/64GB/W10",
         "Notebook",
         277.99,
         416.98
        ],
        [
         131,
         "Dell",
         "Inspiron 5770",
         "Notebook",
         1396,
         2094
        ],
        [
         132,
         "HP",
         "ProBook 470",
         "Notebook",
         928,
         1392
        ],
        [
         133,
         "Dell",
         "Inspiron 5567",
         "Notebook",
         638.99,
         958.48
        ],
        [
         134,
         "Dell",
         "Inspiron 3567",
         "Notebook",
         449,
         673.5
        ],
        [
         135,
         "Acer",
         "Swift 3",
         "Ultrabook",
         884,
         1326
        ],
        [
         136,
         "Acer",
         "Aspire A515-51G-37JS",
         "Notebook",
         572,
         858
        ],
        [
         137,
         "HP",
         "15-BS078nr (i7-7500U/8GB/1TB/W10)",
         "Notebook",
         598,
         897
        ],
        [
         138,
         "HP",
         "Probook 440",
         "Notebook",
         988,
         1482
        ],
        [
         139,
         "Lenovo",
         "V110-15IAP (N3350/4GB/1TB/No",
         "Notebook",
         252.36,
         378.54
        ],
        [
         140,
         "Asus",
         "FX753VD-GC086T (i5-7300HQ/8GB/1TB",
         "Gaming",
         938,
         1407
        ],
        [
         141,
         "Lenovo",
         "IdeaPad 320-15IKBN",
         "Notebook",
         499,
         748.5
        ],
        [
         142,
         "HP",
         "Envy 13-AD007nv",
         "Notebook",
         699,
         1048.5
        ],
        [
         143,
         "Acer",
         "Aspire 5",
         "Notebook",
         655,
         982.5
        ],
        [
         144,
         "Lenovo",
         "ThinkPad E480",
         "Notebook",
         1116.02,
         1674.03
        ],
        [
         145,
         "Lenovo",
         "Legion Y520-15IKBN",
         "Gaming",
         869,
         1303.5
        ],
        [
         146,
         "Toshiba",
         "Satellite Pro",
         "Notebook",
         602,
         903
        ],
        [
         147,
         "HP",
         "255 G6",
         "Notebook",
         369,
         553.5
        ],
        [
         148,
         "Asus",
         "ZenBook UX430UA",
         "Ultrabook",
         1099,
         1648.5
        ],
        [
         149,
         "HP",
         "EliteBook Folio",
         "Ultrabook",
         2014,
         3021
        ],
        [
         150,
         "Asus",
         "X541NA (N3350/4GB/1TB/FHD/W10)",
         "Notebook",
         344,
         516
        ],
        [
         151,
         "MSI",
         "GE72MVR 7RG",
         "Gaming",
         2029,
         3043.5
        ],
        [
         152,
         "Acer",
         "Aspire A315-51",
         "Notebook",
         447,
         670.5
        ],
        [
         153,
         "Dell",
         "Inspiron 5577",
         "Gaming",
         1249.26,
         1873.89
        ],
        [
         154,
         "Dell",
         "Inspiron 7567",
         "Gaming",
         899,
         1348.5
        ],
        [
         155,
         "Lenovo",
         "V110-15IKB (i5-7200U/4GB/128GB/W10)",
         "Notebook",
         498,
         747
        ],
        [
         156,
         "MSI",
         "GE73VR 7RE",
         "Gaming",
         1890,
         2835
        ],
        [
         157,
         "HP",
         "EliteBook 840",
         "Ultrabook",
         1082,
         1623
        ],
        [
         158,
         "HP",
         "15-BS103nv (i5-8250U/6GB/256GB/Radeon",
         "Notebook",
         619,
         928.5
        ],
        [
         159,
         "Lenovo",
         "Yoga 520-14IKB",
         "2 in 1 Convertible",
         629,
         943.5
        ],
        [
         160,
         "Asus",
         "ZenBook Flip",
         "2 in 1 Convertible",
         1315,
         1972.5
        ],
        [
         161,
         "Dell",
         "Inspiron 5579",
         "2 in 1 Convertible",
         1049,
         1573.5
        ],
        [
         163,
         "Toshiba",
         "Satellite Pro",
         "Notebook",
         447,
         670.5
        ],
        [
         164,
         "Asus",
         "X555BP-XX180T (A9-9420/4GB/1TB/Radeon",
         "Notebook",
         403,
         604.5
        ],
        [
         165,
         "Acer",
         "Aspire A517-51G",
         "Notebook",
         805,
         1207.5
        ],
        [
         166,
         "Dell",
         "Inspiron 3576",
         "Notebook",
         728,
         1092
        ],
        [
         167,
         "Lenovo",
         "Legion Y520-15IKBN",
         "Gaming",
         1079,
         1618.5
        ],
        [
         168,
         "Acer",
         "Aspire A315-31",
         "Notebook",
         348,
         522
        ],
        [
         169,
         "MSI",
         "GE63VR 7RE",
         "Gaming",
         1799,
         2698.5
        ],
        [
         170,
         "Acer",
         "Aspire 3",
         "Notebook",
         363.51,
         545.27
        ],
        [
         171,
         "Dell",
         "Inspiron 5577",
         "Gaming",
         1060.49,
         1590.73
        ],
        [
         172,
         "Acer",
         "Aspire A517-51G",
         "Notebook",
         854,
         1281
        ],
        [
         173,
         "HP",
         "ProBook 430",
         "Notebook",
         754,
         1131
        ],
        [
         174,
         "Huawei",
         "MateBook X",
         "Ultrabook",
         1349,
         2023.5
        ],
        [
         175,
         "HP",
         "17-bs001nv (i5-7200U/6GB/2TB/Radeon",
         "Notebook",
         699,
         1048.5
        ],
        [
         176,
         "Lenovo",
         "IdeaPad 320-15AST",
         "Notebook",
         309,
         463.5
        ],
        [
         177,
         "Toshiba",
         "Satellite Pro",
         "Notebook",
         489,
         733.5
        ],
        [
         178,
         "HP",
         "ProBook 470",
         "Notebook",
         923,
         1384.5
        ],
        [
         179,
         "Dell",
         "Inspiron 3567",
         "Notebook",
         459,
         688.5
        ],
        [
         180,
         "Acer",
         "Aspire A315-51",
         "Notebook",
         449,
         673.5
        ],
        [
         181,
         "MSI",
         "GT80S 6QF-074US",
         "Gaming",
         2799,
         4198.5
        ],
        [
         182,
         "Lenovo",
         "V310-15IKB (i5-7200U/8GB/1TB",
         "Notebook",
         813,
         1219.5
        ],
        [
         183,
         "HP",
         "Spectre x360",
         "2 in 1 Convertible",
         1499,
         2248.5
        ],
        [
         184,
         "Dell",
         "Inspiron 5570",
         "Notebook",
         1049,
         1573.5
        ],
        [
         185,
         "Dell",
         "XPS 13",
         "Ultrabook",
         1399,
         2098.5
        ],
        [
         186,
         "Lenovo",
         "Yoga 920-13IKB",
         "2 in 1 Convertible",
         1849,
         2773.5
        ],
        [
         187,
         "Toshiba",
         "Satellite Pro",
         "Notebook",
         793,
         1189.5
        ],
        [
         188,
         "Xiaomi",
         "Mi Notebook",
         "Notebook",
         1199,
         1798.5
        ],
        [
         189,
         "Dell",
         "Inspiron 7773",
         "Notebook",
         1549,
         2323.5
        ],
        [
         190,
         "Dell",
         "XPS 15",
         "Notebook",
         2397,
         3595.5
        ],
        [
         191,
         "Lenovo",
         "Legion Y520-15IKBN",
         "Gaming",
         779,
         1168.5
        ],
        [
         192,
         "Acer",
         "Swift 7",
         "Ultrabook",
         989,
         1483.5
        ],
        [
         193,
         "Dell",
         "Inspiron 5770",
         "Notebook",
         1085,
         1627.5
        ],
        [
         194,
         "Lenovo",
         "Thinkpad Yoga",
         "2 in 1 Convertible",
         2824,
         4236
        ],
        [
         195,
         "Vero",
         "K147 (N3350/4GB/32GB/FHD/W10)",
         "Notebook",
         260,
         390
        ],
        [
         196,
         "Xiaomi",
         "Mi Notebook",
         "Ultrabook",
         999.9,
         1499.85
        ],
        [
         197,
         "Lenovo",
         "IdeaPad 320-17IKBR",
         "Notebook",
         698,
         1047
        ],
        [
         198,
         "Dell",
         "Inspiron 5379",
         "2 in 1 Convertible",
         839,
         1258.5
        ],
        [
         199,
         "HP",
         "ProBook 470",
         "Notebook",
         914,
         1371
        ],
        [
         200,
         "Razer",
         "Blade Pro",
         "Gaming",
         6099,
         9148.5
        ],
        [
         201,
         "HP",
         "ProBook 430",
         "Notebook",
         959,
         1438.5
        ],
        [
         202,
         "HP",
         "Omen 17-W295",
         "Gaming",
         1379,
         2068.5
        ]
       ],
       "datasetInfos": [],
       "dbfsResultPath": null,
       "isJsonSchema": true,
       "metadata": {},
       "overflow": false,
       "plotOptions": {
        "customPlotOptions": {},
        "displayType": "table",
        "pivotAggregation": null,
        "pivotColumns": null,
        "xColumns": null,
        "yColumns": null
       },
       "removedWidgets": [],
       "schema": [
        {
         "metadata": "{}",
         "name": "Id",
         "type": "\"integer\""
        },
        {
         "metadata": "{}",
         "name": "Company",
         "type": "\"string\""
        },
        {
         "metadata": "{}",
         "name": "Product",
         "type": "\"string\""
        },
        {
         "metadata": "{}",
         "name": "TypeName",
         "type": "\"string\""
        },
        {
         "metadata": "{}",
         "name": "Price_euros",
         "type": "\"float\""
        },
        {
         "metadata": "{}",
         "name": "price_usd",
         "type": "\"double\""
        }
       ],
       "type": "table"
      }
     },
     "output_type": "display_data"
    }
   ],
   "source": [
    "#Returns a new DataFrame by adding a column or replacing the existing column that has the same name.\n",
    "\"\"\"\n",
    "Parameters\n",
    "----------\n",
    "colName : str\n",
    "    string, name of the new column.\n",
    "col : :class:`Column`\n",
    "    a :class:`Column` expression for the new column.\n",
    "\"\"\"\n",
    "lab_data = labtob_data_stream\\\n",
    "           .withColumn(\"price_usd\", round(labtob_data_stream.Price_euros * 1.5, 2))\n",
    "lab_data.display()"
   ]
  },
  {
   "cell_type": "code",
   "execution_count": null,
   "metadata": {
    "application/vnd.databricks.v1+cell": {
     "cellMetadata": {
      "byteLimit": 2048000,
      "rowLimit": 10000
     },
     "inputWidgets": {},
     "nuid": "c23b8123-ea26-4585-a38d-790b245fad99",
     "showTitle": false,
     "title": ""
    }
   },
   "outputs": [
    {
     "data": {
      "text/html": [
       "<style scoped>\n",
       "  .table-result-container {\n",
       "    max-height: 300px;\n",
       "    overflow: auto;\n",
       "  }\n",
       "  table, th, td {\n",
       "    border: 1px solid black;\n",
       "    border-collapse: collapse;\n",
       "  }\n",
       "  th, td {\n",
       "    padding: 5px;\n",
       "  }\n",
       "  th {\n",
       "    text-align: left;\n",
       "  }\n",
       "</style><div class='table-result-container'><table class='table-result'><thead style='background-color: white'><tr><th>TypeName</th><th>price_usd</th></tr></thead><tbody><tr><td>Notebook</td><td>622.5</td></tr><tr><td>Notebook</td><td>1948.5</td></tr><tr><td>Ultrabook</td><td>1318.5</td></tr><tr><td>Notebook</td><td>898.5</td></tr><tr><td>Notebook</td><td>1411.5</td></tr><tr><td>Notebook</td><td>1035.0</td></tr><tr><td>Ultrabook</td><td>2974.5</td></tr><tr><td>Notebook</td><td>658.04</td></tr><tr><td>Notebook</td><td>343.5</td></tr><tr><td>Notebook</td><td>823.5</td></tr><tr><td>Gaming</td><td>1423.5</td></tr><tr><td>Ultrabook</td><td>1633.5</td></tr><tr><td>Ultrabook</td><td>1432.5</td></tr><tr><td>Notebook</td><td>1305.0</td></tr><tr><td>Gaming</td><td>1642.5</td></tr><tr><td>Notebook</td><td>583.5</td></tr><tr><td>Gaming</td><td>1423.5</td></tr><tr><td>Notebook</td><td>778.5</td></tr><tr><td>Notebook</td><td>1282.5</td></tr><tr><td>Notebook</td><td>795.0</td></tr><tr><td>Gaming</td><td>1873.5</td></tr><tr><td>Notebook</td><td>1078.5</td></tr><tr><td>Notebook</td><td>523.5</td></tr><tr><td>Notebook</td><td>970.5</td></tr><tr><td>Ultrabook</td><td>1678.5</td></tr><tr><td>Ultrabook</td><td>2010.0</td></tr><tr><td>Notebook</td><td>988.5</td></tr><tr><td>Notebook</td><td>622.35</td></tr><tr><td>Ultrabook</td><td>1789.5</td></tr><tr><td>Gaming</td><td>1948.5</td></tr><tr><td>Notebook</td><td>2220.0</td></tr><tr><td>Ultrabook</td><td>1893.0</td></tr><tr><td>Ultrabook</td><td>2068.5</td></tr><tr><td>2 in 1 Convertible</td><td>2098.5</td></tr><tr><td>Notebook</td><td>1083.0</td></tr><tr><td>Ultrabook</td><td>2443.5</td></tr><tr><td>2 in 1 Convertible</td><td>2098.48</td></tr><tr><td>Notebook</td><td>1626.0</td></tr><tr><td>Notebook</td><td>1695.49</td></tr><tr><td>Notebook</td><td>846.0</td></tr><tr><td>Notebook</td><td>583.5</td></tr><tr><td>Gaming</td><td>2248.5</td></tr><tr><td>Notebook</td><td>784.48</td></tr><tr><td>Notebook</td><td>1023.0</td></tr><tr><td>2 in 1 Convertible</td><td>1498.5</td></tr><tr><td>Ultrabook</td><td>2128.5</td></tr><tr><td>Notebook</td><td>553.5</td></tr><tr><td>Gaming</td><td>1948.5</td></tr><tr><td>Notebook</td><td>958.5</td></tr><tr><td>Notebook</td><td>699.0</td></tr><tr><td>2 in 1 Convertible</td><td>478.5</td></tr><tr><td>Notebook</td><td>1261.5</td></tr><tr><td>Notebook</td><td>597.73</td></tr><tr><td>Notebook</td><td>1654.5</td></tr><tr><td>Notebook</td><td>576.0</td></tr><tr><td>Notebook</td><td>1151.7</td></tr><tr><td>Notebook</td><td>658.5</td></tr><tr><td>Notebook</td><td>879.29</td></tr><tr><td>Gaming</td><td>3673.5</td></tr><tr><td>Netbook</td><td>287.85</td></tr><tr><td>Gaming</td><td>1498.5</td></tr><tr><td>Notebook</td><td>387.0</td></tr><tr><td>2 in 1 Convertible</td><td>1228.5</td></tr><tr><td>Ultrabook</td><td>988.5</td></tr><tr><td>Notebook</td><td>627.96</td></tr><tr><td>Ultrabook</td><td>1648.5</td></tr><tr><td>Notebook</td><td>1200.0</td></tr><tr><td>Ultrabook</td><td>1947.0</td></tr><tr><td>Notebook</td><td>1344.0</td></tr><tr><td>Notebook</td><td>367.49</td></tr><tr><td>Notebook</td><td>298.5</td></tr><tr><td>Notebook</td><td>658.5</td></tr><tr><td>Ultrabook</td><td>2803.5</td></tr><tr><td>Ultrabook</td><td>1497.0</td></tr><tr><td>Notebook</td><td>373.5</td></tr><tr><td>Notebook</td><td>550.5</td></tr><tr><td>Notebook</td><td>1468.5</td></tr><tr><td>Notebook</td><td>733.04</td></tr><tr><td>Notebook</td><td>1318.5</td></tr><tr><td>Notebook</td><td>1465.5</td></tr><tr><td>Ultrabook</td><td>1644.24</td></tr><tr><td>Ultrabook</td><td>2265.0</td></tr><tr><td>Notebook</td><td>1290.0</td></tr><tr><td>Notebook</td><td>598.5</td></tr><tr><td>Notebook</td><td>592.5</td></tr><tr><td>Gaming</td><td>2023.5</td></tr><tr><td>Ultrabook</td><td>1048.5</td></tr><tr><td>Notebook</td><td>898.48</td></tr><tr><td>Gaming</td><td>2173.5</td></tr><tr><td>Ultrabook</td><td>2473.5</td></tr><tr><td>Gaming</td><td>1048.5</td></tr><tr><td>Notebook</td><td>1033.5</td></tr><tr><td>Notebook</td><td>1795.5</td></tr><tr><td>Gaming</td><td>1792.5</td></tr><tr><td>Ultrabook</td><td>1573.5</td></tr><tr><td>2 in 1 Convertible</td><td>1270.5</td></tr><tr><td>Notebook</td><td>899.85</td></tr><tr><td>Notebook</td><td>727.5</td></tr><tr><td>Notebook</td><td>865.5</td></tr><tr><td>Ultrabook</td><td>2009.53</td></tr><tr><td>Ultrabook</td><td>1348.41</td></tr><tr><td>Notebook</td><td>862.5</td></tr><tr><td>Ultrabook</td><td>3806.17</td></tr><tr><td>Ultrabook</td><td>2705.4</td></tr><tr><td>Notebook</td><td>600.0</td></tr><tr><td>Ultrabook</td><td>3209.95</td></tr><tr><td>Ultrabook</td><td>1738.05</td></tr><tr><td>Ultrabook</td><td>2242.5</td></tr><tr><td>Ultrabook</td><td>1155.0</td></tr><tr><td>Notebook</td><td>590.85</td></tr><tr><td>Notebook</td><td>517.48</td></tr><tr><td>Ultrabook</td><td>3659.95</td></tr><tr><td>Notebook</td><td>748.35</td></tr><tr><td>Ultrabook</td><td>1893.6</td></tr><tr><td>Ultrabook</td><td>2277.83</td></tr><tr><td>Notebook</td><td>1117.5</td></tr><tr><td>Ultrabook</td><td>4287.0</td></tr><tr><td>Notebook</td><td>748.5</td></tr><tr><td>Ultrabook</td><td>1468.5</td></tr><tr><td>Notebook</td><td>1677.0</td></tr><tr><td>Notebook</td><td>718.5</td></tr><tr><td>Gaming</td><td>3362.25</td></tr><tr><td>Notebook</td><td>943.5</td></tr><tr><td>Notebook</td><td>1906.5</td></tr><tr><td>Notebook</td><td>676.5</td></tr><tr><td>Notebook</td><td>388.5</td></tr><tr><td>Notebook</td><td>1218.0</td></tr><tr><td>Notebook</td><td>416.98</td></tr><tr><td>Notebook</td><td>2094.0</td></tr><tr><td>Notebook</td><td>1392.0</td></tr><tr><td>Notebook</td><td>958.48</td></tr><tr><td>Notebook</td><td>673.5</td></tr><tr><td>Ultrabook</td><td>1326.0</td></tr><tr><td>Notebook</td><td>858.0</td></tr><tr><td>Notebook</td><td>897.0</td></tr><tr><td>Notebook</td><td>1482.0</td></tr><tr><td>Notebook</td><td>378.54</td></tr><tr><td>Gaming</td><td>1407.0</td></tr><tr><td>Notebook</td><td>748.5</td></tr><tr><td>Notebook</td><td>1048.5</td></tr><tr><td>Notebook</td><td>982.5</td></tr><tr><td>Notebook</td><td>1674.03</td></tr><tr><td>Gaming</td><td>1303.5</td></tr><tr><td>Notebook</td><td>903.0</td></tr><tr><td>Notebook</td><td>553.5</td></tr><tr><td>Ultrabook</td><td>1648.5</td></tr><tr><td>Ultrabook</td><td>3021.0</td></tr><tr><td>Notebook</td><td>516.0</td></tr><tr><td>Gaming</td><td>3043.5</td></tr><tr><td>Notebook</td><td>670.5</td></tr><tr><td>Gaming</td><td>1873.89</td></tr><tr><td>Gaming</td><td>1348.5</td></tr><tr><td>Notebook</td><td>747.0</td></tr><tr><td>Gaming</td><td>2835.0</td></tr><tr><td>Ultrabook</td><td>1623.0</td></tr><tr><td>Notebook</td><td>928.5</td></tr><tr><td>2 in 1 Convertible</td><td>943.5</td></tr><tr><td>2 in 1 Convertible</td><td>1972.5</td></tr><tr><td>2 in 1 Convertible</td><td>1573.5</td></tr><tr><td>Notebook</td><td>670.5</td></tr><tr><td>Notebook</td><td>604.5</td></tr><tr><td>Notebook</td><td>1207.5</td></tr><tr><td>Notebook</td><td>1092.0</td></tr><tr><td>Gaming</td><td>1618.5</td></tr><tr><td>Notebook</td><td>522.0</td></tr><tr><td>Gaming</td><td>2698.5</td></tr><tr><td>Notebook</td><td>545.27</td></tr><tr><td>Gaming</td><td>1590.73</td></tr><tr><td>Notebook</td><td>1281.0</td></tr><tr><td>Notebook</td><td>1131.0</td></tr><tr><td>Ultrabook</td><td>2023.5</td></tr><tr><td>Notebook</td><td>1048.5</td></tr><tr><td>Notebook</td><td>463.5</td></tr><tr><td>Notebook</td><td>733.5</td></tr><tr><td>Notebook</td><td>1384.5</td></tr><tr><td>Notebook</td><td>688.5</td></tr><tr><td>Notebook</td><td>673.5</td></tr><tr><td>Gaming</td><td>4198.5</td></tr><tr><td>Notebook</td><td>1219.5</td></tr><tr><td>2 in 1 Convertible</td><td>2248.5</td></tr><tr><td>Notebook</td><td>1573.5</td></tr><tr><td>Ultrabook</td><td>2098.5</td></tr><tr><td>2 in 1 Convertible</td><td>2773.5</td></tr><tr><td>Notebook</td><td>1189.5</td></tr><tr><td>Notebook</td><td>1798.5</td></tr><tr><td>Notebook</td><td>2323.5</td></tr><tr><td>Notebook</td><td>3595.5</td></tr><tr><td>Gaming</td><td>1168.5</td></tr><tr><td>Ultrabook</td><td>1483.5</td></tr><tr><td>Notebook</td><td>1627.5</td></tr><tr><td>2 in 1 Convertible</td><td>4236.0</td></tr><tr><td>Notebook</td><td>390.0</td></tr><tr><td>Ultrabook</td><td>1499.85</td></tr><tr><td>Notebook</td><td>1047.0</td></tr><tr><td>2 in 1 Convertible</td><td>1258.5</td></tr><tr><td>Notebook</td><td>1371.0</td></tr><tr><td>Gaming</td><td>9148.5</td></tr><tr><td>Notebook</td><td>1438.5</td></tr><tr><td>Gaming</td><td>2068.5</td></tr></tbody></table></div>"
      ]
     },
     "metadata": {
      "application/vnd.databricks.v1+output": {
       "addedWidgets": {},
       "aggData": [],
       "aggError": "",
       "aggOverflow": false,
       "aggSchema": [],
       "aggSeriesLimitReached": false,
       "aggType": "",
       "arguments": {},
       "columnCustomDisplayInfos": {},
       "data": [
        [
         "Notebook",
         622.5
        ],
        [
         "Notebook",
         1948.5
        ],
        [
         "Ultrabook",
         1318.5
        ],
        [
         "Notebook",
         898.5
        ],
        [
         "Notebook",
         1411.5
        ],
        [
         "Notebook",
         1035
        ],
        [
         "Ultrabook",
         2974.5
        ],
        [
         "Notebook",
         658.04
        ],
        [
         "Notebook",
         343.5
        ],
        [
         "Notebook",
         823.5
        ],
        [
         "Gaming",
         1423.5
        ],
        [
         "Ultrabook",
         1633.5
        ],
        [
         "Ultrabook",
         1432.5
        ],
        [
         "Notebook",
         1305
        ],
        [
         "Gaming",
         1642.5
        ],
        [
         "Notebook",
         583.5
        ],
        [
         "Gaming",
         1423.5
        ],
        [
         "Notebook",
         778.5
        ],
        [
         "Notebook",
         1282.5
        ],
        [
         "Notebook",
         795
        ],
        [
         "Gaming",
         1873.5
        ],
        [
         "Notebook",
         1078.5
        ],
        [
         "Notebook",
         523.5
        ],
        [
         "Notebook",
         970.5
        ],
        [
         "Ultrabook",
         1678.5
        ],
        [
         "Ultrabook",
         2010
        ],
        [
         "Notebook",
         988.5
        ],
        [
         "Notebook",
         622.35
        ],
        [
         "Ultrabook",
         1789.5
        ],
        [
         "Gaming",
         1948.5
        ],
        [
         "Notebook",
         2220
        ],
        [
         "Ultrabook",
         1893
        ],
        [
         "Ultrabook",
         2068.5
        ],
        [
         "2 in 1 Convertible",
         2098.5
        ],
        [
         "Notebook",
         1083
        ],
        [
         "Ultrabook",
         2443.5
        ],
        [
         "2 in 1 Convertible",
         2098.48
        ],
        [
         "Notebook",
         1626
        ],
        [
         "Notebook",
         1695.49
        ],
        [
         "Notebook",
         846
        ],
        [
         "Notebook",
         583.5
        ],
        [
         "Gaming",
         2248.5
        ],
        [
         "Notebook",
         784.48
        ],
        [
         "Notebook",
         1023
        ],
        [
         "2 in 1 Convertible",
         1498.5
        ],
        [
         "Ultrabook",
         2128.5
        ],
        [
         "Notebook",
         553.5
        ],
        [
         "Gaming",
         1948.5
        ],
        [
         "Notebook",
         958.5
        ],
        [
         "Notebook",
         699
        ],
        [
         "2 in 1 Convertible",
         478.5
        ],
        [
         "Notebook",
         1261.5
        ],
        [
         "Notebook",
         597.73
        ],
        [
         "Notebook",
         1654.5
        ],
        [
         "Notebook",
         576
        ],
        [
         "Notebook",
         1151.7
        ],
        [
         "Notebook",
         658.5
        ],
        [
         "Notebook",
         879.29
        ],
        [
         "Gaming",
         3673.5
        ],
        [
         "Netbook",
         287.85
        ],
        [
         "Gaming",
         1498.5
        ],
        [
         "Notebook",
         387
        ],
        [
         "2 in 1 Convertible",
         1228.5
        ],
        [
         "Ultrabook",
         988.5
        ],
        [
         "Notebook",
         627.96
        ],
        [
         "Ultrabook",
         1648.5
        ],
        [
         "Notebook",
         1200
        ],
        [
         "Ultrabook",
         1947
        ],
        [
         "Notebook",
         1344
        ],
        [
         "Notebook",
         367.49
        ],
        [
         "Notebook",
         298.5
        ],
        [
         "Notebook",
         658.5
        ],
        [
         "Ultrabook",
         2803.5
        ],
        [
         "Ultrabook",
         1497
        ],
        [
         "Notebook",
         373.5
        ],
        [
         "Notebook",
         550.5
        ],
        [
         "Notebook",
         1468.5
        ],
        [
         "Notebook",
         733.04
        ],
        [
         "Notebook",
         1318.5
        ],
        [
         "Notebook",
         1465.5
        ],
        [
         "Ultrabook",
         1644.24
        ],
        [
         "Ultrabook",
         2265
        ],
        [
         "Notebook",
         1290
        ],
        [
         "Notebook",
         598.5
        ],
        [
         "Notebook",
         592.5
        ],
        [
         "Gaming",
         2023.5
        ],
        [
         "Ultrabook",
         1048.5
        ],
        [
         "Notebook",
         898.48
        ],
        [
         "Gaming",
         2173.5
        ],
        [
         "Ultrabook",
         2473.5
        ],
        [
         "Gaming",
         1048.5
        ],
        [
         "Notebook",
         1033.5
        ],
        [
         "Notebook",
         1795.5
        ],
        [
         "Gaming",
         1792.5
        ],
        [
         "Ultrabook",
         1573.5
        ],
        [
         "2 in 1 Convertible",
         1270.5
        ],
        [
         "Notebook",
         899.85
        ],
        [
         "Notebook",
         727.5
        ],
        [
         "Notebook",
         865.5
        ],
        [
         "Ultrabook",
         2009.53
        ],
        [
         "Ultrabook",
         1348.41
        ],
        [
         "Notebook",
         862.5
        ],
        [
         "Ultrabook",
         3806.17
        ],
        [
         "Ultrabook",
         2705.4
        ],
        [
         "Notebook",
         600
        ],
        [
         "Ultrabook",
         3209.95
        ],
        [
         "Ultrabook",
         1738.05
        ],
        [
         "Ultrabook",
         2242.5
        ],
        [
         "Ultrabook",
         1155
        ],
        [
         "Notebook",
         590.85
        ],
        [
         "Notebook",
         517.48
        ],
        [
         "Ultrabook",
         3659.95
        ],
        [
         "Notebook",
         748.35
        ],
        [
         "Ultrabook",
         1893.6
        ],
        [
         "Ultrabook",
         2277.83
        ],
        [
         "Notebook",
         1117.5
        ],
        [
         "Ultrabook",
         4287
        ],
        [
         "Notebook",
         748.5
        ],
        [
         "Ultrabook",
         1468.5
        ],
        [
         "Notebook",
         1677
        ],
        [
         "Notebook",
         718.5
        ],
        [
         "Gaming",
         3362.25
        ],
        [
         "Notebook",
         943.5
        ],
        [
         "Notebook",
         1906.5
        ],
        [
         "Notebook",
         676.5
        ],
        [
         "Notebook",
         388.5
        ],
        [
         "Notebook",
         1218
        ],
        [
         "Notebook",
         416.98
        ],
        [
         "Notebook",
         2094
        ],
        [
         "Notebook",
         1392
        ],
        [
         "Notebook",
         958.48
        ],
        [
         "Notebook",
         673.5
        ],
        [
         "Ultrabook",
         1326
        ],
        [
         "Notebook",
         858
        ],
        [
         "Notebook",
         897
        ],
        [
         "Notebook",
         1482
        ],
        [
         "Notebook",
         378.54
        ],
        [
         "Gaming",
         1407
        ],
        [
         "Notebook",
         748.5
        ],
        [
         "Notebook",
         1048.5
        ],
        [
         "Notebook",
         982.5
        ],
        [
         "Notebook",
         1674.03
        ],
        [
         "Gaming",
         1303.5
        ],
        [
         "Notebook",
         903
        ],
        [
         "Notebook",
         553.5
        ],
        [
         "Ultrabook",
         1648.5
        ],
        [
         "Ultrabook",
         3021
        ],
        [
         "Notebook",
         516
        ],
        [
         "Gaming",
         3043.5
        ],
        [
         "Notebook",
         670.5
        ],
        [
         "Gaming",
         1873.89
        ],
        [
         "Gaming",
         1348.5
        ],
        [
         "Notebook",
         747
        ],
        [
         "Gaming",
         2835
        ],
        [
         "Ultrabook",
         1623
        ],
        [
         "Notebook",
         928.5
        ],
        [
         "2 in 1 Convertible",
         943.5
        ],
        [
         "2 in 1 Convertible",
         1972.5
        ],
        [
         "2 in 1 Convertible",
         1573.5
        ],
        [
         "Notebook",
         670.5
        ],
        [
         "Notebook",
         604.5
        ],
        [
         "Notebook",
         1207.5
        ],
        [
         "Notebook",
         1092
        ],
        [
         "Gaming",
         1618.5
        ],
        [
         "Notebook",
         522
        ],
        [
         "Gaming",
         2698.5
        ],
        [
         "Notebook",
         545.27
        ],
        [
         "Gaming",
         1590.73
        ],
        [
         "Notebook",
         1281
        ],
        [
         "Notebook",
         1131
        ],
        [
         "Ultrabook",
         2023.5
        ],
        [
         "Notebook",
         1048.5
        ],
        [
         "Notebook",
         463.5
        ],
        [
         "Notebook",
         733.5
        ],
        [
         "Notebook",
         1384.5
        ],
        [
         "Notebook",
         688.5
        ],
        [
         "Notebook",
         673.5
        ],
        [
         "Gaming",
         4198.5
        ],
        [
         "Notebook",
         1219.5
        ],
        [
         "2 in 1 Convertible",
         2248.5
        ],
        [
         "Notebook",
         1573.5
        ],
        [
         "Ultrabook",
         2098.5
        ],
        [
         "2 in 1 Convertible",
         2773.5
        ],
        [
         "Notebook",
         1189.5
        ],
        [
         "Notebook",
         1798.5
        ],
        [
         "Notebook",
         2323.5
        ],
        [
         "Notebook",
         3595.5
        ],
        [
         "Gaming",
         1168.5
        ],
        [
         "Ultrabook",
         1483.5
        ],
        [
         "Notebook",
         1627.5
        ],
        [
         "2 in 1 Convertible",
         4236
        ],
        [
         "Notebook",
         390
        ],
        [
         "Ultrabook",
         1499.85
        ],
        [
         "Notebook",
         1047
        ],
        [
         "2 in 1 Convertible",
         1258.5
        ],
        [
         "Notebook",
         1371
        ],
        [
         "Gaming",
         9148.5
        ],
        [
         "Notebook",
         1438.5
        ],
        [
         "Gaming",
         2068.5
        ]
       ],
       "datasetInfos": [],
       "dbfsResultPath": null,
       "isJsonSchema": true,
       "metadata": {
        "isDbfsCommandResult": false
       },
       "overflow": false,
       "plotOptions": {
        "customPlotOptions": {},
        "displayType": "table",
        "pivotAggregation": null,
        "pivotColumns": null,
        "xColumns": null,
        "yColumns": null
       },
       "removedWidgets": [],
       "schema": [
        {
         "metadata": "{}",
         "name": "TypeName",
         "type": "\"string\""
        },
        {
         "metadata": "{}",
         "name": "price_usd",
         "type": "\"double\""
        }
       ],
       "type": "table"
      }
     },
     "output_type": "display_data"
    },
    {
     "data": {
      "text/plain": [
       "Databricks visualization. Run in Databricks to view."
      ]
     },
     "metadata": {
      "application/vnd.databricks.v1.subcommand+json": {
       "bindings": {},
       "collapsed": false,
       "command": "# Databricks no-op command",
       "commandTitle": "Visualization 1",
       "commandType": "auto",
       "commandVersion": 0,
       "commentThread": [],
       "commentsVisible": false,
       "contentSha256Hex": null,
       "customPlotOptions": {
        "redashChart": [
         {
          "key": "type",
          "value": "CHART"
         },
         {
          "key": "options",
          "value": {
           "alignYAxesAtZero": true,
           "coefficient": 1,
           "columnConfigurationMap": {
            "x": {
             "column": "TypeName",
             "id": "column_36524cc5118"
            },
            "y": [
             {
              "column": "price_usd",
              "id": "column_36524cc5119",
              "transform": "SUM"
             }
            ]
           },
           "dateTimeFormat": "DD/MM/YYYY HH:mm",
           "direction": {
            "type": "counterclockwise"
           },
           "error_y": {
            "type": "data",
            "visible": true
           },
           "globalSeriesType": "column",
           "legend": {
            "traceorder": "normal"
           },
           "missingValuesAsZero": true,
           "numberFormat": "0,0[.]00000",
           "percentFormat": "0[.]00%",
           "series": {
            "error_y": {
             "type": "data",
             "visible": true
            },
            "stacking": null
           },
           "seriesOptions": {
            "column_36524cc5119": {
             "name": "price_usd",
             "yAxis": 0
            }
           },
           "showDataLabels": false,
           "sizemode": "diameter",
           "sortX": true,
           "sortY": true,
           "swappedAxes": true,
           "textFormat": "",
           "useAggregationsUi": true,
           "valuesOptions": {},
           "version": 2,
           "xAxis": {
            "labels": {
             "enabled": true
            },
            "type": "-"
           },
           "yAxis": [
            {
             "type": "-"
            },
            {
             "opposite": true,
             "type": "-"
            }
           ]
          }
         }
        ]
       },
       "datasetPreviewNameToCmdIdMap": {},
       "diffDeletes": [],
       "diffInserts": [],
       "displayType": "redashChart",
       "error": null,
       "errorSummary": null,
       "errorTraceType": null,
       "finishTime": 0,
       "globalVars": {},
       "guid": "",
       "height": "auto",
       "hideCommandCode": false,
       "hideCommandResult": false,
       "iPythonMetadata": null,
       "inputWidgets": {},
       "isLockedInExamMode": false,
       "latestUser": "a user",
       "latestUserId": null,
       "listResultMetadata": null,
       "metadata": {},
       "nuid": "8e20edb4-7a9d-49f9-8090-45f5d482fa3c",
       "origId": 0,
       "parentHierarchy": [],
       "pivotAggregation": null,
       "pivotColumns": null,
       "position": 12,
       "resultDbfsErrorMessage": null,
       "resultDbfsStatus": "INLINED_IN_TREE",
       "results": null,
       "showCommandTitle": false,
       "startTime": 0,
       "state": "input",
       "streamStates": {},
       "subcommandOptions": {
        "queryPlan": {
         "groups": [
          {
           "column": "TypeName",
           "type": "column"
          }
         ],
         "selects": [
          {
           "column": "TypeName",
           "type": "column"
          },
          {
           "alias": "column_36524cc5119",
           "args": [
            {
             "column": "price_usd",
             "type": "column"
            }
           ],
           "function": "SUM",
           "type": "function"
          }
         ]
        }
       },
       "submitTime": 0,
       "subtype": "tableResultSubCmd.visualization",
       "tableResultIndex": 0,
       "useConsistentColors": false,
       "version": "CommandV1",
       "width": "auto",
       "workflows": [],
       "xColumns": null,
       "yColumns": null
      }
     },
     "output_type": "display_data"
    }
   ],
   "source": [
    "lab_data_filtered = lab_data.select('TypeName', 'price_usd')\n",
    "lab_data_filtered.display()"
   ]
  },
  {
   "cell_type": "code",
   "execution_count": null,
   "metadata": {
    "application/vnd.databricks.v1+cell": {
     "cellMetadata": {
      "byteLimit": 2048000,
      "rowLimit": 10000
     },
     "inputWidgets": {},
     "nuid": "76e78a90-26a6-45db-8e07-9b755202e765",
     "showTitle": false,
     "title": ""
    }
   },
   "outputs": [
    {
     "data": {
      "text/html": [
       "<style scoped>\n",
       "  .table-result-container {\n",
       "    max-height: 300px;\n",
       "    overflow: auto;\n",
       "  }\n",
       "  table, th, td {\n",
       "    border: 1px solid black;\n",
       "    border-collapse: collapse;\n",
       "  }\n",
       "  th, td {\n",
       "    padding: 5px;\n",
       "  }\n",
       "  th {\n",
       "    text-align: left;\n",
       "  }\n",
       "</style><div class='table-result-container'><table class='table-result'><thead style='background-color: white'><tr><th>Id</th><th>Company</th><th>price_usd</th></tr></thead><tbody><tr><td>67</td><td>Asus</td><td>2974.5</td></tr><tr><td>107</td><td>Microsoft</td><td>2010.0</td></tr><tr><td>112</td><td>Lenovo</td><td>2220.0</td></tr><tr><td>114</td><td>Dell</td><td>2068.5</td></tr><tr><td>115</td><td>Lenovo</td><td>2098.5</td></tr><tr><td>117</td><td>Dell</td><td>2443.5</td></tr><tr><td>118</td><td>HP</td><td>2098.48</td></tr><tr><td>42</td><td>Dell</td><td>2248.5</td></tr><tr><td>46</td><td>Apple</td><td>2128.5</td></tr><tr><td>59</td><td>MSI</td><td>3673.5</td></tr><tr><td>34</td><td>Dell</td><td>2803.5</td></tr><tr><td>83</td><td>Apple</td><td>2265.0</td></tr><tr><td>87</td><td>Dell</td><td>2023.5</td></tr><tr><td>90</td><td>Asus</td><td>2173.5</td></tr><tr><td>91</td><td>Dell</td><td>2473.5</td></tr><tr><td>1</td><td>Apple</td><td>2009.53</td></tr><tr><td>4</td><td>Apple</td><td>3806.17</td></tr><tr><td>5</td><td>Apple</td><td>2705.4</td></tr><tr><td>7</td><td>Apple</td><td>3209.95</td></tr><tr><td>9</td><td>Asus</td><td>2242.5</td></tr><tr><td>13</td><td>Apple</td><td>3659.95</td></tr><tr><td>16</td><td>Apple</td><td>2277.83</td></tr><tr><td>18</td><td>Apple</td><td>4287.0</td></tr><tr><td>124</td><td>MSI</td><td>3362.25</td></tr><tr><td>131</td><td>Dell</td><td>2094.0</td></tr><tr><td>149</td><td>HP</td><td>3021.0</td></tr><tr><td>151</td><td>MSI</td><td>3043.5</td></tr><tr><td>156</td><td>MSI</td><td>2835.0</td></tr><tr><td>169</td><td>MSI</td><td>2698.5</td></tr><tr><td>174</td><td>Huawei</td><td>2023.5</td></tr><tr><td>181</td><td>MSI</td><td>4198.5</td></tr><tr><td>183</td><td>HP</td><td>2248.5</td></tr><tr><td>185</td><td>Dell</td><td>2098.5</td></tr><tr><td>186</td><td>Lenovo</td><td>2773.5</td></tr><tr><td>189</td><td>Dell</td><td>2323.5</td></tr><tr><td>190</td><td>Dell</td><td>3595.5</td></tr><tr><td>194</td><td>Lenovo</td><td>4236.0</td></tr><tr><td>200</td><td>Razer</td><td>9148.5</td></tr><tr><td>202</td><td>HP</td><td>2068.5</td></tr></tbody></table></div>"
      ]
     },
     "metadata": {
      "application/vnd.databricks.v1+output": {
       "addedWidgets": {},
       "aggData": [],
       "aggError": "",
       "aggOverflow": false,
       "aggSchema": [],
       "aggSeriesLimitReached": false,
       "aggType": "",
       "arguments": {},
       "columnCustomDisplayInfos": {},
       "data": [
        [
         67,
         "Asus",
         2974.5
        ],
        [
         107,
         "Microsoft",
         2010
        ],
        [
         112,
         "Lenovo",
         2220
        ],
        [
         114,
         "Dell",
         2068.5
        ],
        [
         115,
         "Lenovo",
         2098.5
        ],
        [
         117,
         "Dell",
         2443.5
        ],
        [
         118,
         "HP",
         2098.48
        ],
        [
         42,
         "Dell",
         2248.5
        ],
        [
         46,
         "Apple",
         2128.5
        ],
        [
         59,
         "MSI",
         3673.5
        ],
        [
         34,
         "Dell",
         2803.5
        ],
        [
         83,
         "Apple",
         2265
        ],
        [
         87,
         "Dell",
         2023.5
        ],
        [
         90,
         "Asus",
         2173.5
        ],
        [
         91,
         "Dell",
         2473.5
        ],
        [
         1,
         "Apple",
         2009.53
        ],
        [
         4,
         "Apple",
         3806.17
        ],
        [
         5,
         "Apple",
         2705.4
        ],
        [
         7,
         "Apple",
         3209.95
        ],
        [
         9,
         "Asus",
         2242.5
        ],
        [
         13,
         "Apple",
         3659.95
        ],
        [
         16,
         "Apple",
         2277.83
        ],
        [
         18,
         "Apple",
         4287
        ],
        [
         124,
         "MSI",
         3362.25
        ],
        [
         131,
         "Dell",
         2094
        ],
        [
         149,
         "HP",
         3021
        ],
        [
         151,
         "MSI",
         3043.5
        ],
        [
         156,
         "MSI",
         2835
        ],
        [
         169,
         "MSI",
         2698.5
        ],
        [
         174,
         "Huawei",
         2023.5
        ],
        [
         181,
         "MSI",
         4198.5
        ],
        [
         183,
         "HP",
         2248.5
        ],
        [
         185,
         "Dell",
         2098.5
        ],
        [
         186,
         "Lenovo",
         2773.5
        ],
        [
         189,
         "Dell",
         2323.5
        ],
        [
         190,
         "Dell",
         3595.5
        ],
        [
         194,
         "Lenovo",
         4236
        ],
        [
         200,
         "Razer",
         9148.5
        ],
        [
         202,
         "HP",
         2068.5
        ]
       ],
       "datasetInfos": [],
       "dbfsResultPath": null,
       "isJsonSchema": true,
       "metadata": {
        "isDbfsCommandResult": false
       },
       "overflow": false,
       "plotOptions": {
        "customPlotOptions": {},
        "displayType": "table",
        "pivotAggregation": null,
        "pivotColumns": null,
        "xColumns": null,
        "yColumns": null
       },
       "removedWidgets": [],
       "schema": [
        {
         "metadata": "{}",
         "name": "Id",
         "type": "\"integer\""
        },
        {
         "metadata": "{}",
         "name": "Company",
         "type": "\"string\""
        },
        {
         "metadata": "{}",
         "name": "price_usd",
         "type": "\"double\""
        }
       ],
       "type": "table"
      }
     },
     "output_type": "display_data"
    }
   ],
   "source": [
    "lab_data = lab_data.select('Id', 'Company', 'price_usd')\\\n",
    "                    .where(\"price_usd > 2000\")\n",
    "lab_data.display()"
   ]
  },
  {
   "cell_type": "code",
   "execution_count": null,
   "metadata": {
    "application/vnd.databricks.v1+cell": {
     "cellMetadata": {
      "byteLimit": 2048000,
      "rowLimit": 10000
     },
     "inputWidgets": {},
     "nuid": "814bfd17-2cfb-4d35-910f-74e406de4bae",
     "showTitle": false,
     "title": ""
    }
   },
   "outputs": [
    {
     "name": "stdout",
     "output_type": "stream",
     "text": [
      "Out[41]: <pyspark.sql.streaming.query.StreamingQuery at 0x7fdb0178c0a0>"
     ]
    }
   ],
   "source": [
    "#Fixed interval micro batch trigger\n",
    "  # specified by user every 20 seconds write stream data into memory\n",
    "  # with new table ex:premium_labtops_20\n",
    "  # so every 20 seconds new table in memory updated if there are new stram data\n",
    "\"\"\"\n",
    "- If no data available no processing\n",
    "If previous micro-batch completes\n",
    "within the interval:\n",
    "    - engine waits till interval is over\n",
    "If previous micro-batch takes longer\n",
    "than specified interval:\n",
    "    - next micro-batch starts as soon as data arrives\n",
    "\"\"\"\n",
    "lab_data.writeStream\\\n",
    "    .format(\"memory\")\\\n",
    "    .queryName(\"premium_labtops_20\")\\\n",
    "    .trigger(processingTime = \"20 seconds\")\\\n",
    "    .start()"
   ]
  },
  {
   "cell_type": "code",
   "execution_count": null,
   "metadata": {
    "application/vnd.databricks.v1+cell": {
     "cellMetadata": {
      "byteLimit": 2048000,
      "rowLimit": 10000
     },
     "inputWidgets": {},
     "nuid": "0b80461c-1351-4980-899b-57c744fd0a54",
     "showTitle": false,
     "title": ""
    }
   },
   "outputs": [
    {
     "data": {
      "text/html": [
       "<style scoped>\n",
       "  .table-result-container {\n",
       "    max-height: 300px;\n",
       "    overflow: auto;\n",
       "  }\n",
       "  table, th, td {\n",
       "    border: 1px solid black;\n",
       "    border-collapse: collapse;\n",
       "  }\n",
       "  th, td {\n",
       "    padding: 5px;\n",
       "  }\n",
       "  th {\n",
       "    text-align: left;\n",
       "  }\n",
       "</style><div class='table-result-container'><table class='table-result'><thead style='background-color: white'><tr><th>Company</th><th>count(1)</th></tr></thead><tbody><tr><td>Dell</td><td>7</td></tr><tr><td>Asus</td><td>3</td></tr><tr><td>Lenovo</td><td>2</td></tr><tr><td>Microsoft</td><td>1</td></tr><tr><td>HP</td><td>1</td></tr><tr><td>Apple</td><td>9</td></tr><tr><td>MSI</td><td>2</td></tr></tbody></table></div>"
      ]
     },
     "metadata": {
      "application/vnd.databricks.v1+output": {
       "addedWidgets": {},
       "aggData": [],
       "aggError": "",
       "aggOverflow": false,
       "aggSchema": [],
       "aggSeriesLimitReached": false,
       "aggType": "",
       "arguments": {},
       "columnCustomDisplayInfos": {},
       "data": [
        [
         "Dell",
         7
        ],
        [
         "Asus",
         3
        ],
        [
         "Lenovo",
         2
        ],
        [
         "Microsoft",
         1
        ],
        [
         "HP",
         1
        ],
        [
         "Apple",
         9
        ],
        [
         "MSI",
         2
        ]
       ],
       "datasetInfos": [],
       "dbfsResultPath": null,
       "isJsonSchema": true,
       "metadata": {},
       "overflow": false,
       "plotOptions": {
        "customPlotOptions": {},
        "displayType": "table",
        "pivotAggregation": null,
        "pivotColumns": null,
        "xColumns": null,
        "yColumns": null
       },
       "removedWidgets": [],
       "schema": [
        {
         "metadata": "{}",
         "name": "Company",
         "type": "\"string\""
        },
        {
         "metadata": "{\"__autoGeneratedAlias\":\"true\"}",
         "name": "count(1)",
         "type": "\"long\""
        }
       ],
       "type": "table"
      }
     },
     "output_type": "display_data"
    }
   ],
   "source": [
    "\"\"\"\n",
    "Because this is batch query:\n",
    "need to rerun if new stream/records data added\n",
    "\"\"\"\n",
    "spark.sql(\"select Company, count(*) from premium_labtops_20 group by Company\")\\\n",
    "    .display()"
   ]
  },
  {
   "cell_type": "code",
   "execution_count": null,
   "metadata": {
    "application/vnd.databricks.v1+cell": {
     "cellMetadata": {
      "byteLimit": 2048000,
      "rowLimit": 10000
     },
     "inputWidgets": {},
     "nuid": "f7af54fa-9fbe-49bf-ae5a-03faad65bd0f",
     "showTitle": false,
     "title": ""
    }
   },
   "outputs": [
    {
     "data": {
      "text/html": [
       "<style scoped>\n",
       "  .table-result-container {\n",
       "    max-height: 300px;\n",
       "    overflow: auto;\n",
       "  }\n",
       "  table, th, td {\n",
       "    border: 1px solid black;\n",
       "    border-collapse: collapse;\n",
       "  }\n",
       "  th, td {\n",
       "    padding: 5px;\n",
       "  }\n",
       "  th {\n",
       "    text-align: left;\n",
       "  }\n",
       "</style><div class='table-result-container'><table class='table-result'><thead style='background-color: white'><tr><th>Company</th><th>round(avg(price_usd), 2)</th></tr></thead><tbody><tr><td>Dell</td><td>2307.86</td></tr><tr><td>Asus</td><td>2463.5</td></tr><tr><td>Lenovo</td><td>2159.25</td></tr><tr><td>Microsoft</td><td>2010.0</td></tr><tr><td>HP</td><td>2098.48</td></tr><tr><td>Apple</td><td>2927.7</td></tr><tr><td>MSI</td><td>3517.88</td></tr></tbody></table></div>"
      ]
     },
     "metadata": {
      "application/vnd.databricks.v1+output": {
       "addedWidgets": {},
       "aggData": [],
       "aggError": "",
       "aggOverflow": false,
       "aggSchema": [],
       "aggSeriesLimitReached": false,
       "aggType": "",
       "arguments": {},
       "columnCustomDisplayInfos": {},
       "data": [
        [
         "Dell",
         2307.86
        ],
        [
         "Asus",
         2463.5
        ],
        [
         "Lenovo",
         2159.25
        ],
        [
         "Microsoft",
         2010
        ],
        [
         "HP",
         2098.48
        ],
        [
         "Apple",
         2927.7
        ],
        [
         "MSI",
         3517.88
        ]
       ],
       "datasetInfos": [],
       "dbfsResultPath": null,
       "isJsonSchema": true,
       "metadata": {},
       "overflow": false,
       "plotOptions": {
        "customPlotOptions": {},
        "displayType": "table",
        "pivotAggregation": null,
        "pivotColumns": null,
        "xColumns": null,
        "yColumns": null
       },
       "removedWidgets": [],
       "schema": [
        {
         "metadata": "{}",
         "name": "Company",
         "type": "\"string\""
        },
        {
         "metadata": "{\"__autoGeneratedAlias\":\"true\"}",
         "name": "round(avg(price_usd), 2)",
         "type": "\"double\""
        }
       ],
       "type": "table"
      }
     },
     "output_type": "display_data"
    }
   ],
   "source": [
    "spark.sql(\"select Company, round(avg(price_usd), 2) from premium_labtops_20 group by Company\")\\\n",
    "    .display()"
   ]
  },
  {
   "cell_type": "code",
   "execution_count": null,
   "metadata": {
    "application/vnd.databricks.v1+cell": {
     "cellMetadata": {
      "byteLimit": 2048000,
      "rowLimit": 10000
     },
     "inputWidgets": {},
     "nuid": "d4f0bd5e-b28f-4095-b49e-553346a97b6f",
     "showTitle": false,
     "title": ""
    }
   },
   "outputs": [
    {
     "name": "stdout",
     "output_type": "stream",
     "text": [
      "Out[49]: <pyspark.sql.streaming.query.StreamingQuery at 0x7fdb01eccfd0>"
     ]
    }
   ],
   "source": [
    "\"\"\"\n",
    "Once Micro Batch Trigger:\n",
    "- Execute only one micro-batch to process all available data\n",
    "- Once processed, query will stop\n",
    "- Used when cluster periodically spun up\n",
    "to process data since last period\n",
    "- May result in significant cost savings, because run job when user need\n",
    "not continous\n",
    "\"\"\"\n",
    "lab_data.writeStream\\\n",
    "    .format(\"memory\")\\\n",
    "    .queryName(\"premium_labtops_once\")\\\n",
    "    .trigger(once = True)\\\n",
    "    .start()"
   ]
  },
  {
   "cell_type": "code",
   "execution_count": null,
   "metadata": {
    "application/vnd.databricks.v1+cell": {
     "cellMetadata": {
      "byteLimit": 2048000,
      "rowLimit": 10000
     },
     "inputWidgets": {},
     "nuid": "13cbf141-9f15-4146-9833-e89f7166c0b0",
     "showTitle": false,
     "title": ""
    }
   },
   "outputs": [
    {
     "data": {
      "text/html": [
       "<style scoped>\n",
       "  .table-result-container {\n",
       "    max-height: 300px;\n",
       "    overflow: auto;\n",
       "  }\n",
       "  table, th, td {\n",
       "    border: 1px solid black;\n",
       "    border-collapse: collapse;\n",
       "  }\n",
       "  th, td {\n",
       "    padding: 5px;\n",
       "  }\n",
       "  th {\n",
       "    text-align: left;\n",
       "  }\n",
       "</style><div class='table-result-container'><table class='table-result'><thead style='background-color: white'><tr><th>Company</th><th>round(avg(price_usd), 2)</th></tr></thead><tbody><tr><td>HP</td><td>2359.12</td></tr><tr><td>Dell</td><td>2417.25</td></tr><tr><td>Asus</td><td>2463.5</td></tr><tr><td>Lenovo</td><td>2832.0</td></tr><tr><td>Microsoft</td><td>2010.0</td></tr><tr><td>MSI</td><td>3301.88</td></tr><tr><td>Huawei</td><td>2023.5</td></tr><tr><td>Apple</td><td>2927.7</td></tr><tr><td>Razer</td><td>9148.5</td></tr></tbody></table></div>"
      ]
     },
     "metadata": {
      "application/vnd.databricks.v1+output": {
       "addedWidgets": {},
       "aggData": [],
       "aggError": "",
       "aggOverflow": false,
       "aggSchema": [],
       "aggSeriesLimitReached": false,
       "aggType": "",
       "arguments": {},
       "columnCustomDisplayInfos": {},
       "data": [
        [
         "HP",
         2359.12
        ],
        [
         "Dell",
         2417.25
        ],
        [
         "Asus",
         2463.5
        ],
        [
         "Lenovo",
         2832
        ],
        [
         "Microsoft",
         2010
        ],
        [
         "MSI",
         3301.88
        ],
        [
         "Huawei",
         2023.5
        ],
        [
         "Apple",
         2927.7
        ],
        [
         "Razer",
         9148.5
        ]
       ],
       "datasetInfos": [],
       "dbfsResultPath": null,
       "isJsonSchema": true,
       "metadata": {},
       "overflow": false,
       "plotOptions": {
        "customPlotOptions": {},
        "displayType": "table",
        "pivotAggregation": null,
        "pivotColumns": null,
        "xColumns": null,
        "yColumns": null
       },
       "removedWidgets": [],
       "schema": [
        {
         "metadata": "{}",
         "name": "Company",
         "type": "\"string\""
        },
        {
         "metadata": "{\"__autoGeneratedAlias\":\"true\"}",
         "name": "round(avg(price_usd), 2)",
         "type": "\"double\""
        }
       ],
       "type": "table"
      }
     },
     "output_type": "display_data"
    }
   ],
   "source": [
    "\"\"\"\n",
    "Because this is batch query:\n",
    "need to rerun if new stream/records data added\n",
    "but first rerun to writeStream with trigger \"Once time micro batch\":\n",
    "  if new data will updare in table in memory\n",
    "\"\"\"\n",
    "spark.sql(\"select Company, round(avg(price_usd), 2) from premium_labtops_once group by Company\")\\\n",
    "    .display()"
   ]
  },
  {
   "cell_type": "code",
   "execution_count": null,
   "metadata": {
    "application/vnd.databricks.v1+cell": {
     "cellMetadata": {
      "byteLimit": 2048000,
      "rowLimit": 10000
     },
     "inputWidgets": {},
     "nuid": "a190c979-8a48-42f8-89e6-b1ebefb4fa7d",
     "showTitle": false,
     "title": ""
    }
   },
   "outputs": [
    {
     "name": "stdout",
     "output_type": "stream",
     "text": [
      "Out[53]: True"
     ]
    }
   ],
   "source": [
    "dbutils.fs.mkdirs(\"dbfs:/FileStore/shared_uploads/auto_loader_streaming\")"
   ]
  },
  {
   "cell_type": "code",
   "execution_count": null,
   "metadata": {
    "application/vnd.databricks.v1+cell": {
     "cellMetadata": {
      "byteLimit": 2048000,
      "rowLimit": 10000
     },
     "inputWidgets": {},
     "nuid": "451231ba-19fc-4089-aa41-e87838a45bac",
     "showTitle": false,
     "title": ""
    }
   },
   "outputs": [
    {
     "name": "stdout",
     "output_type": "stream",
     "text": [
      "Out[54]: [FileInfo(path='dbfs:/FileStore/shared_uploads/auto_loader_streaming/laptops_01.csv', name='laptops_01.csv', size=760, modificationTime=1692953530000),\n",
      " FileInfo(path='dbfs:/FileStore/shared_uploads/auto_loader_streaming/laptops_02.csv', name='laptops_02.csv', size=833, modificationTime=1692953530000)]"
     ]
    }
   ],
   "source": [
    "dbutils.fs.ls(\"dbfs:/FileStore/shared_uploads/auto_loader_streaming\")"
   ]
  },
  {
   "cell_type": "code",
   "execution_count": null,
   "metadata": {
    "application/vnd.databricks.v1+cell": {
     "cellMetadata": {},
     "inputWidgets": {},
     "nuid": "b6110100-b516-46fd-bee6-d40ddf083800",
     "showTitle": false,
     "title": ""
    }
   },
   "outputs": [],
   "source": [
    "\"\"\"\n",
    "What is Auto Loader?\n",
    "- Auto Loader is a Spark feature that allows this out-of-the box. It allows to incrementally load the data as soon as it lands on the cloud storage.\n",
    "\n",
    "- Under the hood (in Azure Databricks), running Auto Loader will automatically set up an Azure Event Grid and Queue Storage services. Through these services, auto loader uses the queue from Azure Storage to easily find the new files, pass them to Spark and thus load the data with low latency and at a low cost within your streaming or batch jobs. The Auto Loader logs which files were processed which guarantees an exactly once processing of the incoming data.\n",
    "\"\"\""
   ]
  },
  {
   "cell_type": "code",
   "execution_count": null,
   "metadata": {
    "application/vnd.databricks.v1+cell": {
     "cellMetadata": {
      "byteLimit": 2048000,
      "rowLimit": 10000
     },
     "inputWidgets": {},
     "nuid": "414f1c83-189c-4b79-b3a8-937506356729",
     "showTitle": false,
     "title": ""
    }
   },
   "outputs": [],
   "source": [
    "\"\"\"\n",
    "                                Auto Loader\n",
    "\n",
    "- format(\"cloudFiles\"): Auto loader provides structured streaming source called cloud files\n",
    "when specify, automatically process new file when arrive\n",
    "\n",
    "- schema: specify location to track the schema of files \n",
    "- load: specify dir location which we read data from \n",
    "\"\"\"\n",
    "laptob_stream_data = spark.readStream.format(\"cloudFiles\")\\\n",
    "    .option(\"cloudFiles.format\", \"csv\")\\\n",
    "        .option(\"cloudFiles.schemaLocation\", \"dbfs:/FileStore/shared_uploads/auto_loader_streaming\")\\\n",
    "            .load(\"dbfs:/FileStore/shared_uploads/auto_loader_streaming\")"
   ]
  },
  {
   "cell_type": "code",
   "execution_count": null,
   "metadata": {
    "application/vnd.databricks.v1+cell": {
     "cellMetadata": {
      "byteLimit": 2048000,
      "rowLimit": 10000
     },
     "inputWidgets": {},
     "nuid": "4848449a-472f-4247-9c3e-b692109faab8",
     "showTitle": false,
     "title": ""
    }
   },
   "outputs": [
    {
     "data": {
      "text/html": [
       "<style scoped>\n",
       "  .table-result-container {\n",
       "    max-height: 300px;\n",
       "    overflow: auto;\n",
       "  }\n",
       "  table, th, td {\n",
       "    border: 1px solid black;\n",
       "    border-collapse: collapse;\n",
       "  }\n",
       "  th, td {\n",
       "    padding: 5px;\n",
       "  }\n",
       "  th {\n",
       "    text-align: left;\n",
       "  }\n",
       "</style><div class='table-result-container'><table class='table-result'><thead style='background-color: white'><tr><th>Id</th><th>Company</th><th>Product</th><th>TypeName</th><th>Price_euros</th><th>_rescued_data</th></tr></thead><tbody><tr><td>21</td><td>Asus</td><td>Vivobook E200HA</td><td>Netbook</td><td>191.9</td><td>null</td></tr><tr><td>22</td><td>Lenovo</td><td>Legion Y520-15IKBN</td><td>Gaming</td><td>999</td><td>null</td></tr><tr><td>23</td><td>HP</td><td>255 G6</td><td>Notebook</td><td>258</td><td>null</td></tr><tr><td>24</td><td>Dell</td><td>Inspiron 5379</td><td>2 in 1 Convertible</td><td>819</td><td>null</td></tr><tr><td>25</td><td>HP</td><td>15-BS101nv (i7-8550U/8GB/256GB/FHD/W10)</td><td>Ultrabook</td><td>659</td><td>null</td></tr><tr><td>26</td><td>Dell</td><td>Inspiron 3567</td><td>Notebook</td><td>418.64</td><td>null</td></tr><tr><td>27</td><td>Apple</td><td>MacBook Air</td><td>Ultrabook</td><td>1099</td><td>null</td></tr><tr><td>28</td><td>Dell</td><td>Inspiron 5570</td><td>Notebook</td><td>800</td><td>null</td></tr><tr><td>29</td><td>Dell</td><td>Latitude 5590</td><td>Ultrabook</td><td>1298</td><td>null</td></tr><tr><td>30</td><td>HP</td><td>ProBook 470</td><td>Notebook</td><td>896</td><td>null</td></tr><tr><td>31</td><td>Chuwi</td><td>LapBook 15.6\"\"</td><td>Notebook</td><td>244.99</td><td>null</td></tr><tr><td>32</td><td>Asus</td><td>E402WA-GA010T (E2-6110/2GB/32GB/W10)</td><td>Notebook</td><td>199</td><td>null</td></tr><tr><td>33</td><td>HP</td><td>17-ak001nv (A6-9220/4GB/500GB/Radeon</td><td>Notebook</td><td>439</td><td>null</td></tr><tr><td>34</td><td>Dell</td><td>XPS 13</td><td>Ultrabook</td><td>1869</td><td>null</td></tr><tr><td>35</td><td>Apple</td><td>MacBook Air</td><td>Ultrabook</td><td>998</td><td>null</td></tr><tr><td>36</td><td>Lenovo</td><td>IdeaPad 120S-14IAP</td><td>Notebook</td><td>249</td><td>null</td></tr><tr><td>37</td><td>Acer</td><td>Aspire 3</td><td>Notebook</td><td>367</td><td>null</td></tr><tr><td>38</td><td>Dell</td><td>Inspiron 5770</td><td>Notebook</td><td>979</td><td>null</td></tr><tr><td>39</td><td>HP</td><td>250 G6</td><td>Notebook</td><td>488.69</td><td>null</td></tr><tr><td>40</td><td>HP</td><td>ProBook 450</td><td>Notebook</td><td>879</td><td>null</td></tr><tr><td>1</td><td>Apple</td><td>MacBook Pro</td><td>Ultrabook</td><td>1339.69</td><td>null</td></tr><tr><td>2</td><td>Apple</td><td>Macbook Air</td><td>Ultrabook</td><td>898.94</td><td>null</td></tr><tr><td>3</td><td>HP</td><td>250 G6</td><td>Notebook</td><td>575</td><td>null</td></tr><tr><td>4</td><td>Apple</td><td>MacBook Pro</td><td>Ultrabook</td><td>2537.45</td><td>null</td></tr><tr><td>5</td><td>Apple</td><td>MacBook Pro</td><td>Ultrabook</td><td>1803.6</td><td>null</td></tr><tr><td>6</td><td>Acer</td><td>Aspire 3</td><td>Notebook</td><td>400</td><td>null</td></tr><tr><td>7</td><td>Apple</td><td>MacBook Pro</td><td>Ultrabook</td><td>2139.97</td><td>null</td></tr><tr><td>8</td><td>Apple</td><td>Macbook Air</td><td>Ultrabook</td><td>1158.7</td><td>null</td></tr><tr><td>9</td><td>Asus</td><td>ZenBook UX430UN</td><td>Ultrabook</td><td>1495</td><td>null</td></tr><tr><td>10</td><td>Acer</td><td>Swift 3</td><td>Ultrabook</td><td>770</td><td>null</td></tr><tr><td>11</td><td>HP</td><td>250 G6</td><td>Notebook</td><td>393.9</td><td>null</td></tr><tr><td>12</td><td>HP</td><td>250 G6</td><td>Notebook</td><td>344.99</td><td>null</td></tr><tr><td>13</td><td>Apple</td><td>MacBook Pro</td><td>Ultrabook</td><td>2439.97</td><td>null</td></tr><tr><td>14</td><td>Dell</td><td>Inspiron 3567</td><td>Notebook</td><td>498.9</td><td>null</td></tr><tr><td>15</td><td>Apple</td><td>MacBook 12\"\"</td><td>Ultrabook</td><td>1262.4</td><td>null</td></tr><tr><td>16</td><td>Apple</td><td>MacBook Pro</td><td>Ultrabook</td><td>1518.55</td><td>null</td></tr><tr><td>17</td><td>Dell</td><td>Inspiron 3567</td><td>Notebook</td><td>745</td><td>null</td></tr><tr><td>18</td><td>Apple</td><td>MacBook Pro</td><td>Ultrabook</td><td>2858</td><td>null</td></tr><tr><td>19</td><td>Lenovo</td><td>IdeaPad 320-15IKB</td><td>Notebook</td><td>499</td><td>null</td></tr><tr><td>20</td><td>Dell</td><td>XPS 13</td><td>Ultrabook</td><td>979</td><td>null</td></tr><tr><td>41</td><td>Asus</td><td>X540UA-DM186 (i3-6006U/4GB/1TB/FHD/Linux)</td><td>Notebook</td><td>389</td><td>{\"TYPENAME\":\"Notebook\",\"_file_path\":\"dbfs:/FileStore/shared_uploads/auto_loader_streaming/laptops_03_extracol.csv\"}</td></tr><tr><td>42</td><td>Dell</td><td>Inspiron 7577</td><td>Gaming</td><td>1499</td><td>{\"TYPENAME\":\"Gaming\",\"_file_path\":\"dbfs:/FileStore/shared_uploads/auto_loader_streaming/laptops_03_extracol.csv\"}</td></tr><tr><td>43</td><td>Asus</td><td>X542UQ-GO005 (i5-7200U/8GB/1TB/GeForce</td><td>Notebook</td><td>522.99</td><td>{\"TYPENAME\":\"Notebook\",\"_file_path\":\"dbfs:/FileStore/shared_uploads/auto_loader_streaming/laptops_03_extracol.csv\"}</td></tr><tr><td>44</td><td>Acer</td><td>Aspire A515-51G</td><td>Notebook</td><td>682</td><td>{\"TYPENAME\":\"Notebook\",\"_file_path\":\"dbfs:/FileStore/shared_uploads/auto_loader_streaming/laptops_03_extracol.csv\"}</td></tr><tr><td>45</td><td>Dell</td><td>Inspiron 7773</td><td>2 in 1 Convertible</td><td>999</td><td>{\"TYPENAME\":\"2 in 1 Convertible\",\"_file_path\":\"dbfs:/FileStore/shared_uploads/auto_loader_streaming/laptops_03_extracol.csv\"}</td></tr><tr><td>46</td><td>Apple</td><td>MacBook Pro</td><td>Ultrabook</td><td>1419</td><td>{\"TYPENAME\":\"Ultrabook\",\"_file_path\":\"dbfs:/FileStore/shared_uploads/auto_loader_streaming/laptops_03_extracol.csv\"}</td></tr><tr><td>47</td><td>Lenovo</td><td>IdeaPad 320-15ISK</td><td>Notebook</td><td>369</td><td>{\"TYPENAME\":\"Notebook\",\"_file_path\":\"dbfs:/FileStore/shared_uploads/auto_loader_streaming/laptops_03_extracol.csv\"}</td></tr><tr><td>48</td><td>Asus</td><td>Rog Strix</td><td>Gaming</td><td>1299</td><td>{\"TYPENAME\":\"Gaming\",\"_file_path\":\"dbfs:/FileStore/shared_uploads/auto_loader_streaming/laptops_03_extracol.csv\"}</td></tr><tr><td>49</td><td>Dell</td><td>Inspiron 3567</td><td>Notebook</td><td>639</td><td>{\"TYPENAME\":\"Notebook\",\"_file_path\":\"dbfs:/FileStore/shared_uploads/auto_loader_streaming/laptops_03_extracol.csv\"}</td></tr><tr><td>50</td><td>Asus</td><td>X751NV-TY001T (N4200/4GB/1TB/GeForce</td><td>Notebook</td><td>466</td><td>{\"TYPENAME\":\"Notebook\",\"_file_path\":\"dbfs:/FileStore/shared_uploads/auto_loader_streaming/laptops_03_extracol.csv\"}</td></tr><tr><td>51</td><td>Lenovo</td><td>Yoga Book</td><td>2 in 1 Convertible</td><td>319</td><td>{\"TYPENAME\":\"2 in 1 Convertible\",\"_file_path\":\"dbfs:/FileStore/shared_uploads/auto_loader_streaming/laptops_03_extracol.csv\"}</td></tr><tr><td>52</td><td>Acer</td><td>Aspire A515-51G</td><td>Notebook</td><td>841</td><td>{\"TYPENAME\":\"Notebook\",\"_file_path\":\"dbfs:/FileStore/shared_uploads/auto_loader_streaming/laptops_03_extracol.csv\"}</td></tr><tr><td>53</td><td>HP</td><td>255 G6</td><td>Notebook</td><td>398.49</td><td>{\"TYPENAME\":\"Notebook\",\"_file_path\":\"dbfs:/FileStore/shared_uploads/auto_loader_streaming/laptops_03_extracol.csv\"}</td></tr><tr><td>54</td><td>HP</td><td>ProBook 430</td><td>Notebook</td><td>1103</td><td>{\"TYPENAME\":\"Notebook\",\"_file_path\":\"dbfs:/FileStore/shared_uploads/auto_loader_streaming/laptops_03_extracol.csv\"}</td></tr><tr><td>55</td><td>Acer</td><td>Aspire 3</td><td>Notebook</td><td>384</td><td>{\"TYPENAME\":\"Notebook\",\"_file_path\":\"dbfs:/FileStore/shared_uploads/auto_loader_streaming/laptops_03_extracol.csv\"}</td></tr><tr><td>56</td><td>Dell</td><td>Inspiron 3576</td><td>Notebook</td><td>767.8</td><td>{\"TYPENAME\":\"Notebook\",\"_file_path\":\"dbfs:/FileStore/shared_uploads/auto_loader_streaming/laptops_03_extracol.csv\"}</td></tr><tr><td>57</td><td>HP</td><td>15-bs002nv (i3-6006U/4GB/128GB/FHD/W10)</td><td>Notebook</td><td>439</td><td>{\"TYPENAME\":\"Notebook\",\"_file_path\":\"dbfs:/FileStore/shared_uploads/auto_loader_streaming/laptops_03_extracol.csv\"}</td></tr><tr><td>58</td><td>Asus</td><td>VivoBook Max</td><td>Notebook</td><td>586.19</td><td>{\"TYPENAME\":\"Notebook\",\"_file_path\":\"dbfs:/FileStore/shared_uploads/auto_loader_streaming/laptops_03_extracol.csv\"}</td></tr><tr><td>59</td><td>MSI</td><td>GS73VR 7RG</td><td>Gaming</td><td>2449</td><td>{\"TYPENAME\":\"Gaming\",\"_file_path\":\"dbfs:/FileStore/shared_uploads/auto_loader_streaming/laptops_03_extracol.csv\"}</td></tr><tr><td>60</td><td>Asus</td><td>X541UA-DM1897 (i3-6006U/4GB/256GB/FHD/Linux)</td><td>Notebook</td><td>415</td><td>null</td></tr><tr><td>61</td><td>Dell</td><td>Inspiron 5770</td><td>Notebook</td><td>1299</td><td>null</td></tr><tr><td>62</td><td>Dell</td><td>Vostro 5471</td><td>Ultrabook</td><td>879</td><td>null</td></tr><tr><td>63</td><td>Lenovo</td><td>IdeaPad 520S-14IKB</td><td>Notebook</td><td>599</td><td>null</td></tr><tr><td>64</td><td>Asus</td><td>UX410UA-GV350T (i5-8250U/8GB/256GB/FHD/W10)</td><td>Notebook</td><td>941</td><td>null</td></tr><tr><td>66</td><td>HP</td><td>250 G6</td><td>Notebook</td><td>690</td><td>null</td></tr><tr><td>67</td><td>Asus</td><td>ZenBook Pro</td><td>Ultrabook</td><td>1983</td><td>null</td></tr><tr><td>68</td><td>HP</td><td>250 G6</td><td>Notebook</td><td>438.69</td><td>null</td></tr><tr><td>69</td><td>HP</td><td>Stream 14-AX040wm</td><td>Notebook</td><td>229</td><td>null</td></tr><tr><td>70</td><td>Lenovo</td><td>V310-15ISK (i5-7200U/4GB/1TB/FHD/W10)</td><td>Notebook</td><td>549</td><td>null</td></tr><tr><td>71</td><td>Asus</td><td>FX753VE-GC093 (i7-7700HQ/12GB/1TB/GeForce</td><td>Gaming</td><td>949</td><td>null</td></tr><tr><td>72</td><td>Microsoft</td><td>Surface Laptop</td><td>Ultrabook</td><td>1089</td><td>null</td></tr><tr><td>73</td><td>Dell</td><td>Inspiron 5370</td><td>Ultrabook</td><td>955</td><td>null</td></tr><tr><td>74</td><td>Dell</td><td>Inspiron 5570</td><td>Notebook</td><td>870</td><td>null</td></tr><tr><td>75</td><td>MSI</td><td>GL72M 7RDX</td><td>Gaming</td><td>1095</td><td>null</td></tr><tr><td>76</td><td>Acer</td><td>Aspire E5-475</td><td>Notebook</td><td>389</td><td>null</td></tr><tr><td>77</td><td>Asus</td><td>FX503VD-E4022T (i7-7700HQ/8GB/1TB/GeForce</td><td>Gaming</td><td>949</td><td>null</td></tr><tr><td>78</td><td>Lenovo</td><td>IdeaPad 320-15IKBN</td><td>Notebook</td><td>519</td><td>null</td></tr><tr><td>79</td><td>Dell</td><td>Inspiron 5570</td><td>Notebook</td><td>855</td><td>null</td></tr><tr><td>80</td><td>Acer</td><td>Aspire A515-51G-32MX</td><td>Notebook</td><td>530</td><td>null</td></tr><tr><td>102</td><td>HP</td><td>Omen 15-ce007nv</td><td>Gaming</td><td>1249</td><td>null</td></tr><tr><td>103</td><td>HP</td><td>15-bs017nv (i7-7500U/8GB/256GB/Radeon</td><td>Notebook</td><td>719</td><td>null</td></tr><tr><td>104</td><td>HP</td><td>15-bw000nv (E2-9000e/4GB/500GB/Radeon</td><td>Notebook</td><td>349</td><td>null</td></tr><tr><td>105</td><td>Dell</td><td>Inspiron 3576</td><td>Notebook</td><td>647</td><td>null</td></tr><tr><td>106</td><td>HP</td><td>Envy 13-ad009n</td><td>Ultrabook</td><td>1119</td><td>null</td></tr><tr><td>107</td><td>Microsoft</td><td>Surface Laptop</td><td>Ultrabook</td><td>1340</td><td>null</td></tr><tr><td>108</td><td>HP</td><td>Pavilion 14-BK001nv</td><td>Notebook</td><td>659</td><td>null</td></tr><tr><td>109</td><td>Lenovo</td><td>Ideapad 310-15ISK</td><td>Notebook</td><td>414.9</td><td>null</td></tr><tr><td>110</td><td>Asus</td><td>UX430UQ-GV209R (i7-7500U/8GB/256GB/GeForce</td><td>Ultrabook</td><td>1193</td><td>null</td></tr><tr><td>111</td><td>MSI</td><td>GP62M 7REX</td><td>Gaming</td><td>1299</td><td>null</td></tr><tr><td>112</td><td>Lenovo</td><td>Thinkpad T470</td><td>Notebook</td><td>1480</td><td>null</td></tr><tr><td>113</td><td>Asus</td><td>VivoBook S15</td><td>Ultrabook</td><td>1262</td><td>null</td></tr><tr><td>114</td><td>Dell</td><td>XPS 13</td><td>Ultrabook</td><td>1379</td><td>null</td></tr><tr><td>115</td><td>Lenovo</td><td>ThinkPad Yoga</td><td>2 in 1 Convertible</td><td>1399</td><td>null</td></tr><tr><td>116</td><td>HP</td><td>Probook 440</td><td>Notebook</td><td>722</td><td>null</td></tr><tr><td>117</td><td>Dell</td><td>XPS 13</td><td>Ultrabook</td><td>1629</td><td>null</td></tr><tr><td>118</td><td>HP</td><td>Spectre x360</td><td>2 in 1 Convertible</td><td>1398.99</td><td>null</td></tr><tr><td>119</td><td>HP</td><td>Probook 440</td><td>Notebook</td><td>1084</td><td>null</td></tr><tr><td>120</td><td>Dell</td><td>Inspiron 7570</td><td>Notebook</td><td>1130.33</td><td>null</td></tr><tr><td>121</td><td>Asus</td><td>X705UV-BX074T (i3-6006U/4GB/1TB/GeForce</td><td>Notebook</td><td>564</td><td>null</td></tr><tr><td>122</td><td>Asus</td><td>VivoBook S15</td><td>Notebook</td><td>1118</td><td>null</td></tr><tr><td>123</td><td>Acer</td><td>Spin 3</td><td>Notebook</td><td>479</td><td>null</td></tr><tr><td>124</td><td>MSI</td><td>GS63VR 7RG</td><td>Gaming</td><td>2241.5</td><td>null</td></tr><tr><td>125</td><td>Lenovo</td><td>IdeaPad 320-15IKBN</td><td>Notebook</td><td>629</td><td>null</td></tr><tr><td>126</td><td>HP</td><td>Probook 470</td><td>Notebook</td><td>1271</td><td>null</td></tr><tr><td>127</td><td>Acer</td><td>Aspire 3</td><td>Notebook</td><td>451</td><td>null</td></tr><tr><td>128</td><td>HP</td><td>250 G6</td><td>Notebook</td><td>259</td><td>null</td></tr><tr><td>129</td><td>HP</td><td>Probook 440</td><td>Notebook</td><td>812</td><td>null</td></tr><tr><td>130</td><td>Asus</td><td>E402WA-GA007T (E2-6110/4GB/64GB/W10</td><td>Notebook</td><td>277.99</td><td>null</td></tr><tr><td>131</td><td>Dell</td><td>Inspiron 5770</td><td>Notebook</td><td>1396</td><td>null</td></tr><tr><td>132</td><td>HP</td><td>ProBook 470</td><td>Notebook</td><td>928</td><td>null</td></tr><tr><td>133</td><td>Dell</td><td>Inspiron 5567</td><td>Notebook</td><td>638.99</td><td>null</td></tr><tr><td>134</td><td>Dell</td><td>Inspiron 3567</td><td>Notebook</td><td>449</td><td>null</td></tr><tr><td>135</td><td>Acer</td><td>Swift 3</td><td>Ultrabook</td><td>884</td><td>null</td></tr><tr><td>136</td><td>Acer</td><td>Aspire A515-51G-37JS</td><td>Notebook</td><td>572</td><td>null</td></tr><tr><td>137</td><td>HP</td><td>15-BS078nr (i7-7500U/8GB/1TB/W10)</td><td>Notebook</td><td>598</td><td>null</td></tr><tr><td>138</td><td>HP</td><td>Probook 440</td><td>Notebook</td><td>988</td><td>null</td></tr><tr><td>139</td><td>Lenovo</td><td>V110-15IAP (N3350/4GB/1TB/No</td><td>Notebook</td><td>252.36</td><td>null</td></tr><tr><td>140</td><td>Asus</td><td>FX753VD-GC086T (i5-7300HQ/8GB/1TB</td><td>Gaming</td><td>938</td><td>null</td></tr><tr><td>141</td><td>Lenovo</td><td>IdeaPad 320-15IKBN</td><td>Notebook</td><td>499</td><td>null</td></tr></tbody></table></div>"
      ]
     },
     "metadata": {
      "application/vnd.databricks.v1+output": {
       "addedWidgets": {},
       "aggData": [],
       "aggError": "",
       "aggOverflow": false,
       "aggSchema": [],
       "aggSeriesLimitReached": false,
       "aggType": "",
       "arguments": {},
       "columnCustomDisplayInfos": {},
       "data": [
        [
         "21",
         "Asus",
         "Vivobook E200HA",
         "Netbook",
         "191.9",
         null
        ],
        [
         "22",
         "Lenovo",
         "Legion Y520-15IKBN",
         "Gaming",
         "999",
         null
        ],
        [
         "23",
         "HP",
         "255 G6",
         "Notebook",
         "258",
         null
        ],
        [
         "24",
         "Dell",
         "Inspiron 5379",
         "2 in 1 Convertible",
         "819",
         null
        ],
        [
         "25",
         "HP",
         "15-BS101nv (i7-8550U/8GB/256GB/FHD/W10)",
         "Ultrabook",
         "659",
         null
        ],
        [
         "26",
         "Dell",
         "Inspiron 3567",
         "Notebook",
         "418.64",
         null
        ],
        [
         "27",
         "Apple",
         "MacBook Air",
         "Ultrabook",
         "1099",
         null
        ],
        [
         "28",
         "Dell",
         "Inspiron 5570",
         "Notebook",
         "800",
         null
        ],
        [
         "29",
         "Dell",
         "Latitude 5590",
         "Ultrabook",
         "1298",
         null
        ],
        [
         "30",
         "HP",
         "ProBook 470",
         "Notebook",
         "896",
         null
        ],
        [
         "31",
         "Chuwi",
         "LapBook 15.6\"\"",
         "Notebook",
         "244.99",
         null
        ],
        [
         "32",
         "Asus",
         "E402WA-GA010T (E2-6110/2GB/32GB/W10)",
         "Notebook",
         "199",
         null
        ],
        [
         "33",
         "HP",
         "17-ak001nv (A6-9220/4GB/500GB/Radeon",
         "Notebook",
         "439",
         null
        ],
        [
         "34",
         "Dell",
         "XPS 13",
         "Ultrabook",
         "1869",
         null
        ],
        [
         "35",
         "Apple",
         "MacBook Air",
         "Ultrabook",
         "998",
         null
        ],
        [
         "36",
         "Lenovo",
         "IdeaPad 120S-14IAP",
         "Notebook",
         "249",
         null
        ],
        [
         "37",
         "Acer",
         "Aspire 3",
         "Notebook",
         "367",
         null
        ],
        [
         "38",
         "Dell",
         "Inspiron 5770",
         "Notebook",
         "979",
         null
        ],
        [
         "39",
         "HP",
         "250 G6",
         "Notebook",
         "488.69",
         null
        ],
        [
         "40",
         "HP",
         "ProBook 450",
         "Notebook",
         "879",
         null
        ],
        [
         "1",
         "Apple",
         "MacBook Pro",
         "Ultrabook",
         "1339.69",
         null
        ],
        [
         "2",
         "Apple",
         "Macbook Air",
         "Ultrabook",
         "898.94",
         null
        ],
        [
         "3",
         "HP",
         "250 G6",
         "Notebook",
         "575",
         null
        ],
        [
         "4",
         "Apple",
         "MacBook Pro",
         "Ultrabook",
         "2537.45",
         null
        ],
        [
         "5",
         "Apple",
         "MacBook Pro",
         "Ultrabook",
         "1803.6",
         null
        ],
        [
         "6",
         "Acer",
         "Aspire 3",
         "Notebook",
         "400",
         null
        ],
        [
         "7",
         "Apple",
         "MacBook Pro",
         "Ultrabook",
         "2139.97",
         null
        ],
        [
         "8",
         "Apple",
         "Macbook Air",
         "Ultrabook",
         "1158.7",
         null
        ],
        [
         "9",
         "Asus",
         "ZenBook UX430UN",
         "Ultrabook",
         "1495",
         null
        ],
        [
         "10",
         "Acer",
         "Swift 3",
         "Ultrabook",
         "770",
         null
        ],
        [
         "11",
         "HP",
         "250 G6",
         "Notebook",
         "393.9",
         null
        ],
        [
         "12",
         "HP",
         "250 G6",
         "Notebook",
         "344.99",
         null
        ],
        [
         "13",
         "Apple",
         "MacBook Pro",
         "Ultrabook",
         "2439.97",
         null
        ],
        [
         "14",
         "Dell",
         "Inspiron 3567",
         "Notebook",
         "498.9",
         null
        ],
        [
         "15",
         "Apple",
         "MacBook 12\"\"",
         "Ultrabook",
         "1262.4",
         null
        ],
        [
         "16",
         "Apple",
         "MacBook Pro",
         "Ultrabook",
         "1518.55",
         null
        ],
        [
         "17",
         "Dell",
         "Inspiron 3567",
         "Notebook",
         "745",
         null
        ],
        [
         "18",
         "Apple",
         "MacBook Pro",
         "Ultrabook",
         "2858",
         null
        ],
        [
         "19",
         "Lenovo",
         "IdeaPad 320-15IKB",
         "Notebook",
         "499",
         null
        ],
        [
         "20",
         "Dell",
         "XPS 13",
         "Ultrabook",
         "979",
         null
        ],
        [
         "41",
         "Asus",
         "X540UA-DM186 (i3-6006U/4GB/1TB/FHD/Linux)",
         "Notebook",
         "389",
         "{\"TYPENAME\":\"Notebook\",\"_file_path\":\"dbfs:/FileStore/shared_uploads/auto_loader_streaming/laptops_03_extracol.csv\"}"
        ],
        [
         "42",
         "Dell",
         "Inspiron 7577",
         "Gaming",
         "1499",
         "{\"TYPENAME\":\"Gaming\",\"_file_path\":\"dbfs:/FileStore/shared_uploads/auto_loader_streaming/laptops_03_extracol.csv\"}"
        ],
        [
         "43",
         "Asus",
         "X542UQ-GO005 (i5-7200U/8GB/1TB/GeForce",
         "Notebook",
         "522.99",
         "{\"TYPENAME\":\"Notebook\",\"_file_path\":\"dbfs:/FileStore/shared_uploads/auto_loader_streaming/laptops_03_extracol.csv\"}"
        ],
        [
         "44",
         "Acer",
         "Aspire A515-51G",
         "Notebook",
         "682",
         "{\"TYPENAME\":\"Notebook\",\"_file_path\":\"dbfs:/FileStore/shared_uploads/auto_loader_streaming/laptops_03_extracol.csv\"}"
        ],
        [
         "45",
         "Dell",
         "Inspiron 7773",
         "2 in 1 Convertible",
         "999",
         "{\"TYPENAME\":\"2 in 1 Convertible\",\"_file_path\":\"dbfs:/FileStore/shared_uploads/auto_loader_streaming/laptops_03_extracol.csv\"}"
        ],
        [
         "46",
         "Apple",
         "MacBook Pro",
         "Ultrabook",
         "1419",
         "{\"TYPENAME\":\"Ultrabook\",\"_file_path\":\"dbfs:/FileStore/shared_uploads/auto_loader_streaming/laptops_03_extracol.csv\"}"
        ],
        [
         "47",
         "Lenovo",
         "IdeaPad 320-15ISK",
         "Notebook",
         "369",
         "{\"TYPENAME\":\"Notebook\",\"_file_path\":\"dbfs:/FileStore/shared_uploads/auto_loader_streaming/laptops_03_extracol.csv\"}"
        ],
        [
         "48",
         "Asus",
         "Rog Strix",
         "Gaming",
         "1299",
         "{\"TYPENAME\":\"Gaming\",\"_file_path\":\"dbfs:/FileStore/shared_uploads/auto_loader_streaming/laptops_03_extracol.csv\"}"
        ],
        [
         "49",
         "Dell",
         "Inspiron 3567",
         "Notebook",
         "639",
         "{\"TYPENAME\":\"Notebook\",\"_file_path\":\"dbfs:/FileStore/shared_uploads/auto_loader_streaming/laptops_03_extracol.csv\"}"
        ],
        [
         "50",
         "Asus",
         "X751NV-TY001T (N4200/4GB/1TB/GeForce",
         "Notebook",
         "466",
         "{\"TYPENAME\":\"Notebook\",\"_file_path\":\"dbfs:/FileStore/shared_uploads/auto_loader_streaming/laptops_03_extracol.csv\"}"
        ],
        [
         "51",
         "Lenovo",
         "Yoga Book",
         "2 in 1 Convertible",
         "319",
         "{\"TYPENAME\":\"2 in 1 Convertible\",\"_file_path\":\"dbfs:/FileStore/shared_uploads/auto_loader_streaming/laptops_03_extracol.csv\"}"
        ],
        [
         "52",
         "Acer",
         "Aspire A515-51G",
         "Notebook",
         "841",
         "{\"TYPENAME\":\"Notebook\",\"_file_path\":\"dbfs:/FileStore/shared_uploads/auto_loader_streaming/laptops_03_extracol.csv\"}"
        ],
        [
         "53",
         "HP",
         "255 G6",
         "Notebook",
         "398.49",
         "{\"TYPENAME\":\"Notebook\",\"_file_path\":\"dbfs:/FileStore/shared_uploads/auto_loader_streaming/laptops_03_extracol.csv\"}"
        ],
        [
         "54",
         "HP",
         "ProBook 430",
         "Notebook",
         "1103",
         "{\"TYPENAME\":\"Notebook\",\"_file_path\":\"dbfs:/FileStore/shared_uploads/auto_loader_streaming/laptops_03_extracol.csv\"}"
        ],
        [
         "55",
         "Acer",
         "Aspire 3",
         "Notebook",
         "384",
         "{\"TYPENAME\":\"Notebook\",\"_file_path\":\"dbfs:/FileStore/shared_uploads/auto_loader_streaming/laptops_03_extracol.csv\"}"
        ],
        [
         "56",
         "Dell",
         "Inspiron 3576",
         "Notebook",
         "767.8",
         "{\"TYPENAME\":\"Notebook\",\"_file_path\":\"dbfs:/FileStore/shared_uploads/auto_loader_streaming/laptops_03_extracol.csv\"}"
        ],
        [
         "57",
         "HP",
         "15-bs002nv (i3-6006U/4GB/128GB/FHD/W10)",
         "Notebook",
         "439",
         "{\"TYPENAME\":\"Notebook\",\"_file_path\":\"dbfs:/FileStore/shared_uploads/auto_loader_streaming/laptops_03_extracol.csv\"}"
        ],
        [
         "58",
         "Asus",
         "VivoBook Max",
         "Notebook",
         "586.19",
         "{\"TYPENAME\":\"Notebook\",\"_file_path\":\"dbfs:/FileStore/shared_uploads/auto_loader_streaming/laptops_03_extracol.csv\"}"
        ],
        [
         "59",
         "MSI",
         "GS73VR 7RG",
         "Gaming",
         "2449",
         "{\"TYPENAME\":\"Gaming\",\"_file_path\":\"dbfs:/FileStore/shared_uploads/auto_loader_streaming/laptops_03_extracol.csv\"}"
        ],
        [
         "60",
         "Asus",
         "X541UA-DM1897 (i3-6006U/4GB/256GB/FHD/Linux)",
         "Notebook",
         "415",
         null
        ],
        [
         "61",
         "Dell",
         "Inspiron 5770",
         "Notebook",
         "1299",
         null
        ],
        [
         "62",
         "Dell",
         "Vostro 5471",
         "Ultrabook",
         "879",
         null
        ],
        [
         "63",
         "Lenovo",
         "IdeaPad 520S-14IKB",
         "Notebook",
         "599",
         null
        ],
        [
         "64",
         "Asus",
         "UX410UA-GV350T (i5-8250U/8GB/256GB/FHD/W10)",
         "Notebook",
         "941",
         null
        ],
        [
         "66",
         "HP",
         "250 G6",
         "Notebook",
         "690",
         null
        ],
        [
         "67",
         "Asus",
         "ZenBook Pro",
         "Ultrabook",
         "1983",
         null
        ],
        [
         "68",
         "HP",
         "250 G6",
         "Notebook",
         "438.69",
         null
        ],
        [
         "69",
         "HP",
         "Stream 14-AX040wm",
         "Notebook",
         "229",
         null
        ],
        [
         "70",
         "Lenovo",
         "V310-15ISK (i5-7200U/4GB/1TB/FHD/W10)",
         "Notebook",
         "549",
         null
        ],
        [
         "71",
         "Asus",
         "FX753VE-GC093 (i7-7700HQ/12GB/1TB/GeForce",
         "Gaming",
         "949",
         null
        ],
        [
         "72",
         "Microsoft",
         "Surface Laptop",
         "Ultrabook",
         "1089",
         null
        ],
        [
         "73",
         "Dell",
         "Inspiron 5370",
         "Ultrabook",
         "955",
         null
        ],
        [
         "74",
         "Dell",
         "Inspiron 5570",
         "Notebook",
         "870",
         null
        ],
        [
         "75",
         "MSI",
         "GL72M 7RDX",
         "Gaming",
         "1095",
         null
        ],
        [
         "76",
         "Acer",
         "Aspire E5-475",
         "Notebook",
         "389",
         null
        ],
        [
         "77",
         "Asus",
         "FX503VD-E4022T (i7-7700HQ/8GB/1TB/GeForce",
         "Gaming",
         "949",
         null
        ],
        [
         "78",
         "Lenovo",
         "IdeaPad 320-15IKBN",
         "Notebook",
         "519",
         null
        ],
        [
         "79",
         "Dell",
         "Inspiron 5570",
         "Notebook",
         "855",
         null
        ],
        [
         "80",
         "Acer",
         "Aspire A515-51G-32MX",
         "Notebook",
         "530",
         null
        ],
        [
         "102",
         "HP",
         "Omen 15-ce007nv",
         "Gaming",
         "1249",
         null
        ],
        [
         "103",
         "HP",
         "15-bs017nv (i7-7500U/8GB/256GB/Radeon",
         "Notebook",
         "719",
         null
        ],
        [
         "104",
         "HP",
         "15-bw000nv (E2-9000e/4GB/500GB/Radeon",
         "Notebook",
         "349",
         null
        ],
        [
         "105",
         "Dell",
         "Inspiron 3576",
         "Notebook",
         "647",
         null
        ],
        [
         "106",
         "HP",
         "Envy 13-ad009n",
         "Ultrabook",
         "1119",
         null
        ],
        [
         "107",
         "Microsoft",
         "Surface Laptop",
         "Ultrabook",
         "1340",
         null
        ],
        [
         "108",
         "HP",
         "Pavilion 14-BK001nv",
         "Notebook",
         "659",
         null
        ],
        [
         "109",
         "Lenovo",
         "Ideapad 310-15ISK",
         "Notebook",
         "414.9",
         null
        ],
        [
         "110",
         "Asus",
         "UX430UQ-GV209R (i7-7500U/8GB/256GB/GeForce",
         "Ultrabook",
         "1193",
         null
        ],
        [
         "111",
         "MSI",
         "GP62M 7REX",
         "Gaming",
         "1299",
         null
        ],
        [
         "112",
         "Lenovo",
         "Thinkpad T470",
         "Notebook",
         "1480",
         null
        ],
        [
         "113",
         "Asus",
         "VivoBook S15",
         "Ultrabook",
         "1262",
         null
        ],
        [
         "114",
         "Dell",
         "XPS 13",
         "Ultrabook",
         "1379",
         null
        ],
        [
         "115",
         "Lenovo",
         "ThinkPad Yoga",
         "2 in 1 Convertible",
         "1399",
         null
        ],
        [
         "116",
         "HP",
         "Probook 440",
         "Notebook",
         "722",
         null
        ],
        [
         "117",
         "Dell",
         "XPS 13",
         "Ultrabook",
         "1629",
         null
        ],
        [
         "118",
         "HP",
         "Spectre x360",
         "2 in 1 Convertible",
         "1398.99",
         null
        ],
        [
         "119",
         "HP",
         "Probook 440",
         "Notebook",
         "1084",
         null
        ],
        [
         "120",
         "Dell",
         "Inspiron 7570",
         "Notebook",
         "1130.33",
         null
        ],
        [
         "121",
         "Asus",
         "X705UV-BX074T (i3-6006U/4GB/1TB/GeForce",
         "Notebook",
         "564",
         null
        ],
        [
         "122",
         "Asus",
         "VivoBook S15",
         "Notebook",
         "1118",
         null
        ],
        [
         "123",
         "Acer",
         "Spin 3",
         "Notebook",
         "479",
         null
        ],
        [
         "124",
         "MSI",
         "GS63VR 7RG",
         "Gaming",
         "2241.5",
         null
        ],
        [
         "125",
         "Lenovo",
         "IdeaPad 320-15IKBN",
         "Notebook",
         "629",
         null
        ],
        [
         "126",
         "HP",
         "Probook 470",
         "Notebook",
         "1271",
         null
        ],
        [
         "127",
         "Acer",
         "Aspire 3",
         "Notebook",
         "451",
         null
        ],
        [
         "128",
         "HP",
         "250 G6",
         "Notebook",
         "259",
         null
        ],
        [
         "129",
         "HP",
         "Probook 440",
         "Notebook",
         "812",
         null
        ],
        [
         "130",
         "Asus",
         "E402WA-GA007T (E2-6110/4GB/64GB/W10",
         "Notebook",
         "277.99",
         null
        ],
        [
         "131",
         "Dell",
         "Inspiron 5770",
         "Notebook",
         "1396",
         null
        ],
        [
         "132",
         "HP",
         "ProBook 470",
         "Notebook",
         "928",
         null
        ],
        [
         "133",
         "Dell",
         "Inspiron 5567",
         "Notebook",
         "638.99",
         null
        ],
        [
         "134",
         "Dell",
         "Inspiron 3567",
         "Notebook",
         "449",
         null
        ],
        [
         "135",
         "Acer",
         "Swift 3",
         "Ultrabook",
         "884",
         null
        ],
        [
         "136",
         "Acer",
         "Aspire A515-51G-37JS",
         "Notebook",
         "572",
         null
        ],
        [
         "137",
         "HP",
         "15-BS078nr (i7-7500U/8GB/1TB/W10)",
         "Notebook",
         "598",
         null
        ],
        [
         "138",
         "HP",
         "Probook 440",
         "Notebook",
         "988",
         null
        ],
        [
         "139",
         "Lenovo",
         "V110-15IAP (N3350/4GB/1TB/No",
         "Notebook",
         "252.36",
         null
        ],
        [
         "140",
         "Asus",
         "FX753VD-GC086T (i5-7300HQ/8GB/1TB",
         "Gaming",
         "938",
         null
        ],
        [
         "141",
         "Lenovo",
         "IdeaPad 320-15IKBN",
         "Notebook",
         "499",
         null
        ]
       ],
       "datasetInfos": [],
       "dbfsResultPath": null,
       "isJsonSchema": true,
       "metadata": {
        "isDbfsCommandResult": false
       },
       "overflow": false,
       "plotOptions": {
        "customPlotOptions": {},
        "displayType": "table",
        "pivotAggregation": null,
        "pivotColumns": null,
        "xColumns": null,
        "yColumns": null
       },
       "removedWidgets": [],
       "schema": [
        {
         "metadata": "{}",
         "name": "Id",
         "type": "\"string\""
        },
        {
         "metadata": "{}",
         "name": "Company",
         "type": "\"string\""
        },
        {
         "metadata": "{}",
         "name": "Product",
         "type": "\"string\""
        },
        {
         "metadata": "{}",
         "name": "TypeName",
         "type": "\"string\""
        },
        {
         "metadata": "{}",
         "name": "Price_euros",
         "type": "\"string\""
        },
        {
         "metadata": "{}",
         "name": "_rescued_data",
         "type": "\"string\""
        }
       ],
       "type": "table"
      }
     },
     "output_type": "display_data"
    }
   ],
   "source": [
    "display(laptob_stream_data)"
   ]
  },
  {
   "cell_type": "code",
   "execution_count": null,
   "metadata": {
    "application/vnd.databricks.v1+cell": {
     "cellMetadata": {},
     "inputWidgets": {},
     "nuid": "f45eca69-9448-4a4f-8ad4-6962c42a8e19",
     "showTitle": false,
     "title": ""
    }
   },
   "outputs": [],
   "source": [
    "\"\"\"\n",
    "                            What is the rescued data column?\n",
    "\n",
    "When Auto Loader infers the schema, a rescued data column is automatically added to your schema as _rescued_data.\n",
    "\n",
    "The rescued data column ensures that columns that don’t match with the schema are rescued instead of being dropped. The rescued data column contains any data that isn’t parsed for the following reasons:\n",
    "\n",
    "The column is missing from the schema.\n",
    "Type mismatches.\n",
    "Case mismatches.\n",
    "adding data files with extra columns\n",
    "\n",
    "The rescued data column contains a JSON: containing the rescued columns and the source file path of the record.\n",
    "\"\"\""
   ]
  },
  {
   "cell_type": "code",
   "execution_count": null,
   "metadata": {
    "application/vnd.databricks.v1+cell": {
     "cellMetadata": {
      "byteLimit": 2048000,
      "rowLimit": 10000
     },
     "inputWidgets": {},
     "nuid": "a0f4a017-cd89-4f5d-bac6-620a3f560092",
     "showTitle": false,
     "title": ""
    }
   },
   "outputs": [
    {
     "data": {
      "text/html": [
       "<style scoped>\n",
       "  .table-result-container {\n",
       "    max-height: 300px;\n",
       "    overflow: auto;\n",
       "  }\n",
       "  table, th, td {\n",
       "    border: 1px solid black;\n",
       "    border-collapse: collapse;\n",
       "  }\n",
       "  th, td {\n",
       "    padding: 5px;\n",
       "  }\n",
       "  th {\n",
       "    text-align: left;\n",
       "  }\n",
       "</style><div class='table-result-container'><table class='table-result'><thead style='background-color: white'><tr><th>Id</th><th>Company</th><th>Product</th><th>TypeName</th><th>Price_euros</th><th>_rescued_data</th></tr></thead><tbody><tr><td>41</td><td>Asus</td><td>X540UA-DM186 (i3-6006U/4GB/1TB/FHD/Linux)</td><td>Notebook</td><td>389</td><td>{\"TYPENAME\":\"Notebook\",\"_file_path\":\"dbfs:/FileStore/shared_uploads/auto_loader_streaming/laptops_03_extracol.csv\"}</td></tr><tr><td>42</td><td>Dell</td><td>Inspiron 7577</td><td>Gaming</td><td>1499</td><td>{\"TYPENAME\":\"Gaming\",\"_file_path\":\"dbfs:/FileStore/shared_uploads/auto_loader_streaming/laptops_03_extracol.csv\"}</td></tr><tr><td>43</td><td>Asus</td><td>X542UQ-GO005 (i5-7200U/8GB/1TB/GeForce</td><td>Notebook</td><td>522.99</td><td>{\"TYPENAME\":\"Notebook\",\"_file_path\":\"dbfs:/FileStore/shared_uploads/auto_loader_streaming/laptops_03_extracol.csv\"}</td></tr><tr><td>44</td><td>Acer</td><td>Aspire A515-51G</td><td>Notebook</td><td>682</td><td>{\"TYPENAME\":\"Notebook\",\"_file_path\":\"dbfs:/FileStore/shared_uploads/auto_loader_streaming/laptops_03_extracol.csv\"}</td></tr><tr><td>45</td><td>Dell</td><td>Inspiron 7773</td><td>2 in 1 Convertible</td><td>999</td><td>{\"TYPENAME\":\"2 in 1 Convertible\",\"_file_path\":\"dbfs:/FileStore/shared_uploads/auto_loader_streaming/laptops_03_extracol.csv\"}</td></tr><tr><td>46</td><td>Apple</td><td>MacBook Pro</td><td>Ultrabook</td><td>1419</td><td>{\"TYPENAME\":\"Ultrabook\",\"_file_path\":\"dbfs:/FileStore/shared_uploads/auto_loader_streaming/laptops_03_extracol.csv\"}</td></tr><tr><td>47</td><td>Lenovo</td><td>IdeaPad 320-15ISK</td><td>Notebook</td><td>369</td><td>{\"TYPENAME\":\"Notebook\",\"_file_path\":\"dbfs:/FileStore/shared_uploads/auto_loader_streaming/laptops_03_extracol.csv\"}</td></tr><tr><td>48</td><td>Asus</td><td>Rog Strix</td><td>Gaming</td><td>1299</td><td>{\"TYPENAME\":\"Gaming\",\"_file_path\":\"dbfs:/FileStore/shared_uploads/auto_loader_streaming/laptops_03_extracol.csv\"}</td></tr><tr><td>49</td><td>Dell</td><td>Inspiron 3567</td><td>Notebook</td><td>639</td><td>{\"TYPENAME\":\"Notebook\",\"_file_path\":\"dbfs:/FileStore/shared_uploads/auto_loader_streaming/laptops_03_extracol.csv\"}</td></tr><tr><td>50</td><td>Asus</td><td>X751NV-TY001T (N4200/4GB/1TB/GeForce</td><td>Notebook</td><td>466</td><td>{\"TYPENAME\":\"Notebook\",\"_file_path\":\"dbfs:/FileStore/shared_uploads/auto_loader_streaming/laptops_03_extracol.csv\"}</td></tr><tr><td>51</td><td>Lenovo</td><td>Yoga Book</td><td>2 in 1 Convertible</td><td>319</td><td>{\"TYPENAME\":\"2 in 1 Convertible\",\"_file_path\":\"dbfs:/FileStore/shared_uploads/auto_loader_streaming/laptops_03_extracol.csv\"}</td></tr><tr><td>52</td><td>Acer</td><td>Aspire A515-51G</td><td>Notebook</td><td>841</td><td>{\"TYPENAME\":\"Notebook\",\"_file_path\":\"dbfs:/FileStore/shared_uploads/auto_loader_streaming/laptops_03_extracol.csv\"}</td></tr><tr><td>53</td><td>HP</td><td>255 G6</td><td>Notebook</td><td>398.49</td><td>{\"TYPENAME\":\"Notebook\",\"_file_path\":\"dbfs:/FileStore/shared_uploads/auto_loader_streaming/laptops_03_extracol.csv\"}</td></tr><tr><td>54</td><td>HP</td><td>ProBook 430</td><td>Notebook</td><td>1103</td><td>{\"TYPENAME\":\"Notebook\",\"_file_path\":\"dbfs:/FileStore/shared_uploads/auto_loader_streaming/laptops_03_extracol.csv\"}</td></tr><tr><td>55</td><td>Acer</td><td>Aspire 3</td><td>Notebook</td><td>384</td><td>{\"TYPENAME\":\"Notebook\",\"_file_path\":\"dbfs:/FileStore/shared_uploads/auto_loader_streaming/laptops_03_extracol.csv\"}</td></tr><tr><td>56</td><td>Dell</td><td>Inspiron 3576</td><td>Notebook</td><td>767.8</td><td>{\"TYPENAME\":\"Notebook\",\"_file_path\":\"dbfs:/FileStore/shared_uploads/auto_loader_streaming/laptops_03_extracol.csv\"}</td></tr><tr><td>57</td><td>HP</td><td>15-bs002nv (i3-6006U/4GB/128GB/FHD/W10)</td><td>Notebook</td><td>439</td><td>{\"TYPENAME\":\"Notebook\",\"_file_path\":\"dbfs:/FileStore/shared_uploads/auto_loader_streaming/laptops_03_extracol.csv\"}</td></tr><tr><td>58</td><td>Asus</td><td>VivoBook Max</td><td>Notebook</td><td>586.19</td><td>{\"TYPENAME\":\"Notebook\",\"_file_path\":\"dbfs:/FileStore/shared_uploads/auto_loader_streaming/laptops_03_extracol.csv\"}</td></tr><tr><td>59</td><td>MSI</td><td>GS73VR 7RG</td><td>Gaming</td><td>2449</td><td>{\"TYPENAME\":\"Gaming\",\"_file_path\":\"dbfs:/FileStore/shared_uploads/auto_loader_streaming/laptops_03_extracol.csv\"}</td></tr><tr><td>21</td><td>Asus</td><td>Vivobook E200HA</td><td>Netbook</td><td>191.9</td><td>null</td></tr><tr><td>22</td><td>Lenovo</td><td>Legion Y520-15IKBN</td><td>Gaming</td><td>999</td><td>null</td></tr><tr><td>23</td><td>HP</td><td>255 G6</td><td>Notebook</td><td>258</td><td>null</td></tr><tr><td>24</td><td>Dell</td><td>Inspiron 5379</td><td>2 in 1 Convertible</td><td>819</td><td>null</td></tr><tr><td>25</td><td>HP</td><td>15-BS101nv (i7-8550U/8GB/256GB/FHD/W10)</td><td>Ultrabook</td><td>659</td><td>null</td></tr><tr><td>26</td><td>Dell</td><td>Inspiron 3567</td><td>Notebook</td><td>418.64</td><td>null</td></tr><tr><td>27</td><td>Apple</td><td>MacBook Air</td><td>Ultrabook</td><td>1099</td><td>null</td></tr><tr><td>28</td><td>Dell</td><td>Inspiron 5570</td><td>Notebook</td><td>800</td><td>null</td></tr><tr><td>29</td><td>Dell</td><td>Latitude 5590</td><td>Ultrabook</td><td>1298</td><td>null</td></tr><tr><td>30</td><td>HP</td><td>ProBook 470</td><td>Notebook</td><td>896</td><td>null</td></tr><tr><td>31</td><td>Chuwi</td><td>LapBook 15.6\"\"</td><td>Notebook</td><td>244.99</td><td>null</td></tr><tr><td>32</td><td>Asus</td><td>E402WA-GA010T (E2-6110/2GB/32GB/W10)</td><td>Notebook</td><td>199</td><td>null</td></tr><tr><td>33</td><td>HP</td><td>17-ak001nv (A6-9220/4GB/500GB/Radeon</td><td>Notebook</td><td>439</td><td>null</td></tr><tr><td>34</td><td>Dell</td><td>XPS 13</td><td>Ultrabook</td><td>1869</td><td>null</td></tr><tr><td>35</td><td>Apple</td><td>MacBook Air</td><td>Ultrabook</td><td>998</td><td>null</td></tr><tr><td>36</td><td>Lenovo</td><td>IdeaPad 120S-14IAP</td><td>Notebook</td><td>249</td><td>null</td></tr><tr><td>37</td><td>Acer</td><td>Aspire 3</td><td>Notebook</td><td>367</td><td>null</td></tr><tr><td>38</td><td>Dell</td><td>Inspiron 5770</td><td>Notebook</td><td>979</td><td>null</td></tr><tr><td>39</td><td>HP</td><td>250 G6</td><td>Notebook</td><td>488.69</td><td>null</td></tr><tr><td>40</td><td>HP</td><td>ProBook 450</td><td>Notebook</td><td>879</td><td>null</td></tr><tr><td>1</td><td>Apple</td><td>MacBook Pro</td><td>Ultrabook</td><td>1339.69</td><td>null</td></tr><tr><td>2</td><td>Apple</td><td>Macbook Air</td><td>Ultrabook</td><td>898.94</td><td>null</td></tr><tr><td>3</td><td>HP</td><td>250 G6</td><td>Notebook</td><td>575</td><td>null</td></tr><tr><td>4</td><td>Apple</td><td>MacBook Pro</td><td>Ultrabook</td><td>2537.45</td><td>null</td></tr><tr><td>5</td><td>Apple</td><td>MacBook Pro</td><td>Ultrabook</td><td>1803.6</td><td>null</td></tr><tr><td>6</td><td>Acer</td><td>Aspire 3</td><td>Notebook</td><td>400</td><td>null</td></tr><tr><td>7</td><td>Apple</td><td>MacBook Pro</td><td>Ultrabook</td><td>2139.97</td><td>null</td></tr><tr><td>8</td><td>Apple</td><td>Macbook Air</td><td>Ultrabook</td><td>1158.7</td><td>null</td></tr><tr><td>9</td><td>Asus</td><td>ZenBook UX430UN</td><td>Ultrabook</td><td>1495</td><td>null</td></tr><tr><td>10</td><td>Acer</td><td>Swift 3</td><td>Ultrabook</td><td>770</td><td>null</td></tr><tr><td>11</td><td>HP</td><td>250 G6</td><td>Notebook</td><td>393.9</td><td>null</td></tr><tr><td>12</td><td>HP</td><td>250 G6</td><td>Notebook</td><td>344.99</td><td>null</td></tr><tr><td>13</td><td>Apple</td><td>MacBook Pro</td><td>Ultrabook</td><td>2439.97</td><td>null</td></tr><tr><td>14</td><td>Dell</td><td>Inspiron 3567</td><td>Notebook</td><td>498.9</td><td>null</td></tr><tr><td>15</td><td>Apple</td><td>MacBook 12\"\"</td><td>Ultrabook</td><td>1262.4</td><td>null</td></tr><tr><td>16</td><td>Apple</td><td>MacBook Pro</td><td>Ultrabook</td><td>1518.55</td><td>null</td></tr><tr><td>17</td><td>Dell</td><td>Inspiron 3567</td><td>Notebook</td><td>745</td><td>null</td></tr><tr><td>18</td><td>Apple</td><td>MacBook Pro</td><td>Ultrabook</td><td>2858</td><td>null</td></tr><tr><td>19</td><td>Lenovo</td><td>IdeaPad 320-15IKB</td><td>Notebook</td><td>499</td><td>null</td></tr><tr><td>20</td><td>Dell</td><td>XPS 13</td><td>Ultrabook</td><td>979</td><td>null</td></tr><tr><td>60</td><td>Asus</td><td>X541UA-DM1897 (i3-6006U/4GB/256GB/FHD/Linux)</td><td>Notebook</td><td>415</td><td>null</td></tr><tr><td>61</td><td>Dell</td><td>Inspiron 5770</td><td>Notebook</td><td>1299</td><td>null</td></tr><tr><td>62</td><td>Dell</td><td>Vostro 5471</td><td>Ultrabook</td><td>879</td><td>null</td></tr><tr><td>63</td><td>Lenovo</td><td>IdeaPad 520S-14IKB</td><td>Notebook</td><td>599</td><td>null</td></tr><tr><td>64</td><td>Asus</td><td>UX410UA-GV350T (i5-8250U/8GB/256GB/FHD/W10)</td><td>Notebook</td><td>941</td><td>null</td></tr><tr><td>66</td><td>HP</td><td>250 G6</td><td>Notebook</td><td>690</td><td>null</td></tr><tr><td>67</td><td>Asus</td><td>ZenBook Pro</td><td>Ultrabook</td><td>1983</td><td>null</td></tr><tr><td>68</td><td>HP</td><td>250 G6</td><td>Notebook</td><td>438.69</td><td>null</td></tr><tr><td>69</td><td>HP</td><td>Stream 14-AX040wm</td><td>Notebook</td><td>229</td><td>null</td></tr><tr><td>70</td><td>Lenovo</td><td>V310-15ISK (i5-7200U/4GB/1TB/FHD/W10)</td><td>Notebook</td><td>549</td><td>null</td></tr><tr><td>71</td><td>Asus</td><td>FX753VE-GC093 (i7-7700HQ/12GB/1TB/GeForce</td><td>Gaming</td><td>949</td><td>null</td></tr><tr><td>72</td><td>Microsoft</td><td>Surface Laptop</td><td>Ultrabook</td><td>1089</td><td>null</td></tr><tr><td>73</td><td>Dell</td><td>Inspiron 5370</td><td>Ultrabook</td><td>955</td><td>null</td></tr><tr><td>74</td><td>Dell</td><td>Inspiron 5570</td><td>Notebook</td><td>870</td><td>null</td></tr><tr><td>75</td><td>MSI</td><td>GL72M 7RDX</td><td>Gaming</td><td>1095</td><td>null</td></tr><tr><td>76</td><td>Acer</td><td>Aspire E5-475</td><td>Notebook</td><td>389</td><td>null</td></tr><tr><td>77</td><td>Asus</td><td>FX503VD-E4022T (i7-7700HQ/8GB/1TB/GeForce</td><td>Gaming</td><td>949</td><td>null</td></tr><tr><td>78</td><td>Lenovo</td><td>IdeaPad 320-15IKBN</td><td>Notebook</td><td>519</td><td>null</td></tr><tr><td>79</td><td>Dell</td><td>Inspiron 5570</td><td>Notebook</td><td>855</td><td>null</td></tr><tr><td>80</td><td>Acer</td><td>Aspire A515-51G-32MX</td><td>Notebook</td><td>530</td><td>null</td></tr><tr><td>102</td><td>HP</td><td>Omen 15-ce007nv</td><td>Gaming</td><td>1249</td><td>null</td></tr><tr><td>103</td><td>HP</td><td>15-bs017nv (i7-7500U/8GB/256GB/Radeon</td><td>Notebook</td><td>719</td><td>null</td></tr><tr><td>104</td><td>HP</td><td>15-bw000nv (E2-9000e/4GB/500GB/Radeon</td><td>Notebook</td><td>349</td><td>null</td></tr><tr><td>105</td><td>Dell</td><td>Inspiron 3576</td><td>Notebook</td><td>647</td><td>null</td></tr><tr><td>106</td><td>HP</td><td>Envy 13-ad009n</td><td>Ultrabook</td><td>1119</td><td>null</td></tr><tr><td>107</td><td>Microsoft</td><td>Surface Laptop</td><td>Ultrabook</td><td>1340</td><td>null</td></tr><tr><td>108</td><td>HP</td><td>Pavilion 14-BK001nv</td><td>Notebook</td><td>659</td><td>null</td></tr><tr><td>109</td><td>Lenovo</td><td>Ideapad 310-15ISK</td><td>Notebook</td><td>414.9</td><td>null</td></tr><tr><td>110</td><td>Asus</td><td>UX430UQ-GV209R (i7-7500U/8GB/256GB/GeForce</td><td>Ultrabook</td><td>1193</td><td>null</td></tr><tr><td>111</td><td>MSI</td><td>GP62M 7REX</td><td>Gaming</td><td>1299</td><td>null</td></tr><tr><td>112</td><td>Lenovo</td><td>Thinkpad T470</td><td>Notebook</td><td>1480</td><td>null</td></tr><tr><td>113</td><td>Asus</td><td>VivoBook S15</td><td>Ultrabook</td><td>1262</td><td>null</td></tr><tr><td>114</td><td>Dell</td><td>XPS 13</td><td>Ultrabook</td><td>1379</td><td>null</td></tr><tr><td>115</td><td>Lenovo</td><td>ThinkPad Yoga</td><td>2 in 1 Convertible</td><td>1399</td><td>null</td></tr><tr><td>116</td><td>HP</td><td>Probook 440</td><td>Notebook</td><td>722</td><td>null</td></tr><tr><td>117</td><td>Dell</td><td>XPS 13</td><td>Ultrabook</td><td>1629</td><td>null</td></tr><tr><td>118</td><td>HP</td><td>Spectre x360</td><td>2 in 1 Convertible</td><td>1398.99</td><td>null</td></tr><tr><td>119</td><td>HP</td><td>Probook 440</td><td>Notebook</td><td>1084</td><td>null</td></tr><tr><td>120</td><td>Dell</td><td>Inspiron 7570</td><td>Notebook</td><td>1130.33</td><td>null</td></tr><tr><td>121</td><td>Asus</td><td>X705UV-BX074T (i3-6006U/4GB/1TB/GeForce</td><td>Notebook</td><td>564</td><td>null</td></tr><tr><td>122</td><td>Asus</td><td>VivoBook S15</td><td>Notebook</td><td>1118</td><td>null</td></tr><tr><td>123</td><td>Acer</td><td>Spin 3</td><td>Notebook</td><td>479</td><td>null</td></tr><tr><td>124</td><td>MSI</td><td>GS63VR 7RG</td><td>Gaming</td><td>2241.5</td><td>null</td></tr><tr><td>125</td><td>Lenovo</td><td>IdeaPad 320-15IKBN</td><td>Notebook</td><td>629</td><td>null</td></tr><tr><td>126</td><td>HP</td><td>Probook 470</td><td>Notebook</td><td>1271</td><td>null</td></tr><tr><td>127</td><td>Acer</td><td>Aspire 3</td><td>Notebook</td><td>451</td><td>null</td></tr><tr><td>128</td><td>HP</td><td>250 G6</td><td>Notebook</td><td>259</td><td>null</td></tr><tr><td>129</td><td>HP</td><td>Probook 440</td><td>Notebook</td><td>812</td><td>null</td></tr><tr><td>130</td><td>Asus</td><td>E402WA-GA007T (E2-6110/4GB/64GB/W10</td><td>Notebook</td><td>277.99</td><td>null</td></tr><tr><td>131</td><td>Dell</td><td>Inspiron 5770</td><td>Notebook</td><td>1396</td><td>null</td></tr><tr><td>132</td><td>HP</td><td>ProBook 470</td><td>Notebook</td><td>928</td><td>null</td></tr><tr><td>133</td><td>Dell</td><td>Inspiron 5567</td><td>Notebook</td><td>638.99</td><td>null</td></tr><tr><td>134</td><td>Dell</td><td>Inspiron 3567</td><td>Notebook</td><td>449</td><td>null</td></tr><tr><td>135</td><td>Acer</td><td>Swift 3</td><td>Ultrabook</td><td>884</td><td>null</td></tr><tr><td>136</td><td>Acer</td><td>Aspire A515-51G-37JS</td><td>Notebook</td><td>572</td><td>null</td></tr><tr><td>137</td><td>HP</td><td>15-BS078nr (i7-7500U/8GB/1TB/W10)</td><td>Notebook</td><td>598</td><td>null</td></tr><tr><td>138</td><td>HP</td><td>Probook 440</td><td>Notebook</td><td>988</td><td>null</td></tr><tr><td>139</td><td>Lenovo</td><td>V110-15IAP (N3350/4GB/1TB/No</td><td>Notebook</td><td>252.36</td><td>null</td></tr><tr><td>140</td><td>Asus</td><td>FX753VD-GC086T (i5-7300HQ/8GB/1TB</td><td>Gaming</td><td>938</td><td>null</td></tr><tr><td>141</td><td>Lenovo</td><td>IdeaPad 320-15IKBN</td><td>Notebook</td><td>499</td><td>null</td></tr></tbody></table></div>"
      ]
     },
     "metadata": {
      "application/vnd.databricks.v1+output": {
       "addedWidgets": {},
       "aggData": [],
       "aggError": "",
       "aggOverflow": false,
       "aggSchema": [],
       "aggSeriesLimitReached": false,
       "aggType": "",
       "arguments": {},
       "columnCustomDisplayInfos": {},
       "data": [
        [
         "41",
         "Asus",
         "X540UA-DM186 (i3-6006U/4GB/1TB/FHD/Linux)",
         "Notebook",
         "389",
         "{\"TYPENAME\":\"Notebook\",\"_file_path\":\"dbfs:/FileStore/shared_uploads/auto_loader_streaming/laptops_03_extracol.csv\"}"
        ],
        [
         "42",
         "Dell",
         "Inspiron 7577",
         "Gaming",
         "1499",
         "{\"TYPENAME\":\"Gaming\",\"_file_path\":\"dbfs:/FileStore/shared_uploads/auto_loader_streaming/laptops_03_extracol.csv\"}"
        ],
        [
         "43",
         "Asus",
         "X542UQ-GO005 (i5-7200U/8GB/1TB/GeForce",
         "Notebook",
         "522.99",
         "{\"TYPENAME\":\"Notebook\",\"_file_path\":\"dbfs:/FileStore/shared_uploads/auto_loader_streaming/laptops_03_extracol.csv\"}"
        ],
        [
         "44",
         "Acer",
         "Aspire A515-51G",
         "Notebook",
         "682",
         "{\"TYPENAME\":\"Notebook\",\"_file_path\":\"dbfs:/FileStore/shared_uploads/auto_loader_streaming/laptops_03_extracol.csv\"}"
        ],
        [
         "45",
         "Dell",
         "Inspiron 7773",
         "2 in 1 Convertible",
         "999",
         "{\"TYPENAME\":\"2 in 1 Convertible\",\"_file_path\":\"dbfs:/FileStore/shared_uploads/auto_loader_streaming/laptops_03_extracol.csv\"}"
        ],
        [
         "46",
         "Apple",
         "MacBook Pro",
         "Ultrabook",
         "1419",
         "{\"TYPENAME\":\"Ultrabook\",\"_file_path\":\"dbfs:/FileStore/shared_uploads/auto_loader_streaming/laptops_03_extracol.csv\"}"
        ],
        [
         "47",
         "Lenovo",
         "IdeaPad 320-15ISK",
         "Notebook",
         "369",
         "{\"TYPENAME\":\"Notebook\",\"_file_path\":\"dbfs:/FileStore/shared_uploads/auto_loader_streaming/laptops_03_extracol.csv\"}"
        ],
        [
         "48",
         "Asus",
         "Rog Strix",
         "Gaming",
         "1299",
         "{\"TYPENAME\":\"Gaming\",\"_file_path\":\"dbfs:/FileStore/shared_uploads/auto_loader_streaming/laptops_03_extracol.csv\"}"
        ],
        [
         "49",
         "Dell",
         "Inspiron 3567",
         "Notebook",
         "639",
         "{\"TYPENAME\":\"Notebook\",\"_file_path\":\"dbfs:/FileStore/shared_uploads/auto_loader_streaming/laptops_03_extracol.csv\"}"
        ],
        [
         "50",
         "Asus",
         "X751NV-TY001T (N4200/4GB/1TB/GeForce",
         "Notebook",
         "466",
         "{\"TYPENAME\":\"Notebook\",\"_file_path\":\"dbfs:/FileStore/shared_uploads/auto_loader_streaming/laptops_03_extracol.csv\"}"
        ],
        [
         "51",
         "Lenovo",
         "Yoga Book",
         "2 in 1 Convertible",
         "319",
         "{\"TYPENAME\":\"2 in 1 Convertible\",\"_file_path\":\"dbfs:/FileStore/shared_uploads/auto_loader_streaming/laptops_03_extracol.csv\"}"
        ],
        [
         "52",
         "Acer",
         "Aspire A515-51G",
         "Notebook",
         "841",
         "{\"TYPENAME\":\"Notebook\",\"_file_path\":\"dbfs:/FileStore/shared_uploads/auto_loader_streaming/laptops_03_extracol.csv\"}"
        ],
        [
         "53",
         "HP",
         "255 G6",
         "Notebook",
         "398.49",
         "{\"TYPENAME\":\"Notebook\",\"_file_path\":\"dbfs:/FileStore/shared_uploads/auto_loader_streaming/laptops_03_extracol.csv\"}"
        ],
        [
         "54",
         "HP",
         "ProBook 430",
         "Notebook",
         "1103",
         "{\"TYPENAME\":\"Notebook\",\"_file_path\":\"dbfs:/FileStore/shared_uploads/auto_loader_streaming/laptops_03_extracol.csv\"}"
        ],
        [
         "55",
         "Acer",
         "Aspire 3",
         "Notebook",
         "384",
         "{\"TYPENAME\":\"Notebook\",\"_file_path\":\"dbfs:/FileStore/shared_uploads/auto_loader_streaming/laptops_03_extracol.csv\"}"
        ],
        [
         "56",
         "Dell",
         "Inspiron 3576",
         "Notebook",
         "767.8",
         "{\"TYPENAME\":\"Notebook\",\"_file_path\":\"dbfs:/FileStore/shared_uploads/auto_loader_streaming/laptops_03_extracol.csv\"}"
        ],
        [
         "57",
         "HP",
         "15-bs002nv (i3-6006U/4GB/128GB/FHD/W10)",
         "Notebook",
         "439",
         "{\"TYPENAME\":\"Notebook\",\"_file_path\":\"dbfs:/FileStore/shared_uploads/auto_loader_streaming/laptops_03_extracol.csv\"}"
        ],
        [
         "58",
         "Asus",
         "VivoBook Max",
         "Notebook",
         "586.19",
         "{\"TYPENAME\":\"Notebook\",\"_file_path\":\"dbfs:/FileStore/shared_uploads/auto_loader_streaming/laptops_03_extracol.csv\"}"
        ],
        [
         "59",
         "MSI",
         "GS73VR 7RG",
         "Gaming",
         "2449",
         "{\"TYPENAME\":\"Gaming\",\"_file_path\":\"dbfs:/FileStore/shared_uploads/auto_loader_streaming/laptops_03_extracol.csv\"}"
        ],
        [
         "21",
         "Asus",
         "Vivobook E200HA",
         "Netbook",
         "191.9",
         null
        ],
        [
         "22",
         "Lenovo",
         "Legion Y520-15IKBN",
         "Gaming",
         "999",
         null
        ],
        [
         "23",
         "HP",
         "255 G6",
         "Notebook",
         "258",
         null
        ],
        [
         "24",
         "Dell",
         "Inspiron 5379",
         "2 in 1 Convertible",
         "819",
         null
        ],
        [
         "25",
         "HP",
         "15-BS101nv (i7-8550U/8GB/256GB/FHD/W10)",
         "Ultrabook",
         "659",
         null
        ],
        [
         "26",
         "Dell",
         "Inspiron 3567",
         "Notebook",
         "418.64",
         null
        ],
        [
         "27",
         "Apple",
         "MacBook Air",
         "Ultrabook",
         "1099",
         null
        ],
        [
         "28",
         "Dell",
         "Inspiron 5570",
         "Notebook",
         "800",
         null
        ],
        [
         "29",
         "Dell",
         "Latitude 5590",
         "Ultrabook",
         "1298",
         null
        ],
        [
         "30",
         "HP",
         "ProBook 470",
         "Notebook",
         "896",
         null
        ],
        [
         "31",
         "Chuwi",
         "LapBook 15.6\"\"",
         "Notebook",
         "244.99",
         null
        ],
        [
         "32",
         "Asus",
         "E402WA-GA010T (E2-6110/2GB/32GB/W10)",
         "Notebook",
         "199",
         null
        ],
        [
         "33",
         "HP",
         "17-ak001nv (A6-9220/4GB/500GB/Radeon",
         "Notebook",
         "439",
         null
        ],
        [
         "34",
         "Dell",
         "XPS 13",
         "Ultrabook",
         "1869",
         null
        ],
        [
         "35",
         "Apple",
         "MacBook Air",
         "Ultrabook",
         "998",
         null
        ],
        [
         "36",
         "Lenovo",
         "IdeaPad 120S-14IAP",
         "Notebook",
         "249",
         null
        ],
        [
         "37",
         "Acer",
         "Aspire 3",
         "Notebook",
         "367",
         null
        ],
        [
         "38",
         "Dell",
         "Inspiron 5770",
         "Notebook",
         "979",
         null
        ],
        [
         "39",
         "HP",
         "250 G6",
         "Notebook",
         "488.69",
         null
        ],
        [
         "40",
         "HP",
         "ProBook 450",
         "Notebook",
         "879",
         null
        ],
        [
         "1",
         "Apple",
         "MacBook Pro",
         "Ultrabook",
         "1339.69",
         null
        ],
        [
         "2",
         "Apple",
         "Macbook Air",
         "Ultrabook",
         "898.94",
         null
        ],
        [
         "3",
         "HP",
         "250 G6",
         "Notebook",
         "575",
         null
        ],
        [
         "4",
         "Apple",
         "MacBook Pro",
         "Ultrabook",
         "2537.45",
         null
        ],
        [
         "5",
         "Apple",
         "MacBook Pro",
         "Ultrabook",
         "1803.6",
         null
        ],
        [
         "6",
         "Acer",
         "Aspire 3",
         "Notebook",
         "400",
         null
        ],
        [
         "7",
         "Apple",
         "MacBook Pro",
         "Ultrabook",
         "2139.97",
         null
        ],
        [
         "8",
         "Apple",
         "Macbook Air",
         "Ultrabook",
         "1158.7",
         null
        ],
        [
         "9",
         "Asus",
         "ZenBook UX430UN",
         "Ultrabook",
         "1495",
         null
        ],
        [
         "10",
         "Acer",
         "Swift 3",
         "Ultrabook",
         "770",
         null
        ],
        [
         "11",
         "HP",
         "250 G6",
         "Notebook",
         "393.9",
         null
        ],
        [
         "12",
         "HP",
         "250 G6",
         "Notebook",
         "344.99",
         null
        ],
        [
         "13",
         "Apple",
         "MacBook Pro",
         "Ultrabook",
         "2439.97",
         null
        ],
        [
         "14",
         "Dell",
         "Inspiron 3567",
         "Notebook",
         "498.9",
         null
        ],
        [
         "15",
         "Apple",
         "MacBook 12\"\"",
         "Ultrabook",
         "1262.4",
         null
        ],
        [
         "16",
         "Apple",
         "MacBook Pro",
         "Ultrabook",
         "1518.55",
         null
        ],
        [
         "17",
         "Dell",
         "Inspiron 3567",
         "Notebook",
         "745",
         null
        ],
        [
         "18",
         "Apple",
         "MacBook Pro",
         "Ultrabook",
         "2858",
         null
        ],
        [
         "19",
         "Lenovo",
         "IdeaPad 320-15IKB",
         "Notebook",
         "499",
         null
        ],
        [
         "20",
         "Dell",
         "XPS 13",
         "Ultrabook",
         "979",
         null
        ],
        [
         "60",
         "Asus",
         "X541UA-DM1897 (i3-6006U/4GB/256GB/FHD/Linux)",
         "Notebook",
         "415",
         null
        ],
        [
         "61",
         "Dell",
         "Inspiron 5770",
         "Notebook",
         "1299",
         null
        ],
        [
         "62",
         "Dell",
         "Vostro 5471",
         "Ultrabook",
         "879",
         null
        ],
        [
         "63",
         "Lenovo",
         "IdeaPad 520S-14IKB",
         "Notebook",
         "599",
         null
        ],
        [
         "64",
         "Asus",
         "UX410UA-GV350T (i5-8250U/8GB/256GB/FHD/W10)",
         "Notebook",
         "941",
         null
        ],
        [
         "66",
         "HP",
         "250 G6",
         "Notebook",
         "690",
         null
        ],
        [
         "67",
         "Asus",
         "ZenBook Pro",
         "Ultrabook",
         "1983",
         null
        ],
        [
         "68",
         "HP",
         "250 G6",
         "Notebook",
         "438.69",
         null
        ],
        [
         "69",
         "HP",
         "Stream 14-AX040wm",
         "Notebook",
         "229",
         null
        ],
        [
         "70",
         "Lenovo",
         "V310-15ISK (i5-7200U/4GB/1TB/FHD/W10)",
         "Notebook",
         "549",
         null
        ],
        [
         "71",
         "Asus",
         "FX753VE-GC093 (i7-7700HQ/12GB/1TB/GeForce",
         "Gaming",
         "949",
         null
        ],
        [
         "72",
         "Microsoft",
         "Surface Laptop",
         "Ultrabook",
         "1089",
         null
        ],
        [
         "73",
         "Dell",
         "Inspiron 5370",
         "Ultrabook",
         "955",
         null
        ],
        [
         "74",
         "Dell",
         "Inspiron 5570",
         "Notebook",
         "870",
         null
        ],
        [
         "75",
         "MSI",
         "GL72M 7RDX",
         "Gaming",
         "1095",
         null
        ],
        [
         "76",
         "Acer",
         "Aspire E5-475",
         "Notebook",
         "389",
         null
        ],
        [
         "77",
         "Asus",
         "FX503VD-E4022T (i7-7700HQ/8GB/1TB/GeForce",
         "Gaming",
         "949",
         null
        ],
        [
         "78",
         "Lenovo",
         "IdeaPad 320-15IKBN",
         "Notebook",
         "519",
         null
        ],
        [
         "79",
         "Dell",
         "Inspiron 5570",
         "Notebook",
         "855",
         null
        ],
        [
         "80",
         "Acer",
         "Aspire A515-51G-32MX",
         "Notebook",
         "530",
         null
        ],
        [
         "102",
         "HP",
         "Omen 15-ce007nv",
         "Gaming",
         "1249",
         null
        ],
        [
         "103",
         "HP",
         "15-bs017nv (i7-7500U/8GB/256GB/Radeon",
         "Notebook",
         "719",
         null
        ],
        [
         "104",
         "HP",
         "15-bw000nv (E2-9000e/4GB/500GB/Radeon",
         "Notebook",
         "349",
         null
        ],
        [
         "105",
         "Dell",
         "Inspiron 3576",
         "Notebook",
         "647",
         null
        ],
        [
         "106",
         "HP",
         "Envy 13-ad009n",
         "Ultrabook",
         "1119",
         null
        ],
        [
         "107",
         "Microsoft",
         "Surface Laptop",
         "Ultrabook",
         "1340",
         null
        ],
        [
         "108",
         "HP",
         "Pavilion 14-BK001nv",
         "Notebook",
         "659",
         null
        ],
        [
         "109",
         "Lenovo",
         "Ideapad 310-15ISK",
         "Notebook",
         "414.9",
         null
        ],
        [
         "110",
         "Asus",
         "UX430UQ-GV209R (i7-7500U/8GB/256GB/GeForce",
         "Ultrabook",
         "1193",
         null
        ],
        [
         "111",
         "MSI",
         "GP62M 7REX",
         "Gaming",
         "1299",
         null
        ],
        [
         "112",
         "Lenovo",
         "Thinkpad T470",
         "Notebook",
         "1480",
         null
        ],
        [
         "113",
         "Asus",
         "VivoBook S15",
         "Ultrabook",
         "1262",
         null
        ],
        [
         "114",
         "Dell",
         "XPS 13",
         "Ultrabook",
         "1379",
         null
        ],
        [
         "115",
         "Lenovo",
         "ThinkPad Yoga",
         "2 in 1 Convertible",
         "1399",
         null
        ],
        [
         "116",
         "HP",
         "Probook 440",
         "Notebook",
         "722",
         null
        ],
        [
         "117",
         "Dell",
         "XPS 13",
         "Ultrabook",
         "1629",
         null
        ],
        [
         "118",
         "HP",
         "Spectre x360",
         "2 in 1 Convertible",
         "1398.99",
         null
        ],
        [
         "119",
         "HP",
         "Probook 440",
         "Notebook",
         "1084",
         null
        ],
        [
         "120",
         "Dell",
         "Inspiron 7570",
         "Notebook",
         "1130.33",
         null
        ],
        [
         "121",
         "Asus",
         "X705UV-BX074T (i3-6006U/4GB/1TB/GeForce",
         "Notebook",
         "564",
         null
        ],
        [
         "122",
         "Asus",
         "VivoBook S15",
         "Notebook",
         "1118",
         null
        ],
        [
         "123",
         "Acer",
         "Spin 3",
         "Notebook",
         "479",
         null
        ],
        [
         "124",
         "MSI",
         "GS63VR 7RG",
         "Gaming",
         "2241.5",
         null
        ],
        [
         "125",
         "Lenovo",
         "IdeaPad 320-15IKBN",
         "Notebook",
         "629",
         null
        ],
        [
         "126",
         "HP",
         "Probook 470",
         "Notebook",
         "1271",
         null
        ],
        [
         "127",
         "Acer",
         "Aspire 3",
         "Notebook",
         "451",
         null
        ],
        [
         "128",
         "HP",
         "250 G6",
         "Notebook",
         "259",
         null
        ],
        [
         "129",
         "HP",
         "Probook 440",
         "Notebook",
         "812",
         null
        ],
        [
         "130",
         "Asus",
         "E402WA-GA007T (E2-6110/4GB/64GB/W10",
         "Notebook",
         "277.99",
         null
        ],
        [
         "131",
         "Dell",
         "Inspiron 5770",
         "Notebook",
         "1396",
         null
        ],
        [
         "132",
         "HP",
         "ProBook 470",
         "Notebook",
         "928",
         null
        ],
        [
         "133",
         "Dell",
         "Inspiron 5567",
         "Notebook",
         "638.99",
         null
        ],
        [
         "134",
         "Dell",
         "Inspiron 3567",
         "Notebook",
         "449",
         null
        ],
        [
         "135",
         "Acer",
         "Swift 3",
         "Ultrabook",
         "884",
         null
        ],
        [
         "136",
         "Acer",
         "Aspire A515-51G-37JS",
         "Notebook",
         "572",
         null
        ],
        [
         "137",
         "HP",
         "15-BS078nr (i7-7500U/8GB/1TB/W10)",
         "Notebook",
         "598",
         null
        ],
        [
         "138",
         "HP",
         "Probook 440",
         "Notebook",
         "988",
         null
        ],
        [
         "139",
         "Lenovo",
         "V110-15IAP (N3350/4GB/1TB/No",
         "Notebook",
         "252.36",
         null
        ],
        [
         "140",
         "Asus",
         "FX753VD-GC086T (i5-7300HQ/8GB/1TB",
         "Gaming",
         "938",
         null
        ],
        [
         "141",
         "Lenovo",
         "IdeaPad 320-15IKBN",
         "Notebook",
         "499",
         null
        ]
       ],
       "datasetInfos": [],
       "dbfsResultPath": null,
       "isJsonSchema": true,
       "metadata": {
        "isDbfsCommandResult": false
       },
       "overflow": false,
       "plotOptions": {
        "customPlotOptions": {},
        "displayType": "table",
        "pivotAggregation": null,
        "pivotColumns": null,
        "xColumns": null,
        "yColumns": null
       },
       "removedWidgets": [],
       "schema": [
        {
         "metadata": "{}",
         "name": "Id",
         "type": "\"string\""
        },
        {
         "metadata": "{}",
         "name": "Company",
         "type": "\"string\""
        },
        {
         "metadata": "{}",
         "name": "Product",
         "type": "\"string\""
        },
        {
         "metadata": "{}",
         "name": "TypeName",
         "type": "\"string\""
        },
        {
         "metadata": "{}",
         "name": "Price_euros",
         "type": "\"string\""
        },
        {
         "metadata": "{}",
         "name": "_rescued_data",
         "type": "\"string\""
        }
       ],
       "type": "table"
      }
     },
     "output_type": "display_data"
    }
   ],
   "source": [
    "#show _rescued_data column after add file with extra column \n",
    "display(laptob_stream_data)"
   ]
  },
  {
   "cell_type": "code",
   "execution_count": null,
   "metadata": {
    "application/vnd.databricks.v1+cell": {
     "cellMetadata": {
      "byteLimit": 2048000,
      "rowLimit": 10000
     },
     "inputWidgets": {},
     "nuid": "e5d9bb4a-b495-4941-9a8a-4fdd7ef9a08b",
     "showTitle": false,
     "title": ""
    }
   },
   "outputs": [
    {
     "name": "stdout",
     "output_type": "stream",
     "text": [
      "Out[63]: [FileInfo(path='dbfs:/FileStore/shared_uploads/auto_loader_streaming/_schemas/', name='_schemas/', size=0, modificationTime=1692954295000),\n",
      " FileInfo(path='dbfs:/FileStore/shared_uploads/auto_loader_streaming/laptops_01.csv', name='laptops_01.csv', size=760, modificationTime=1692953530000),\n",
      " FileInfo(path='dbfs:/FileStore/shared_uploads/auto_loader_streaming/laptops_02.csv', name='laptops_02.csv', size=833, modificationTime=1692953530000),\n",
      " FileInfo(path='dbfs:/FileStore/shared_uploads/auto_loader_streaming/laptops_03_extracol.csv', name='laptops_03_extracol.csv', size=1029, modificationTime=1692956416000),\n",
      " FileInfo(path='dbfs:/FileStore/shared_uploads/auto_loader_streaming/laptops_04_rearrangedcols.csv', name='laptops_04_rearrangedcols.csv', size=910, modificationTime=1692956590000)]"
     ]
    }
   ],
   "source": [
    "dbutils.fs.ls(\"dbfs:/FileStore/shared_uploads/auto_loader_streaming\")"
   ]
  },
  {
   "cell_type": "code",
   "execution_count": null,
   "metadata": {
    "application/vnd.databricks.v1+cell": {
     "cellMetadata": {
      "byteLimit": 2048000,
      "rowLimit": 10000
     },
     "inputWidgets": {},
     "nuid": "14459c2f-1675-42bc-98fd-b06aa2a3f6d5",
     "showTitle": false,
     "title": ""
    }
   },
   "outputs": [
    {
     "data": {
      "text/html": [
       "<style scoped>\n",
       "  .table-result-container {\n",
       "    max-height: 300px;\n",
       "    overflow: auto;\n",
       "  }\n",
       "  table, th, td {\n",
       "    border: 1px solid black;\n",
       "    border-collapse: collapse;\n",
       "  }\n",
       "  th, td {\n",
       "    padding: 5px;\n",
       "  }\n",
       "  th {\n",
       "    text-align: left;\n",
       "  }\n",
       "</style><div class='table-result-container'><table class='table-result'><thead style='background-color: white'><tr><th>Id</th><th>Company</th><th>Product</th><th>TypeName</th><th>Price_euros</th><th>_rescued_data</th></tr></thead><tbody><tr><td>41</td><td>Asus</td><td>X540UA-DM186 (i3-6006U/4GB/1TB/FHD/Linux)</td><td>Notebook</td><td>389</td><td>{\"TYPENAME\":\"Notebook\",\"_file_path\":\"dbfs:/FileStore/shared_uploads/auto_loader_streaming/laptops_03_extracol.csv\"}</td></tr><tr><td>42</td><td>Dell</td><td>Inspiron 7577</td><td>Gaming</td><td>1499</td><td>{\"TYPENAME\":\"Gaming\",\"_file_path\":\"dbfs:/FileStore/shared_uploads/auto_loader_streaming/laptops_03_extracol.csv\"}</td></tr><tr><td>43</td><td>Asus</td><td>X542UQ-GO005 (i5-7200U/8GB/1TB/GeForce</td><td>Notebook</td><td>522.99</td><td>{\"TYPENAME\":\"Notebook\",\"_file_path\":\"dbfs:/FileStore/shared_uploads/auto_loader_streaming/laptops_03_extracol.csv\"}</td></tr><tr><td>44</td><td>Acer</td><td>Aspire A515-51G</td><td>Notebook</td><td>682</td><td>{\"TYPENAME\":\"Notebook\",\"_file_path\":\"dbfs:/FileStore/shared_uploads/auto_loader_streaming/laptops_03_extracol.csv\"}</td></tr><tr><td>45</td><td>Dell</td><td>Inspiron 7773</td><td>2 in 1 Convertible</td><td>999</td><td>{\"TYPENAME\":\"2 in 1 Convertible\",\"_file_path\":\"dbfs:/FileStore/shared_uploads/auto_loader_streaming/laptops_03_extracol.csv\"}</td></tr><tr><td>46</td><td>Apple</td><td>MacBook Pro</td><td>Ultrabook</td><td>1419</td><td>{\"TYPENAME\":\"Ultrabook\",\"_file_path\":\"dbfs:/FileStore/shared_uploads/auto_loader_streaming/laptops_03_extracol.csv\"}</td></tr><tr><td>47</td><td>Lenovo</td><td>IdeaPad 320-15ISK</td><td>Notebook</td><td>369</td><td>{\"TYPENAME\":\"Notebook\",\"_file_path\":\"dbfs:/FileStore/shared_uploads/auto_loader_streaming/laptops_03_extracol.csv\"}</td></tr><tr><td>48</td><td>Asus</td><td>Rog Strix</td><td>Gaming</td><td>1299</td><td>{\"TYPENAME\":\"Gaming\",\"_file_path\":\"dbfs:/FileStore/shared_uploads/auto_loader_streaming/laptops_03_extracol.csv\"}</td></tr><tr><td>49</td><td>Dell</td><td>Inspiron 3567</td><td>Notebook</td><td>639</td><td>{\"TYPENAME\":\"Notebook\",\"_file_path\":\"dbfs:/FileStore/shared_uploads/auto_loader_streaming/laptops_03_extracol.csv\"}</td></tr><tr><td>50</td><td>Asus</td><td>X751NV-TY001T (N4200/4GB/1TB/GeForce</td><td>Notebook</td><td>466</td><td>{\"TYPENAME\":\"Notebook\",\"_file_path\":\"dbfs:/FileStore/shared_uploads/auto_loader_streaming/laptops_03_extracol.csv\"}</td></tr><tr><td>51</td><td>Lenovo</td><td>Yoga Book</td><td>2 in 1 Convertible</td><td>319</td><td>{\"TYPENAME\":\"2 in 1 Convertible\",\"_file_path\":\"dbfs:/FileStore/shared_uploads/auto_loader_streaming/laptops_03_extracol.csv\"}</td></tr><tr><td>52</td><td>Acer</td><td>Aspire A515-51G</td><td>Notebook</td><td>841</td><td>{\"TYPENAME\":\"Notebook\",\"_file_path\":\"dbfs:/FileStore/shared_uploads/auto_loader_streaming/laptops_03_extracol.csv\"}</td></tr><tr><td>53</td><td>HP</td><td>255 G6</td><td>Notebook</td><td>398.49</td><td>{\"TYPENAME\":\"Notebook\",\"_file_path\":\"dbfs:/FileStore/shared_uploads/auto_loader_streaming/laptops_03_extracol.csv\"}</td></tr><tr><td>54</td><td>HP</td><td>ProBook 430</td><td>Notebook</td><td>1103</td><td>{\"TYPENAME\":\"Notebook\",\"_file_path\":\"dbfs:/FileStore/shared_uploads/auto_loader_streaming/laptops_03_extracol.csv\"}</td></tr><tr><td>55</td><td>Acer</td><td>Aspire 3</td><td>Notebook</td><td>384</td><td>{\"TYPENAME\":\"Notebook\",\"_file_path\":\"dbfs:/FileStore/shared_uploads/auto_loader_streaming/laptops_03_extracol.csv\"}</td></tr><tr><td>56</td><td>Dell</td><td>Inspiron 3576</td><td>Notebook</td><td>767.8</td><td>{\"TYPENAME\":\"Notebook\",\"_file_path\":\"dbfs:/FileStore/shared_uploads/auto_loader_streaming/laptops_03_extracol.csv\"}</td></tr><tr><td>57</td><td>HP</td><td>15-bs002nv (i3-6006U/4GB/128GB/FHD/W10)</td><td>Notebook</td><td>439</td><td>{\"TYPENAME\":\"Notebook\",\"_file_path\":\"dbfs:/FileStore/shared_uploads/auto_loader_streaming/laptops_03_extracol.csv\"}</td></tr><tr><td>58</td><td>Asus</td><td>VivoBook Max</td><td>Notebook</td><td>586.19</td><td>{\"TYPENAME\":\"Notebook\",\"_file_path\":\"dbfs:/FileStore/shared_uploads/auto_loader_streaming/laptops_03_extracol.csv\"}</td></tr><tr><td>59</td><td>MSI</td><td>GS73VR 7RG</td><td>Gaming</td><td>2449</td><td>{\"TYPENAME\":\"Gaming\",\"_file_path\":\"dbfs:/FileStore/shared_uploads/auto_loader_streaming/laptops_03_extracol.csv\"}</td></tr><tr><td>60</td><td>Asus</td><td>X541UA-DM1897 (i3-6006U/4GB/256GB/FHD/Linux)</td><td>Notebook</td><td>415</td><td>null</td></tr><tr><td>61</td><td>Dell</td><td>Inspiron 5770</td><td>Notebook</td><td>1299</td><td>null</td></tr><tr><td>62</td><td>Dell</td><td>Vostro 5471</td><td>Ultrabook</td><td>879</td><td>null</td></tr><tr><td>63</td><td>Lenovo</td><td>IdeaPad 520S-14IKB</td><td>Notebook</td><td>599</td><td>null</td></tr><tr><td>64</td><td>Asus</td><td>UX410UA-GV350T (i5-8250U/8GB/256GB/FHD/W10)</td><td>Notebook</td><td>941</td><td>null</td></tr><tr><td>66</td><td>HP</td><td>250 G6</td><td>Notebook</td><td>690</td><td>null</td></tr><tr><td>67</td><td>Asus</td><td>ZenBook Pro</td><td>Ultrabook</td><td>1983</td><td>null</td></tr><tr><td>68</td><td>HP</td><td>250 G6</td><td>Notebook</td><td>438.69</td><td>null</td></tr><tr><td>69</td><td>HP</td><td>Stream 14-AX040wm</td><td>Notebook</td><td>229</td><td>null</td></tr><tr><td>70</td><td>Lenovo</td><td>V310-15ISK (i5-7200U/4GB/1TB/FHD/W10)</td><td>Notebook</td><td>549</td><td>null</td></tr><tr><td>71</td><td>Asus</td><td>FX753VE-GC093 (i7-7700HQ/12GB/1TB/GeForce</td><td>Gaming</td><td>949</td><td>null</td></tr><tr><td>72</td><td>Microsoft</td><td>Surface Laptop</td><td>Ultrabook</td><td>1089</td><td>null</td></tr><tr><td>73</td><td>Dell</td><td>Inspiron 5370</td><td>Ultrabook</td><td>955</td><td>null</td></tr><tr><td>74</td><td>Dell</td><td>Inspiron 5570</td><td>Notebook</td><td>870</td><td>null</td></tr><tr><td>75</td><td>MSI</td><td>GL72M 7RDX</td><td>Gaming</td><td>1095</td><td>null</td></tr><tr><td>76</td><td>Acer</td><td>Aspire E5-475</td><td>Notebook</td><td>389</td><td>null</td></tr><tr><td>77</td><td>Asus</td><td>FX503VD-E4022T (i7-7700HQ/8GB/1TB/GeForce</td><td>Gaming</td><td>949</td><td>null</td></tr><tr><td>78</td><td>Lenovo</td><td>IdeaPad 320-15IKBN</td><td>Notebook</td><td>519</td><td>null</td></tr><tr><td>79</td><td>Dell</td><td>Inspiron 5570</td><td>Notebook</td><td>855</td><td>null</td></tr><tr><td>80</td><td>Acer</td><td>Aspire A515-51G-32MX</td><td>Notebook</td><td>530</td><td>null</td></tr><tr><td>21</td><td>Asus</td><td>Vivobook E200HA</td><td>Netbook</td><td>191.9</td><td>null</td></tr><tr><td>22</td><td>Lenovo</td><td>Legion Y520-15IKBN</td><td>Gaming</td><td>999</td><td>null</td></tr><tr><td>23</td><td>HP</td><td>255 G6</td><td>Notebook</td><td>258</td><td>null</td></tr><tr><td>24</td><td>Dell</td><td>Inspiron 5379</td><td>2 in 1 Convertible</td><td>819</td><td>null</td></tr><tr><td>25</td><td>HP</td><td>15-BS101nv (i7-8550U/8GB/256GB/FHD/W10)</td><td>Ultrabook</td><td>659</td><td>null</td></tr><tr><td>26</td><td>Dell</td><td>Inspiron 3567</td><td>Notebook</td><td>418.64</td><td>null</td></tr><tr><td>27</td><td>Apple</td><td>MacBook Air</td><td>Ultrabook</td><td>1099</td><td>null</td></tr><tr><td>28</td><td>Dell</td><td>Inspiron 5570</td><td>Notebook</td><td>800</td><td>null</td></tr><tr><td>29</td><td>Dell</td><td>Latitude 5590</td><td>Ultrabook</td><td>1298</td><td>null</td></tr><tr><td>30</td><td>HP</td><td>ProBook 470</td><td>Notebook</td><td>896</td><td>null</td></tr><tr><td>31</td><td>Chuwi</td><td>LapBook 15.6\"\"</td><td>Notebook</td><td>244.99</td><td>null</td></tr><tr><td>32</td><td>Asus</td><td>E402WA-GA010T (E2-6110/2GB/32GB/W10)</td><td>Notebook</td><td>199</td><td>null</td></tr><tr><td>33</td><td>HP</td><td>17-ak001nv (A6-9220/4GB/500GB/Radeon</td><td>Notebook</td><td>439</td><td>null</td></tr><tr><td>34</td><td>Dell</td><td>XPS 13</td><td>Ultrabook</td><td>1869</td><td>null</td></tr><tr><td>35</td><td>Apple</td><td>MacBook Air</td><td>Ultrabook</td><td>998</td><td>null</td></tr><tr><td>36</td><td>Lenovo</td><td>IdeaPad 120S-14IAP</td><td>Notebook</td><td>249</td><td>null</td></tr><tr><td>37</td><td>Acer</td><td>Aspire 3</td><td>Notebook</td><td>367</td><td>null</td></tr><tr><td>38</td><td>Dell</td><td>Inspiron 5770</td><td>Notebook</td><td>979</td><td>null</td></tr><tr><td>39</td><td>HP</td><td>250 G6</td><td>Notebook</td><td>488.69</td><td>null</td></tr><tr><td>40</td><td>HP</td><td>ProBook 450</td><td>Notebook</td><td>879</td><td>null</td></tr><tr><td>1</td><td>Apple</td><td>MacBook Pro</td><td>Ultrabook</td><td>1339.69</td><td>null</td></tr><tr><td>2</td><td>Apple</td><td>Macbook Air</td><td>Ultrabook</td><td>898.94</td><td>null</td></tr><tr><td>3</td><td>HP</td><td>250 G6</td><td>Notebook</td><td>575</td><td>null</td></tr><tr><td>4</td><td>Apple</td><td>MacBook Pro</td><td>Ultrabook</td><td>2537.45</td><td>null</td></tr><tr><td>5</td><td>Apple</td><td>MacBook Pro</td><td>Ultrabook</td><td>1803.6</td><td>null</td></tr><tr><td>6</td><td>Acer</td><td>Aspire 3</td><td>Notebook</td><td>400</td><td>null</td></tr><tr><td>7</td><td>Apple</td><td>MacBook Pro</td><td>Ultrabook</td><td>2139.97</td><td>null</td></tr><tr><td>8</td><td>Apple</td><td>Macbook Air</td><td>Ultrabook</td><td>1158.7</td><td>null</td></tr><tr><td>9</td><td>Asus</td><td>ZenBook UX430UN</td><td>Ultrabook</td><td>1495</td><td>null</td></tr><tr><td>10</td><td>Acer</td><td>Swift 3</td><td>Ultrabook</td><td>770</td><td>null</td></tr><tr><td>11</td><td>HP</td><td>250 G6</td><td>Notebook</td><td>393.9</td><td>null</td></tr><tr><td>12</td><td>HP</td><td>250 G6</td><td>Notebook</td><td>344.99</td><td>null</td></tr><tr><td>13</td><td>Apple</td><td>MacBook Pro</td><td>Ultrabook</td><td>2439.97</td><td>null</td></tr><tr><td>14</td><td>Dell</td><td>Inspiron 3567</td><td>Notebook</td><td>498.9</td><td>null</td></tr><tr><td>15</td><td>Apple</td><td>MacBook 12\"\"</td><td>Ultrabook</td><td>1262.4</td><td>null</td></tr><tr><td>16</td><td>Apple</td><td>MacBook Pro</td><td>Ultrabook</td><td>1518.55</td><td>null</td></tr><tr><td>17</td><td>Dell</td><td>Inspiron 3567</td><td>Notebook</td><td>745</td><td>null</td></tr><tr><td>18</td><td>Apple</td><td>MacBook Pro</td><td>Ultrabook</td><td>2858</td><td>null</td></tr><tr><td>19</td><td>Lenovo</td><td>IdeaPad 320-15IKB</td><td>Notebook</td><td>499</td><td>null</td></tr><tr><td>20</td><td>Dell</td><td>XPS 13</td><td>Ultrabook</td><td>979</td><td>null</td></tr><tr><td>102</td><td>HP</td><td>Omen 15-ce007nv</td><td>Gaming</td><td>1249</td><td>null</td></tr><tr><td>103</td><td>HP</td><td>15-bs017nv (i7-7500U/8GB/256GB/Radeon</td><td>Notebook</td><td>719</td><td>null</td></tr><tr><td>104</td><td>HP</td><td>15-bw000nv (E2-9000e/4GB/500GB/Radeon</td><td>Notebook</td><td>349</td><td>null</td></tr><tr><td>105</td><td>Dell</td><td>Inspiron 3576</td><td>Notebook</td><td>647</td><td>null</td></tr><tr><td>106</td><td>HP</td><td>Envy 13-ad009n</td><td>Ultrabook</td><td>1119</td><td>null</td></tr><tr><td>107</td><td>Microsoft</td><td>Surface Laptop</td><td>Ultrabook</td><td>1340</td><td>null</td></tr><tr><td>108</td><td>HP</td><td>Pavilion 14-BK001nv</td><td>Notebook</td><td>659</td><td>null</td></tr><tr><td>109</td><td>Lenovo</td><td>Ideapad 310-15ISK</td><td>Notebook</td><td>414.9</td><td>null</td></tr><tr><td>110</td><td>Asus</td><td>UX430UQ-GV209R (i7-7500U/8GB/256GB/GeForce</td><td>Ultrabook</td><td>1193</td><td>null</td></tr><tr><td>111</td><td>MSI</td><td>GP62M 7REX</td><td>Gaming</td><td>1299</td><td>null</td></tr><tr><td>112</td><td>Lenovo</td><td>Thinkpad T470</td><td>Notebook</td><td>1480</td><td>null</td></tr><tr><td>113</td><td>Asus</td><td>VivoBook S15</td><td>Ultrabook</td><td>1262</td><td>null</td></tr><tr><td>114</td><td>Dell</td><td>XPS 13</td><td>Ultrabook</td><td>1379</td><td>null</td></tr><tr><td>115</td><td>Lenovo</td><td>ThinkPad Yoga</td><td>2 in 1 Convertible</td><td>1399</td><td>null</td></tr><tr><td>116</td><td>HP</td><td>Probook 440</td><td>Notebook</td><td>722</td><td>null</td></tr><tr><td>117</td><td>Dell</td><td>XPS 13</td><td>Ultrabook</td><td>1629</td><td>null</td></tr><tr><td>118</td><td>HP</td><td>Spectre x360</td><td>2 in 1 Convertible</td><td>1398.99</td><td>null</td></tr><tr><td>119</td><td>HP</td><td>Probook 440</td><td>Notebook</td><td>1084</td><td>null</td></tr><tr><td>120</td><td>Dell</td><td>Inspiron 7570</td><td>Notebook</td><td>1130.33</td><td>null</td></tr><tr><td>121</td><td>Asus</td><td>X705UV-BX074T (i3-6006U/4GB/1TB/GeForce</td><td>Notebook</td><td>564</td><td>null</td></tr><tr><td>122</td><td>Asus</td><td>VivoBook S15</td><td>Notebook</td><td>1118</td><td>null</td></tr><tr><td>123</td><td>Acer</td><td>Spin 3</td><td>Notebook</td><td>479</td><td>null</td></tr><tr><td>124</td><td>MSI</td><td>GS63VR 7RG</td><td>Gaming</td><td>2241.5</td><td>null</td></tr><tr><td>125</td><td>Lenovo</td><td>IdeaPad 320-15IKBN</td><td>Notebook</td><td>629</td><td>null</td></tr><tr><td>126</td><td>HP</td><td>Probook 470</td><td>Notebook</td><td>1271</td><td>null</td></tr><tr><td>127</td><td>Acer</td><td>Aspire 3</td><td>Notebook</td><td>451</td><td>null</td></tr><tr><td>128</td><td>HP</td><td>250 G6</td><td>Notebook</td><td>259</td><td>null</td></tr><tr><td>129</td><td>HP</td><td>Probook 440</td><td>Notebook</td><td>812</td><td>null</td></tr><tr><td>130</td><td>Asus</td><td>E402WA-GA007T (E2-6110/4GB/64GB/W10</td><td>Notebook</td><td>277.99</td><td>null</td></tr><tr><td>131</td><td>Dell</td><td>Inspiron 5770</td><td>Notebook</td><td>1396</td><td>null</td></tr><tr><td>132</td><td>HP</td><td>ProBook 470</td><td>Notebook</td><td>928</td><td>null</td></tr><tr><td>133</td><td>Dell</td><td>Inspiron 5567</td><td>Notebook</td><td>638.99</td><td>null</td></tr><tr><td>134</td><td>Dell</td><td>Inspiron 3567</td><td>Notebook</td><td>449</td><td>null</td></tr><tr><td>135</td><td>Acer</td><td>Swift 3</td><td>Ultrabook</td><td>884</td><td>null</td></tr><tr><td>136</td><td>Acer</td><td>Aspire A515-51G-37JS</td><td>Notebook</td><td>572</td><td>null</td></tr><tr><td>137</td><td>HP</td><td>15-BS078nr (i7-7500U/8GB/1TB/W10)</td><td>Notebook</td><td>598</td><td>null</td></tr><tr><td>138</td><td>HP</td><td>Probook 440</td><td>Notebook</td><td>988</td><td>null</td></tr><tr><td>139</td><td>Lenovo</td><td>V110-15IAP (N3350/4GB/1TB/No</td><td>Notebook</td><td>252.36</td><td>null</td></tr><tr><td>140</td><td>Asus</td><td>FX753VD-GC086T (i5-7300HQ/8GB/1TB</td><td>Gaming</td><td>938</td><td>null</td></tr><tr><td>141</td><td>Lenovo</td><td>IdeaPad 320-15IKBN</td><td>Notebook</td><td>499</td><td>null</td></tr></tbody></table></div>"
      ]
     },
     "metadata": {
      "application/vnd.databricks.v1+output": {
       "addedWidgets": {},
       "aggData": [],
       "aggError": "",
       "aggOverflow": false,
       "aggSchema": [],
       "aggSeriesLimitReached": false,
       "aggType": "",
       "arguments": {},
       "columnCustomDisplayInfos": {},
       "data": [
        [
         "41",
         "Asus",
         "X540UA-DM186 (i3-6006U/4GB/1TB/FHD/Linux)",
         "Notebook",
         "389",
         "{\"TYPENAME\":\"Notebook\",\"_file_path\":\"dbfs:/FileStore/shared_uploads/auto_loader_streaming/laptops_03_extracol.csv\"}"
        ],
        [
         "42",
         "Dell",
         "Inspiron 7577",
         "Gaming",
         "1499",
         "{\"TYPENAME\":\"Gaming\",\"_file_path\":\"dbfs:/FileStore/shared_uploads/auto_loader_streaming/laptops_03_extracol.csv\"}"
        ],
        [
         "43",
         "Asus",
         "X542UQ-GO005 (i5-7200U/8GB/1TB/GeForce",
         "Notebook",
         "522.99",
         "{\"TYPENAME\":\"Notebook\",\"_file_path\":\"dbfs:/FileStore/shared_uploads/auto_loader_streaming/laptops_03_extracol.csv\"}"
        ],
        [
         "44",
         "Acer",
         "Aspire A515-51G",
         "Notebook",
         "682",
         "{\"TYPENAME\":\"Notebook\",\"_file_path\":\"dbfs:/FileStore/shared_uploads/auto_loader_streaming/laptops_03_extracol.csv\"}"
        ],
        [
         "45",
         "Dell",
         "Inspiron 7773",
         "2 in 1 Convertible",
         "999",
         "{\"TYPENAME\":\"2 in 1 Convertible\",\"_file_path\":\"dbfs:/FileStore/shared_uploads/auto_loader_streaming/laptops_03_extracol.csv\"}"
        ],
        [
         "46",
         "Apple",
         "MacBook Pro",
         "Ultrabook",
         "1419",
         "{\"TYPENAME\":\"Ultrabook\",\"_file_path\":\"dbfs:/FileStore/shared_uploads/auto_loader_streaming/laptops_03_extracol.csv\"}"
        ],
        [
         "47",
         "Lenovo",
         "IdeaPad 320-15ISK",
         "Notebook",
         "369",
         "{\"TYPENAME\":\"Notebook\",\"_file_path\":\"dbfs:/FileStore/shared_uploads/auto_loader_streaming/laptops_03_extracol.csv\"}"
        ],
        [
         "48",
         "Asus",
         "Rog Strix",
         "Gaming",
         "1299",
         "{\"TYPENAME\":\"Gaming\",\"_file_path\":\"dbfs:/FileStore/shared_uploads/auto_loader_streaming/laptops_03_extracol.csv\"}"
        ],
        [
         "49",
         "Dell",
         "Inspiron 3567",
         "Notebook",
         "639",
         "{\"TYPENAME\":\"Notebook\",\"_file_path\":\"dbfs:/FileStore/shared_uploads/auto_loader_streaming/laptops_03_extracol.csv\"}"
        ],
        [
         "50",
         "Asus",
         "X751NV-TY001T (N4200/4GB/1TB/GeForce",
         "Notebook",
         "466",
         "{\"TYPENAME\":\"Notebook\",\"_file_path\":\"dbfs:/FileStore/shared_uploads/auto_loader_streaming/laptops_03_extracol.csv\"}"
        ],
        [
         "51",
         "Lenovo",
         "Yoga Book",
         "2 in 1 Convertible",
         "319",
         "{\"TYPENAME\":\"2 in 1 Convertible\",\"_file_path\":\"dbfs:/FileStore/shared_uploads/auto_loader_streaming/laptops_03_extracol.csv\"}"
        ],
        [
         "52",
         "Acer",
         "Aspire A515-51G",
         "Notebook",
         "841",
         "{\"TYPENAME\":\"Notebook\",\"_file_path\":\"dbfs:/FileStore/shared_uploads/auto_loader_streaming/laptops_03_extracol.csv\"}"
        ],
        [
         "53",
         "HP",
         "255 G6",
         "Notebook",
         "398.49",
         "{\"TYPENAME\":\"Notebook\",\"_file_path\":\"dbfs:/FileStore/shared_uploads/auto_loader_streaming/laptops_03_extracol.csv\"}"
        ],
        [
         "54",
         "HP",
         "ProBook 430",
         "Notebook",
         "1103",
         "{\"TYPENAME\":\"Notebook\",\"_file_path\":\"dbfs:/FileStore/shared_uploads/auto_loader_streaming/laptops_03_extracol.csv\"}"
        ],
        [
         "55",
         "Acer",
         "Aspire 3",
         "Notebook",
         "384",
         "{\"TYPENAME\":\"Notebook\",\"_file_path\":\"dbfs:/FileStore/shared_uploads/auto_loader_streaming/laptops_03_extracol.csv\"}"
        ],
        [
         "56",
         "Dell",
         "Inspiron 3576",
         "Notebook",
         "767.8",
         "{\"TYPENAME\":\"Notebook\",\"_file_path\":\"dbfs:/FileStore/shared_uploads/auto_loader_streaming/laptops_03_extracol.csv\"}"
        ],
        [
         "57",
         "HP",
         "15-bs002nv (i3-6006U/4GB/128GB/FHD/W10)",
         "Notebook",
         "439",
         "{\"TYPENAME\":\"Notebook\",\"_file_path\":\"dbfs:/FileStore/shared_uploads/auto_loader_streaming/laptops_03_extracol.csv\"}"
        ],
        [
         "58",
         "Asus",
         "VivoBook Max",
         "Notebook",
         "586.19",
         "{\"TYPENAME\":\"Notebook\",\"_file_path\":\"dbfs:/FileStore/shared_uploads/auto_loader_streaming/laptops_03_extracol.csv\"}"
        ],
        [
         "59",
         "MSI",
         "GS73VR 7RG",
         "Gaming",
         "2449",
         "{\"TYPENAME\":\"Gaming\",\"_file_path\":\"dbfs:/FileStore/shared_uploads/auto_loader_streaming/laptops_03_extracol.csv\"}"
        ],
        [
         "60",
         "Asus",
         "X541UA-DM1897 (i3-6006U/4GB/256GB/FHD/Linux)",
         "Notebook",
         "415",
         null
        ],
        [
         "61",
         "Dell",
         "Inspiron 5770",
         "Notebook",
         "1299",
         null
        ],
        [
         "62",
         "Dell",
         "Vostro 5471",
         "Ultrabook",
         "879",
         null
        ],
        [
         "63",
         "Lenovo",
         "IdeaPad 520S-14IKB",
         "Notebook",
         "599",
         null
        ],
        [
         "64",
         "Asus",
         "UX410UA-GV350T (i5-8250U/8GB/256GB/FHD/W10)",
         "Notebook",
         "941",
         null
        ],
        [
         "66",
         "HP",
         "250 G6",
         "Notebook",
         "690",
         null
        ],
        [
         "67",
         "Asus",
         "ZenBook Pro",
         "Ultrabook",
         "1983",
         null
        ],
        [
         "68",
         "HP",
         "250 G6",
         "Notebook",
         "438.69",
         null
        ],
        [
         "69",
         "HP",
         "Stream 14-AX040wm",
         "Notebook",
         "229",
         null
        ],
        [
         "70",
         "Lenovo",
         "V310-15ISK (i5-7200U/4GB/1TB/FHD/W10)",
         "Notebook",
         "549",
         null
        ],
        [
         "71",
         "Asus",
         "FX753VE-GC093 (i7-7700HQ/12GB/1TB/GeForce",
         "Gaming",
         "949",
         null
        ],
        [
         "72",
         "Microsoft",
         "Surface Laptop",
         "Ultrabook",
         "1089",
         null
        ],
        [
         "73",
         "Dell",
         "Inspiron 5370",
         "Ultrabook",
         "955",
         null
        ],
        [
         "74",
         "Dell",
         "Inspiron 5570",
         "Notebook",
         "870",
         null
        ],
        [
         "75",
         "MSI",
         "GL72M 7RDX",
         "Gaming",
         "1095",
         null
        ],
        [
         "76",
         "Acer",
         "Aspire E5-475",
         "Notebook",
         "389",
         null
        ],
        [
         "77",
         "Asus",
         "FX503VD-E4022T (i7-7700HQ/8GB/1TB/GeForce",
         "Gaming",
         "949",
         null
        ],
        [
         "78",
         "Lenovo",
         "IdeaPad 320-15IKBN",
         "Notebook",
         "519",
         null
        ],
        [
         "79",
         "Dell",
         "Inspiron 5570",
         "Notebook",
         "855",
         null
        ],
        [
         "80",
         "Acer",
         "Aspire A515-51G-32MX",
         "Notebook",
         "530",
         null
        ],
        [
         "21",
         "Asus",
         "Vivobook E200HA",
         "Netbook",
         "191.9",
         null
        ],
        [
         "22",
         "Lenovo",
         "Legion Y520-15IKBN",
         "Gaming",
         "999",
         null
        ],
        [
         "23",
         "HP",
         "255 G6",
         "Notebook",
         "258",
         null
        ],
        [
         "24",
         "Dell",
         "Inspiron 5379",
         "2 in 1 Convertible",
         "819",
         null
        ],
        [
         "25",
         "HP",
         "15-BS101nv (i7-8550U/8GB/256GB/FHD/W10)",
         "Ultrabook",
         "659",
         null
        ],
        [
         "26",
         "Dell",
         "Inspiron 3567",
         "Notebook",
         "418.64",
         null
        ],
        [
         "27",
         "Apple",
         "MacBook Air",
         "Ultrabook",
         "1099",
         null
        ],
        [
         "28",
         "Dell",
         "Inspiron 5570",
         "Notebook",
         "800",
         null
        ],
        [
         "29",
         "Dell",
         "Latitude 5590",
         "Ultrabook",
         "1298",
         null
        ],
        [
         "30",
         "HP",
         "ProBook 470",
         "Notebook",
         "896",
         null
        ],
        [
         "31",
         "Chuwi",
         "LapBook 15.6\"\"",
         "Notebook",
         "244.99",
         null
        ],
        [
         "32",
         "Asus",
         "E402WA-GA010T (E2-6110/2GB/32GB/W10)",
         "Notebook",
         "199",
         null
        ],
        [
         "33",
         "HP",
         "17-ak001nv (A6-9220/4GB/500GB/Radeon",
         "Notebook",
         "439",
         null
        ],
        [
         "34",
         "Dell",
         "XPS 13",
         "Ultrabook",
         "1869",
         null
        ],
        [
         "35",
         "Apple",
         "MacBook Air",
         "Ultrabook",
         "998",
         null
        ],
        [
         "36",
         "Lenovo",
         "IdeaPad 120S-14IAP",
         "Notebook",
         "249",
         null
        ],
        [
         "37",
         "Acer",
         "Aspire 3",
         "Notebook",
         "367",
         null
        ],
        [
         "38",
         "Dell",
         "Inspiron 5770",
         "Notebook",
         "979",
         null
        ],
        [
         "39",
         "HP",
         "250 G6",
         "Notebook",
         "488.69",
         null
        ],
        [
         "40",
         "HP",
         "ProBook 450",
         "Notebook",
         "879",
         null
        ],
        [
         "1",
         "Apple",
         "MacBook Pro",
         "Ultrabook",
         "1339.69",
         null
        ],
        [
         "2",
         "Apple",
         "Macbook Air",
         "Ultrabook",
         "898.94",
         null
        ],
        [
         "3",
         "HP",
         "250 G6",
         "Notebook",
         "575",
         null
        ],
        [
         "4",
         "Apple",
         "MacBook Pro",
         "Ultrabook",
         "2537.45",
         null
        ],
        [
         "5",
         "Apple",
         "MacBook Pro",
         "Ultrabook",
         "1803.6",
         null
        ],
        [
         "6",
         "Acer",
         "Aspire 3",
         "Notebook",
         "400",
         null
        ],
        [
         "7",
         "Apple",
         "MacBook Pro",
         "Ultrabook",
         "2139.97",
         null
        ],
        [
         "8",
         "Apple",
         "Macbook Air",
         "Ultrabook",
         "1158.7",
         null
        ],
        [
         "9",
         "Asus",
         "ZenBook UX430UN",
         "Ultrabook",
         "1495",
         null
        ],
        [
         "10",
         "Acer",
         "Swift 3",
         "Ultrabook",
         "770",
         null
        ],
        [
         "11",
         "HP",
         "250 G6",
         "Notebook",
         "393.9",
         null
        ],
        [
         "12",
         "HP",
         "250 G6",
         "Notebook",
         "344.99",
         null
        ],
        [
         "13",
         "Apple",
         "MacBook Pro",
         "Ultrabook",
         "2439.97",
         null
        ],
        [
         "14",
         "Dell",
         "Inspiron 3567",
         "Notebook",
         "498.9",
         null
        ],
        [
         "15",
         "Apple",
         "MacBook 12\"\"",
         "Ultrabook",
         "1262.4",
         null
        ],
        [
         "16",
         "Apple",
         "MacBook Pro",
         "Ultrabook",
         "1518.55",
         null
        ],
        [
         "17",
         "Dell",
         "Inspiron 3567",
         "Notebook",
         "745",
         null
        ],
        [
         "18",
         "Apple",
         "MacBook Pro",
         "Ultrabook",
         "2858",
         null
        ],
        [
         "19",
         "Lenovo",
         "IdeaPad 320-15IKB",
         "Notebook",
         "499",
         null
        ],
        [
         "20",
         "Dell",
         "XPS 13",
         "Ultrabook",
         "979",
         null
        ],
        [
         "102",
         "HP",
         "Omen 15-ce007nv",
         "Gaming",
         "1249",
         null
        ],
        [
         "103",
         "HP",
         "15-bs017nv (i7-7500U/8GB/256GB/Radeon",
         "Notebook",
         "719",
         null
        ],
        [
         "104",
         "HP",
         "15-bw000nv (E2-9000e/4GB/500GB/Radeon",
         "Notebook",
         "349",
         null
        ],
        [
         "105",
         "Dell",
         "Inspiron 3576",
         "Notebook",
         "647",
         null
        ],
        [
         "106",
         "HP",
         "Envy 13-ad009n",
         "Ultrabook",
         "1119",
         null
        ],
        [
         "107",
         "Microsoft",
         "Surface Laptop",
         "Ultrabook",
         "1340",
         null
        ],
        [
         "108",
         "HP",
         "Pavilion 14-BK001nv",
         "Notebook",
         "659",
         null
        ],
        [
         "109",
         "Lenovo",
         "Ideapad 310-15ISK",
         "Notebook",
         "414.9",
         null
        ],
        [
         "110",
         "Asus",
         "UX430UQ-GV209R (i7-7500U/8GB/256GB/GeForce",
         "Ultrabook",
         "1193",
         null
        ],
        [
         "111",
         "MSI",
         "GP62M 7REX",
         "Gaming",
         "1299",
         null
        ],
        [
         "112",
         "Lenovo",
         "Thinkpad T470",
         "Notebook",
         "1480",
         null
        ],
        [
         "113",
         "Asus",
         "VivoBook S15",
         "Ultrabook",
         "1262",
         null
        ],
        [
         "114",
         "Dell",
         "XPS 13",
         "Ultrabook",
         "1379",
         null
        ],
        [
         "115",
         "Lenovo",
         "ThinkPad Yoga",
         "2 in 1 Convertible",
         "1399",
         null
        ],
        [
         "116",
         "HP",
         "Probook 440",
         "Notebook",
         "722",
         null
        ],
        [
         "117",
         "Dell",
         "XPS 13",
         "Ultrabook",
         "1629",
         null
        ],
        [
         "118",
         "HP",
         "Spectre x360",
         "2 in 1 Convertible",
         "1398.99",
         null
        ],
        [
         "119",
         "HP",
         "Probook 440",
         "Notebook",
         "1084",
         null
        ],
        [
         "120",
         "Dell",
         "Inspiron 7570",
         "Notebook",
         "1130.33",
         null
        ],
        [
         "121",
         "Asus",
         "X705UV-BX074T (i3-6006U/4GB/1TB/GeForce",
         "Notebook",
         "564",
         null
        ],
        [
         "122",
         "Asus",
         "VivoBook S15",
         "Notebook",
         "1118",
         null
        ],
        [
         "123",
         "Acer",
         "Spin 3",
         "Notebook",
         "479",
         null
        ],
        [
         "124",
         "MSI",
         "GS63VR 7RG",
         "Gaming",
         "2241.5",
         null
        ],
        [
         "125",
         "Lenovo",
         "IdeaPad 320-15IKBN",
         "Notebook",
         "629",
         null
        ],
        [
         "126",
         "HP",
         "Probook 470",
         "Notebook",
         "1271",
         null
        ],
        [
         "127",
         "Acer",
         "Aspire 3",
         "Notebook",
         "451",
         null
        ],
        [
         "128",
         "HP",
         "250 G6",
         "Notebook",
         "259",
         null
        ],
        [
         "129",
         "HP",
         "Probook 440",
         "Notebook",
         "812",
         null
        ],
        [
         "130",
         "Asus",
         "E402WA-GA007T (E2-6110/4GB/64GB/W10",
         "Notebook",
         "277.99",
         null
        ],
        [
         "131",
         "Dell",
         "Inspiron 5770",
         "Notebook",
         "1396",
         null
        ],
        [
         "132",
         "HP",
         "ProBook 470",
         "Notebook",
         "928",
         null
        ],
        [
         "133",
         "Dell",
         "Inspiron 5567",
         "Notebook",
         "638.99",
         null
        ],
        [
         "134",
         "Dell",
         "Inspiron 3567",
         "Notebook",
         "449",
         null
        ],
        [
         "135",
         "Acer",
         "Swift 3",
         "Ultrabook",
         "884",
         null
        ],
        [
         "136",
         "Acer",
         "Aspire A515-51G-37JS",
         "Notebook",
         "572",
         null
        ],
        [
         "137",
         "HP",
         "15-BS078nr (i7-7500U/8GB/1TB/W10)",
         "Notebook",
         "598",
         null
        ],
        [
         "138",
         "HP",
         "Probook 440",
         "Notebook",
         "988",
         null
        ],
        [
         "139",
         "Lenovo",
         "V110-15IAP (N3350/4GB/1TB/No",
         "Notebook",
         "252.36",
         null
        ],
        [
         "140",
         "Asus",
         "FX753VD-GC086T (i5-7300HQ/8GB/1TB",
         "Gaming",
         "938",
         null
        ],
        [
         "141",
         "Lenovo",
         "IdeaPad 320-15IKBN",
         "Notebook",
         "499",
         null
        ]
       ],
       "datasetInfos": [],
       "dbfsResultPath": null,
       "isJsonSchema": true,
       "metadata": {
        "isDbfsCommandResult": false
       },
       "overflow": false,
       "plotOptions": {
        "customPlotOptions": {},
        "displayType": "table",
        "pivotAggregation": null,
        "pivotColumns": null,
        "xColumns": null,
        "yColumns": null
       },
       "removedWidgets": [],
       "schema": [
        {
         "metadata": "{}",
         "name": "Id",
         "type": "\"string\""
        },
        {
         "metadata": "{}",
         "name": "Company",
         "type": "\"string\""
        },
        {
         "metadata": "{}",
         "name": "Product",
         "type": "\"string\""
        },
        {
         "metadata": "{}",
         "name": "TypeName",
         "type": "\"string\""
        },
        {
         "metadata": "{}",
         "name": "Price_euros",
         "type": "\"string\""
        },
        {
         "metadata": "{}",
         "name": "_rescued_data",
         "type": "\"string\""
        }
       ],
       "type": "table"
      }
     },
     "output_type": "display_data"
    }
   ],
   "source": [
    "#show _rescued_data column after add file with extra column \n",
    "display(laptob_stream_data)"
   ]
  },
  {
   "cell_type": "code",
   "execution_count": null,
   "metadata": {
    "application/vnd.databricks.v1+cell": {
     "cellMetadata": {
      "byteLimit": 2048000,
      "rowLimit": 10000
     },
     "inputWidgets": {},
     "nuid": "24e65035-b8ad-45fe-b541-ec9cd687fc67",
     "showTitle": false,
     "title": ""
    }
   },
   "outputs": [
    {
     "name": "stdout",
     "output_type": "stream",
     "text": [
      "Out[64]: '\\n        Writing Stream to file sink:\\n1. filter laptob data \\n2. make a sub directory called \"dest_location\"\\n3. Writed filtered data into \"dest_location\"\\n\\nconclusion: when add new files into the path has fitered data, the new stream data will\\nautomatically added to \"dest_location\"\\n'"
     ]
    }
   ],
   "source": [
    "\"\"\"\n",
    "                            Writing Stream to file sink:\n",
    "\n",
    "1. filter laptob data \n",
    "2. make a sub directory called \"dest_location\"\n",
    "3. Writed filtered data into \"dest_location\"\n",
    "\n",
    "conclusion: when add new files into the path has fitered data, filtered_data updated &\n",
    "the new stream data will automatically added to \"dest_location\"\n",
    "\"\"\""
   ]
  },
  {
   "cell_type": "code",
   "execution_count": null,
   "metadata": {
    "application/vnd.databricks.v1+cell": {
     "cellMetadata": {
      "byteLimit": 2048000,
      "rowLimit": 10000
     },
     "inputWidgets": {},
     "nuid": "4fdd79c8-6b00-44df-964c-c7f4631f5ecd",
     "showTitle": false,
     "title": ""
    }
   },
   "outputs": [],
   "source": [
    "# 1. filter data which have company = \"Dell\"\n",
    "laptob_stream_Dell = laptob_stream_data.filter(laptob_stream_data.Company == \"Dell\")\\\n",
    "    .select(\"Company\", \"Product\", \"Price_euros\")"
   ]
  },
  {
   "cell_type": "code",
   "execution_count": null,
   "metadata": {
    "application/vnd.databricks.v1+cell": {
     "cellMetadata": {
      "byteLimit": 2048000,
      "rowLimit": 10000
     },
     "inputWidgets": {},
     "nuid": "0bda332f-e39e-4b36-9ce3-66cb48f442a4",
     "showTitle": false,
     "title": ""
    }
   },
   "outputs": [
    {
     "data": {
      "text/html": [
       "<style scoped>\n",
       "  .table-result-container {\n",
       "    max-height: 300px;\n",
       "    overflow: auto;\n",
       "  }\n",
       "  table, th, td {\n",
       "    border: 1px solid black;\n",
       "    border-collapse: collapse;\n",
       "  }\n",
       "  th, td {\n",
       "    padding: 5px;\n",
       "  }\n",
       "  th {\n",
       "    text-align: left;\n",
       "  }\n",
       "</style><div class='table-result-container'><table class='table-result'><thead style='background-color: white'><tr><th>Company</th><th>Product</th><th>Price_euros</th></tr></thead><tbody><tr><td>Dell</td><td>Inspiron 7577</td><td>1499</td></tr><tr><td>Dell</td><td>Inspiron 7773</td><td>999</td></tr><tr><td>Dell</td><td>Inspiron 3567</td><td>639</td></tr><tr><td>Dell</td><td>Inspiron 3576</td><td>767.8</td></tr><tr><td>Dell</td><td>Inspiron 5770</td><td>1299</td></tr><tr><td>Dell</td><td>Vostro 5471</td><td>879</td></tr><tr><td>Dell</td><td>Inspiron 5370</td><td>955</td></tr><tr><td>Dell</td><td>Inspiron 5570</td><td>870</td></tr><tr><td>Dell</td><td>Inspiron 5570</td><td>855</td></tr><tr><td>Dell</td><td>Inspiron 5379</td><td>819</td></tr><tr><td>Dell</td><td>Inspiron 3567</td><td>418.64</td></tr><tr><td>Dell</td><td>Inspiron 5570</td><td>800</td></tr><tr><td>Dell</td><td>Latitude 5590</td><td>1298</td></tr><tr><td>Dell</td><td>XPS 13</td><td>1869</td></tr><tr><td>Dell</td><td>Inspiron 5770</td><td>979</td></tr><tr><td>Dell</td><td>Inspiron 3567</td><td>498.9</td></tr><tr><td>Dell</td><td>Inspiron 3567</td><td>745</td></tr><tr><td>Dell</td><td>XPS 13</td><td>979</td></tr><tr><td>Dell</td><td>Inspiron 3576</td><td>647</td></tr><tr><td>Dell</td><td>XPS 13</td><td>1379</td></tr><tr><td>Dell</td><td>XPS 13</td><td>1629</td></tr><tr><td>Dell</td><td>Inspiron 7570</td><td>1130.33</td></tr><tr><td>Dell</td><td>Inspiron 5770</td><td>1396</td></tr><tr><td>Dell</td><td>Inspiron 5567</td><td>638.99</td></tr><tr><td>Dell</td><td>Inspiron 3567</td><td>449</td></tr></tbody></table></div>"
      ]
     },
     "metadata": {
      "application/vnd.databricks.v1+output": {
       "addedWidgets": {},
       "aggData": [],
       "aggError": "",
       "aggOverflow": false,
       "aggSchema": [],
       "aggSeriesLimitReached": false,
       "aggType": "",
       "arguments": {},
       "columnCustomDisplayInfos": {},
       "data": [
        [
         "Dell",
         "Inspiron 7577",
         "1499"
        ],
        [
         "Dell",
         "Inspiron 7773",
         "999"
        ],
        [
         "Dell",
         "Inspiron 3567",
         "639"
        ],
        [
         "Dell",
         "Inspiron 3576",
         "767.8"
        ],
        [
         "Dell",
         "Inspiron 5770",
         "1299"
        ],
        [
         "Dell",
         "Vostro 5471",
         "879"
        ],
        [
         "Dell",
         "Inspiron 5370",
         "955"
        ],
        [
         "Dell",
         "Inspiron 5570",
         "870"
        ],
        [
         "Dell",
         "Inspiron 5570",
         "855"
        ],
        [
         "Dell",
         "Inspiron 5379",
         "819"
        ],
        [
         "Dell",
         "Inspiron 3567",
         "418.64"
        ],
        [
         "Dell",
         "Inspiron 5570",
         "800"
        ],
        [
         "Dell",
         "Latitude 5590",
         "1298"
        ],
        [
         "Dell",
         "XPS 13",
         "1869"
        ],
        [
         "Dell",
         "Inspiron 5770",
         "979"
        ],
        [
         "Dell",
         "Inspiron 3567",
         "498.9"
        ],
        [
         "Dell",
         "Inspiron 3567",
         "745"
        ],
        [
         "Dell",
         "XPS 13",
         "979"
        ],
        [
         "Dell",
         "Inspiron 3576",
         "647"
        ],
        [
         "Dell",
         "XPS 13",
         "1379"
        ],
        [
         "Dell",
         "XPS 13",
         "1629"
        ],
        [
         "Dell",
         "Inspiron 7570",
         "1130.33"
        ],
        [
         "Dell",
         "Inspiron 5770",
         "1396"
        ],
        [
         "Dell",
         "Inspiron 5567",
         "638.99"
        ],
        [
         "Dell",
         "Inspiron 3567",
         "449"
        ]
       ],
       "datasetInfos": [],
       "dbfsResultPath": null,
       "isJsonSchema": true,
       "metadata": {
        "isDbfsCommandResult": false
       },
       "overflow": false,
       "plotOptions": {
        "customPlotOptions": {},
        "displayType": "table",
        "pivotAggregation": null,
        "pivotColumns": null,
        "xColumns": null,
        "yColumns": null
       },
       "removedWidgets": [],
       "schema": [
        {
         "metadata": "{}",
         "name": "Company",
         "type": "\"string\""
        },
        {
         "metadata": "{}",
         "name": "Product",
         "type": "\"string\""
        },
        {
         "metadata": "{}",
         "name": "Price_euros",
         "type": "\"string\""
        }
       ],
       "type": "table"
      }
     },
     "output_type": "display_data"
    }
   ],
   "source": [
    "\"\"\"\n",
    "upload new file and monitor # of records\n",
    "\"\"\"\n",
    "display(laptob_stream_Dell)"
   ]
  },
  {
   "cell_type": "code",
   "execution_count": null,
   "metadata": {
    "application/vnd.databricks.v1+cell": {
     "cellMetadata": {
      "byteLimit": 2048000,
      "rowLimit": 10000
     },
     "inputWidgets": {},
     "nuid": "b302777d-04d8-41d2-ac2e-126b6cee455c",
     "showTitle": false,
     "title": ""
    }
   },
   "outputs": [
    {
     "name": "stdout",
     "output_type": "stream",
     "text": [
      "Out[67]: True"
     ]
    }
   ],
   "source": [
    "# 2. make a sub directory called \"dest_location\"\n",
    "dbutils.fs.mkdirs(\"dbfs:/FileStore/shared_uploads/streams_dest/dest_location/\")"
   ]
  },
  {
   "cell_type": "code",
   "execution_count": null,
   "metadata": {
    "application/vnd.databricks.v1+cell": {
     "cellMetadata": {
      "byteLimit": 2048000,
      "rowLimit": 10000
     },
     "inputWidgets": {},
     "nuid": "af8a263b-e0fd-4e3f-855c-1f8a5ee65228",
     "showTitle": false,
     "title": ""
    }
   },
   "outputs": [
    {
     "name": "stdout",
     "output_type": "stream",
     "text": [
      "Out[68]: []"
     ]
    }
   ],
   "source": [
    "dbutils.fs.ls(\"dbfs:/FileStore/shared_uploads/streams_dest/dest_location/\")"
   ]
  },
  {
   "cell_type": "code",
   "execution_count": null,
   "metadata": {
    "application/vnd.databricks.v1+cell": {
     "cellMetadata": {
      "byteLimit": 2048000,
      "rowLimit": 10000
     },
     "inputWidgets": {},
     "nuid": "1d3c3013-598f-4bf7-b317-1d6ae7480b8e",
     "showTitle": false,
     "title": ""
    }
   },
   "outputs": [
    {
     "name": "stdout",
     "output_type": "stream",
     "text": [
      "Out[69]: <pyspark.sql.streaming.query.StreamingQuery at 0x7fdb015d3520>"
     ]
    }
   ],
   "source": [
    "# 3. Write filtered data into \"dest_location\"\n",
    "# checkpointLocation: to write data into a dbfs, coz if job fail for any reason the intemediate results already saved\n",
    "laptob_stream_Dell.writeStream\\\n",
    "    .option(\"mergeSchema\", \"True\")\\\n",
    "        .format(\"csv\")\\\n",
    "            .option(\"checkpointLocation\", \"dbfs:/FileStore/shared_uploads/streams_dest/dest_location/checkpoint_1\")\\\n",
    "                .start(\"dbfs:/FileStore/shared_uploads/streams_dest/dest_location/\")"
   ]
  },
  {
   "cell_type": "code",
   "execution_count": null,
   "metadata": {
    "application/vnd.databricks.v1+cell": {
     "cellMetadata": {
      "byteLimit": 2048000,
      "rowLimit": 10000
     },
     "inputWidgets": {},
     "nuid": "10fc8ab8-6111-452e-be68-1062108d7e1a",
     "showTitle": false,
     "title": ""
    }
   },
   "outputs": [
    {
     "name": "stdout",
     "output_type": "stream",
     "text": [
      "Out[80]: [FileInfo(path='dbfs:/FileStore/shared_uploads/streams_dest/dest_location/_spark_metadata/', name='_spark_metadata/', size=0, modificationTime=1693031065000),\n",
      " FileInfo(path='dbfs:/FileStore/shared_uploads/streams_dest/dest_location/checkpoint_1/', name='checkpoint_1/', size=0, modificationTime=1693031065000),\n",
      " FileInfo(path='dbfs:/FileStore/shared_uploads/streams_dest/dest_location/part-00000-23921989-5ea2-4bc6-9a71-13f5a7f6c4ed-c000.csv', name='part-00000-23921989-5ea2-4bc6-9a71-13f5a7f6c4ed-c000.csv', size=73, modificationTime=1693031731000),\n",
      " FileInfo(path='dbfs:/FileStore/shared_uploads/streams_dest/dest_location/part-00000-b393c330-37b2-4169-acf9-0e14c32eca93-c000.csv', name='part-00000-b393c330-37b2-4169-acf9-0e14c32eca93-c000.csv', size=209, modificationTime=1693031068000),\n",
      " FileInfo(path='dbfs:/FileStore/shared_uploads/streams_dest/dest_location/part-00001-0a02731a-2309-42d6-ba9b-5ed98fe03d5b-c000.csv', name='part-00001-0a02731a-2309-42d6-ba9b-5ed98fe03d5b-c000.csv', size=220, modificationTime=1693031068000),\n",
      " FileInfo(path='dbfs:/FileStore/shared_uploads/streams_dest/dest_location/part-00002-c250b4c4-a6d4-489e-8a75-427c5b1c7373-c000.csv', name='part-00002-c250b4c4-a6d4-489e-8a75-427c5b1c7373-c000.csv', size=64, modificationTime=1693031068000)]"
     ]
    }
   ],
   "source": [
    "\"\"\"\n",
    "conclusion: when add new files into the path has fitered data, filtered_data updated &\n",
    "the new stream data will automatically added to \"dest_location\"\n",
    "\"\"\"\n",
    "dbutils.fs.ls(\"dbfs:/FileStore/shared_uploads/streams_dest/dest_location/\")"
   ]
  },
  {
   "cell_type": "code",
   "execution_count": null,
   "metadata": {
    "application/vnd.databricks.v1+cell": {
     "cellMetadata": {},
     "inputWidgets": {},
     "nuid": "1d794237-abf9-4d14-b16f-6f40b7afc13c",
     "showTitle": false,
     "title": ""
    }
   },
   "outputs": [],
   "source": []
  }
 ],
 "metadata": {
  "application/vnd.databricks.v1+notebook": {
   "dashboards": [],
   "language": "python",
   "notebookMetadata": {
    "pythonIndentUnit": 4
   },
   "notebookName": "StreamingData",
   "widgets": {}
  },
  "language_info": {
   "name": "python"
  }
 },
 "nbformat": 4,
 "nbformat_minor": 0
}
