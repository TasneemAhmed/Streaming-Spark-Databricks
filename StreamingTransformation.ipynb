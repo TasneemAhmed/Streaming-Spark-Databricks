{
 "cells": [
  {
   "cell_type": "code",
   "execution_count": 0,
   "metadata": {
    "application/vnd.databricks.v1+cell": {
     "cellMetadata": {},
     "inputWidgets": {},
     "nuid": "f7488c42-8d73-41d6-88c3-cd76e7eb1ad7",
     "showTitle": false,
     "title": ""
    }
   },
   "outputs": [],
   "source": [
    "\"\"\"\n",
    "                    Performing Streaming Transformation on Data    \n",
    "1. Create sub directory called \"car_source_stream\"          \n",
    "2. Upload the first file\n",
    "3. read data as cloudFiles use Auto Loader(check incrememently if has new files & process them)\n",
    "4. make projection(selection), filtering & aggregation\n",
    "\"\"\""
   ]
  },
  {
   "cell_type": "code",
   "execution_count": 0,
   "metadata": {
    "application/vnd.databricks.v1+cell": {
     "cellMetadata": {
      "byteLimit": 2048000,
      "rowLimit": 10000
     },
     "inputWidgets": {},
     "nuid": "4957f9f2-f152-403a-9a1f-839d2637a90f",
     "showTitle": false,
     "title": ""
    }
   },
   "outputs": [
    {
     "output_type": "stream",
     "name": "stdout",
     "output_type": "stream",
     "text": [
      "Out[1]: True"
     ]
    }
   ],
   "source": [
    "# 1. Create sub directory called \"car_source_stream\" \n",
    "dbutils.fs.mkdirs(\"dbfs:/FileStore/shared_uploads/auto_loader_streaming/car_source_stream\")"
   ]
  },
  {
   "cell_type": "code",
   "execution_count": 0,
   "metadata": {
    "application/vnd.databricks.v1+cell": {
     "cellMetadata": {
      "byteLimit": 2048000,
      "rowLimit": 10000
     },
     "inputWidgets": {},
     "nuid": "67ace057-072a-454f-a30f-14cb6c8f0a8f",
     "showTitle": false,
     "title": ""
    }
   },
   "outputs": [
    {
     "output_type": "stream",
     "name": "stdout",
     "output_type": "stream",
     "text": [
      "Out[2]: [FileInfo(path='dbfs:/FileStore/shared_uploads/auto_loader_streaming/car_source_stream/car_ad_01.csv', name='car_ad_01.csv', size=1112, modificationTime=1693036370000)]"
     ]
    }
   ],
   "source": [
    "dbutils.fs.ls(\"dbfs:/FileStore/shared_uploads/auto_loader_streaming/car_source_stream\")"
   ]
  },
  {
   "cell_type": "code",
   "execution_count": 0,
   "metadata": {
    "application/vnd.databricks.v1+cell": {
     "cellMetadata": {
      "byteLimit": 2048000,
      "rowLimit": 10000
     },
     "inputWidgets": {},
     "nuid": "bd432d9d-8fb0-4dad-9038-51142704ff70",
     "showTitle": false,
     "title": ""
    }
   },
   "outputs": [],
   "source": [
    "\"\"\"\n",
    "                                Auto Loader\n",
    "- format(\"cloudFiles\"): Auto loader provides structured streaming source called cloud files\n",
    "when specify, automatically process new file when arrive\n",
    "- schema: specify location to track the schema of files \n",
    "- load: specify dir location which we read data from \n",
    "- schemaHints: without specify it make all columns string but need some columns to be int or float\n",
    "to able to make calculalations\n",
    "\"\"\"\n",
    "car_stream_data = spark.readStream.format(\"cloudFiles\")\\\n",
    "    .option(\"cloudFiles.format\", \"csv\")\\\n",
    "        .option(\"cloudFiles.schemaLocation\", \"dbfs:/FileStore/shared_uploads/auto_loader_streaming/car_source_stream\")\\\n",
    "            .option(\"cloudFiles.schemaHints\", \"price float, mileage int, engV float, year int\")\\\n",
    "                .load(\"dbfs:/FileStore/shared_uploads/auto_loader_streaming/car_source_stream\")"
   ]
  },
  {
   "cell_type": "code",
   "execution_count": 0,
   "metadata": {
    "application/vnd.databricks.v1+cell": {
     "cellMetadata": {
      "byteLimit": 2048000,
      "rowLimit": 10000
     },
     "inputWidgets": {},
     "nuid": "4a67f540-e74e-4ac6-89fd-c1c1cc2597f9",
     "showTitle": false,
     "title": ""
    }
   },
   "outputs": [
    {
     "output_type": "display_data",
     "data": {
      "text/html": [
       "<style scoped>\n",
       "  .table-result-container {\n",
       "    max-height: 300px;\n",
       "    overflow: auto;\n",
       "  }\n",
       "  table, th, td {\n",
       "    border: 1px solid black;\n",
       "    border-collapse: collapse;\n",
       "  }\n",
       "  th, td {\n",
       "    padding: 5px;\n",
       "  }\n",
       "  th {\n",
       "    text-align: left;\n",
       "  }\n",
       "</style><div class='table-result-container'><table class='table-result'><thead style='background-color: white'><tr><th>car</th><th>price</th><th>body</th><th>mileage</th><th>engV</th><th>engType</th><th>registration</th><th>year</th><th>model</th><th>drive</th><th>_rescued_data</th></tr></thead><tbody><tr><td>Ford</td><td>15500.0</td><td>crossover</td><td>68</td><td>2.5</td><td>Gas</td><td>yes</td><td>2010</td><td>Kuga</td><td>full</td><td>null</td></tr><tr><td>Mercedes-Benz</td><td>20500.0</td><td>sedan</td><td>173</td><td>1.8</td><td>Gas</td><td>yes</td><td>2011</td><td>E-Class</td><td>rear</td><td>null</td></tr><tr><td>Mercedes-Benz</td><td>35000.0</td><td>other</td><td>135</td><td>5.5</td><td>Petrol</td><td>yes</td><td>2008</td><td>CL 550</td><td>rear</td><td>null</td></tr><tr><td>Mercedes-Benz</td><td>17800.0</td><td>van</td><td>162</td><td>1.8</td><td>Diesel</td><td>yes</td><td>2012</td><td>B 180</td><td>front</td><td>null</td></tr><tr><td>Nissan</td><td>16600.0</td><td>crossover</td><td>83</td><td>2.0</td><td>Petrol</td><td>yes</td><td>2013</td><td>X-Trail</td><td>full</td><td>null</td></tr><tr><td>Honda</td><td>6500.0</td><td>sedan</td><td>199</td><td>2.0</td><td>Petrol</td><td>yes</td><td>2003</td><td>Accord</td><td>front</td><td>null</td></tr><tr><td>Renault</td><td>10500.0</td><td>vagon</td><td>185</td><td>1.5</td><td>Diesel</td><td>yes</td><td>2011</td><td>Megane</td><td>front</td><td>null</td></tr><tr><td>Mercedes-Benz</td><td>21500.0</td><td>sedan</td><td>146</td><td>1.8</td><td>Gas</td><td>yes</td><td>2012</td><td>E-Class</td><td>rear</td><td>null</td></tr><tr><td>Mercedes-Benz</td><td>22700.0</td><td>sedan</td><td>125</td><td>2.2</td><td>Diesel</td><td>yes</td><td>2010</td><td>E-Class</td><td>rear</td><td>null</td></tr><tr><td>Nissan</td><td>20447.154</td><td>crossover</td><td>0</td><td>1.2</td><td>Petrol</td><td>yes</td><td>2016</td><td>Qashqai</td><td>front</td><td>null</td></tr><tr><td>Mercedes-Benz</td><td>20400.0</td><td>sedan</td><td>190</td><td>1.8</td><td>Gas</td><td>yes</td><td>2011</td><td>E-Class</td><td>rear</td><td>null</td></tr><tr><td>Mercedes-Benz</td><td>22500.0</td><td>sedan</td><td>164</td><td>1.8</td><td>Gas</td><td>yes</td><td>2012</td><td>E-Class</td><td>rear</td><td>null</td></tr><tr><td>BMW</td><td>4700.0</td><td>sedan</td><td>200</td><td>null</td><td>Petrol</td><td>yes</td><td>1996</td><td>316</td><td>rear</td><td>{\"engV\":\"NA\",\"_file_path\":\"dbfs:/FileStore/shared_uploads/auto_loader_streaming/car_source_stream/car_ad_01.csv\"}</td></tr><tr><td>Mercedes-Benz</td><td>21500.0</td><td>sedan</td><td>159</td><td>1.8</td><td>Gas</td><td>yes</td><td>2012</td><td>E-Class</td><td>rear</td><td>null</td></tr><tr><td>BMW</td><td>19999.0</td><td>sedan</td><td>290</td><td>4.8</td><td>Petrol</td><td>yes</td><td>2006</td><td>750</td><td>rear</td><td>null</td></tr><tr><td>BMW</td><td>129222.0</td><td>sedan</td><td>2</td><td>5.0</td><td>Petrol</td><td>yes</td><td>2016</td><td>750</td><td>full</td><td>null</td></tr><tr><td>Mercedes-Benz</td><td>99999.0</td><td>crossover</td><td>0</td><td>3.0</td><td>Petrol</td><td>yes</td><td>2016</td><td>GLE-Class</td><td>full</td><td>null</td></tr><tr><td>Nissan</td><td>16600.0</td><td>crossover</td><td>83</td><td>2.0</td><td>Petrol</td><td>yes</td><td>2013</td><td>X-Trail</td><td>full</td><td>null</td></tr><tr><td>Porsche</td><td>55000.0</td><td>crossover</td><td>105</td><td>3.0</td><td>Diesel</td><td>yes</td><td>2012</td><td>Cayenne</td><td>full</td><td>null</td></tr><tr><td>Kia</td><td>18000.0</td><td>crossover</td><td>64</td><td>2.0</td><td>Diesel</td><td>yes</td><td>2011</td><td>Sportage</td><td>full</td><td>null</td></tr><tr><td>Kia</td><td>21700.0</td><td>crossover</td><td>58</td><td>2.0</td><td>Diesel</td><td>yes</td><td>2012</td><td>Sportage</td><td>full</td><td>null</td></tr><tr><td>Volkswagen</td><td>2400.0</td><td>vagon</td><td>320</td><td>1.9</td><td>Diesel</td><td>no</td><td>2000</td><td>Passat B5</td><td>front</td><td>null</td></tr><tr><td>Volkswagen</td><td>2350.0</td><td>sedan</td><td>300</td><td>1.9</td><td>Diesel</td><td>no</td><td>1998</td><td>Passat B5</td><td>front</td><td>null</td></tr><tr><td>Honda</td><td>18600.0</td><td>vagon</td><td>98</td><td>2.4</td><td>Gas</td><td>yes</td><td>2011</td><td>Accord</td><td>front</td><td>null</td></tr><tr><td>Mercedes-Benz</td><td>104999.0</td><td>crossover</td><td>1</td><td>3.0</td><td>Diesel</td><td>yes</td><td>2016</td><td>GLE-Class</td><td>full</td><td>null</td></tr><tr><td>Toyota</td><td>195000.0</td><td>crossover</td><td>0</td><td>4.5</td><td>Diesel</td><td>yes</td><td>2016</td><td>Land Cruiser 200</td><td>full</td><td>null</td></tr><tr><td>Porsche</td><td>49900.0</td><td>crossover</td><td>73</td><td>3.0</td><td>Diesel</td><td>yes</td><td>2011</td><td>Cayenne</td><td>full</td><td>null</td></tr><tr><td>Porsche</td><td>50900.0</td><td>crossover</td><td>53</td><td>3.6</td><td>Petrol</td><td>yes</td><td>2013</td><td>Cayenne</td><td>full</td><td>null</td></tr><tr><td>Porsche</td><td>99999.0</td><td>crossover</td><td>1</td><td>2.99</td><td>Diesel</td><td>yes</td><td>2016</td><td>Cayenne</td><td>full</td><td>null</td></tr><tr><td>Mercedes-Benz</td><td>0.0</td><td>crossover</td><td>0</td><td>3.0</td><td>Diesel</td><td>yes</td><td>2016</td><td>GLE-Class</td><td>full</td><td>null</td></tr><tr><td>Toyota</td><td>0.0</td><td>crossover</td><td>0</td><td>4.5</td><td>Diesel</td><td>yes</td><td>2016</td><td>Land Cruiser 200</td><td>full</td><td>null</td></tr><tr><td>Toyota</td><td>102999.0</td><td>crossover</td><td>0</td><td>4.5</td><td>Diesel</td><td>yes</td><td>2016</td><td>Land Cruiser 200</td><td>full</td><td>null</td></tr><tr><td>Audi</td><td>35900.0</td><td>crossover</td><td>143</td><td>3.0</td><td>Diesel</td><td>yes</td><td>2010</td><td>Q7</td><td>full</td><td>null</td></tr><tr><td>Honda</td><td>16500.0</td><td>sedan</td><td>147</td><td>2.4</td><td>Petrol</td><td>yes</td><td>2009</td><td>Accord</td><td>front</td><td>null</td></tr><tr><td>Toyota</td><td>103999.0</td><td>crossover</td><td>0</td><td>4.5</td><td>Diesel</td><td>yes</td><td>2016</td><td>Land Cruiser 200</td><td>full</td><td>null</td></tr><tr><td>Porsche</td><td>114900.0</td><td>crossover</td><td>25</td><td>4.8</td><td>Petrol</td><td>yes</td><td>2013</td><td>Cayenne</td><td>full</td><td>null</td></tr><tr><td>Porsche</td><td>26500.0</td><td>crossover</td><td>160</td><td>4.8</td><td>Petrol</td><td>yes</td><td>2008</td><td>Cayenne</td><td>full</td><td>null</td></tr><tr><td>Mitsubishi</td><td>12999.0</td><td>crossover</td><td>140</td><td>2.4</td><td>Gas</td><td>yes</td><td>2007</td><td>Outlander XL</td><td>full</td><td>null</td></tr><tr><td>Audi</td><td>37000.0</td><td>sedan</td><td>37</td><td>2.8</td><td>Petrol</td><td>yes</td><td>2012</td><td>A6</td><td>full</td><td>null</td></tr><tr><td>Mercedes-Benz</td><td>200000.0</td><td>van</td><td>19</td><td>3.5</td><td>Petrol</td><td>yes</td><td>2013</td><td>Sprinter 324 пасс.</td><td>rear</td><td>null</td></tr><tr><td>Audi</td><td>3850.0</td><td>vagon</td><td>215</td><td>2.5</td><td>Diesel</td><td>no</td><td>2002</td><td>A6</td><td>front</td><td>null</td></tr><tr><td>Nissan</td><td>13275.0</td><td>hatch</td><td>12</td><td>null</td><td>Other</td><td>yes</td><td>2013</td><td>Leaf</td><td>front</td><td>{\"engV\":\"NA\",\"_file_path\":\"dbfs:/FileStore/shared_uploads/auto_loader_streaming/car_source_stream/car_ad_03.csv\"}</td></tr><tr><td>Mercedes-Benz</td><td>20400.0</td><td>sedan</td><td>190</td><td>1.8</td><td>Gas</td><td>yes</td><td>2011</td><td>E-Class</td><td>rear</td><td>null</td></tr><tr><td>BMW</td><td>1900.0</td><td>sedan</td><td>300</td><td>2.5</td><td>Diesel</td><td>no</td><td>1997</td><td>5 Series</td><td>rear</td><td>null</td></tr><tr><td>BMW</td><td>39333.0</td><td>sedan</td><td>6</td><td>2.0</td><td>Petrol</td><td>yes</td><td>2016</td><td>520</td><td>null</td><td>null</td></tr><tr><td>Mercedes-Benz</td><td>99999.0</td><td>crossover</td><td>0</td><td>2.99</td><td>Diesel</td><td>yes</td><td>2016</td><td>GLE-Class</td><td>full</td><td>null</td></tr><tr><td>Mercedes-Benz</td><td>70999.0</td><td>crossover</td><td>0</td><td>2.2</td><td>Diesel</td><td>yes</td><td>2016</td><td>GLE-Class</td><td>full</td><td>null</td></tr><tr><td>BMW</td><td>63500.0</td><td>crossover</td><td>1</td><td>2.0</td><td>Diesel</td><td>yes</td><td>2016</td><td>X5</td><td>full</td><td>null</td></tr><tr><td>BMW</td><td>59900.0</td><td>crossover</td><td>30</td><td>2.0</td><td>Diesel</td><td>yes</td><td>2016</td><td>X5</td><td>full</td><td>null</td></tr><tr><td>Mitsubishi</td><td>9200.0</td><td>crossover</td><td>110</td><td>2.4</td><td>Petrol</td><td>yes</td><td>2006</td><td>Outlander</td><td>full</td><td>null</td></tr><tr><td>Nissan</td><td>20241.896</td><td>crossover</td><td>0</td><td>1.6</td><td>Petrol</td><td>yes</td><td>2015</td><td>Juke</td><td>front</td><td>null</td></tr><tr><td>Mercedes-Benz</td><td>14490.0</td><td>vagon</td><td>212</td><td>2.2</td><td>Diesel</td><td>yes</td><td>2008</td><td>E-Class</td><td>rear</td><td>null</td></tr><tr><td>Mercedes-Benz</td><td>31500.0</td><td>sedan</td><td>123</td><td>2.2</td><td>Diesel</td><td>yes</td><td>2011</td><td>E-Class</td><td>null</td><td>null</td></tr><tr><td>Mercedes-Benz</td><td>0.0</td><td>crossover</td><td>0</td><td>3.0</td><td>Diesel</td><td>yes</td><td>2016</td><td>GLE-Class</td><td>full</td><td>null</td></tr><tr><td>Volkswagen</td><td>8999.0</td><td>sedan</td><td>120</td><td>1.9</td><td>Diesel</td><td>yes</td><td>2007</td><td>Passat B6</td><td>front</td><td>null</td></tr><tr><td>Audi</td><td>3650.0</td><td>sedan</td><td>240</td><td>2.5</td><td>Diesel</td><td>no</td><td>2000</td><td>A6</td><td>front</td><td>null</td></tr><tr><td>Nissan</td><td>17000.0</td><td>hatch</td><td>38</td><td>null</td><td>Other</td><td>yes</td><td>2013</td><td>Leaf</td><td>front</td><td>{\"engV\":\"NA\",\"_file_path\":\"dbfs:/FileStore/shared_uploads/auto_loader_streaming/car_source_stream/car_ad_03.csv\"}</td></tr><tr><td>Mitsubishi</td><td>12000.0</td><td>sedan</td><td>121</td><td>2.4</td><td>Gas</td><td>yes</td><td>2009</td><td>Galant</td><td>front</td><td>null</td></tr><tr><td>Kia</td><td>20633.887</td><td>crossover</td><td>0</td><td>1.7</td><td>Diesel</td><td>yes</td><td>2016</td><td>Sportage</td><td>front</td><td>null</td></tr><tr><td>BMW</td><td>73900.0</td><td>sedan</td><td>57</td><td>4.4</td><td>Petrol</td><td>yes</td><td>2013</td><td>M5</td><td>rear</td><td>null</td></tr><tr><td>Land Rover</td><td>0.0</td><td>crossover</td><td>0</td><td>4.4</td><td>Diesel</td><td>yes</td><td>2016</td><td>Range Rover</td><td>full</td><td>null</td></tr><tr><td>Nissan</td><td>26033.553</td><td>crossover</td><td>0</td><td>1.6</td><td>Diesel</td><td>yes</td><td>2016</td><td>X-Trail</td><td>full</td><td>null</td></tr><tr><td>BMW</td><td>104999.0</td><td>crossover</td><td>2</td><td>3.0</td><td>Diesel</td><td>yes</td><td>2016</td><td>X5</td><td>full</td><td>null</td></tr><tr><td>BMW</td><td>66500.0</td><td>crossover</td><td>1</td><td>2.0</td><td>Diesel</td><td>yes</td><td>2016</td><td>X5</td><td>full</td><td>null</td></tr><tr><td>BMW</td><td>65099.0</td><td>crossover</td><td>0</td><td>2.0</td><td>Diesel</td><td>yes</td><td>2016</td><td>X5</td><td>full</td><td>null</td></tr><tr><td>BMW</td><td>23900.0</td><td>crossover</td><td>235</td><td>3.0</td><td>Diesel</td><td>yes</td><td>2007</td><td>X5</td><td>full</td><td>null</td></tr><tr><td>Mercedes-Benz</td><td>69999.0</td><td>crossover</td><td>0</td><td>2.2</td><td>Diesel</td><td>yes</td><td>2016</td><td>GLE-Class</td><td>full</td><td>null</td></tr><tr><td>BMW</td><td>66200.0</td><td>crossover</td><td>70</td><td>3.0</td><td>Diesel</td><td>yes</td><td>2014</td><td>X5</td><td>full</td><td>null</td></tr><tr><td>BMW</td><td>63000.0</td><td>crossover</td><td>0</td><td>2.0</td><td>Diesel</td><td>yes</td><td>2015</td><td>X5</td><td>full</td><td>null</td></tr><tr><td>Mercedes-Benz</td><td>105999.0</td><td>crossover</td><td>0</td><td>2.98</td><td>Diesel</td><td>yes</td><td>2016</td><td>GLE-Class</td><td>full</td><td>null</td></tr><tr><td>Nissan</td><td>13980.0</td><td>hatch</td><td>31</td><td>null</td><td>Other</td><td>yes</td><td>2013</td><td>Leaf</td><td>front</td><td>{\"engV\":\"NA\",\"_file_path\":\"dbfs:/FileStore/shared_uploads/auto_loader_streaming/car_source_stream/car_ad_02.csv\"}</td></tr><tr><td>Nissan</td><td>17300.0</td><td>hatch</td><td>24</td><td>null</td><td>Other</td><td>yes</td><td>2013</td><td>Leaf</td><td>front</td><td>{\"engV\":\"NA\",\"_file_path\":\"dbfs:/FileStore/shared_uploads/auto_loader_streaming/car_source_stream/car_ad_02.csv\"}</td></tr><tr><td>Volkswagen</td><td>10700.0</td><td>sedan</td><td>147</td><td>2.0</td><td>Petrol</td><td>yes</td><td>2007</td><td>Passat B6</td><td>front</td><td>null</td></tr><tr><td>Audi</td><td>2600.0</td><td>vagon</td><td>273</td><td>2.5</td><td>Diesel</td><td>no</td><td>1999</td><td>A6</td><td>front</td><td>null</td></tr><tr><td>Chrysler</td><td>13700.0</td><td>sedan</td><td>70</td><td>2.4</td><td>Petrol</td><td>yes</td><td>2008</td><td>Sebring</td><td>front</td><td>null</td></tr><tr><td>Volkswagen</td><td>8999.0</td><td>sedan</td><td>120</td><td>2.0</td><td>Petrol</td><td>yes</td><td>2008</td><td>Passat B6</td><td>front</td><td>null</td></tr><tr><td>Jaguar</td><td>18777.0</td><td>sedan</td><td>82</td><td>3.0</td><td>Petrol</td><td>yes</td><td>2008</td><td>XF</td><td>rear</td><td>null</td></tr><tr><td>Audi</td><td>2850.0</td><td>sedan</td><td>260</td><td>null</td><td>Other</td><td>no</td><td>1999</td><td>A6</td><td>null</td><td>{\"engV\":\"NA\",\"_file_path\":\"dbfs:/FileStore/shared_uploads/auto_loader_streaming/car_source_stream/car_ad_02.csv\"}</td></tr><tr><td>Honda</td><td>30000.0</td><td>sedan</td><td>52</td><td>3.5</td><td>Gas</td><td>yes</td><td>2014</td><td>Accord</td><td>front</td><td>null</td></tr><tr><td>Porsche</td><td>26900.0</td><td>crossover</td><td>135</td><td>4.8</td><td>Petrol</td><td>yes</td><td>2008</td><td>Cayenne</td><td>full</td><td>null</td></tr><tr><td>Toyota</td><td>80000.0</td><td>crossover</td><td>23</td><td>4.5</td><td>Diesel</td><td>yes</td><td>2014</td><td>Land Cruiser 200</td><td>full</td><td>null</td></tr><tr><td>BMW</td><td>8500.0</td><td>sedan</td><td>260</td><td>2.2</td><td>Gas</td><td>yes</td><td>2001</td><td>520</td><td>rear</td><td>null</td></tr><tr><td>Mercedes-Benz</td><td>7000.0</td><td>van</td><td>197</td><td>2.2</td><td>Diesel</td><td>yes</td><td>2002</td><td>Vito пасс.</td><td>front</td><td>null</td></tr><tr><td>Audi</td><td>36000.0</td><td>crossover</td><td>145</td><td>3.0</td><td>Petrol</td><td>yes</td><td>2010</td><td>Q7</td><td>full</td><td>null</td></tr><tr><td>Mercedes-Benz</td><td>9500.0</td><td>van</td><td>280</td><td>2.2</td><td>Diesel</td><td>yes</td><td>2005</td><td>Vito пасс.</td><td>rear</td><td>null</td></tr><tr><td>Toyota</td><td>103999.0</td><td>crossover</td><td>0</td><td>4.5</td><td>Diesel</td><td>yes</td><td>2016</td><td>Land Cruiser 200</td><td>full</td><td>null</td></tr><tr><td>Toyota</td><td>100000.0</td><td>crossover</td><td>0</td><td>4.5</td><td>Diesel</td><td>yes</td><td>2016</td><td>Land Cruiser 200</td><td>full</td><td>null</td></tr><tr><td>Mercedes-Benz</td><td>16500.0</td><td>other</td><td>107</td><td>2.2</td><td>Diesel</td><td>yes</td><td>2010</td><td>Vito пасс.</td><td>front</td><td>null</td></tr><tr><td>Toyota</td><td>15500.0</td><td>sedan</td><td>120</td><td>3.5</td><td>Petrol</td><td>yes</td><td>2008</td><td>Camry</td><td>front</td><td>null</td></tr><tr><td>Porsche</td><td>0.0</td><td>sedan</td><td>22</td><td>4.8</td><td>Petrol</td><td>yes</td><td>2014</td><td>Panamera</td><td>full</td><td>null</td></tr><tr><td>Mercedes-Benz</td><td>10999.0</td><td>van</td><td>191</td><td>2.2</td><td>Diesel</td><td>yes</td><td>2007</td><td>Vito пасс.</td><td>rear</td><td>null</td></tr><tr><td>Audi</td><td>0.0</td><td>crossover</td><td>0</td><td>3.0</td><td>Diesel</td><td>yes</td><td>2015</td><td>Q7</td><td>full</td><td>null</td></tr><tr><td>Audi</td><td>88888.0</td><td>crossover</td><td>0</td><td>3.0</td><td>Diesel</td><td>yes</td><td>2015</td><td>Q7</td><td>full</td><td>null</td></tr><tr><td>Toyota</td><td>0.0</td><td>crossover</td><td>49</td><td>4.5</td><td>Diesel</td><td>yes</td><td>2014</td><td>Land Cruiser 200</td><td>full</td><td>null</td></tr><tr><td>Mercedes-Benz</td><td>16500.0</td><td>van</td><td>223</td><td>2.2</td><td>Diesel</td><td>yes</td><td>2009</td><td>Vito пасс.</td><td>rear</td><td>null</td></tr><tr><td>Volkswagen</td><td>17900.0</td><td>crossover</td><td>145</td><td>3.0</td><td>Diesel</td><td>yes</td><td>2007</td><td>Touareg</td><td>full</td><td>null</td></tr><tr><td>Volkswagen</td><td>0.0</td><td>van</td><td>165</td><td>2.0</td><td>Diesel</td><td>yes</td><td>2013</td><td>T5 (Transporter) груз</td><td>front</td><td>null</td></tr><tr><td>Mercedes-Benz</td><td>20400.0</td><td>sedan</td><td>190</td><td>1.8</td><td>Gas</td><td>yes</td><td>2011</td><td>E-Class</td><td>rear</td><td>null</td></tr><tr><td>Volkswagen</td><td>20000.0</td><td>crossover</td><td>115</td><td>2.5</td><td>Diesel</td><td>yes</td><td>2008</td><td>Touareg</td><td>full</td><td>null</td></tr><tr><td>BMW</td><td>21000.0</td><td>sedan</td><td>186</td><td>3.0</td><td>Petrol</td><td>yes</td><td>2007</td><td>530</td><td>rear</td><td>null</td></tr><tr><td>Hyundai</td><td>11800.0</td><td>sedan</td><td>65</td><td>1.4</td><td>Petrol</td><td>yes</td><td>2013</td><td>Accent</td><td>front</td><td>null</td></tr><tr><td>Mercedes-Benz</td><td>0.0</td><td>van</td><td>450</td><td>2.2</td><td>Diesel</td><td>yes</td><td>2000</td><td>Vito пасс.</td><td>front</td><td>null</td></tr><tr><td>Volkswagen</td><td>10000.0</td><td>van</td><td>231</td><td>1.9</td><td>Diesel</td><td>yes</td><td>2005</td><td>T5 (Transporter) пасс.</td><td>null</td><td>null</td></tr><tr><td>Volkswagen</td><td>37990.0</td><td>crossover</td><td>140</td><td>3.0</td><td>Diesel</td><td>yes</td><td>2012</td><td>Touareg</td><td>full</td><td>null</td></tr><tr><td>Porsche</td><td>0.0</td><td>crossover</td><td>0</td><td>3.0</td><td>Diesel</td><td>yes</td><td>2016</td><td>Cayenne</td><td>full</td><td>null</td></tr><tr><td>BMW</td><td>3900.0</td><td>vagon</td><td>240</td><td>3.0</td><td>Diesel</td><td>no</td><td>2001</td><td>530</td><td>rear</td><td>null</td></tr><tr><td>Volkswagen</td><td>33500.0</td><td>crossover</td><td>98</td><td>null</td><td>Petrol</td><td>yes</td><td>2013</td><td>Touareg</td><td>full</td><td>{\"engV\":\"NA\",\"_file_path\":\"dbfs:/FileStore/shared_uploads/auto_loader_streaming/car_source_stream/car_ad_06.csv\"}</td></tr><tr><td>Hyundai</td><td>9700.0</td><td>sedan</td><td>54</td><td>1.4</td><td>Petrol</td><td>yes</td><td>2013</td><td>Accent</td><td>front</td><td>null</td></tr><tr><td>Nissan</td><td>12400.0</td><td>hatch</td><td>26</td><td>null</td><td>Other</td><td>yes</td><td>2011</td><td>Leaf</td><td>null</td><td>{\"engV\":\"NA\",\"_file_path\":\"dbfs:/FileStore/shared_uploads/auto_loader_streaming/car_source_stream/car_ad_06.csv\"}</td></tr><tr><td>Mercedes-Benz</td><td>6200.0</td><td>sedan</td><td>221</td><td>1.8</td><td>Gas</td><td>yes</td><td>2004</td><td>E-Class</td><td>rear</td><td>null</td></tr><tr><td>Renault</td><td>10500.0</td><td>vagon</td><td>185</td><td>1.5</td><td>Diesel</td><td>yes</td><td>2011</td><td>Megane</td><td>front</td><td>null</td></tr><tr><td>Hyundai</td><td>6900.0</td><td>crossover</td><td>105</td><td>1.6</td><td>Petrol</td><td>yes</td><td>2009</td><td>Accent</td><td>front</td><td>null</td></tr><tr><td>Mercedes-Benz</td><td>20300.0</td><td>sedan</td><td>198</td><td>1.8</td><td>Gas</td><td>yes</td><td>2011</td><td>E-Class</td><td>rear</td><td>null</td></tr><tr><td>Audi</td><td>18500.0</td><td>crossover</td><td>185</td><td>3.6</td><td>Petrol</td><td>yes</td><td>2008</td><td>Q7</td><td>full</td><td>null</td></tr><tr><td>Toyota</td><td>73900.0</td><td>crossover</td><td>1</td><td>4.5</td><td>Diesel</td><td>yes</td><td>2016</td><td>Land Cruiser 200</td><td>full</td><td>null</td></tr><tr><td>Toyota</td><td>30500.0</td><td>crossover</td><td>40</td><td>2.7</td><td>Petrol</td><td>yes</td><td>2011</td><td>Land Cruiser Prado</td><td>full</td><td>null</td></tr><tr><td>Toyota</td><td>30800.0</td><td>crossover</td><td>56</td><td>2.7</td><td>Gas</td><td>yes</td><td>2011</td><td>Land Cruiser Prado</td><td>full</td><td>null</td></tr><tr><td>Toyota</td><td>25500.0</td><td>crossover</td><td>200</td><td>4.0</td><td>Petrol</td><td>yes</td><td>2007</td><td>Land Cruiser Prado</td><td>full</td><td>null</td></tr><tr><td>Mercedes-Benz</td><td>29500.0</td><td>sedan</td><td>37</td><td>1.8</td><td>Petrol</td><td>yes</td><td>2012</td><td>E-Class</td><td>null</td><td>null</td></tr><tr><td>Opel</td><td>3550.0</td><td>vagon</td><td>231</td><td>2.0</td><td>Diesel</td><td>no</td><td>2005</td><td>Vectra C</td><td>front</td><td>null</td></tr><tr><td>Volkswagen</td><td>0.0</td><td>van</td><td>162</td><td>2.0</td><td>Diesel</td><td>yes</td><td>2011</td><td>T5 (Transporter) груз</td><td>front</td><td>null</td></tr><tr><td>Toyota</td><td>99999.0</td><td>crossover</td><td>0</td><td>4.5</td><td>Petrol</td><td>yes</td><td>2016</td><td>Land Cruiser 200</td><td>full</td><td>null</td></tr><tr><td>Mercedes-Benz</td><td>107999.0</td><td>crossover</td><td>0</td><td>2.98</td><td>Diesel</td><td>yes</td><td>2016</td><td>GLS 350</td><td>full</td><td>null</td></tr><tr><td>BMW</td><td>0.0</td><td>crossover</td><td>1</td><td>3.0</td><td>Diesel</td><td>yes</td><td>2014</td><td>X6</td><td>full</td><td>null</td></tr><tr><td>BMW</td><td>0.0</td><td>crossover</td><td>0</td><td>3.0</td><td>Diesel</td><td>yes</td><td>2015</td><td>X6</td><td>full</td><td>null</td></tr><tr><td>Toyota</td><td>74999.0</td><td>crossover</td><td>1</td><td>4.5</td><td>Diesel</td><td>yes</td><td>2016</td><td>Land Cruiser 200</td><td>full</td><td>null</td></tr><tr><td>Audi</td><td>34000.0</td><td>crossover</td><td>118</td><td>2.0</td><td>Diesel</td><td>yes</td><td>2013</td><td>Q5</td><td>full</td><td>null</td></tr><tr><td>BMW</td><td>2850.0</td><td>sedan</td><td>214</td><td>1.9</td><td>Petrol</td><td>no</td><td>2000</td><td>318</td><td>rear</td><td>null</td></tr><tr><td>Volkswagen</td><td>3250.0</td><td>sedan</td><td>255</td><td>1.9</td><td>Diesel</td><td>no</td><td>2003</td><td>Passat B5</td><td>front</td><td>null</td></tr><tr><td>Volkswagen</td><td>16900.0</td><td>crossover</td><td>133</td><td>2.5</td><td>Diesel</td><td>yes</td><td>2007</td><td>Touareg</td><td>full</td><td>null</td></tr><tr><td>Toyota</td><td>99999.0</td><td>crossover</td><td>0</td><td>4.5</td><td>Diesel</td><td>yes</td><td>2016</td><td>Land Cruiser 200</td><td>full</td><td>null</td></tr><tr><td>Chevrolet</td><td>6800.0</td><td>sedan</td><td>106</td><td>1.6</td><td>Petrol</td><td>yes</td><td>2007</td><td>Lacetti</td><td>front</td><td>null</td></tr><tr><td>Toyota</td><td>23400.0</td><td>crossover</td><td>120</td><td>4.0</td><td>Petrol</td><td>yes</td><td>2007</td><td>Land Cruiser Prado</td><td>full</td><td>null</td></tr><tr><td>Skoda</td><td>17900.0</td><td>sedan</td><td>65</td><td>1.8</td><td>Petrol</td><td>yes</td><td>2013</td><td>Superb</td><td>front</td><td>null</td></tr><tr><td>Toyota</td><td>37700.0</td><td>crossover</td><td>62</td><td>3.0</td><td>Diesel</td><td>yes</td><td>2013</td><td>Land Cruiser Prado</td><td>full</td><td>null</td></tr><tr><td>Land Rover</td><td>29500.0</td><td>crossover</td><td>50</td><td>3.5</td><td>Diesel</td><td>yes</td><td>2008</td><td>Range Rover Sport</td><td>full</td><td>null</td></tr><tr><td>Mercedes-Benz</td><td>93555.0</td><td>crossover</td><td>0</td><td>null</td><td>Other</td><td>yes</td><td>2016</td><td>GLS 350</td><td>null</td><td>{\"engV\":\"NA\",\"_file_path\":\"dbfs:/FileStore/shared_uploads/auto_loader_streaming/car_source_stream/car_ad_07.csv\"}</td></tr><tr><td>Volkswagen</td><td>30000.0</td><td>sedan</td><td>67</td><td>2.0</td><td>Diesel</td><td>yes</td><td>2013</td><td>Passat B7</td><td>front</td><td>null</td></tr></tbody></table></div>"
      ]
     },
     "metadata": {
      "application/vnd.databricks.v1+output": {
       "addedWidgets": {},
       "aggData": [],
       "aggError": "",
       "aggOverflow": false,
       "aggSchema": [],
       "aggSeriesLimitReached": false,
       "aggType": "",
       "arguments": {},
       "columnCustomDisplayInfos": {},
       "data": [
        [
         "Ford",
         15500.0,
         "crossover",
         68,
         2.5,
         "Gas",
         "yes",
         2010,
         "Kuga",
         "full",
         null
        ],
        [
         "Mercedes-Benz",
         20500.0,
         "sedan",
         173,
         1.8,
         "Gas",
         "yes",
         2011,
         "E-Class",
         "rear",
         null
        ],
        [
         "Mercedes-Benz",
         35000.0,
         "other",
         135,
         5.5,
         "Petrol",
         "yes",
         2008,
         "CL 550",
         "rear",
         null
        ],
        [
         "Mercedes-Benz",
         17800.0,
         "van",
         162,
         1.8,
         "Diesel",
         "yes",
         2012,
         "B 180",
         "front",
         null
        ],
        [
         "Nissan",
         16600.0,
         "crossover",
         83,
         2.0,
         "Petrol",
         "yes",
         2013,
         "X-Trail",
         "full",
         null
        ],
        [
         "Honda",
         6500.0,
         "sedan",
         199,
         2.0,
         "Petrol",
         "yes",
         2003,
         "Accord",
         "front",
         null
        ],
        [
         "Renault",
         10500.0,
         "vagon",
         185,
         1.5,
         "Diesel",
         "yes",
         2011,
         "Megane",
         "front",
         null
        ],
        [
         "Mercedes-Benz",
         21500.0,
         "sedan",
         146,
         1.8,
         "Gas",
         "yes",
         2012,
         "E-Class",
         "rear",
         null
        ],
        [
         "Mercedes-Benz",
         22700.0,
         "sedan",
         125,
         2.2,
         "Diesel",
         "yes",
         2010,
         "E-Class",
         "rear",
         null
        ],
        [
         "Nissan",
         20447.154,
         "crossover",
         0,
         1.2,
         "Petrol",
         "yes",
         2016,
         "Qashqai",
         "front",
         null
        ],
        [
         "Mercedes-Benz",
         20400.0,
         "sedan",
         190,
         1.8,
         "Gas",
         "yes",
         2011,
         "E-Class",
         "rear",
         null
        ],
        [
         "Mercedes-Benz",
         22500.0,
         "sedan",
         164,
         1.8,
         "Gas",
         "yes",
         2012,
         "E-Class",
         "rear",
         null
        ],
        [
         "BMW",
         4700.0,
         "sedan",
         200,
         null,
         "Petrol",
         "yes",
         1996,
         "316",
         "rear",
         "{\"engV\":\"NA\",\"_file_path\":\"dbfs:/FileStore/shared_uploads/auto_loader_streaming/car_source_stream/car_ad_01.csv\"}"
        ],
        [
         "Mercedes-Benz",
         21500.0,
         "sedan",
         159,
         1.8,
         "Gas",
         "yes",
         2012,
         "E-Class",
         "rear",
         null
        ],
        [
         "BMW",
         19999.0,
         "sedan",
         290,
         4.8,
         "Petrol",
         "yes",
         2006,
         "750",
         "rear",
         null
        ],
        [
         "BMW",
         129222.0,
         "sedan",
         2,
         5.0,
         "Petrol",
         "yes",
         2016,
         "750",
         "full",
         null
        ],
        [
         "Mercedes-Benz",
         99999.0,
         "crossover",
         0,
         3.0,
         "Petrol",
         "yes",
         2016,
         "GLE-Class",
         "full",
         null
        ],
        [
         "Nissan",
         16600.0,
         "crossover",
         83,
         2.0,
         "Petrol",
         "yes",
         2013,
         "X-Trail",
         "full",
         null
        ],
        [
         "Porsche",
         55000.0,
         "crossover",
         105,
         3.0,
         "Diesel",
         "yes",
         2012,
         "Cayenne",
         "full",
         null
        ],
        [
         "Kia",
         18000.0,
         "crossover",
         64,
         2.0,
         "Diesel",
         "yes",
         2011,
         "Sportage",
         "full",
         null
        ],
        [
         "Kia",
         21700.0,
         "crossover",
         58,
         2.0,
         "Diesel",
         "yes",
         2012,
         "Sportage",
         "full",
         null
        ],
        [
         "Volkswagen",
         2400.0,
         "vagon",
         320,
         1.9,
         "Diesel",
         "no",
         2000,
         "Passat B5",
         "front",
         null
        ],
        [
         "Volkswagen",
         2350.0,
         "sedan",
         300,
         1.9,
         "Diesel",
         "no",
         1998,
         "Passat B5",
         "front",
         null
        ],
        [
         "Honda",
         18600.0,
         "vagon",
         98,
         2.4,
         "Gas",
         "yes",
         2011,
         "Accord",
         "front",
         null
        ],
        [
         "Mercedes-Benz",
         104999.0,
         "crossover",
         1,
         3.0,
         "Diesel",
         "yes",
         2016,
         "GLE-Class",
         "full",
         null
        ],
        [
         "Toyota",
         195000.0,
         "crossover",
         0,
         4.5,
         "Diesel",
         "yes",
         2016,
         "Land Cruiser 200",
         "full",
         null
        ],
        [
         "Porsche",
         49900.0,
         "crossover",
         73,
         3.0,
         "Diesel",
         "yes",
         2011,
         "Cayenne",
         "full",
         null
        ],
        [
         "Porsche",
         50900.0,
         "crossover",
         53,
         3.6,
         "Petrol",
         "yes",
         2013,
         "Cayenne",
         "full",
         null
        ],
        [
         "Porsche",
         99999.0,
         "crossover",
         1,
         2.99,
         "Diesel",
         "yes",
         2016,
         "Cayenne",
         "full",
         null
        ],
        [
         "Mercedes-Benz",
         0.0,
         "crossover",
         0,
         3.0,
         "Diesel",
         "yes",
         2016,
         "GLE-Class",
         "full",
         null
        ],
        [
         "Toyota",
         0.0,
         "crossover",
         0,
         4.5,
         "Diesel",
         "yes",
         2016,
         "Land Cruiser 200",
         "full",
         null
        ],
        [
         "Toyota",
         102999.0,
         "crossover",
         0,
         4.5,
         "Diesel",
         "yes",
         2016,
         "Land Cruiser 200",
         "full",
         null
        ],
        [
         "Audi",
         35900.0,
         "crossover",
         143,
         3.0,
         "Diesel",
         "yes",
         2010,
         "Q7",
         "full",
         null
        ],
        [
         "Honda",
         16500.0,
         "sedan",
         147,
         2.4,
         "Petrol",
         "yes",
         2009,
         "Accord",
         "front",
         null
        ],
        [
         "Toyota",
         103999.0,
         "crossover",
         0,
         4.5,
         "Diesel",
         "yes",
         2016,
         "Land Cruiser 200",
         "full",
         null
        ],
        [
         "Porsche",
         114900.0,
         "crossover",
         25,
         4.8,
         "Petrol",
         "yes",
         2013,
         "Cayenne",
         "full",
         null
        ],
        [
         "Porsche",
         26500.0,
         "crossover",
         160,
         4.8,
         "Petrol",
         "yes",
         2008,
         "Cayenne",
         "full",
         null
        ],
        [
         "Mitsubishi",
         12999.0,
         "crossover",
         140,
         2.4,
         "Gas",
         "yes",
         2007,
         "Outlander XL",
         "full",
         null
        ],
        [
         "Audi",
         37000.0,
         "sedan",
         37,
         2.8,
         "Petrol",
         "yes",
         2012,
         "A6",
         "full",
         null
        ],
        [
         "Mercedes-Benz",
         200000.0,
         "van",
         19,
         3.5,
         "Petrol",
         "yes",
         2013,
         "Sprinter 324 пасс.",
         "rear",
         null
        ],
        [
         "Audi",
         3850.0,
         "vagon",
         215,
         2.5,
         "Diesel",
         "no",
         2002,
         "A6",
         "front",
         null
        ],
        [
         "Nissan",
         13275.0,
         "hatch",
         12,
         null,
         "Other",
         "yes",
         2013,
         "Leaf",
         "front",
         "{\"engV\":\"NA\",\"_file_path\":\"dbfs:/FileStore/shared_uploads/auto_loader_streaming/car_source_stream/car_ad_03.csv\"}"
        ],
        [
         "Mercedes-Benz",
         20400.0,
         "sedan",
         190,
         1.8,
         "Gas",
         "yes",
         2011,
         "E-Class",
         "rear",
         null
        ],
        [
         "BMW",
         1900.0,
         "sedan",
         300,
         2.5,
         "Diesel",
         "no",
         1997,
         "5 Series",
         "rear",
         null
        ],
        [
         "BMW",
         39333.0,
         "sedan",
         6,
         2.0,
         "Petrol",
         "yes",
         2016,
         "520",
         null,
         null
        ],
        [
         "Mercedes-Benz",
         99999.0,
         "crossover",
         0,
         2.99,
         "Diesel",
         "yes",
         2016,
         "GLE-Class",
         "full",
         null
        ],
        [
         "Mercedes-Benz",
         70999.0,
         "crossover",
         0,
         2.2,
         "Diesel",
         "yes",
         2016,
         "GLE-Class",
         "full",
         null
        ],
        [
         "BMW",
         63500.0,
         "crossover",
         1,
         2.0,
         "Diesel",
         "yes",
         2016,
         "X5",
         "full",
         null
        ],
        [
         "BMW",
         59900.0,
         "crossover",
         30,
         2.0,
         "Diesel",
         "yes",
         2016,
         "X5",
         "full",
         null
        ],
        [
         "Mitsubishi",
         9200.0,
         "crossover",
         110,
         2.4,
         "Petrol",
         "yes",
         2006,
         "Outlander",
         "full",
         null
        ],
        [
         "Nissan",
         20241.896,
         "crossover",
         0,
         1.6,
         "Petrol",
         "yes",
         2015,
         "Juke",
         "front",
         null
        ],
        [
         "Mercedes-Benz",
         14490.0,
         "vagon",
         212,
         2.2,
         "Diesel",
         "yes",
         2008,
         "E-Class",
         "rear",
         null
        ],
        [
         "Mercedes-Benz",
         31500.0,
         "sedan",
         123,
         2.2,
         "Diesel",
         "yes",
         2011,
         "E-Class",
         null,
         null
        ],
        [
         "Mercedes-Benz",
         0.0,
         "crossover",
         0,
         3.0,
         "Diesel",
         "yes",
         2016,
         "GLE-Class",
         "full",
         null
        ],
        [
         "Volkswagen",
         8999.0,
         "sedan",
         120,
         1.9,
         "Diesel",
         "yes",
         2007,
         "Passat B6",
         "front",
         null
        ],
        [
         "Audi",
         3650.0,
         "sedan",
         240,
         2.5,
         "Diesel",
         "no",
         2000,
         "A6",
         "front",
         null
        ],
        [
         "Nissan",
         17000.0,
         "hatch",
         38,
         null,
         "Other",
         "yes",
         2013,
         "Leaf",
         "front",
         "{\"engV\":\"NA\",\"_file_path\":\"dbfs:/FileStore/shared_uploads/auto_loader_streaming/car_source_stream/car_ad_03.csv\"}"
        ],
        [
         "Mitsubishi",
         12000.0,
         "sedan",
         121,
         2.4,
         "Gas",
         "yes",
         2009,
         "Galant",
         "front",
         null
        ],
        [
         "Kia",
         20633.887,
         "crossover",
         0,
         1.7,
         "Diesel",
         "yes",
         2016,
         "Sportage",
         "front",
         null
        ],
        [
         "BMW",
         73900.0,
         "sedan",
         57,
         4.4,
         "Petrol",
         "yes",
         2013,
         "M5",
         "rear",
         null
        ],
        [
         "Land Rover",
         0.0,
         "crossover",
         0,
         4.4,
         "Diesel",
         "yes",
         2016,
         "Range Rover",
         "full",
         null
        ],
        [
         "Nissan",
         26033.553,
         "crossover",
         0,
         1.6,
         "Diesel",
         "yes",
         2016,
         "X-Trail",
         "full",
         null
        ],
        [
         "BMW",
         104999.0,
         "crossover",
         2,
         3.0,
         "Diesel",
         "yes",
         2016,
         "X5",
         "full",
         null
        ],
        [
         "BMW",
         66500.0,
         "crossover",
         1,
         2.0,
         "Diesel",
         "yes",
         2016,
         "X5",
         "full",
         null
        ],
        [
         "BMW",
         65099.0,
         "crossover",
         0,
         2.0,
         "Diesel",
         "yes",
         2016,
         "X5",
         "full",
         null
        ],
        [
         "BMW",
         23900.0,
         "crossover",
         235,
         3.0,
         "Diesel",
         "yes",
         2007,
         "X5",
         "full",
         null
        ],
        [
         "Mercedes-Benz",
         69999.0,
         "crossover",
         0,
         2.2,
         "Diesel",
         "yes",
         2016,
         "GLE-Class",
         "full",
         null
        ],
        [
         "BMW",
         66200.0,
         "crossover",
         70,
         3.0,
         "Diesel",
         "yes",
         2014,
         "X5",
         "full",
         null
        ],
        [
         "BMW",
         63000.0,
         "crossover",
         0,
         2.0,
         "Diesel",
         "yes",
         2015,
         "X5",
         "full",
         null
        ],
        [
         "Mercedes-Benz",
         105999.0,
         "crossover",
         0,
         2.98,
         "Diesel",
         "yes",
         2016,
         "GLE-Class",
         "full",
         null
        ],
        [
         "Nissan",
         13980.0,
         "hatch",
         31,
         null,
         "Other",
         "yes",
         2013,
         "Leaf",
         "front",
         "{\"engV\":\"NA\",\"_file_path\":\"dbfs:/FileStore/shared_uploads/auto_loader_streaming/car_source_stream/car_ad_02.csv\"}"
        ],
        [
         "Nissan",
         17300.0,
         "hatch",
         24,
         null,
         "Other",
         "yes",
         2013,
         "Leaf",
         "front",
         "{\"engV\":\"NA\",\"_file_path\":\"dbfs:/FileStore/shared_uploads/auto_loader_streaming/car_source_stream/car_ad_02.csv\"}"
        ],
        [
         "Volkswagen",
         10700.0,
         "sedan",
         147,
         2.0,
         "Petrol",
         "yes",
         2007,
         "Passat B6",
         "front",
         null
        ],
        [
         "Audi",
         2600.0,
         "vagon",
         273,
         2.5,
         "Diesel",
         "no",
         1999,
         "A6",
         "front",
         null
        ],
        [
         "Chrysler",
         13700.0,
         "sedan",
         70,
         2.4,
         "Petrol",
         "yes",
         2008,
         "Sebring",
         "front",
         null
        ],
        [
         "Volkswagen",
         8999.0,
         "sedan",
         120,
         2.0,
         "Petrol",
         "yes",
         2008,
         "Passat B6",
         "front",
         null
        ],
        [
         "Jaguar",
         18777.0,
         "sedan",
         82,
         3.0,
         "Petrol",
         "yes",
         2008,
         "XF",
         "rear",
         null
        ],
        [
         "Audi",
         2850.0,
         "sedan",
         260,
         null,
         "Other",
         "no",
         1999,
         "A6",
         null,
         "{\"engV\":\"NA\",\"_file_path\":\"dbfs:/FileStore/shared_uploads/auto_loader_streaming/car_source_stream/car_ad_02.csv\"}"
        ],
        [
         "Honda",
         30000.0,
         "sedan",
         52,
         3.5,
         "Gas",
         "yes",
         2014,
         "Accord",
         "front",
         null
        ],
        [
         "Porsche",
         26900.0,
         "crossover",
         135,
         4.8,
         "Petrol",
         "yes",
         2008,
         "Cayenne",
         "full",
         null
        ],
        [
         "Toyota",
         80000.0,
         "crossover",
         23,
         4.5,
         "Diesel",
         "yes",
         2014,
         "Land Cruiser 200",
         "full",
         null
        ],
        [
         "BMW",
         8500.0,
         "sedan",
         260,
         2.2,
         "Gas",
         "yes",
         2001,
         "520",
         "rear",
         null
        ],
        [
         "Mercedes-Benz",
         7000.0,
         "van",
         197,
         2.2,
         "Diesel",
         "yes",
         2002,
         "Vito пасс.",
         "front",
         null
        ],
        [
         "Audi",
         36000.0,
         "crossover",
         145,
         3.0,
         "Petrol",
         "yes",
         2010,
         "Q7",
         "full",
         null
        ],
        [
         "Mercedes-Benz",
         9500.0,
         "van",
         280,
         2.2,
         "Diesel",
         "yes",
         2005,
         "Vito пасс.",
         "rear",
         null
        ],
        [
         "Toyota",
         103999.0,
         "crossover",
         0,
         4.5,
         "Diesel",
         "yes",
         2016,
         "Land Cruiser 200",
         "full",
         null
        ],
        [
         "Toyota",
         100000.0,
         "crossover",
         0,
         4.5,
         "Diesel",
         "yes",
         2016,
         "Land Cruiser 200",
         "full",
         null
        ],
        [
         "Mercedes-Benz",
         16500.0,
         "other",
         107,
         2.2,
         "Diesel",
         "yes",
         2010,
         "Vito пасс.",
         "front",
         null
        ],
        [
         "Toyota",
         15500.0,
         "sedan",
         120,
         3.5,
         "Petrol",
         "yes",
         2008,
         "Camry",
         "front",
         null
        ],
        [
         "Porsche",
         0.0,
         "sedan",
         22,
         4.8,
         "Petrol",
         "yes",
         2014,
         "Panamera",
         "full",
         null
        ],
        [
         "Mercedes-Benz",
         10999.0,
         "van",
         191,
         2.2,
         "Diesel",
         "yes",
         2007,
         "Vito пасс.",
         "rear",
         null
        ],
        [
         "Audi",
         0.0,
         "crossover",
         0,
         3.0,
         "Diesel",
         "yes",
         2015,
         "Q7",
         "full",
         null
        ],
        [
         "Audi",
         88888.0,
         "crossover",
         0,
         3.0,
         "Diesel",
         "yes",
         2015,
         "Q7",
         "full",
         null
        ],
        [
         "Toyota",
         0.0,
         "crossover",
         49,
         4.5,
         "Diesel",
         "yes",
         2014,
         "Land Cruiser 200",
         "full",
         null
        ],
        [
         "Mercedes-Benz",
         16500.0,
         "van",
         223,
         2.2,
         "Diesel",
         "yes",
         2009,
         "Vito пасс.",
         "rear",
         null
        ],
        [
         "Volkswagen",
         17900.0,
         "crossover",
         145,
         3.0,
         "Diesel",
         "yes",
         2007,
         "Touareg",
         "full",
         null
        ],
        [
         "Volkswagen",
         0.0,
         "van",
         165,
         2.0,
         "Diesel",
         "yes",
         2013,
         "T5 (Transporter) груз",
         "front",
         null
        ],
        [
         "Mercedes-Benz",
         20400.0,
         "sedan",
         190,
         1.8,
         "Gas",
         "yes",
         2011,
         "E-Class",
         "rear",
         null
        ],
        [
         "Volkswagen",
         20000.0,
         "crossover",
         115,
         2.5,
         "Diesel",
         "yes",
         2008,
         "Touareg",
         "full",
         null
        ],
        [
         "BMW",
         21000.0,
         "sedan",
         186,
         3.0,
         "Petrol",
         "yes",
         2007,
         "530",
         "rear",
         null
        ],
        [
         "Hyundai",
         11800.0,
         "sedan",
         65,
         1.4,
         "Petrol",
         "yes",
         2013,
         "Accent",
         "front",
         null
        ],
        [
         "Mercedes-Benz",
         0.0,
         "van",
         450,
         2.2,
         "Diesel",
         "yes",
         2000,
         "Vito пасс.",
         "front",
         null
        ],
        [
         "Volkswagen",
         10000.0,
         "van",
         231,
         1.9,
         "Diesel",
         "yes",
         2005,
         "T5 (Transporter) пасс.",
         null,
         null
        ],
        [
         "Volkswagen",
         37990.0,
         "crossover",
         140,
         3.0,
         "Diesel",
         "yes",
         2012,
         "Touareg",
         "full",
         null
        ],
        [
         "Porsche",
         0.0,
         "crossover",
         0,
         3.0,
         "Diesel",
         "yes",
         2016,
         "Cayenne",
         "full",
         null
        ],
        [
         "BMW",
         3900.0,
         "vagon",
         240,
         3.0,
         "Diesel",
         "no",
         2001,
         "530",
         "rear",
         null
        ],
        [
         "Volkswagen",
         33500.0,
         "crossover",
         98,
         null,
         "Petrol",
         "yes",
         2013,
         "Touareg",
         "full",
         "{\"engV\":\"NA\",\"_file_path\":\"dbfs:/FileStore/shared_uploads/auto_loader_streaming/car_source_stream/car_ad_06.csv\"}"
        ],
        [
         "Hyundai",
         9700.0,
         "sedan",
         54,
         1.4,
         "Petrol",
         "yes",
         2013,
         "Accent",
         "front",
         null
        ],
        [
         "Nissan",
         12400.0,
         "hatch",
         26,
         null,
         "Other",
         "yes",
         2011,
         "Leaf",
         null,
         "{\"engV\":\"NA\",\"_file_path\":\"dbfs:/FileStore/shared_uploads/auto_loader_streaming/car_source_stream/car_ad_06.csv\"}"
        ],
        [
         "Mercedes-Benz",
         6200.0,
         "sedan",
         221,
         1.8,
         "Gas",
         "yes",
         2004,
         "E-Class",
         "rear",
         null
        ],
        [
         "Renault",
         10500.0,
         "vagon",
         185,
         1.5,
         "Diesel",
         "yes",
         2011,
         "Megane",
         "front",
         null
        ],
        [
         "Hyundai",
         6900.0,
         "crossover",
         105,
         1.6,
         "Petrol",
         "yes",
         2009,
         "Accent",
         "front",
         null
        ],
        [
         "Mercedes-Benz",
         20300.0,
         "sedan",
         198,
         1.8,
         "Gas",
         "yes",
         2011,
         "E-Class",
         "rear",
         null
        ],
        [
         "Audi",
         18500.0,
         "crossover",
         185,
         3.6,
         "Petrol",
         "yes",
         2008,
         "Q7",
         "full",
         null
        ],
        [
         "Toyota",
         73900.0,
         "crossover",
         1,
         4.5,
         "Diesel",
         "yes",
         2016,
         "Land Cruiser 200",
         "full",
         null
        ],
        [
         "Toyota",
         30500.0,
         "crossover",
         40,
         2.7,
         "Petrol",
         "yes",
         2011,
         "Land Cruiser Prado",
         "full",
         null
        ],
        [
         "Toyota",
         30800.0,
         "crossover",
         56,
         2.7,
         "Gas",
         "yes",
         2011,
         "Land Cruiser Prado",
         "full",
         null
        ],
        [
         "Toyota",
         25500.0,
         "crossover",
         200,
         4.0,
         "Petrol",
         "yes",
         2007,
         "Land Cruiser Prado",
         "full",
         null
        ],
        [
         "Mercedes-Benz",
         29500.0,
         "sedan",
         37,
         1.8,
         "Petrol",
         "yes",
         2012,
         "E-Class",
         null,
         null
        ],
        [
         "Opel",
         3550.0,
         "vagon",
         231,
         2.0,
         "Diesel",
         "no",
         2005,
         "Vectra C",
         "front",
         null
        ],
        [
         "Volkswagen",
         0.0,
         "van",
         162,
         2.0,
         "Diesel",
         "yes",
         2011,
         "T5 (Transporter) груз",
         "front",
         null
        ],
        [
         "Toyota",
         99999.0,
         "crossover",
         0,
         4.5,
         "Petrol",
         "yes",
         2016,
         "Land Cruiser 200",
         "full",
         null
        ],
        [
         "Mercedes-Benz",
         107999.0,
         "crossover",
         0,
         2.98,
         "Diesel",
         "yes",
         2016,
         "GLS 350",
         "full",
         null
        ],
        [
         "BMW",
         0.0,
         "crossover",
         1,
         3.0,
         "Diesel",
         "yes",
         2014,
         "X6",
         "full",
         null
        ],
        [
         "BMW",
         0.0,
         "crossover",
         0,
         3.0,
         "Diesel",
         "yes",
         2015,
         "X6",
         "full",
         null
        ],
        [
         "Toyota",
         74999.0,
         "crossover",
         1,
         4.5,
         "Diesel",
         "yes",
         2016,
         "Land Cruiser 200",
         "full",
         null
        ],
        [
         "Audi",
         34000.0,
         "crossover",
         118,
         2.0,
         "Diesel",
         "yes",
         2013,
         "Q5",
         "full",
         null
        ],
        [
         "BMW",
         2850.0,
         "sedan",
         214,
         1.9,
         "Petrol",
         "no",
         2000,
         "318",
         "rear",
         null
        ],
        [
         "Volkswagen",
         3250.0,
         "sedan",
         255,
         1.9,
         "Diesel",
         "no",
         2003,
         "Passat B5",
         "front",
         null
        ],
        [
         "Volkswagen",
         16900.0,
         "crossover",
         133,
         2.5,
         "Diesel",
         "yes",
         2007,
         "Touareg",
         "full",
         null
        ],
        [
         "Toyota",
         99999.0,
         "crossover",
         0,
         4.5,
         "Diesel",
         "yes",
         2016,
         "Land Cruiser 200",
         "full",
         null
        ],
        [
         "Chevrolet",
         6800.0,
         "sedan",
         106,
         1.6,
         "Petrol",
         "yes",
         2007,
         "Lacetti",
         "front",
         null
        ],
        [
         "Toyota",
         23400.0,
         "crossover",
         120,
         4.0,
         "Petrol",
         "yes",
         2007,
         "Land Cruiser Prado",
         "full",
         null
        ],
        [
         "Skoda",
         17900.0,
         "sedan",
         65,
         1.8,
         "Petrol",
         "yes",
         2013,
         "Superb",
         "front",
         null
        ],
        [
         "Toyota",
         37700.0,
         "crossover",
         62,
         3.0,
         "Diesel",
         "yes",
         2013,
         "Land Cruiser Prado",
         "full",
         null
        ],
        [
         "Land Rover",
         29500.0,
         "crossover",
         50,
         3.5,
         "Diesel",
         "yes",
         2008,
         "Range Rover Sport",
         "full",
         null
        ],
        [
         "Mercedes-Benz",
         93555.0,
         "crossover",
         0,
         null,
         "Other",
         "yes",
         2016,
         "GLS 350",
         null,
         "{\"engV\":\"NA\",\"_file_path\":\"dbfs:/FileStore/shared_uploads/auto_loader_streaming/car_source_stream/car_ad_07.csv\"}"
        ],
        [
         "Volkswagen",
         30000.0,
         "sedan",
         67,
         2.0,
         "Diesel",
         "yes",
         2013,
         "Passat B7",
         "front",
         null
        ]
       ],
       "datasetInfos": [],
       "dbfsResultPath": null,
       "isJsonSchema": true,
       "metadata": {},
       "overflow": false,
       "plotOptions": {
        "customPlotOptions": {},
        "displayType": "table",
        "pivotAggregation": null,
        "pivotColumns": null,
        "xColumns": null,
        "yColumns": null
       },
       "removedWidgets": [],
       "schema": [
        {
         "metadata": "{}",
         "name": "car",
         "type": "\"string\""
        },
        {
         "metadata": "{}",
         "name": "price",
         "type": "\"float\""
        },
        {
         "metadata": "{}",
         "name": "body",
         "type": "\"string\""
        },
        {
         "metadata": "{}",
         "name": "mileage",
         "type": "\"integer\""
        },
        {
         "metadata": "{}",
         "name": "engV",
         "type": "\"float\""
        },
        {
         "metadata": "{}",
         "name": "engType",
         "type": "\"string\""
        },
        {
         "metadata": "{}",
         "name": "registration",
         "type": "\"string\""
        },
        {
         "metadata": "{}",
         "name": "year",
         "type": "\"integer\""
        },
        {
         "metadata": "{}",
         "name": "model",
         "type": "\"string\""
        },
        {
         "metadata": "{}",
         "name": "drive",
         "type": "\"string\""
        },
        {
         "metadata": "{}",
         "name": "_rescued_data",
         "type": "\"string\""
        }
       ],
       "type": "table"
      }
     },
     "output_type": "display_data"
    }
   ],
   "source": [
    "display(car_stream_data)"
   ]
  },
  {
   "cell_type": "code",
   "execution_count": 0,
   "metadata": {
    "application/vnd.databricks.v1+cell": {
     "cellMetadata": {
      "byteLimit": 2048000,
      "rowLimit": 10000
     },
     "inputWidgets": {},
     "nuid": "4834bced-d37f-46d5-a608-3add8d0abcdd",
     "showTitle": false,
     "title": ""
    }
   },
   "outputs": [
    {
     "output_type": "display_data",
     "data": {
      "text/html": [
       "<style scoped>\n",
       "  .table-result-container {\n",
       "    max-height: 300px;\n",
       "    overflow: auto;\n",
       "  }\n",
       "  table, th, td {\n",
       "    border: 1px solid black;\n",
       "    border-collapse: collapse;\n",
       "  }\n",
       "  th, td {\n",
       "    padding: 5px;\n",
       "  }\n",
       "  th {\n",
       "    text-align: left;\n",
       "  }\n",
       "</style><div class='table-result-container'><table class='table-result'><thead style='background-color: white'><tr><th>year</th><th>price</th></tr></thead><tbody><tr><td>2010</td><td>15500.0</td></tr><tr><td>2011</td><td>20500.0</td></tr><tr><td>2008</td><td>35000.0</td></tr><tr><td>2012</td><td>17800.0</td></tr><tr><td>2013</td><td>16600.0</td></tr><tr><td>2003</td><td>6500.0</td></tr><tr><td>2011</td><td>10500.0</td></tr><tr><td>2012</td><td>21500.0</td></tr><tr><td>2010</td><td>22700.0</td></tr><tr><td>2016</td><td>20447.154</td></tr><tr><td>2011</td><td>20400.0</td></tr><tr><td>2012</td><td>22500.0</td></tr><tr><td>1996</td><td>4700.0</td></tr><tr><td>2012</td><td>21500.0</td></tr><tr><td>2006</td><td>19999.0</td></tr><tr><td>2016</td><td>129222.0</td></tr><tr><td>2016</td><td>99999.0</td></tr><tr><td>2013</td><td>16600.0</td></tr><tr><td>2012</td><td>55000.0</td></tr><tr><td>2011</td><td>18000.0</td></tr><tr><td>2012</td><td>21700.0</td></tr><tr><td>2000</td><td>2400.0</td></tr><tr><td>1998</td><td>2350.0</td></tr><tr><td>2011</td><td>18600.0</td></tr><tr><td>2016</td><td>104999.0</td></tr><tr><td>2016</td><td>195000.0</td></tr><tr><td>2011</td><td>49900.0</td></tr><tr><td>2013</td><td>50900.0</td></tr><tr><td>2016</td><td>99999.0</td></tr><tr><td>2016</td><td>0.0</td></tr><tr><td>2016</td><td>0.0</td></tr><tr><td>2016</td><td>102999.0</td></tr><tr><td>2010</td><td>35900.0</td></tr><tr><td>2009</td><td>16500.0</td></tr><tr><td>2016</td><td>103999.0</td></tr><tr><td>2013</td><td>114900.0</td></tr><tr><td>2008</td><td>26500.0</td></tr><tr><td>2007</td><td>12999.0</td></tr><tr><td>2012</td><td>37000.0</td></tr><tr><td>2013</td><td>200000.0</td></tr><tr><td>2002</td><td>3850.0</td></tr><tr><td>2013</td><td>13275.0</td></tr><tr><td>2011</td><td>20400.0</td></tr><tr><td>1997</td><td>1900.0</td></tr><tr><td>2016</td><td>39333.0</td></tr><tr><td>2016</td><td>99999.0</td></tr><tr><td>2016</td><td>70999.0</td></tr><tr><td>2016</td><td>63500.0</td></tr><tr><td>2016</td><td>59900.0</td></tr><tr><td>2006</td><td>9200.0</td></tr><tr><td>2015</td><td>20241.896</td></tr><tr><td>2008</td><td>14490.0</td></tr><tr><td>2011</td><td>31500.0</td></tr><tr><td>2016</td><td>0.0</td></tr><tr><td>2007</td><td>8999.0</td></tr><tr><td>2000</td><td>3650.0</td></tr><tr><td>2013</td><td>17000.0</td></tr><tr><td>2009</td><td>12000.0</td></tr><tr><td>2016</td><td>20633.887</td></tr><tr><td>2013</td><td>73900.0</td></tr><tr><td>2016</td><td>0.0</td></tr><tr><td>2016</td><td>26033.553</td></tr><tr><td>2016</td><td>104999.0</td></tr><tr><td>2016</td><td>66500.0</td></tr><tr><td>2016</td><td>65099.0</td></tr><tr><td>2007</td><td>23900.0</td></tr><tr><td>2016</td><td>69999.0</td></tr><tr><td>2014</td><td>66200.0</td></tr><tr><td>2015</td><td>63000.0</td></tr><tr><td>2016</td><td>105999.0</td></tr><tr><td>2013</td><td>13980.0</td></tr><tr><td>2013</td><td>17300.0</td></tr><tr><td>2007</td><td>10700.0</td></tr><tr><td>1999</td><td>2600.0</td></tr><tr><td>2008</td><td>13700.0</td></tr><tr><td>2008</td><td>8999.0</td></tr><tr><td>2008</td><td>18777.0</td></tr><tr><td>1999</td><td>2850.0</td></tr><tr><td>2014</td><td>30000.0</td></tr><tr><td>2008</td><td>26900.0</td></tr><tr><td>2014</td><td>80000.0</td></tr><tr><td>2001</td><td>8500.0</td></tr><tr><td>2002</td><td>7000.0</td></tr><tr><td>2010</td><td>36000.0</td></tr><tr><td>2005</td><td>9500.0</td></tr><tr><td>2016</td><td>103999.0</td></tr><tr><td>2016</td><td>100000.0</td></tr><tr><td>2010</td><td>16500.0</td></tr><tr><td>2008</td><td>15500.0</td></tr><tr><td>2014</td><td>0.0</td></tr><tr><td>2007</td><td>10999.0</td></tr><tr><td>2015</td><td>0.0</td></tr><tr><td>2015</td><td>88888.0</td></tr><tr><td>2014</td><td>0.0</td></tr><tr><td>2009</td><td>16500.0</td></tr><tr><td>2007</td><td>17900.0</td></tr><tr><td>2013</td><td>0.0</td></tr><tr><td>2011</td><td>20400.0</td></tr><tr><td>2008</td><td>20000.0</td></tr><tr><td>2007</td><td>21000.0</td></tr><tr><td>2013</td><td>11800.0</td></tr><tr><td>2000</td><td>0.0</td></tr><tr><td>2005</td><td>10000.0</td></tr><tr><td>2012</td><td>37990.0</td></tr><tr><td>2016</td><td>0.0</td></tr><tr><td>2001</td><td>3900.0</td></tr><tr><td>2013</td><td>33500.0</td></tr><tr><td>2013</td><td>9700.0</td></tr><tr><td>2011</td><td>12400.0</td></tr><tr><td>2004</td><td>6200.0</td></tr><tr><td>2011</td><td>10500.0</td></tr><tr><td>2009</td><td>6900.0</td></tr><tr><td>2011</td><td>20300.0</td></tr><tr><td>2008</td><td>18500.0</td></tr><tr><td>2016</td><td>73900.0</td></tr><tr><td>2011</td><td>30500.0</td></tr><tr><td>2011</td><td>30800.0</td></tr><tr><td>2007</td><td>25500.0</td></tr><tr><td>2012</td><td>29500.0</td></tr><tr><td>2005</td><td>3550.0</td></tr><tr><td>2011</td><td>0.0</td></tr><tr><td>2016</td><td>99999.0</td></tr><tr><td>2016</td><td>107999.0</td></tr><tr><td>2014</td><td>0.0</td></tr><tr><td>2015</td><td>0.0</td></tr><tr><td>2016</td><td>74999.0</td></tr><tr><td>2013</td><td>34000.0</td></tr><tr><td>2000</td><td>2850.0</td></tr><tr><td>2003</td><td>3250.0</td></tr><tr><td>2007</td><td>16900.0</td></tr><tr><td>2016</td><td>99999.0</td></tr><tr><td>2007</td><td>6800.0</td></tr><tr><td>2007</td><td>23400.0</td></tr><tr><td>2013</td><td>17900.0</td></tr><tr><td>2013</td><td>37700.0</td></tr><tr><td>2008</td><td>29500.0</td></tr><tr><td>2016</td><td>93555.0</td></tr><tr><td>2013</td><td>30000.0</td></tr></tbody></table></div>"
      ]
     },
     "metadata": {
      "application/vnd.databricks.v1+output": {
       "addedWidgets": {},
       "aggData": [],
       "aggError": "",
       "aggOverflow": false,
       "aggSchema": [],
       "aggSeriesLimitReached": false,
       "aggType": "",
       "arguments": {},
       "columnCustomDisplayInfos": {},
       "data": [
        [
         2010,
         15500.0
        ],
        [
         2011,
         20500.0
        ],
        [
         2008,
         35000.0
        ],
        [
         2012,
         17800.0
        ],
        [
         2013,
         16600.0
        ],
        [
         2003,
         6500.0
        ],
        [
         2011,
         10500.0
        ],
        [
         2012,
         21500.0
        ],
        [
         2010,
         22700.0
        ],
        [
         2016,
         20447.154
        ],
        [
         2011,
         20400.0
        ],
        [
         2012,
         22500.0
        ],
        [
         1996,
         4700.0
        ],
        [
         2012,
         21500.0
        ],
        [
         2006,
         19999.0
        ],
        [
         2016,
         129222.0
        ],
        [
         2016,
         99999.0
        ],
        [
         2013,
         16600.0
        ],
        [
         2012,
         55000.0
        ],
        [
         2011,
         18000.0
        ],
        [
         2012,
         21700.0
        ],
        [
         2000,
         2400.0
        ],
        [
         1998,
         2350.0
        ],
        [
         2011,
         18600.0
        ],
        [
         2016,
         104999.0
        ],
        [
         2016,
         195000.0
        ],
        [
         2011,
         49900.0
        ],
        [
         2013,
         50900.0
        ],
        [
         2016,
         99999.0
        ],
        [
         2016,
         0.0
        ],
        [
         2016,
         0.0
        ],
        [
         2016,
         102999.0
        ],
        [
         2010,
         35900.0
        ],
        [
         2009,
         16500.0
        ],
        [
         2016,
         103999.0
        ],
        [
         2013,
         114900.0
        ],
        [
         2008,
         26500.0
        ],
        [
         2007,
         12999.0
        ],
        [
         2012,
         37000.0
        ],
        [
         2013,
         200000.0
        ],
        [
         2002,
         3850.0
        ],
        [
         2013,
         13275.0
        ],
        [
         2011,
         20400.0
        ],
        [
         1997,
         1900.0
        ],
        [
         2016,
         39333.0
        ],
        [
         2016,
         99999.0
        ],
        [
         2016,
         70999.0
        ],
        [
         2016,
         63500.0
        ],
        [
         2016,
         59900.0
        ],
        [
         2006,
         9200.0
        ],
        [
         2015,
         20241.896
        ],
        [
         2008,
         14490.0
        ],
        [
         2011,
         31500.0
        ],
        [
         2016,
         0.0
        ],
        [
         2007,
         8999.0
        ],
        [
         2000,
         3650.0
        ],
        [
         2013,
         17000.0
        ],
        [
         2009,
         12000.0
        ],
        [
         2016,
         20633.887
        ],
        [
         2013,
         73900.0
        ],
        [
         2016,
         0.0
        ],
        [
         2016,
         26033.553
        ],
        [
         2016,
         104999.0
        ],
        [
         2016,
         66500.0
        ],
        [
         2016,
         65099.0
        ],
        [
         2007,
         23900.0
        ],
        [
         2016,
         69999.0
        ],
        [
         2014,
         66200.0
        ],
        [
         2015,
         63000.0
        ],
        [
         2016,
         105999.0
        ],
        [
         2013,
         13980.0
        ],
        [
         2013,
         17300.0
        ],
        [
         2007,
         10700.0
        ],
        [
         1999,
         2600.0
        ],
        [
         2008,
         13700.0
        ],
        [
         2008,
         8999.0
        ],
        [
         2008,
         18777.0
        ],
        [
         1999,
         2850.0
        ],
        [
         2014,
         30000.0
        ],
        [
         2008,
         26900.0
        ],
        [
         2014,
         80000.0
        ],
        [
         2001,
         8500.0
        ],
        [
         2002,
         7000.0
        ],
        [
         2010,
         36000.0
        ],
        [
         2005,
         9500.0
        ],
        [
         2016,
         103999.0
        ],
        [
         2016,
         100000.0
        ],
        [
         2010,
         16500.0
        ],
        [
         2008,
         15500.0
        ],
        [
         2014,
         0.0
        ],
        [
         2007,
         10999.0
        ],
        [
         2015,
         0.0
        ],
        [
         2015,
         88888.0
        ],
        [
         2014,
         0.0
        ],
        [
         2009,
         16500.0
        ],
        [
         2007,
         17900.0
        ],
        [
         2013,
         0.0
        ],
        [
         2011,
         20400.0
        ],
        [
         2008,
         20000.0
        ],
        [
         2007,
         21000.0
        ],
        [
         2013,
         11800.0
        ],
        [
         2000,
         0.0
        ],
        [
         2005,
         10000.0
        ],
        [
         2012,
         37990.0
        ],
        [
         2016,
         0.0
        ],
        [
         2001,
         3900.0
        ],
        [
         2013,
         33500.0
        ],
        [
         2013,
         9700.0
        ],
        [
         2011,
         12400.0
        ],
        [
         2004,
         6200.0
        ],
        [
         2011,
         10500.0
        ],
        [
         2009,
         6900.0
        ],
        [
         2011,
         20300.0
        ],
        [
         2008,
         18500.0
        ],
        [
         2016,
         73900.0
        ],
        [
         2011,
         30500.0
        ],
        [
         2011,
         30800.0
        ],
        [
         2007,
         25500.0
        ],
        [
         2012,
         29500.0
        ],
        [
         2005,
         3550.0
        ],
        [
         2011,
         0.0
        ],
        [
         2016,
         99999.0
        ],
        [
         2016,
         107999.0
        ],
        [
         2014,
         0.0
        ],
        [
         2015,
         0.0
        ],
        [
         2016,
         74999.0
        ],
        [
         2013,
         34000.0
        ],
        [
         2000,
         2850.0
        ],
        [
         2003,
         3250.0
        ],
        [
         2007,
         16900.0
        ],
        [
         2016,
         99999.0
        ],
        [
         2007,
         6800.0
        ],
        [
         2007,
         23400.0
        ],
        [
         2013,
         17900.0
        ],
        [
         2013,
         37700.0
        ],
        [
         2008,
         29500.0
        ],
        [
         2016,
         93555.0
        ],
        [
         2013,
         30000.0
        ]
       ],
       "datasetInfos": [],
       "dbfsResultPath": null,
       "isJsonSchema": true,
       "metadata": {
        "isDbfsCommandResult": false
       },
       "overflow": false,
       "plotOptions": {
        "customPlotOptions": {},
        "displayType": "table",
        "pivotAggregation": null,
        "pivotColumns": null,
        "xColumns": null,
        "yColumns": null
       },
       "removedWidgets": [],
       "schema": [
        {
         "metadata": "{}",
         "name": "year",
         "type": "\"integer\""
        },
        {
         "metadata": "{}",
         "name": "price",
         "type": "\"float\""
        }
       ],
       "type": "table"
      }
     },
     "output_type": "display_data"
    },
    {
     "output_type": "display_data",
     "data": {
      "text/plain": [
       "Databricks visualization. Run in Databricks to view."
      ]
     },
     "metadata": {
      "application/vnd.databricks.v1.subcommand+json": {
       "bindings": {},
       "collapsed": false,
       "command": "# Databricks no-op command",
       "commandTitle": "Visualization 1",
       "commandType": "auto",
       "commandVersion": 0,
       "commentThread": [],
       "commentsVisible": false,
       "contentSha256Hex": null,
       "customPlotOptions": {
        "redashChart": [
         {
          "key": "type",
          "value": "CHART"
         },
         {
          "key": "options",
          "value": {
           "alignYAxesAtZero": true,
           "coefficient": 1,
           "columnConfigurationMap": {
            "x": {
             "column": "year",
             "id": "column_1cc57f0d119"
            },
            "y": [
             {
              "column": "price",
              "id": "column_1cc57f0d125",
              "transform": "AVG"
             }
            ]
           },
           "dateTimeFormat": "DD/MM/YYYY HH:mm",
           "direction": {
            "type": "counterclockwise"
           },
           "error_y": {
            "type": "data",
            "visible": true
           },
           "globalSeriesType": "line",
           "isAggregationOn": true,
           "legend": {
            "traceorder": "normal"
           },
           "missingValuesAsZero": true,
           "numberFormat": "0,0[.]00000",
           "percentFormat": "0[.]00%",
           "series": {
            "error_y": {
             "type": "data",
             "visible": true
            },
            "stacking": null
           },
           "seriesOptions": {
            "column_1cc57f0d120": {
             "name": "price",
             "type": "line",
             "yAxis": 0
            },
            "column_1cc57f0d125": {
             "type": "line",
             "yAxis": 0
            }
           },
           "showDataLabels": false,
           "sizemode": "diameter",
           "sortX": true,
           "sortY": true,
           "swappedAxes": false,
           "textFormat": "",
           "useAggregationsUi": true,
           "valuesOptions": {},
           "version": 2,
           "xAxis": {
            "labels": {
             "enabled": true
            },
            "type": "-"
           },
           "yAxis": [
            {
             "type": "-"
            },
            {
             "opposite": true,
             "type": "-"
            }
           ]
          }
         }
        ]
       },
       "datasetPreviewNameToCmdIdMap": {},
       "diffDeletes": [],
       "diffInserts": [],
       "displayType": "redashChart",
       "error": null,
       "errorSummary": null,
       "errorTraceType": null,
       "finishTime": 0,
       "globalVars": {},
       "guid": "",
       "height": "auto",
       "hideCommandCode": false,
       "hideCommandResult": false,
       "iPythonMetadata": null,
       "inputWidgets": {},
       "isLockedInExamMode": false,
       "latestUser": "a user",
       "latestUserId": null,
       "listResultMetadata": null,
       "metadata": {},
       "nuid": "65f0982a-c442-430e-ac05-1b0187bfb38c",
       "origId": 0,
       "parentHierarchy": [],
       "pivotAggregation": null,
       "pivotColumns": null,
       "position": 5.0,
       "resultDbfsErrorMessage": null,
       "resultDbfsStatus": "INLINED_IN_TREE",
       "results": null,
       "showCommandTitle": false,
       "startTime": 0,
       "state": "input",
       "streamStates": {},
       "subcommandOptions": {
        "queryPlan": {
         "groups": [
          {
           "column": "year",
           "type": "column"
          }
         ],
         "selects": [
          {
           "column": "year",
           "type": "column"
          },
          {
           "alias": "column_1cc57f0d125",
           "args": [
            {
             "column": "price",
             "type": "column"
            }
           ],
           "function": "AVG",
           "type": "function"
          }
         ]
        }
       },
       "submitTime": 0,
       "subtype": "tableResultSubCmd.visualization",
       "tableResultIndex": 0,
       "useConsistentColors": false,
       "version": "CommandV1",
       "width": "auto",
       "workflows": [],
       "xColumns": null,
       "yColumns": null
      }
     },
     "output_type": "display_data"
    }
   ],
   "source": [
    "car_stream_data.select(\"year\", \"price\").display()"
   ]
  },
  {
   "cell_type": "code",
   "execution_count": 0,
   "metadata": {
    "application/vnd.databricks.v1+cell": {
     "cellMetadata": {
      "byteLimit": 2048000,
      "rowLimit": 10000
     },
     "inputWidgets": {},
     "nuid": "a8c3297a-0149-4f2e-aacf-4715dea59e36",
     "showTitle": false,
     "title": ""
    }
   },
   "outputs": [
    {
     "output_type": "display_data",
     "data": {
      "text/html": [
       "<style scoped>\n",
       "  .table-result-container {\n",
       "    max-height: 300px;\n",
       "    overflow: auto;\n",
       "  }\n",
       "  table, th, td {\n",
       "    border: 1px solid black;\n",
       "    border-collapse: collapse;\n",
       "  }\n",
       "  th, td {\n",
       "    padding: 5px;\n",
       "  }\n",
       "  th {\n",
       "    text-align: left;\n",
       "  }\n",
       "</style><div class='table-result-container'><table class='table-result'><thead style='background-color: white'><tr><th>car</th><th>model</th><th>body</th><th>year</th><th>price</th></tr></thead><tbody><tr><td>Ford</td><td>Kuga</td><td>crossover</td><td>2010</td><td>15500.0</td></tr><tr><td>Mercedes-Benz</td><td>E-Class</td><td>sedan</td><td>2011</td><td>20500.0</td></tr><tr><td>Mercedes-Benz</td><td>CL 550</td><td>other</td><td>2008</td><td>35000.0</td></tr><tr><td>Mercedes-Benz</td><td>B 180</td><td>van</td><td>2012</td><td>17800.0</td></tr><tr><td>Nissan</td><td>X-Trail</td><td>crossover</td><td>2013</td><td>16600.0</td></tr><tr><td>Renault</td><td>Megane</td><td>vagon</td><td>2011</td><td>10500.0</td></tr><tr><td>Mercedes-Benz</td><td>E-Class</td><td>sedan</td><td>2012</td><td>21500.0</td></tr><tr><td>Mercedes-Benz</td><td>E-Class</td><td>sedan</td><td>2010</td><td>22700.0</td></tr><tr><td>Nissan</td><td>Qashqai</td><td>crossover</td><td>2016</td><td>20447.154</td></tr><tr><td>Mercedes-Benz</td><td>E-Class</td><td>sedan</td><td>2011</td><td>20400.0</td></tr><tr><td>Mercedes-Benz</td><td>E-Class</td><td>sedan</td><td>2012</td><td>22500.0</td></tr><tr><td>Mercedes-Benz</td><td>E-Class</td><td>sedan</td><td>2012</td><td>21500.0</td></tr><tr><td>BMW</td><td>750</td><td>sedan</td><td>2006</td><td>19999.0</td></tr><tr><td>BMW</td><td>750</td><td>sedan</td><td>2016</td><td>129222.0</td></tr><tr><td>Mercedes-Benz</td><td>GLE-Class</td><td>crossover</td><td>2016</td><td>99999.0</td></tr><tr><td>Nissan</td><td>X-Trail</td><td>crossover</td><td>2013</td><td>16600.0</td></tr><tr><td>Porsche</td><td>Cayenne</td><td>crossover</td><td>2012</td><td>55000.0</td></tr><tr><td>Kia</td><td>Sportage</td><td>crossover</td><td>2011</td><td>18000.0</td></tr><tr><td>Kia</td><td>Sportage</td><td>crossover</td><td>2012</td><td>21700.0</td></tr><tr><td>Honda</td><td>Accord</td><td>vagon</td><td>2011</td><td>18600.0</td></tr><tr><td>Mercedes-Benz</td><td>GLE-Class</td><td>crossover</td><td>2016</td><td>104999.0</td></tr><tr><td>Toyota</td><td>Land Cruiser 200</td><td>crossover</td><td>2016</td><td>195000.0</td></tr><tr><td>Porsche</td><td>Cayenne</td><td>crossover</td><td>2011</td><td>49900.0</td></tr><tr><td>Porsche</td><td>Cayenne</td><td>crossover</td><td>2013</td><td>50900.0</td></tr><tr><td>Porsche</td><td>Cayenne</td><td>crossover</td><td>2016</td><td>99999.0</td></tr><tr><td>Toyota</td><td>Land Cruiser 200</td><td>crossover</td><td>2016</td><td>102999.0</td></tr><tr><td>Audi</td><td>Q7</td><td>crossover</td><td>2010</td><td>35900.0</td></tr><tr><td>Honda</td><td>Accord</td><td>sedan</td><td>2009</td><td>16500.0</td></tr><tr><td>Toyota</td><td>Land Cruiser 200</td><td>crossover</td><td>2016</td><td>103999.0</td></tr><tr><td>Porsche</td><td>Cayenne</td><td>crossover</td><td>2013</td><td>114900.0</td></tr><tr><td>Porsche</td><td>Cayenne</td><td>crossover</td><td>2008</td><td>26500.0</td></tr><tr><td>Mitsubishi</td><td>Outlander XL</td><td>crossover</td><td>2007</td><td>12999.0</td></tr><tr><td>Audi</td><td>A6</td><td>sedan</td><td>2012</td><td>37000.0</td></tr><tr><td>Mercedes-Benz</td><td>Sprinter 324 пасс.</td><td>van</td><td>2013</td><td>200000.0</td></tr><tr><td>Nissan</td><td>Leaf</td><td>hatch</td><td>2013</td><td>13275.0</td></tr><tr><td>Mercedes-Benz</td><td>E-Class</td><td>sedan</td><td>2011</td><td>20400.0</td></tr><tr><td>BMW</td><td>520</td><td>sedan</td><td>2016</td><td>39333.0</td></tr><tr><td>Mercedes-Benz</td><td>GLE-Class</td><td>crossover</td><td>2016</td><td>99999.0</td></tr><tr><td>Mercedes-Benz</td><td>GLE-Class</td><td>crossover</td><td>2016</td><td>70999.0</td></tr><tr><td>BMW</td><td>X5</td><td>crossover</td><td>2016</td><td>63500.0</td></tr><tr><td>BMW</td><td>X5</td><td>crossover</td><td>2016</td><td>59900.0</td></tr><tr><td>Nissan</td><td>Juke</td><td>crossover</td><td>2015</td><td>20241.896</td></tr><tr><td>Mercedes-Benz</td><td>E-Class</td><td>vagon</td><td>2008</td><td>14490.0</td></tr><tr><td>Mercedes-Benz</td><td>E-Class</td><td>sedan</td><td>2011</td><td>31500.0</td></tr><tr><td>Nissan</td><td>Leaf</td><td>hatch</td><td>2013</td><td>17000.0</td></tr><tr><td>Mitsubishi</td><td>Galant</td><td>sedan</td><td>2009</td><td>12000.0</td></tr><tr><td>Kia</td><td>Sportage</td><td>crossover</td><td>2016</td><td>20633.887</td></tr><tr><td>BMW</td><td>M5</td><td>sedan</td><td>2013</td><td>73900.0</td></tr><tr><td>Nissan</td><td>X-Trail</td><td>crossover</td><td>2016</td><td>26033.553</td></tr><tr><td>BMW</td><td>X5</td><td>crossover</td><td>2016</td><td>104999.0</td></tr><tr><td>BMW</td><td>X5</td><td>crossover</td><td>2016</td><td>66500.0</td></tr><tr><td>BMW</td><td>X5</td><td>crossover</td><td>2016</td><td>65099.0</td></tr><tr><td>BMW</td><td>X5</td><td>crossover</td><td>2007</td><td>23900.0</td></tr><tr><td>Mercedes-Benz</td><td>GLE-Class</td><td>crossover</td><td>2016</td><td>69999.0</td></tr><tr><td>BMW</td><td>X5</td><td>crossover</td><td>2014</td><td>66200.0</td></tr><tr><td>BMW</td><td>X5</td><td>crossover</td><td>2015</td><td>63000.0</td></tr><tr><td>Mercedes-Benz</td><td>GLE-Class</td><td>crossover</td><td>2016</td><td>105999.0</td></tr><tr><td>Nissan</td><td>Leaf</td><td>hatch</td><td>2013</td><td>13980.0</td></tr><tr><td>Nissan</td><td>Leaf</td><td>hatch</td><td>2013</td><td>17300.0</td></tr><tr><td>Volkswagen</td><td>Passat B6</td><td>sedan</td><td>2007</td><td>10700.0</td></tr><tr><td>Chrysler</td><td>Sebring</td><td>sedan</td><td>2008</td><td>13700.0</td></tr><tr><td>Jaguar</td><td>XF</td><td>sedan</td><td>2008</td><td>18777.0</td></tr><tr><td>Honda</td><td>Accord</td><td>sedan</td><td>2014</td><td>30000.0</td></tr><tr><td>Porsche</td><td>Cayenne</td><td>crossover</td><td>2008</td><td>26900.0</td></tr><tr><td>Toyota</td><td>Land Cruiser 200</td><td>crossover</td><td>2014</td><td>80000.0</td></tr><tr><td>Audi</td><td>Q7</td><td>crossover</td><td>2010</td><td>36000.0</td></tr><tr><td>Toyota</td><td>Land Cruiser 200</td><td>crossover</td><td>2016</td><td>103999.0</td></tr><tr><td>Toyota</td><td>Land Cruiser 200</td><td>crossover</td><td>2016</td><td>100000.0</td></tr><tr><td>Mercedes-Benz</td><td>Vito пасс.</td><td>other</td><td>2010</td><td>16500.0</td></tr><tr><td>Toyota</td><td>Camry</td><td>sedan</td><td>2008</td><td>15500.0</td></tr><tr><td>Mercedes-Benz</td><td>Vito пасс.</td><td>van</td><td>2007</td><td>10999.0</td></tr><tr><td>Audi</td><td>Q7</td><td>crossover</td><td>2015</td><td>88888.0</td></tr><tr><td>Mercedes-Benz</td><td>Vito пасс.</td><td>van</td><td>2009</td><td>16500.0</td></tr><tr><td>Volkswagen</td><td>Touareg</td><td>crossover</td><td>2007</td><td>17900.0</td></tr><tr><td>Mercedes-Benz</td><td>E-Class</td><td>sedan</td><td>2011</td><td>20400.0</td></tr><tr><td>Volkswagen</td><td>Touareg</td><td>crossover</td><td>2008</td><td>20000.0</td></tr><tr><td>BMW</td><td>530</td><td>sedan</td><td>2007</td><td>21000.0</td></tr><tr><td>Hyundai</td><td>Accent</td><td>sedan</td><td>2013</td><td>11800.0</td></tr><tr><td>Volkswagen</td><td>Touareg</td><td>crossover</td><td>2012</td><td>37990.0</td></tr><tr><td>Volkswagen</td><td>Touareg</td><td>crossover</td><td>2013</td><td>33500.0</td></tr><tr><td>Nissan</td><td>Leaf</td><td>hatch</td><td>2011</td><td>12400.0</td></tr><tr><td>Renault</td><td>Megane</td><td>vagon</td><td>2011</td><td>10500.0</td></tr><tr><td>Mercedes-Benz</td><td>E-Class</td><td>sedan</td><td>2011</td><td>20300.0</td></tr><tr><td>Audi</td><td>Q7</td><td>crossover</td><td>2008</td><td>18500.0</td></tr><tr><td>Toyota</td><td>Land Cruiser 200</td><td>crossover</td><td>2016</td><td>73900.0</td></tr><tr><td>Toyota</td><td>Land Cruiser Prado</td><td>crossover</td><td>2011</td><td>30500.0</td></tr><tr><td>Toyota</td><td>Land Cruiser Prado</td><td>crossover</td><td>2011</td><td>30800.0</td></tr><tr><td>Toyota</td><td>Land Cruiser Prado</td><td>crossover</td><td>2007</td><td>25500.0</td></tr><tr><td>Mercedes-Benz</td><td>E-Class</td><td>sedan</td><td>2012</td><td>29500.0</td></tr><tr><td>Toyota</td><td>Land Cruiser 200</td><td>crossover</td><td>2016</td><td>99999.0</td></tr><tr><td>Mercedes-Benz</td><td>GLS 350</td><td>crossover</td><td>2016</td><td>107999.0</td></tr><tr><td>Toyota</td><td>Land Cruiser 200</td><td>crossover</td><td>2016</td><td>74999.0</td></tr><tr><td>Audi</td><td>Q5</td><td>crossover</td><td>2013</td><td>34000.0</td></tr><tr><td>Volkswagen</td><td>Touareg</td><td>crossover</td><td>2007</td><td>16900.0</td></tr><tr><td>Toyota</td><td>Land Cruiser 200</td><td>crossover</td><td>2016</td><td>99999.0</td></tr><tr><td>Toyota</td><td>Land Cruiser Prado</td><td>crossover</td><td>2007</td><td>23400.0</td></tr><tr><td>Skoda</td><td>Superb</td><td>sedan</td><td>2013</td><td>17900.0</td></tr><tr><td>Toyota</td><td>Land Cruiser Prado</td><td>crossover</td><td>2013</td><td>37700.0</td></tr><tr><td>Land Rover</td><td>Range Rover Sport</td><td>crossover</td><td>2008</td><td>29500.0</td></tr><tr><td>Mercedes-Benz</td><td>GLS 350</td><td>crossover</td><td>2016</td><td>93555.0</td></tr><tr><td>Volkswagen</td><td>Passat B7</td><td>sedan</td><td>2013</td><td>30000.0</td></tr></tbody></table></div>"
      ]
     },
     "metadata": {
      "application/vnd.databricks.v1+output": {
       "addedWidgets": {},
       "aggData": [],
       "aggError": "",
       "aggOverflow": false,
       "aggSchema": [],
       "aggSeriesLimitReached": false,
       "aggType": "",
       "arguments": {},
       "columnCustomDisplayInfos": {},
       "data": [
        [
         "Ford",
         "Kuga",
         "crossover",
         2010,
         15500.0
        ],
        [
         "Mercedes-Benz",
         "E-Class",
         "sedan",
         2011,
         20500.0
        ],
        [
         "Mercedes-Benz",
         "CL 550",
         "other",
         2008,
         35000.0
        ],
        [
         "Mercedes-Benz",
         "B 180",
         "van",
         2012,
         17800.0
        ],
        [
         "Nissan",
         "X-Trail",
         "crossover",
         2013,
         16600.0
        ],
        [
         "Renault",
         "Megane",
         "vagon",
         2011,
         10500.0
        ],
        [
         "Mercedes-Benz",
         "E-Class",
         "sedan",
         2012,
         21500.0
        ],
        [
         "Mercedes-Benz",
         "E-Class",
         "sedan",
         2010,
         22700.0
        ],
        [
         "Nissan",
         "Qashqai",
         "crossover",
         2016,
         20447.154
        ],
        [
         "Mercedes-Benz",
         "E-Class",
         "sedan",
         2011,
         20400.0
        ],
        [
         "Mercedes-Benz",
         "E-Class",
         "sedan",
         2012,
         22500.0
        ],
        [
         "Mercedes-Benz",
         "E-Class",
         "sedan",
         2012,
         21500.0
        ],
        [
         "BMW",
         "750",
         "sedan",
         2006,
         19999.0
        ],
        [
         "BMW",
         "750",
         "sedan",
         2016,
         129222.0
        ],
        [
         "Mercedes-Benz",
         "GLE-Class",
         "crossover",
         2016,
         99999.0
        ],
        [
         "Nissan",
         "X-Trail",
         "crossover",
         2013,
         16600.0
        ],
        [
         "Porsche",
         "Cayenne",
         "crossover",
         2012,
         55000.0
        ],
        [
         "Kia",
         "Sportage",
         "crossover",
         2011,
         18000.0
        ],
        [
         "Kia",
         "Sportage",
         "crossover",
         2012,
         21700.0
        ],
        [
         "Honda",
         "Accord",
         "vagon",
         2011,
         18600.0
        ],
        [
         "Mercedes-Benz",
         "GLE-Class",
         "crossover",
         2016,
         104999.0
        ],
        [
         "Toyota",
         "Land Cruiser 200",
         "crossover",
         2016,
         195000.0
        ],
        [
         "Porsche",
         "Cayenne",
         "crossover",
         2011,
         49900.0
        ],
        [
         "Porsche",
         "Cayenne",
         "crossover",
         2013,
         50900.0
        ],
        [
         "Porsche",
         "Cayenne",
         "crossover",
         2016,
         99999.0
        ],
        [
         "Toyota",
         "Land Cruiser 200",
         "crossover",
         2016,
         102999.0
        ],
        [
         "Audi",
         "Q7",
         "crossover",
         2010,
         35900.0
        ],
        [
         "Honda",
         "Accord",
         "sedan",
         2009,
         16500.0
        ],
        [
         "Toyota",
         "Land Cruiser 200",
         "crossover",
         2016,
         103999.0
        ],
        [
         "Porsche",
         "Cayenne",
         "crossover",
         2013,
         114900.0
        ],
        [
         "Porsche",
         "Cayenne",
         "crossover",
         2008,
         26500.0
        ],
        [
         "Mitsubishi",
         "Outlander XL",
         "crossover",
         2007,
         12999.0
        ],
        [
         "Audi",
         "A6",
         "sedan",
         2012,
         37000.0
        ],
        [
         "Mercedes-Benz",
         "Sprinter 324 пасс.",
         "van",
         2013,
         200000.0
        ],
        [
         "Nissan",
         "Leaf",
         "hatch",
         2013,
         13275.0
        ],
        [
         "Mercedes-Benz",
         "E-Class",
         "sedan",
         2011,
         20400.0
        ],
        [
         "BMW",
         "520",
         "sedan",
         2016,
         39333.0
        ],
        [
         "Mercedes-Benz",
         "GLE-Class",
         "crossover",
         2016,
         99999.0
        ],
        [
         "Mercedes-Benz",
         "GLE-Class",
         "crossover",
         2016,
         70999.0
        ],
        [
         "BMW",
         "X5",
         "crossover",
         2016,
         63500.0
        ],
        [
         "BMW",
         "X5",
         "crossover",
         2016,
         59900.0
        ],
        [
         "Nissan",
         "Juke",
         "crossover",
         2015,
         20241.896
        ],
        [
         "Mercedes-Benz",
         "E-Class",
         "vagon",
         2008,
         14490.0
        ],
        [
         "Mercedes-Benz",
         "E-Class",
         "sedan",
         2011,
         31500.0
        ],
        [
         "Nissan",
         "Leaf",
         "hatch",
         2013,
         17000.0
        ],
        [
         "Mitsubishi",
         "Galant",
         "sedan",
         2009,
         12000.0
        ],
        [
         "Kia",
         "Sportage",
         "crossover",
         2016,
         20633.887
        ],
        [
         "BMW",
         "M5",
         "sedan",
         2013,
         73900.0
        ],
        [
         "Nissan",
         "X-Trail",
         "crossover",
         2016,
         26033.553
        ],
        [
         "BMW",
         "X5",
         "crossover",
         2016,
         104999.0
        ],
        [
         "BMW",
         "X5",
         "crossover",
         2016,
         66500.0
        ],
        [
         "BMW",
         "X5",
         "crossover",
         2016,
         65099.0
        ],
        [
         "BMW",
         "X5",
         "crossover",
         2007,
         23900.0
        ],
        [
         "Mercedes-Benz",
         "GLE-Class",
         "crossover",
         2016,
         69999.0
        ],
        [
         "BMW",
         "X5",
         "crossover",
         2014,
         66200.0
        ],
        [
         "BMW",
         "X5",
         "crossover",
         2015,
         63000.0
        ],
        [
         "Mercedes-Benz",
         "GLE-Class",
         "crossover",
         2016,
         105999.0
        ],
        [
         "Nissan",
         "Leaf",
         "hatch",
         2013,
         13980.0
        ],
        [
         "Nissan",
         "Leaf",
         "hatch",
         2013,
         17300.0
        ],
        [
         "Volkswagen",
         "Passat B6",
         "sedan",
         2007,
         10700.0
        ],
        [
         "Chrysler",
         "Sebring",
         "sedan",
         2008,
         13700.0
        ],
        [
         "Jaguar",
         "XF",
         "sedan",
         2008,
         18777.0
        ],
        [
         "Honda",
         "Accord",
         "sedan",
         2014,
         30000.0
        ],
        [
         "Porsche",
         "Cayenne",
         "crossover",
         2008,
         26900.0
        ],
        [
         "Toyota",
         "Land Cruiser 200",
         "crossover",
         2014,
         80000.0
        ],
        [
         "Audi",
         "Q7",
         "crossover",
         2010,
         36000.0
        ],
        [
         "Toyota",
         "Land Cruiser 200",
         "crossover",
         2016,
         103999.0
        ],
        [
         "Toyota",
         "Land Cruiser 200",
         "crossover",
         2016,
         100000.0
        ],
        [
         "Mercedes-Benz",
         "Vito пасс.",
         "other",
         2010,
         16500.0
        ],
        [
         "Toyota",
         "Camry",
         "sedan",
         2008,
         15500.0
        ],
        [
         "Mercedes-Benz",
         "Vito пасс.",
         "van",
         2007,
         10999.0
        ],
        [
         "Audi",
         "Q7",
         "crossover",
         2015,
         88888.0
        ],
        [
         "Mercedes-Benz",
         "Vito пасс.",
         "van",
         2009,
         16500.0
        ],
        [
         "Volkswagen",
         "Touareg",
         "crossover",
         2007,
         17900.0
        ],
        [
         "Mercedes-Benz",
         "E-Class",
         "sedan",
         2011,
         20400.0
        ],
        [
         "Volkswagen",
         "Touareg",
         "crossover",
         2008,
         20000.0
        ],
        [
         "BMW",
         "530",
         "sedan",
         2007,
         21000.0
        ],
        [
         "Hyundai",
         "Accent",
         "sedan",
         2013,
         11800.0
        ],
        [
         "Volkswagen",
         "Touareg",
         "crossover",
         2012,
         37990.0
        ],
        [
         "Volkswagen",
         "Touareg",
         "crossover",
         2013,
         33500.0
        ],
        [
         "Nissan",
         "Leaf",
         "hatch",
         2011,
         12400.0
        ],
        [
         "Renault",
         "Megane",
         "vagon",
         2011,
         10500.0
        ],
        [
         "Mercedes-Benz",
         "E-Class",
         "sedan",
         2011,
         20300.0
        ],
        [
         "Audi",
         "Q7",
         "crossover",
         2008,
         18500.0
        ],
        [
         "Toyota",
         "Land Cruiser 200",
         "crossover",
         2016,
         73900.0
        ],
        [
         "Toyota",
         "Land Cruiser Prado",
         "crossover",
         2011,
         30500.0
        ],
        [
         "Toyota",
         "Land Cruiser Prado",
         "crossover",
         2011,
         30800.0
        ],
        [
         "Toyota",
         "Land Cruiser Prado",
         "crossover",
         2007,
         25500.0
        ],
        [
         "Mercedes-Benz",
         "E-Class",
         "sedan",
         2012,
         29500.0
        ],
        [
         "Toyota",
         "Land Cruiser 200",
         "crossover",
         2016,
         99999.0
        ],
        [
         "Mercedes-Benz",
         "GLS 350",
         "crossover",
         2016,
         107999.0
        ],
        [
         "Toyota",
         "Land Cruiser 200",
         "crossover",
         2016,
         74999.0
        ],
        [
         "Audi",
         "Q5",
         "crossover",
         2013,
         34000.0
        ],
        [
         "Volkswagen",
         "Touareg",
         "crossover",
         2007,
         16900.0
        ],
        [
         "Toyota",
         "Land Cruiser 200",
         "crossover",
         2016,
         99999.0
        ],
        [
         "Toyota",
         "Land Cruiser Prado",
         "crossover",
         2007,
         23400.0
        ],
        [
         "Skoda",
         "Superb",
         "sedan",
         2013,
         17900.0
        ],
        [
         "Toyota",
         "Land Cruiser Prado",
         "crossover",
         2013,
         37700.0
        ],
        [
         "Land Rover",
         "Range Rover Sport",
         "crossover",
         2008,
         29500.0
        ],
        [
         "Mercedes-Benz",
         "GLS 350",
         "crossover",
         2016,
         93555.0
        ],
        [
         "Volkswagen",
         "Passat B7",
         "sedan",
         2013,
         30000.0
        ]
       ],
       "datasetInfos": [],
       "dbfsResultPath": null,
       "isJsonSchema": true,
       "metadata": {
        "isDbfsCommandResult": false
       },
       "overflow": false,
       "plotOptions": {
        "customPlotOptions": {},
        "displayType": "table",
        "pivotAggregation": null,
        "pivotColumns": null,
        "xColumns": null,
        "yColumns": null
       },
       "removedWidgets": [],
       "schema": [
        {
         "metadata": "{}",
         "name": "car",
         "type": "\"string\""
        },
        {
         "metadata": "{}",
         "name": "model",
         "type": "\"string\""
        },
        {
         "metadata": "{}",
         "name": "body",
         "type": "\"string\""
        },
        {
         "metadata": "{}",
         "name": "year",
         "type": "\"integer\""
        },
        {
         "metadata": "{}",
         "name": "price",
         "type": "\"float\""
        }
       ],
       "type": "table"
      }
     },
     "output_type": "display_data"
    }
   ],
   "source": [
    "car_stream_transformed_1 = car_stream_data.select(\"car\", \"model\", \"body\", \"year\", \"price\")\\\n",
    "    .where(\"price > 10000\")\n",
    "display(car_stream_transformed_1)"
   ]
  },
  {
   "cell_type": "code",
   "execution_count": 0,
   "metadata": {
    "application/vnd.databricks.v1+cell": {
     "cellMetadata": {
      "byteLimit": 2048000,
      "rowLimit": 10000
     },
     "inputWidgets": {},
     "nuid": "8ff2f397-1ac3-43c8-89b4-647de9264c54",
     "showTitle": false,
     "title": ""
    }
   },
   "outputs": [
    {
     "output_type": "display_data",
     "data": {
      "text/html": [
       "<style scoped>\n",
       "  .table-result-container {\n",
       "    max-height: 300px;\n",
       "    overflow: auto;\n",
       "  }\n",
       "  table, th, td {\n",
       "    border: 1px solid black;\n",
       "    border-collapse: collapse;\n",
       "  }\n",
       "  th, td {\n",
       "    padding: 5px;\n",
       "  }\n",
       "  th {\n",
       "    text-align: left;\n",
       "  }\n",
       "</style><div class='table-result-container'><table class='table-result'><thead style='background-color: white'><tr><th>car</th><th>model</th><th>body</th><th>year</th><th>price</th></tr></thead><tbody><tr><td>Mercedes-Benz</td><td>E-Class</td><td>sedan</td><td>2011</td><td>20500.0</td></tr><tr><td>Mercedes-Benz</td><td>B 180</td><td>van</td><td>2012</td><td>17800.0</td></tr><tr><td>Mercedes-Benz</td><td>E-Class</td><td>sedan</td><td>2012</td><td>21500.0</td></tr><tr><td>Mercedes-Benz</td><td>E-Class</td><td>sedan</td><td>2011</td><td>20400.0</td></tr><tr><td>Mercedes-Benz</td><td>E-Class</td><td>sedan</td><td>2012</td><td>22500.0</td></tr><tr><td>Mercedes-Benz</td><td>E-Class</td><td>sedan</td><td>2012</td><td>21500.0</td></tr><tr><td>BMW</td><td>750</td><td>sedan</td><td>2016</td><td>129222.0</td></tr><tr><td>Mercedes-Benz</td><td>GLE-Class</td><td>crossover</td><td>2016</td><td>99999.0</td></tr><tr><td>Mercedes-Benz</td><td>GLE-Class</td><td>crossover</td><td>2016</td><td>104999.0</td></tr><tr><td>Mercedes-Benz</td><td>Sprinter 324 пасс.</td><td>van</td><td>2013</td><td>200000.0</td></tr><tr><td>Mercedes-Benz</td><td>E-Class</td><td>sedan</td><td>2011</td><td>20400.0</td></tr><tr><td>BMW</td><td>520</td><td>sedan</td><td>2016</td><td>39333.0</td></tr><tr><td>Mercedes-Benz</td><td>GLE-Class</td><td>crossover</td><td>2016</td><td>99999.0</td></tr><tr><td>Mercedes-Benz</td><td>GLE-Class</td><td>crossover</td><td>2016</td><td>70999.0</td></tr><tr><td>BMW</td><td>X5</td><td>crossover</td><td>2016</td><td>63500.0</td></tr><tr><td>BMW</td><td>X5</td><td>crossover</td><td>2016</td><td>59900.0</td></tr><tr><td>Mercedes-Benz</td><td>E-Class</td><td>sedan</td><td>2011</td><td>31500.0</td></tr><tr><td>BMW</td><td>M5</td><td>sedan</td><td>2013</td><td>73900.0</td></tr><tr><td>BMW</td><td>X5</td><td>crossover</td><td>2016</td><td>104999.0</td></tr><tr><td>BMW</td><td>X5</td><td>crossover</td><td>2016</td><td>66500.0</td></tr><tr><td>BMW</td><td>X5</td><td>crossover</td><td>2016</td><td>65099.0</td></tr><tr><td>Mercedes-Benz</td><td>GLE-Class</td><td>crossover</td><td>2016</td><td>69999.0</td></tr><tr><td>BMW</td><td>X5</td><td>crossover</td><td>2014</td><td>66200.0</td></tr><tr><td>BMW</td><td>X5</td><td>crossover</td><td>2015</td><td>63000.0</td></tr><tr><td>Mercedes-Benz</td><td>GLE-Class</td><td>crossover</td><td>2016</td><td>105999.0</td></tr><tr><td>Mercedes-Benz</td><td>E-Class</td><td>sedan</td><td>2011</td><td>20400.0</td></tr><tr><td>Mercedes-Benz</td><td>E-Class</td><td>sedan</td><td>2011</td><td>20300.0</td></tr><tr><td>Mercedes-Benz</td><td>E-Class</td><td>sedan</td><td>2012</td><td>29500.0</td></tr><tr><td>Mercedes-Benz</td><td>GLS 350</td><td>crossover</td><td>2016</td><td>107999.0</td></tr><tr><td>Mercedes-Benz</td><td>GLS 350</td><td>crossover</td><td>2016</td><td>93555.0</td></tr></tbody></table></div>"
      ]
     },
     "metadata": {
      "application/vnd.databricks.v1+output": {
       "addedWidgets": {},
       "aggData": [],
       "aggError": "",
       "aggOverflow": false,
       "aggSchema": [],
       "aggSeriesLimitReached": false,
       "aggType": "",
       "arguments": {},
       "columnCustomDisplayInfos": {},
       "data": [
        [
         "Mercedes-Benz",
         "E-Class",
         "sedan",
         2011,
         20500.0
        ],
        [
         "Mercedes-Benz",
         "B 180",
         "van",
         2012,
         17800.0
        ],
        [
         "Mercedes-Benz",
         "E-Class",
         "sedan",
         2012,
         21500.0
        ],
        [
         "Mercedes-Benz",
         "E-Class",
         "sedan",
         2011,
         20400.0
        ],
        [
         "Mercedes-Benz",
         "E-Class",
         "sedan",
         2012,
         22500.0
        ],
        [
         "Mercedes-Benz",
         "E-Class",
         "sedan",
         2012,
         21500.0
        ],
        [
         "BMW",
         "750",
         "sedan",
         2016,
         129222.0
        ],
        [
         "Mercedes-Benz",
         "GLE-Class",
         "crossover",
         2016,
         99999.0
        ],
        [
         "Mercedes-Benz",
         "GLE-Class",
         "crossover",
         2016,
         104999.0
        ],
        [
         "Mercedes-Benz",
         "Sprinter 324 пасс.",
         "van",
         2013,
         200000.0
        ],
        [
         "Mercedes-Benz",
         "E-Class",
         "sedan",
         2011,
         20400.0
        ],
        [
         "BMW",
         "520",
         "sedan",
         2016,
         39333.0
        ],
        [
         "Mercedes-Benz",
         "GLE-Class",
         "crossover",
         2016,
         99999.0
        ],
        [
         "Mercedes-Benz",
         "GLE-Class",
         "crossover",
         2016,
         70999.0
        ],
        [
         "BMW",
         "X5",
         "crossover",
         2016,
         63500.0
        ],
        [
         "BMW",
         "X5",
         "crossover",
         2016,
         59900.0
        ],
        [
         "Mercedes-Benz",
         "E-Class",
         "sedan",
         2011,
         31500.0
        ],
        [
         "BMW",
         "M5",
         "sedan",
         2013,
         73900.0
        ],
        [
         "BMW",
         "X5",
         "crossover",
         2016,
         104999.0
        ],
        [
         "BMW",
         "X5",
         "crossover",
         2016,
         66500.0
        ],
        [
         "BMW",
         "X5",
         "crossover",
         2016,
         65099.0
        ],
        [
         "Mercedes-Benz",
         "GLE-Class",
         "crossover",
         2016,
         69999.0
        ],
        [
         "BMW",
         "X5",
         "crossover",
         2014,
         66200.0
        ],
        [
         "BMW",
         "X5",
         "crossover",
         2015,
         63000.0
        ],
        [
         "Mercedes-Benz",
         "GLE-Class",
         "crossover",
         2016,
         105999.0
        ],
        [
         "Mercedes-Benz",
         "E-Class",
         "sedan",
         2011,
         20400.0
        ],
        [
         "Mercedes-Benz",
         "E-Class",
         "sedan",
         2011,
         20300.0
        ],
        [
         "Mercedes-Benz",
         "E-Class",
         "sedan",
         2012,
         29500.0
        ],
        [
         "Mercedes-Benz",
         "GLS 350",
         "crossover",
         2016,
         107999.0
        ],
        [
         "Mercedes-Benz",
         "GLS 350",
         "crossover",
         2016,
         93555.0
        ]
       ],
       "datasetInfos": [],
       "dbfsResultPath": null,
       "isJsonSchema": true,
       "metadata": {
        "isDbfsCommandResult": false
       },
       "overflow": false,
       "plotOptions": {
        "customPlotOptions": {},
        "displayType": "table",
        "pivotAggregation": null,
        "pivotColumns": null,
        "xColumns": null,
        "yColumns": null
       },
       "removedWidgets": [],
       "schema": [
        {
         "metadata": "{}",
         "name": "car",
         "type": "\"string\""
        },
        {
         "metadata": "{}",
         "name": "model",
         "type": "\"string\""
        },
        {
         "metadata": "{}",
         "name": "body",
         "type": "\"string\""
        },
        {
         "metadata": "{}",
         "name": "year",
         "type": "\"integer\""
        },
        {
         "metadata": "{}",
         "name": "price",
         "type": "\"float\""
        }
       ],
       "type": "table"
      }
     },
     "output_type": "display_data"
    }
   ],
   "source": [
    "car_stream_transformed_2 = car_stream_transformed_1.select(\"*\")\\\n",
    "    .filter((car_stream_transformed_1[\"car\"].isin([\"Mercedes-Benz\", \"BMW\"])) &\n",
    "          (car_stream_transformed_1[\"year\"] > 2010)\n",
    "    )\n",
    "\n",
    "display(car_stream_transformed_2)"
   ]
  },
  {
   "cell_type": "code",
   "execution_count": 0,
   "metadata": {
    "application/vnd.databricks.v1+cell": {
     "cellMetadata": {
      "byteLimit": 2048000,
      "rowLimit": 10000
     },
     "inputWidgets": {},
     "nuid": "7ac67d23-9cf2-4b0b-a452-07faf1e0bdf9",
     "showTitle": false,
     "title": ""
    }
   },
   "outputs": [
    {
     "output_type": "display_data",
     "data": {
      "text/html": [
       "<style scoped>\n",
       "  .table-result-container {\n",
       "    max-height: 300px;\n",
       "    overflow: auto;\n",
       "  }\n",
       "  table, th, td {\n",
       "    border: 1px solid black;\n",
       "    border-collapse: collapse;\n",
       "  }\n",
       "  th, td {\n",
       "    padding: 5px;\n",
       "  }\n",
       "  th {\n",
       "    text-align: left;\n",
       "  }\n",
       "</style><div class='table-result-container'><table class='table-result'><thead style='background-color: white'><tr><th>year</th><th>total</th></tr></thead><tbody><tr><td>2015</td><td>1</td></tr><tr><td>2013</td><td>2</td></tr><tr><td>2014</td><td>1</td></tr><tr><td>2012</td><td>5</td></tr><tr><td>2016</td><td>15</td></tr><tr><td>2011</td><td>6</td></tr></tbody></table></div>"
      ]
     },
     "metadata": {
      "application/vnd.databricks.v1+output": {
       "addedWidgets": {},
       "aggData": [],
       "aggError": "",
       "aggOverflow": false,
       "aggSchema": [],
       "aggSeriesLimitReached": false,
       "aggType": "",
       "arguments": {},
       "columnCustomDisplayInfos": {},
       "data": [
        [
         2015,
         1
        ],
        [
         2013,
         2
        ],
        [
         2014,
         1
        ],
        [
         2012,
         5
        ],
        [
         2016,
         15
        ],
        [
         2011,
         6
        ]
       ],
       "datasetInfos": [],
       "dbfsResultPath": null,
       "isJsonSchema": true,
       "metadata": {
        "isDbfsCommandResult": false
       },
       "overflow": false,
       "plotOptions": {
        "customPlotOptions": {},
        "displayType": "table",
        "pivotAggregation": null,
        "pivotColumns": null,
        "xColumns": null,
        "yColumns": null
       },
       "removedWidgets": [],
       "schema": [
        {
         "metadata": "{}",
         "name": "year",
         "type": "\"integer\""
        },
        {
         "metadata": "{}",
         "name": "total",
         "type": "\"long\""
        }
       ],
       "type": "table"
      }
     },
     "output_type": "display_data"
    }
   ],
   "source": [
    "car_stream_transformed_3 = car_stream_transformed_2.select(\"*\")\\\n",
    "    .groupBy(\"year\")\\\n",
    "        .count()\\\n",
    "            .withColumnRenamed(\"count\", \"total\")\n",
    "\n",
    "display(car_stream_transformed_3)"
   ]
  },
  {
   "cell_type": "code",
   "execution_count": 0,
   "metadata": {
    "application/vnd.databricks.v1+cell": {
     "cellMetadata": {
      "byteLimit": 2048000,
      "rowLimit": 10000
     },
     "inputWidgets": {},
     "nuid": "3ebfcc4a-465c-444d-8464-2b4972d7f112",
     "showTitle": false,
     "title": ""
    }
   },
   "outputs": [
    {
     "output_type": "display_data",
     "data": {
      "text/html": [
       "<style scoped>\n",
       "  .table-result-container {\n",
       "    max-height: 300px;\n",
       "    overflow: auto;\n",
       "  }\n",
       "  table, th, td {\n",
       "    border: 1px solid black;\n",
       "    border-collapse: collapse;\n",
       "  }\n",
       "  th, td {\n",
       "    padding: 5px;\n",
       "  }\n",
       "  th {\n",
       "    text-align: left;\n",
       "  }\n",
       "</style><div class='table-result-container'><table class='table-result'><thead style='background-color: white'><tr><th>body</th><th>total</th><th>price_avg</th></tr></thead><tbody><tr><td>van</td><td>2</td><td>108900.0</td></tr><tr><td>crossover</td><td>15</td><td>82849.73333333334</td></tr><tr><td>sedan</td><td>13</td><td>36227.307692307695</td></tr></tbody></table></div>"
      ]
     },
     "metadata": {
      "application/vnd.databricks.v1+output": {
       "addedWidgets": {},
       "aggData": [],
       "aggError": "",
       "aggOverflow": false,
       "aggSchema": [],
       "aggSeriesLimitReached": false,
       "aggType": "",
       "arguments": {},
       "columnCustomDisplayInfos": {},
       "data": [
        [
         "van",
         2,
         108900.0
        ],
        [
         "crossover",
         15,
         82849.73333333334
        ],
        [
         "sedan",
         13,
         36227.307692307695
        ]
       ],
       "datasetInfos": [],
       "dbfsResultPath": null,
       "isJsonSchema": true,
       "metadata": {
        "isDbfsCommandResult": false
       },
       "overflow": false,
       "plotOptions": {
        "customPlotOptions": {},
        "displayType": "table",
        "pivotAggregation": null,
        "pivotColumns": null,
        "xColumns": null,
        "yColumns": null
       },
       "removedWidgets": [],
       "schema": [
        {
         "metadata": "{}",
         "name": "body",
         "type": "\"string\""
        },
        {
         "metadata": "{}",
         "name": "total",
         "type": "\"long\""
        },
        {
         "metadata": "{}",
         "name": "price_avg",
         "type": "\"double\""
        }
       ],
       "type": "table"
      }
     },
     "output_type": "display_data"
    }
   ],
   "source": [
    "car_stream_transformed_4 = car_stream_transformed_2.select(\"*\")\\\n",
    "    .groupBy(\"body\")\\\n",
    "        .agg({\"price\":\"avg\", \"year\":\"count\"})\\\n",
    "            .withColumnRenamed(\"count(year)\", \"total\")\\\n",
    "                .withColumnRenamed(\"avg(price)\", \"price_avg\")\n",
    "\n",
    "display(car_stream_transformed_4)"
   ]
  },
  {
   "cell_type": "code",
   "execution_count": 0,
   "metadata": {
    "application/vnd.databricks.v1+cell": {
     "cellMetadata": {},
     "inputWidgets": {},
     "nuid": "94f059ec-e0d5-4b2a-af94-35fa79248753",
     "showTitle": false,
     "title": ""
    }
   },
   "outputs": [],
   "source": [
    "\"\"\"\n",
    "                conclusion:\n",
    "- the transformation you make on batch data, also the same on stream data\n",
    "- practice to add new stream data into sub dir \"car_source_stream\", and monitor the updated results of your transformations\n",
    "\"\"\""
   ]
  }
 ],
 "metadata": {
  "application/vnd.databricks.v1+notebook": {
   "dashboards": [],
   "language": "python",
   "notebookMetadata": {
    "pythonIndentUnit": 4
   },
   "notebookName": "StreamingTransformation",
   "widgets": {}
  }
 },
 "nbformat": 4,
 "nbformat_minor": 0
}
