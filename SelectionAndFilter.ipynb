{
 "cells": [
  {
   "cell_type": "code",
   "execution_count": 0,
   "metadata": {
    "application/vnd.databricks.v1+cell": {
     "cellMetadata": {
      "byteLimit": 2048000,
      "rowLimit": 10000
     },
     "inputWidgets": {},
     "nuid": "5ddcd8a3-328e-47d1-b3da-0a2b5e1b1181",
     "showTitle": false,
     "title": ""
    }
   },
   "outputs": [],
   "source": [
    "credit_data = spark.read.format(\"csv\")\\\n",
    ".option(\"header\", \"true\")\\\n",
    ".load(\"dbfs:/FileStore/shared_uploads/999tasneemahmed@gmail.com/credit_train.csv\")"
   ]
  },
  {
   "cell_type": "code",
   "execution_count": 0,
   "metadata": {
    "application/vnd.databricks.v1+cell": {
     "cellMetadata": {
      "byteLimit": 2048000,
      "rowLimit": 10000
     },
     "inputWidgets": {},
     "nuid": "592426e2-65b1-43d6-a380-50863abdce43",
     "showTitle": false,
     "title": ""
    }
   },
   "outputs": [
    {
     "output_type": "execute_result",
     "data": {
      "text/plain": [
       "100000"
      ]
     },
     "execution_count": 9,
     "metadata": {},
     "output_type": "execute_result"
    }
   ],
   "source": [
    "#perform action of count results\n",
    "credit_data.count()"
   ]
  },
  {
   "cell_type": "code",
   "execution_count": 0,
   "metadata": {
    "application/vnd.databricks.v1+cell": {
     "cellMetadata": {
      "byteLimit": 2048000,
      "rowLimit": 10000
     },
     "inputWidgets": {},
     "nuid": "2a8d3f34-ec0d-42af-a9f6-90cde5603cba",
     "showTitle": false,
     "title": ""
    }
   },
   "outputs": [
    {
     "output_type": "stream",
     "name": "stdout",
     "output_type": "stream",
     "text": [
      "+-----------+-------------------+-------------+\n|Loan Status|Current Loan Amount|Annual Income|\n+-----------+-------------------+-------------+\n| Fully Paid|             445412|      1167493|\n| Fully Paid|             262328|         null|\n| Fully Paid|           99999999|      2231892|\n| Fully Paid|             347666|       806949|\n| Fully Paid|             176220|         null|\n|Charged Off|             206602|       896857|\n| Fully Paid|             217646|      1184194|\n|Charged Off|             648714|         null|\n| Fully Paid|             548746|      2559110|\n| Fully Paid|             215952|      1454735|\n| Fully Paid|           99999999|       714628|\n| Fully Paid|             541970|         null|\n| Fully Paid|           99999999|       776188|\n| Fully Paid|           99999999|      1560907|\n| Fully Paid|             234124|       693234|\n| Fully Paid|             449020|         null|\n|Charged Off|             653004|         null|\n| Fully Paid|             666204|      1821967|\n| Fully Paid|              66396|         null|\n| Fully Paid|             390390|      1791738|\n+-----------+-------------------+-------------+\nonly showing top 20 rows\n\n"
     ]
    }
   ],
   "source": [
    "#select specific columns then show\n",
    "credit_data.select('Loan Status','Current Loan Amount', 'Annual Income')\\\n",
    "    .show()"
   ]
  },
  {
   "cell_type": "code",
   "execution_count": 0,
   "metadata": {
    "application/vnd.databricks.v1+cell": {
     "cellMetadata": {
      "byteLimit": 2048000,
      "rowLimit": 10000
     },
     "inputWidgets": {},
     "nuid": "f663862e-e2d0-4e4b-ac0e-448be8fea4da",
     "showTitle": false,
     "title": ""
    }
   },
   "outputs": [
    {
     "output_type": "stream",
     "name": "stdout",
     "output_type": "stream",
     "text": [
      "+-----------+-------------------+-------------+\n|Loan Status|Current Loan Amount|Annual Income|\n+-----------+-------------------+-------------+\n| Fully Paid|             445412|      1167493|\n| Fully Paid|             262328|         null|\n| Fully Paid|           99999999|      2231892|\n| Fully Paid|             347666|       806949|\n| Fully Paid|             176220|         null|\n|Charged Off|             206602|       896857|\n| Fully Paid|             217646|      1184194|\n|Charged Off|             648714|         null|\n| Fully Paid|             548746|      2559110|\n| Fully Paid|             215952|      1454735|\n+-----------+-------------------+-------------+\n\n"
     ]
    }
   ],
   "source": [
    "#select specific columns with limited 10 rows then show\n",
    "credit_data.select('Loan Status','Current Loan Amount', 'Annual Income')\\\n",
    "    .limit(10)\\\n",
    "        .show()"
   ]
  },
  {
   "cell_type": "code",
   "execution_count": 0,
   "metadata": {
    "application/vnd.databricks.v1+cell": {
     "cellMetadata": {
      "byteLimit": 2048000,
      "rowLimit": 10000
     },
     "inputWidgets": {},
     "nuid": "30f63d78-a70c-4093-916d-e09fecd2c6cd",
     "showTitle": false,
     "title": ""
    }
   },
   "outputs": [
    {
     "output_type": "stream",
     "name": "stdout",
     "output_type": "stream",
     "text": [
      "+--------------------+--------------------+-----------+-------------------+----------+------------+-------------+--------------------+--------------+------------------+------------+-----------------------+----------------------------+-----------------------+-------------------------+----------------------+-------------------+------------+---------+\n|             Loan ID|         Customer ID|Loan Status|Current Loan Amount|      Term|Credit Score|Annual Income|Years in current job|Home Ownership|           Purpose|Monthly Debt|Years of Credit History|Months since last delinquent|Number of Open Accounts|Number of Credit Problems|Current Credit Balance|Maximum Open Credit|Bankruptcies|Tax Liens|\n+--------------------+--------------------+-----------+-------------------+----------+------------+-------------+--------------------+--------------+------------------+------------+-----------------------+----------------------------+-----------------------+-------------------------+----------------------+-------------------+------------+---------+\n|4771cc26-131a-45d...|2de017a3-2e01-49c...| Fully Paid|             262328|Short Term|        null|         null|           10+ years| Home Mortgage|Debt Consolidation|    33295.98|                   21.1|                           8|                     35|                        0|                229976|             850784|           0|        0|\n|d4062e70-befa-499...|81536ad9-5ccf-4eb...| Fully Paid|             176220|Short Term|        null|         null|             5 years|          Rent|Debt Consolidation|     20639.7|                    6.1|                          NA|                     15|                        0|                253460|             427174|           0|        0|\n|db0dc6e1-77ee-482...|018973c9-e316-495...|Charged Off|             648714| Long Term|        null|         null|            < 1 year| Home Mortgage|         Buy House|    14806.13|                    8.2|                           8|                     15|                        0|                193306|             864204|           0|        0|\n|fa096848-6143-490...|aa0a6a22-a95e-48e...| Fully Paid|             541970|Short Term|        null|         null|           10+ years| Home Mortgage| Home Improvements|    23568.55|                   23.2|                          NA|                     23|                        0|                 60705|            1634468|           0|        0|\n|7cbaa3fa-16fd-434...|3ec886e7-f15d-4c3...| Fully Paid|             449020| Long Term|        null|         null|             9 years|      Own Home|Debt Consolidation|    18904.81|                   19.4|                          NA|                      8|                        0|                334533|             428956|           0|        0|\n|c9a16a9d-8801-443...|abb4c446-08ea-49f...|Charged Off|             653004| Long Term|        null|         null|             7 years| Home Mortgage|Debt Consolidation|    14537.09|                   20.5|                          NA|                      9|                        0|                302309|             413754|           0|        0|\n|c6be21f0-80b1-46b...|c67b2cb5-9f91-4bc...| Fully Paid|              66396|Short Term|        null|         null|           10+ years|          Rent|Debt Consolidation|     9898.81|                   27.1|                          NA|                     23|                        1|                  9728|             402380|           1|        0|\n|dcf093ca-d26b-485...|5129cffc-68a1-4dd...| Fully Paid|             107404|Short Term|        null|         null|                 n/a| Home Mortgage|             other|    19238.07|                   43.7|                          NA|                      5|                        0|                 28956|              58014|           0|        0|\n|83ad0662-ef2d-473...|2d53b50a-30a2-488...| Fully Paid|             109318| Long Term|        null|         null|           10+ years| Home Mortgage|         Buy a Car|     15524.9|                   22.7|                          NA|                      9|                        0|                 77121|             920524|           0|        0|\n|03e3a77a-fa93-489...|dedbd71d-dabd-4c6...|Charged Off|             259842|Short Term|        null|         null|             8 years| Home Mortgage|Debt Consolidation|    11792.73|                   20.6|                          34|                      9|                        0|                401584|             708818|           0|        0|\n|38025238-198c-425...|33ca84d6-61ab-4e1...| Fully Paid|             210166|Short Term|        null|         null|             2 years|          Rent|Debt Consolidation|    13084.54|                     14|                          20|                     10|                        0|                314336|             483362|           0|        0|\n|dc17c812-a350-459...|847e2dfa-a44c-4ec...| Fully Paid|             327008| Long Term|        null|         null|             4 years| Home Mortgage|Debt Consolidation|    15419.45|                   16.7|                          24|                     13|                        0|                268090|             529738|           0|        0|\n|b41e7075-f499-431...|06d6c4a1-7a06-41c...|Charged Off|             214874|Short Term|        null|         null|             2 years|          Rent|Debt Consolidation|    20322.78|                   15.6|                          69|                      8|                        0|                285589|             402776|           0|        0|\n|6aca03a8-c5b2-401...|1902ebd8-4ffa-418...| Fully Paid|             152548|Short Term|        null|         null|             7 years| Home Mortgage|Debt Consolidation|    19164.54|                   12.1|                          26|                     22|                        0|                120916|             946000|           0|        0|\n|8196d772-1651-4a4...|fef3362a-2732-452...|Charged Off|             751520| Long Term|        null|         null|             6 years| Home Mortgage|Debt Consolidation|    27204.01|                   20.5|                          48|                     19|                        0|                483968|             594880|           0|        0|\n|71e2f337-7a44-43c...|6ae17645-6b2a-408...| Fully Paid|             289388|Short Term|        null|         null|             7 years| Home Mortgage|Debt Consolidation|      9758.4|                     16|                          NA|                     12|                        0|                439033|            1735030|           0|        0|\n|f41d9a21-d501-46d...|6e8df64b-1404-4c9...|Charged Off|             133034|Short Term|        null|         null|             5 years|      Own Home|             other|    30520.46|                   13.8|                          NA|                     23|                        0|                113278|            1561406|           0|        0|\n|747a1799-0cee-4e9...|d80034d4-37b2-438...| Fully Paid|             444620|Short Term|        null|         null|             2 years| Home Mortgage| Home Improvements|    15292.34|                   11.8|                          NA|                      9|                        0|                373350|             522742|           0|        0|\n|374bba0a-c0fe-46b...|64f770d8-dec2-42e...| Fully Paid|             479358|Short Term|        null|         null|           10+ years|          Rent|Debt Consolidation|    22659.59|                   22.4|                          41|                     13|                        0|                807462|            1391302|           0|        0|\n|bbde2bed-dc43-409...|4da78dcb-83c2-433...| Fully Paid|             336908|Short Term|        null|         null|           10+ years|          Rent|Debt Consolidation|     6652.47|                   29.1|                          NA|                      8|                        0|                277419|            1119250|           0|        0|\n+--------------------+--------------------+-----------+-------------------+----------+------------+-------------+--------------------+--------------+------------------+------------+-----------------------+----------------------------+-----------------------+-------------------------+----------------------+-------------------+------------+---------+\nonly showing top 20 rows\n\n"
     ]
    }
   ],
   "source": [
    "#filter rows which has Annual Income has null values\n",
    "credit_data.filter(credit_data['Annual Income'].isNull())\\\n",
    "    .show()"
   ]
  },
  {
   "cell_type": "code",
   "execution_count": 0,
   "metadata": {
    "application/vnd.databricks.v1+cell": {
     "cellMetadata": {
      "byteLimit": 2048000,
      "rowLimit": 10000
     },
     "inputWidgets": {},
     "nuid": "0cfa9394-df54-4a3c-95c1-30f87dce7f4f",
     "showTitle": false,
     "title": ""
    }
   },
   "outputs": [
    {
     "output_type": "execute_result",
     "data": {
      "text/plain": [
       "80845"
      ]
     },
     "execution_count": 17,
     "metadata": {},
     "output_type": "execute_result"
    }
   ],
   "source": [
    "#count of records have no value\n",
    "credit_data.dropna().count()"
   ]
  },
  {
   "cell_type": "code",
   "execution_count": 0,
   "metadata": {
    "application/vnd.databricks.v1+cell": {
     "cellMetadata": {
      "byteLimit": 2048000,
      "rowLimit": 10000
     },
     "inputWidgets": {},
     "nuid": "d003bf2e-c361-4082-9361-2ccf23eeab7f",
     "showTitle": false,
     "title": ""
    }
   },
   "outputs": [
    {
     "output_type": "stream",
     "name": "stdout",
     "output_type": "stream",
     "text": [
      "+--------------------+-------------+--------------+------------+\n|         Customer ID|Annual Income|Home Ownership|Bankruptcies|\n+--------------------+-------------+--------------+------------+\n|981165ec-3274-42f...|      1167493| Home Mortgage|           1|\n|90a75dde-34d5-419...|      1184194| Home Mortgage|           1|\n|900c9191-2c20-468...|      1560907|          Rent|           1|\n|2ac05980-7848-469...|       693234|          Rent|           1|\n|c67b2cb5-9f91-4bc...|         null|          Rent|           1|\n|1c9b6b3e-060d-4a7...|       524609|          Rent|           1|\n|0c0f26c2-c4c9-4f6...|      2048618| Home Mortgage|           1|\n|c2fe5a7f-9826-48a...|       947625|          Rent|           1|\n|55012e48-1a72-460...|      4776125| Home Mortgage|           1|\n|377a2055-0d25-4dd...|      1212238|          Rent|           1|\n|d110ff2c-c936-487...|       895147|          Rent|           1|\n|f0d6b352-bcf0-411...|       671080|          Rent|           1|\n|4bf2f68f-20e5-44c...|      1816001|          Rent|           1|\n|886e3ac5-357d-42a...|       787626|          Rent|           1|\n|ee43e681-9eca-4f0...|      1138518|          Rent|           1|\n|76c63206-8f06-45f...|      1048363|          Rent|           1|\n|7391b4e2-f7fe-41d...|       756352| Home Mortgage|           1|\n|64dcd3aa-3c82-4c7...|       866799| Home Mortgage|           2|\n|9a378a11-d17c-486...|         null| Home Mortgage|           1|\n|0c83cac3-592e-4d3...|         null| Home Mortgage|           1|\n+--------------------+-------------+--------------+------------+\nonly showing top 20 rows\n\n"
     ]
    }
   ],
   "source": [
    "credit_data.select('Customer ID', 'Annual Income', 'Home Ownership', 'Bankruptcies')\\\n",
    "    .where(credit_data.Bankruptcies >0)\\\n",
    "    .show()"
   ]
  },
  {
   "cell_type": "code",
   "execution_count": 0,
   "metadata": {
    "application/vnd.databricks.v1+cell": {
     "cellMetadata": {
      "byteLimit": 2048000,
      "rowLimit": 10000
     },
     "inputWidgets": {},
     "nuid": "dab04bc0-116e-410c-a5be-40b96d03dbed",
     "showTitle": false,
     "title": ""
    }
   },
   "outputs": [
    {
     "output_type": "stream",
     "name": "stdout",
     "output_type": "stream",
     "text": [
      "+--------------------+-------------+---------+\n|         Customer ID|Annual Income|Tax Liens|\n+--------------------+-------------+---------+\n|54f57722-2473-4dd...|      1249953|        1|\n|d377d2ea-5cf8-4ee...|       719910|        1|\n|403bdb3c-e326-417...|       315666|        2|\n|68b77d5b-94b9-46b...|       562419|        1|\n|ee5f9ebe-0bc7-4be...|      1634323|        1|\n|19542fc0-6f7e-4e8...|      1409610|        4|\n|a239a831-642f-4cf...|      1264602|        2|\n|42790d99-2adc-4ee...|       502892|        1|\n|d532715b-a0ea-4ce...|       925946|        1|\n|8059ca3a-ca55-4be...|      1157328|        2|\n|21fd514c-1391-4f7...|       594301|        3|\n|46918079-5f39-4ca...|      3562348|        1|\n|35d100c3-3fac-42f...|      2299836|        1|\n|4f8a034b-1384-48e...|      7669160|        1|\n|c0342d1a-fe13-4cc...|       954750|        1|\n|12f7d0e9-66be-4a6...|      1292095|        1|\n|cf1765cc-be60-4fe...|      1175929|        1|\n|d2592b4e-f032-42c...|      1340222|        4|\n|a3e9cb3b-5724-402...|       561450|        3|\n|840763ec-bdab-4bb...|       903982|        1|\n+--------------------+-------------+---------+\nonly showing top 20 rows\n\n"
     ]
    }
   ],
   "source": [
    "credit_data.select('Customer ID', 'Annual Income', 'Tax Liens')\\\n",
    "    .filter((credit_data['Annual Income']>100000) & (credit_data['Tax Liens']>0))\\\n",
    "    .show()"
   ]
  },
  {
   "cell_type": "code",
   "execution_count": 0,
   "metadata": {
    "application/vnd.databricks.v1+cell": {
     "cellMetadata": {
      "byteLimit": 2048000,
      "rowLimit": 10000
     },
     "inputWidgets": {},
     "nuid": "0c64399e-95a1-48cd-9227-3bafe388f54c",
     "showTitle": false,
     "title": ""
    }
   },
   "outputs": [
    {
     "output_type": "stream",
     "name": "stdout",
     "output_type": "stream",
     "text": [
      "+--------------------+--------------+\n|         Customer ID|Home Ownership|\n+--------------------+--------------+\n|981165ec-3274-42f...| Home Mortgage|\n|2de017a3-2e01-49c...| Home Mortgage|\n|81536ad9-5ccf-4eb...|          Rent|\n|4ffe99d3-7f2a-44d...| Home Mortgage|\n|90a75dde-34d5-419...| Home Mortgage|\n|018973c9-e316-495...| Home Mortgage|\n|af534dea-d27e-4fd...|          Rent|\n|235c4a43-dadf-483...|          Rent|\n|0de7bcdb-ebf4-460...|          Rent|\n|aa0a6a22-a95e-48e...| Home Mortgage|\n|900c9191-2c20-468...|          Rent|\n|2ac05980-7848-469...|          Rent|\n|abb4c446-08ea-49f...| Home Mortgage|\n|967e8733-7189-49b...| Home Mortgage|\n|c67b2cb5-9f91-4bc...|          Rent|\n|422f9b72-5041-407...| Home Mortgage|\n|40f729c9-54c7-476...|          Rent|\n|016c5139-4da2-44b...|          Rent|\n|5b53e176-8fc7-48b...|          Rent|\n|eb166545-76e5-43a...| Home Mortgage|\n+--------------------+--------------+\nonly showing top 20 rows\n\n"
     ]
    }
   ],
   "source": [
    "credit_data.select('Customer ID', 'Home Ownership')\\\n",
    "    .filter(credit_data['Home Ownership'].isin(['Home Mortgage', 'Rent']))\\\n",
    "        .show()"
   ]
  },
  {
   "cell_type": "code",
   "execution_count": 0,
   "metadata": {
    "application/vnd.databricks.v1+cell": {
     "cellMetadata": {
      "byteLimit": 2048000,
      "rowLimit": 10000
     },
     "inputWidgets": {},
     "nuid": "c64262bb-ce6f-4b65-876c-8238b100e5ac",
     "showTitle": false,
     "title": ""
    }
   },
   "outputs": [
    {
     "output_type": "stream",
     "name": "stdout",
     "output_type": "stream",
     "text": [
      "+--------------------+-------+------------+\n|         Customer ID| Income|Monthly Debt|\n+--------------------+-------+------------+\n|981165ec-3274-42f...|1167493|     5214.74|\n|2de017a3-2e01-49c...|   null|    33295.98|\n|5efb2b2b-bf11-4df...|2231892|    29200.53|\n|e777faab-98ae-45a...| 806949|      8741.9|\n|81536ad9-5ccf-4eb...|   null|     20639.7|\n|4ffe99d3-7f2a-44d...| 896857|    16367.74|\n|90a75dde-34d5-419...|1184194|    10855.08|\n|018973c9-e316-495...|   null|    14806.13|\n|af534dea-d27e-4fd...|2559110|    18660.28|\n|235c4a43-dadf-483...|1454735|    39277.75|\n|0de7bcdb-ebf4-460...| 714628|    11851.06|\n|aa0a6a22-a95e-48e...|   null|    23568.55|\n|11581f68-de3c-49d...| 776188|    11578.22|\n|900c9191-2c20-468...|1560907|    17560.37|\n|2ac05980-7848-469...| 693234|    14211.24|\n|3ec886e7-f15d-4c3...|   null|    18904.81|\n|abb4c446-08ea-49f...|   null|    14537.09|\n|967e8733-7189-49b...|1821967|    17612.24|\n|c67b2cb5-9f91-4bc...|   null|     9898.81|\n|422f9b72-5041-407...|1791738|     2478.55|\n+--------------------+-------+------------+\nonly showing top 20 rows\n\n"
     ]
    }
   ],
   "source": [
    "#change the columns names: old one with new one\n",
    "credit_data.select('Customer ID', 'Annual Income', 'Monthly Debt')\\\n",
    "    .withColumnRenamed('Annual Income', 'Income')\\\n",
    "        .withColumnRenamed('Monthly Dept', 'Monthly Dept Payment')\\\n",
    "            .show()"
   ]
  },
  {
   "cell_type": "code",
   "execution_count": 0,
   "metadata": {
    "application/vnd.databricks.v1+cell": {
     "cellMetadata": {
      "byteLimit": 2048000,
      "rowLimit": 10000
     },
     "inputWidgets": {},
     "nuid": "a5198083-6344-496c-9f3b-483e65b70b5c",
     "showTitle": false,
     "title": ""
    }
   },
   "outputs": [
    {
     "output_type": "stream",
     "name": "stdout",
     "output_type": "stream",
     "text": [
      "+--------------------+-------------+------------+------------------+\n|         Customer ID|Annual Income|Monthly Debt|            Saving|\n+--------------------+-------------+------------+------------------+\n|981165ec-3274-42f...|      1167493|     5214.74|        1104916.12|\n|2de017a3-2e01-49c...|         null|    33295.98|              null|\n|5efb2b2b-bf11-4df...|      2231892|    29200.53|1881485.6400000001|\n|e777faab-98ae-45a...|       806949|      8741.9|          702046.2|\n|81536ad9-5ccf-4eb...|         null|     20639.7|              null|\n|4ffe99d3-7f2a-44d...|       896857|    16367.74|         700444.12|\n|90a75dde-34d5-419...|      1184194|    10855.08|        1053933.04|\n|018973c9-e316-495...|         null|    14806.13|              null|\n|af534dea-d27e-4fd...|      2559110|    18660.28|        2335186.64|\n|235c4a43-dadf-483...|      1454735|    39277.75|          983402.0|\n|0de7bcdb-ebf4-460...|       714628|    11851.06|         572415.28|\n|aa0a6a22-a95e-48e...|         null|    23568.55|              null|\n|11581f68-de3c-49d...|       776188|    11578.22|         637249.36|\n|900c9191-2c20-468...|      1560907|    17560.37|        1350182.56|\n|2ac05980-7848-469...|       693234|    14211.24|         522699.12|\n|3ec886e7-f15d-4c3...|         null|    18904.81|              null|\n|abb4c446-08ea-49f...|         null|    14537.09|              null|\n|967e8733-7189-49b...|      1821967|    17612.24|        1610620.12|\n|c67b2cb5-9f91-4bc...|         null|     9898.81|              null|\n|422f9b72-5041-407...|      1791738|     2478.55|         1761995.4|\n+--------------------+-------------+------------+------------------+\nonly showing top 20 rows\n\n"
     ]
    }
   ],
   "source": [
    "#add new column saving\n",
    "credit_data.select('Customer ID', 'Annual Income', 'Monthly Debt')\\\n",
    "    .withColumn('Saving', credit_data['Annual Income']-12 * credit_data['Monthly Debt'])\\\n",
    "        .show()"
   ]
  },
  {
   "cell_type": "code",
   "execution_count": 0,
   "metadata": {
    "application/vnd.databricks.v1+cell": {
     "cellMetadata": {
      "byteLimit": 2048000,
      "rowLimit": 10000
     },
     "inputWidgets": {},
     "nuid": "e90a6a19-0ab4-4579-9207-68074ec7eb79",
     "showTitle": false,
     "title": ""
    }
   },
   "outputs": [
    {
     "output_type": "stream",
     "name": "stdout",
     "output_type": "stream",
     "text": [
      "+--------------------+-------------+------------+\n|         Customer ID|Annual Income|Monthly Debt|\n+--------------------+-------------+------------+\n|fc81f2cd-6a0e-4b1...|       621737|      9999.7|\n|fc81f2cd-6a0e-4b1...|       621737|      9999.7|\n|d421f755-d874-4b4...|       959975|      9999.7|\n|c129af30-6b62-4d6...|       602965|     9998.94|\n|c129af30-6b62-4d6...|       602965|     9998.94|\n|d2b31c0b-48a2-46e...|         null|     9998.75|\n|0cb843b3-0813-4d6...|       839021|     9998.18|\n|7d5d608b-e3c6-491...|       764180|     9997.99|\n|7d5d608b-e3c6-491...|       764180|     9997.99|\n|43ea9865-5c95-4c7...|       902063|      9997.8|\n|5994d027-4403-4ca...|       959785|     9997.61|\n|4f1f0649-e1a0-454...|      1008159|     9997.61|\n|4f1f0649-e1a0-454...|      1008159|     9997.61|\n|6a7d4ef8-a316-4b5...|       856881|     9997.04|\n|6a7d4ef8-a316-4b5...|         null|     9997.04|\n|f3574aeb-3940-42a...|         null|     9996.85|\n|2860f590-6dd8-464...|       479845|     9996.66|\n|b39a5229-c50c-499...|       463163|     9996.47|\n|cc92f227-9f1f-40b...|       991363|     9996.09|\n|cc92f227-9f1f-40b...|       991363|     9996.09|\n+--------------------+-------------+------------+\nonly showing top 20 rows\n\n"
     ]
    }
   ],
   "source": [
    "#order desc by monthly dept\n",
    "credit_data.select('Customer ID', 'Annual Income', 'Monthly Debt')\\\n",
    "    .orderBy(credit_data['Monthly Debt'].desc())\\\n",
    "        .show()"
   ]
  },
  {
   "cell_type": "code",
   "execution_count": 0,
   "metadata": {
    "application/vnd.databricks.v1+cell": {
     "cellMetadata": {
      "byteLimit": 2048000,
      "rowLimit": 10000
     },
     "inputWidgets": {},
     "nuid": "7a870d1d-0737-4a4f-9d5f-34da25b2bba7",
     "showTitle": false,
     "title": ""
    }
   },
   "outputs": [
    {
     "output_type": "stream",
     "name": "stdout",
     "output_type": "stream",
     "text": [
      "+-----------+-----+\n|Loan Status|count|\n+-----------+-----+\n| Fully Paid|77361|\n|Charged Off|22639|\n+-----------+-----+\n\n"
     ]
    }
   ],
   "source": [
    "#group by each category of loan status and then count\n",
    "credit_data.groupBy('Loan Status').count()\\\n",
    "    .show()"
   ]
  },
  {
   "cell_type": "code",
   "execution_count": 0,
   "metadata": {
    "application/vnd.databricks.v1+cell": {
     "cellMetadata": {
      "byteLimit": 2048000,
      "rowLimit": 10000
     },
     "inputWidgets": {},
     "nuid": "3273a3b8-cbef-4637-8fbc-c0fd94f96956",
     "showTitle": false,
     "title": ""
    }
   },
   "outputs": [
    {
     "output_type": "stream",
     "name": "stdout",
     "output_type": "stream",
     "text": [
      "+--------------------+------------------------+\n|             Purpose|sum(Current Loan Amount)|\n+--------------------+------------------------+\n|           Buy a Car|         1.7895721261E10|\n|  Debt Consolidation|        9.27449782556E11|\n|             wedding|           2.024344014E9|\n|       Business Loan|         1.2297490436E10|\n|   Home Improvements|         7.3111139277E10|\n|               other|         6.3946486054E10|\n|      small_business|            2.68403773E9|\n|               Other|         4.0742882697E10|\n|              moving|           2.025108294E9|\n|            vacation|            7.12926687E8|\n|    renewable_energy|               1975534.0|\n|Educational Expenses|           1.414250178E9|\n|       Medical Bills|         1.3297492747E10|\n|           Buy House|           7.498924873E9|\n|         Take a Trip|           6.369851807E9|\n|      major_purchase|           4.572324801E9|\n+--------------------+------------------------+\n\n"
     ]
    }
   ],
   "source": [
    "#group by purpose column and then make sum on current loan amount\n",
    "credit_data.groupBy('Purpose').agg({'Current Loan Amount': 'sum'})\\\n",
    "    .show()"
   ]
  },
  {
   "cell_type": "code",
   "execution_count": 0,
   "metadata": {
    "application/vnd.databricks.v1+cell": {
     "cellMetadata": {
      "byteLimit": 2048000,
      "rowLimit": 10000
     },
     "inputWidgets": {},
     "nuid": "8d566573-2a9c-4acc-b459-5b30253a2d01",
     "showTitle": false,
     "title": ""
    }
   },
   "outputs": [],
   "source": [
    "#group by every category 'Purpose' and count and then save to csv on dbfs\n",
    "credit_data.groupBy('Purpose').count().write.csv(\"dbfs:/FileStore/shared_uploads/999tasneemahmed@gmail.com/count_by_loan_purpose.csv\")"
   ]
  }
 ],
 "metadata": {
  "application/vnd.databricks.v1+notebook": {
   "dashboards": [],
   "language": "python",
   "notebookMetadata": {
    "pythonIndentUnit": 4
   },
   "notebookName": "SelectionAndFilter",
   "widgets": {}
  }
 },
 "nbformat": 4,
 "nbformat_minor": 0
}
