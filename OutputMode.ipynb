{
 "cells": [
  {
   "cell_type": "code",
   "execution_count": null,
   "metadata": {
    "application/vnd.databricks.v1+cell": {
     "cellMetadata": {},
     "inputWidgets": {},
     "nuid": "62367933-4bfa-402e-97ab-1563aaa9251d",
     "showTitle": false,
     "title": ""
    }
   },
   "outputs": [],
   "source": [
    "\"\"\"\n",
    "                                        Output mode\n",
    "- determine how transformation data write to data sink(determines what rows in result table sent to storage)\n",
    "3 Modes:\n",
    "- Append: add only new rows and can't update already exisiting rows \n",
    "- Complete: entire all table will be written to sink table of every trigger\n",
    "- Update: add only updated records don't change old records\n",
    "\"\"\""
   ]
  },
  {
   "cell_type": "code",
   "execution_count": null,
   "metadata": {
    "application/vnd.databricks.v1+cell": {
     "cellMetadata": {
      "byteLimit": 2048000,
      "rowLimit": 10000
     },
     "inputWidgets": {},
     "nuid": "4daa6939-b735-4e54-84bf-4da1eb796ccc",
     "showTitle": false,
     "title": ""
    }
   },
   "outputs": [],
   "source": [
    "\"\"\"\n",
    "                                Auto Loader\n",
    "- format(\"cloudFiles\"): Auto loader provides structured streaming source called cloud files\n",
    "when specify, automatically process new file when arrive\n",
    "- schema: specify location to track the schema of files \n",
    "- load: specify dir location which we read data from \n",
    "- schemaHints: without specify it make all columns string but need some columns to be int or float\n",
    "to able to make calculalations\n",
    "\"\"\"\n",
    "car_stream_data = spark.readStream.format(\"cloudFiles\")\\\n",
    "    .option(\"cloudFiles.format\", \"csv\")\\\n",
    "        .option(\"cloudFiles.schemaLocation\", \"dbfs:/FileStore/shared_uploads/auto_loader_streaming/car_source_stream\")\\\n",
    "            .option(\"cloudFiles.schemaHints\", \"price float, mileage int, engV float, year int\")\\\n",
    "                .load(\"dbfs:/FileStore/shared_uploads/auto_loader_streaming/car_source_stream\")"
   ]
  },
  {
   "cell_type": "code",
   "execution_count": null,
   "metadata": {
    "application/vnd.databricks.v1+cell": {
     "cellMetadata": {
      "byteLimit": 2048000,
      "rowLimit": 10000
     },
     "inputWidgets": {},
     "nuid": "476fb888-49bb-4151-9661-94a06b3fc43f",
     "showTitle": false,
     "title": ""
    }
   },
   "outputs": [
    {
     "name": "stdout",
     "output_type": "stream",
     "text": [
      "Out[9]: [FileInfo(path='dbfs:/FileStore/shared_uploads/auto_loader_streaming/car_source_stream/_schemas/', name='_schemas/', size=0, modificationTime=1693036542000),\n",
      " FileInfo(path='dbfs:/FileStore/shared_uploads/auto_loader_streaming/car_source_stream/car_ad_01.csv', name='car_ad_01.csv', size=1112, modificationTime=1693036370000),\n",
      " FileInfo(path='dbfs:/FileStore/shared_uploads/auto_loader_streaming/car_source_stream/car_ad_02.csv', name='car_ad_02.csv', size=1101, modificationTime=1693040811000),\n",
      " FileInfo(path='dbfs:/FileStore/shared_uploads/auto_loader_streaming/car_source_stream/car_ad_03.csv', name='car_ad_03.csv', size=1283, modificationTime=1693040811000),\n",
      " FileInfo(path='dbfs:/FileStore/shared_uploads/auto_loader_streaming/car_source_stream/car_ad_04.csv', name='car_ad_04.csv', size=1296, modificationTime=1693040811000),\n",
      " FileInfo(path='dbfs:/FileStore/shared_uploads/auto_loader_streaming/car_source_stream/car_ad_05.csv', name='car_ad_05.csv', size=1303, modificationTime=1693128319000)]"
     ]
    }
   ],
   "source": [
    "dbutils.fs.ls(\"dbfs:/FileStore/shared_uploads/auto_loader_streaming/car_source_stream\")"
   ]
  },
  {
   "cell_type": "code",
   "execution_count": null,
   "metadata": {
    "application/vnd.databricks.v1+cell": {
     "cellMetadata": {
      "byteLimit": 2048000,
      "rowLimit": 10000
     },
     "inputWidgets": {},
     "nuid": "24f8f4ef-849f-4e6b-bb2c-0dff3f19efdd",
     "showTitle": false,
     "title": ""
    }
   },
   "outputs": [
    {
     "data": {
      "text/html": [
       "<style scoped>\n",
       "  .table-result-container {\n",
       "    max-height: 300px;\n",
       "    overflow: auto;\n",
       "  }\n",
       "  table, th, td {\n",
       "    border: 1px solid black;\n",
       "    border-collapse: collapse;\n",
       "  }\n",
       "  th, td {\n",
       "    padding: 5px;\n",
       "  }\n",
       "  th {\n",
       "    text-align: left;\n",
       "  }\n",
       "</style><div class='table-result-container'><table class='table-result'><thead style='background-color: white'><tr><th>car</th><th>price</th><th>body</th><th>mileage</th><th>engV</th><th>engType</th><th>registration</th><th>year</th><th>model</th><th>drive</th><th>_rescued_data</th></tr></thead><tbody><tr><td>Porsche</td><td>55000.0</td><td>crossover</td><td>105</td><td>3.0</td><td>Diesel</td><td>yes</td><td>2012</td><td>Cayenne</td><td>full</td><td>null</td></tr><tr><td>Kia</td><td>18000.0</td><td>crossover</td><td>64</td><td>2.0</td><td>Diesel</td><td>yes</td><td>2011</td><td>Sportage</td><td>full</td><td>null</td></tr><tr><td>Kia</td><td>21700.0</td><td>crossover</td><td>58</td><td>2.0</td><td>Diesel</td><td>yes</td><td>2012</td><td>Sportage</td><td>full</td><td>null</td></tr><tr><td>Volkswagen</td><td>2400.0</td><td>vagon</td><td>320</td><td>1.9</td><td>Diesel</td><td>no</td><td>2000</td><td>Passat B5</td><td>front</td><td>null</td></tr><tr><td>Volkswagen</td><td>2350.0</td><td>sedan</td><td>300</td><td>1.9</td><td>Diesel</td><td>no</td><td>1998</td><td>Passat B5</td><td>front</td><td>null</td></tr><tr><td>Honda</td><td>18600.0</td><td>vagon</td><td>98</td><td>2.4</td><td>Gas</td><td>yes</td><td>2011</td><td>Accord</td><td>front</td><td>null</td></tr><tr><td>Mercedes-Benz</td><td>104999.0</td><td>crossover</td><td>1</td><td>3.0</td><td>Diesel</td><td>yes</td><td>2016</td><td>GLE-Class</td><td>full</td><td>null</td></tr><tr><td>Toyota</td><td>195000.0</td><td>crossover</td><td>0</td><td>4.5</td><td>Diesel</td><td>yes</td><td>2016</td><td>Land Cruiser 200</td><td>full</td><td>null</td></tr><tr><td>Porsche</td><td>49900.0</td><td>crossover</td><td>73</td><td>3.0</td><td>Diesel</td><td>yes</td><td>2011</td><td>Cayenne</td><td>full</td><td>null</td></tr><tr><td>Porsche</td><td>50900.0</td><td>crossover</td><td>53</td><td>3.6</td><td>Petrol</td><td>yes</td><td>2013</td><td>Cayenne</td><td>full</td><td>null</td></tr><tr><td>Porsche</td><td>99999.0</td><td>crossover</td><td>1</td><td>2.99</td><td>Diesel</td><td>yes</td><td>2016</td><td>Cayenne</td><td>full</td><td>null</td></tr><tr><td>Mercedes-Benz</td><td>0.0</td><td>crossover</td><td>0</td><td>3.0</td><td>Diesel</td><td>yes</td><td>2016</td><td>GLE-Class</td><td>full</td><td>null</td></tr><tr><td>Toyota</td><td>0.0</td><td>crossover</td><td>0</td><td>4.5</td><td>Diesel</td><td>yes</td><td>2016</td><td>Land Cruiser 200</td><td>full</td><td>null</td></tr><tr><td>Toyota</td><td>102999.0</td><td>crossover</td><td>0</td><td>4.5</td><td>Diesel</td><td>yes</td><td>2016</td><td>Land Cruiser 200</td><td>full</td><td>null</td></tr><tr><td>Audi</td><td>35900.0</td><td>crossover</td><td>143</td><td>3.0</td><td>Diesel</td><td>yes</td><td>2010</td><td>Q7</td><td>full</td><td>null</td></tr><tr><td>Honda</td><td>16500.0</td><td>sedan</td><td>147</td><td>2.4</td><td>Petrol</td><td>yes</td><td>2009</td><td>Accord</td><td>front</td><td>null</td></tr><tr><td>Toyota</td><td>103999.0</td><td>crossover</td><td>0</td><td>4.5</td><td>Diesel</td><td>yes</td><td>2016</td><td>Land Cruiser 200</td><td>full</td><td>null</td></tr><tr><td>Porsche</td><td>114900.0</td><td>crossover</td><td>25</td><td>4.8</td><td>Petrol</td><td>yes</td><td>2013</td><td>Cayenne</td><td>full</td><td>null</td></tr><tr><td>Porsche</td><td>26500.0</td><td>crossover</td><td>160</td><td>4.8</td><td>Petrol</td><td>yes</td><td>2008</td><td>Cayenne</td><td>full</td><td>null</td></tr><tr><td>Mitsubishi</td><td>12999.0</td><td>crossover</td><td>140</td><td>2.4</td><td>Gas</td><td>yes</td><td>2007</td><td>Outlander XL</td><td>full</td><td>null</td></tr><tr><td>Audi</td><td>37000.0</td><td>sedan</td><td>37</td><td>2.8</td><td>Petrol</td><td>yes</td><td>2012</td><td>A6</td><td>full</td><td>null</td></tr><tr><td>Mercedes-Benz</td><td>200000.0</td><td>van</td><td>19</td><td>3.5</td><td>Petrol</td><td>yes</td><td>2013</td><td>Sprinter 324 пасс.</td><td>rear</td><td>null</td></tr><tr><td>Audi</td><td>3850.0</td><td>vagon</td><td>215</td><td>2.5</td><td>Diesel</td><td>no</td><td>2002</td><td>A6</td><td>front</td><td>null</td></tr><tr><td>Nissan</td><td>13275.0</td><td>hatch</td><td>12</td><td>null</td><td>Other</td><td>yes</td><td>2013</td><td>Leaf</td><td>front</td><td>{\"engV\":\"NA\",\"_file_path\":\"dbfs:/FileStore/shared_uploads/auto_loader_streaming/car_source_stream/car_ad_03.csv\"}</td></tr><tr><td>Mercedes-Benz</td><td>20400.0</td><td>sedan</td><td>190</td><td>1.8</td><td>Gas</td><td>yes</td><td>2011</td><td>E-Class</td><td>rear</td><td>null</td></tr><tr><td>BMW</td><td>1900.0</td><td>sedan</td><td>300</td><td>2.5</td><td>Diesel</td><td>no</td><td>1997</td><td>5 Series</td><td>rear</td><td>null</td></tr><tr><td>BMW</td><td>39333.0</td><td>sedan</td><td>6</td><td>2.0</td><td>Petrol</td><td>yes</td><td>2016</td><td>520</td><td>null</td><td>null</td></tr><tr><td>Mercedes-Benz</td><td>99999.0</td><td>crossover</td><td>0</td><td>2.99</td><td>Diesel</td><td>yes</td><td>2016</td><td>GLE-Class</td><td>full</td><td>null</td></tr><tr><td>Mercedes-Benz</td><td>70999.0</td><td>crossover</td><td>0</td><td>2.2</td><td>Diesel</td><td>yes</td><td>2016</td><td>GLE-Class</td><td>full</td><td>null</td></tr><tr><td>BMW</td><td>63500.0</td><td>crossover</td><td>1</td><td>2.0</td><td>Diesel</td><td>yes</td><td>2016</td><td>X5</td><td>full</td><td>null</td></tr><tr><td>BMW</td><td>59900.0</td><td>crossover</td><td>30</td><td>2.0</td><td>Diesel</td><td>yes</td><td>2016</td><td>X5</td><td>full</td><td>null</td></tr><tr><td>Mitsubishi</td><td>9200.0</td><td>crossover</td><td>110</td><td>2.4</td><td>Petrol</td><td>yes</td><td>2006</td><td>Outlander</td><td>full</td><td>null</td></tr><tr><td>Nissan</td><td>20241.896</td><td>crossover</td><td>0</td><td>1.6</td><td>Petrol</td><td>yes</td><td>2015</td><td>Juke</td><td>front</td><td>null</td></tr><tr><td>Mercedes-Benz</td><td>14490.0</td><td>vagon</td><td>212</td><td>2.2</td><td>Diesel</td><td>yes</td><td>2008</td><td>E-Class</td><td>rear</td><td>null</td></tr><tr><td>Mercedes-Benz</td><td>31500.0</td><td>sedan</td><td>123</td><td>2.2</td><td>Diesel</td><td>yes</td><td>2011</td><td>E-Class</td><td>null</td><td>null</td></tr><tr><td>Mercedes-Benz</td><td>0.0</td><td>crossover</td><td>0</td><td>3.0</td><td>Diesel</td><td>yes</td><td>2016</td><td>GLE-Class</td><td>full</td><td>null</td></tr><tr><td>Volkswagen</td><td>8999.0</td><td>sedan</td><td>120</td><td>1.9</td><td>Diesel</td><td>yes</td><td>2007</td><td>Passat B6</td><td>front</td><td>null</td></tr><tr><td>Audi</td><td>3650.0</td><td>sedan</td><td>240</td><td>2.5</td><td>Diesel</td><td>no</td><td>2000</td><td>A6</td><td>front</td><td>null</td></tr><tr><td>Nissan</td><td>17000.0</td><td>hatch</td><td>38</td><td>null</td><td>Other</td><td>yes</td><td>2013</td><td>Leaf</td><td>front</td><td>{\"engV\":\"NA\",\"_file_path\":\"dbfs:/FileStore/shared_uploads/auto_loader_streaming/car_source_stream/car_ad_03.csv\"}</td></tr><tr><td>Mitsubishi</td><td>12000.0</td><td>sedan</td><td>121</td><td>2.4</td><td>Gas</td><td>yes</td><td>2009</td><td>Galant</td><td>front</td><td>null</td></tr><tr><td>Kia</td><td>20633.887</td><td>crossover</td><td>0</td><td>1.7</td><td>Diesel</td><td>yes</td><td>2016</td><td>Sportage</td><td>front</td><td>null</td></tr><tr><td>Ford</td><td>15500.0</td><td>crossover</td><td>68</td><td>2.5</td><td>Gas</td><td>yes</td><td>2010</td><td>Kuga</td><td>full</td><td>null</td></tr><tr><td>Mercedes-Benz</td><td>20500.0</td><td>sedan</td><td>173</td><td>1.8</td><td>Gas</td><td>yes</td><td>2011</td><td>E-Class</td><td>rear</td><td>null</td></tr><tr><td>Mercedes-Benz</td><td>35000.0</td><td>other</td><td>135</td><td>5.5</td><td>Petrol</td><td>yes</td><td>2008</td><td>CL 550</td><td>rear</td><td>null</td></tr><tr><td>Mercedes-Benz</td><td>17800.0</td><td>van</td><td>162</td><td>1.8</td><td>Diesel</td><td>yes</td><td>2012</td><td>B 180</td><td>front</td><td>null</td></tr><tr><td>Nissan</td><td>16600.0</td><td>crossover</td><td>83</td><td>2.0</td><td>Petrol</td><td>yes</td><td>2013</td><td>X-Trail</td><td>full</td><td>null</td></tr><tr><td>Honda</td><td>6500.0</td><td>sedan</td><td>199</td><td>2.0</td><td>Petrol</td><td>yes</td><td>2003</td><td>Accord</td><td>front</td><td>null</td></tr><tr><td>Renault</td><td>10500.0</td><td>vagon</td><td>185</td><td>1.5</td><td>Diesel</td><td>yes</td><td>2011</td><td>Megane</td><td>front</td><td>null</td></tr><tr><td>Mercedes-Benz</td><td>21500.0</td><td>sedan</td><td>146</td><td>1.8</td><td>Gas</td><td>yes</td><td>2012</td><td>E-Class</td><td>rear</td><td>null</td></tr><tr><td>Mercedes-Benz</td><td>22700.0</td><td>sedan</td><td>125</td><td>2.2</td><td>Diesel</td><td>yes</td><td>2010</td><td>E-Class</td><td>rear</td><td>null</td></tr><tr><td>Nissan</td><td>20447.154</td><td>crossover</td><td>0</td><td>1.2</td><td>Petrol</td><td>yes</td><td>2016</td><td>Qashqai</td><td>front</td><td>null</td></tr><tr><td>Mercedes-Benz</td><td>20400.0</td><td>sedan</td><td>190</td><td>1.8</td><td>Gas</td><td>yes</td><td>2011</td><td>E-Class</td><td>rear</td><td>null</td></tr><tr><td>Mercedes-Benz</td><td>22500.0</td><td>sedan</td><td>164</td><td>1.8</td><td>Gas</td><td>yes</td><td>2012</td><td>E-Class</td><td>rear</td><td>null</td></tr><tr><td>BMW</td><td>4700.0</td><td>sedan</td><td>200</td><td>null</td><td>Petrol</td><td>yes</td><td>1996</td><td>316</td><td>rear</td><td>{\"engV\":\"NA\",\"_file_path\":\"dbfs:/FileStore/shared_uploads/auto_loader_streaming/car_source_stream/car_ad_01.csv\"}</td></tr><tr><td>Mercedes-Benz</td><td>21500.0</td><td>sedan</td><td>159</td><td>1.8</td><td>Gas</td><td>yes</td><td>2012</td><td>E-Class</td><td>rear</td><td>null</td></tr><tr><td>BMW</td><td>19999.0</td><td>sedan</td><td>290</td><td>4.8</td><td>Petrol</td><td>yes</td><td>2006</td><td>750</td><td>rear</td><td>null</td></tr><tr><td>BMW</td><td>129222.0</td><td>sedan</td><td>2</td><td>5.0</td><td>Petrol</td><td>yes</td><td>2016</td><td>750</td><td>full</td><td>null</td></tr><tr><td>Mercedes-Benz</td><td>99999.0</td><td>crossover</td><td>0</td><td>3.0</td><td>Petrol</td><td>yes</td><td>2016</td><td>GLE-Class</td><td>full</td><td>null</td></tr><tr><td>Nissan</td><td>16600.0</td><td>crossover</td><td>83</td><td>2.0</td><td>Petrol</td><td>yes</td><td>2013</td><td>X-Trail</td><td>full</td><td>null</td></tr><tr><td>BMW</td><td>73900.0</td><td>sedan</td><td>57</td><td>4.4</td><td>Petrol</td><td>yes</td><td>2013</td><td>M5</td><td>rear</td><td>null</td></tr><tr><td>Land Rover</td><td>0.0</td><td>crossover</td><td>0</td><td>4.4</td><td>Diesel</td><td>yes</td><td>2016</td><td>Range Rover</td><td>full</td><td>null</td></tr><tr><td>Nissan</td><td>26033.553</td><td>crossover</td><td>0</td><td>1.6</td><td>Diesel</td><td>yes</td><td>2016</td><td>X-Trail</td><td>full</td><td>null</td></tr><tr><td>BMW</td><td>104999.0</td><td>crossover</td><td>2</td><td>3.0</td><td>Diesel</td><td>yes</td><td>2016</td><td>X5</td><td>full</td><td>null</td></tr><tr><td>BMW</td><td>66500.0</td><td>crossover</td><td>1</td><td>2.0</td><td>Diesel</td><td>yes</td><td>2016</td><td>X5</td><td>full</td><td>null</td></tr><tr><td>BMW</td><td>65099.0</td><td>crossover</td><td>0</td><td>2.0</td><td>Diesel</td><td>yes</td><td>2016</td><td>X5</td><td>full</td><td>null</td></tr><tr><td>BMW</td><td>23900.0</td><td>crossover</td><td>235</td><td>3.0</td><td>Diesel</td><td>yes</td><td>2007</td><td>X5</td><td>full</td><td>null</td></tr><tr><td>Mercedes-Benz</td><td>69999.0</td><td>crossover</td><td>0</td><td>2.2</td><td>Diesel</td><td>yes</td><td>2016</td><td>GLE-Class</td><td>full</td><td>null</td></tr><tr><td>BMW</td><td>66200.0</td><td>crossover</td><td>70</td><td>3.0</td><td>Diesel</td><td>yes</td><td>2014</td><td>X5</td><td>full</td><td>null</td></tr><tr><td>BMW</td><td>63000.0</td><td>crossover</td><td>0</td><td>2.0</td><td>Diesel</td><td>yes</td><td>2015</td><td>X5</td><td>full</td><td>null</td></tr><tr><td>Mercedes-Benz</td><td>105999.0</td><td>crossover</td><td>0</td><td>2.98</td><td>Diesel</td><td>yes</td><td>2016</td><td>GLE-Class</td><td>full</td><td>null</td></tr><tr><td>Nissan</td><td>13980.0</td><td>hatch</td><td>31</td><td>null</td><td>Other</td><td>yes</td><td>2013</td><td>Leaf</td><td>front</td><td>{\"engV\":\"NA\",\"_file_path\":\"dbfs:/FileStore/shared_uploads/auto_loader_streaming/car_source_stream/car_ad_02.csv\"}</td></tr><tr><td>Nissan</td><td>17300.0</td><td>hatch</td><td>24</td><td>null</td><td>Other</td><td>yes</td><td>2013</td><td>Leaf</td><td>front</td><td>{\"engV\":\"NA\",\"_file_path\":\"dbfs:/FileStore/shared_uploads/auto_loader_streaming/car_source_stream/car_ad_02.csv\"}</td></tr><tr><td>Volkswagen</td><td>10700.0</td><td>sedan</td><td>147</td><td>2.0</td><td>Petrol</td><td>yes</td><td>2007</td><td>Passat B6</td><td>front</td><td>null</td></tr><tr><td>Audi</td><td>2600.0</td><td>vagon</td><td>273</td><td>2.5</td><td>Diesel</td><td>no</td><td>1999</td><td>A6</td><td>front</td><td>null</td></tr><tr><td>Chrysler</td><td>13700.0</td><td>sedan</td><td>70</td><td>2.4</td><td>Petrol</td><td>yes</td><td>2008</td><td>Sebring</td><td>front</td><td>null</td></tr><tr><td>Volkswagen</td><td>8999.0</td><td>sedan</td><td>120</td><td>2.0</td><td>Petrol</td><td>yes</td><td>2008</td><td>Passat B6</td><td>front</td><td>null</td></tr><tr><td>Jaguar</td><td>18777.0</td><td>sedan</td><td>82</td><td>3.0</td><td>Petrol</td><td>yes</td><td>2008</td><td>XF</td><td>rear</td><td>null</td></tr><tr><td>Audi</td><td>2850.0</td><td>sedan</td><td>260</td><td>null</td><td>Other</td><td>no</td><td>1999</td><td>A6</td><td>null</td><td>{\"engV\":\"NA\",\"_file_path\":\"dbfs:/FileStore/shared_uploads/auto_loader_streaming/car_source_stream/car_ad_02.csv\"}</td></tr><tr><td>Honda</td><td>30000.0</td><td>sedan</td><td>52</td><td>3.5</td><td>Gas</td><td>yes</td><td>2014</td><td>Accord</td><td>front</td><td>null</td></tr><tr><td>Porsche</td><td>26900.0</td><td>crossover</td><td>135</td><td>4.8</td><td>Petrol</td><td>yes</td><td>2008</td><td>Cayenne</td><td>full</td><td>null</td></tr><tr><td>Toyota</td><td>80000.0</td><td>crossover</td><td>23</td><td>4.5</td><td>Diesel</td><td>yes</td><td>2014</td><td>Land Cruiser 200</td><td>full</td><td>null</td></tr><tr><td>BMW</td><td>8500.0</td><td>sedan</td><td>260</td><td>2.2</td><td>Gas</td><td>yes</td><td>2001</td><td>520</td><td>rear</td><td>null</td></tr><tr><td>Mercedes-Benz</td><td>7000.0</td><td>van</td><td>197</td><td>2.2</td><td>Diesel</td><td>yes</td><td>2002</td><td>Vito пасс.</td><td>front</td><td>null</td></tr><tr><td>Audi</td><td>36000.0</td><td>crossover</td><td>145</td><td>3.0</td><td>Petrol</td><td>yes</td><td>2010</td><td>Q7</td><td>full</td><td>null</td></tr><tr><td>Mercedes-Benz</td><td>9500.0</td><td>van</td><td>280</td><td>2.2</td><td>Diesel</td><td>yes</td><td>2005</td><td>Vito пасс.</td><td>rear</td><td>null</td></tr><tr><td>Toyota</td><td>103999.0</td><td>crossover</td><td>0</td><td>4.5</td><td>Diesel</td><td>yes</td><td>2016</td><td>Land Cruiser 200</td><td>full</td><td>null</td></tr><tr><td>Toyota</td><td>100000.0</td><td>crossover</td><td>0</td><td>4.5</td><td>Diesel</td><td>yes</td><td>2016</td><td>Land Cruiser 200</td><td>full</td><td>null</td></tr><tr><td>Mercedes-Benz</td><td>16500.0</td><td>other</td><td>107</td><td>2.2</td><td>Diesel</td><td>yes</td><td>2010</td><td>Vito пасс.</td><td>front</td><td>null</td></tr><tr><td>Toyota</td><td>15500.0</td><td>sedan</td><td>120</td><td>3.5</td><td>Petrol</td><td>yes</td><td>2008</td><td>Camry</td><td>front</td><td>null</td></tr><tr><td>Porsche</td><td>0.0</td><td>sedan</td><td>22</td><td>4.8</td><td>Petrol</td><td>yes</td><td>2014</td><td>Panamera</td><td>full</td><td>null</td></tr><tr><td>Mercedes-Benz</td><td>10999.0</td><td>van</td><td>191</td><td>2.2</td><td>Diesel</td><td>yes</td><td>2007</td><td>Vito пасс.</td><td>rear</td><td>null</td></tr><tr><td>Audi</td><td>0.0</td><td>crossover</td><td>0</td><td>3.0</td><td>Diesel</td><td>yes</td><td>2015</td><td>Q7</td><td>full</td><td>null</td></tr><tr><td>Audi</td><td>88888.0</td><td>crossover</td><td>0</td><td>3.0</td><td>Diesel</td><td>yes</td><td>2015</td><td>Q7</td><td>full</td><td>null</td></tr><tr><td>Toyota</td><td>0.0</td><td>crossover</td><td>49</td><td>4.5</td><td>Diesel</td><td>yes</td><td>2014</td><td>Land Cruiser 200</td><td>full</td><td>null</td></tr><tr><td>Mercedes-Benz</td><td>16500.0</td><td>van</td><td>223</td><td>2.2</td><td>Diesel</td><td>yes</td><td>2009</td><td>Vito пасс.</td><td>rear</td><td>null</td></tr><tr><td>Volkswagen</td><td>17900.0</td><td>crossover</td><td>145</td><td>3.0</td><td>Diesel</td><td>yes</td><td>2007</td><td>Touareg</td><td>full</td><td>null</td></tr><tr><td>Volkswagen</td><td>0.0</td><td>van</td><td>165</td><td>2.0</td><td>Diesel</td><td>yes</td><td>2013</td><td>T5 (Transporter) груз</td><td>front</td><td>null</td></tr><tr><td>Mercedes-Benz</td><td>20400.0</td><td>sedan</td><td>190</td><td>1.8</td><td>Gas</td><td>yes</td><td>2011</td><td>E-Class</td><td>rear</td><td>null</td></tr><tr><td>Volkswagen</td><td>20000.0</td><td>crossover</td><td>115</td><td>2.5</td><td>Diesel</td><td>yes</td><td>2008</td><td>Touareg</td><td>full</td><td>null</td></tr><tr><td>BMW</td><td>21000.0</td><td>sedan</td><td>186</td><td>3.0</td><td>Petrol</td><td>yes</td><td>2007</td><td>530</td><td>rear</td><td>null</td></tr><tr><td>Hyundai</td><td>11800.0</td><td>sedan</td><td>65</td><td>1.4</td><td>Petrol</td><td>yes</td><td>2013</td><td>Accent</td><td>front</td><td>null</td></tr><tr><td>Mercedes-Benz</td><td>0.0</td><td>van</td><td>450</td><td>2.2</td><td>Diesel</td><td>yes</td><td>2000</td><td>Vito пасс.</td><td>front</td><td>null</td></tr><tr><td>Volkswagen</td><td>10000.0</td><td>van</td><td>231</td><td>1.9</td><td>Diesel</td><td>yes</td><td>2005</td><td>T5 (Transporter) пасс.</td><td>null</td><td>null</td></tr><tr><td>Volkswagen</td><td>37990.0</td><td>crossover</td><td>140</td><td>3.0</td><td>Diesel</td><td>yes</td><td>2012</td><td>Touareg</td><td>full</td><td>null</td></tr><tr><td>Porsche</td><td>0.0</td><td>crossover</td><td>0</td><td>3.0</td><td>Diesel</td><td>yes</td><td>2016</td><td>Cayenne</td><td>full</td><td>null</td></tr><tr><td>BMW</td><td>3900.0</td><td>vagon</td><td>240</td><td>3.0</td><td>Diesel</td><td>no</td><td>2001</td><td>530</td><td>rear</td><td>null</td></tr><tr><td>Volkswagen</td><td>33500.0</td><td>crossover</td><td>98</td><td>null</td><td>Petrol</td><td>yes</td><td>2013</td><td>Touareg</td><td>full</td><td>{\"engV\":\"NA\",\"_file_path\":\"dbfs:/FileStore/shared_uploads/auto_loader_streaming/car_source_stream/car_ad_06.csv\"}</td></tr><tr><td>Hyundai</td><td>9700.0</td><td>sedan</td><td>54</td><td>1.4</td><td>Petrol</td><td>yes</td><td>2013</td><td>Accent</td><td>front</td><td>null</td></tr><tr><td>Nissan</td><td>12400.0</td><td>hatch</td><td>26</td><td>null</td><td>Other</td><td>yes</td><td>2011</td><td>Leaf</td><td>null</td><td>{\"engV\":\"NA\",\"_file_path\":\"dbfs:/FileStore/shared_uploads/auto_loader_streaming/car_source_stream/car_ad_06.csv\"}</td></tr><tr><td>Mercedes-Benz</td><td>6200.0</td><td>sedan</td><td>221</td><td>1.8</td><td>Gas</td><td>yes</td><td>2004</td><td>E-Class</td><td>rear</td><td>null</td></tr><tr><td>Renault</td><td>10500.0</td><td>vagon</td><td>185</td><td>1.5</td><td>Diesel</td><td>yes</td><td>2011</td><td>Megane</td><td>front</td><td>null</td></tr><tr><td>Hyundai</td><td>6900.0</td><td>crossover</td><td>105</td><td>1.6</td><td>Petrol</td><td>yes</td><td>2009</td><td>Accent</td><td>front</td><td>null</td></tr><tr><td>Mercedes-Benz</td><td>20300.0</td><td>sedan</td><td>198</td><td>1.8</td><td>Gas</td><td>yes</td><td>2011</td><td>E-Class</td><td>rear</td><td>null</td></tr><tr><td>Audi</td><td>18500.0</td><td>crossover</td><td>185</td><td>3.6</td><td>Petrol</td><td>yes</td><td>2008</td><td>Q7</td><td>full</td><td>null</td></tr><tr><td>Toyota</td><td>73900.0</td><td>crossover</td><td>1</td><td>4.5</td><td>Diesel</td><td>yes</td><td>2016</td><td>Land Cruiser 200</td><td>full</td><td>null</td></tr><tr><td>Toyota</td><td>30500.0</td><td>crossover</td><td>40</td><td>2.7</td><td>Petrol</td><td>yes</td><td>2011</td><td>Land Cruiser Prado</td><td>full</td><td>null</td></tr><tr><td>Toyota</td><td>30800.0</td><td>crossover</td><td>56</td><td>2.7</td><td>Gas</td><td>yes</td><td>2011</td><td>Land Cruiser Prado</td><td>full</td><td>null</td></tr><tr><td>Toyota</td><td>25500.0</td><td>crossover</td><td>200</td><td>4.0</td><td>Petrol</td><td>yes</td><td>2007</td><td>Land Cruiser Prado</td><td>full</td><td>null</td></tr><tr><td>Mercedes-Benz</td><td>29500.0</td><td>sedan</td><td>37</td><td>1.8</td><td>Petrol</td><td>yes</td><td>2012</td><td>E-Class</td><td>null</td><td>null</td></tr><tr><td>Opel</td><td>3550.0</td><td>vagon</td><td>231</td><td>2.0</td><td>Diesel</td><td>no</td><td>2005</td><td>Vectra C</td><td>front</td><td>null</td></tr><tr><td>Volkswagen</td><td>0.0</td><td>van</td><td>162</td><td>2.0</td><td>Diesel</td><td>yes</td><td>2011</td><td>T5 (Transporter) груз</td><td>front</td><td>null</td></tr><tr><td>Toyota</td><td>99999.0</td><td>crossover</td><td>0</td><td>4.5</td><td>Petrol</td><td>yes</td><td>2016</td><td>Land Cruiser 200</td><td>full</td><td>null</td></tr><tr><td>Mercedes-Benz</td><td>107999.0</td><td>crossover</td><td>0</td><td>2.98</td><td>Diesel</td><td>yes</td><td>2016</td><td>GLS 350</td><td>full</td><td>null</td></tr><tr><td>BMW</td><td>0.0</td><td>crossover</td><td>1</td><td>3.0</td><td>Diesel</td><td>yes</td><td>2014</td><td>X6</td><td>full</td><td>null</td></tr><tr><td>BMW</td><td>0.0</td><td>crossover</td><td>0</td><td>3.0</td><td>Diesel</td><td>yes</td><td>2015</td><td>X6</td><td>full</td><td>null</td></tr><tr><td>Toyota</td><td>74999.0</td><td>crossover</td><td>1</td><td>4.5</td><td>Diesel</td><td>yes</td><td>2016</td><td>Land Cruiser 200</td><td>full</td><td>null</td></tr><tr><td>Audi</td><td>34000.0</td><td>crossover</td><td>118</td><td>2.0</td><td>Diesel</td><td>yes</td><td>2013</td><td>Q5</td><td>full</td><td>null</td></tr><tr><td>BMW</td><td>2850.0</td><td>sedan</td><td>214</td><td>1.9</td><td>Petrol</td><td>no</td><td>2000</td><td>318</td><td>rear</td><td>null</td></tr><tr><td>Volkswagen</td><td>3250.0</td><td>sedan</td><td>255</td><td>1.9</td><td>Diesel</td><td>no</td><td>2003</td><td>Passat B5</td><td>front</td><td>null</td></tr><tr><td>Volkswagen</td><td>16900.0</td><td>crossover</td><td>133</td><td>2.5</td><td>Diesel</td><td>yes</td><td>2007</td><td>Touareg</td><td>full</td><td>null</td></tr><tr><td>Toyota</td><td>99999.0</td><td>crossover</td><td>0</td><td>4.5</td><td>Diesel</td><td>yes</td><td>2016</td><td>Land Cruiser 200</td><td>full</td><td>null</td></tr><tr><td>Chevrolet</td><td>6800.0</td><td>sedan</td><td>106</td><td>1.6</td><td>Petrol</td><td>yes</td><td>2007</td><td>Lacetti</td><td>front</td><td>null</td></tr><tr><td>Toyota</td><td>23400.0</td><td>crossover</td><td>120</td><td>4.0</td><td>Petrol</td><td>yes</td><td>2007</td><td>Land Cruiser Prado</td><td>full</td><td>null</td></tr><tr><td>Skoda</td><td>17900.0</td><td>sedan</td><td>65</td><td>1.8</td><td>Petrol</td><td>yes</td><td>2013</td><td>Superb</td><td>front</td><td>null</td></tr><tr><td>Toyota</td><td>37700.0</td><td>crossover</td><td>62</td><td>3.0</td><td>Diesel</td><td>yes</td><td>2013</td><td>Land Cruiser Prado</td><td>full</td><td>null</td></tr><tr><td>Land Rover</td><td>29500.0</td><td>crossover</td><td>50</td><td>3.5</td><td>Diesel</td><td>yes</td><td>2008</td><td>Range Rover Sport</td><td>full</td><td>null</td></tr><tr><td>Mercedes-Benz</td><td>93555.0</td><td>crossover</td><td>0</td><td>null</td><td>Other</td><td>yes</td><td>2016</td><td>GLS 350</td><td>null</td><td>{\"engV\":\"NA\",\"_file_path\":\"dbfs:/FileStore/shared_uploads/auto_loader_streaming/car_source_stream/car_ad_07.csv\"}</td></tr><tr><td>Volkswagen</td><td>30000.0</td><td>sedan</td><td>67</td><td>2.0</td><td>Diesel</td><td>yes</td><td>2013</td><td>Passat B7</td><td>front</td><td>null</td></tr></tbody></table></div>"
      ]
     },
     "metadata": {
      "application/vnd.databricks.v1+output": {
       "addedWidgets": {},
       "aggData": [],
       "aggError": "",
       "aggOverflow": false,
       "aggSchema": [],
       "aggSeriesLimitReached": false,
       "aggType": "",
       "arguments": {},
       "columnCustomDisplayInfos": {},
       "data": [
        [
         "Porsche",
         55000,
         "crossover",
         105,
         3,
         "Diesel",
         "yes",
         2012,
         "Cayenne",
         "full",
         null
        ],
        [
         "Kia",
         18000,
         "crossover",
         64,
         2,
         "Diesel",
         "yes",
         2011,
         "Sportage",
         "full",
         null
        ],
        [
         "Kia",
         21700,
         "crossover",
         58,
         2,
         "Diesel",
         "yes",
         2012,
         "Sportage",
         "full",
         null
        ],
        [
         "Volkswagen",
         2400,
         "vagon",
         320,
         1.9,
         "Diesel",
         "no",
         2000,
         "Passat B5",
         "front",
         null
        ],
        [
         "Volkswagen",
         2350,
         "sedan",
         300,
         1.9,
         "Diesel",
         "no",
         1998,
         "Passat B5",
         "front",
         null
        ],
        [
         "Honda",
         18600,
         "vagon",
         98,
         2.4,
         "Gas",
         "yes",
         2011,
         "Accord",
         "front",
         null
        ],
        [
         "Mercedes-Benz",
         104999,
         "crossover",
         1,
         3,
         "Diesel",
         "yes",
         2016,
         "GLE-Class",
         "full",
         null
        ],
        [
         "Toyota",
         195000,
         "crossover",
         0,
         4.5,
         "Diesel",
         "yes",
         2016,
         "Land Cruiser 200",
         "full",
         null
        ],
        [
         "Porsche",
         49900,
         "crossover",
         73,
         3,
         "Diesel",
         "yes",
         2011,
         "Cayenne",
         "full",
         null
        ],
        [
         "Porsche",
         50900,
         "crossover",
         53,
         3.6,
         "Petrol",
         "yes",
         2013,
         "Cayenne",
         "full",
         null
        ],
        [
         "Porsche",
         99999,
         "crossover",
         1,
         2.99,
         "Diesel",
         "yes",
         2016,
         "Cayenne",
         "full",
         null
        ],
        [
         "Mercedes-Benz",
         0,
         "crossover",
         0,
         3,
         "Diesel",
         "yes",
         2016,
         "GLE-Class",
         "full",
         null
        ],
        [
         "Toyota",
         0,
         "crossover",
         0,
         4.5,
         "Diesel",
         "yes",
         2016,
         "Land Cruiser 200",
         "full",
         null
        ],
        [
         "Toyota",
         102999,
         "crossover",
         0,
         4.5,
         "Diesel",
         "yes",
         2016,
         "Land Cruiser 200",
         "full",
         null
        ],
        [
         "Audi",
         35900,
         "crossover",
         143,
         3,
         "Diesel",
         "yes",
         2010,
         "Q7",
         "full",
         null
        ],
        [
         "Honda",
         16500,
         "sedan",
         147,
         2.4,
         "Petrol",
         "yes",
         2009,
         "Accord",
         "front",
         null
        ],
        [
         "Toyota",
         103999,
         "crossover",
         0,
         4.5,
         "Diesel",
         "yes",
         2016,
         "Land Cruiser 200",
         "full",
         null
        ],
        [
         "Porsche",
         114900,
         "crossover",
         25,
         4.8,
         "Petrol",
         "yes",
         2013,
         "Cayenne",
         "full",
         null
        ],
        [
         "Porsche",
         26500,
         "crossover",
         160,
         4.8,
         "Petrol",
         "yes",
         2008,
         "Cayenne",
         "full",
         null
        ],
        [
         "Mitsubishi",
         12999,
         "crossover",
         140,
         2.4,
         "Gas",
         "yes",
         2007,
         "Outlander XL",
         "full",
         null
        ],
        [
         "Audi",
         37000,
         "sedan",
         37,
         2.8,
         "Petrol",
         "yes",
         2012,
         "A6",
         "full",
         null
        ],
        [
         "Mercedes-Benz",
         200000,
         "van",
         19,
         3.5,
         "Petrol",
         "yes",
         2013,
         "Sprinter 324 пасс.",
         "rear",
         null
        ],
        [
         "Audi",
         3850,
         "vagon",
         215,
         2.5,
         "Diesel",
         "no",
         2002,
         "A6",
         "front",
         null
        ],
        [
         "Nissan",
         13275,
         "hatch",
         12,
         null,
         "Other",
         "yes",
         2013,
         "Leaf",
         "front",
         "{\"engV\":\"NA\",\"_file_path\":\"dbfs:/FileStore/shared_uploads/auto_loader_streaming/car_source_stream/car_ad_03.csv\"}"
        ],
        [
         "Mercedes-Benz",
         20400,
         "sedan",
         190,
         1.8,
         "Gas",
         "yes",
         2011,
         "E-Class",
         "rear",
         null
        ],
        [
         "BMW",
         1900,
         "sedan",
         300,
         2.5,
         "Diesel",
         "no",
         1997,
         "5 Series",
         "rear",
         null
        ],
        [
         "BMW",
         39333,
         "sedan",
         6,
         2,
         "Petrol",
         "yes",
         2016,
         "520",
         null,
         null
        ],
        [
         "Mercedes-Benz",
         99999,
         "crossover",
         0,
         2.99,
         "Diesel",
         "yes",
         2016,
         "GLE-Class",
         "full",
         null
        ],
        [
         "Mercedes-Benz",
         70999,
         "crossover",
         0,
         2.2,
         "Diesel",
         "yes",
         2016,
         "GLE-Class",
         "full",
         null
        ],
        [
         "BMW",
         63500,
         "crossover",
         1,
         2,
         "Diesel",
         "yes",
         2016,
         "X5",
         "full",
         null
        ],
        [
         "BMW",
         59900,
         "crossover",
         30,
         2,
         "Diesel",
         "yes",
         2016,
         "X5",
         "full",
         null
        ],
        [
         "Mitsubishi",
         9200,
         "crossover",
         110,
         2.4,
         "Petrol",
         "yes",
         2006,
         "Outlander",
         "full",
         null
        ],
        [
         "Nissan",
         20241.896,
         "crossover",
         0,
         1.6,
         "Petrol",
         "yes",
         2015,
         "Juke",
         "front",
         null
        ],
        [
         "Mercedes-Benz",
         14490,
         "vagon",
         212,
         2.2,
         "Diesel",
         "yes",
         2008,
         "E-Class",
         "rear",
         null
        ],
        [
         "Mercedes-Benz",
         31500,
         "sedan",
         123,
         2.2,
         "Diesel",
         "yes",
         2011,
         "E-Class",
         null,
         null
        ],
        [
         "Mercedes-Benz",
         0,
         "crossover",
         0,
         3,
         "Diesel",
         "yes",
         2016,
         "GLE-Class",
         "full",
         null
        ],
        [
         "Volkswagen",
         8999,
         "sedan",
         120,
         1.9,
         "Diesel",
         "yes",
         2007,
         "Passat B6",
         "front",
         null
        ],
        [
         "Audi",
         3650,
         "sedan",
         240,
         2.5,
         "Diesel",
         "no",
         2000,
         "A6",
         "front",
         null
        ],
        [
         "Nissan",
         17000,
         "hatch",
         38,
         null,
         "Other",
         "yes",
         2013,
         "Leaf",
         "front",
         "{\"engV\":\"NA\",\"_file_path\":\"dbfs:/FileStore/shared_uploads/auto_loader_streaming/car_source_stream/car_ad_03.csv\"}"
        ],
        [
         "Mitsubishi",
         12000,
         "sedan",
         121,
         2.4,
         "Gas",
         "yes",
         2009,
         "Galant",
         "front",
         null
        ],
        [
         "Kia",
         20633.887,
         "crossover",
         0,
         1.7,
         "Diesel",
         "yes",
         2016,
         "Sportage",
         "front",
         null
        ],
        [
         "Ford",
         15500,
         "crossover",
         68,
         2.5,
         "Gas",
         "yes",
         2010,
         "Kuga",
         "full",
         null
        ],
        [
         "Mercedes-Benz",
         20500,
         "sedan",
         173,
         1.8,
         "Gas",
         "yes",
         2011,
         "E-Class",
         "rear",
         null
        ],
        [
         "Mercedes-Benz",
         35000,
         "other",
         135,
         5.5,
         "Petrol",
         "yes",
         2008,
         "CL 550",
         "rear",
         null
        ],
        [
         "Mercedes-Benz",
         17800,
         "van",
         162,
         1.8,
         "Diesel",
         "yes",
         2012,
         "B 180",
         "front",
         null
        ],
        [
         "Nissan",
         16600,
         "crossover",
         83,
         2,
         "Petrol",
         "yes",
         2013,
         "X-Trail",
         "full",
         null
        ],
        [
         "Honda",
         6500,
         "sedan",
         199,
         2,
         "Petrol",
         "yes",
         2003,
         "Accord",
         "front",
         null
        ],
        [
         "Renault",
         10500,
         "vagon",
         185,
         1.5,
         "Diesel",
         "yes",
         2011,
         "Megane",
         "front",
         null
        ],
        [
         "Mercedes-Benz",
         21500,
         "sedan",
         146,
         1.8,
         "Gas",
         "yes",
         2012,
         "E-Class",
         "rear",
         null
        ],
        [
         "Mercedes-Benz",
         22700,
         "sedan",
         125,
         2.2,
         "Diesel",
         "yes",
         2010,
         "E-Class",
         "rear",
         null
        ],
        [
         "Nissan",
         20447.154,
         "crossover",
         0,
         1.2,
         "Petrol",
         "yes",
         2016,
         "Qashqai",
         "front",
         null
        ],
        [
         "Mercedes-Benz",
         20400,
         "sedan",
         190,
         1.8,
         "Gas",
         "yes",
         2011,
         "E-Class",
         "rear",
         null
        ],
        [
         "Mercedes-Benz",
         22500,
         "sedan",
         164,
         1.8,
         "Gas",
         "yes",
         2012,
         "E-Class",
         "rear",
         null
        ],
        [
         "BMW",
         4700,
         "sedan",
         200,
         null,
         "Petrol",
         "yes",
         1996,
         "316",
         "rear",
         "{\"engV\":\"NA\",\"_file_path\":\"dbfs:/FileStore/shared_uploads/auto_loader_streaming/car_source_stream/car_ad_01.csv\"}"
        ],
        [
         "Mercedes-Benz",
         21500,
         "sedan",
         159,
         1.8,
         "Gas",
         "yes",
         2012,
         "E-Class",
         "rear",
         null
        ],
        [
         "BMW",
         19999,
         "sedan",
         290,
         4.8,
         "Petrol",
         "yes",
         2006,
         "750",
         "rear",
         null
        ],
        [
         "BMW",
         129222,
         "sedan",
         2,
         5,
         "Petrol",
         "yes",
         2016,
         "750",
         "full",
         null
        ],
        [
         "Mercedes-Benz",
         99999,
         "crossover",
         0,
         3,
         "Petrol",
         "yes",
         2016,
         "GLE-Class",
         "full",
         null
        ],
        [
         "Nissan",
         16600,
         "crossover",
         83,
         2,
         "Petrol",
         "yes",
         2013,
         "X-Trail",
         "full",
         null
        ],
        [
         "BMW",
         73900,
         "sedan",
         57,
         4.4,
         "Petrol",
         "yes",
         2013,
         "M5",
         "rear",
         null
        ],
        [
         "Land Rover",
         0,
         "crossover",
         0,
         4.4,
         "Diesel",
         "yes",
         2016,
         "Range Rover",
         "full",
         null
        ],
        [
         "Nissan",
         26033.553,
         "crossover",
         0,
         1.6,
         "Diesel",
         "yes",
         2016,
         "X-Trail",
         "full",
         null
        ],
        [
         "BMW",
         104999,
         "crossover",
         2,
         3,
         "Diesel",
         "yes",
         2016,
         "X5",
         "full",
         null
        ],
        [
         "BMW",
         66500,
         "crossover",
         1,
         2,
         "Diesel",
         "yes",
         2016,
         "X5",
         "full",
         null
        ],
        [
         "BMW",
         65099,
         "crossover",
         0,
         2,
         "Diesel",
         "yes",
         2016,
         "X5",
         "full",
         null
        ],
        [
         "BMW",
         23900,
         "crossover",
         235,
         3,
         "Diesel",
         "yes",
         2007,
         "X5",
         "full",
         null
        ],
        [
         "Mercedes-Benz",
         69999,
         "crossover",
         0,
         2.2,
         "Diesel",
         "yes",
         2016,
         "GLE-Class",
         "full",
         null
        ],
        [
         "BMW",
         66200,
         "crossover",
         70,
         3,
         "Diesel",
         "yes",
         2014,
         "X5",
         "full",
         null
        ],
        [
         "BMW",
         63000,
         "crossover",
         0,
         2,
         "Diesel",
         "yes",
         2015,
         "X5",
         "full",
         null
        ],
        [
         "Mercedes-Benz",
         105999,
         "crossover",
         0,
         2.98,
         "Diesel",
         "yes",
         2016,
         "GLE-Class",
         "full",
         null
        ],
        [
         "Nissan",
         13980,
         "hatch",
         31,
         null,
         "Other",
         "yes",
         2013,
         "Leaf",
         "front",
         "{\"engV\":\"NA\",\"_file_path\":\"dbfs:/FileStore/shared_uploads/auto_loader_streaming/car_source_stream/car_ad_02.csv\"}"
        ],
        [
         "Nissan",
         17300,
         "hatch",
         24,
         null,
         "Other",
         "yes",
         2013,
         "Leaf",
         "front",
         "{\"engV\":\"NA\",\"_file_path\":\"dbfs:/FileStore/shared_uploads/auto_loader_streaming/car_source_stream/car_ad_02.csv\"}"
        ],
        [
         "Volkswagen",
         10700,
         "sedan",
         147,
         2,
         "Petrol",
         "yes",
         2007,
         "Passat B6",
         "front",
         null
        ],
        [
         "Audi",
         2600,
         "vagon",
         273,
         2.5,
         "Diesel",
         "no",
         1999,
         "A6",
         "front",
         null
        ],
        [
         "Chrysler",
         13700,
         "sedan",
         70,
         2.4,
         "Petrol",
         "yes",
         2008,
         "Sebring",
         "front",
         null
        ],
        [
         "Volkswagen",
         8999,
         "sedan",
         120,
         2,
         "Petrol",
         "yes",
         2008,
         "Passat B6",
         "front",
         null
        ],
        [
         "Jaguar",
         18777,
         "sedan",
         82,
         3,
         "Petrol",
         "yes",
         2008,
         "XF",
         "rear",
         null
        ],
        [
         "Audi",
         2850,
         "sedan",
         260,
         null,
         "Other",
         "no",
         1999,
         "A6",
         null,
         "{\"engV\":\"NA\",\"_file_path\":\"dbfs:/FileStore/shared_uploads/auto_loader_streaming/car_source_stream/car_ad_02.csv\"}"
        ],
        [
         "Honda",
         30000,
         "sedan",
         52,
         3.5,
         "Gas",
         "yes",
         2014,
         "Accord",
         "front",
         null
        ],
        [
         "Porsche",
         26900,
         "crossover",
         135,
         4.8,
         "Petrol",
         "yes",
         2008,
         "Cayenne",
         "full",
         null
        ],
        [
         "Toyota",
         80000,
         "crossover",
         23,
         4.5,
         "Diesel",
         "yes",
         2014,
         "Land Cruiser 200",
         "full",
         null
        ],
        [
         "BMW",
         8500,
         "sedan",
         260,
         2.2,
         "Gas",
         "yes",
         2001,
         "520",
         "rear",
         null
        ],
        [
         "Mercedes-Benz",
         7000,
         "van",
         197,
         2.2,
         "Diesel",
         "yes",
         2002,
         "Vito пасс.",
         "front",
         null
        ],
        [
         "Audi",
         36000,
         "crossover",
         145,
         3,
         "Petrol",
         "yes",
         2010,
         "Q7",
         "full",
         null
        ],
        [
         "Mercedes-Benz",
         9500,
         "van",
         280,
         2.2,
         "Diesel",
         "yes",
         2005,
         "Vito пасс.",
         "rear",
         null
        ],
        [
         "Toyota",
         103999,
         "crossover",
         0,
         4.5,
         "Diesel",
         "yes",
         2016,
         "Land Cruiser 200",
         "full",
         null
        ],
        [
         "Toyota",
         100000,
         "crossover",
         0,
         4.5,
         "Diesel",
         "yes",
         2016,
         "Land Cruiser 200",
         "full",
         null
        ],
        [
         "Mercedes-Benz",
         16500,
         "other",
         107,
         2.2,
         "Diesel",
         "yes",
         2010,
         "Vito пасс.",
         "front",
         null
        ],
        [
         "Toyota",
         15500,
         "sedan",
         120,
         3.5,
         "Petrol",
         "yes",
         2008,
         "Camry",
         "front",
         null
        ],
        [
         "Porsche",
         0,
         "sedan",
         22,
         4.8,
         "Petrol",
         "yes",
         2014,
         "Panamera",
         "full",
         null
        ],
        [
         "Mercedes-Benz",
         10999,
         "van",
         191,
         2.2,
         "Diesel",
         "yes",
         2007,
         "Vito пасс.",
         "rear",
         null
        ],
        [
         "Audi",
         0,
         "crossover",
         0,
         3,
         "Diesel",
         "yes",
         2015,
         "Q7",
         "full",
         null
        ],
        [
         "Audi",
         88888,
         "crossover",
         0,
         3,
         "Diesel",
         "yes",
         2015,
         "Q7",
         "full",
         null
        ],
        [
         "Toyota",
         0,
         "crossover",
         49,
         4.5,
         "Diesel",
         "yes",
         2014,
         "Land Cruiser 200",
         "full",
         null
        ],
        [
         "Mercedes-Benz",
         16500,
         "van",
         223,
         2.2,
         "Diesel",
         "yes",
         2009,
         "Vito пасс.",
         "rear",
         null
        ],
        [
         "Volkswagen",
         17900,
         "crossover",
         145,
         3,
         "Diesel",
         "yes",
         2007,
         "Touareg",
         "full",
         null
        ],
        [
         "Volkswagen",
         0,
         "van",
         165,
         2,
         "Diesel",
         "yes",
         2013,
         "T5 (Transporter) груз",
         "front",
         null
        ],
        [
         "Mercedes-Benz",
         20400,
         "sedan",
         190,
         1.8,
         "Gas",
         "yes",
         2011,
         "E-Class",
         "rear",
         null
        ],
        [
         "Volkswagen",
         20000,
         "crossover",
         115,
         2.5,
         "Diesel",
         "yes",
         2008,
         "Touareg",
         "full",
         null
        ],
        [
         "BMW",
         21000,
         "sedan",
         186,
         3,
         "Petrol",
         "yes",
         2007,
         "530",
         "rear",
         null
        ],
        [
         "Hyundai",
         11800,
         "sedan",
         65,
         1.4,
         "Petrol",
         "yes",
         2013,
         "Accent",
         "front",
         null
        ],
        [
         "Mercedes-Benz",
         0,
         "van",
         450,
         2.2,
         "Diesel",
         "yes",
         2000,
         "Vito пасс.",
         "front",
         null
        ],
        [
         "Volkswagen",
         10000,
         "van",
         231,
         1.9,
         "Diesel",
         "yes",
         2005,
         "T5 (Transporter) пасс.",
         null,
         null
        ],
        [
         "Volkswagen",
         37990,
         "crossover",
         140,
         3,
         "Diesel",
         "yes",
         2012,
         "Touareg",
         "full",
         null
        ],
        [
         "Porsche",
         0,
         "crossover",
         0,
         3,
         "Diesel",
         "yes",
         2016,
         "Cayenne",
         "full",
         null
        ],
        [
         "BMW",
         3900,
         "vagon",
         240,
         3,
         "Diesel",
         "no",
         2001,
         "530",
         "rear",
         null
        ],
        [
         "Volkswagen",
         33500,
         "crossover",
         98,
         null,
         "Petrol",
         "yes",
         2013,
         "Touareg",
         "full",
         "{\"engV\":\"NA\",\"_file_path\":\"dbfs:/FileStore/shared_uploads/auto_loader_streaming/car_source_stream/car_ad_06.csv\"}"
        ],
        [
         "Hyundai",
         9700,
         "sedan",
         54,
         1.4,
         "Petrol",
         "yes",
         2013,
         "Accent",
         "front",
         null
        ],
        [
         "Nissan",
         12400,
         "hatch",
         26,
         null,
         "Other",
         "yes",
         2011,
         "Leaf",
         null,
         "{\"engV\":\"NA\",\"_file_path\":\"dbfs:/FileStore/shared_uploads/auto_loader_streaming/car_source_stream/car_ad_06.csv\"}"
        ],
        [
         "Mercedes-Benz",
         6200,
         "sedan",
         221,
         1.8,
         "Gas",
         "yes",
         2004,
         "E-Class",
         "rear",
         null
        ],
        [
         "Renault",
         10500,
         "vagon",
         185,
         1.5,
         "Diesel",
         "yes",
         2011,
         "Megane",
         "front",
         null
        ],
        [
         "Hyundai",
         6900,
         "crossover",
         105,
         1.6,
         "Petrol",
         "yes",
         2009,
         "Accent",
         "front",
         null
        ],
        [
         "Mercedes-Benz",
         20300,
         "sedan",
         198,
         1.8,
         "Gas",
         "yes",
         2011,
         "E-Class",
         "rear",
         null
        ],
        [
         "Audi",
         18500,
         "crossover",
         185,
         3.6,
         "Petrol",
         "yes",
         2008,
         "Q7",
         "full",
         null
        ],
        [
         "Toyota",
         73900,
         "crossover",
         1,
         4.5,
         "Diesel",
         "yes",
         2016,
         "Land Cruiser 200",
         "full",
         null
        ],
        [
         "Toyota",
         30500,
         "crossover",
         40,
         2.7,
         "Petrol",
         "yes",
         2011,
         "Land Cruiser Prado",
         "full",
         null
        ],
        [
         "Toyota",
         30800,
         "crossover",
         56,
         2.7,
         "Gas",
         "yes",
         2011,
         "Land Cruiser Prado",
         "full",
         null
        ],
        [
         "Toyota",
         25500,
         "crossover",
         200,
         4,
         "Petrol",
         "yes",
         2007,
         "Land Cruiser Prado",
         "full",
         null
        ],
        [
         "Mercedes-Benz",
         29500,
         "sedan",
         37,
         1.8,
         "Petrol",
         "yes",
         2012,
         "E-Class",
         null,
         null
        ],
        [
         "Opel",
         3550,
         "vagon",
         231,
         2,
         "Diesel",
         "no",
         2005,
         "Vectra C",
         "front",
         null
        ],
        [
         "Volkswagen",
         0,
         "van",
         162,
         2,
         "Diesel",
         "yes",
         2011,
         "T5 (Transporter) груз",
         "front",
         null
        ],
        [
         "Toyota",
         99999,
         "crossover",
         0,
         4.5,
         "Petrol",
         "yes",
         2016,
         "Land Cruiser 200",
         "full",
         null
        ],
        [
         "Mercedes-Benz",
         107999,
         "crossover",
         0,
         2.98,
         "Diesel",
         "yes",
         2016,
         "GLS 350",
         "full",
         null
        ],
        [
         "BMW",
         0,
         "crossover",
         1,
         3,
         "Diesel",
         "yes",
         2014,
         "X6",
         "full",
         null
        ],
        [
         "BMW",
         0,
         "crossover",
         0,
         3,
         "Diesel",
         "yes",
         2015,
         "X6",
         "full",
         null
        ],
        [
         "Toyota",
         74999,
         "crossover",
         1,
         4.5,
         "Diesel",
         "yes",
         2016,
         "Land Cruiser 200",
         "full",
         null
        ],
        [
         "Audi",
         34000,
         "crossover",
         118,
         2,
         "Diesel",
         "yes",
         2013,
         "Q5",
         "full",
         null
        ],
        [
         "BMW",
         2850,
         "sedan",
         214,
         1.9,
         "Petrol",
         "no",
         2000,
         "318",
         "rear",
         null
        ],
        [
         "Volkswagen",
         3250,
         "sedan",
         255,
         1.9,
         "Diesel",
         "no",
         2003,
         "Passat B5",
         "front",
         null
        ],
        [
         "Volkswagen",
         16900,
         "crossover",
         133,
         2.5,
         "Diesel",
         "yes",
         2007,
         "Touareg",
         "full",
         null
        ],
        [
         "Toyota",
         99999,
         "crossover",
         0,
         4.5,
         "Diesel",
         "yes",
         2016,
         "Land Cruiser 200",
         "full",
         null
        ],
        [
         "Chevrolet",
         6800,
         "sedan",
         106,
         1.6,
         "Petrol",
         "yes",
         2007,
         "Lacetti",
         "front",
         null
        ],
        [
         "Toyota",
         23400,
         "crossover",
         120,
         4,
         "Petrol",
         "yes",
         2007,
         "Land Cruiser Prado",
         "full",
         null
        ],
        [
         "Skoda",
         17900,
         "sedan",
         65,
         1.8,
         "Petrol",
         "yes",
         2013,
         "Superb",
         "front",
         null
        ],
        [
         "Toyota",
         37700,
         "crossover",
         62,
         3,
         "Diesel",
         "yes",
         2013,
         "Land Cruiser Prado",
         "full",
         null
        ],
        [
         "Land Rover",
         29500,
         "crossover",
         50,
         3.5,
         "Diesel",
         "yes",
         2008,
         "Range Rover Sport",
         "full",
         null
        ],
        [
         "Mercedes-Benz",
         93555,
         "crossover",
         0,
         null,
         "Other",
         "yes",
         2016,
         "GLS 350",
         null,
         "{\"engV\":\"NA\",\"_file_path\":\"dbfs:/FileStore/shared_uploads/auto_loader_streaming/car_source_stream/car_ad_07.csv\"}"
        ],
        [
         "Volkswagen",
         30000,
         "sedan",
         67,
         2,
         "Diesel",
         "yes",
         2013,
         "Passat B7",
         "front",
         null
        ]
       ],
       "datasetInfos": [],
       "dbfsResultPath": null,
       "isJsonSchema": true,
       "metadata": {},
       "overflow": false,
       "plotOptions": {
        "customPlotOptions": {},
        "displayType": "table",
        "pivotAggregation": null,
        "pivotColumns": null,
        "xColumns": null,
        "yColumns": null
       },
       "removedWidgets": [],
       "schema": [
        {
         "metadata": "{}",
         "name": "car",
         "type": "\"string\""
        },
        {
         "metadata": "{}",
         "name": "price",
         "type": "\"float\""
        },
        {
         "metadata": "{}",
         "name": "body",
         "type": "\"string\""
        },
        {
         "metadata": "{}",
         "name": "mileage",
         "type": "\"integer\""
        },
        {
         "metadata": "{}",
         "name": "engV",
         "type": "\"float\""
        },
        {
         "metadata": "{}",
         "name": "engType",
         "type": "\"string\""
        },
        {
         "metadata": "{}",
         "name": "registration",
         "type": "\"string\""
        },
        {
         "metadata": "{}",
         "name": "year",
         "type": "\"integer\""
        },
        {
         "metadata": "{}",
         "name": "model",
         "type": "\"string\""
        },
        {
         "metadata": "{}",
         "name": "drive",
         "type": "\"string\""
        },
        {
         "metadata": "{}",
         "name": "_rescued_data",
         "type": "\"string\""
        }
       ],
       "type": "table"
      }
     },
     "output_type": "display_data"
    }
   ],
   "source": [
    "display(car_stream_data)"
   ]
  },
  {
   "cell_type": "code",
   "execution_count": null,
   "metadata": {
    "application/vnd.databricks.v1+cell": {
     "cellMetadata": {
      "byteLimit": 2048000,
      "rowLimit": 10000
     },
     "inputWidgets": {},
     "nuid": "0fb94511-2f16-41e2-9267-bad44e5d07b3",
     "showTitle": false,
     "title": ""
    }
   },
   "outputs": [
    {
     "data": {
      "text/html": [
       "<style scoped>\n",
       "  .table-result-container {\n",
       "    max-height: 300px;\n",
       "    overflow: auto;\n",
       "  }\n",
       "  table, th, td {\n",
       "    border: 1px solid black;\n",
       "    border-collapse: collapse;\n",
       "  }\n",
       "  th, td {\n",
       "    padding: 5px;\n",
       "  }\n",
       "  th {\n",
       "    text-align: left;\n",
       "  }\n",
       "</style><div class='table-result-container'><table class='table-result'><thead style='background-color: white'><tr><th>car</th><th>model</th><th>price</th><th>mileage</th><th>year</th></tr></thead><tbody><tr><td>Mercedes-Benz</td><td>GLE-Class</td><td>104999.0</td><td>1</td><td>2016</td></tr><tr><td>Toyota</td><td>Land Cruiser 200</td><td>195000.0</td><td>0</td><td>2016</td></tr><tr><td>Porsche</td><td>Cayenne</td><td>99999.0</td><td>1</td><td>2016</td></tr><tr><td>Mercedes-Benz</td><td>GLE-Class</td><td>0.0</td><td>0</td><td>2016</td></tr><tr><td>Toyota</td><td>Land Cruiser 200</td><td>0.0</td><td>0</td><td>2016</td></tr><tr><td>Toyota</td><td>Land Cruiser 200</td><td>102999.0</td><td>0</td><td>2016</td></tr><tr><td>Toyota</td><td>Land Cruiser 200</td><td>103999.0</td><td>0</td><td>2016</td></tr><tr><td>BMW</td><td>520</td><td>39333.0</td><td>6</td><td>2016</td></tr><tr><td>Mercedes-Benz</td><td>GLE-Class</td><td>99999.0</td><td>0</td><td>2016</td></tr><tr><td>Mercedes-Benz</td><td>GLE-Class</td><td>70999.0</td><td>0</td><td>2016</td></tr><tr><td>BMW</td><td>X5</td><td>63500.0</td><td>1</td><td>2016</td></tr><tr><td>BMW</td><td>X5</td><td>59900.0</td><td>30</td><td>2016</td></tr><tr><td>Nissan</td><td>Juke</td><td>20241.896</td><td>0</td><td>2015</td></tr><tr><td>Mercedes-Benz</td><td>GLE-Class</td><td>0.0</td><td>0</td><td>2016</td></tr><tr><td>Kia</td><td>Sportage</td><td>20633.887</td><td>0</td><td>2016</td></tr><tr><td>Nissan</td><td>Qashqai</td><td>20447.154</td><td>0</td><td>2016</td></tr><tr><td>BMW</td><td>750</td><td>129222.0</td><td>2</td><td>2016</td></tr><tr><td>Mercedes-Benz</td><td>GLE-Class</td><td>99999.0</td><td>0</td><td>2016</td></tr><tr><td>Land Rover</td><td>Range Rover</td><td>0.0</td><td>0</td><td>2016</td></tr><tr><td>Nissan</td><td>X-Trail</td><td>26033.553</td><td>0</td><td>2016</td></tr><tr><td>BMW</td><td>X5</td><td>104999.0</td><td>2</td><td>2016</td></tr><tr><td>BMW</td><td>X5</td><td>66500.0</td><td>1</td><td>2016</td></tr><tr><td>BMW</td><td>X5</td><td>65099.0</td><td>0</td><td>2016</td></tr><tr><td>Mercedes-Benz</td><td>GLE-Class</td><td>69999.0</td><td>0</td><td>2016</td></tr><tr><td>BMW</td><td>X5</td><td>63000.0</td><td>0</td><td>2015</td></tr><tr><td>Mercedes-Benz</td><td>GLE-Class</td><td>105999.0</td><td>0</td><td>2016</td></tr><tr><td>Toyota</td><td>Land Cruiser 200</td><td>103999.0</td><td>0</td><td>2016</td></tr><tr><td>Toyota</td><td>Land Cruiser 200</td><td>100000.0</td><td>0</td><td>2016</td></tr><tr><td>Audi</td><td>Q7</td><td>0.0</td><td>0</td><td>2015</td></tr><tr><td>Audi</td><td>Q7</td><td>88888.0</td><td>0</td><td>2015</td></tr><tr><td>Porsche</td><td>Cayenne</td><td>0.0</td><td>0</td><td>2016</td></tr><tr><td>Toyota</td><td>Land Cruiser 200</td><td>73900.0</td><td>1</td><td>2016</td></tr><tr><td>Toyota</td><td>Land Cruiser 200</td><td>99999.0</td><td>0</td><td>2016</td></tr><tr><td>Mercedes-Benz</td><td>GLS 350</td><td>107999.0</td><td>0</td><td>2016</td></tr><tr><td>BMW</td><td>X6</td><td>0.0</td><td>0</td><td>2015</td></tr><tr><td>Toyota</td><td>Land Cruiser 200</td><td>74999.0</td><td>1</td><td>2016</td></tr><tr><td>Toyota</td><td>Land Cruiser 200</td><td>99999.0</td><td>0</td><td>2016</td></tr><tr><td>Mercedes-Benz</td><td>GLS 350</td><td>93555.0</td><td>0</td><td>2016</td></tr></tbody></table></div>"
      ]
     },
     "metadata": {
      "application/vnd.databricks.v1+output": {
       "addedWidgets": {},
       "aggData": [],
       "aggError": "",
       "aggOverflow": false,
       "aggSchema": [],
       "aggSeriesLimitReached": false,
       "aggType": "",
       "arguments": {},
       "columnCustomDisplayInfos": {},
       "data": [
        [
         "Mercedes-Benz",
         "GLE-Class",
         104999,
         1,
         2016
        ],
        [
         "Toyota",
         "Land Cruiser 200",
         195000,
         0,
         2016
        ],
        [
         "Porsche",
         "Cayenne",
         99999,
         1,
         2016
        ],
        [
         "Mercedes-Benz",
         "GLE-Class",
         0,
         0,
         2016
        ],
        [
         "Toyota",
         "Land Cruiser 200",
         0,
         0,
         2016
        ],
        [
         "Toyota",
         "Land Cruiser 200",
         102999,
         0,
         2016
        ],
        [
         "Toyota",
         "Land Cruiser 200",
         103999,
         0,
         2016
        ],
        [
         "BMW",
         "520",
         39333,
         6,
         2016
        ],
        [
         "Mercedes-Benz",
         "GLE-Class",
         99999,
         0,
         2016
        ],
        [
         "Mercedes-Benz",
         "GLE-Class",
         70999,
         0,
         2016
        ],
        [
         "BMW",
         "X5",
         63500,
         1,
         2016
        ],
        [
         "BMW",
         "X5",
         59900,
         30,
         2016
        ],
        [
         "Nissan",
         "Juke",
         20241.896,
         0,
         2015
        ],
        [
         "Mercedes-Benz",
         "GLE-Class",
         0,
         0,
         2016
        ],
        [
         "Kia",
         "Sportage",
         20633.887,
         0,
         2016
        ],
        [
         "Nissan",
         "Qashqai",
         20447.154,
         0,
         2016
        ],
        [
         "BMW",
         "750",
         129222,
         2,
         2016
        ],
        [
         "Mercedes-Benz",
         "GLE-Class",
         99999,
         0,
         2016
        ],
        [
         "Land Rover",
         "Range Rover",
         0,
         0,
         2016
        ],
        [
         "Nissan",
         "X-Trail",
         26033.553,
         0,
         2016
        ],
        [
         "BMW",
         "X5",
         104999,
         2,
         2016
        ],
        [
         "BMW",
         "X5",
         66500,
         1,
         2016
        ],
        [
         "BMW",
         "X5",
         65099,
         0,
         2016
        ],
        [
         "Mercedes-Benz",
         "GLE-Class",
         69999,
         0,
         2016
        ],
        [
         "BMW",
         "X5",
         63000,
         0,
         2015
        ],
        [
         "Mercedes-Benz",
         "GLE-Class",
         105999,
         0,
         2016
        ],
        [
         "Toyota",
         "Land Cruiser 200",
         103999,
         0,
         2016
        ],
        [
         "Toyota",
         "Land Cruiser 200",
         100000,
         0,
         2016
        ],
        [
         "Audi",
         "Q7",
         0,
         0,
         2015
        ],
        [
         "Audi",
         "Q7",
         88888,
         0,
         2015
        ],
        [
         "Porsche",
         "Cayenne",
         0,
         0,
         2016
        ],
        [
         "Toyota",
         "Land Cruiser 200",
         73900,
         1,
         2016
        ],
        [
         "Toyota",
         "Land Cruiser 200",
         99999,
         0,
         2016
        ],
        [
         "Mercedes-Benz",
         "GLS 350",
         107999,
         0,
         2016
        ],
        [
         "BMW",
         "X6",
         0,
         0,
         2015
        ],
        [
         "Toyota",
         "Land Cruiser 200",
         74999,
         1,
         2016
        ],
        [
         "Toyota",
         "Land Cruiser 200",
         99999,
         0,
         2016
        ],
        [
         "Mercedes-Benz",
         "GLS 350",
         93555,
         0,
         2016
        ]
       ],
       "datasetInfos": [],
       "dbfsResultPath": null,
       "isJsonSchema": true,
       "metadata": {
        "isDbfsCommandResult": false
       },
       "overflow": false,
       "plotOptions": {
        "customPlotOptions": {},
        "displayType": "table",
        "pivotAggregation": null,
        "pivotColumns": null,
        "xColumns": null,
        "yColumns": null
       },
       "removedWidgets": [],
       "schema": [
        {
         "metadata": "{}",
         "name": "car",
         "type": "\"string\""
        },
        {
         "metadata": "{}",
         "name": "model",
         "type": "\"string\""
        },
        {
         "metadata": "{}",
         "name": "price",
         "type": "\"float\""
        },
        {
         "metadata": "{}",
         "name": "mileage",
         "type": "\"integer\""
        },
        {
         "metadata": "{}",
         "name": "year",
         "type": "\"integer\""
        }
       ],
       "type": "table"
      }
     },
     "output_type": "display_data"
    }
   ],
   "source": [
    "car_stream_filtered = car_stream_data.select(\"car\", \"model\", \"price\", \"mileage\", \"year\")\\\n",
    "    .where(car_stream_data.year > 2014)\n",
    "\n",
    "display(car_stream_filtered)"
   ]
  },
  {
   "cell_type": "code",
   "execution_count": null,
   "metadata": {
    "application/vnd.databricks.v1+cell": {
     "cellMetadata": {
      "byteLimit": 2048000,
      "rowLimit": 10000
     },
     "inputWidgets": {},
     "nuid": "b07e7aaa-30bf-4954-9472-5671042003b7",
     "showTitle": false,
     "title": ""
    }
   },
   "outputs": [
    {
     "name": "stdout",
     "output_type": "stream",
     "text": [
      "Out[6]: <pyspark.sql.streaming.query.StreamingQuery at 0x7fb2f166bdf0>"
     ]
    }
   ],
   "source": [
    "#write filtered data into memory with append mode\n",
    "car_stream_filtered.writeStream\\\n",
    "    .queryName(\"carDetailesAfter2014\")\\\n",
    "        .outputMode(\"append\")\\\n",
    "            .format(\"memory\")\\\n",
    "                .start()"
   ]
  },
  {
   "cell_type": "code",
   "execution_count": null,
   "metadata": {
    "application/vnd.databricks.v1+cell": {
     "cellMetadata": {
      "byteLimit": 2048000,
      "implicitDf": true,
      "rowLimit": 10000
     },
     "inputWidgets": {},
     "nuid": "280a5200-a501-431f-9117-f2e8adfa72af",
     "showTitle": false,
     "title": ""
    }
   },
   "outputs": [
    {
     "data": {
      "text/html": [
       "<style scoped>\n",
       "  .table-result-container {\n",
       "    max-height: 300px;\n",
       "    overflow: auto;\n",
       "  }\n",
       "  table, th, td {\n",
       "    border: 1px solid black;\n",
       "    border-collapse: collapse;\n",
       "  }\n",
       "  th, td {\n",
       "    padding: 5px;\n",
       "  }\n",
       "  th {\n",
       "    text-align: left;\n",
       "  }\n",
       "</style><div class='table-result-container'><table class='table-result'><thead style='background-color: white'><tr><th>car</th><th>model</th><th>price</th><th>mileage</th><th>year</th></tr></thead><tbody><tr><td>Mercedes-Benz</td><td>GLE-Class</td><td>104999.0</td><td>1</td><td>2016</td></tr><tr><td>Toyota</td><td>Land Cruiser 200</td><td>195000.0</td><td>0</td><td>2016</td></tr><tr><td>Porsche</td><td>Cayenne</td><td>99999.0</td><td>1</td><td>2016</td></tr><tr><td>Mercedes-Benz</td><td>GLE-Class</td><td>0.0</td><td>0</td><td>2016</td></tr><tr><td>Toyota</td><td>Land Cruiser 200</td><td>0.0</td><td>0</td><td>2016</td></tr><tr><td>Toyota</td><td>Land Cruiser 200</td><td>102999.0</td><td>0</td><td>2016</td></tr><tr><td>Toyota</td><td>Land Cruiser 200</td><td>103999.0</td><td>0</td><td>2016</td></tr><tr><td>BMW</td><td>520</td><td>39333.0</td><td>6</td><td>2016</td></tr><tr><td>Mercedes-Benz</td><td>GLE-Class</td><td>99999.0</td><td>0</td><td>2016</td></tr><tr><td>Mercedes-Benz</td><td>GLE-Class</td><td>70999.0</td><td>0</td><td>2016</td></tr><tr><td>BMW</td><td>X5</td><td>63500.0</td><td>1</td><td>2016</td></tr><tr><td>BMW</td><td>X5</td><td>59900.0</td><td>30</td><td>2016</td></tr><tr><td>Nissan</td><td>Juke</td><td>20241.896</td><td>0</td><td>2015</td></tr><tr><td>Mercedes-Benz</td><td>GLE-Class</td><td>0.0</td><td>0</td><td>2016</td></tr><tr><td>Kia</td><td>Sportage</td><td>20633.887</td><td>0</td><td>2016</td></tr><tr><td>Nissan</td><td>Qashqai</td><td>20447.154</td><td>0</td><td>2016</td></tr><tr><td>BMW</td><td>750</td><td>129222.0</td><td>2</td><td>2016</td></tr><tr><td>Mercedes-Benz</td><td>GLE-Class</td><td>99999.0</td><td>0</td><td>2016</td></tr><tr><td>Land Rover</td><td>Range Rover</td><td>0.0</td><td>0</td><td>2016</td></tr><tr><td>Nissan</td><td>X-Trail</td><td>26033.553</td><td>0</td><td>2016</td></tr><tr><td>BMW</td><td>X5</td><td>104999.0</td><td>2</td><td>2016</td></tr><tr><td>BMW</td><td>X5</td><td>66500.0</td><td>1</td><td>2016</td></tr><tr><td>BMW</td><td>X5</td><td>65099.0</td><td>0</td><td>2016</td></tr><tr><td>Mercedes-Benz</td><td>GLE-Class</td><td>69999.0</td><td>0</td><td>2016</td></tr><tr><td>BMW</td><td>X5</td><td>63000.0</td><td>0</td><td>2015</td></tr><tr><td>Mercedes-Benz</td><td>GLE-Class</td><td>105999.0</td><td>0</td><td>2016</td></tr><tr><td>Toyota</td><td>Land Cruiser 200</td><td>103999.0</td><td>0</td><td>2016</td></tr><tr><td>Toyota</td><td>Land Cruiser 200</td><td>100000.0</td><td>0</td><td>2016</td></tr><tr><td>Audi</td><td>Q7</td><td>0.0</td><td>0</td><td>2015</td></tr><tr><td>Audi</td><td>Q7</td><td>88888.0</td><td>0</td><td>2015</td></tr><tr><td>Porsche</td><td>Cayenne</td><td>0.0</td><td>0</td><td>2016</td></tr><tr><td>Toyota</td><td>Land Cruiser 200</td><td>73900.0</td><td>1</td><td>2016</td></tr><tr><td>Toyota</td><td>Land Cruiser 200</td><td>99999.0</td><td>0</td><td>2016</td></tr><tr><td>Mercedes-Benz</td><td>GLS 350</td><td>107999.0</td><td>0</td><td>2016</td></tr><tr><td>BMW</td><td>X6</td><td>0.0</td><td>0</td><td>2015</td></tr><tr><td>Toyota</td><td>Land Cruiser 200</td><td>74999.0</td><td>1</td><td>2016</td></tr><tr><td>Toyota</td><td>Land Cruiser 200</td><td>99999.0</td><td>0</td><td>2016</td></tr><tr><td>Mercedes-Benz</td><td>GLS 350</td><td>93555.0</td><td>0</td><td>2016</td></tr></tbody></table></div>"
      ]
     },
     "metadata": {
      "application/vnd.databricks.v1+output": {
       "addedWidgets": {},
       "aggData": [],
       "aggError": "",
       "aggOverflow": false,
       "aggSchema": [],
       "aggSeriesLimitReached": false,
       "aggType": "",
       "arguments": {},
       "columnCustomDisplayInfos": {},
       "data": [
        [
         "Mercedes-Benz",
         "GLE-Class",
         104999,
         1,
         2016
        ],
        [
         "Toyota",
         "Land Cruiser 200",
         195000,
         0,
         2016
        ],
        [
         "Porsche",
         "Cayenne",
         99999,
         1,
         2016
        ],
        [
         "Mercedes-Benz",
         "GLE-Class",
         0,
         0,
         2016
        ],
        [
         "Toyota",
         "Land Cruiser 200",
         0,
         0,
         2016
        ],
        [
         "Toyota",
         "Land Cruiser 200",
         102999,
         0,
         2016
        ],
        [
         "Toyota",
         "Land Cruiser 200",
         103999,
         0,
         2016
        ],
        [
         "BMW",
         "520",
         39333,
         6,
         2016
        ],
        [
         "Mercedes-Benz",
         "GLE-Class",
         99999,
         0,
         2016
        ],
        [
         "Mercedes-Benz",
         "GLE-Class",
         70999,
         0,
         2016
        ],
        [
         "BMW",
         "X5",
         63500,
         1,
         2016
        ],
        [
         "BMW",
         "X5",
         59900,
         30,
         2016
        ],
        [
         "Nissan",
         "Juke",
         20241.896,
         0,
         2015
        ],
        [
         "Mercedes-Benz",
         "GLE-Class",
         0,
         0,
         2016
        ],
        [
         "Kia",
         "Sportage",
         20633.887,
         0,
         2016
        ],
        [
         "Nissan",
         "Qashqai",
         20447.154,
         0,
         2016
        ],
        [
         "BMW",
         "750",
         129222,
         2,
         2016
        ],
        [
         "Mercedes-Benz",
         "GLE-Class",
         99999,
         0,
         2016
        ],
        [
         "Land Rover",
         "Range Rover",
         0,
         0,
         2016
        ],
        [
         "Nissan",
         "X-Trail",
         26033.553,
         0,
         2016
        ],
        [
         "BMW",
         "X5",
         104999,
         2,
         2016
        ],
        [
         "BMW",
         "X5",
         66500,
         1,
         2016
        ],
        [
         "BMW",
         "X5",
         65099,
         0,
         2016
        ],
        [
         "Mercedes-Benz",
         "GLE-Class",
         69999,
         0,
         2016
        ],
        [
         "BMW",
         "X5",
         63000,
         0,
         2015
        ],
        [
         "Mercedes-Benz",
         "GLE-Class",
         105999,
         0,
         2016
        ],
        [
         "Toyota",
         "Land Cruiser 200",
         103999,
         0,
         2016
        ],
        [
         "Toyota",
         "Land Cruiser 200",
         100000,
         0,
         2016
        ],
        [
         "Audi",
         "Q7",
         0,
         0,
         2015
        ],
        [
         "Audi",
         "Q7",
         88888,
         0,
         2015
        ],
        [
         "Porsche",
         "Cayenne",
         0,
         0,
         2016
        ],
        [
         "Toyota",
         "Land Cruiser 200",
         73900,
         1,
         2016
        ],
        [
         "Toyota",
         "Land Cruiser 200",
         99999,
         0,
         2016
        ],
        [
         "Mercedes-Benz",
         "GLS 350",
         107999,
         0,
         2016
        ],
        [
         "BMW",
         "X6",
         0,
         0,
         2015
        ],
        [
         "Toyota",
         "Land Cruiser 200",
         74999,
         1,
         2016
        ],
        [
         "Toyota",
         "Land Cruiser 200",
         99999,
         0,
         2016
        ],
        [
         "Mercedes-Benz",
         "GLS 350",
         93555,
         0,
         2016
        ]
       ],
       "datasetInfos": [],
       "dbfsResultPath": null,
       "isJsonSchema": true,
       "metadata": {},
       "overflow": false,
       "plotOptions": {
        "customPlotOptions": {},
        "displayType": "table",
        "pivotAggregation": null,
        "pivotColumns": null,
        "xColumns": null,
        "yColumns": null
       },
       "removedWidgets": [],
       "schema": [
        {
         "metadata": "{}",
         "name": "car",
         "type": "\"string\""
        },
        {
         "metadata": "{}",
         "name": "model",
         "type": "\"string\""
        },
        {
         "metadata": "{}",
         "name": "price",
         "type": "\"float\""
        },
        {
         "metadata": "{}",
         "name": "mileage",
         "type": "\"integer\""
        },
        {
         "metadata": "{}",
         "name": "year",
         "type": "\"integer\""
        }
       ],
       "type": "table"
      }
     },
     "output_type": "display_data"
    }
   ],
   "source": [
    "%sql\n",
    "\n",
    "select * from carDetailesAfter2014;"
   ]
  },
  {
   "cell_type": "code",
   "execution_count": null,
   "metadata": {
    "application/vnd.databricks.v1+cell": {
     "cellMetadata": {
      "byteLimit": 2048000,
      "rowLimit": 10000
     },
     "inputWidgets": {},
     "nuid": "149dc3ae-25f2-4a7f-abd1-09eb31978973",
     "showTitle": false,
     "title": ""
    }
   },
   "outputs": [
    {
     "data": {
      "text/html": [
       "<style scoped>\n",
       "  .table-result-container {\n",
       "    max-height: 300px;\n",
       "    overflow: auto;\n",
       "  }\n",
       "  table, th, td {\n",
       "    border: 1px solid black;\n",
       "    border-collapse: collapse;\n",
       "  }\n",
       "  th, td {\n",
       "    padding: 5px;\n",
       "  }\n",
       "  th {\n",
       "    text-align: left;\n",
       "  }\n",
       "</style><div class='table-result-container'><table class='table-result'><thead style='background-color: white'><tr><th>body</th><th>avg(price)</th><th>avg(mileage)</th></tr></thead><tbody><tr><td>van</td><td>27179.9</td><td>208.0</td></tr><tr><td>crossover</td><td>49249.60700334822</td><td>48.97142857142857</td></tr><tr><td>other</td><td>25750.0</td><td>121.0</td></tr><tr><td>sedan</td><td>19661.404761904763</td><td>144.76190476190476</td></tr><tr><td>hatch</td><td>14791.0</td><td>26.2</td></tr><tr><td>vagon</td><td>7821.111111111111</td><td>217.66666666666666</td></tr></tbody></table></div>"
      ]
     },
     "metadata": {
      "application/vnd.databricks.v1+output": {
       "addedWidgets": {},
       "aggData": [],
       "aggError": "",
       "aggOverflow": false,
       "aggSchema": [],
       "aggSeriesLimitReached": false,
       "aggType": "",
       "arguments": {},
       "columnCustomDisplayInfos": {},
       "data": [
        [
         "van",
         27179.9,
         208
        ],
        [
         "crossover",
         49249.60700334822,
         48.97142857142857
        ],
        [
         "other",
         25750,
         121
        ],
        [
         "sedan",
         19661.404761904763,
         144.76190476190476
        ],
        [
         "hatch",
         14791,
         26.2
        ],
        [
         "vagon",
         7821.111111111111,
         217.66666666666666
        ]
       ],
       "datasetInfos": [],
       "dbfsResultPath": null,
       "isJsonSchema": true,
       "metadata": {
        "isDbfsCommandResult": false
       },
       "overflow": false,
       "plotOptions": {
        "customPlotOptions": {},
        "displayType": "table",
        "pivotAggregation": null,
        "pivotColumns": null,
        "xColumns": null,
        "yColumns": null
       },
       "removedWidgets": [],
       "schema": [
        {
         "metadata": "{}",
         "name": "body",
         "type": "\"string\""
        },
        {
         "metadata": "{}",
         "name": "avg(price)",
         "type": "\"double\""
        },
        {
         "metadata": "{}",
         "name": "avg(mileage)",
         "type": "\"double\""
        }
       ],
       "type": "table"
      }
     },
     "output_type": "display_data"
    }
   ],
   "source": [
    "car_grouped_data = car_stream_data.select(\"body\", \"price\", \"mileage\")\\\n",
    "    .groupBy(car_stream_data.body)\\\n",
    "        .agg({\"price\":\"avg\", \"mileage\":\"avg\"})\n",
    "\n",
    "display(car_grouped_data)"
   ]
  },
  {
   "cell_type": "code",
   "execution_count": null,
   "metadata": {
    "application/vnd.databricks.v1+cell": {
     "cellMetadata": {
      "byteLimit": 2048000,
      "rowLimit": 10000
     },
     "inputWidgets": {},
     "nuid": "70ee215d-df1e-45d2-9e7a-63efa1ea7b5f",
     "showTitle": false,
     "title": ""
    }
   },
   "outputs": [
    {
     "data": {
      "text/plain": [
       "\u001b[0;31m---------------------------------------------------------------------------\u001b[0m\n",
       "\u001b[0;31mAnalysisException\u001b[0m                         Traceback (most recent call last)\n",
       "File \u001b[0;32m<command-1461889429917948>:1\u001b[0m\n",
       "\u001b[0;32m----> 1\u001b[0m \u001b[43mcar_grouped_data\u001b[49m\u001b[38;5;241;43m.\u001b[39;49m\u001b[43mwriteStream\u001b[49m\u001b[43m\\\u001b[49m\n",
       "\u001b[1;32m      2\u001b[0m \u001b[43m    \u001b[49m\u001b[38;5;241;43m.\u001b[39;49m\u001b[43mqueryName\u001b[49m\u001b[43m(\u001b[49m\u001b[38;5;124;43m\"\u001b[39;49m\u001b[38;5;124;43mcarGroupedByBody\u001b[39;49m\u001b[38;5;124;43m\"\u001b[39;49m\u001b[43m)\u001b[49m\u001b[43m\\\u001b[49m\n",
       "\u001b[1;32m      3\u001b[0m \u001b[43m        \u001b[49m\u001b[38;5;241;43m.\u001b[39;49m\u001b[43moutputMode\u001b[49m\u001b[43m(\u001b[49m\u001b[38;5;124;43m\"\u001b[39;49m\u001b[38;5;124;43mappend\u001b[39;49m\u001b[38;5;124;43m\"\u001b[39;49m\u001b[43m)\u001b[49m\u001b[43m\\\u001b[49m\n",
       "\u001b[1;32m      4\u001b[0m \u001b[43m            \u001b[49m\u001b[38;5;241;43m.\u001b[39;49m\u001b[43mformat\u001b[49m\u001b[43m(\u001b[49m\u001b[38;5;124;43m\"\u001b[39;49m\u001b[38;5;124;43mmemory\u001b[39;49m\u001b[38;5;124;43m\"\u001b[39;49m\u001b[43m)\u001b[49m\u001b[43m\\\u001b[49m\n",
       "\u001b[1;32m      5\u001b[0m \u001b[43m                \u001b[49m\u001b[38;5;241;43m.\u001b[39;49m\u001b[43mstart\u001b[49m\u001b[43m(\u001b[49m\u001b[43m)\u001b[49m\n",
       "\n",
       "File \u001b[0;32m/databricks/spark/python/pyspark/sql/streaming/readwriter.py:1385\u001b[0m, in \u001b[0;36mDataStreamWriter.start\u001b[0;34m(self, path, format, outputMode, partitionBy, queryName, **options)\u001b[0m\n",
       "\u001b[1;32m   1383\u001b[0m     \u001b[38;5;28mself\u001b[39m\u001b[38;5;241m.\u001b[39mqueryName(queryName)\n",
       "\u001b[1;32m   1384\u001b[0m \u001b[38;5;28;01mif\u001b[39;00m path \u001b[38;5;129;01mis\u001b[39;00m \u001b[38;5;28;01mNone\u001b[39;00m:\n",
       "\u001b[0;32m-> 1385\u001b[0m     \u001b[38;5;28;01mreturn\u001b[39;00m \u001b[38;5;28mself\u001b[39m\u001b[38;5;241m.\u001b[39m_sq(\u001b[38;5;28;43mself\u001b[39;49m\u001b[38;5;241;43m.\u001b[39;49m\u001b[43m_jwrite\u001b[49m\u001b[38;5;241;43m.\u001b[39;49m\u001b[43mstart\u001b[49m\u001b[43m(\u001b[49m\u001b[43m)\u001b[49m)\n",
       "\u001b[1;32m   1386\u001b[0m \u001b[38;5;28;01melse\u001b[39;00m:\n",
       "\u001b[1;32m   1387\u001b[0m     \u001b[38;5;28;01mreturn\u001b[39;00m \u001b[38;5;28mself\u001b[39m\u001b[38;5;241m.\u001b[39m_sq(\u001b[38;5;28mself\u001b[39m\u001b[38;5;241m.\u001b[39m_jwrite\u001b[38;5;241m.\u001b[39mstart(path))\n",
       "\n",
       "File \u001b[0;32m/databricks/spark/python/lib/py4j-0.10.9.5-src.zip/py4j/java_gateway.py:1321\u001b[0m, in \u001b[0;36mJavaMember.__call__\u001b[0;34m(self, *args)\u001b[0m\n",
       "\u001b[1;32m   1315\u001b[0m command \u001b[38;5;241m=\u001b[39m proto\u001b[38;5;241m.\u001b[39mCALL_COMMAND_NAME \u001b[38;5;241m+\u001b[39m\\\n",
       "\u001b[1;32m   1316\u001b[0m     \u001b[38;5;28mself\u001b[39m\u001b[38;5;241m.\u001b[39mcommand_header \u001b[38;5;241m+\u001b[39m\\\n",
       "\u001b[1;32m   1317\u001b[0m     args_command \u001b[38;5;241m+\u001b[39m\\\n",
       "\u001b[1;32m   1318\u001b[0m     proto\u001b[38;5;241m.\u001b[39mEND_COMMAND_PART\n",
       "\u001b[1;32m   1320\u001b[0m answer \u001b[38;5;241m=\u001b[39m \u001b[38;5;28mself\u001b[39m\u001b[38;5;241m.\u001b[39mgateway_client\u001b[38;5;241m.\u001b[39msend_command(command)\n",
       "\u001b[0;32m-> 1321\u001b[0m return_value \u001b[38;5;241m=\u001b[39m \u001b[43mget_return_value\u001b[49m\u001b[43m(\u001b[49m\n",
       "\u001b[1;32m   1322\u001b[0m \u001b[43m    \u001b[49m\u001b[43manswer\u001b[49m\u001b[43m,\u001b[49m\u001b[43m \u001b[49m\u001b[38;5;28;43mself\u001b[39;49m\u001b[38;5;241;43m.\u001b[39;49m\u001b[43mgateway_client\u001b[49m\u001b[43m,\u001b[49m\u001b[43m \u001b[49m\u001b[38;5;28;43mself\u001b[39;49m\u001b[38;5;241;43m.\u001b[39;49m\u001b[43mtarget_id\u001b[49m\u001b[43m,\u001b[49m\u001b[43m \u001b[49m\u001b[38;5;28;43mself\u001b[39;49m\u001b[38;5;241;43m.\u001b[39;49m\u001b[43mname\u001b[49m\u001b[43m)\u001b[49m\n",
       "\u001b[1;32m   1324\u001b[0m \u001b[38;5;28;01mfor\u001b[39;00m temp_arg \u001b[38;5;129;01min\u001b[39;00m temp_args:\n",
       "\u001b[1;32m   1325\u001b[0m     temp_arg\u001b[38;5;241m.\u001b[39m_detach()\n",
       "\n",
       "File \u001b[0;32m/databricks/spark/python/pyspark/errors/exceptions.py:234\u001b[0m, in \u001b[0;36mcapture_sql_exception.<locals>.deco\u001b[0;34m(*a, **kw)\u001b[0m\n",
       "\u001b[1;32m    230\u001b[0m converted \u001b[38;5;241m=\u001b[39m convert_exception(e\u001b[38;5;241m.\u001b[39mjava_exception)\n",
       "\u001b[1;32m    231\u001b[0m \u001b[38;5;28;01mif\u001b[39;00m \u001b[38;5;129;01mnot\u001b[39;00m \u001b[38;5;28misinstance\u001b[39m(converted, UnknownException):\n",
       "\u001b[1;32m    232\u001b[0m     \u001b[38;5;66;03m# Hide where the exception came from that shows a non-Pythonic\u001b[39;00m\n",
       "\u001b[1;32m    233\u001b[0m     \u001b[38;5;66;03m# JVM exception message.\u001b[39;00m\n",
       "\u001b[0;32m--> 234\u001b[0m     \u001b[38;5;28;01mraise\u001b[39;00m converted \u001b[38;5;28;01mfrom\u001b[39;00m \u001b[38;5;28mNone\u001b[39m\n",
       "\u001b[1;32m    235\u001b[0m \u001b[38;5;28;01melse\u001b[39;00m:\n",
       "\u001b[1;32m    236\u001b[0m     \u001b[38;5;28;01mraise\u001b[39;00m\n",
       "\n",
       "\u001b[0;31mAnalysisException\u001b[0m: Append output mode not supported when there are streaming aggregations on streaming DataFrames/DataSets without watermark;\n",
       "Aggregate [body#20552915], [body#20552915, avg(price#20552914) AS avg(price)#22605191, avg(mileage#20552916) AS avg(mileage)#22605192]\n",
       "+- Project [body#20552915, price#20552914, mileage#20552916]\n",
       "   +- StreamingRelation DataSource(org.apache.spark.sql.SparkSession@7eb230c1,cloudFiles,List(),None,List(),None,Map(cloudFiles.format -> csv, cloudFiles.schemaLocation -> dbfs:/FileStore/shared_uploads/auto_loader_streaming/car_source_stream, cloudFiles.schemaHints -> price float, mileage int, engV float, year int, path -> dbfs:/FileStore/shared_uploads/auto_loader_streaming/car_source_stream),None), cloudFiles, [car#20552913, price#20552914, body#20552915, mileage#20552916, engV#20552917, engType#20552918, registration#20552919, year#20552920, model#20552921, drive#20552922, _rescued_data#20552923]\n"
      ]
     },
     "metadata": {
      "application/vnd.databricks.v1+output": {
       "arguments": {},
       "data": "\u001b[0;31m---------------------------------------------------------------------------\u001b[0m\n\u001b[0;31mAnalysisException\u001b[0m                         Traceback (most recent call last)\nFile \u001b[0;32m<command-1461889429917948>:1\u001b[0m\n\u001b[0;32m----> 1\u001b[0m \u001b[43mcar_grouped_data\u001b[49m\u001b[38;5;241;43m.\u001b[39;49m\u001b[43mwriteStream\u001b[49m\u001b[43m\\\u001b[49m\n\u001b[1;32m      2\u001b[0m \u001b[43m    \u001b[49m\u001b[38;5;241;43m.\u001b[39;49m\u001b[43mqueryName\u001b[49m\u001b[43m(\u001b[49m\u001b[38;5;124;43m\"\u001b[39;49m\u001b[38;5;124;43mcarGroupedByBody\u001b[39;49m\u001b[38;5;124;43m\"\u001b[39;49m\u001b[43m)\u001b[49m\u001b[43m\\\u001b[49m\n\u001b[1;32m      3\u001b[0m \u001b[43m        \u001b[49m\u001b[38;5;241;43m.\u001b[39;49m\u001b[43moutputMode\u001b[49m\u001b[43m(\u001b[49m\u001b[38;5;124;43m\"\u001b[39;49m\u001b[38;5;124;43mappend\u001b[39;49m\u001b[38;5;124;43m\"\u001b[39;49m\u001b[43m)\u001b[49m\u001b[43m\\\u001b[49m\n\u001b[1;32m      4\u001b[0m \u001b[43m            \u001b[49m\u001b[38;5;241;43m.\u001b[39;49m\u001b[43mformat\u001b[49m\u001b[43m(\u001b[49m\u001b[38;5;124;43m\"\u001b[39;49m\u001b[38;5;124;43mmemory\u001b[39;49m\u001b[38;5;124;43m\"\u001b[39;49m\u001b[43m)\u001b[49m\u001b[43m\\\u001b[49m\n\u001b[1;32m      5\u001b[0m \u001b[43m                \u001b[49m\u001b[38;5;241;43m.\u001b[39;49m\u001b[43mstart\u001b[49m\u001b[43m(\u001b[49m\u001b[43m)\u001b[49m\n\nFile \u001b[0;32m/databricks/spark/python/pyspark/sql/streaming/readwriter.py:1385\u001b[0m, in \u001b[0;36mDataStreamWriter.start\u001b[0;34m(self, path, format, outputMode, partitionBy, queryName, **options)\u001b[0m\n\u001b[1;32m   1383\u001b[0m     \u001b[38;5;28mself\u001b[39m\u001b[38;5;241m.\u001b[39mqueryName(queryName)\n\u001b[1;32m   1384\u001b[0m \u001b[38;5;28;01mif\u001b[39;00m path \u001b[38;5;129;01mis\u001b[39;00m \u001b[38;5;28;01mNone\u001b[39;00m:\n\u001b[0;32m-> 1385\u001b[0m     \u001b[38;5;28;01mreturn\u001b[39;00m \u001b[38;5;28mself\u001b[39m\u001b[38;5;241m.\u001b[39m_sq(\u001b[38;5;28;43mself\u001b[39;49m\u001b[38;5;241;43m.\u001b[39;49m\u001b[43m_jwrite\u001b[49m\u001b[38;5;241;43m.\u001b[39;49m\u001b[43mstart\u001b[49m\u001b[43m(\u001b[49m\u001b[43m)\u001b[49m)\n\u001b[1;32m   1386\u001b[0m \u001b[38;5;28;01melse\u001b[39;00m:\n\u001b[1;32m   1387\u001b[0m     \u001b[38;5;28;01mreturn\u001b[39;00m \u001b[38;5;28mself\u001b[39m\u001b[38;5;241m.\u001b[39m_sq(\u001b[38;5;28mself\u001b[39m\u001b[38;5;241m.\u001b[39m_jwrite\u001b[38;5;241m.\u001b[39mstart(path))\n\nFile \u001b[0;32m/databricks/spark/python/lib/py4j-0.10.9.5-src.zip/py4j/java_gateway.py:1321\u001b[0m, in \u001b[0;36mJavaMember.__call__\u001b[0;34m(self, *args)\u001b[0m\n\u001b[1;32m   1315\u001b[0m command \u001b[38;5;241m=\u001b[39m proto\u001b[38;5;241m.\u001b[39mCALL_COMMAND_NAME \u001b[38;5;241m+\u001b[39m\\\n\u001b[1;32m   1316\u001b[0m     \u001b[38;5;28mself\u001b[39m\u001b[38;5;241m.\u001b[39mcommand_header \u001b[38;5;241m+\u001b[39m\\\n\u001b[1;32m   1317\u001b[0m     args_command \u001b[38;5;241m+\u001b[39m\\\n\u001b[1;32m   1318\u001b[0m     proto\u001b[38;5;241m.\u001b[39mEND_COMMAND_PART\n\u001b[1;32m   1320\u001b[0m answer \u001b[38;5;241m=\u001b[39m \u001b[38;5;28mself\u001b[39m\u001b[38;5;241m.\u001b[39mgateway_client\u001b[38;5;241m.\u001b[39msend_command(command)\n\u001b[0;32m-> 1321\u001b[0m return_value \u001b[38;5;241m=\u001b[39m \u001b[43mget_return_value\u001b[49m\u001b[43m(\u001b[49m\n\u001b[1;32m   1322\u001b[0m \u001b[43m    \u001b[49m\u001b[43manswer\u001b[49m\u001b[43m,\u001b[49m\u001b[43m \u001b[49m\u001b[38;5;28;43mself\u001b[39;49m\u001b[38;5;241;43m.\u001b[39;49m\u001b[43mgateway_client\u001b[49m\u001b[43m,\u001b[49m\u001b[43m \u001b[49m\u001b[38;5;28;43mself\u001b[39;49m\u001b[38;5;241;43m.\u001b[39;49m\u001b[43mtarget_id\u001b[49m\u001b[43m,\u001b[49m\u001b[43m \u001b[49m\u001b[38;5;28;43mself\u001b[39;49m\u001b[38;5;241;43m.\u001b[39;49m\u001b[43mname\u001b[49m\u001b[43m)\u001b[49m\n\u001b[1;32m   1324\u001b[0m \u001b[38;5;28;01mfor\u001b[39;00m temp_arg \u001b[38;5;129;01min\u001b[39;00m temp_args:\n\u001b[1;32m   1325\u001b[0m     temp_arg\u001b[38;5;241m.\u001b[39m_detach()\n\nFile \u001b[0;32m/databricks/spark/python/pyspark/errors/exceptions.py:234\u001b[0m, in \u001b[0;36mcapture_sql_exception.<locals>.deco\u001b[0;34m(*a, **kw)\u001b[0m\n\u001b[1;32m    230\u001b[0m converted \u001b[38;5;241m=\u001b[39m convert_exception(e\u001b[38;5;241m.\u001b[39mjava_exception)\n\u001b[1;32m    231\u001b[0m \u001b[38;5;28;01mif\u001b[39;00m \u001b[38;5;129;01mnot\u001b[39;00m \u001b[38;5;28misinstance\u001b[39m(converted, UnknownException):\n\u001b[1;32m    232\u001b[0m     \u001b[38;5;66;03m# Hide where the exception came from that shows a non-Pythonic\u001b[39;00m\n\u001b[1;32m    233\u001b[0m     \u001b[38;5;66;03m# JVM exception message.\u001b[39;00m\n\u001b[0;32m--> 234\u001b[0m     \u001b[38;5;28;01mraise\u001b[39;00m converted \u001b[38;5;28;01mfrom\u001b[39;00m \u001b[38;5;28mNone\u001b[39m\n\u001b[1;32m    235\u001b[0m \u001b[38;5;28;01melse\u001b[39;00m:\n\u001b[1;32m    236\u001b[0m     \u001b[38;5;28;01mraise\u001b[39;00m\n\n\u001b[0;31mAnalysisException\u001b[0m: Append output mode not supported when there are streaming aggregations on streaming DataFrames/DataSets without watermark;\nAggregate [body#20552915], [body#20552915, avg(price#20552914) AS avg(price)#22605191, avg(mileage#20552916) AS avg(mileage)#22605192]\n+- Project [body#20552915, price#20552914, mileage#20552916]\n   +- StreamingRelation DataSource(org.apache.spark.sql.SparkSession@7eb230c1,cloudFiles,List(),None,List(),None,Map(cloudFiles.format -> csv, cloudFiles.schemaLocation -> dbfs:/FileStore/shared_uploads/auto_loader_streaming/car_source_stream, cloudFiles.schemaHints -> price float, mileage int, engV float, year int, path -> dbfs:/FileStore/shared_uploads/auto_loader_streaming/car_source_stream),None), cloudFiles, [car#20552913, price#20552914, body#20552915, mileage#20552916, engV#20552917, engType#20552918, registration#20552919, year#20552920, model#20552921, drive#20552922, _rescued_data#20552923]\n",
       "errorSummary": "<span class='ansi-red-fg'>AnalysisException</span>: Append output mode not supported when there are streaming aggregations on streaming DataFrames/DataSets without watermark;\nAggregate [body#20552915], [body#20552915, avg(price#20552914) AS avg(price)#22605191, avg(mileage#20552916) AS avg(mileage)#22605192]\n+- Project [body#20552915, price#20552914, mileage#20552916]\n   +- StreamingRelation DataSource(org.apache.spark.sql.SparkSession@7eb230c1,cloudFiles,List(),None,List(),None,Map(cloudFiles.format -> csv, cloudFiles.schemaLocation -> dbfs:/FileStore/shared_uploads/auto_loader_streaming/car_source_stream, cloudFiles.schemaHints -> price float, mileage int, engV float, year int, path -> dbfs:/FileStore/shared_uploads/auto_loader_streaming/car_source_stream),None), cloudFiles, [car#20552913, price#20552914, body#20552915, mileage#20552916, engV#20552917, engType#20552918, registration#20552919, year#20552920, model#20552921, drive#20552922, _rescued_data#20552923]\n",
       "errorTraceType": "ansi",
       "metadata": {},
       "type": "ipynbError"
      }
     },
     "output_type": "display_data"
    }
   ],
   "source": [
    "\"\"\"\n",
    "why append not supported in aggregation:\n",
    "because when make aggregations all data changed, and if we write with append mode neglect change of previous data and add only new records\n",
    "\"\"\"\n",
    "car_grouped_data.writeStream\\\n",
    "    .queryName(\"carGroupedByBody\")\\\n",
    "        .outputMode(\"append\")\\\n",
    "            .format(\"memory\")\\\n",
    "                .start()"
   ]
  },
  {
   "cell_type": "code",
   "execution_count": null,
   "metadata": {
    "application/vnd.databricks.v1+cell": {
     "cellMetadata": {
      "byteLimit": 2048000,
      "rowLimit": 10000
     },
     "inputWidgets": {},
     "nuid": "dcaf1c3a-d914-46bc-a680-2f12f61bef09",
     "showTitle": false,
     "title": ""
    }
   },
   "outputs": [
    {
     "name": "stdout",
     "output_type": "stream",
     "text": [
      "Out[13]: <pyspark.sql.streaming.query.StreamingQuery at 0x7fb2f0221d00>"
     ]
    }
   ],
   "source": [
    "\"\"\"\n",
    "complete mode :\n",
    "for each trigger all table data write to data sink\n",
    "\"\"\"\n",
    "car_grouped_data.writeStream\\\n",
    "    .queryName(\"carGroupedByBody\")\\\n",
    "        .outputMode(\"complete\")\\\n",
    "            .format(\"memory\")\\\n",
    "                .start()"
   ]
  },
  {
   "cell_type": "code",
   "execution_count": null,
   "metadata": {
    "application/vnd.databricks.v1+cell": {
     "cellMetadata": {
      "byteLimit": 2048000,
      "implicitDf": true,
      "rowLimit": 10000
     },
     "inputWidgets": {},
     "nuid": "32105a12-ef22-4b3b-be0c-f1715b2f9b8a",
     "showTitle": false,
     "title": ""
    }
   },
   "outputs": [
    {
     "data": {
      "text/html": [
       "<style scoped>\n",
       "  .table-result-container {\n",
       "    max-height: 300px;\n",
       "    overflow: auto;\n",
       "  }\n",
       "  table, th, td {\n",
       "    border: 1px solid black;\n",
       "    border-collapse: collapse;\n",
       "  }\n",
       "  th, td {\n",
       "    padding: 5px;\n",
       "  }\n",
       "  th {\n",
       "    text-align: left;\n",
       "  }\n",
       "</style><div class='table-result-container'><table class='table-result'><thead style='background-color: white'><tr><th>body</th><th>avg(price)</th><th>avg(mileage)</th></tr></thead><tbody><tr><td>van</td><td>27179.9</td><td>208.0</td></tr><tr><td>crossover</td><td>49249.60700334822</td><td>48.97142857142857</td></tr><tr><td>other</td><td>25750.0</td><td>121.0</td></tr><tr><td>sedan</td><td>19661.404761904763</td><td>144.76190476190476</td></tr><tr><td>hatch</td><td>14791.0</td><td>26.2</td></tr><tr><td>vagon</td><td>7821.111111111111</td><td>217.66666666666666</td></tr></tbody></table></div>"
      ]
     },
     "metadata": {
      "application/vnd.databricks.v1+output": {
       "addedWidgets": {},
       "aggData": [],
       "aggError": "",
       "aggOverflow": false,
       "aggSchema": [],
       "aggSeriesLimitReached": false,
       "aggType": "",
       "arguments": {},
       "columnCustomDisplayInfos": {},
       "data": [
        [
         "van",
         27179.9,
         208
        ],
        [
         "crossover",
         49249.60700334822,
         48.97142857142857
        ],
        [
         "other",
         25750,
         121
        ],
        [
         "sedan",
         19661.404761904763,
         144.76190476190476
        ],
        [
         "hatch",
         14791,
         26.2
        ],
        [
         "vagon",
         7821.111111111111,
         217.66666666666666
        ]
       ],
       "datasetInfos": [],
       "dbfsResultPath": null,
       "isJsonSchema": true,
       "metadata": {},
       "overflow": false,
       "plotOptions": {
        "customPlotOptions": {},
        "displayType": "table",
        "pivotAggregation": null,
        "pivotColumns": null,
        "xColumns": null,
        "yColumns": null
       },
       "removedWidgets": [],
       "schema": [
        {
         "metadata": "{}",
         "name": "body",
         "type": "\"string\""
        },
        {
         "metadata": "{}",
         "name": "avg(price)",
         "type": "\"double\""
        },
        {
         "metadata": "{}",
         "name": "avg(mileage)",
         "type": "\"double\""
        }
       ],
       "type": "table"
      }
     },
     "output_type": "display_data"
    }
   ],
   "source": [
    "%sql\n",
    "\n",
    "select * from carGroupedByBody;"
   ]
  },
  {
   "cell_type": "code",
   "execution_count": null,
   "metadata": {
    "application/vnd.databricks.v1+cell": {
     "cellMetadata": {
      "byteLimit": 2048000,
      "rowLimit": 10000
     },
     "inputWidgets": {},
     "nuid": "9f474f65-082a-43aa-aa9a-03578261c3f3",
     "showTitle": false,
     "title": ""
    }
   },
   "outputs": [
    {
     "data": {
      "text/html": [
       "<style scoped>\n",
       "  .table-result-container {\n",
       "    max-height: 300px;\n",
       "    overflow: auto;\n",
       "  }\n",
       "  table, th, td {\n",
       "    border: 1px solid black;\n",
       "    border-collapse: collapse;\n",
       "  }\n",
       "  th, td {\n",
       "    padding: 5px;\n",
       "  }\n",
       "  th {\n",
       "    text-align: left;\n",
       "  }\n",
       "</style><div class='table-result-container'><table class='table-result'><thead style='background-color: white'><tr><th>car</th><th>count(price)</th></tr></thead><tbody><tr><td>Volkswagen</td><td>15</td></tr><tr><td>Jaguar</td><td>1</td></tr><tr><td>Mitsubishi</td><td>3</td></tr><tr><td>Kia</td><td>3</td></tr><tr><td>Chevrolet</td><td>1</td></tr><tr><td>Hyundai</td><td>3</td></tr><tr><td>Honda</td><td>4</td></tr><tr><td>Audi</td><td>11</td></tr><tr><td>Land Rover</td><td>2</td></tr><tr><td>Mercedes-Benz</td><td>32</td></tr><tr><td>Renault</td><td>2</td></tr><tr><td>Chrysler</td><td>1</td></tr><tr><td>BMW</td><td>20</td></tr><tr><td>Opel</td><td>1</td></tr><tr><td>Porsche</td><td>9</td></tr><tr><td>Skoda</td><td>1</td></tr><tr><td>Toyota</td><td>18</td></tr><tr><td>Nissan</td><td>10</td></tr><tr><td>Ford</td><td>1</td></tr></tbody></table></div>"
      ]
     },
     "metadata": {
      "application/vnd.databricks.v1+output": {
       "addedWidgets": {},
       "aggData": [],
       "aggError": "",
       "aggOverflow": false,
       "aggSchema": [],
       "aggSeriesLimitReached": false,
       "aggType": "",
       "arguments": {},
       "columnCustomDisplayInfos": {},
       "data": [
        [
         "Volkswagen",
         15
        ],
        [
         "Jaguar",
         1
        ],
        [
         "Mitsubishi",
         3
        ],
        [
         "Kia",
         3
        ],
        [
         "Chevrolet",
         1
        ],
        [
         "Hyundai",
         3
        ],
        [
         "Honda",
         4
        ],
        [
         "Audi",
         11
        ],
        [
         "Land Rover",
         2
        ],
        [
         "Mercedes-Benz",
         32
        ],
        [
         "Renault",
         2
        ],
        [
         "Chrysler",
         1
        ],
        [
         "BMW",
         20
        ],
        [
         "Opel",
         1
        ],
        [
         "Porsche",
         9
        ],
        [
         "Skoda",
         1
        ],
        [
         "Toyota",
         18
        ],
        [
         "Nissan",
         10
        ],
        [
         "Ford",
         1
        ]
       ],
       "datasetInfos": [],
       "dbfsResultPath": null,
       "isJsonSchema": true,
       "metadata": {
        "isDbfsCommandResult": false
       },
       "overflow": false,
       "plotOptions": {
        "customPlotOptions": {},
        "displayType": "table",
        "pivotAggregation": null,
        "pivotColumns": null,
        "xColumns": null,
        "yColumns": null
       },
       "removedWidgets": [],
       "schema": [
        {
         "metadata": "{}",
         "name": "car",
         "type": "\"string\""
        },
        {
         "metadata": "{}",
         "name": "count(price)",
         "type": "\"long\""
        }
       ],
       "type": "table"
      }
     },
     "output_type": "display_data"
    }
   ],
   "source": [
    "car_group_data = car_stream_data.select(\"car\", \"price\")\\\n",
    "    .groupBy(\"car\")\\\n",
    "        .agg({\"price\":\"count\"})\n",
    "\n",
    "display(car_group_data)"
   ]
  },
  {
   "cell_type": "code",
   "execution_count": null,
   "metadata": {
    "application/vnd.databricks.v1+cell": {
     "cellMetadata": {
      "byteLimit": 2048000,
      "rowLimit": 10000
     },
     "inputWidgets": {},
     "nuid": "c52337a2-6fef-4789-b0ac-51b0dcc907ca",
     "showTitle": false,
     "title": ""
    }
   },
   "outputs": [
    {
     "name": "stdout",
     "output_type": "stream",
     "text": [
      "Out[18]: <pyspark.sql.streaming.query.StreamingQuery at 0x7fb2ebf31b20>"
     ]
    }
   ],
   "source": [
    "\"\"\"\n",
    "update mode:\n",
    "add only updated rows from the last trigger to data sink\n",
    "no update records which already written to data sink (keep them)\n",
    "\"\"\"\n",
    "car_group_data.writeStream\\\n",
    "    .queryName(\"carTotalPrice\")\\\n",
    "        .outputMode(\"update\")\\\n",
    "            .format(\"memory\")\\\n",
    "                .start()"
   ]
  },
  {
   "cell_type": "code",
   "execution_count": null,
   "metadata": {
    "application/vnd.databricks.v1+cell": {
     "cellMetadata": {
      "byteLimit": 2048000,
      "implicitDf": true,
      "rowLimit": 10000
     },
     "inputWidgets": {},
     "nuid": "29ee93e8-a184-496f-bf99-a4fcd0316662",
     "showTitle": false,
     "title": ""
    }
   },
   "outputs": [
    {
     "data": {
      "text/html": [
       "<style scoped>\n",
       "  .table-result-container {\n",
       "    max-height: 300px;\n",
       "    overflow: auto;\n",
       "  }\n",
       "  table, th, td {\n",
       "    border: 1px solid black;\n",
       "    border-collapse: collapse;\n",
       "  }\n",
       "  th, td {\n",
       "    padding: 5px;\n",
       "  }\n",
       "  th {\n",
       "    text-align: left;\n",
       "  }\n",
       "</style><div class='table-result-container'><table class='table-result'><thead style='background-color: white'><tr><th>car</th><th>count(price)</th></tr></thead><tbody><tr><td>Volkswagen</td><td>11</td></tr><tr><td>Jaguar</td><td>1</td></tr><tr><td>Mitsubishi</td><td>3</td></tr><tr><td>Kia</td><td>3</td></tr><tr><td>Hyundai</td><td>3</td></tr><tr><td>Honda</td><td>4</td></tr><tr><td>Audi</td><td>10</td></tr><tr><td>Land Rover</td><td>1</td></tr><tr><td>Mercedes-Benz</td><td>29</td></tr><tr><td>Renault</td><td>2</td></tr><tr><td>Chrysler</td><td>1</td></tr><tr><td>BMW</td><td>17</td></tr><tr><td>Porsche</td><td>9</td></tr><tr><td>Toyota</td><td>13</td></tr><tr><td>Nissan</td><td>10</td></tr><tr><td>Ford</td><td>1</td></tr><tr><td>Volkswagen</td><td>15</td></tr><tr><td>Chevrolet</td><td>1</td></tr><tr><td>Audi</td><td>11</td></tr><tr><td>Land Rover</td><td>2</td></tr><tr><td>Mercedes-Benz</td><td>32</td></tr><tr><td>BMW</td><td>20</td></tr><tr><td>Opel</td><td>1</td></tr><tr><td>Skoda</td><td>1</td></tr><tr><td>Toyota</td><td>18</td></tr></tbody></table></div>"
      ]
     },
     "metadata": {
      "application/vnd.databricks.v1+output": {
       "addedWidgets": {},
       "aggData": [],
       "aggError": "",
       "aggOverflow": false,
       "aggSchema": [],
       "aggSeriesLimitReached": false,
       "aggType": "",
       "arguments": {},
       "columnCustomDisplayInfos": {},
       "data": [
        [
         "Volkswagen",
         11
        ],
        [
         "Jaguar",
         1
        ],
        [
         "Mitsubishi",
         3
        ],
        [
         "Kia",
         3
        ],
        [
         "Hyundai",
         3
        ],
        [
         "Honda",
         4
        ],
        [
         "Audi",
         10
        ],
        [
         "Land Rover",
         1
        ],
        [
         "Mercedes-Benz",
         29
        ],
        [
         "Renault",
         2
        ],
        [
         "Chrysler",
         1
        ],
        [
         "BMW",
         17
        ],
        [
         "Porsche",
         9
        ],
        [
         "Toyota",
         13
        ],
        [
         "Nissan",
         10
        ],
        [
         "Ford",
         1
        ],
        [
         "Volkswagen",
         15
        ],
        [
         "Chevrolet",
         1
        ],
        [
         "Audi",
         11
        ],
        [
         "Land Rover",
         2
        ],
        [
         "Mercedes-Benz",
         32
        ],
        [
         "BMW",
         20
        ],
        [
         "Opel",
         1
        ],
        [
         "Skoda",
         1
        ],
        [
         "Toyota",
         18
        ]
       ],
       "datasetInfos": [],
       "dbfsResultPath": null,
       "isJsonSchema": true,
       "metadata": {},
       "overflow": false,
       "plotOptions": {
        "customPlotOptions": {},
        "displayType": "table",
        "pivotAggregation": null,
        "pivotColumns": null,
        "xColumns": null,
        "yColumns": null
       },
       "removedWidgets": [],
       "schema": [
        {
         "metadata": "{}",
         "name": "car",
         "type": "\"string\""
        },
        {
         "metadata": "{}",
         "name": "count(price)",
         "type": "\"long\""
        }
       ],
       "type": "table"
      }
     },
     "output_type": "display_data"
    }
   ],
   "source": [
    "%sql\n",
    "\n",
    "select * from carTotalPrice;"
   ]
  },
  {
   "cell_type": "code",
   "execution_count": null,
   "metadata": {
    "application/vnd.databricks.v1+cell": {
     "cellMetadata": {},
     "inputWidgets": {},
     "nuid": "8cc5be70-93de-4fd9-91f7-c630f08e93fc",
     "showTitle": false,
     "title": ""
    }
   },
   "outputs": [],
   "source": []
  }
 ],
 "metadata": {
  "application/vnd.databricks.v1+notebook": {
   "dashboards": [],
   "language": "python",
   "notebookMetadata": {
    "mostRecentlyExecutedCommandWithImplicitDF": {
     "commandId": 1461889429917953,
     "dataframes": [
      "_sqldf"
     ]
    },
    "pythonIndentUnit": 4
   },
   "notebookName": "OutputMode",
   "widgets": {}
  },
  "language_info": {
   "name": "python"
  }
 },
 "nbformat": 4,
 "nbformat_minor": 0
}
