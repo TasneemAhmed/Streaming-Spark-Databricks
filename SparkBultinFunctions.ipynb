{
 "cells": [
  {
   "cell_type": "code",
   "execution_count": 0,
   "metadata": {
    "application/vnd.databricks.v1+cell": {
     "cellMetadata": {
      "byteLimit": 2048000,
      "rowLimit": 10000
     },
     "inputWidgets": {},
     "nuid": "7851008b-565d-4bef-a250-8d29d877e7e6",
     "showTitle": false,
     "title": ""
    }
   },
   "outputs": [
    {
     "output_type": "display_data",
     "data": {
      "text/html": [
       "<style scoped>\n",
       "  .table-result-container {\n",
       "    max-height: 300px;\n",
       "    overflow: auto;\n",
       "  }\n",
       "  table, th, td {\n",
       "    border: 1px solid black;\n",
       "    border-collapse: collapse;\n",
       "  }\n",
       "  th, td {\n",
       "    padding: 5px;\n",
       "  }\n",
       "  th {\n",
       "    text-align: left;\n",
       "  }\n",
       "</style><div class='table-result-container'><table class='table-result'><thead style='background-color: white'><tr><th>imdb_id</th><th>title</th><th>certificate</th><th>startYear</th><th>type</th><th>origin_country</th><th>language</th><th>rating</th><th>numVotes</th><th>genres</th></tr></thead><tbody><tr><td>tt0993840</td><td>Army of the Dead</td><td>18</td><td>2021</td><td>movie</td><td>United States</td><td>English</td><td>5.8</td><td>110780.0</td><td>Action,Crime,Horror</td></tr><tr><td>tt6111574</td><td>The Woman in the Window</td><td>18</td><td>2021</td><td>movie</td><td>United States</td><td>English</td><td>5.7</td><td>46703.0</td><td>Crime,Drama,Mystery</td></tr><tr><td>tt7979580</td><td>The Mitchells vs the Machines</td><td>13</td><td>2021</td><td>movie</td><td>United States</td><td>English</td><td>7.8</td><td>55762.0</td><td>Adventure,Animation,Comedy</td></tr><tr><td>tt7084386</td><td>Blue Miracle</td><td>13</td><td>2021</td><td>movie</td><td>United States</td><td>English</td><td>6.7</td><td>2962.0</td><td>Adventure,Biography,Drama</td></tr><tr><td>tt10962368</td><td>Things Heard & Seen</td><td>16</td><td>2021</td><td>movie</td><td>United States</td><td>English</td><td>5.3</td><td>20762.0</td><td>Drama,Horror,Mystery</td></tr><tr><td>tt9203694</td><td>Stowaway</td><td>13</td><td>2021</td><td>movie</td><td>Germany</td><td>English</td><td>5.6</td><td>33501.0</td><td>Drama,Sci-Fi,Thriller</td></tr><tr><td>tt11286314</td><td>Don't Look Up</td><td>null</td><td>2021</td><td>movie</td><td>United States</td><td>English</td><td>null</td><td>null</td><td>Comedy</td></tr><tr><td>tt9013182</td><td>I Am All Girls</td><td>16</td><td>2021</td><td>movie</td><td>South Africa</td><td>English</td><td>5.8</td><td>3283.0</td><td>Crime,Drama,Mystery</td></tr><tr><td>tt9848626</td><td>Hotel Transylvania: Transformania</td><td>null</td><td>2021</td><td>movie</td><td>United States</td><td>English</td><td>null</td><td>null</td><td>Adventure,Animation,Comedy</td></tr><tr><td>tt3661210</td><td>The Dig</td><td>16</td><td>2021</td><td>movie</td><td>United Kingdom</td><td>English</td><td>7.1</td><td>56763.0</td><td>Biography,Drama,History</td></tr><tr><td>tt10121392</td><td>Thunder Force</td><td>13</td><td>2021</td><td>movie</td><td>United States</td><td>English</td><td>4.4</td><td>33506.0</td><td>Action,Adventure,Comedy</td></tr><tr><td>tt3758814</td><td>The Ice Road</td><td>PG-13</td><td>2021</td><td>movie</td><td>United States</td><td>English</td><td>null</td><td>null</td><td>Thriller</td></tr><tr><td>tt8368408</td><td>Gunpowder Milkshake</td><td>R</td><td>2021</td><td>movie</td><td>France</td><td>English</td><td>null</td><td>null</td><td>Action,Adventure,Thriller</td></tr><tr><td>tt6566576</td><td>Fear Street</td><td>null</td><td>2021</td><td>movie</td><td>United States</td><td>English</td><td>null</td><td>null</td><td>Horror,Mystery</td></tr><tr><td>tt12939812</td><td>The Nailbomber</td><td>null</td><td>2021</td><td>movie</td><td>United Kingdom</td><td>English</td><td>6.3</td><td>1107.0</td><td>Crime,Documentary,History</td></tr><tr><td>tt10418662</td><td>Awake</td><td>18</td><td>2021</td><td>movie</td><td>United States</td><td>English</td><td>4.8</td><td>2846.0</td><td>Action,Adventure,Drama</td></tr><tr><td>tt6432466</td><td>Moxie</td><td>13</td><td>2021</td><td>movie</td><td>United States</td><td>English</td><td>6.7</td><td>18962.0</td><td>Comedy,Drama,Music</td></tr><tr><td>tt8521876</td><td>Yes Day</td><td>7</td><td>2021</td><td>movie</td><td>United States</td><td>English</td><td>5.7</td><td>17536.0</td><td>Comedy,Family</td></tr><tr><td>tt6733874</td><td>America: The Motion Picture</td><td>null</td><td>2021</td><td>movie</td><td>United States</td><td>English</td><td>null</td><td>null</td><td>Action,Adventure,Animation</td></tr><tr><td>tt10451914</td><td>Outside the Wire</td><td>18</td><td>2021</td><td>movie</td><td>Hungary</td><td>English</td><td>5.4</td><td>35882.0</td><td>Action,Adventure,Fantasy</td></tr><tr><td>tt7991608</td><td>Red Notice</td><td>null</td><td>2021</td><td>movie</td><td>United States</td><td>English</td><td>null</td><td>null</td><td>Action,Comedy,Crime</td></tr><tr><td>tt9684220</td><td>Bad Trip</td><td>18</td><td>2021</td><td>movie</td><td>United States</td><td>English</td><td>6.6</td><td>18590.0</td><td>Comedy</td></tr><tr><td>tt12676326</td><td>Malcolm & Marie</td><td>18</td><td>2021</td><td>movie</td><td>United States</td><td>English</td><td>6.7</td><td>28869.0</td><td>Drama,Romance</td></tr><tr><td>tt10332588</td><td>Finding 'Ohana</td><td>7</td><td>2021</td><td>movie</td><td>United States</td><td>English</td><td>6.1</td><td>7636.0</td><td>Action,Adventure,Comedy</td></tr><tr><td>tt4733624</td><td>Fatherhood</td><td>PG-13</td><td>2021</td><td>movie</td><td>United States</td><td>English</td><td>null</td><td>null</td><td>Comedy,Drama</td></tr><tr><td>tt7897330</td><td>Deadly Illusions</td><td>18</td><td>2021</td><td>movie</td><td>United States</td><td>English</td><td>3.6</td><td>9808.0</td><td>Drama,Thriller</td></tr><tr><td>tt6467266</td><td>Sing 2</td><td>PG</td><td>2021</td><td>movie</td><td>France</td><td>English</td><td>null</td><td>null</td><td>Adventure,Animation,Comedy</td></tr><tr><td>tt11388278</td><td>A Week Away</td><td>13</td><td>2021</td><td>movie</td><td>United States</td><td>English</td><td>5.7</td><td>3247.0</td><td>Drama,Family,Musical</td></tr><tr><td>tt1655389</td><td>Blonde</td><td>null</td><td>2021</td><td>movie</td><td>United States</td><td>English</td><td>null</td><td>null</td><td>Biography,Drama,Romance</td></tr><tr><td>tt4590256</td><td>He's All That</td><td>null</td><td>2021</td><td>movie</td><td>United States</td><td>English</td><td>null</td><td>null</td><td>Comedy,Romance</td></tr><tr><td>tt14152756</td><td>Seaspiracy</td><td>18</td><td>2021</td><td>movie</td><td>United States</td><td>English</td><td>8.2</td><td>23284.0</td><td>Adventure,Documentary</td></tr><tr><td>tt13024674</td><td>Army of Thieves</td><td>null</td><td>2021</td><td>movie</td><td>Germany</td><td>English</td><td>null</td><td>null</td><td>Action,Crime,Horror</td></tr><tr><td>tt5562070</td><td>Wish Dragon</td><td>7</td><td>2021</td><td>movie</td><td>China</td><td>English</td><td>6.9</td><td>221.0</td><td>Adventure,Animation,Comedy</td></tr><tr><td>tt10676012</td><td>To All the Boys: Always and Forever</td><td>13</td><td>2021</td><td>movie</td><td>United States</td><td>English</td><td>6.3</td><td>17605.0</td><td>Comedy,Drama,Romance</td></tr><tr><td>tt8231668</td><td>Good on Paper</td><td>R</td><td>2021</td><td>movie</td><td>United States</td><td>English</td><td>null</td><td>null</td><td>Comedy,Romance</td></tr><tr><td>tt9783600</td><td>Escape From Spiderhead</td><td>null</td><td>2021</td><td>movie</td><td>United States</td><td>English</td><td>null</td><td>null</td><td>Action,Mystery,Sci-Fi</td></tr><tr><td>tt1893273</td><td>The Last Letter from Your Lover</td><td>null</td><td>2021</td><td>movie</td><td>United Kingdom</td><td>English</td><td>null</td><td>null</td><td>Drama,Romance</td></tr><tr><td>tt12783454</td><td>The Kissing Booth 3</td><td>null</td><td>2021</td><td>movie</td><td>United Kingdom</td><td>English</td><td>null</td><td>null</td><td>Comedy,Romance</td></tr><tr><td>tt10731768</td><td>Sweet Girl</td><td>R</td><td>2021</td><td>movie</td><td>United States</td><td>English</td><td>null</td><td>null</td><td>Action,Drama,Thriller</td></tr><tr><td>tt3447590</td><td>Matilda</td><td>null</td><td>2021</td><td>movie</td><td>United Kingdom</td><td>English</td><td>null</td><td>null</td><td>Comedy,Drama,Family</td></tr><tr><td>tt14539726</td><td>Breaking Boundaries: The Science of Our Planet</td><td>7</td><td>2021</td><td>movie</td><td>United States</td><td>English</td><td>7.8</td><td>475.0</td><td>Documentary</td></tr><tr><td>tt8721424</td><td>tick, tick...Boom!</td><td>null</td><td>2021</td><td>movie</td><td>United States</td><td>English</td><td>null</td><td>null</td><td>Biography,Drama,Musical</td></tr><tr><td>tt13932162</td><td>Secret Magic Control Agency</td><td>7</td><td>2021</td><td>movie</td><td>Russia</td><td>English</td><td>6.2</td><td>2241.0</td><td>Adventure,Animation,Comedy</td></tr><tr><td>tt6338498</td><td>Vivo</td><td>PG</td><td>2021</td><td>movie</td><td>Canada</td><td>English</td><td>null</td><td>null</td><td>Adventure,Animation,Comedy</td></tr><tr><td>tt9421570</td><td>The Guilty</td><td>R</td><td>2021</td><td>movie</td><td>United States</td><td>English</td><td>null</td><td>null</td><td>Crime,Drama,Thriller</td></tr><tr><td>tt10293406</td><td>The Power of the Dog</td><td>null</td><td>2021</td><td>movie</td><td>United Kingdom</td><td>English</td><td>null</td><td>null</td><td>Drama</td></tr><tr><td>tt6964940</td><td>Skater Girl</td><td>7</td><td>2021</td><td>movie</td><td>United States</td><td>English</td><td>null</td><td>null</td><td>Drama,Family,Sport</td></tr><tr><td>tt14611368</td><td>Trippin' with the Kandasamys</td><td>null</td><td>2021</td><td>movie</td><td>South Africa</td><td>English</td><td>5.3</td><td>146.0</td><td>Comedy,Romance</td></tr><tr><td>tt12851396</td><td>Trollhunters: Rise of the Titans</td><td>null</td><td>2021</td><td>movie</td><td>United States</td><td>English</td><td>null</td><td>null</td><td>Action,Adventure,Animation</td></tr><tr><td>tt9701940</td><td>Fear Street 2</td><td>null</td><td>2021</td><td>movie</td><td>United States</td><td>English</td><td>null</td><td>null</td><td>Horror,Mystery</td></tr><tr><td>tt7737528</td><td>Kate</td><td>R</td><td>2021</td><td>movie</td><td>United States</td><td>English</td><td>null</td><td>null</td><td>Action,Adventure,Crime</td></tr><tr><td>tt6714432</td><td>The Loud House</td><td>null</td><td>2021</td><td>movie</td><td>Spain</td><td>English</td><td>null</td><td>null</td><td>Action,Adventure,Animation</td></tr><tr><td>tt14111734</td><td>Operation Varsity Blues: The College Admissions Scandal</td><td>13</td><td>2021</td><td>movie</td><td>United States</td><td>English</td><td>7.0</td><td>6284.0</td><td>Crime,Documentary,Drama</td></tr><tr><td>tt6076668</td><td>Hating Peter Tatchell</td><td>null</td><td>2021</td><td>movie</td><td>Australia</td><td>English</td><td>7.5</td><td>244.0</td><td>Documentary</td></tr><tr><td>tt9701942</td><td>Fear Street 3</td><td>null</td><td>2021</td><td>movie</td><td>United States</td><td>English</td><td>null</td><td>null</td><td>Horror,Mystery</td></tr><tr><td>tt10696784</td><td>The Harder They Fall</td><td>null</td><td>2021</td><td>movie</td><td>United States</td><td>English</td><td>null</td><td>null</td><td>Drama,Western</td></tr><tr><td>tt8893974</td><td>Passing</td><td>PG-13</td><td>2021</td><td>movie</td><td>United Kingdom</td><td>English</td><td>7.1</td><td>182.0</td><td>Drama</td></tr><tr><td>tt7475578</td><td>Munich</td><td>null</td><td>2021</td><td>movie</td><td>United Kingdom</td><td>English</td><td>null</td><td>null</td><td>Biography,Drama,History</td></tr><tr><td>tt10187208</td><td>A Boy Called Christmas</td><td>null</td><td>2021</td><td>movie</td><td>United Kingdom</td><td>English</td><td>null</td><td>null</td><td>Adventure,Drama,Family</td></tr><tr><td>tt14307536</td><td>A Jazzman's Blues</td><td>null</td><td>2021</td><td>movie</td><td>United States</td><td>English</td><td>null</td><td>null</td><td>Drama</td></tr><tr><td>tt11233960</td><td>Untitled Sandra Bullock/Nora Fingscheidt Project</td><td>null</td><td>2021</td><td>movie</td><td>United Kingdom</td><td>English</td><td>null</td><td>null</td><td>Drama</td></tr><tr><td>tt10763820</td><td>Night Teeth</td><td>null</td><td>2021</td><td>movie</td><td>United States</td><td>English</td><td>null</td><td>null</td><td>Thriller</td></tr><tr><td>tt14369930</td><td>In Our Mothers' Gardens</td><td>null</td><td>2021</td><td>movie</td><td>United States</td><td>English</td><td>8.9</td><td>51.0</td><td>Documentary</td></tr><tr><td>tt11657662</td><td>The Witcher: Nightmare of the Wolf</td><td>null</td><td>2021</td><td>movie</td><td>United States</td><td>English</td><td>null</td><td>null</td><td>Action,Adventure,Animation</td></tr><tr><td>tt13575806</td><td>Back to the Outback</td><td>null</td><td>2021</td><td>movie</td><td>United States</td><td>English</td><td>null</td><td>null</td><td>Adventure,Animation,Comedy</td></tr><tr><td>tt8150814</td><td>There's Someone Inside Your House</td><td>null</td><td>2021</td><td>movie</td><td>United States</td><td>English</td><td>null</td><td>null</td><td>Horror,Thriller</td></tr><tr><td>tt14058484</td><td>Biggie: I Got a Story to Tell</td><td>18</td><td>2021</td><td>movie</td><td>United States</td><td>English</td><td>6.9</td><td>4135.0</td><td>Biography,Documentary,Music</td></tr><tr><td>tt12141112</td><td>Metal Lords</td><td>null</td><td>2021</td><td>movie</td><td>United States</td><td>English</td><td>null</td><td>null</td><td>Drama,Music</td></tr><tr><td>tt13842562</td><td>Pelé</td><td>13</td><td>2021</td><td>movie</td><td>United Kingdom</td><td>English</td><td>7.0</td><td>3268.0</td><td>Biography,Documentary,Sport</td></tr><tr><td>tt13583144</td><td>The Minimalists: Less Is Now</td><td>13</td><td>2021</td><td>movie</td><td>United States</td><td>English</td><td>5.9</td><td>3238.0</td><td>Documentary</td></tr><tr><td>tt11364112</td><td>Beauty</td><td>null</td><td>2021</td><td>movie</td><td>United States</td><td>English</td><td>null</td><td>null</td><td>Drama,Romance</td></tr><tr><td>tt14731142</td><td>The Princess Switch 3</td><td>null</td><td>2021</td><td>movie</td><td>United States</td><td>English</td><td>null</td><td>null</td><td>Comedy,Drama,Family</td></tr><tr><td>tt10752004</td><td>Love Hard</td><td>null</td><td>2021</td><td>movie</td><td>United States</td><td>English</td><td>null</td><td>null</td><td>Comedy,Romance</td></tr><tr><td>tt13787118</td><td>Strip Down, Rise Up</td><td>18</td><td>2021</td><td>movie</td><td>United States</td><td>English</td><td>5.2</td><td>492.0</td><td>Documentary</td></tr><tr><td>tt9784708</td><td>Rise of the Teenage Mutant Ninja Turtles</td><td>null</td><td>2021</td><td>movie</td><td>United States</td><td>English</td><td>null</td><td>null</td><td>Action,Adventure,Animation</td></tr><tr><td>tt10521144</td><td>Nightbooks</td><td>null</td><td>2021</td><td>movie</td><td>United States</td><td>English</td><td>null</td><td>null</td><td>Family,Fantasy,Horror</td></tr><tr><td>tt13649700</td><td>Crack: Cocaine, Corruption & Conspiracy</td><td>18</td><td>2021</td><td>movie</td><td>United States</td><td>English</td><td>6.7</td><td>2640.0</td><td>Crime,Documentary,History</td></tr><tr><td>tt13873302</td><td>Against the Ice</td><td>null</td><td>2021</td><td>movie</td><td>United States</td><td>English</td><td>null</td><td>null</td><td>Adventure,Drama,History</td></tr><tr><td>tt12929990</td><td>Resort to Love</td><td>null</td><td>2021</td><td>movie</td><td>United States</td><td>English</td><td>null</td><td>null</td><td>Comedy,Romance</td></tr><tr><td>tt13070602</td><td>A Castle for Christmas</td><td>null</td><td>2021</td><td>movie</td><td>United States</td><td>English</td><td>null</td><td>null</td><td>Adventure,Comedy,Family</td></tr><tr><td>tt11224358</td><td>Pray Away</td><td>null</td><td>2021</td><td>movie</td><td>United States</td><td>English</td><td>null</td><td>null</td><td>Documentary</td></tr><tr><td>tt14315756</td><td>Single All the Way</td><td>null</td><td>2021</td><td>movie</td><td>United States</td><td>English</td><td>null</td><td>null</td><td>Comedy,Drama,Romance</td></tr><tr><td>tt9337574</td><td>Sisters on Track</td><td>PG</td><td>2021</td><td>movie</td><td>United States</td><td>English</td><td>null</td><td>null</td><td>Documentary,Sport</td></tr><tr><td>tt5563324</td><td>Intrusion</td><td>null</td><td>2021</td><td>movie</td><td>United States</td><td>English</td><td>null</td><td>null</td><td>Thriller</td></tr><tr><td>tt13947978</td><td>Accomplice</td><td>null</td><td>2021</td><td>movie</td><td>United States</td><td>English</td><td>7.3</td><td>193.0</td><td>Documentary</td></tr><tr><td>tt12383460</td><td>Hypnotic</td><td>null</td><td>2021</td><td>movie</td><td>United States</td><td>English</td><td>null</td><td>null</td><td>Horror,Thriller</td></tr><tr><td>tt12885272</td><td>Diana</td><td>PG-13</td><td>2021</td><td>movie</td><td>United States</td><td>English</td><td>null</td><td>null</td><td>Biography,Drama,Musical</td></tr><tr><td>tt14684160</td><td>Headspace: Unwind Your Mind</td><td>All</td><td>2021</td><td>movie</td><td>United States</td><td>English</td><td>null</td><td>null</td><td>Animation,Documentary</td></tr><tr><td>tt14539744</td><td>Bob Ross: Happy Accidents, Betrayal & Greed</td><td>null</td><td>2021</td><td>movie</td><td>United States</td><td>English</td><td>null</td><td>null</td><td>Documentary</td></tr><tr><td>tt13666778</td><td>Kane Chonicles</td><td>null</td><td>2021</td><td>movie</td><td>United States</td><td>English</td><td>null</td><td>null</td><td>Adventure</td></tr><tr><td>tt13266974</td><td>Untitled Netflix Family Comedy 2021</td><td>null</td><td>2021</td><td>movie</td><td>United States</td><td>English</td><td>null</td><td>null</td><td>Comedy</td></tr><tr><td>tt11893274</td><td>Untitled Boeing 737 Max/Rory Kennedy Project</td><td>null</td><td>2021</td><td>movie</td><td>United States</td><td>English</td><td>null</td><td>null</td><td>Documentary</td></tr><tr><td>tt14307890</td><td>Happiness Ever After</td><td>null</td><td>2021</td><td>movie</td><td>South Africa</td><td>English</td><td>null</td><td>null</td><td>Drama,Romance</td></tr><tr><td>tt2222042</td><td>Love and Monsters</td><td>13</td><td>2020</td><td>movie</td><td>Canada</td><td>English</td><td>7.0</td><td>91971.0</td><td>Action,Adventure,Comedy</td></tr><tr><td>tt9893250</td><td>I Care a Lot</td><td>18</td><td>2020</td><td>movie</td><td>United States</td><td>English</td><td>6.3</td><td>101431.0</td><td>Comedy,Crime,Thriller</td></tr><tr><td>tt8580274</td><td>Eurovision Song Contest: The Story of Fire Saga</td><td>PG-13</td><td>2020</td><td>movie</td><td>United States</td><td>English</td><td>6.5</td><td>82411.0</td><td>Comedy,Music</td></tr><tr><td>tt7395114</td><td>The Devil All the Time</td><td>18</td><td>2020</td><td>movie</td><td>United States</td><td>English</td><td>7.1</td><td>105158.0</td><td>Crime,Drama,Thriller</td></tr><tr><td>tt1838556</td><td>Honest Thief</td><td>PG-13</td><td>2020</td><td>movie</td><td>United States</td><td>English</td><td>6.0</td><td>36583.0</td><td>Action,Crime,Drama</td></tr><tr><td>tt8633478</td><td>Run</td><td>PG-13</td><td>2020</td><td>movie</td><td>United States</td><td>English</td><td>6.7</td><td>50255.0</td><td>Mystery,Thriller</td></tr><tr><td>tt6878306</td><td>News of the World</td><td>16</td><td>2020</td><td>movie</td><td>United States</td><td>English</td><td>6.8</td><td>65228.0</td><td>Action,Adventure,Drama</td></tr><tr><td>tt7846844</td><td>Enola Holmes</td><td>13</td><td>2020</td><td>movie</td><td>United Kingdom</td><td>English</td><td>6.6</td><td>140708.0</td><td>Action,Adventure,Crime</td></tr><tr><td>tt1070874</td><td>The Trial of the Chicago 7</td><td>18</td><td>2020</td><td>movie</td><td>United States</td><td>English</td><td>7.8</td><td>147967.0</td><td>Drama,History,Thriller</td></tr><tr><td>tt4779326</td><td>The Water Man</td><td>PG</td><td>2020</td><td>movie</td><td>United States</td><td>English</td><td>4.9</td><td>565.0</td><td>Adventure,Drama,Family</td></tr><tr><td>tt9820556</td><td>Breach</td><td>R</td><td>2020</td><td>movie</td><td>Canada</td><td>English</td><td>2.9</td><td>7561.0</td><td>Action,Sci-Fi</td></tr><tr><td>tt7556122</td><td>The Old Guard</td><td>18</td><td>2020</td><td>movie</td><td>United States</td><td>English</td><td>6.7</td><td>137367.0</td><td>Action,Adventure,Fantasy</td></tr><tr><td>tt8936646</td><td>Extraction</td><td>18</td><td>2020</td><td>movie</td><td>United States</td><td>English</td><td>6.7</td><td>169609.0</td><td>Action,Thriller</td></tr><tr><td>tt8629748</td><td>Spenser Confidential</td><td>18</td><td>2020</td><td>movie</td><td>United States</td><td>English</td><td>6.2</td><td>75475.0</td><td>Action,Comedy,Crime</td></tr><tr><td>tt10618286</td><td>Mank</td><td>16</td><td>2020</td><td>movie</td><td>United States</td><td>English</td><td>6.9</td><td>61633.0</td><td>Biography,Comedy,Drama</td></tr><tr><td>tt6772802</td><td>Hillbilly Elegy</td><td>18</td><td>2020</td><td>movie</td><td>United States</td><td>English</td><td>6.7</td><td>35778.0</td><td>Drama</td></tr><tr><td>tt2235695</td><td>Rebecca</td><td>18</td><td>2020</td><td>movie</td><td>United Kingdom</td><td>English</td><td>6.0</td><td>34569.0</td><td>Drama,Mystery,Romance</td></tr><tr><td>tt7939766</td><td>I'm Thinking of Ending Things</td><td>16</td><td>2020</td><td>movie</td><td>United States</td><td>English</td><td>6.6</td><td>69398.0</td><td>Drama,Thriller</td></tr><tr><td>tt11161474</td><td>Pieces of a Woman</td><td>18</td><td>2020</td><td>movie</td><td>Canada</td><td>English</td><td>7.1</td><td>40086.0</td><td>Drama</td></tr><tr><td>tt12888462</td><td>My Octopus Teacher</td><td>7</td><td>2020</td><td>movie</td><td>South Africa</td><td>English</td><td>8.1</td><td>38740.0</td><td>Documentary</td></tr><tr><td>tt0983946</td><td>Fantasy Island</td><td>A</td><td>2020</td><td>movie</td><td>United States</td><td>English</td><td>4.9</td><td>40351.0</td><td>Action,Adventure,Fantasy</td></tr><tr><td>tt9619798</td><td>The Wrong Missy</td><td>18</td><td>2020</td><td>movie</td><td>United States</td><td>English</td><td>5.7</td><td>34222.0</td><td>Comedy,Romance</td></tr><tr><td>tt10539608</td><td>The Midnight Sky</td><td>13</td><td>2020</td><td>movie</td><td>United States</td><td>English</td><td>5.6</td><td>74470.0</td><td>Drama,Fantasy,Sci-Fi</td></tr><tr><td>tt10600398</td><td>We Can Be Heroes</td><td>7</td><td>2020</td><td>movie</td><td>United States</td><td>English</td><td>4.7</td><td>11673.0</td><td>Action,Comedy,Drama</td></tr><tr><td>tt7550000</td><td>Project Power</td><td>16</td><td>2020</td><td>movie</td><td>United States</td><td>English</td><td>6.0</td><td>75538.0</td><td>Action,Crime,Sci-Fi</td></tr><tr><td>tt11024272</td><td>The Babysitter: Killer Queen</td><td>18</td><td>2020</td><td>movie</td><td>United States</td><td>English</td><td>5.8</td><td>29703.0</td><td>Comedy,Horror</td></tr><tr><td>tt8508734</td><td>His House</td><td>16</td><td>2020</td><td>movie</td><td>United Kingdom</td><td>English</td><td>6.5</td><td>30212.0</td><td>Drama,Horror,Thriller</td></tr><tr><td>tt10514222</td><td>Ma Rainey's Black Bottom</td><td>16</td><td>2020</td><td>movie</td><td>United States</td><td>English</td><td>7.0</td><td>43065.0</td><td>Drama,Music</td></tr><tr><td>tt10682266</td><td>Hubie Halloween</td><td>13</td><td>2020</td><td>movie</td><td>United States</td><td>English</td><td>5.2</td><td>41175.0</td><td>Comedy,Mystery</td></tr><tr><td>tt8846176</td><td>Concrete Cowboy</td><td>16</td><td>2020</td><td>movie</td><td>United Kingdom</td><td>English</td><td>6.3</td><td>6320.0</td><td>Drama</td></tr><tr><td>tt3907584</td><td>All the Bright Places</td><td>18</td><td>2020</td><td>movie</td><td>United States</td><td>English</td><td>6.5</td><td>23088.0</td><td>Drama,Romance</td></tr><tr><td>tt9866072</td><td>Holidate</td><td>16</td><td>2020</td><td>movie</td><td>United States</td><td>English</td><td>6.1</td><td>49581.0</td><td>Comedy,Romance</td></tr><tr><td>tt1918734</td><td>2067</td><td>null</td><td>2020</td><td>movie</td><td>Australia</td><td>English</td><td>4.9</td><td>6376.0</td><td>Sci-Fi</td></tr><tr><td>tt10308928</td><td>Force of Nature</td><td>A</td><td>2020</td><td>movie</td><td>United States</td><td>English</td><td>4.5</td><td>8425.0</td><td>Action,Crime,Drama</td></tr><tr><td>tt9777644</td><td>Da 5 Bloods</td><td>18</td><td>2020</td><td>movie</td><td>United States</td><td>English</td><td>6.5</td><td>45651.0</td><td>Adventure,Drama,War</td></tr><tr><td>tt4823776</td><td>The SpongeBob Movie: Sponge on the Run</td><td>7</td><td>2020</td><td>movie</td><td>United States</td><td>English</td><td>6.0</td><td>13393.0</td><td>Adventure,Animation,Comedy</td></tr><tr><td>tt12139700</td><td>Jungle Beat: The Movie</td><td>G</td><td>2020</td><td>movie</td><td>Mauritius</td><td>English</td><td>5.5</td><td>658.0</td><td>Adventure,Animation,Comedy</td></tr><tr><td>tt6317656</td><td>Penguin Bloom</td><td>13</td><td>2020</td><td>movie</td><td>Australia</td><td>English</td><td>6.8</td><td>6338.0</td><td>Drama</td></tr><tr><td>tt7488208</td><td>Over the Moon</td><td>7</td><td>2020</td><td>movie</td><td>China</td><td>English</td><td>6.4</td><td>17434.0</td><td>Adventure,Animation,Comedy</td></tr><tr><td>tt5096470</td><td>Love Wedding Repeat</td><td>18</td><td>2020</td><td>movie</td><td>United Kingdom</td><td>English</td><td>5.5</td><td>18362.0</td><td>Comedy,Romance</td></tr><tr><td>tt10161886</td><td>The Prom</td><td>13</td><td>2020</td><td>movie</td><td>United States</td><td>English</td><td>5.9</td><td>23847.0</td><td>Comedy,Drama,Musical</td></tr><tr><td>tt9784456</td><td>The Kissing Booth 2</td><td>13</td><td>2020</td><td>movie</td><td>United Kingdom</td><td>English</td><td>5.8</td><td>22962.0</td><td>Comedy,Romance</td></tr><tr><td>tt3111426</td><td>Lost Girls</td><td>R</td><td>2020</td><td>movie</td><td>United States</td><td>English</td><td>6.1</td><td>18335.0</td><td>Drama,Mystery,Thriller</td></tr><tr><td>tt7970348</td><td>The Stand In</td><td>R</td><td>2020</td><td>movie</td><td>United States</td><td>English</td><td>4.6</td><td>2453.0</td><td>Comedy,Drama</td></tr><tr><td>tt7456312</td><td>The Last Thing He Wanted</td><td>18</td><td>2020</td><td>movie</td><td>United States</td><td>English</td><td>4.3</td><td>13387.0</td><td>Crime,Drama,Thriller</td></tr><tr><td>tt11464826</td><td>The Social Dilemma</td><td>13</td><td>2020</td><td>movie</td><td>United States</td><td>English</td><td>7.6</td><td>70972.0</td><td>Documentary,Drama</td></tr><tr><td>tt11388406</td><td>Horse Girl</td><td>18</td><td>2020</td><td>movie</td><td>United States</td><td>English</td><td>5.9</td><td>15514.0</td><td>Drama,Mystery,Thriller</td></tr><tr><td>tt10888708</td><td>The Sleepover</td><td>7</td><td>2020</td><td>movie</td><td>United States</td><td>English</td><td>5.6</td><td>8710.0</td><td>Action,Adventure,Comedy</td></tr><tr><td>tt10199914</td><td>The Boys in the Band</td><td>18</td><td>2020</td><td>movie</td><td>United States</td><td>English</td><td>6.8</td><td>12731.0</td><td>Drama</td></tr><tr><td>tt1552211</td><td>The Last Days of American Crime</td><td>18</td><td>2020</td><td>movie</td><td>United States</td><td>English</td><td>3.7</td><td>10109.0</td><td>Action,Crime,Drama</td></tr><tr><td>tt11100856</td><td>Love, Guaranteed</td><td>7</td><td>2020</td><td>movie</td><td>United States</td><td>English</td><td>5.6</td><td>14835.0</td><td>Comedy,Romance</td></tr><tr><td>tt5206260</td><td>The Willoughbys</td><td>7</td><td>2020</td><td>movie</td><td>Canada</td><td>English</td><td>6.4</td><td>14757.0</td><td>Adventure,Animation,Comedy</td></tr><tr><td>tt10714856</td><td>Feel the Beat</td><td>7</td><td>2020</td><td>movie</td><td>United States</td><td>English</td><td>6.3</td><td>9062.0</td><td>Comedy,Drama,Family</td></tr><tr><td>tt12987894</td><td>American Murder: The Family Next Door</td><td>16</td><td>2020</td><td>movie</td><td>United States</td><td>English</td><td>7.2</td><td>21242.0</td><td>Crime,Documentary</td></tr><tr><td>tt10276470</td><td>Work It</td><td>13</td><td>2020</td><td>movie</td><td>United States</td><td>English</td><td>6.1</td><td>10490.0</td><td>Comedy,Music</td></tr><tr><td>tt8851668</td><td>The Lovebirds</td><td>18</td><td>2020</td><td>movie</td><td>United States</td><td>English</td><td>6.1</td><td>22436.0</td><td>Action,Comedy,Crime</td></tr><tr><td>tt10303430</td><td>Sightless</td><td>16</td><td>2020</td><td>movie</td><td>United States</td><td>English</td><td>5.5</td><td>6022.0</td><td>Drama,Thriller</td></tr><tr><td>tt10183816</td><td>Dangerous Lies</td><td>13</td><td>2020</td><td>movie</td><td>United States</td><td>English</td><td>5.3</td><td>15040.0</td><td>Drama,Mystery,Thriller</td></tr><tr><td>tt8145202</td><td>The F**k-It List</td><td>null</td><td>2020</td><td>movie</td><td>United States</td><td>English</td><td>5.1</td><td>4934.0</td><td>Comedy</td></tr><tr><td>tt11390036</td><td>A Fall from Grace</td><td>null</td><td>2020</td><td>movie</td><td>United States</td><td>English</td><td>5.9</td><td>13018.0</td><td>Drama,Fantasy,Thriller</td></tr><tr><td>tt8976576</td><td>Vampires vs. the Bronx</td><td>13</td><td>2020</td><td>movie</td><td>United States</td><td>English</td><td>5.6</td><td>8181.0</td><td>Comedy,Horror</td></tr><tr><td>tt5929654</td><td>Think Like a Dog</td><td>PG</td><td>2020</td><td>movie</td><td>China</td><td>English</td><td>5.2</td><td>1266.0</td><td>Comedy,Drama,Family</td></tr><tr><td>tt9354842</td><td>To All the Boys: P.S. I Still Love You</td><td>13</td><td>2020</td><td>movie</td><td>United States</td><td>English</td><td>6.0</td><td>31232.0</td><td>Comedy,Drama,Romance</td></tr><tr><td>tt1545304</td><td>Desperados</td><td>16</td><td>2020</td><td>movie</td><td>United States</td><td>English</td><td>5.2</td><td>9090.0</td><td>Comedy,Romance</td></tr><tr><td>tt4844150</td><td>A Babysitter's Guide to Monster Hunting</td><td>7</td><td>2020</td><td>movie</td><td>United States</td><td>English</td><td>5.4</td><td>3270.0</td><td>Comedy,Family,Fantasy</td></tr><tr><td>tt8750570</td><td>Sergio</td><td>18</td><td>2020</td><td>movie</td><td>United States</td><td>English</td><td>6.1</td><td>8668.0</td><td>Biography,Drama,History</td></tr><tr><td>tt8523028</td><td>Roped</td><td>PG</td><td>2020</td><td>movie</td><td>United States</td><td>English</td><td>5.4</td><td>1081.0</td><td>Drama,Romance</td></tr><tr><td>tt11989890</td><td>David Attenborough: A Life on Our Planet</td><td>13</td><td>2020</td><td>movie</td><td>United Kingdom</td><td>English</td><td>9.0</td><td>27666.0</td><td>Biography,Documentary</td></tr><tr><td>tt10933680</td><td>The Debt Collector 2</td><td>null</td><td>2020</td><td>movie</td><td>United States</td><td>English</td><td>5.8</td><td>3412.0</td><td>Action,Comedy</td></tr><tr><td>tt13055780</td><td>A California Christmas</td><td>16</td><td>2020</td><td>movie</td><td>United States</td><td>English</td><td>5.8</td><td>6793.0</td><td>Comedy,Drama,Romance</td></tr><tr><td>tt3155342</td><td>All Together Now</td><td>13</td><td>2020</td><td>movie</td><td>United States</td><td>English</td><td>6.5</td><td>3357.0</td><td>Drama</td></tr><tr><td>tt11057644</td><td>The Christmas Chronicles: Part Two</td><td>7</td><td>2020</td><td>movie</td><td>United States</td><td>English</td><td>6.0</td><td>24065.0</td><td>Adventure,Comedy,Family</td></tr><tr><td>tt11199410</td><td>The Princess Switch: Switched Again</td><td>7</td><td>2020</td><td>movie</td><td>United States</td><td>English</td><td>5.4</td><td>8108.0</td><td>Comedy,Drama,Family</td></tr><tr><td>tt8923484</td><td>Crip Camp</td><td>R</td><td>2020</td><td>movie</td><td>United States</td><td>English</td><td>7.7</td><td>6150.0</td><td>Documentary</td></tr><tr><td>tt7562334</td><td>Lady Driver</td><td>PG</td><td>2020</td><td>movie</td><td>United States</td><td>English</td><td>5.9</td><td>1055.0</td><td>Sport</td></tr><tr><td>tt9898858</td><td>Coffee & Kareem</td><td>18</td><td>2020</td><td>movie</td><td>United States</td><td>English</td><td>5.1</td><td>12250.0</td><td>Action,Comedy,Crime</td></tr><tr><td>tt11057594</td><td>Fatal Affair</td><td>16</td><td>2020</td><td>movie</td><td>United States</td><td>English</td><td>4.5</td><td>5115.0</td><td>Thriller</td></tr><tr><td>tt9735976</td><td>Wheels of Fortune</td><td>R</td><td>2020</td><td>movie</td><td>United States</td><td>English</td><td>5.4</td><td>572.0</td><td>Comedy</td></tr><tr><td>tt8618654</td><td>Kiss the Ground</td><td>7</td><td>2020</td><td>movie</td><td>United States</td><td>English</td><td>8.3</td><td>5523.0</td><td>Documentary</td></tr><tr><td>tt10642834</td><td>The Forty-Year-Old Version</td><td>18</td><td>2020</td><td>movie</td><td>United States</td><td>English</td><td>7.2</td><td>4173.0</td><td>Comedy,Drama</td></tr><tr><td>tt10540242</td><td>The Main Event</td><td>All</td><td>2020</td><td>movie</td><td>United States</td><td>English</td><td>4.8</td><td>1970.0</td><td>Action,Comedy,Family</td></tr><tr><td>tt11994750</td><td>Made You Look: A True Story About Fake Art</td><td>null</td><td>2020</td><td>movie</td><td>Canada</td><td>English</td><td>7.0</td><td>2839.0</td><td>Crime,Documentary</td></tr><tr><td>tt13297136</td><td>The Fisherman's Diary</td><td>null</td><td>2020</td><td>movie</td><td>Cameroon</td><td>English</td><td>6.5</td><td>425.0</td><td>Drama</td></tr><tr><td>tt10230414</td><td>Serious Men</td><td>16</td><td>2020</td><td>movie</td><td>India</td><td>English</td><td>6.8</td><td>6355.0</td><td>Comedy,Drama</td></tr><tr><td>tt9261218</td><td>Uncorked</td><td>null</td><td>2020</td><td>movie</td><td>United States</td><td>English</td><td>6.3</td><td>4703.0</td><td>Drama</td></tr><tr><td>tt13318052</td><td>Midnight at the Magnolia</td><td>All</td><td>2020</td><td>movie</td><td>Canada</td><td>English</td><td>5.8</td><td>4254.0</td><td>Comedy,Romance</td></tr><tr><td>tt3993886</td><td>All Day and a Night</td><td>R</td><td>2020</td><td>movie</td><td>United States</td><td>English</td><td>5.8</td><td>3192.0</td><td>Drama</td></tr><tr><td>tt13236566</td><td>Operation Christmas Drop</td><td>7</td><td>2020</td><td>movie</td><td>United States</td><td>English</td><td>5.8</td><td>9467.0</td><td>Comedy,Family,Romance</td></tr><tr><td>tt7736496</td><td>Jingle Jangle: A Christmas Journey</td><td>PG</td><td>2020</td><td>movie</td><td>United States</td><td>English</td><td>6.5</td><td>15880.0</td><td>Family,Fantasy,Musical</td></tr><tr><td>tt8310474</td><td>Bruised</td><td>null</td><td>2020</td><td>movie</td><td>United States</td><td>English</td><td>7.2</td><td>38.0</td><td>Drama,Sport</td></tr><tr><td>tt8009744</td><td>What Is Life Worth</td><td>PG-13</td><td>2020</td><td>movie</td><td>United States</td><td>English</td><td>6.9</td><td>235.0</td><td>Biography,Drama,History</td></tr><tr><td>tt12133722</td><td>Have a Good Trip: Adventures in Psychedelics</td><td>null</td><td>2020</td><td>movie</td><td>United States</td><td>English</td><td>6.8</td><td>6576.0</td><td>Comedy,Documentary</td></tr><tr><td>tt8972556</td><td>I Am Vengeance: Retaliation</td><td>R</td><td>2020</td><td>movie</td><td>United Kingdom</td><td>English</td><td>3.5</td><td>977.0</td><td>Action</td></tr><tr><td>tt11388580</td><td>Miss Americana</td><td>null</td><td>2020</td><td>movie</td><td>United States</td><td>English</td><td>7.4</td><td>16787.0</td><td>Biography,Documentary,Music</td></tr><tr><td>tt11394180</td><td>Dick Johnson Is Dead</td><td>13</td><td>2020</td><td>movie</td><td>United States</td><td>English</td><td>7.5</td><td>5209.0</td><td>Documentary,Drama</td></tr><tr><td>tt6693156</td><td>You Are My Home</td><td>null</td><td>2020</td><td>movie</td><td>United States</td><td>English</td><td>6.5</td><td>343.0</td><td>Animation,Family,Fantasy</td></tr><tr><td>tt8902948</td><td>Tigertail</td><td>13</td><td>2020</td><td>movie</td><td>United States</td><td>English</td><td>6.5</td><td>3225.0</td><td>Drama</td></tr><tr><td>tt8116640</td><td>Go!</td><td>null</td><td>2020</td><td>movie</td><td>Australia</td><td>English</td><td>5.9</td><td>2317.0</td><td>Family,Sport</td></tr><tr><td>tt11905462</td><td>Athlete A</td><td>13</td><td>2020</td><td>movie</td><td>United States</td><td>English</td><td>7.6</td><td>8369.0</td><td>Crime,Documentary,Sport</td></tr><tr><td>tt13150630</td><td>Secrets of the Saqqara Tomb</td><td>13</td><td>2020</td><td>movie</td><td>United States</td><td>English</td><td>7.3</td><td>5195.0</td><td>Documentary,History</td></tr><tr><td>tt10329566</td><td>Ricos de Amor</td><td>13</td><td>2020</td><td>movie</td><td>Brazil</td><td>English</td><td>5.8</td><td>2213.0</td><td>Comedy,Romance</td></tr><tr><td>tt3260524</td><td>A Secret Love</td><td>null</td><td>2020</td><td>movie</td><td>United States</td><td>English</td><td>7.9</td><td>3668.0</td><td>Documentary,Drama</td></tr><tr><td>tt13615386</td><td>Ariana Grande: Excuse Me, I Love You</td><td>16</td><td>2020</td><td>movie</td><td>United States</td><td>English</td><td>6.4</td><td>2009.0</td><td>Documentary,Music</td></tr><tr><td>tt11032990</td><td>Malibu Rescue: The Next Wave</td><td>null</td><td>2020</td><td>movie</td><td>United States</td><td>English</td><td>4.8</td><td>635.0</td><td>Action,Comedy,Family</td></tr><tr><td>tt12423052</td><td>Namaste Wahala</td><td>13</td><td>2020</td><td>movie</td><td>Nigeria</td><td>English</td><td>5.1</td><td>820.0</td><td>Drama,Romance</td></tr><tr><td>tt11481312</td><td>Citation</td><td>16</td><td>2020</td><td>movie</td><td>Nigeria</td><td>English</td><td>6.2</td><td>844.0</td><td>Drama,Thriller</td></tr><tr><td>tt11380884</td><td>Farewell Amor</td><td>null</td><td>2020</td><td>movie</td><td>United States</td><td>English</td><td>6.9</td><td>867.0</td><td>Drama,Music,Romance</td></tr><tr><td>tt13345636</td><td>Funny Boy</td><td>null</td><td>2020</td><td>movie</td><td>Canada</td><td>English</td><td>5.8</td><td>759.0</td><td>Drama</td></tr><tr><td>tt10768194</td><td>A New York Christmas Wedding</td><td>null</td><td>2020</td><td>movie</td><td>United States</td><td>English</td><td>5.4</td><td>835.0</td><td>Drama,Romance</td></tr><tr><td>tt10627548</td><td>Christmas on the Square</td><td>13</td><td>2020</td><td>movie</td><td>United States</td><td>English</td><td>5.2</td><td>2194.0</td><td>Comedy,Family,Musical</td></tr><tr><td>tt11010144</td><td>Seriously Single</td><td>null</td><td>2020</td><td>movie</td><td>South Africa</td><td>English</td><td>4.5</td><td>1124.0</td><td>Comedy,Romance</td></tr><tr><td>tt10851618</td><td>Rising Phoenix</td><td>13</td><td>2020</td><td>movie</td><td>United Kingdom</td><td>English</td><td>8.1</td><td>1334.0</td><td>Documentary,Sport</td></tr><tr><td>tt5244812</td><td>Riding Faith</td><td>null</td><td>2020</td><td>movie</td><td>United States</td><td>English</td><td>4.4</td><td>174.0</td><td>Family</td></tr><tr><td>tt9050898</td><td>Murder to Mercy: The Cyntoia Brown Story</td><td>null</td><td>2020</td><td>movie</td><td>United States</td><td>English</td><td>6.4</td><td>2278.0</td><td>Documentary</td></tr><tr><td>tt12221748</td><td>Becoming</td><td>7</td><td>2020</td><td>movie</td><td>United States</td><td>English</td><td>6.8</td><td>5835.0</td><td>Documentary</td></tr><tr><td>tt11843712</td><td>Not a Game</td><td>null</td><td>2020</td><td>movie</td><td>United Kingdom</td><td>English</td><td>5.6</td><td>395.0</td><td>Documentary</td></tr><tr><td>tt12767498</td><td>Barbie Princess Adventure</td><td>null</td><td>2020</td><td>movie</td><td>Netherlands</td><td>English</td><td>5.6</td><td>246.0</td><td>Animation,Musical</td></tr><tr><td>tt13260836</td><td>Angela's Christmas Wish</td><td>U</td><td>2020</td><td>movie</td><td>United States</td><td>English</td><td>7.1</td><td>1046.0</td><td>Adventure,Animation,Family</td></tr><tr><td>tt12187586</td><td>Father Soldier Son</td><td>16</td><td>2020</td><td>movie</td><td>United States</td><td>English</td><td>7.3</td><td>798.0</td><td>Documentary,War</td></tr><tr><td>tt5862338</td><td>Uppity: The Willy T. Ribbs Story</td><td>null</td><td>2020</td><td>movie</td><td>United States</td><td>English</td><td>7.9</td><td>583.0</td><td>Documentary</td></tr><tr><td>tt11953628</td><td>Maska</td><td>16</td><td>2020</td><td>movie</td><td>India</td><td>English</td><td>5.8</td><td>1312.0</td><td>Comedy,Drama,Romance</td></tr><tr><td>tt13150606</td><td>Octonauts & the Great Barrier Reef</td><td>null</td><td>2020</td><td>movie</td><td>United Kingdom</td><td>English</td><td>7.4</td><td>85.0</td><td>Action,Adventure,Animation</td></tr><tr><td>tt13276386</td><td>Shawn Mendes: In Wonder</td><td>16</td><td>2020</td><td>movie</td><td>United States</td><td>English</td><td>6.6</td><td>1734.0</td><td>Documentary,Music</td></tr><tr><td>tt12027020</td><td>LA Originals</td><td>null</td><td>2020</td><td>movie</td><td>United States</td><td>English</td><td>7.2</td><td>1600.0</td><td>Documentary</td></tr><tr><td>tt11378264</td><td>Mucho Mucho Amor: The Legend of Walter Mercado</td><td>13</td><td>2020</td><td>movie</td><td>United States</td><td>English</td><td>7.3</td><td>2876.0</td><td>Documentary</td></tr><tr><td>tt12759408</td><td>Octonauts and the Caves of Sac Actun</td><td>null</td><td>2020</td><td>movie</td><td>United Kingdom</td><td>English</td><td>6.2</td><td>116.0</td><td>Adventure,Animation,Comedy</td></tr><tr><td>tt12588448</td><td>The Larva Island Movie</td><td>null</td><td>2020</td><td>movie</td><td>South Korea</td><td>English</td><td>5.1</td><td>505.0</td><td>Adventure,Animation,Comedy</td></tr><tr><td>tt13610390</td><td>André & His Olive Tree</td><td>null</td><td>2020</td><td>movie</td><td>Singapore</td><td>English</td><td>6.8</td><td>148.0</td><td>Documentary</td></tr><tr><td>tt8741182</td><td>Dance Dreams: Hot Chocolate Nutcracker</td><td>7</td><td>2020</td><td>movie</td><td>United States</td><td>English</td><td>7.1</td><td>261.0</td><td>Documentary,Family</td></tr><tr><td>tt11642302</td><td>#cats_the_mewvie</td><td>null</td><td>2020</td><td>movie</td><td>Canada</td><td>English</td><td>5.3</td><td>407.0</td><td>Documentary</td></tr><tr><td>tt11394338</td><td>Giving Voice</td><td>13</td><td>2020</td><td>movie</td><td>United States</td><td>English</td><td>6.7</td><td>197.0</td><td>Documentary</td></tr><tr><td>tt11378154</td><td>The App That Stole Christmas</td><td>null</td><td>2020</td><td>movie</td><td>United States</td><td>English</td><td>3.6</td><td>301.0</td><td>Comedy</td></tr><tr><td>tt13528990</td><td>Shawn Mendes: Live in Concert</td><td>null</td><td>2020</td><td>movie</td><td>United Kingdom</td><td>English</td><td>7.4</td><td>200.0</td><td>Music</td></tr><tr><td>tt12692980</td><td>Thomas & Friends: Marvelous Machinery</td><td>null</td><td>2020</td><td>movie</td><td>Canada</td><td>English</td><td>7.0</td><td>6.0</td><td>Action,Adventure,Animation</td></tr><tr><td>tt12730310</td><td>The Magic School Bus Rides Again: Kids in Space</td><td>null</td><td>2020</td><td>movie</td><td>United States</td><td>English</td><td>6.2</td><td>51.0</td><td>Adventure,Animation,Comedy</td></tr><tr><td>tt12687448</td><td>Night on Earth: Shot in the Dark</td><td>null</td><td>2020</td><td>movie</td><td>United Kingdom</td><td>English</td><td>7.9</td><td>156.0</td><td>Documentary</td></tr><tr><td>tt6824530</td><td>United Nation Three Decades of Drum & Bass</td><td>null</td><td>2020</td><td>movie</td><td>United Kingdom</td><td>English</td><td>8.0</td><td>540.0</td><td>Documentary</td></tr><tr><td>tt8530796</td><td>Light in the Dark</td><td>null</td><td>2020</td><td>movie</td><td>Nigeria</td><td>English</td><td>6.0</td><td>24.0</td><td>Thriller</td></tr><tr><td>tt11710234</td><td>Pemburu di Manchester Biru</td><td>null</td><td>2020</td><td>movie</td><td>Indonesia</td><td>English</td><td>5.9</td><td>33.0</td><td>Biography,Drama</td></tr><tr><td>tt13161318</td><td>Bigflo & Oli: Hip Hop Frenzy</td><td>null</td><td>2020</td><td>movie</td><td>France</td><td>English</td><td>6.9</td><td>98.0</td><td>Documentary,Music</td></tr><tr><td>tt13034096</td><td>Horrid Henry's Gross Day Out</td><td>null</td><td>2020</td><td>movie</td><td>United Kingdom</td><td>English</td><td>6.2</td><td>33.0</td><td>Action,Adventure,Animation</td></tr><tr><td>tt11725176</td><td>Last days on Earth</td><td>null</td><td>2020</td><td>movie</td><td>United Kingdom</td><td>English</td><td>null</td><td>null</td><td>Documentary</td></tr></tbody></table></div>"
      ]
     },
     "metadata": {
      "application/vnd.databricks.v1+output": {
       "addedWidgets": {},
       "aggData": [],
       "aggError": "",
       "aggOverflow": false,
       "aggSchema": [],
       "aggSeriesLimitReached": false,
       "aggType": "",
       "arguments": {},
       "columnCustomDisplayInfos": {},
       "data": [
        [
         "tt0993840",
         "Army of the Dead",
         "18",
         2021,
         "movie",
         "United States",
         "English",
         5.8,
         110780.0,
         "Action,Crime,Horror"
        ],
        [
         "tt6111574",
         "The Woman in the Window",
         "18",
         2021,
         "movie",
         "United States",
         "English",
         5.7,
         46703.0,
         "Crime,Drama,Mystery"
        ],
        [
         "tt7979580",
         "The Mitchells vs the Machines",
         "13",
         2021,
         "movie",
         "United States",
         "English",
         7.8,
         55762.0,
         "Adventure,Animation,Comedy"
        ],
        [
         "tt7084386",
         "Blue Miracle",
         "13",
         2021,
         "movie",
         "United States",
         "English",
         6.7,
         2962.0,
         "Adventure,Biography,Drama"
        ],
        [
         "tt10962368",
         "Things Heard & Seen",
         "16",
         2021,
         "movie",
         "United States",
         "English",
         5.3,
         20762.0,
         "Drama,Horror,Mystery"
        ],
        [
         "tt9203694",
         "Stowaway",
         "13",
         2021,
         "movie",
         "Germany",
         "English",
         5.6,
         33501.0,
         "Drama,Sci-Fi,Thriller"
        ],
        [
         "tt11286314",
         "Don't Look Up",
         null,
         2021,
         "movie",
         "United States",
         "English",
         null,
         null,
         "Comedy"
        ],
        [
         "tt9013182",
         "I Am All Girls",
         "16",
         2021,
         "movie",
         "South Africa",
         "English",
         5.8,
         3283.0,
         "Crime,Drama,Mystery"
        ],
        [
         "tt9848626",
         "Hotel Transylvania: Transformania",
         null,
         2021,
         "movie",
         "United States",
         "English",
         null,
         null,
         "Adventure,Animation,Comedy"
        ],
        [
         "tt3661210",
         "The Dig",
         "16",
         2021,
         "movie",
         "United Kingdom",
         "English",
         7.1,
         56763.0,
         "Biography,Drama,History"
        ],
        [
         "tt10121392",
         "Thunder Force",
         "13",
         2021,
         "movie",
         "United States",
         "English",
         4.4,
         33506.0,
         "Action,Adventure,Comedy"
        ],
        [
         "tt3758814",
         "The Ice Road",
         "PG-13",
         2021,
         "movie",
         "United States",
         "English",
         null,
         null,
         "Thriller"
        ],
        [
         "tt8368408",
         "Gunpowder Milkshake",
         "R",
         2021,
         "movie",
         "France",
         "English",
         null,
         null,
         "Action,Adventure,Thriller"
        ],
        [
         "tt6566576",
         "Fear Street",
         null,
         2021,
         "movie",
         "United States",
         "English",
         null,
         null,
         "Horror,Mystery"
        ],
        [
         "tt12939812",
         "The Nailbomber",
         null,
         2021,
         "movie",
         "United Kingdom",
         "English",
         6.3,
         1107.0,
         "Crime,Documentary,History"
        ],
        [
         "tt10418662",
         "Awake",
         "18",
         2021,
         "movie",
         "United States",
         "English",
         4.8,
         2846.0,
         "Action,Adventure,Drama"
        ],
        [
         "tt6432466",
         "Moxie",
         "13",
         2021,
         "movie",
         "United States",
         "English",
         6.7,
         18962.0,
         "Comedy,Drama,Music"
        ],
        [
         "tt8521876",
         "Yes Day",
         "7",
         2021,
         "movie",
         "United States",
         "English",
         5.7,
         17536.0,
         "Comedy,Family"
        ],
        [
         "tt6733874",
         "America: The Motion Picture",
         null,
         2021,
         "movie",
         "United States",
         "English",
         null,
         null,
         "Action,Adventure,Animation"
        ],
        [
         "tt10451914",
         "Outside the Wire",
         "18",
         2021,
         "movie",
         "Hungary",
         "English",
         5.4,
         35882.0,
         "Action,Adventure,Fantasy"
        ],
        [
         "tt7991608",
         "Red Notice",
         null,
         2021,
         "movie",
         "United States",
         "English",
         null,
         null,
         "Action,Comedy,Crime"
        ],
        [
         "tt9684220",
         "Bad Trip",
         "18",
         2021,
         "movie",
         "United States",
         "English",
         6.6,
         18590.0,
         "Comedy"
        ],
        [
         "tt12676326",
         "Malcolm & Marie",
         "18",
         2021,
         "movie",
         "United States",
         "English",
         6.7,
         28869.0,
         "Drama,Romance"
        ],
        [
         "tt10332588",
         "Finding 'Ohana",
         "7",
         2021,
         "movie",
         "United States",
         "English",
         6.1,
         7636.0,
         "Action,Adventure,Comedy"
        ],
        [
         "tt4733624",
         "Fatherhood",
         "PG-13",
         2021,
         "movie",
         "United States",
         "English",
         null,
         null,
         "Comedy,Drama"
        ],
        [
         "tt7897330",
         "Deadly Illusions",
         "18",
         2021,
         "movie",
         "United States",
         "English",
         3.6,
         9808.0,
         "Drama,Thriller"
        ],
        [
         "tt6467266",
         "Sing 2",
         "PG",
         2021,
         "movie",
         "France",
         "English",
         null,
         null,
         "Adventure,Animation,Comedy"
        ],
        [
         "tt11388278",
         "A Week Away",
         "13",
         2021,
         "movie",
         "United States",
         "English",
         5.7,
         3247.0,
         "Drama,Family,Musical"
        ],
        [
         "tt1655389",
         "Blonde",
         null,
         2021,
         "movie",
         "United States",
         "English",
         null,
         null,
         "Biography,Drama,Romance"
        ],
        [
         "tt4590256",
         "He's All That",
         null,
         2021,
         "movie",
         "United States",
         "English",
         null,
         null,
         "Comedy,Romance"
        ],
        [
         "tt14152756",
         "Seaspiracy",
         "18",
         2021,
         "movie",
         "United States",
         "English",
         8.2,
         23284.0,
         "Adventure,Documentary"
        ],
        [
         "tt13024674",
         "Army of Thieves",
         null,
         2021,
         "movie",
         "Germany",
         "English",
         null,
         null,
         "Action,Crime,Horror"
        ],
        [
         "tt5562070",
         "Wish Dragon",
         "7",
         2021,
         "movie",
         "China",
         "English",
         6.9,
         221.0,
         "Adventure,Animation,Comedy"
        ],
        [
         "tt10676012",
         "To All the Boys: Always and Forever",
         "13",
         2021,
         "movie",
         "United States",
         "English",
         6.3,
         17605.0,
         "Comedy,Drama,Romance"
        ],
        [
         "tt8231668",
         "Good on Paper",
         "R",
         2021,
         "movie",
         "United States",
         "English",
         null,
         null,
         "Comedy,Romance"
        ],
        [
         "tt9783600",
         "Escape From Spiderhead",
         null,
         2021,
         "movie",
         "United States",
         "English",
         null,
         null,
         "Action,Mystery,Sci-Fi"
        ],
        [
         "tt1893273",
         "The Last Letter from Your Lover",
         null,
         2021,
         "movie",
         "United Kingdom",
         "English",
         null,
         null,
         "Drama,Romance"
        ],
        [
         "tt12783454",
         "The Kissing Booth 3",
         null,
         2021,
         "movie",
         "United Kingdom",
         "English",
         null,
         null,
         "Comedy,Romance"
        ],
        [
         "tt10731768",
         "Sweet Girl",
         "R",
         2021,
         "movie",
         "United States",
         "English",
         null,
         null,
         "Action,Drama,Thriller"
        ],
        [
         "tt3447590",
         "Matilda",
         null,
         2021,
         "movie",
         "United Kingdom",
         "English",
         null,
         null,
         "Comedy,Drama,Family"
        ],
        [
         "tt14539726",
         "Breaking Boundaries: The Science of Our Planet",
         "7",
         2021,
         "movie",
         "United States",
         "English",
         7.8,
         475.0,
         "Documentary"
        ],
        [
         "tt8721424",
         "tick, tick...Boom!",
         null,
         2021,
         "movie",
         "United States",
         "English",
         null,
         null,
         "Biography,Drama,Musical"
        ],
        [
         "tt13932162",
         "Secret Magic Control Agency",
         "7",
         2021,
         "movie",
         "Russia",
         "English",
         6.2,
         2241.0,
         "Adventure,Animation,Comedy"
        ],
        [
         "tt6338498",
         "Vivo",
         "PG",
         2021,
         "movie",
         "Canada",
         "English",
         null,
         null,
         "Adventure,Animation,Comedy"
        ],
        [
         "tt9421570",
         "The Guilty",
         "R",
         2021,
         "movie",
         "United States",
         "English",
         null,
         null,
         "Crime,Drama,Thriller"
        ],
        [
         "tt10293406",
         "The Power of the Dog",
         null,
         2021,
         "movie",
         "United Kingdom",
         "English",
         null,
         null,
         "Drama"
        ],
        [
         "tt6964940",
         "Skater Girl",
         "7",
         2021,
         "movie",
         "United States",
         "English",
         null,
         null,
         "Drama,Family,Sport"
        ],
        [
         "tt14611368",
         "Trippin' with the Kandasamys",
         null,
         2021,
         "movie",
         "South Africa",
         "English",
         5.3,
         146.0,
         "Comedy,Romance"
        ],
        [
         "tt12851396",
         "Trollhunters: Rise of the Titans",
         null,
         2021,
         "movie",
         "United States",
         "English",
         null,
         null,
         "Action,Adventure,Animation"
        ],
        [
         "tt9701940",
         "Fear Street 2",
         null,
         2021,
         "movie",
         "United States",
         "English",
         null,
         null,
         "Horror,Mystery"
        ],
        [
         "tt7737528",
         "Kate",
         "R",
         2021,
         "movie",
         "United States",
         "English",
         null,
         null,
         "Action,Adventure,Crime"
        ],
        [
         "tt6714432",
         "The Loud House",
         null,
         2021,
         "movie",
         "Spain",
         "English",
         null,
         null,
         "Action,Adventure,Animation"
        ],
        [
         "tt14111734",
         "Operation Varsity Blues: The College Admissions Scandal",
         "13",
         2021,
         "movie",
         "United States",
         "English",
         7.0,
         6284.0,
         "Crime,Documentary,Drama"
        ],
        [
         "tt6076668",
         "Hating Peter Tatchell",
         null,
         2021,
         "movie",
         "Australia",
         "English",
         7.5,
         244.0,
         "Documentary"
        ],
        [
         "tt9701942",
         "Fear Street 3",
         null,
         2021,
         "movie",
         "United States",
         "English",
         null,
         null,
         "Horror,Mystery"
        ],
        [
         "tt10696784",
         "The Harder They Fall",
         null,
         2021,
         "movie",
         "United States",
         "English",
         null,
         null,
         "Drama,Western"
        ],
        [
         "tt8893974",
         "Passing",
         "PG-13",
         2021,
         "movie",
         "United Kingdom",
         "English",
         7.1,
         182.0,
         "Drama"
        ],
        [
         "tt7475578",
         "Munich",
         null,
         2021,
         "movie",
         "United Kingdom",
         "English",
         null,
         null,
         "Biography,Drama,History"
        ],
        [
         "tt10187208",
         "A Boy Called Christmas",
         null,
         2021,
         "movie",
         "United Kingdom",
         "English",
         null,
         null,
         "Adventure,Drama,Family"
        ],
        [
         "tt14307536",
         "A Jazzman's Blues",
         null,
         2021,
         "movie",
         "United States",
         "English",
         null,
         null,
         "Drama"
        ],
        [
         "tt11233960",
         "Untitled Sandra Bullock/Nora Fingscheidt Project",
         null,
         2021,
         "movie",
         "United Kingdom",
         "English",
         null,
         null,
         "Drama"
        ],
        [
         "tt10763820",
         "Night Teeth",
         null,
         2021,
         "movie",
         "United States",
         "English",
         null,
         null,
         "Thriller"
        ],
        [
         "tt14369930",
         "In Our Mothers' Gardens",
         null,
         2021,
         "movie",
         "United States",
         "English",
         8.9,
         51.0,
         "Documentary"
        ],
        [
         "tt11657662",
         "The Witcher: Nightmare of the Wolf",
         null,
         2021,
         "movie",
         "United States",
         "English",
         null,
         null,
         "Action,Adventure,Animation"
        ],
        [
         "tt13575806",
         "Back to the Outback",
         null,
         2021,
         "movie",
         "United States",
         "English",
         null,
         null,
         "Adventure,Animation,Comedy"
        ],
        [
         "tt8150814",
         "There's Someone Inside Your House",
         null,
         2021,
         "movie",
         "United States",
         "English",
         null,
         null,
         "Horror,Thriller"
        ],
        [
         "tt14058484",
         "Biggie: I Got a Story to Tell",
         "18",
         2021,
         "movie",
         "United States",
         "English",
         6.9,
         4135.0,
         "Biography,Documentary,Music"
        ],
        [
         "tt12141112",
         "Metal Lords",
         null,
         2021,
         "movie",
         "United States",
         "English",
         null,
         null,
         "Drama,Music"
        ],
        [
         "tt13842562",
         "Pelé",
         "13",
         2021,
         "movie",
         "United Kingdom",
         "English",
         7.0,
         3268.0,
         "Biography,Documentary,Sport"
        ],
        [
         "tt13583144",
         "The Minimalists: Less Is Now",
         "13",
         2021,
         "movie",
         "United States",
         "English",
         5.9,
         3238.0,
         "Documentary"
        ],
        [
         "tt11364112",
         "Beauty",
         null,
         2021,
         "movie",
         "United States",
         "English",
         null,
         null,
         "Drama,Romance"
        ],
        [
         "tt14731142",
         "The Princess Switch 3",
         null,
         2021,
         "movie",
         "United States",
         "English",
         null,
         null,
         "Comedy,Drama,Family"
        ],
        [
         "tt10752004",
         "Love Hard",
         null,
         2021,
         "movie",
         "United States",
         "English",
         null,
         null,
         "Comedy,Romance"
        ],
        [
         "tt13787118",
         "Strip Down, Rise Up",
         "18",
         2021,
         "movie",
         "United States",
         "English",
         5.2,
         492.0,
         "Documentary"
        ],
        [
         "tt9784708",
         "Rise of the Teenage Mutant Ninja Turtles",
         null,
         2021,
         "movie",
         "United States",
         "English",
         null,
         null,
         "Action,Adventure,Animation"
        ],
        [
         "tt10521144",
         "Nightbooks",
         null,
         2021,
         "movie",
         "United States",
         "English",
         null,
         null,
         "Family,Fantasy,Horror"
        ],
        [
         "tt13649700",
         "Crack: Cocaine, Corruption & Conspiracy",
         "18",
         2021,
         "movie",
         "United States",
         "English",
         6.7,
         2640.0,
         "Crime,Documentary,History"
        ],
        [
         "tt13873302",
         "Against the Ice",
         null,
         2021,
         "movie",
         "United States",
         "English",
         null,
         null,
         "Adventure,Drama,History"
        ],
        [
         "tt12929990",
         "Resort to Love",
         null,
         2021,
         "movie",
         "United States",
         "English",
         null,
         null,
         "Comedy,Romance"
        ],
        [
         "tt13070602",
         "A Castle for Christmas",
         null,
         2021,
         "movie",
         "United States",
         "English",
         null,
         null,
         "Adventure,Comedy,Family"
        ],
        [
         "tt11224358",
         "Pray Away",
         null,
         2021,
         "movie",
         "United States",
         "English",
         null,
         null,
         "Documentary"
        ],
        [
         "tt14315756",
         "Single All the Way",
         null,
         2021,
         "movie",
         "United States",
         "English",
         null,
         null,
         "Comedy,Drama,Romance"
        ],
        [
         "tt9337574",
         "Sisters on Track",
         "PG",
         2021,
         "movie",
         "United States",
         "English",
         null,
         null,
         "Documentary,Sport"
        ],
        [
         "tt5563324",
         "Intrusion",
         null,
         2021,
         "movie",
         "United States",
         "English",
         null,
         null,
         "Thriller"
        ],
        [
         "tt13947978",
         "Accomplice",
         null,
         2021,
         "movie",
         "United States",
         "English",
         7.3,
         193.0,
         "Documentary"
        ],
        [
         "tt12383460",
         "Hypnotic",
         null,
         2021,
         "movie",
         "United States",
         "English",
         null,
         null,
         "Horror,Thriller"
        ],
        [
         "tt12885272",
         "Diana",
         "PG-13",
         2021,
         "movie",
         "United States",
         "English",
         null,
         null,
         "Biography,Drama,Musical"
        ],
        [
         "tt14684160",
         "Headspace: Unwind Your Mind",
         "All",
         2021,
         "movie",
         "United States",
         "English",
         null,
         null,
         "Animation,Documentary"
        ],
        [
         "tt14539744",
         "Bob Ross: Happy Accidents, Betrayal & Greed",
         null,
         2021,
         "movie",
         "United States",
         "English",
         null,
         null,
         "Documentary"
        ],
        [
         "tt13666778",
         "Kane Chonicles",
         null,
         2021,
         "movie",
         "United States",
         "English",
         null,
         null,
         "Adventure"
        ],
        [
         "tt13266974",
         "Untitled Netflix Family Comedy 2021",
         null,
         2021,
         "movie",
         "United States",
         "English",
         null,
         null,
         "Comedy"
        ],
        [
         "tt11893274",
         "Untitled Boeing 737 Max/Rory Kennedy Project",
         null,
         2021,
         "movie",
         "United States",
         "English",
         null,
         null,
         "Documentary"
        ],
        [
         "tt14307890",
         "Happiness Ever After",
         null,
         2021,
         "movie",
         "South Africa",
         "English",
         null,
         null,
         "Drama,Romance"
        ],
        [
         "tt2222042",
         "Love and Monsters",
         "13",
         2020,
         "movie",
         "Canada",
         "English",
         7.0,
         91971.0,
         "Action,Adventure,Comedy"
        ],
        [
         "tt9893250",
         "I Care a Lot",
         "18",
         2020,
         "movie",
         "United States",
         "English",
         6.3,
         101431.0,
         "Comedy,Crime,Thriller"
        ],
        [
         "tt8580274",
         "Eurovision Song Contest: The Story of Fire Saga",
         "PG-13",
         2020,
         "movie",
         "United States",
         "English",
         6.5,
         82411.0,
         "Comedy,Music"
        ],
        [
         "tt7395114",
         "The Devil All the Time",
         "18",
         2020,
         "movie",
         "United States",
         "English",
         7.1,
         105158.0,
         "Crime,Drama,Thriller"
        ],
        [
         "tt1838556",
         "Honest Thief",
         "PG-13",
         2020,
         "movie",
         "United States",
         "English",
         6.0,
         36583.0,
         "Action,Crime,Drama"
        ],
        [
         "tt8633478",
         "Run",
         "PG-13",
         2020,
         "movie",
         "United States",
         "English",
         6.7,
         50255.0,
         "Mystery,Thriller"
        ],
        [
         "tt6878306",
         "News of the World",
         "16",
         2020,
         "movie",
         "United States",
         "English",
         6.8,
         65228.0,
         "Action,Adventure,Drama"
        ],
        [
         "tt7846844",
         "Enola Holmes",
         "13",
         2020,
         "movie",
         "United Kingdom",
         "English",
         6.6,
         140708.0,
         "Action,Adventure,Crime"
        ],
        [
         "tt1070874",
         "The Trial of the Chicago 7",
         "18",
         2020,
         "movie",
         "United States",
         "English",
         7.8,
         147967.0,
         "Drama,History,Thriller"
        ],
        [
         "tt4779326",
         "The Water Man",
         "PG",
         2020,
         "movie",
         "United States",
         "English",
         4.9,
         565.0,
         "Adventure,Drama,Family"
        ],
        [
         "tt9820556",
         "Breach",
         "R",
         2020,
         "movie",
         "Canada",
         "English",
         2.9,
         7561.0,
         "Action,Sci-Fi"
        ],
        [
         "tt7556122",
         "The Old Guard",
         "18",
         2020,
         "movie",
         "United States",
         "English",
         6.7,
         137367.0,
         "Action,Adventure,Fantasy"
        ],
        [
         "tt8936646",
         "Extraction",
         "18",
         2020,
         "movie",
         "United States",
         "English",
         6.7,
         169609.0,
         "Action,Thriller"
        ],
        [
         "tt8629748",
         "Spenser Confidential",
         "18",
         2020,
         "movie",
         "United States",
         "English",
         6.2,
         75475.0,
         "Action,Comedy,Crime"
        ],
        [
         "tt10618286",
         "Mank",
         "16",
         2020,
         "movie",
         "United States",
         "English",
         6.9,
         61633.0,
         "Biography,Comedy,Drama"
        ],
        [
         "tt6772802",
         "Hillbilly Elegy",
         "18",
         2020,
         "movie",
         "United States",
         "English",
         6.7,
         35778.0,
         "Drama"
        ],
        [
         "tt2235695",
         "Rebecca",
         "18",
         2020,
         "movie",
         "United Kingdom",
         "English",
         6.0,
         34569.0,
         "Drama,Mystery,Romance"
        ],
        [
         "tt7939766",
         "I'm Thinking of Ending Things",
         "16",
         2020,
         "movie",
         "United States",
         "English",
         6.6,
         69398.0,
         "Drama,Thriller"
        ],
        [
         "tt11161474",
         "Pieces of a Woman",
         "18",
         2020,
         "movie",
         "Canada",
         "English",
         7.1,
         40086.0,
         "Drama"
        ],
        [
         "tt12888462",
         "My Octopus Teacher",
         "7",
         2020,
         "movie",
         "South Africa",
         "English",
         8.1,
         38740.0,
         "Documentary"
        ],
        [
         "tt0983946",
         "Fantasy Island",
         "A",
         2020,
         "movie",
         "United States",
         "English",
         4.9,
         40351.0,
         "Action,Adventure,Fantasy"
        ],
        [
         "tt9619798",
         "The Wrong Missy",
         "18",
         2020,
         "movie",
         "United States",
         "English",
         5.7,
         34222.0,
         "Comedy,Romance"
        ],
        [
         "tt10539608",
         "The Midnight Sky",
         "13",
         2020,
         "movie",
         "United States",
         "English",
         5.6,
         74470.0,
         "Drama,Fantasy,Sci-Fi"
        ],
        [
         "tt10600398",
         "We Can Be Heroes",
         "7",
         2020,
         "movie",
         "United States",
         "English",
         4.7,
         11673.0,
         "Action,Comedy,Drama"
        ],
        [
         "tt7550000",
         "Project Power",
         "16",
         2020,
         "movie",
         "United States",
         "English",
         6.0,
         75538.0,
         "Action,Crime,Sci-Fi"
        ],
        [
         "tt11024272",
         "The Babysitter: Killer Queen",
         "18",
         2020,
         "movie",
         "United States",
         "English",
         5.8,
         29703.0,
         "Comedy,Horror"
        ],
        [
         "tt8508734",
         "His House",
         "16",
         2020,
         "movie",
         "United Kingdom",
         "English",
         6.5,
         30212.0,
         "Drama,Horror,Thriller"
        ],
        [
         "tt10514222",
         "Ma Rainey's Black Bottom",
         "16",
         2020,
         "movie",
         "United States",
         "English",
         7.0,
         43065.0,
         "Drama,Music"
        ],
        [
         "tt10682266",
         "Hubie Halloween",
         "13",
         2020,
         "movie",
         "United States",
         "English",
         5.2,
         41175.0,
         "Comedy,Mystery"
        ],
        [
         "tt8846176",
         "Concrete Cowboy",
         "16",
         2020,
         "movie",
         "United Kingdom",
         "English",
         6.3,
         6320.0,
         "Drama"
        ],
        [
         "tt3907584",
         "All the Bright Places",
         "18",
         2020,
         "movie",
         "United States",
         "English",
         6.5,
         23088.0,
         "Drama,Romance"
        ],
        [
         "tt9866072",
         "Holidate",
         "16",
         2020,
         "movie",
         "United States",
         "English",
         6.1,
         49581.0,
         "Comedy,Romance"
        ],
        [
         "tt1918734",
         "2067",
         null,
         2020,
         "movie",
         "Australia",
         "English",
         4.9,
         6376.0,
         "Sci-Fi"
        ],
        [
         "tt10308928",
         "Force of Nature",
         "A",
         2020,
         "movie",
         "United States",
         "English",
         4.5,
         8425.0,
         "Action,Crime,Drama"
        ],
        [
         "tt9777644",
         "Da 5 Bloods",
         "18",
         2020,
         "movie",
         "United States",
         "English",
         6.5,
         45651.0,
         "Adventure,Drama,War"
        ],
        [
         "tt4823776",
         "The SpongeBob Movie: Sponge on the Run",
         "7",
         2020,
         "movie",
         "United States",
         "English",
         6.0,
         13393.0,
         "Adventure,Animation,Comedy"
        ],
        [
         "tt12139700",
         "Jungle Beat: The Movie",
         "G",
         2020,
         "movie",
         "Mauritius",
         "English",
         5.5,
         658.0,
         "Adventure,Animation,Comedy"
        ],
        [
         "tt6317656",
         "Penguin Bloom",
         "13",
         2020,
         "movie",
         "Australia",
         "English",
         6.8,
         6338.0,
         "Drama"
        ],
        [
         "tt7488208",
         "Over the Moon",
         "7",
         2020,
         "movie",
         "China",
         "English",
         6.4,
         17434.0,
         "Adventure,Animation,Comedy"
        ],
        [
         "tt5096470",
         "Love Wedding Repeat",
         "18",
         2020,
         "movie",
         "United Kingdom",
         "English",
         5.5,
         18362.0,
         "Comedy,Romance"
        ],
        [
         "tt10161886",
         "The Prom",
         "13",
         2020,
         "movie",
         "United States",
         "English",
         5.9,
         23847.0,
         "Comedy,Drama,Musical"
        ],
        [
         "tt9784456",
         "The Kissing Booth 2",
         "13",
         2020,
         "movie",
         "United Kingdom",
         "English",
         5.8,
         22962.0,
         "Comedy,Romance"
        ],
        [
         "tt3111426",
         "Lost Girls",
         "R",
         2020,
         "movie",
         "United States",
         "English",
         6.1,
         18335.0,
         "Drama,Mystery,Thriller"
        ],
        [
         "tt7970348",
         "The Stand In",
         "R",
         2020,
         "movie",
         "United States",
         "English",
         4.6,
         2453.0,
         "Comedy,Drama"
        ],
        [
         "tt7456312",
         "The Last Thing He Wanted",
         "18",
         2020,
         "movie",
         "United States",
         "English",
         4.3,
         13387.0,
         "Crime,Drama,Thriller"
        ],
        [
         "tt11464826",
         "The Social Dilemma",
         "13",
         2020,
         "movie",
         "United States",
         "English",
         7.6,
         70972.0,
         "Documentary,Drama"
        ],
        [
         "tt11388406",
         "Horse Girl",
         "18",
         2020,
         "movie",
         "United States",
         "English",
         5.9,
         15514.0,
         "Drama,Mystery,Thriller"
        ],
        [
         "tt10888708",
         "The Sleepover",
         "7",
         2020,
         "movie",
         "United States",
         "English",
         5.6,
         8710.0,
         "Action,Adventure,Comedy"
        ],
        [
         "tt10199914",
         "The Boys in the Band",
         "18",
         2020,
         "movie",
         "United States",
         "English",
         6.8,
         12731.0,
         "Drama"
        ],
        [
         "tt1552211",
         "The Last Days of American Crime",
         "18",
         2020,
         "movie",
         "United States",
         "English",
         3.7,
         10109.0,
         "Action,Crime,Drama"
        ],
        [
         "tt11100856",
         "Love, Guaranteed",
         "7",
         2020,
         "movie",
         "United States",
         "English",
         5.6,
         14835.0,
         "Comedy,Romance"
        ],
        [
         "tt5206260",
         "The Willoughbys",
         "7",
         2020,
         "movie",
         "Canada",
         "English",
         6.4,
         14757.0,
         "Adventure,Animation,Comedy"
        ],
        [
         "tt10714856",
         "Feel the Beat",
         "7",
         2020,
         "movie",
         "United States",
         "English",
         6.3,
         9062.0,
         "Comedy,Drama,Family"
        ],
        [
         "tt12987894",
         "American Murder: The Family Next Door",
         "16",
         2020,
         "movie",
         "United States",
         "English",
         7.2,
         21242.0,
         "Crime,Documentary"
        ],
        [
         "tt10276470",
         "Work It",
         "13",
         2020,
         "movie",
         "United States",
         "English",
         6.1,
         10490.0,
         "Comedy,Music"
        ],
        [
         "tt8851668",
         "The Lovebirds",
         "18",
         2020,
         "movie",
         "United States",
         "English",
         6.1,
         22436.0,
         "Action,Comedy,Crime"
        ],
        [
         "tt10303430",
         "Sightless",
         "16",
         2020,
         "movie",
         "United States",
         "English",
         5.5,
         6022.0,
         "Drama,Thriller"
        ],
        [
         "tt10183816",
         "Dangerous Lies",
         "13",
         2020,
         "movie",
         "United States",
         "English",
         5.3,
         15040.0,
         "Drama,Mystery,Thriller"
        ],
        [
         "tt8145202",
         "The F**k-It List",
         null,
         2020,
         "movie",
         "United States",
         "English",
         5.1,
         4934.0,
         "Comedy"
        ],
        [
         "tt11390036",
         "A Fall from Grace",
         null,
         2020,
         "movie",
         "United States",
         "English",
         5.9,
         13018.0,
         "Drama,Fantasy,Thriller"
        ],
        [
         "tt8976576",
         "Vampires vs. the Bronx",
         "13",
         2020,
         "movie",
         "United States",
         "English",
         5.6,
         8181.0,
         "Comedy,Horror"
        ],
        [
         "tt5929654",
         "Think Like a Dog",
         "PG",
         2020,
         "movie",
         "China",
         "English",
         5.2,
         1266.0,
         "Comedy,Drama,Family"
        ],
        [
         "tt9354842",
         "To All the Boys: P.S. I Still Love You",
         "13",
         2020,
         "movie",
         "United States",
         "English",
         6.0,
         31232.0,
         "Comedy,Drama,Romance"
        ],
        [
         "tt1545304",
         "Desperados",
         "16",
         2020,
         "movie",
         "United States",
         "English",
         5.2,
         9090.0,
         "Comedy,Romance"
        ],
        [
         "tt4844150",
         "A Babysitter's Guide to Monster Hunting",
         "7",
         2020,
         "movie",
         "United States",
         "English",
         5.4,
         3270.0,
         "Comedy,Family,Fantasy"
        ],
        [
         "tt8750570",
         "Sergio",
         "18",
         2020,
         "movie",
         "United States",
         "English",
         6.1,
         8668.0,
         "Biography,Drama,History"
        ],
        [
         "tt8523028",
         "Roped",
         "PG",
         2020,
         "movie",
         "United States",
         "English",
         5.4,
         1081.0,
         "Drama,Romance"
        ],
        [
         "tt11989890",
         "David Attenborough: A Life on Our Planet",
         "13",
         2020,
         "movie",
         "United Kingdom",
         "English",
         9.0,
         27666.0,
         "Biography,Documentary"
        ],
        [
         "tt10933680",
         "The Debt Collector 2",
         null,
         2020,
         "movie",
         "United States",
         "English",
         5.8,
         3412.0,
         "Action,Comedy"
        ],
        [
         "tt13055780",
         "A California Christmas",
         "16",
         2020,
         "movie",
         "United States",
         "English",
         5.8,
         6793.0,
         "Comedy,Drama,Romance"
        ],
        [
         "tt3155342",
         "All Together Now",
         "13",
         2020,
         "movie",
         "United States",
         "English",
         6.5,
         3357.0,
         "Drama"
        ],
        [
         "tt11057644",
         "The Christmas Chronicles: Part Two",
         "7",
         2020,
         "movie",
         "United States",
         "English",
         6.0,
         24065.0,
         "Adventure,Comedy,Family"
        ],
        [
         "tt11199410",
         "The Princess Switch: Switched Again",
         "7",
         2020,
         "movie",
         "United States",
         "English",
         5.4,
         8108.0,
         "Comedy,Drama,Family"
        ],
        [
         "tt8923484",
         "Crip Camp",
         "R",
         2020,
         "movie",
         "United States",
         "English",
         7.7,
         6150.0,
         "Documentary"
        ],
        [
         "tt7562334",
         "Lady Driver",
         "PG",
         2020,
         "movie",
         "United States",
         "English",
         5.9,
         1055.0,
         "Sport"
        ],
        [
         "tt9898858",
         "Coffee & Kareem",
         "18",
         2020,
         "movie",
         "United States",
         "English",
         5.1,
         12250.0,
         "Action,Comedy,Crime"
        ],
        [
         "tt11057594",
         "Fatal Affair",
         "16",
         2020,
         "movie",
         "United States",
         "English",
         4.5,
         5115.0,
         "Thriller"
        ],
        [
         "tt9735976",
         "Wheels of Fortune",
         "R",
         2020,
         "movie",
         "United States",
         "English",
         5.4,
         572.0,
         "Comedy"
        ],
        [
         "tt8618654",
         "Kiss the Ground",
         "7",
         2020,
         "movie",
         "United States",
         "English",
         8.3,
         5523.0,
         "Documentary"
        ],
        [
         "tt10642834",
         "The Forty-Year-Old Version",
         "18",
         2020,
         "movie",
         "United States",
         "English",
         7.2,
         4173.0,
         "Comedy,Drama"
        ],
        [
         "tt10540242",
         "The Main Event",
         "All",
         2020,
         "movie",
         "United States",
         "English",
         4.8,
         1970.0,
         "Action,Comedy,Family"
        ],
        [
         "tt11994750",
         "Made You Look: A True Story About Fake Art",
         null,
         2020,
         "movie",
         "Canada",
         "English",
         7.0,
         2839.0,
         "Crime,Documentary"
        ],
        [
         "tt13297136",
         "The Fisherman's Diary",
         null,
         2020,
         "movie",
         "Cameroon",
         "English",
         6.5,
         425.0,
         "Drama"
        ],
        [
         "tt10230414",
         "Serious Men",
         "16",
         2020,
         "movie",
         "India",
         "English",
         6.8,
         6355.0,
         "Comedy,Drama"
        ],
        [
         "tt9261218",
         "Uncorked",
         null,
         2020,
         "movie",
         "United States",
         "English",
         6.3,
         4703.0,
         "Drama"
        ],
        [
         "tt13318052",
         "Midnight at the Magnolia",
         "All",
         2020,
         "movie",
         "Canada",
         "English",
         5.8,
         4254.0,
         "Comedy,Romance"
        ],
        [
         "tt3993886",
         "All Day and a Night",
         "R",
         2020,
         "movie",
         "United States",
         "English",
         5.8,
         3192.0,
         "Drama"
        ],
        [
         "tt13236566",
         "Operation Christmas Drop",
         "7",
         2020,
         "movie",
         "United States",
         "English",
         5.8,
         9467.0,
         "Comedy,Family,Romance"
        ],
        [
         "tt7736496",
         "Jingle Jangle: A Christmas Journey",
         "PG",
         2020,
         "movie",
         "United States",
         "English",
         6.5,
         15880.0,
         "Family,Fantasy,Musical"
        ],
        [
         "tt8310474",
         "Bruised",
         null,
         2020,
         "movie",
         "United States",
         "English",
         7.2,
         38.0,
         "Drama,Sport"
        ],
        [
         "tt8009744",
         "What Is Life Worth",
         "PG-13",
         2020,
         "movie",
         "United States",
         "English",
         6.9,
         235.0,
         "Biography,Drama,History"
        ],
        [
         "tt12133722",
         "Have a Good Trip: Adventures in Psychedelics",
         null,
         2020,
         "movie",
         "United States",
         "English",
         6.8,
         6576.0,
         "Comedy,Documentary"
        ],
        [
         "tt8972556",
         "I Am Vengeance: Retaliation",
         "R",
         2020,
         "movie",
         "United Kingdom",
         "English",
         3.5,
         977.0,
         "Action"
        ],
        [
         "tt11388580",
         "Miss Americana",
         null,
         2020,
         "movie",
         "United States",
         "English",
         7.4,
         16787.0,
         "Biography,Documentary,Music"
        ],
        [
         "tt11394180",
         "Dick Johnson Is Dead",
         "13",
         2020,
         "movie",
         "United States",
         "English",
         7.5,
         5209.0,
         "Documentary,Drama"
        ],
        [
         "tt6693156",
         "You Are My Home",
         null,
         2020,
         "movie",
         "United States",
         "English",
         6.5,
         343.0,
         "Animation,Family,Fantasy"
        ],
        [
         "tt8902948",
         "Tigertail",
         "13",
         2020,
         "movie",
         "United States",
         "English",
         6.5,
         3225.0,
         "Drama"
        ],
        [
         "tt8116640",
         "Go!",
         null,
         2020,
         "movie",
         "Australia",
         "English",
         5.9,
         2317.0,
         "Family,Sport"
        ],
        [
         "tt11905462",
         "Athlete A",
         "13",
         2020,
         "movie",
         "United States",
         "English",
         7.6,
         8369.0,
         "Crime,Documentary,Sport"
        ],
        [
         "tt13150630",
         "Secrets of the Saqqara Tomb",
         "13",
         2020,
         "movie",
         "United States",
         "English",
         7.3,
         5195.0,
         "Documentary,History"
        ],
        [
         "tt10329566",
         "Ricos de Amor",
         "13",
         2020,
         "movie",
         "Brazil",
         "English",
         5.8,
         2213.0,
         "Comedy,Romance"
        ],
        [
         "tt3260524",
         "A Secret Love",
         null,
         2020,
         "movie",
         "United States",
         "English",
         7.9,
         3668.0,
         "Documentary,Drama"
        ],
        [
         "tt13615386",
         "Ariana Grande: Excuse Me, I Love You",
         "16",
         2020,
         "movie",
         "United States",
         "English",
         6.4,
         2009.0,
         "Documentary,Music"
        ],
        [
         "tt11032990",
         "Malibu Rescue: The Next Wave",
         null,
         2020,
         "movie",
         "United States",
         "English",
         4.8,
         635.0,
         "Action,Comedy,Family"
        ],
        [
         "tt12423052",
         "Namaste Wahala",
         "13",
         2020,
         "movie",
         "Nigeria",
         "English",
         5.1,
         820.0,
         "Drama,Romance"
        ],
        [
         "tt11481312",
         "Citation",
         "16",
         2020,
         "movie",
         "Nigeria",
         "English",
         6.2,
         844.0,
         "Drama,Thriller"
        ],
        [
         "tt11380884",
         "Farewell Amor",
         null,
         2020,
         "movie",
         "United States",
         "English",
         6.9,
         867.0,
         "Drama,Music,Romance"
        ],
        [
         "tt13345636",
         "Funny Boy",
         null,
         2020,
         "movie",
         "Canada",
         "English",
         5.8,
         759.0,
         "Drama"
        ],
        [
         "tt10768194",
         "A New York Christmas Wedding",
         null,
         2020,
         "movie",
         "United States",
         "English",
         5.4,
         835.0,
         "Drama,Romance"
        ],
        [
         "tt10627548",
         "Christmas on the Square",
         "13",
         2020,
         "movie",
         "United States",
         "English",
         5.2,
         2194.0,
         "Comedy,Family,Musical"
        ],
        [
         "tt11010144",
         "Seriously Single",
         null,
         2020,
         "movie",
         "South Africa",
         "English",
         4.5,
         1124.0,
         "Comedy,Romance"
        ],
        [
         "tt10851618",
         "Rising Phoenix",
         "13",
         2020,
         "movie",
         "United Kingdom",
         "English",
         8.1,
         1334.0,
         "Documentary,Sport"
        ],
        [
         "tt5244812",
         "Riding Faith",
         null,
         2020,
         "movie",
         "United States",
         "English",
         4.4,
         174.0,
         "Family"
        ],
        [
         "tt9050898",
         "Murder to Mercy: The Cyntoia Brown Story",
         null,
         2020,
         "movie",
         "United States",
         "English",
         6.4,
         2278.0,
         "Documentary"
        ],
        [
         "tt12221748",
         "Becoming",
         "7",
         2020,
         "movie",
         "United States",
         "English",
         6.8,
         5835.0,
         "Documentary"
        ],
        [
         "tt11843712",
         "Not a Game",
         null,
         2020,
         "movie",
         "United Kingdom",
         "English",
         5.6,
         395.0,
         "Documentary"
        ],
        [
         "tt12767498",
         "Barbie Princess Adventure",
         null,
         2020,
         "movie",
         "Netherlands",
         "English",
         5.6,
         246.0,
         "Animation,Musical"
        ],
        [
         "tt13260836",
         "Angela's Christmas Wish",
         "U",
         2020,
         "movie",
         "United States",
         "English",
         7.1,
         1046.0,
         "Adventure,Animation,Family"
        ],
        [
         "tt12187586",
         "Father Soldier Son",
         "16",
         2020,
         "movie",
         "United States",
         "English",
         7.3,
         798.0,
         "Documentary,War"
        ],
        [
         "tt5862338",
         "Uppity: The Willy T. Ribbs Story",
         null,
         2020,
         "movie",
         "United States",
         "English",
         7.9,
         583.0,
         "Documentary"
        ],
        [
         "tt11953628",
         "Maska",
         "16",
         2020,
         "movie",
         "India",
         "English",
         5.8,
         1312.0,
         "Comedy,Drama,Romance"
        ],
        [
         "tt13150606",
         "Octonauts & the Great Barrier Reef",
         null,
         2020,
         "movie",
         "United Kingdom",
         "English",
         7.4,
         85.0,
         "Action,Adventure,Animation"
        ],
        [
         "tt13276386",
         "Shawn Mendes: In Wonder",
         "16",
         2020,
         "movie",
         "United States",
         "English",
         6.6,
         1734.0,
         "Documentary,Music"
        ],
        [
         "tt12027020",
         "LA Originals",
         null,
         2020,
         "movie",
         "United States",
         "English",
         7.2,
         1600.0,
         "Documentary"
        ],
        [
         "tt11378264",
         "Mucho Mucho Amor: The Legend of Walter Mercado",
         "13",
         2020,
         "movie",
         "United States",
         "English",
         7.3,
         2876.0,
         "Documentary"
        ],
        [
         "tt12759408",
         "Octonauts and the Caves of Sac Actun",
         null,
         2020,
         "movie",
         "United Kingdom",
         "English",
         6.2,
         116.0,
         "Adventure,Animation,Comedy"
        ],
        [
         "tt12588448",
         "The Larva Island Movie",
         null,
         2020,
         "movie",
         "South Korea",
         "English",
         5.1,
         505.0,
         "Adventure,Animation,Comedy"
        ],
        [
         "tt13610390",
         "André & His Olive Tree",
         null,
         2020,
         "movie",
         "Singapore",
         "English",
         6.8,
         148.0,
         "Documentary"
        ],
        [
         "tt8741182",
         "Dance Dreams: Hot Chocolate Nutcracker",
         "7",
         2020,
         "movie",
         "United States",
         "English",
         7.1,
         261.0,
         "Documentary,Family"
        ],
        [
         "tt11642302",
         "#cats_the_mewvie",
         null,
         2020,
         "movie",
         "Canada",
         "English",
         5.3,
         407.0,
         "Documentary"
        ],
        [
         "tt11394338",
         "Giving Voice",
         "13",
         2020,
         "movie",
         "United States",
         "English",
         6.7,
         197.0,
         "Documentary"
        ],
        [
         "tt11378154",
         "The App That Stole Christmas",
         null,
         2020,
         "movie",
         "United States",
         "English",
         3.6,
         301.0,
         "Comedy"
        ],
        [
         "tt13528990",
         "Shawn Mendes: Live in Concert",
         null,
         2020,
         "movie",
         "United Kingdom",
         "English",
         7.4,
         200.0,
         "Music"
        ],
        [
         "tt12692980",
         "Thomas & Friends: Marvelous Machinery",
         null,
         2020,
         "movie",
         "Canada",
         "English",
         7.0,
         6.0,
         "Action,Adventure,Animation"
        ],
        [
         "tt12730310",
         "The Magic School Bus Rides Again: Kids in Space",
         null,
         2020,
         "movie",
         "United States",
         "English",
         6.2,
         51.0,
         "Adventure,Animation,Comedy"
        ],
        [
         "tt12687448",
         "Night on Earth: Shot in the Dark",
         null,
         2020,
         "movie",
         "United Kingdom",
         "English",
         7.9,
         156.0,
         "Documentary"
        ],
        [
         "tt6824530",
         "United Nation Three Decades of Drum & Bass",
         null,
         2020,
         "movie",
         "United Kingdom",
         "English",
         8.0,
         540.0,
         "Documentary"
        ],
        [
         "tt8530796",
         "Light in the Dark",
         null,
         2020,
         "movie",
         "Nigeria",
         "English",
         6.0,
         24.0,
         "Thriller"
        ],
        [
         "tt11710234",
         "Pemburu di Manchester Biru",
         null,
         2020,
         "movie",
         "Indonesia",
         "English",
         5.9,
         33.0,
         "Biography,Drama"
        ],
        [
         "tt13161318",
         "Bigflo & Oli: Hip Hop Frenzy",
         null,
         2020,
         "movie",
         "France",
         "English",
         6.9,
         98.0,
         "Documentary,Music"
        ],
        [
         "tt13034096",
         "Horrid Henry's Gross Day Out",
         null,
         2020,
         "movie",
         "United Kingdom",
         "English",
         6.2,
         33.0,
         "Action,Adventure,Animation"
        ],
        [
         "tt11725176",
         "Last days on Earth",
         null,
         2020,
         "movie",
         "United Kingdom",
         "English",
         null,
         null,
         "Documentary"
        ]
       ],
       "datasetInfos": [],
       "dbfsResultPath": null,
       "isJsonSchema": true,
       "metadata": {},
       "overflow": false,
       "plotOptions": {
        "customPlotOptions": {},
        "displayType": "table",
        "pivotAggregation": null,
        "pivotColumns": null,
        "xColumns": null,
        "yColumns": null
       },
       "removedWidgets": [],
       "schema": [
        {
         "metadata": "{}",
         "name": "imdb_id",
         "type": "\"string\""
        },
        {
         "metadata": "{}",
         "name": "title",
         "type": "\"string\""
        },
        {
         "metadata": "{}",
         "name": "certificate",
         "type": "\"string\""
        },
        {
         "metadata": "{}",
         "name": "startYear",
         "type": "\"integer\""
        },
        {
         "metadata": "{}",
         "name": "type",
         "type": "\"string\""
        },
        {
         "metadata": "{}",
         "name": "origin_country",
         "type": "\"string\""
        },
        {
         "metadata": "{}",
         "name": "language",
         "type": "\"string\""
        },
        {
         "metadata": "{}",
         "name": "rating",
         "type": "\"double\""
        },
        {
         "metadata": "{}",
         "name": "numVotes",
         "type": "\"double\""
        },
        {
         "metadata": "{}",
         "name": "genres",
         "type": "\"string\""
        }
       ],
       "type": "table"
      }
     },
     "output_type": "display_data"
    }
   ],
   "source": [
    "netflix_data = spark.read.format(\"csv\")\\\n",
    ".option(\"inferSchema\", \"True\")\\\n",
    ".option(\"header\", \"true\")\\\n",
    ".load(\"dbfs:/FileStore/shared_uploads/999tasneemahmed@gmail.com/netflix_list.csv\")\n",
    "\n",
    "display(netflix_data)"
   ]
  },
  {
   "cell_type": "code",
   "execution_count": 0,
   "metadata": {
    "application/vnd.databricks.v1+cell": {
     "cellMetadata": {
      "byteLimit": 2048000,
      "rowLimit": 10000
     },
     "inputWidgets": {},
     "nuid": "8dd6181d-e05f-4918-889d-8597bd3d7119",
     "showTitle": false,
     "title": ""
    },
    "jupyter": {
     "outputs_hidden": true
    }
   },
   "outputs": [],
   "source": [
    "from pyspark.sql.functions import initcap, upper, lower"
   ]
  },
  {
   "cell_type": "code",
   "execution_count": 0,
   "metadata": {
    "application/vnd.databricks.v1+cell": {
     "cellMetadata": {
      "byteLimit": 2048000,
      "rowLimit": 10000
     },
     "inputWidgets": {},
     "nuid": "f5df48ec-408b-424d-ad0d-29af2026a0f7",
     "showTitle": false,
     "title": ""
    }
   },
   "outputs": [
    {
     "output_type": "display_data",
     "data": {
      "text/html": [
       "<style scoped>\n",
       "  .table-result-container {\n",
       "    max-height: 300px;\n",
       "    overflow: auto;\n",
       "  }\n",
       "  table, th, td {\n",
       "    border: 1px solid black;\n",
       "    border-collapse: collapse;\n",
       "  }\n",
       "  th, td {\n",
       "    padding: 5px;\n",
       "  }\n",
       "  th {\n",
       "    text-align: left;\n",
       "  }\n",
       "</style><div class='table-result-container'><table class='table-result'><thead style='background-color: white'><tr><th>upper(title)</th><th>lower(genres)</th></tr></thead><tbody><tr><td>ARMY OF THE DEAD</td><td>action,crime,horror</td></tr><tr><td>THE WOMAN IN THE WINDOW</td><td>crime,drama,mystery</td></tr><tr><td>THE MITCHELLS VS THE MACHINES</td><td>adventure,animation,comedy</td></tr><tr><td>BLUE MIRACLE</td><td>adventure,biography,drama</td></tr><tr><td>THINGS HEARD & SEEN</td><td>drama,horror,mystery</td></tr><tr><td>STOWAWAY</td><td>drama,sci-fi,thriller</td></tr><tr><td>DON'T LOOK UP</td><td>comedy</td></tr><tr><td>I AM ALL GIRLS</td><td>crime,drama,mystery</td></tr><tr><td>HOTEL TRANSYLVANIA: TRANSFORMANIA</td><td>adventure,animation,comedy</td></tr><tr><td>THE DIG</td><td>biography,drama,history</td></tr><tr><td>THUNDER FORCE</td><td>action,adventure,comedy</td></tr><tr><td>THE ICE ROAD</td><td>thriller</td></tr><tr><td>GUNPOWDER MILKSHAKE</td><td>action,adventure,thriller</td></tr><tr><td>FEAR STREET</td><td>horror,mystery</td></tr><tr><td>THE NAILBOMBER</td><td>crime,documentary,history</td></tr><tr><td>AWAKE</td><td>action,adventure,drama</td></tr><tr><td>MOXIE</td><td>comedy,drama,music</td></tr><tr><td>YES DAY</td><td>comedy,family</td></tr><tr><td>AMERICA: THE MOTION PICTURE</td><td>action,adventure,animation</td></tr><tr><td>OUTSIDE THE WIRE</td><td>action,adventure,fantasy</td></tr><tr><td>RED NOTICE</td><td>action,comedy,crime</td></tr><tr><td>BAD TRIP</td><td>comedy</td></tr><tr><td>MALCOLM & MARIE</td><td>drama,romance</td></tr><tr><td>FINDING 'OHANA</td><td>action,adventure,comedy</td></tr><tr><td>FATHERHOOD</td><td>comedy,drama</td></tr><tr><td>DEADLY ILLUSIONS</td><td>drama,thriller</td></tr><tr><td>SING 2</td><td>adventure,animation,comedy</td></tr><tr><td>A WEEK AWAY</td><td>drama,family,musical</td></tr><tr><td>BLONDE</td><td>biography,drama,romance</td></tr><tr><td>HE'S ALL THAT</td><td>comedy,romance</td></tr><tr><td>SEASPIRACY</td><td>adventure,documentary</td></tr><tr><td>ARMY OF THIEVES</td><td>action,crime,horror</td></tr><tr><td>WISH DRAGON</td><td>adventure,animation,comedy</td></tr><tr><td>TO ALL THE BOYS: ALWAYS AND FOREVER</td><td>comedy,drama,romance</td></tr><tr><td>GOOD ON PAPER</td><td>comedy,romance</td></tr><tr><td>ESCAPE FROM SPIDERHEAD</td><td>action,mystery,sci-fi</td></tr><tr><td>THE LAST LETTER FROM YOUR LOVER</td><td>drama,romance</td></tr><tr><td>THE KISSING BOOTH 3</td><td>comedy,romance</td></tr><tr><td>SWEET GIRL</td><td>action,drama,thriller</td></tr><tr><td>MATILDA</td><td>comedy,drama,family</td></tr><tr><td>BREAKING BOUNDARIES: THE SCIENCE OF OUR PLANET</td><td>documentary</td></tr><tr><td>TICK, TICK...BOOM!</td><td>biography,drama,musical</td></tr><tr><td>SECRET MAGIC CONTROL AGENCY</td><td>adventure,animation,comedy</td></tr><tr><td>VIVO</td><td>adventure,animation,comedy</td></tr><tr><td>THE GUILTY</td><td>crime,drama,thriller</td></tr><tr><td>THE POWER OF THE DOG</td><td>drama</td></tr><tr><td>SKATER GIRL</td><td>drama,family,sport</td></tr><tr><td>TRIPPIN' WITH THE KANDASAMYS</td><td>comedy,romance</td></tr><tr><td>TROLLHUNTERS: RISE OF THE TITANS</td><td>action,adventure,animation</td></tr><tr><td>FEAR STREET 2</td><td>horror,mystery</td></tr><tr><td>KATE</td><td>action,adventure,crime</td></tr><tr><td>THE LOUD HOUSE</td><td>action,adventure,animation</td></tr><tr><td>OPERATION VARSITY BLUES: THE COLLEGE ADMISSIONS SCANDAL</td><td>crime,documentary,drama</td></tr><tr><td>HATING PETER TATCHELL</td><td>documentary</td></tr><tr><td>FEAR STREET 3</td><td>horror,mystery</td></tr><tr><td>THE HARDER THEY FALL</td><td>drama,western</td></tr><tr><td>PASSING</td><td>drama</td></tr><tr><td>MUNICH</td><td>biography,drama,history</td></tr><tr><td>A BOY CALLED CHRISTMAS</td><td>adventure,drama,family</td></tr><tr><td>A JAZZMAN'S BLUES</td><td>drama</td></tr><tr><td>UNTITLED SANDRA BULLOCK/NORA FINGSCHEIDT PROJECT</td><td>drama</td></tr><tr><td>NIGHT TEETH</td><td>thriller</td></tr><tr><td>IN OUR MOTHERS' GARDENS</td><td>documentary</td></tr><tr><td>THE WITCHER: NIGHTMARE OF THE WOLF</td><td>action,adventure,animation</td></tr><tr><td>BACK TO THE OUTBACK</td><td>adventure,animation,comedy</td></tr><tr><td>THERE'S SOMEONE INSIDE YOUR HOUSE</td><td>horror,thriller</td></tr><tr><td>BIGGIE: I GOT A STORY TO TELL</td><td>biography,documentary,music</td></tr><tr><td>METAL LORDS</td><td>drama,music</td></tr><tr><td>PELÉ</td><td>biography,documentary,sport</td></tr><tr><td>THE MINIMALISTS: LESS IS NOW</td><td>documentary</td></tr><tr><td>BEAUTY</td><td>drama,romance</td></tr><tr><td>THE PRINCESS SWITCH 3</td><td>comedy,drama,family</td></tr><tr><td>LOVE HARD</td><td>comedy,romance</td></tr><tr><td>STRIP DOWN, RISE UP</td><td>documentary</td></tr><tr><td>RISE OF THE TEENAGE MUTANT NINJA TURTLES</td><td>action,adventure,animation</td></tr><tr><td>NIGHTBOOKS</td><td>family,fantasy,horror</td></tr><tr><td>CRACK: COCAINE, CORRUPTION & CONSPIRACY</td><td>crime,documentary,history</td></tr><tr><td>AGAINST THE ICE</td><td>adventure,drama,history</td></tr><tr><td>RESORT TO LOVE</td><td>comedy,romance</td></tr><tr><td>A CASTLE FOR CHRISTMAS</td><td>adventure,comedy,family</td></tr><tr><td>PRAY AWAY</td><td>documentary</td></tr><tr><td>SINGLE ALL THE WAY</td><td>comedy,drama,romance</td></tr><tr><td>SISTERS ON TRACK</td><td>documentary,sport</td></tr><tr><td>INTRUSION</td><td>thriller</td></tr><tr><td>ACCOMPLICE</td><td>documentary</td></tr><tr><td>HYPNOTIC</td><td>horror,thriller</td></tr><tr><td>DIANA</td><td>biography,drama,musical</td></tr><tr><td>HEADSPACE: UNWIND YOUR MIND</td><td>animation,documentary</td></tr><tr><td>BOB ROSS: HAPPY ACCIDENTS, BETRAYAL & GREED</td><td>documentary</td></tr><tr><td>KANE CHONICLES</td><td>adventure</td></tr><tr><td>UNTITLED NETFLIX FAMILY COMEDY 2021</td><td>comedy</td></tr><tr><td>UNTITLED BOEING 737 MAX/RORY KENNEDY PROJECT</td><td>documentary</td></tr><tr><td>HAPPINESS EVER AFTER</td><td>drama,romance</td></tr><tr><td>LOVE AND MONSTERS</td><td>action,adventure,comedy</td></tr><tr><td>I CARE A LOT</td><td>comedy,crime,thriller</td></tr><tr><td>EUROVISION SONG CONTEST: THE STORY OF FIRE SAGA</td><td>comedy,music</td></tr><tr><td>THE DEVIL ALL THE TIME</td><td>crime,drama,thriller</td></tr><tr><td>HONEST THIEF</td><td>action,crime,drama</td></tr><tr><td>RUN</td><td>mystery,thriller</td></tr><tr><td>NEWS OF THE WORLD</td><td>action,adventure,drama</td></tr><tr><td>ENOLA HOLMES</td><td>action,adventure,crime</td></tr><tr><td>THE TRIAL OF THE CHICAGO 7</td><td>drama,history,thriller</td></tr><tr><td>THE WATER MAN</td><td>adventure,drama,family</td></tr><tr><td>BREACH</td><td>action,sci-fi</td></tr><tr><td>THE OLD GUARD</td><td>action,adventure,fantasy</td></tr><tr><td>EXTRACTION</td><td>action,thriller</td></tr><tr><td>SPENSER CONFIDENTIAL</td><td>action,comedy,crime</td></tr><tr><td>MANK</td><td>biography,comedy,drama</td></tr><tr><td>HILLBILLY ELEGY</td><td>drama</td></tr><tr><td>REBECCA</td><td>drama,mystery,romance</td></tr><tr><td>I'M THINKING OF ENDING THINGS</td><td>drama,thriller</td></tr><tr><td>PIECES OF A WOMAN</td><td>drama</td></tr><tr><td>MY OCTOPUS TEACHER</td><td>documentary</td></tr><tr><td>FANTASY ISLAND</td><td>action,adventure,fantasy</td></tr><tr><td>THE WRONG MISSY</td><td>comedy,romance</td></tr><tr><td>THE MIDNIGHT SKY</td><td>drama,fantasy,sci-fi</td></tr><tr><td>WE CAN BE HEROES</td><td>action,comedy,drama</td></tr><tr><td>PROJECT POWER</td><td>action,crime,sci-fi</td></tr><tr><td>THE BABYSITTER: KILLER QUEEN</td><td>comedy,horror</td></tr><tr><td>HIS HOUSE</td><td>drama,horror,thriller</td></tr><tr><td>MA RAINEY'S BLACK BOTTOM</td><td>drama,music</td></tr><tr><td>HUBIE HALLOWEEN</td><td>comedy,mystery</td></tr><tr><td>CONCRETE COWBOY</td><td>drama</td></tr><tr><td>ALL THE BRIGHT PLACES</td><td>drama,romance</td></tr><tr><td>HOLIDATE</td><td>comedy,romance</td></tr><tr><td>2067</td><td>sci-fi</td></tr><tr><td>FORCE OF NATURE</td><td>action,crime,drama</td></tr><tr><td>DA 5 BLOODS</td><td>adventure,drama,war</td></tr><tr><td>THE SPONGEBOB MOVIE: SPONGE ON THE RUN</td><td>adventure,animation,comedy</td></tr><tr><td>JUNGLE BEAT: THE MOVIE</td><td>adventure,animation,comedy</td></tr><tr><td>PENGUIN BLOOM</td><td>drama</td></tr><tr><td>OVER THE MOON</td><td>adventure,animation,comedy</td></tr><tr><td>LOVE WEDDING REPEAT</td><td>comedy,romance</td></tr><tr><td>THE PROM</td><td>comedy,drama,musical</td></tr><tr><td>THE KISSING BOOTH 2</td><td>comedy,romance</td></tr><tr><td>LOST GIRLS</td><td>drama,mystery,thriller</td></tr><tr><td>THE STAND IN</td><td>comedy,drama</td></tr><tr><td>THE LAST THING HE WANTED</td><td>crime,drama,thriller</td></tr><tr><td>THE SOCIAL DILEMMA</td><td>documentary,drama</td></tr><tr><td>HORSE GIRL</td><td>drama,mystery,thriller</td></tr><tr><td>THE SLEEPOVER</td><td>action,adventure,comedy</td></tr><tr><td>THE BOYS IN THE BAND</td><td>drama</td></tr><tr><td>THE LAST DAYS OF AMERICAN CRIME</td><td>action,crime,drama</td></tr><tr><td>LOVE, GUARANTEED</td><td>comedy,romance</td></tr><tr><td>THE WILLOUGHBYS</td><td>adventure,animation,comedy</td></tr><tr><td>FEEL THE BEAT</td><td>comedy,drama,family</td></tr><tr><td>AMERICAN MURDER: THE FAMILY NEXT DOOR</td><td>crime,documentary</td></tr><tr><td>WORK IT</td><td>comedy,music</td></tr><tr><td>THE LOVEBIRDS</td><td>action,comedy,crime</td></tr><tr><td>SIGHTLESS</td><td>drama,thriller</td></tr><tr><td>DANGEROUS LIES</td><td>drama,mystery,thriller</td></tr><tr><td>THE F**K-IT LIST</td><td>comedy</td></tr><tr><td>A FALL FROM GRACE</td><td>drama,fantasy,thriller</td></tr><tr><td>VAMPIRES VS. THE BRONX</td><td>comedy,horror</td></tr><tr><td>THINK LIKE A DOG</td><td>comedy,drama,family</td></tr><tr><td>TO ALL THE BOYS: P.S. I STILL LOVE YOU</td><td>comedy,drama,romance</td></tr><tr><td>DESPERADOS</td><td>comedy,romance</td></tr><tr><td>A BABYSITTER'S GUIDE TO MONSTER HUNTING</td><td>comedy,family,fantasy</td></tr><tr><td>SERGIO</td><td>biography,drama,history</td></tr><tr><td>ROPED</td><td>drama,romance</td></tr><tr><td>DAVID ATTENBOROUGH: A LIFE ON OUR PLANET</td><td>biography,documentary</td></tr><tr><td>THE DEBT COLLECTOR 2</td><td>action,comedy</td></tr><tr><td>A CALIFORNIA CHRISTMAS</td><td>comedy,drama,romance</td></tr><tr><td>ALL TOGETHER NOW</td><td>drama</td></tr><tr><td>THE CHRISTMAS CHRONICLES: PART TWO</td><td>adventure,comedy,family</td></tr><tr><td>THE PRINCESS SWITCH: SWITCHED AGAIN</td><td>comedy,drama,family</td></tr><tr><td>CRIP CAMP</td><td>documentary</td></tr><tr><td>LADY DRIVER</td><td>sport</td></tr><tr><td>COFFEE & KAREEM</td><td>action,comedy,crime</td></tr><tr><td>FATAL AFFAIR</td><td>thriller</td></tr><tr><td>WHEELS OF FORTUNE</td><td>comedy</td></tr><tr><td>KISS THE GROUND</td><td>documentary</td></tr><tr><td>THE FORTY-YEAR-OLD VERSION</td><td>comedy,drama</td></tr><tr><td>THE MAIN EVENT</td><td>action,comedy,family</td></tr><tr><td>MADE YOU LOOK: A TRUE STORY ABOUT FAKE ART</td><td>crime,documentary</td></tr><tr><td>THE FISHERMAN'S DIARY</td><td>drama</td></tr><tr><td>SERIOUS MEN</td><td>comedy,drama</td></tr><tr><td>UNCORKED</td><td>drama</td></tr><tr><td>MIDNIGHT AT THE MAGNOLIA</td><td>comedy,romance</td></tr><tr><td>ALL DAY AND A NIGHT</td><td>drama</td></tr><tr><td>OPERATION CHRISTMAS DROP</td><td>comedy,family,romance</td></tr><tr><td>JINGLE JANGLE: A CHRISTMAS JOURNEY</td><td>family,fantasy,musical</td></tr><tr><td>BRUISED</td><td>drama,sport</td></tr><tr><td>WHAT IS LIFE WORTH</td><td>biography,drama,history</td></tr><tr><td>HAVE A GOOD TRIP: ADVENTURES IN PSYCHEDELICS</td><td>comedy,documentary</td></tr><tr><td>I AM VENGEANCE: RETALIATION</td><td>action</td></tr><tr><td>MISS AMERICANA</td><td>biography,documentary,music</td></tr><tr><td>DICK JOHNSON IS DEAD</td><td>documentary,drama</td></tr><tr><td>YOU ARE MY HOME</td><td>animation,family,fantasy</td></tr><tr><td>TIGERTAIL</td><td>drama</td></tr><tr><td>GO!</td><td>family,sport</td></tr><tr><td>ATHLETE A</td><td>crime,documentary,sport</td></tr><tr><td>SECRETS OF THE SAQQARA TOMB</td><td>documentary,history</td></tr><tr><td>RICOS DE AMOR</td><td>comedy,romance</td></tr><tr><td>A SECRET LOVE</td><td>documentary,drama</td></tr><tr><td>ARIANA GRANDE: EXCUSE ME, I LOVE YOU</td><td>documentary,music</td></tr><tr><td>MALIBU RESCUE: THE NEXT WAVE</td><td>action,comedy,family</td></tr><tr><td>NAMASTE WAHALA</td><td>drama,romance</td></tr><tr><td>CITATION</td><td>drama,thriller</td></tr><tr><td>FAREWELL AMOR</td><td>drama,music,romance</td></tr><tr><td>FUNNY BOY</td><td>drama</td></tr><tr><td>A NEW YORK CHRISTMAS WEDDING</td><td>drama,romance</td></tr><tr><td>CHRISTMAS ON THE SQUARE</td><td>comedy,family,musical</td></tr><tr><td>SERIOUSLY SINGLE</td><td>comedy,romance</td></tr><tr><td>RISING PHOENIX</td><td>documentary,sport</td></tr><tr><td>RIDING FAITH</td><td>family</td></tr><tr><td>MURDER TO MERCY: THE CYNTOIA BROWN STORY</td><td>documentary</td></tr><tr><td>BECOMING</td><td>documentary</td></tr><tr><td>NOT A GAME</td><td>documentary</td></tr><tr><td>BARBIE PRINCESS ADVENTURE</td><td>animation,musical</td></tr><tr><td>ANGELA'S CHRISTMAS WISH</td><td>adventure,animation,family</td></tr><tr><td>FATHER SOLDIER SON</td><td>documentary,war</td></tr><tr><td>UPPITY: THE WILLY T. RIBBS STORY</td><td>documentary</td></tr><tr><td>MASKA</td><td>comedy,drama,romance</td></tr><tr><td>OCTONAUTS & THE GREAT BARRIER REEF</td><td>action,adventure,animation</td></tr><tr><td>SHAWN MENDES: IN WONDER</td><td>documentary,music</td></tr><tr><td>LA ORIGINALS</td><td>documentary</td></tr><tr><td>MUCHO MUCHO AMOR: THE LEGEND OF WALTER MERCADO</td><td>documentary</td></tr><tr><td>OCTONAUTS AND THE CAVES OF SAC ACTUN</td><td>adventure,animation,comedy</td></tr><tr><td>THE LARVA ISLAND MOVIE</td><td>adventure,animation,comedy</td></tr><tr><td>ANDRÉ & HIS OLIVE TREE</td><td>documentary</td></tr><tr><td>DANCE DREAMS: HOT CHOCOLATE NUTCRACKER</td><td>documentary,family</td></tr><tr><td>#CATS_THE_MEWVIE</td><td>documentary</td></tr><tr><td>GIVING VOICE</td><td>documentary</td></tr><tr><td>THE APP THAT STOLE CHRISTMAS</td><td>comedy</td></tr><tr><td>SHAWN MENDES: LIVE IN CONCERT</td><td>music</td></tr><tr><td>THOMAS & FRIENDS: MARVELOUS MACHINERY</td><td>action,adventure,animation</td></tr><tr><td>THE MAGIC SCHOOL BUS RIDES AGAIN: KIDS IN SPACE</td><td>adventure,animation,comedy</td></tr><tr><td>NIGHT ON EARTH: SHOT IN THE DARK</td><td>documentary</td></tr><tr><td>UNITED NATION THREE DECADES OF DRUM & BASS</td><td>documentary</td></tr><tr><td>LIGHT IN THE DARK</td><td>thriller</td></tr><tr><td>PEMBURU DI MANCHESTER BIRU</td><td>biography,drama</td></tr><tr><td>BIGFLO & OLI: HIP HOP FRENZY</td><td>documentary,music</td></tr><tr><td>HORRID HENRY'S GROSS DAY OUT</td><td>action,adventure,animation</td></tr><tr><td>LAST DAYS ON EARTH</td><td>documentary</td></tr></tbody></table></div>"
      ]
     },
     "metadata": {
      "application/vnd.databricks.v1+output": {
       "addedWidgets": {},
       "aggData": [],
       "aggError": "",
       "aggOverflow": false,
       "aggSchema": [],
       "aggSeriesLimitReached": false,
       "aggType": "",
       "arguments": {},
       "columnCustomDisplayInfos": {},
       "data": [
        [
         "ARMY OF THE DEAD",
         "action,crime,horror"
        ],
        [
         "THE WOMAN IN THE WINDOW",
         "crime,drama,mystery"
        ],
        [
         "THE MITCHELLS VS THE MACHINES",
         "adventure,animation,comedy"
        ],
        [
         "BLUE MIRACLE",
         "adventure,biography,drama"
        ],
        [
         "THINGS HEARD & SEEN",
         "drama,horror,mystery"
        ],
        [
         "STOWAWAY",
         "drama,sci-fi,thriller"
        ],
        [
         "DON'T LOOK UP",
         "comedy"
        ],
        [
         "I AM ALL GIRLS",
         "crime,drama,mystery"
        ],
        [
         "HOTEL TRANSYLVANIA: TRANSFORMANIA",
         "adventure,animation,comedy"
        ],
        [
         "THE DIG",
         "biography,drama,history"
        ],
        [
         "THUNDER FORCE",
         "action,adventure,comedy"
        ],
        [
         "THE ICE ROAD",
         "thriller"
        ],
        [
         "GUNPOWDER MILKSHAKE",
         "action,adventure,thriller"
        ],
        [
         "FEAR STREET",
         "horror,mystery"
        ],
        [
         "THE NAILBOMBER",
         "crime,documentary,history"
        ],
        [
         "AWAKE",
         "action,adventure,drama"
        ],
        [
         "MOXIE",
         "comedy,drama,music"
        ],
        [
         "YES DAY",
         "comedy,family"
        ],
        [
         "AMERICA: THE MOTION PICTURE",
         "action,adventure,animation"
        ],
        [
         "OUTSIDE THE WIRE",
         "action,adventure,fantasy"
        ],
        [
         "RED NOTICE",
         "action,comedy,crime"
        ],
        [
         "BAD TRIP",
         "comedy"
        ],
        [
         "MALCOLM & MARIE",
         "drama,romance"
        ],
        [
         "FINDING 'OHANA",
         "action,adventure,comedy"
        ],
        [
         "FATHERHOOD",
         "comedy,drama"
        ],
        [
         "DEADLY ILLUSIONS",
         "drama,thriller"
        ],
        [
         "SING 2",
         "adventure,animation,comedy"
        ],
        [
         "A WEEK AWAY",
         "drama,family,musical"
        ],
        [
         "BLONDE",
         "biography,drama,romance"
        ],
        [
         "HE'S ALL THAT",
         "comedy,romance"
        ],
        [
         "SEASPIRACY",
         "adventure,documentary"
        ],
        [
         "ARMY OF THIEVES",
         "action,crime,horror"
        ],
        [
         "WISH DRAGON",
         "adventure,animation,comedy"
        ],
        [
         "TO ALL THE BOYS: ALWAYS AND FOREVER",
         "comedy,drama,romance"
        ],
        [
         "GOOD ON PAPER",
         "comedy,romance"
        ],
        [
         "ESCAPE FROM SPIDERHEAD",
         "action,mystery,sci-fi"
        ],
        [
         "THE LAST LETTER FROM YOUR LOVER",
         "drama,romance"
        ],
        [
         "THE KISSING BOOTH 3",
         "comedy,romance"
        ],
        [
         "SWEET GIRL",
         "action,drama,thriller"
        ],
        [
         "MATILDA",
         "comedy,drama,family"
        ],
        [
         "BREAKING BOUNDARIES: THE SCIENCE OF OUR PLANET",
         "documentary"
        ],
        [
         "TICK, TICK...BOOM!",
         "biography,drama,musical"
        ],
        [
         "SECRET MAGIC CONTROL AGENCY",
         "adventure,animation,comedy"
        ],
        [
         "VIVO",
         "adventure,animation,comedy"
        ],
        [
         "THE GUILTY",
         "crime,drama,thriller"
        ],
        [
         "THE POWER OF THE DOG",
         "drama"
        ],
        [
         "SKATER GIRL",
         "drama,family,sport"
        ],
        [
         "TRIPPIN' WITH THE KANDASAMYS",
         "comedy,romance"
        ],
        [
         "TROLLHUNTERS: RISE OF THE TITANS",
         "action,adventure,animation"
        ],
        [
         "FEAR STREET 2",
         "horror,mystery"
        ],
        [
         "KATE",
         "action,adventure,crime"
        ],
        [
         "THE LOUD HOUSE",
         "action,adventure,animation"
        ],
        [
         "OPERATION VARSITY BLUES: THE COLLEGE ADMISSIONS SCANDAL",
         "crime,documentary,drama"
        ],
        [
         "HATING PETER TATCHELL",
         "documentary"
        ],
        [
         "FEAR STREET 3",
         "horror,mystery"
        ],
        [
         "THE HARDER THEY FALL",
         "drama,western"
        ],
        [
         "PASSING",
         "drama"
        ],
        [
         "MUNICH",
         "biography,drama,history"
        ],
        [
         "A BOY CALLED CHRISTMAS",
         "adventure,drama,family"
        ],
        [
         "A JAZZMAN'S BLUES",
         "drama"
        ],
        [
         "UNTITLED SANDRA BULLOCK/NORA FINGSCHEIDT PROJECT",
         "drama"
        ],
        [
         "NIGHT TEETH",
         "thriller"
        ],
        [
         "IN OUR MOTHERS' GARDENS",
         "documentary"
        ],
        [
         "THE WITCHER: NIGHTMARE OF THE WOLF",
         "action,adventure,animation"
        ],
        [
         "BACK TO THE OUTBACK",
         "adventure,animation,comedy"
        ],
        [
         "THERE'S SOMEONE INSIDE YOUR HOUSE",
         "horror,thriller"
        ],
        [
         "BIGGIE: I GOT A STORY TO TELL",
         "biography,documentary,music"
        ],
        [
         "METAL LORDS",
         "drama,music"
        ],
        [
         "PELÉ",
         "biography,documentary,sport"
        ],
        [
         "THE MINIMALISTS: LESS IS NOW",
         "documentary"
        ],
        [
         "BEAUTY",
         "drama,romance"
        ],
        [
         "THE PRINCESS SWITCH 3",
         "comedy,drama,family"
        ],
        [
         "LOVE HARD",
         "comedy,romance"
        ],
        [
         "STRIP DOWN, RISE UP",
         "documentary"
        ],
        [
         "RISE OF THE TEENAGE MUTANT NINJA TURTLES",
         "action,adventure,animation"
        ],
        [
         "NIGHTBOOKS",
         "family,fantasy,horror"
        ],
        [
         "CRACK: COCAINE, CORRUPTION & CONSPIRACY",
         "crime,documentary,history"
        ],
        [
         "AGAINST THE ICE",
         "adventure,drama,history"
        ],
        [
         "RESORT TO LOVE",
         "comedy,romance"
        ],
        [
         "A CASTLE FOR CHRISTMAS",
         "adventure,comedy,family"
        ],
        [
         "PRAY AWAY",
         "documentary"
        ],
        [
         "SINGLE ALL THE WAY",
         "comedy,drama,romance"
        ],
        [
         "SISTERS ON TRACK",
         "documentary,sport"
        ],
        [
         "INTRUSION",
         "thriller"
        ],
        [
         "ACCOMPLICE",
         "documentary"
        ],
        [
         "HYPNOTIC",
         "horror,thriller"
        ],
        [
         "DIANA",
         "biography,drama,musical"
        ],
        [
         "HEADSPACE: UNWIND YOUR MIND",
         "animation,documentary"
        ],
        [
         "BOB ROSS: HAPPY ACCIDENTS, BETRAYAL & GREED",
         "documentary"
        ],
        [
         "KANE CHONICLES",
         "adventure"
        ],
        [
         "UNTITLED NETFLIX FAMILY COMEDY 2021",
         "comedy"
        ],
        [
         "UNTITLED BOEING 737 MAX/RORY KENNEDY PROJECT",
         "documentary"
        ],
        [
         "HAPPINESS EVER AFTER",
         "drama,romance"
        ],
        [
         "LOVE AND MONSTERS",
         "action,adventure,comedy"
        ],
        [
         "I CARE A LOT",
         "comedy,crime,thriller"
        ],
        [
         "EUROVISION SONG CONTEST: THE STORY OF FIRE SAGA",
         "comedy,music"
        ],
        [
         "THE DEVIL ALL THE TIME",
         "crime,drama,thriller"
        ],
        [
         "HONEST THIEF",
         "action,crime,drama"
        ],
        [
         "RUN",
         "mystery,thriller"
        ],
        [
         "NEWS OF THE WORLD",
         "action,adventure,drama"
        ],
        [
         "ENOLA HOLMES",
         "action,adventure,crime"
        ],
        [
         "THE TRIAL OF THE CHICAGO 7",
         "drama,history,thriller"
        ],
        [
         "THE WATER MAN",
         "adventure,drama,family"
        ],
        [
         "BREACH",
         "action,sci-fi"
        ],
        [
         "THE OLD GUARD",
         "action,adventure,fantasy"
        ],
        [
         "EXTRACTION",
         "action,thriller"
        ],
        [
         "SPENSER CONFIDENTIAL",
         "action,comedy,crime"
        ],
        [
         "MANK",
         "biography,comedy,drama"
        ],
        [
         "HILLBILLY ELEGY",
         "drama"
        ],
        [
         "REBECCA",
         "drama,mystery,romance"
        ],
        [
         "I'M THINKING OF ENDING THINGS",
         "drama,thriller"
        ],
        [
         "PIECES OF A WOMAN",
         "drama"
        ],
        [
         "MY OCTOPUS TEACHER",
         "documentary"
        ],
        [
         "FANTASY ISLAND",
         "action,adventure,fantasy"
        ],
        [
         "THE WRONG MISSY",
         "comedy,romance"
        ],
        [
         "THE MIDNIGHT SKY",
         "drama,fantasy,sci-fi"
        ],
        [
         "WE CAN BE HEROES",
         "action,comedy,drama"
        ],
        [
         "PROJECT POWER",
         "action,crime,sci-fi"
        ],
        [
         "THE BABYSITTER: KILLER QUEEN",
         "comedy,horror"
        ],
        [
         "HIS HOUSE",
         "drama,horror,thriller"
        ],
        [
         "MA RAINEY'S BLACK BOTTOM",
         "drama,music"
        ],
        [
         "HUBIE HALLOWEEN",
         "comedy,mystery"
        ],
        [
         "CONCRETE COWBOY",
         "drama"
        ],
        [
         "ALL THE BRIGHT PLACES",
         "drama,romance"
        ],
        [
         "HOLIDATE",
         "comedy,romance"
        ],
        [
         "2067",
         "sci-fi"
        ],
        [
         "FORCE OF NATURE",
         "action,crime,drama"
        ],
        [
         "DA 5 BLOODS",
         "adventure,drama,war"
        ],
        [
         "THE SPONGEBOB MOVIE: SPONGE ON THE RUN",
         "adventure,animation,comedy"
        ],
        [
         "JUNGLE BEAT: THE MOVIE",
         "adventure,animation,comedy"
        ],
        [
         "PENGUIN BLOOM",
         "drama"
        ],
        [
         "OVER THE MOON",
         "adventure,animation,comedy"
        ],
        [
         "LOVE WEDDING REPEAT",
         "comedy,romance"
        ],
        [
         "THE PROM",
         "comedy,drama,musical"
        ],
        [
         "THE KISSING BOOTH 2",
         "comedy,romance"
        ],
        [
         "LOST GIRLS",
         "drama,mystery,thriller"
        ],
        [
         "THE STAND IN",
         "comedy,drama"
        ],
        [
         "THE LAST THING HE WANTED",
         "crime,drama,thriller"
        ],
        [
         "THE SOCIAL DILEMMA",
         "documentary,drama"
        ],
        [
         "HORSE GIRL",
         "drama,mystery,thriller"
        ],
        [
         "THE SLEEPOVER",
         "action,adventure,comedy"
        ],
        [
         "THE BOYS IN THE BAND",
         "drama"
        ],
        [
         "THE LAST DAYS OF AMERICAN CRIME",
         "action,crime,drama"
        ],
        [
         "LOVE, GUARANTEED",
         "comedy,romance"
        ],
        [
         "THE WILLOUGHBYS",
         "adventure,animation,comedy"
        ],
        [
         "FEEL THE BEAT",
         "comedy,drama,family"
        ],
        [
         "AMERICAN MURDER: THE FAMILY NEXT DOOR",
         "crime,documentary"
        ],
        [
         "WORK IT",
         "comedy,music"
        ],
        [
         "THE LOVEBIRDS",
         "action,comedy,crime"
        ],
        [
         "SIGHTLESS",
         "drama,thriller"
        ],
        [
         "DANGEROUS LIES",
         "drama,mystery,thriller"
        ],
        [
         "THE F**K-IT LIST",
         "comedy"
        ],
        [
         "A FALL FROM GRACE",
         "drama,fantasy,thriller"
        ],
        [
         "VAMPIRES VS. THE BRONX",
         "comedy,horror"
        ],
        [
         "THINK LIKE A DOG",
         "comedy,drama,family"
        ],
        [
         "TO ALL THE BOYS: P.S. I STILL LOVE YOU",
         "comedy,drama,romance"
        ],
        [
         "DESPERADOS",
         "comedy,romance"
        ],
        [
         "A BABYSITTER'S GUIDE TO MONSTER HUNTING",
         "comedy,family,fantasy"
        ],
        [
         "SERGIO",
         "biography,drama,history"
        ],
        [
         "ROPED",
         "drama,romance"
        ],
        [
         "DAVID ATTENBOROUGH: A LIFE ON OUR PLANET",
         "biography,documentary"
        ],
        [
         "THE DEBT COLLECTOR 2",
         "action,comedy"
        ],
        [
         "A CALIFORNIA CHRISTMAS",
         "comedy,drama,romance"
        ],
        [
         "ALL TOGETHER NOW",
         "drama"
        ],
        [
         "THE CHRISTMAS CHRONICLES: PART TWO",
         "adventure,comedy,family"
        ],
        [
         "THE PRINCESS SWITCH: SWITCHED AGAIN",
         "comedy,drama,family"
        ],
        [
         "CRIP CAMP",
         "documentary"
        ],
        [
         "LADY DRIVER",
         "sport"
        ],
        [
         "COFFEE & KAREEM",
         "action,comedy,crime"
        ],
        [
         "FATAL AFFAIR",
         "thriller"
        ],
        [
         "WHEELS OF FORTUNE",
         "comedy"
        ],
        [
         "KISS THE GROUND",
         "documentary"
        ],
        [
         "THE FORTY-YEAR-OLD VERSION",
         "comedy,drama"
        ],
        [
         "THE MAIN EVENT",
         "action,comedy,family"
        ],
        [
         "MADE YOU LOOK: A TRUE STORY ABOUT FAKE ART",
         "crime,documentary"
        ],
        [
         "THE FISHERMAN'S DIARY",
         "drama"
        ],
        [
         "SERIOUS MEN",
         "comedy,drama"
        ],
        [
         "UNCORKED",
         "drama"
        ],
        [
         "MIDNIGHT AT THE MAGNOLIA",
         "comedy,romance"
        ],
        [
         "ALL DAY AND A NIGHT",
         "drama"
        ],
        [
         "OPERATION CHRISTMAS DROP",
         "comedy,family,romance"
        ],
        [
         "JINGLE JANGLE: A CHRISTMAS JOURNEY",
         "family,fantasy,musical"
        ],
        [
         "BRUISED",
         "drama,sport"
        ],
        [
         "WHAT IS LIFE WORTH",
         "biography,drama,history"
        ],
        [
         "HAVE A GOOD TRIP: ADVENTURES IN PSYCHEDELICS",
         "comedy,documentary"
        ],
        [
         "I AM VENGEANCE: RETALIATION",
         "action"
        ],
        [
         "MISS AMERICANA",
         "biography,documentary,music"
        ],
        [
         "DICK JOHNSON IS DEAD",
         "documentary,drama"
        ],
        [
         "YOU ARE MY HOME",
         "animation,family,fantasy"
        ],
        [
         "TIGERTAIL",
         "drama"
        ],
        [
         "GO!",
         "family,sport"
        ],
        [
         "ATHLETE A",
         "crime,documentary,sport"
        ],
        [
         "SECRETS OF THE SAQQARA TOMB",
         "documentary,history"
        ],
        [
         "RICOS DE AMOR",
         "comedy,romance"
        ],
        [
         "A SECRET LOVE",
         "documentary,drama"
        ],
        [
         "ARIANA GRANDE: EXCUSE ME, I LOVE YOU",
         "documentary,music"
        ],
        [
         "MALIBU RESCUE: THE NEXT WAVE",
         "action,comedy,family"
        ],
        [
         "NAMASTE WAHALA",
         "drama,romance"
        ],
        [
         "CITATION",
         "drama,thriller"
        ],
        [
         "FAREWELL AMOR",
         "drama,music,romance"
        ],
        [
         "FUNNY BOY",
         "drama"
        ],
        [
         "A NEW YORK CHRISTMAS WEDDING",
         "drama,romance"
        ],
        [
         "CHRISTMAS ON THE SQUARE",
         "comedy,family,musical"
        ],
        [
         "SERIOUSLY SINGLE",
         "comedy,romance"
        ],
        [
         "RISING PHOENIX",
         "documentary,sport"
        ],
        [
         "RIDING FAITH",
         "family"
        ],
        [
         "MURDER TO MERCY: THE CYNTOIA BROWN STORY",
         "documentary"
        ],
        [
         "BECOMING",
         "documentary"
        ],
        [
         "NOT A GAME",
         "documentary"
        ],
        [
         "BARBIE PRINCESS ADVENTURE",
         "animation,musical"
        ],
        [
         "ANGELA'S CHRISTMAS WISH",
         "adventure,animation,family"
        ],
        [
         "FATHER SOLDIER SON",
         "documentary,war"
        ],
        [
         "UPPITY: THE WILLY T. RIBBS STORY",
         "documentary"
        ],
        [
         "MASKA",
         "comedy,drama,romance"
        ],
        [
         "OCTONAUTS & THE GREAT BARRIER REEF",
         "action,adventure,animation"
        ],
        [
         "SHAWN MENDES: IN WONDER",
         "documentary,music"
        ],
        [
         "LA ORIGINALS",
         "documentary"
        ],
        [
         "MUCHO MUCHO AMOR: THE LEGEND OF WALTER MERCADO",
         "documentary"
        ],
        [
         "OCTONAUTS AND THE CAVES OF SAC ACTUN",
         "adventure,animation,comedy"
        ],
        [
         "THE LARVA ISLAND MOVIE",
         "adventure,animation,comedy"
        ],
        [
         "ANDRÉ & HIS OLIVE TREE",
         "documentary"
        ],
        [
         "DANCE DREAMS: HOT CHOCOLATE NUTCRACKER",
         "documentary,family"
        ],
        [
         "#CATS_THE_MEWVIE",
         "documentary"
        ],
        [
         "GIVING VOICE",
         "documentary"
        ],
        [
         "THE APP THAT STOLE CHRISTMAS",
         "comedy"
        ],
        [
         "SHAWN MENDES: LIVE IN CONCERT",
         "music"
        ],
        [
         "THOMAS & FRIENDS: MARVELOUS MACHINERY",
         "action,adventure,animation"
        ],
        [
         "THE MAGIC SCHOOL BUS RIDES AGAIN: KIDS IN SPACE",
         "adventure,animation,comedy"
        ],
        [
         "NIGHT ON EARTH: SHOT IN THE DARK",
         "documentary"
        ],
        [
         "UNITED NATION THREE DECADES OF DRUM & BASS",
         "documentary"
        ],
        [
         "LIGHT IN THE DARK",
         "thriller"
        ],
        [
         "PEMBURU DI MANCHESTER BIRU",
         "biography,drama"
        ],
        [
         "BIGFLO & OLI: HIP HOP FRENZY",
         "documentary,music"
        ],
        [
         "HORRID HENRY'S GROSS DAY OUT",
         "action,adventure,animation"
        ],
        [
         "LAST DAYS ON EARTH",
         "documentary"
        ]
       ],
       "datasetInfos": [],
       "dbfsResultPath": null,
       "isJsonSchema": true,
       "metadata": {},
       "overflow": false,
       "plotOptions": {
        "customPlotOptions": {},
        "displayType": "table",
        "pivotAggregation": null,
        "pivotColumns": null,
        "xColumns": null,
        "yColumns": null
       },
       "removedWidgets": [],
       "schema": [
        {
         "metadata": "{}",
         "name": "upper(title)",
         "type": "\"string\""
        },
        {
         "metadata": "{}",
         "name": "lower(genres)",
         "type": "\"string\""
        }
       ],
       "type": "table"
      }
     },
     "output_type": "display_data"
    }
   ],
   "source": [
    "display(netflix_data.select(upper('title'), lower('genres')))"
   ]
  },
  {
   "cell_type": "code",
   "execution_count": 0,
   "metadata": {
    "application/vnd.databricks.v1+cell": {
     "cellMetadata": {
      "byteLimit": 2048000,
      "rowLimit": 10000
     },
     "inputWidgets": {},
     "nuid": "667b229d-5258-4379-bd17-646d3ca8bd7d",
     "showTitle": false,
     "title": ""
    }
   },
   "outputs": [
    {
     "output_type": "display_data",
     "data": {
      "text/html": [
       "<style scoped>\n",
       "  .table-result-container {\n",
       "    max-height: 300px;\n",
       "    overflow: auto;\n",
       "  }\n",
       "  table, th, td {\n",
       "    border: 1px solid black;\n",
       "    border-collapse: collapse;\n",
       "  }\n",
       "  th, td {\n",
       "    padding: 5px;\n",
       "  }\n",
       "  th {\n",
       "    text-align: left;\n",
       "  }\n",
       "</style><div class='table-result-container'><table class='table-result'><thead style='background-color: white'><tr><th>type</th><th>initcap(type)</th></tr></thead><tbody><tr><td>movie</td><td>Movie</td></tr><tr><td>movie</td><td>Movie</td></tr><tr><td>movie</td><td>Movie</td></tr><tr><td>movie</td><td>Movie</td></tr><tr><td>movie</td><td>Movie</td></tr><tr><td>movie</td><td>Movie</td></tr><tr><td>movie</td><td>Movie</td></tr><tr><td>movie</td><td>Movie</td></tr><tr><td>movie</td><td>Movie</td></tr><tr><td>movie</td><td>Movie</td></tr><tr><td>movie</td><td>Movie</td></tr><tr><td>movie</td><td>Movie</td></tr><tr><td>movie</td><td>Movie</td></tr><tr><td>movie</td><td>Movie</td></tr><tr><td>movie</td><td>Movie</td></tr><tr><td>movie</td><td>Movie</td></tr><tr><td>movie</td><td>Movie</td></tr><tr><td>movie</td><td>Movie</td></tr><tr><td>movie</td><td>Movie</td></tr><tr><td>movie</td><td>Movie</td></tr><tr><td>movie</td><td>Movie</td></tr><tr><td>movie</td><td>Movie</td></tr><tr><td>movie</td><td>Movie</td></tr><tr><td>movie</td><td>Movie</td></tr><tr><td>movie</td><td>Movie</td></tr><tr><td>movie</td><td>Movie</td></tr><tr><td>movie</td><td>Movie</td></tr><tr><td>movie</td><td>Movie</td></tr><tr><td>movie</td><td>Movie</td></tr><tr><td>movie</td><td>Movie</td></tr><tr><td>movie</td><td>Movie</td></tr><tr><td>movie</td><td>Movie</td></tr><tr><td>movie</td><td>Movie</td></tr><tr><td>movie</td><td>Movie</td></tr><tr><td>movie</td><td>Movie</td></tr><tr><td>movie</td><td>Movie</td></tr><tr><td>movie</td><td>Movie</td></tr><tr><td>movie</td><td>Movie</td></tr><tr><td>movie</td><td>Movie</td></tr><tr><td>movie</td><td>Movie</td></tr><tr><td>movie</td><td>Movie</td></tr><tr><td>movie</td><td>Movie</td></tr><tr><td>movie</td><td>Movie</td></tr><tr><td>movie</td><td>Movie</td></tr><tr><td>movie</td><td>Movie</td></tr><tr><td>movie</td><td>Movie</td></tr><tr><td>movie</td><td>Movie</td></tr><tr><td>movie</td><td>Movie</td></tr><tr><td>movie</td><td>Movie</td></tr><tr><td>movie</td><td>Movie</td></tr><tr><td>movie</td><td>Movie</td></tr><tr><td>movie</td><td>Movie</td></tr><tr><td>movie</td><td>Movie</td></tr><tr><td>movie</td><td>Movie</td></tr><tr><td>movie</td><td>Movie</td></tr><tr><td>movie</td><td>Movie</td></tr><tr><td>movie</td><td>Movie</td></tr><tr><td>movie</td><td>Movie</td></tr><tr><td>movie</td><td>Movie</td></tr><tr><td>movie</td><td>Movie</td></tr><tr><td>movie</td><td>Movie</td></tr><tr><td>movie</td><td>Movie</td></tr><tr><td>movie</td><td>Movie</td></tr><tr><td>movie</td><td>Movie</td></tr><tr><td>movie</td><td>Movie</td></tr><tr><td>movie</td><td>Movie</td></tr><tr><td>movie</td><td>Movie</td></tr><tr><td>movie</td><td>Movie</td></tr><tr><td>movie</td><td>Movie</td></tr><tr><td>movie</td><td>Movie</td></tr><tr><td>movie</td><td>Movie</td></tr><tr><td>movie</td><td>Movie</td></tr><tr><td>movie</td><td>Movie</td></tr><tr><td>movie</td><td>Movie</td></tr><tr><td>movie</td><td>Movie</td></tr><tr><td>movie</td><td>Movie</td></tr><tr><td>movie</td><td>Movie</td></tr><tr><td>movie</td><td>Movie</td></tr><tr><td>movie</td><td>Movie</td></tr><tr><td>movie</td><td>Movie</td></tr><tr><td>movie</td><td>Movie</td></tr><tr><td>movie</td><td>Movie</td></tr><tr><td>movie</td><td>Movie</td></tr><tr><td>movie</td><td>Movie</td></tr><tr><td>movie</td><td>Movie</td></tr><tr><td>movie</td><td>Movie</td></tr><tr><td>movie</td><td>Movie</td></tr><tr><td>movie</td><td>Movie</td></tr><tr><td>movie</td><td>Movie</td></tr><tr><td>movie</td><td>Movie</td></tr><tr><td>movie</td><td>Movie</td></tr><tr><td>movie</td><td>Movie</td></tr><tr><td>movie</td><td>Movie</td></tr><tr><td>movie</td><td>Movie</td></tr><tr><td>movie</td><td>Movie</td></tr><tr><td>movie</td><td>Movie</td></tr><tr><td>movie</td><td>Movie</td></tr><tr><td>movie</td><td>Movie</td></tr><tr><td>movie</td><td>Movie</td></tr><tr><td>movie</td><td>Movie</td></tr><tr><td>movie</td><td>Movie</td></tr><tr><td>movie</td><td>Movie</td></tr><tr><td>movie</td><td>Movie</td></tr><tr><td>movie</td><td>Movie</td></tr><tr><td>movie</td><td>Movie</td></tr><tr><td>movie</td><td>Movie</td></tr><tr><td>movie</td><td>Movie</td></tr><tr><td>movie</td><td>Movie</td></tr><tr><td>movie</td><td>Movie</td></tr><tr><td>movie</td><td>Movie</td></tr><tr><td>movie</td><td>Movie</td></tr><tr><td>movie</td><td>Movie</td></tr><tr><td>movie</td><td>Movie</td></tr><tr><td>movie</td><td>Movie</td></tr><tr><td>movie</td><td>Movie</td></tr><tr><td>movie</td><td>Movie</td></tr><tr><td>movie</td><td>Movie</td></tr><tr><td>movie</td><td>Movie</td></tr><tr><td>movie</td><td>Movie</td></tr><tr><td>movie</td><td>Movie</td></tr><tr><td>movie</td><td>Movie</td></tr><tr><td>movie</td><td>Movie</td></tr><tr><td>movie</td><td>Movie</td></tr><tr><td>movie</td><td>Movie</td></tr><tr><td>movie</td><td>Movie</td></tr><tr><td>movie</td><td>Movie</td></tr><tr><td>movie</td><td>Movie</td></tr><tr><td>movie</td><td>Movie</td></tr><tr><td>movie</td><td>Movie</td></tr><tr><td>movie</td><td>Movie</td></tr><tr><td>movie</td><td>Movie</td></tr><tr><td>movie</td><td>Movie</td></tr><tr><td>movie</td><td>Movie</td></tr><tr><td>movie</td><td>Movie</td></tr><tr><td>movie</td><td>Movie</td></tr><tr><td>movie</td><td>Movie</td></tr><tr><td>movie</td><td>Movie</td></tr><tr><td>movie</td><td>Movie</td></tr><tr><td>movie</td><td>Movie</td></tr><tr><td>movie</td><td>Movie</td></tr><tr><td>movie</td><td>Movie</td></tr><tr><td>movie</td><td>Movie</td></tr><tr><td>movie</td><td>Movie</td></tr><tr><td>movie</td><td>Movie</td></tr><tr><td>movie</td><td>Movie</td></tr><tr><td>movie</td><td>Movie</td></tr><tr><td>movie</td><td>Movie</td></tr><tr><td>movie</td><td>Movie</td></tr><tr><td>movie</td><td>Movie</td></tr><tr><td>movie</td><td>Movie</td></tr><tr><td>movie</td><td>Movie</td></tr><tr><td>movie</td><td>Movie</td></tr><tr><td>movie</td><td>Movie</td></tr><tr><td>movie</td><td>Movie</td></tr><tr><td>movie</td><td>Movie</td></tr><tr><td>movie</td><td>Movie</td></tr><tr><td>movie</td><td>Movie</td></tr><tr><td>movie</td><td>Movie</td></tr><tr><td>movie</td><td>Movie</td></tr><tr><td>movie</td><td>Movie</td></tr><tr><td>movie</td><td>Movie</td></tr><tr><td>movie</td><td>Movie</td></tr><tr><td>movie</td><td>Movie</td></tr><tr><td>movie</td><td>Movie</td></tr><tr><td>movie</td><td>Movie</td></tr><tr><td>movie</td><td>Movie</td></tr><tr><td>movie</td><td>Movie</td></tr><tr><td>movie</td><td>Movie</td></tr><tr><td>movie</td><td>Movie</td></tr><tr><td>movie</td><td>Movie</td></tr><tr><td>movie</td><td>Movie</td></tr><tr><td>movie</td><td>Movie</td></tr><tr><td>movie</td><td>Movie</td></tr><tr><td>movie</td><td>Movie</td></tr><tr><td>movie</td><td>Movie</td></tr><tr><td>movie</td><td>Movie</td></tr><tr><td>movie</td><td>Movie</td></tr><tr><td>movie</td><td>Movie</td></tr><tr><td>movie</td><td>Movie</td></tr><tr><td>movie</td><td>Movie</td></tr><tr><td>movie</td><td>Movie</td></tr><tr><td>movie</td><td>Movie</td></tr><tr><td>movie</td><td>Movie</td></tr><tr><td>movie</td><td>Movie</td></tr><tr><td>movie</td><td>Movie</td></tr><tr><td>movie</td><td>Movie</td></tr><tr><td>movie</td><td>Movie</td></tr><tr><td>movie</td><td>Movie</td></tr><tr><td>movie</td><td>Movie</td></tr><tr><td>movie</td><td>Movie</td></tr><tr><td>movie</td><td>Movie</td></tr><tr><td>movie</td><td>Movie</td></tr><tr><td>movie</td><td>Movie</td></tr><tr><td>movie</td><td>Movie</td></tr><tr><td>movie</td><td>Movie</td></tr><tr><td>movie</td><td>Movie</td></tr><tr><td>movie</td><td>Movie</td></tr><tr><td>movie</td><td>Movie</td></tr><tr><td>movie</td><td>Movie</td></tr><tr><td>movie</td><td>Movie</td></tr><tr><td>movie</td><td>Movie</td></tr><tr><td>movie</td><td>Movie</td></tr><tr><td>movie</td><td>Movie</td></tr><tr><td>movie</td><td>Movie</td></tr><tr><td>movie</td><td>Movie</td></tr><tr><td>movie</td><td>Movie</td></tr><tr><td>movie</td><td>Movie</td></tr><tr><td>movie</td><td>Movie</td></tr><tr><td>movie</td><td>Movie</td></tr><tr><td>movie</td><td>Movie</td></tr><tr><td>movie</td><td>Movie</td></tr><tr><td>movie</td><td>Movie</td></tr><tr><td>movie</td><td>Movie</td></tr><tr><td>movie</td><td>Movie</td></tr><tr><td>movie</td><td>Movie</td></tr><tr><td>movie</td><td>Movie</td></tr><tr><td>movie</td><td>Movie</td></tr><tr><td>movie</td><td>Movie</td></tr><tr><td>movie</td><td>Movie</td></tr><tr><td>movie</td><td>Movie</td></tr><tr><td>movie</td><td>Movie</td></tr><tr><td>movie</td><td>Movie</td></tr><tr><td>movie</td><td>Movie</td></tr><tr><td>movie</td><td>Movie</td></tr><tr><td>movie</td><td>Movie</td></tr><tr><td>movie</td><td>Movie</td></tr><tr><td>movie</td><td>Movie</td></tr><tr><td>movie</td><td>Movie</td></tr><tr><td>movie</td><td>Movie</td></tr><tr><td>movie</td><td>Movie</td></tr><tr><td>movie</td><td>Movie</td></tr><tr><td>movie</td><td>Movie</td></tr><tr><td>movie</td><td>Movie</td></tr><tr><td>movie</td><td>Movie</td></tr><tr><td>movie</td><td>Movie</td></tr></tbody></table></div>"
      ]
     },
     "metadata": {
      "application/vnd.databricks.v1+output": {
       "addedWidgets": {},
       "aggData": [],
       "aggError": "",
       "aggOverflow": false,
       "aggSchema": [],
       "aggSeriesLimitReached": false,
       "aggType": "",
       "arguments": {},
       "columnCustomDisplayInfos": {},
       "data": [
        [
         "movie",
         "Movie"
        ],
        [
         "movie",
         "Movie"
        ],
        [
         "movie",
         "Movie"
        ],
        [
         "movie",
         "Movie"
        ],
        [
         "movie",
         "Movie"
        ],
        [
         "movie",
         "Movie"
        ],
        [
         "movie",
         "Movie"
        ],
        [
         "movie",
         "Movie"
        ],
        [
         "movie",
         "Movie"
        ],
        [
         "movie",
         "Movie"
        ],
        [
         "movie",
         "Movie"
        ],
        [
         "movie",
         "Movie"
        ],
        [
         "movie",
         "Movie"
        ],
        [
         "movie",
         "Movie"
        ],
        [
         "movie",
         "Movie"
        ],
        [
         "movie",
         "Movie"
        ],
        [
         "movie",
         "Movie"
        ],
        [
         "movie",
         "Movie"
        ],
        [
         "movie",
         "Movie"
        ],
        [
         "movie",
         "Movie"
        ],
        [
         "movie",
         "Movie"
        ],
        [
         "movie",
         "Movie"
        ],
        [
         "movie",
         "Movie"
        ],
        [
         "movie",
         "Movie"
        ],
        [
         "movie",
         "Movie"
        ],
        [
         "movie",
         "Movie"
        ],
        [
         "movie",
         "Movie"
        ],
        [
         "movie",
         "Movie"
        ],
        [
         "movie",
         "Movie"
        ],
        [
         "movie",
         "Movie"
        ],
        [
         "movie",
         "Movie"
        ],
        [
         "movie",
         "Movie"
        ],
        [
         "movie",
         "Movie"
        ],
        [
         "movie",
         "Movie"
        ],
        [
         "movie",
         "Movie"
        ],
        [
         "movie",
         "Movie"
        ],
        [
         "movie",
         "Movie"
        ],
        [
         "movie",
         "Movie"
        ],
        [
         "movie",
         "Movie"
        ],
        [
         "movie",
         "Movie"
        ],
        [
         "movie",
         "Movie"
        ],
        [
         "movie",
         "Movie"
        ],
        [
         "movie",
         "Movie"
        ],
        [
         "movie",
         "Movie"
        ],
        [
         "movie",
         "Movie"
        ],
        [
         "movie",
         "Movie"
        ],
        [
         "movie",
         "Movie"
        ],
        [
         "movie",
         "Movie"
        ],
        [
         "movie",
         "Movie"
        ],
        [
         "movie",
         "Movie"
        ],
        [
         "movie",
         "Movie"
        ],
        [
         "movie",
         "Movie"
        ],
        [
         "movie",
         "Movie"
        ],
        [
         "movie",
         "Movie"
        ],
        [
         "movie",
         "Movie"
        ],
        [
         "movie",
         "Movie"
        ],
        [
         "movie",
         "Movie"
        ],
        [
         "movie",
         "Movie"
        ],
        [
         "movie",
         "Movie"
        ],
        [
         "movie",
         "Movie"
        ],
        [
         "movie",
         "Movie"
        ],
        [
         "movie",
         "Movie"
        ],
        [
         "movie",
         "Movie"
        ],
        [
         "movie",
         "Movie"
        ],
        [
         "movie",
         "Movie"
        ],
        [
         "movie",
         "Movie"
        ],
        [
         "movie",
         "Movie"
        ],
        [
         "movie",
         "Movie"
        ],
        [
         "movie",
         "Movie"
        ],
        [
         "movie",
         "Movie"
        ],
        [
         "movie",
         "Movie"
        ],
        [
         "movie",
         "Movie"
        ],
        [
         "movie",
         "Movie"
        ],
        [
         "movie",
         "Movie"
        ],
        [
         "movie",
         "Movie"
        ],
        [
         "movie",
         "Movie"
        ],
        [
         "movie",
         "Movie"
        ],
        [
         "movie",
         "Movie"
        ],
        [
         "movie",
         "Movie"
        ],
        [
         "movie",
         "Movie"
        ],
        [
         "movie",
         "Movie"
        ],
        [
         "movie",
         "Movie"
        ],
        [
         "movie",
         "Movie"
        ],
        [
         "movie",
         "Movie"
        ],
        [
         "movie",
         "Movie"
        ],
        [
         "movie",
         "Movie"
        ],
        [
         "movie",
         "Movie"
        ],
        [
         "movie",
         "Movie"
        ],
        [
         "movie",
         "Movie"
        ],
        [
         "movie",
         "Movie"
        ],
        [
         "movie",
         "Movie"
        ],
        [
         "movie",
         "Movie"
        ],
        [
         "movie",
         "Movie"
        ],
        [
         "movie",
         "Movie"
        ],
        [
         "movie",
         "Movie"
        ],
        [
         "movie",
         "Movie"
        ],
        [
         "movie",
         "Movie"
        ],
        [
         "movie",
         "Movie"
        ],
        [
         "movie",
         "Movie"
        ],
        [
         "movie",
         "Movie"
        ],
        [
         "movie",
         "Movie"
        ],
        [
         "movie",
         "Movie"
        ],
        [
         "movie",
         "Movie"
        ],
        [
         "movie",
         "Movie"
        ],
        [
         "movie",
         "Movie"
        ],
        [
         "movie",
         "Movie"
        ],
        [
         "movie",
         "Movie"
        ],
        [
         "movie",
         "Movie"
        ],
        [
         "movie",
         "Movie"
        ],
        [
         "movie",
         "Movie"
        ],
        [
         "movie",
         "Movie"
        ],
        [
         "movie",
         "Movie"
        ],
        [
         "movie",
         "Movie"
        ],
        [
         "movie",
         "Movie"
        ],
        [
         "movie",
         "Movie"
        ],
        [
         "movie",
         "Movie"
        ],
        [
         "movie",
         "Movie"
        ],
        [
         "movie",
         "Movie"
        ],
        [
         "movie",
         "Movie"
        ],
        [
         "movie",
         "Movie"
        ],
        [
         "movie",
         "Movie"
        ],
        [
         "movie",
         "Movie"
        ],
        [
         "movie",
         "Movie"
        ],
        [
         "movie",
         "Movie"
        ],
        [
         "movie",
         "Movie"
        ],
        [
         "movie",
         "Movie"
        ],
        [
         "movie",
         "Movie"
        ],
        [
         "movie",
         "Movie"
        ],
        [
         "movie",
         "Movie"
        ],
        [
         "movie",
         "Movie"
        ],
        [
         "movie",
         "Movie"
        ],
        [
         "movie",
         "Movie"
        ],
        [
         "movie",
         "Movie"
        ],
        [
         "movie",
         "Movie"
        ],
        [
         "movie",
         "Movie"
        ],
        [
         "movie",
         "Movie"
        ],
        [
         "movie",
         "Movie"
        ],
        [
         "movie",
         "Movie"
        ],
        [
         "movie",
         "Movie"
        ],
        [
         "movie",
         "Movie"
        ],
        [
         "movie",
         "Movie"
        ],
        [
         "movie",
         "Movie"
        ],
        [
         "movie",
         "Movie"
        ],
        [
         "movie",
         "Movie"
        ],
        [
         "movie",
         "Movie"
        ],
        [
         "movie",
         "Movie"
        ],
        [
         "movie",
         "Movie"
        ],
        [
         "movie",
         "Movie"
        ],
        [
         "movie",
         "Movie"
        ],
        [
         "movie",
         "Movie"
        ],
        [
         "movie",
         "Movie"
        ],
        [
         "movie",
         "Movie"
        ],
        [
         "movie",
         "Movie"
        ],
        [
         "movie",
         "Movie"
        ],
        [
         "movie",
         "Movie"
        ],
        [
         "movie",
         "Movie"
        ],
        [
         "movie",
         "Movie"
        ],
        [
         "movie",
         "Movie"
        ],
        [
         "movie",
         "Movie"
        ],
        [
         "movie",
         "Movie"
        ],
        [
         "movie",
         "Movie"
        ],
        [
         "movie",
         "Movie"
        ],
        [
         "movie",
         "Movie"
        ],
        [
         "movie",
         "Movie"
        ],
        [
         "movie",
         "Movie"
        ],
        [
         "movie",
         "Movie"
        ],
        [
         "movie",
         "Movie"
        ],
        [
         "movie",
         "Movie"
        ],
        [
         "movie",
         "Movie"
        ],
        [
         "movie",
         "Movie"
        ],
        [
         "movie",
         "Movie"
        ],
        [
         "movie",
         "Movie"
        ],
        [
         "movie",
         "Movie"
        ],
        [
         "movie",
         "Movie"
        ],
        [
         "movie",
         "Movie"
        ],
        [
         "movie",
         "Movie"
        ],
        [
         "movie",
         "Movie"
        ],
        [
         "movie",
         "Movie"
        ],
        [
         "movie",
         "Movie"
        ],
        [
         "movie",
         "Movie"
        ],
        [
         "movie",
         "Movie"
        ],
        [
         "movie",
         "Movie"
        ],
        [
         "movie",
         "Movie"
        ],
        [
         "movie",
         "Movie"
        ],
        [
         "movie",
         "Movie"
        ],
        [
         "movie",
         "Movie"
        ],
        [
         "movie",
         "Movie"
        ],
        [
         "movie",
         "Movie"
        ],
        [
         "movie",
         "Movie"
        ],
        [
         "movie",
         "Movie"
        ],
        [
         "movie",
         "Movie"
        ],
        [
         "movie",
         "Movie"
        ],
        [
         "movie",
         "Movie"
        ],
        [
         "movie",
         "Movie"
        ],
        [
         "movie",
         "Movie"
        ],
        [
         "movie",
         "Movie"
        ],
        [
         "movie",
         "Movie"
        ],
        [
         "movie",
         "Movie"
        ],
        [
         "movie",
         "Movie"
        ],
        [
         "movie",
         "Movie"
        ],
        [
         "movie",
         "Movie"
        ],
        [
         "movie",
         "Movie"
        ],
        [
         "movie",
         "Movie"
        ],
        [
         "movie",
         "Movie"
        ],
        [
         "movie",
         "Movie"
        ],
        [
         "movie",
         "Movie"
        ],
        [
         "movie",
         "Movie"
        ],
        [
         "movie",
         "Movie"
        ],
        [
         "movie",
         "Movie"
        ],
        [
         "movie",
         "Movie"
        ],
        [
         "movie",
         "Movie"
        ],
        [
         "movie",
         "Movie"
        ],
        [
         "movie",
         "Movie"
        ],
        [
         "movie",
         "Movie"
        ],
        [
         "movie",
         "Movie"
        ],
        [
         "movie",
         "Movie"
        ],
        [
         "movie",
         "Movie"
        ],
        [
         "movie",
         "Movie"
        ],
        [
         "movie",
         "Movie"
        ],
        [
         "movie",
         "Movie"
        ],
        [
         "movie",
         "Movie"
        ],
        [
         "movie",
         "Movie"
        ],
        [
         "movie",
         "Movie"
        ],
        [
         "movie",
         "Movie"
        ],
        [
         "movie",
         "Movie"
        ],
        [
         "movie",
         "Movie"
        ],
        [
         "movie",
         "Movie"
        ],
        [
         "movie",
         "Movie"
        ],
        [
         "movie",
         "Movie"
        ],
        [
         "movie",
         "Movie"
        ],
        [
         "movie",
         "Movie"
        ],
        [
         "movie",
         "Movie"
        ],
        [
         "movie",
         "Movie"
        ],
        [
         "movie",
         "Movie"
        ],
        [
         "movie",
         "Movie"
        ]
       ],
       "datasetInfos": [],
       "dbfsResultPath": null,
       "isJsonSchema": true,
       "metadata": {},
       "overflow": false,
       "plotOptions": {
        "customPlotOptions": {},
        "displayType": "table",
        "pivotAggregation": null,
        "pivotColumns": null,
        "xColumns": null,
        "yColumns": null
       },
       "removedWidgets": [],
       "schema": [
        {
         "metadata": "{}",
         "name": "type",
         "type": "\"string\""
        },
        {
         "metadata": "{}",
         "name": "initcap(type)",
         "type": "\"string\""
        }
       ],
       "type": "table"
      }
     },
     "output_type": "display_data"
    }
   ],
   "source": [
    "display(netflix_data.select('type', initcap('type')))"
   ]
  },
  {
   "cell_type": "code",
   "execution_count": 0,
   "metadata": {
    "application/vnd.databricks.v1+cell": {
     "cellMetadata": {
      "byteLimit": 2048000,
      "rowLimit": 10000
     },
     "inputWidgets": {},
     "nuid": "3a0006b6-08b5-4c8b-9c91-13e53124153b",
     "showTitle": false,
     "title": ""
    }
   },
   "outputs": [],
   "source": [
    "from pyspark.sql.functions import regexp_replace"
   ]
  },
  {
   "cell_type": "code",
   "execution_count": 0,
   "metadata": {
    "application/vnd.databricks.v1+cell": {
     "cellMetadata": {
      "byteLimit": 2048000,
      "rowLimit": 10000
     },
     "inputWidgets": {},
     "nuid": "0e72e7e0-8199-4e0a-aacd-055c7f2f8c2b",
     "showTitle": false,
     "title": ""
    }
   },
   "outputs": [
    {
     "output_type": "display_data",
     "data": {
      "text/html": [
       "<style scoped>\n",
       "  .table-result-container {\n",
       "    max-height: 300px;\n",
       "    overflow: auto;\n",
       "  }\n",
       "  table, th, td {\n",
       "    border: 1px solid black;\n",
       "    border-collapse: collapse;\n",
       "  }\n",
       "  th, td {\n",
       "    padding: 5px;\n",
       "  }\n",
       "  th {\n",
       "    text-align: left;\n",
       "  }\n",
       "</style><div class='table-result-container'><table class='table-result'><thead style='background-color: white'><tr><th>language</th><th>regexp_replace(language, En*, en, 1)</th></tr></thead><tbody><tr><td>English</td><td>english</td></tr><tr><td>English</td><td>english</td></tr><tr><td>English</td><td>english</td></tr><tr><td>English</td><td>english</td></tr><tr><td>English</td><td>english</td></tr><tr><td>English</td><td>english</td></tr><tr><td>English</td><td>english</td></tr><tr><td>English</td><td>english</td></tr><tr><td>English</td><td>english</td></tr><tr><td>English</td><td>english</td></tr><tr><td>English</td><td>english</td></tr><tr><td>English</td><td>english</td></tr><tr><td>English</td><td>english</td></tr><tr><td>English</td><td>english</td></tr><tr><td>English</td><td>english</td></tr><tr><td>English</td><td>english</td></tr><tr><td>English</td><td>english</td></tr><tr><td>English</td><td>english</td></tr><tr><td>English</td><td>english</td></tr><tr><td>English</td><td>english</td></tr><tr><td>English</td><td>english</td></tr><tr><td>English</td><td>english</td></tr><tr><td>English</td><td>english</td></tr><tr><td>English</td><td>english</td></tr><tr><td>English</td><td>english</td></tr><tr><td>English</td><td>english</td></tr><tr><td>English</td><td>english</td></tr><tr><td>English</td><td>english</td></tr><tr><td>English</td><td>english</td></tr><tr><td>English</td><td>english</td></tr><tr><td>English</td><td>english</td></tr><tr><td>English</td><td>english</td></tr><tr><td>English</td><td>english</td></tr><tr><td>English</td><td>english</td></tr><tr><td>English</td><td>english</td></tr><tr><td>English</td><td>english</td></tr><tr><td>English</td><td>english</td></tr><tr><td>English</td><td>english</td></tr><tr><td>English</td><td>english</td></tr><tr><td>English</td><td>english</td></tr><tr><td>English</td><td>english</td></tr><tr><td>English</td><td>english</td></tr><tr><td>English</td><td>english</td></tr><tr><td>English</td><td>english</td></tr><tr><td>English</td><td>english</td></tr><tr><td>English</td><td>english</td></tr><tr><td>English</td><td>english</td></tr><tr><td>English</td><td>english</td></tr><tr><td>English</td><td>english</td></tr><tr><td>English</td><td>english</td></tr><tr><td>English</td><td>english</td></tr><tr><td>English</td><td>english</td></tr><tr><td>English</td><td>english</td></tr><tr><td>English</td><td>english</td></tr><tr><td>English</td><td>english</td></tr><tr><td>English</td><td>english</td></tr><tr><td>English</td><td>english</td></tr><tr><td>English</td><td>english</td></tr><tr><td>English</td><td>english</td></tr><tr><td>English</td><td>english</td></tr><tr><td>English</td><td>english</td></tr><tr><td>English</td><td>english</td></tr><tr><td>English</td><td>english</td></tr><tr><td>English</td><td>english</td></tr><tr><td>English</td><td>english</td></tr><tr><td>English</td><td>english</td></tr><tr><td>English</td><td>english</td></tr><tr><td>English</td><td>english</td></tr><tr><td>English</td><td>english</td></tr><tr><td>English</td><td>english</td></tr><tr><td>English</td><td>english</td></tr><tr><td>English</td><td>english</td></tr><tr><td>English</td><td>english</td></tr><tr><td>English</td><td>english</td></tr><tr><td>English</td><td>english</td></tr><tr><td>English</td><td>english</td></tr><tr><td>English</td><td>english</td></tr><tr><td>English</td><td>english</td></tr><tr><td>English</td><td>english</td></tr><tr><td>English</td><td>english</td></tr><tr><td>English</td><td>english</td></tr><tr><td>English</td><td>english</td></tr><tr><td>English</td><td>english</td></tr><tr><td>English</td><td>english</td></tr><tr><td>English</td><td>english</td></tr><tr><td>English</td><td>english</td></tr><tr><td>English</td><td>english</td></tr><tr><td>English</td><td>english</td></tr><tr><td>English</td><td>english</td></tr><tr><td>English</td><td>english</td></tr><tr><td>English</td><td>english</td></tr><tr><td>English</td><td>english</td></tr><tr><td>English</td><td>english</td></tr><tr><td>English</td><td>english</td></tr><tr><td>English</td><td>english</td></tr><tr><td>English</td><td>english</td></tr><tr><td>English</td><td>english</td></tr><tr><td>English</td><td>english</td></tr><tr><td>English</td><td>english</td></tr><tr><td>English</td><td>english</td></tr><tr><td>English</td><td>english</td></tr><tr><td>English</td><td>english</td></tr><tr><td>English</td><td>english</td></tr><tr><td>English</td><td>english</td></tr><tr><td>English</td><td>english</td></tr><tr><td>English</td><td>english</td></tr><tr><td>English</td><td>english</td></tr><tr><td>English</td><td>english</td></tr><tr><td>English</td><td>english</td></tr><tr><td>English</td><td>english</td></tr><tr><td>English</td><td>english</td></tr><tr><td>English</td><td>english</td></tr><tr><td>English</td><td>english</td></tr><tr><td>English</td><td>english</td></tr><tr><td>English</td><td>english</td></tr><tr><td>English</td><td>english</td></tr><tr><td>English</td><td>english</td></tr><tr><td>English</td><td>english</td></tr><tr><td>English</td><td>english</td></tr><tr><td>English</td><td>english</td></tr><tr><td>English</td><td>english</td></tr><tr><td>English</td><td>english</td></tr><tr><td>English</td><td>english</td></tr><tr><td>English</td><td>english</td></tr><tr><td>English</td><td>english</td></tr><tr><td>English</td><td>english</td></tr><tr><td>English</td><td>english</td></tr><tr><td>English</td><td>english</td></tr><tr><td>English</td><td>english</td></tr><tr><td>English</td><td>english</td></tr><tr><td>English</td><td>english</td></tr><tr><td>English</td><td>english</td></tr><tr><td>English</td><td>english</td></tr><tr><td>English</td><td>english</td></tr><tr><td>English</td><td>english</td></tr><tr><td>English</td><td>english</td></tr><tr><td>English</td><td>english</td></tr><tr><td>English</td><td>english</td></tr><tr><td>English</td><td>english</td></tr><tr><td>English</td><td>english</td></tr><tr><td>English</td><td>english</td></tr><tr><td>English</td><td>english</td></tr><tr><td>English</td><td>english</td></tr><tr><td>English</td><td>english</td></tr><tr><td>English</td><td>english</td></tr><tr><td>English</td><td>english</td></tr><tr><td>English</td><td>english</td></tr><tr><td>English</td><td>english</td></tr><tr><td>English</td><td>english</td></tr><tr><td>English</td><td>english</td></tr><tr><td>English</td><td>english</td></tr><tr><td>English</td><td>english</td></tr><tr><td>English</td><td>english</td></tr><tr><td>English</td><td>english</td></tr><tr><td>English</td><td>english</td></tr><tr><td>English</td><td>english</td></tr><tr><td>English</td><td>english</td></tr><tr><td>English</td><td>english</td></tr><tr><td>English</td><td>english</td></tr><tr><td>English</td><td>english</td></tr><tr><td>English</td><td>english</td></tr><tr><td>English</td><td>english</td></tr><tr><td>English</td><td>english</td></tr><tr><td>English</td><td>english</td></tr><tr><td>English</td><td>english</td></tr><tr><td>English</td><td>english</td></tr><tr><td>English</td><td>english</td></tr><tr><td>English</td><td>english</td></tr><tr><td>English</td><td>english</td></tr><tr><td>English</td><td>english</td></tr><tr><td>English</td><td>english</td></tr><tr><td>English</td><td>english</td></tr><tr><td>English</td><td>english</td></tr><tr><td>English</td><td>english</td></tr><tr><td>English</td><td>english</td></tr><tr><td>English</td><td>english</td></tr><tr><td>English</td><td>english</td></tr><tr><td>English</td><td>english</td></tr><tr><td>English</td><td>english</td></tr><tr><td>English</td><td>english</td></tr><tr><td>English</td><td>english</td></tr><tr><td>English</td><td>english</td></tr><tr><td>English</td><td>english</td></tr><tr><td>English</td><td>english</td></tr><tr><td>English</td><td>english</td></tr><tr><td>English</td><td>english</td></tr><tr><td>English</td><td>english</td></tr><tr><td>English</td><td>english</td></tr><tr><td>English</td><td>english</td></tr><tr><td>English</td><td>english</td></tr><tr><td>English</td><td>english</td></tr><tr><td>English</td><td>english</td></tr><tr><td>English</td><td>english</td></tr><tr><td>English</td><td>english</td></tr><tr><td>English</td><td>english</td></tr><tr><td>English</td><td>english</td></tr><tr><td>English</td><td>english</td></tr><tr><td>English</td><td>english</td></tr><tr><td>English</td><td>english</td></tr><tr><td>English</td><td>english</td></tr><tr><td>English</td><td>english</td></tr><tr><td>English</td><td>english</td></tr><tr><td>English</td><td>english</td></tr><tr><td>English</td><td>english</td></tr><tr><td>English</td><td>english</td></tr><tr><td>English</td><td>english</td></tr><tr><td>English</td><td>english</td></tr><tr><td>English</td><td>english</td></tr><tr><td>English</td><td>english</td></tr><tr><td>English</td><td>english</td></tr><tr><td>English</td><td>english</td></tr><tr><td>English</td><td>english</td></tr><tr><td>English</td><td>english</td></tr><tr><td>English</td><td>english</td></tr><tr><td>English</td><td>english</td></tr><tr><td>English</td><td>english</td></tr><tr><td>English</td><td>english</td></tr><tr><td>English</td><td>english</td></tr><tr><td>English</td><td>english</td></tr><tr><td>English</td><td>english</td></tr><tr><td>English</td><td>english</td></tr><tr><td>English</td><td>english</td></tr><tr><td>English</td><td>english</td></tr><tr><td>English</td><td>english</td></tr><tr><td>English</td><td>english</td></tr><tr><td>English</td><td>english</td></tr><tr><td>English</td><td>english</td></tr><tr><td>English</td><td>english</td></tr><tr><td>English</td><td>english</td></tr><tr><td>English</td><td>english</td></tr><tr><td>English</td><td>english</td></tr><tr><td>English</td><td>english</td></tr><tr><td>English</td><td>english</td></tr><tr><td>English</td><td>english</td></tr><tr><td>English</td><td>english</td></tr></tbody></table></div>"
      ]
     },
     "metadata": {
      "application/vnd.databricks.v1+output": {
       "addedWidgets": {},
       "aggData": [],
       "aggError": "",
       "aggOverflow": false,
       "aggSchema": [],
       "aggSeriesLimitReached": false,
       "aggType": "",
       "arguments": {},
       "columnCustomDisplayInfos": {},
       "data": [
        [
         "English",
         "english"
        ],
        [
         "English",
         "english"
        ],
        [
         "English",
         "english"
        ],
        [
         "English",
         "english"
        ],
        [
         "English",
         "english"
        ],
        [
         "English",
         "english"
        ],
        [
         "English",
         "english"
        ],
        [
         "English",
         "english"
        ],
        [
         "English",
         "english"
        ],
        [
         "English",
         "english"
        ],
        [
         "English",
         "english"
        ],
        [
         "English",
         "english"
        ],
        [
         "English",
         "english"
        ],
        [
         "English",
         "english"
        ],
        [
         "English",
         "english"
        ],
        [
         "English",
         "english"
        ],
        [
         "English",
         "english"
        ],
        [
         "English",
         "english"
        ],
        [
         "English",
         "english"
        ],
        [
         "English",
         "english"
        ],
        [
         "English",
         "english"
        ],
        [
         "English",
         "english"
        ],
        [
         "English",
         "english"
        ],
        [
         "English",
         "english"
        ],
        [
         "English",
         "english"
        ],
        [
         "English",
         "english"
        ],
        [
         "English",
         "english"
        ],
        [
         "English",
         "english"
        ],
        [
         "English",
         "english"
        ],
        [
         "English",
         "english"
        ],
        [
         "English",
         "english"
        ],
        [
         "English",
         "english"
        ],
        [
         "English",
         "english"
        ],
        [
         "English",
         "english"
        ],
        [
         "English",
         "english"
        ],
        [
         "English",
         "english"
        ],
        [
         "English",
         "english"
        ],
        [
         "English",
         "english"
        ],
        [
         "English",
         "english"
        ],
        [
         "English",
         "english"
        ],
        [
         "English",
         "english"
        ],
        [
         "English",
         "english"
        ],
        [
         "English",
         "english"
        ],
        [
         "English",
         "english"
        ],
        [
         "English",
         "english"
        ],
        [
         "English",
         "english"
        ],
        [
         "English",
         "english"
        ],
        [
         "English",
         "english"
        ],
        [
         "English",
         "english"
        ],
        [
         "English",
         "english"
        ],
        [
         "English",
         "english"
        ],
        [
         "English",
         "english"
        ],
        [
         "English",
         "english"
        ],
        [
         "English",
         "english"
        ],
        [
         "English",
         "english"
        ],
        [
         "English",
         "english"
        ],
        [
         "English",
         "english"
        ],
        [
         "English",
         "english"
        ],
        [
         "English",
         "english"
        ],
        [
         "English",
         "english"
        ],
        [
         "English",
         "english"
        ],
        [
         "English",
         "english"
        ],
        [
         "English",
         "english"
        ],
        [
         "English",
         "english"
        ],
        [
         "English",
         "english"
        ],
        [
         "English",
         "english"
        ],
        [
         "English",
         "english"
        ],
        [
         "English",
         "english"
        ],
        [
         "English",
         "english"
        ],
        [
         "English",
         "english"
        ],
        [
         "English",
         "english"
        ],
        [
         "English",
         "english"
        ],
        [
         "English",
         "english"
        ],
        [
         "English",
         "english"
        ],
        [
         "English",
         "english"
        ],
        [
         "English",
         "english"
        ],
        [
         "English",
         "english"
        ],
        [
         "English",
         "english"
        ],
        [
         "English",
         "english"
        ],
        [
         "English",
         "english"
        ],
        [
         "English",
         "english"
        ],
        [
         "English",
         "english"
        ],
        [
         "English",
         "english"
        ],
        [
         "English",
         "english"
        ],
        [
         "English",
         "english"
        ],
        [
         "English",
         "english"
        ],
        [
         "English",
         "english"
        ],
        [
         "English",
         "english"
        ],
        [
         "English",
         "english"
        ],
        [
         "English",
         "english"
        ],
        [
         "English",
         "english"
        ],
        [
         "English",
         "english"
        ],
        [
         "English",
         "english"
        ],
        [
         "English",
         "english"
        ],
        [
         "English",
         "english"
        ],
        [
         "English",
         "english"
        ],
        [
         "English",
         "english"
        ],
        [
         "English",
         "english"
        ],
        [
         "English",
         "english"
        ],
        [
         "English",
         "english"
        ],
        [
         "English",
         "english"
        ],
        [
         "English",
         "english"
        ],
        [
         "English",
         "english"
        ],
        [
         "English",
         "english"
        ],
        [
         "English",
         "english"
        ],
        [
         "English",
         "english"
        ],
        [
         "English",
         "english"
        ],
        [
         "English",
         "english"
        ],
        [
         "English",
         "english"
        ],
        [
         "English",
         "english"
        ],
        [
         "English",
         "english"
        ],
        [
         "English",
         "english"
        ],
        [
         "English",
         "english"
        ],
        [
         "English",
         "english"
        ],
        [
         "English",
         "english"
        ],
        [
         "English",
         "english"
        ],
        [
         "English",
         "english"
        ],
        [
         "English",
         "english"
        ],
        [
         "English",
         "english"
        ],
        [
         "English",
         "english"
        ],
        [
         "English",
         "english"
        ],
        [
         "English",
         "english"
        ],
        [
         "English",
         "english"
        ],
        [
         "English",
         "english"
        ],
        [
         "English",
         "english"
        ],
        [
         "English",
         "english"
        ],
        [
         "English",
         "english"
        ],
        [
         "English",
         "english"
        ],
        [
         "English",
         "english"
        ],
        [
         "English",
         "english"
        ],
        [
         "English",
         "english"
        ],
        [
         "English",
         "english"
        ],
        [
         "English",
         "english"
        ],
        [
         "English",
         "english"
        ],
        [
         "English",
         "english"
        ],
        [
         "English",
         "english"
        ],
        [
         "English",
         "english"
        ],
        [
         "English",
         "english"
        ],
        [
         "English",
         "english"
        ],
        [
         "English",
         "english"
        ],
        [
         "English",
         "english"
        ],
        [
         "English",
         "english"
        ],
        [
         "English",
         "english"
        ],
        [
         "English",
         "english"
        ],
        [
         "English",
         "english"
        ],
        [
         "English",
         "english"
        ],
        [
         "English",
         "english"
        ],
        [
         "English",
         "english"
        ],
        [
         "English",
         "english"
        ],
        [
         "English",
         "english"
        ],
        [
         "English",
         "english"
        ],
        [
         "English",
         "english"
        ],
        [
         "English",
         "english"
        ],
        [
         "English",
         "english"
        ],
        [
         "English",
         "english"
        ],
        [
         "English",
         "english"
        ],
        [
         "English",
         "english"
        ],
        [
         "English",
         "english"
        ],
        [
         "English",
         "english"
        ],
        [
         "English",
         "english"
        ],
        [
         "English",
         "english"
        ],
        [
         "English",
         "english"
        ],
        [
         "English",
         "english"
        ],
        [
         "English",
         "english"
        ],
        [
         "English",
         "english"
        ],
        [
         "English",
         "english"
        ],
        [
         "English",
         "english"
        ],
        [
         "English",
         "english"
        ],
        [
         "English",
         "english"
        ],
        [
         "English",
         "english"
        ],
        [
         "English",
         "english"
        ],
        [
         "English",
         "english"
        ],
        [
         "English",
         "english"
        ],
        [
         "English",
         "english"
        ],
        [
         "English",
         "english"
        ],
        [
         "English",
         "english"
        ],
        [
         "English",
         "english"
        ],
        [
         "English",
         "english"
        ],
        [
         "English",
         "english"
        ],
        [
         "English",
         "english"
        ],
        [
         "English",
         "english"
        ],
        [
         "English",
         "english"
        ],
        [
         "English",
         "english"
        ],
        [
         "English",
         "english"
        ],
        [
         "English",
         "english"
        ],
        [
         "English",
         "english"
        ],
        [
         "English",
         "english"
        ],
        [
         "English",
         "english"
        ],
        [
         "English",
         "english"
        ],
        [
         "English",
         "english"
        ],
        [
         "English",
         "english"
        ],
        [
         "English",
         "english"
        ],
        [
         "English",
         "english"
        ],
        [
         "English",
         "english"
        ],
        [
         "English",
         "english"
        ],
        [
         "English",
         "english"
        ],
        [
         "English",
         "english"
        ],
        [
         "English",
         "english"
        ],
        [
         "English",
         "english"
        ],
        [
         "English",
         "english"
        ],
        [
         "English",
         "english"
        ],
        [
         "English",
         "english"
        ],
        [
         "English",
         "english"
        ],
        [
         "English",
         "english"
        ],
        [
         "English",
         "english"
        ],
        [
         "English",
         "english"
        ],
        [
         "English",
         "english"
        ],
        [
         "English",
         "english"
        ],
        [
         "English",
         "english"
        ],
        [
         "English",
         "english"
        ],
        [
         "English",
         "english"
        ],
        [
         "English",
         "english"
        ],
        [
         "English",
         "english"
        ],
        [
         "English",
         "english"
        ],
        [
         "English",
         "english"
        ],
        [
         "English",
         "english"
        ],
        [
         "English",
         "english"
        ],
        [
         "English",
         "english"
        ],
        [
         "English",
         "english"
        ],
        [
         "English",
         "english"
        ],
        [
         "English",
         "english"
        ],
        [
         "English",
         "english"
        ],
        [
         "English",
         "english"
        ],
        [
         "English",
         "english"
        ],
        [
         "English",
         "english"
        ],
        [
         "English",
         "english"
        ],
        [
         "English",
         "english"
        ],
        [
         "English",
         "english"
        ],
        [
         "English",
         "english"
        ],
        [
         "English",
         "english"
        ],
        [
         "English",
         "english"
        ],
        [
         "English",
         "english"
        ],
        [
         "English",
         "english"
        ],
        [
         "English",
         "english"
        ],
        [
         "English",
         "english"
        ]
       ],
       "datasetInfos": [],
       "dbfsResultPath": null,
       "isJsonSchema": true,
       "metadata": {},
       "overflow": false,
       "plotOptions": {
        "customPlotOptions": {},
        "displayType": "table",
        "pivotAggregation": null,
        "pivotColumns": null,
        "xColumns": null,
        "yColumns": null
       },
       "removedWidgets": [],
       "schema": [
        {
         "metadata": "{}",
         "name": "language",
         "type": "\"string\""
        },
        {
         "metadata": "{}",
         "name": "regexp_replace(language, En*, en, 1)",
         "type": "\"string\""
        }
       ],
       "type": "table"
      }
     },
     "output_type": "display_data"
    }
   ],
   "source": [
    "# replace 'En' in language with 'en'\n",
    "display(netflix_data.select('language',regexp_replace('language', 'En*', 'en')))"
   ]
  },
  {
   "cell_type": "code",
   "execution_count": 0,
   "metadata": {
    "application/vnd.databricks.v1+cell": {
     "cellMetadata": {
      "byteLimit": 2048000,
      "rowLimit": 10000
     },
     "inputWidgets": {},
     "nuid": "317c14f7-1be5-4a63-846c-504da953dc3a",
     "showTitle": false,
     "title": ""
    }
   },
   "outputs": [],
   "source": [
    "from pyspark.sql.functions import translate"
   ]
  },
  {
   "cell_type": "code",
   "execution_count": 0,
   "metadata": {
    "application/vnd.databricks.v1+cell": {
     "cellMetadata": {
      "byteLimit": 2048000,
      "rowLimit": 10000
     },
     "inputWidgets": {},
     "nuid": "8f65f690-12df-45b0-ad68-8e201a706b23",
     "showTitle": false,
     "title": ""
    }
   },
   "outputs": [
    {
     "output_type": "display_data",
     "data": {
      "text/html": [
       "<style scoped>\n",
       "  .table-result-container {\n",
       "    max-height: 300px;\n",
       "    overflow: auto;\n",
       "  }\n",
       "  table, th, td {\n",
       "    border: 1px solid black;\n",
       "    border-collapse: collapse;\n",
       "  }\n",
       "  th, td {\n",
       "    padding: 5px;\n",
       "  }\n",
       "  th {\n",
       "    text-align: left;\n",
       "  }\n",
       "</style><div class='table-result-container'><table class='table-result'><thead style='background-color: white'><tr><th>title</th><th>translate(title, io, 10)</th></tr></thead><tbody><tr><td>Army of the Dead</td><td>Army 0f the Dead</td></tr><tr><td>The Woman in the Window</td><td>The W0man 1n the W1nd0w</td></tr><tr><td>The Mitchells vs the Machines</td><td>The M1tchells vs the Mach1nes</td></tr><tr><td>Blue Miracle</td><td>Blue M1racle</td></tr><tr><td>Things Heard & Seen</td><td>Th1ngs Heard & Seen</td></tr><tr><td>Stowaway</td><td>St0waway</td></tr><tr><td>Don't Look Up</td><td>D0n't L00k Up</td></tr><tr><td>I Am All Girls</td><td>I Am All G1rls</td></tr><tr><td>Hotel Transylvania: Transformania</td><td>H0tel Transylvan1a: Transf0rman1a</td></tr><tr><td>The Dig</td><td>The D1g</td></tr><tr><td>Thunder Force</td><td>Thunder F0rce</td></tr><tr><td>The Ice Road</td><td>The Ice R0ad</td></tr><tr><td>Gunpowder Milkshake</td><td>Gunp0wder M1lkshake</td></tr><tr><td>Fear Street</td><td>Fear Street</td></tr><tr><td>The Nailbomber</td><td>The Na1lb0mber</td></tr><tr><td>Awake</td><td>Awake</td></tr><tr><td>Moxie</td><td>M0x1e</td></tr><tr><td>Yes Day</td><td>Yes Day</td></tr><tr><td>America: The Motion Picture</td><td>Amer1ca: The M0t10n P1cture</td></tr><tr><td>Outside the Wire</td><td>Outs1de the W1re</td></tr><tr><td>Red Notice</td><td>Red N0t1ce</td></tr><tr><td>Bad Trip</td><td>Bad Tr1p</td></tr><tr><td>Malcolm & Marie</td><td>Malc0lm & Mar1e</td></tr><tr><td>Finding 'Ohana</td><td>F1nd1ng 'Ohana</td></tr><tr><td>Fatherhood</td><td>Fatherh00d</td></tr><tr><td>Deadly Illusions</td><td>Deadly Illus10ns</td></tr><tr><td>Sing 2</td><td>S1ng 2</td></tr><tr><td>A Week Away</td><td>A Week Away</td></tr><tr><td>Blonde</td><td>Bl0nde</td></tr><tr><td>He's All That</td><td>He's All That</td></tr><tr><td>Seaspiracy</td><td>Seasp1racy</td></tr><tr><td>Army of Thieves</td><td>Army 0f Th1eves</td></tr><tr><td>Wish Dragon</td><td>W1sh Drag0n</td></tr><tr><td>To All the Boys: Always and Forever</td><td>T0 All the B0ys: Always and F0rever</td></tr><tr><td>Good on Paper</td><td>G00d 0n Paper</td></tr><tr><td>Escape From Spiderhead</td><td>Escape Fr0m Sp1derhead</td></tr><tr><td>The Last Letter from Your Lover</td><td>The Last Letter fr0m Y0ur L0ver</td></tr><tr><td>The Kissing Booth 3</td><td>The K1ss1ng B00th 3</td></tr><tr><td>Sweet Girl</td><td>Sweet G1rl</td></tr><tr><td>Matilda</td><td>Mat1lda</td></tr><tr><td>Breaking Boundaries: The Science of Our Planet</td><td>Break1ng B0undar1es: The Sc1ence 0f Our Planet</td></tr><tr><td>tick, tick...Boom!</td><td>t1ck, t1ck...B00m!</td></tr><tr><td>Secret Magic Control Agency</td><td>Secret Mag1c C0ntr0l Agency</td></tr><tr><td>Vivo</td><td>V1v0</td></tr><tr><td>The Guilty</td><td>The Gu1lty</td></tr><tr><td>The Power of the Dog</td><td>The P0wer 0f the D0g</td></tr><tr><td>Skater Girl</td><td>Skater G1rl</td></tr><tr><td>Trippin' with the Kandasamys</td><td>Tr1pp1n' w1th the Kandasamys</td></tr><tr><td>Trollhunters: Rise of the Titans</td><td>Tr0llhunters: R1se 0f the T1tans</td></tr><tr><td>Fear Street 2</td><td>Fear Street 2</td></tr><tr><td>Kate</td><td>Kate</td></tr><tr><td>The Loud House</td><td>The L0ud H0use</td></tr><tr><td>Operation Varsity Blues: The College Admissions Scandal</td><td>Operat10n Vars1ty Blues: The C0llege Adm1ss10ns Scandal</td></tr><tr><td>Hating Peter Tatchell</td><td>Hat1ng Peter Tatchell</td></tr><tr><td>Fear Street 3</td><td>Fear Street 3</td></tr><tr><td>The Harder They Fall</td><td>The Harder They Fall</td></tr><tr><td>Passing</td><td>Pass1ng</td></tr><tr><td>Munich</td><td>Mun1ch</td></tr><tr><td>A Boy Called Christmas</td><td>A B0y Called Chr1stmas</td></tr><tr><td>A Jazzman's Blues</td><td>A Jazzman's Blues</td></tr><tr><td>Untitled Sandra Bullock/Nora Fingscheidt Project</td><td>Unt1tled Sandra Bull0ck/N0ra F1ngsche1dt Pr0ject</td></tr><tr><td>Night Teeth</td><td>N1ght Teeth</td></tr><tr><td>In Our Mothers' Gardens</td><td>In Our M0thers' Gardens</td></tr><tr><td>The Witcher: Nightmare of the Wolf</td><td>The W1tcher: N1ghtmare 0f the W0lf</td></tr><tr><td>Back to the Outback</td><td>Back t0 the Outback</td></tr><tr><td>There's Someone Inside Your House</td><td>There's S0me0ne Ins1de Y0ur H0use</td></tr><tr><td>Biggie: I Got a Story to Tell</td><td>B1gg1e: I G0t a St0ry t0 Tell</td></tr><tr><td>Metal Lords</td><td>Metal L0rds</td></tr><tr><td>Pelé</td><td>Pelé</td></tr><tr><td>The Minimalists: Less Is Now</td><td>The M1n1mal1sts: Less Is N0w</td></tr><tr><td>Beauty</td><td>Beauty</td></tr><tr><td>The Princess Switch 3</td><td>The Pr1ncess Sw1tch 3</td></tr><tr><td>Love Hard</td><td>L0ve Hard</td></tr><tr><td>Strip Down, Rise Up</td><td>Str1p D0wn, R1se Up</td></tr><tr><td>Rise of the Teenage Mutant Ninja Turtles</td><td>R1se 0f the Teenage Mutant N1nja Turtles</td></tr><tr><td>Nightbooks</td><td>N1ghtb00ks</td></tr><tr><td>Crack: Cocaine, Corruption & Conspiracy</td><td>Crack: C0ca1ne, C0rrupt10n & C0nsp1racy</td></tr><tr><td>Against the Ice</td><td>Aga1nst the Ice</td></tr><tr><td>Resort to Love</td><td>Res0rt t0 L0ve</td></tr><tr><td>A Castle for Christmas</td><td>A Castle f0r Chr1stmas</td></tr><tr><td>Pray Away</td><td>Pray Away</td></tr><tr><td>Single All the Way</td><td>S1ngle All the Way</td></tr><tr><td>Sisters on Track</td><td>S1sters 0n Track</td></tr><tr><td>Intrusion</td><td>Intrus10n</td></tr><tr><td>Accomplice</td><td>Acc0mpl1ce</td></tr><tr><td>Hypnotic</td><td>Hypn0t1c</td></tr><tr><td>Diana</td><td>D1ana</td></tr><tr><td>Headspace: Unwind Your Mind</td><td>Headspace: Unw1nd Y0ur M1nd</td></tr><tr><td>Bob Ross: Happy Accidents, Betrayal & Greed</td><td>B0b R0ss: Happy Acc1dents, Betrayal & Greed</td></tr><tr><td>Kane Chonicles</td><td>Kane Ch0n1cles</td></tr><tr><td>Untitled Netflix Family Comedy 2021</td><td>Unt1tled Netfl1x Fam1ly C0medy 2021</td></tr><tr><td>Untitled Boeing 737 Max/Rory Kennedy Project</td><td>Unt1tled B0e1ng 737 Max/R0ry Kennedy Pr0ject</td></tr><tr><td>Happiness Ever After</td><td>Happ1ness Ever After</td></tr><tr><td>Love and Monsters</td><td>L0ve and M0nsters</td></tr><tr><td>I Care a Lot</td><td>I Care a L0t</td></tr><tr><td>Eurovision Song Contest: The Story of Fire Saga</td><td>Eur0v1s10n S0ng C0ntest: The St0ry 0f F1re Saga</td></tr><tr><td>The Devil All the Time</td><td>The Dev1l All the T1me</td></tr><tr><td>Honest Thief</td><td>H0nest Th1ef</td></tr><tr><td>Run</td><td>Run</td></tr><tr><td>News of the World</td><td>News 0f the W0rld</td></tr><tr><td>Enola Holmes</td><td>En0la H0lmes</td></tr><tr><td>The Trial of the Chicago 7</td><td>The Tr1al 0f the Ch1cag0 7</td></tr><tr><td>The Water Man</td><td>The Water Man</td></tr><tr><td>Breach</td><td>Breach</td></tr><tr><td>The Old Guard</td><td>The Old Guard</td></tr><tr><td>Extraction</td><td>Extract10n</td></tr><tr><td>Spenser Confidential</td><td>Spenser C0nf1dent1al</td></tr><tr><td>Mank</td><td>Mank</td></tr><tr><td>Hillbilly Elegy</td><td>H1llb1lly Elegy</td></tr><tr><td>Rebecca</td><td>Rebecca</td></tr><tr><td>I'm Thinking of Ending Things</td><td>I'm Th1nk1ng 0f End1ng Th1ngs</td></tr><tr><td>Pieces of a Woman</td><td>P1eces 0f a W0man</td></tr><tr><td>My Octopus Teacher</td><td>My Oct0pus Teacher</td></tr><tr><td>Fantasy Island</td><td>Fantasy Island</td></tr><tr><td>The Wrong Missy</td><td>The Wr0ng M1ssy</td></tr><tr><td>The Midnight Sky</td><td>The M1dn1ght Sky</td></tr><tr><td>We Can Be Heroes</td><td>We Can Be Her0es</td></tr><tr><td>Project Power</td><td>Pr0ject P0wer</td></tr><tr><td>The Babysitter: Killer Queen</td><td>The Babys1tter: K1ller Queen</td></tr><tr><td>His House</td><td>H1s H0use</td></tr><tr><td>Ma Rainey's Black Bottom</td><td>Ma Ra1ney's Black B0tt0m</td></tr><tr><td>Hubie Halloween</td><td>Hub1e Hall0ween</td></tr><tr><td>Concrete Cowboy</td><td>C0ncrete C0wb0y</td></tr><tr><td>All the Bright Places</td><td>All the Br1ght Places</td></tr><tr><td>Holidate</td><td>H0l1date</td></tr><tr><td>2067</td><td>2067</td></tr><tr><td>Force of Nature</td><td>F0rce 0f Nature</td></tr><tr><td>Da 5 Bloods</td><td>Da 5 Bl00ds</td></tr><tr><td>The SpongeBob Movie: Sponge on the Run</td><td>The Sp0ngeB0b M0v1e: Sp0nge 0n the Run</td></tr><tr><td>Jungle Beat: The Movie</td><td>Jungle Beat: The M0v1e</td></tr><tr><td>Penguin Bloom</td><td>Pengu1n Bl00m</td></tr><tr><td>Over the Moon</td><td>Over the M00n</td></tr><tr><td>Love Wedding Repeat</td><td>L0ve Wedd1ng Repeat</td></tr><tr><td>The Prom</td><td>The Pr0m</td></tr><tr><td>The Kissing Booth 2</td><td>The K1ss1ng B00th 2</td></tr><tr><td>Lost Girls</td><td>L0st G1rls</td></tr><tr><td>The Stand In</td><td>The Stand In</td></tr><tr><td>The Last Thing He Wanted</td><td>The Last Th1ng He Wanted</td></tr><tr><td>The Social Dilemma</td><td>The S0c1al D1lemma</td></tr><tr><td>Horse Girl</td><td>H0rse G1rl</td></tr><tr><td>The Sleepover</td><td>The Sleep0ver</td></tr><tr><td>The Boys in the Band</td><td>The B0ys 1n the Band</td></tr><tr><td>The Last Days of American Crime</td><td>The Last Days 0f Amer1can Cr1me</td></tr><tr><td>Love, Guaranteed</td><td>L0ve, Guaranteed</td></tr><tr><td>The Willoughbys</td><td>The W1ll0ughbys</td></tr><tr><td>Feel the Beat</td><td>Feel the Beat</td></tr><tr><td>American Murder: The Family Next Door</td><td>Amer1can Murder: The Fam1ly Next D00r</td></tr><tr><td>Work It</td><td>W0rk It</td></tr><tr><td>The Lovebirds</td><td>The L0veb1rds</td></tr><tr><td>Sightless</td><td>S1ghtless</td></tr><tr><td>Dangerous Lies</td><td>Danger0us L1es</td></tr><tr><td>The F**k-It List</td><td>The F**k-It L1st</td></tr><tr><td>A Fall from Grace</td><td>A Fall fr0m Grace</td></tr><tr><td>Vampires vs. the Bronx</td><td>Vamp1res vs. the Br0nx</td></tr><tr><td>Think Like a Dog</td><td>Th1nk L1ke a D0g</td></tr><tr><td>To All the Boys: P.S. I Still Love You</td><td>T0 All the B0ys: P.S. I St1ll L0ve Y0u</td></tr><tr><td>Desperados</td><td>Desperad0s</td></tr><tr><td>A Babysitter's Guide to Monster Hunting</td><td>A Babys1tter's Gu1de t0 M0nster Hunt1ng</td></tr><tr><td>Sergio</td><td>Serg10</td></tr><tr><td>Roped</td><td>R0ped</td></tr><tr><td>David Attenborough: A Life on Our Planet</td><td>Dav1d Attenb0r0ugh: A L1fe 0n Our Planet</td></tr><tr><td>The Debt Collector 2</td><td>The Debt C0llect0r 2</td></tr><tr><td>A California Christmas</td><td>A Cal1f0rn1a Chr1stmas</td></tr><tr><td>All Together Now</td><td>All T0gether N0w</td></tr><tr><td>The Christmas Chronicles: Part Two</td><td>The Chr1stmas Chr0n1cles: Part Tw0</td></tr><tr><td>The Princess Switch: Switched Again</td><td>The Pr1ncess Sw1tch: Sw1tched Aga1n</td></tr><tr><td>Crip Camp</td><td>Cr1p Camp</td></tr><tr><td>Lady Driver</td><td>Lady Dr1ver</td></tr><tr><td>Coffee & Kareem</td><td>C0ffee & Kareem</td></tr><tr><td>Fatal Affair</td><td>Fatal Affa1r</td></tr><tr><td>Wheels of Fortune</td><td>Wheels 0f F0rtune</td></tr><tr><td>Kiss the Ground</td><td>K1ss the Gr0und</td></tr><tr><td>The Forty-Year-Old Version</td><td>The F0rty-Year-Old Vers10n</td></tr><tr><td>The Main Event</td><td>The Ma1n Event</td></tr><tr><td>Made You Look: A True Story About Fake Art</td><td>Made Y0u L00k: A True St0ry Ab0ut Fake Art</td></tr><tr><td>The Fisherman's Diary</td><td>The F1sherman's D1ary</td></tr><tr><td>Serious Men</td><td>Ser10us Men</td></tr><tr><td>Uncorked</td><td>Unc0rked</td></tr><tr><td>Midnight at the Magnolia</td><td>M1dn1ght at the Magn0l1a</td></tr><tr><td>All Day and a Night</td><td>All Day and a N1ght</td></tr><tr><td>Operation Christmas Drop</td><td>Operat10n Chr1stmas Dr0p</td></tr><tr><td>Jingle Jangle: A Christmas Journey</td><td>J1ngle Jangle: A Chr1stmas J0urney</td></tr><tr><td>Bruised</td><td>Bru1sed</td></tr><tr><td>What Is Life Worth</td><td>What Is L1fe W0rth</td></tr><tr><td>Have a Good Trip: Adventures in Psychedelics</td><td>Have a G00d Tr1p: Adventures 1n Psychedel1cs</td></tr><tr><td>I Am Vengeance: Retaliation</td><td>I Am Vengeance: Retal1at10n</td></tr><tr><td>Miss Americana</td><td>M1ss Amer1cana</td></tr><tr><td>Dick Johnson Is Dead</td><td>D1ck J0hns0n Is Dead</td></tr><tr><td>You Are My Home</td><td>Y0u Are My H0me</td></tr><tr><td>Tigertail</td><td>T1gerta1l</td></tr><tr><td>Go!</td><td>G0!</td></tr><tr><td>Athlete A</td><td>Athlete A</td></tr><tr><td>Secrets of the Saqqara Tomb</td><td>Secrets 0f the Saqqara T0mb</td></tr><tr><td>Ricos de Amor</td><td>R1c0s de Am0r</td></tr><tr><td>A Secret Love</td><td>A Secret L0ve</td></tr><tr><td>Ariana Grande: Excuse Me, I Love You</td><td>Ar1ana Grande: Excuse Me, I L0ve Y0u</td></tr><tr><td>Malibu Rescue: The Next Wave</td><td>Mal1bu Rescue: The Next Wave</td></tr><tr><td>Namaste Wahala</td><td>Namaste Wahala</td></tr><tr><td>Citation</td><td>C1tat10n</td></tr><tr><td>Farewell Amor</td><td>Farewell Am0r</td></tr><tr><td>Funny Boy</td><td>Funny B0y</td></tr><tr><td>A New York Christmas Wedding</td><td>A New Y0rk Chr1stmas Wedd1ng</td></tr><tr><td>Christmas on the Square</td><td>Chr1stmas 0n the Square</td></tr><tr><td>Seriously Single</td><td>Ser10usly S1ngle</td></tr><tr><td>Rising Phoenix</td><td>R1s1ng Ph0en1x</td></tr><tr><td>Riding Faith</td><td>R1d1ng Fa1th</td></tr><tr><td>Murder to Mercy: The Cyntoia Brown Story</td><td>Murder t0 Mercy: The Cynt01a Br0wn St0ry</td></tr><tr><td>Becoming</td><td>Bec0m1ng</td></tr><tr><td>Not a Game</td><td>N0t a Game</td></tr><tr><td>Barbie Princess Adventure</td><td>Barb1e Pr1ncess Adventure</td></tr><tr><td>Angela's Christmas Wish</td><td>Angela's Chr1stmas W1sh</td></tr><tr><td>Father Soldier Son</td><td>Father S0ld1er S0n</td></tr><tr><td>Uppity: The Willy T. Ribbs Story</td><td>Upp1ty: The W1lly T. R1bbs St0ry</td></tr><tr><td>Maska</td><td>Maska</td></tr><tr><td>Octonauts & the Great Barrier Reef</td><td>Oct0nauts & the Great Barr1er Reef</td></tr><tr><td>Shawn Mendes: In Wonder</td><td>Shawn Mendes: In W0nder</td></tr><tr><td>LA Originals</td><td>LA Or1g1nals</td></tr><tr><td>Mucho Mucho Amor: The Legend of Walter Mercado</td><td>Much0 Much0 Am0r: The Legend 0f Walter Mercad0</td></tr><tr><td>Octonauts and the Caves of Sac Actun</td><td>Oct0nauts and the Caves 0f Sac Actun</td></tr><tr><td>The Larva Island Movie</td><td>The Larva Island M0v1e</td></tr><tr><td>André & His Olive Tree</td><td>André & H1s Ol1ve Tree</td></tr><tr><td>Dance Dreams: Hot Chocolate Nutcracker</td><td>Dance Dreams: H0t Ch0c0late Nutcracker</td></tr><tr><td>#cats_the_mewvie</td><td>#cats_the_mewv1e</td></tr><tr><td>Giving Voice</td><td>G1v1ng V01ce</td></tr><tr><td>The App That Stole Christmas</td><td>The App That St0le Chr1stmas</td></tr><tr><td>Shawn Mendes: Live in Concert</td><td>Shawn Mendes: L1ve 1n C0ncert</td></tr><tr><td>Thomas & Friends: Marvelous Machinery</td><td>Th0mas & Fr1ends: Marvel0us Mach1nery</td></tr><tr><td>The Magic School Bus Rides Again: Kids in Space</td><td>The Mag1c Sch00l Bus R1des Aga1n: K1ds 1n Space</td></tr><tr><td>Night on Earth: Shot in the Dark</td><td>N1ght 0n Earth: Sh0t 1n the Dark</td></tr><tr><td>United Nation Three Decades of Drum & Bass</td><td>Un1ted Nat10n Three Decades 0f Drum & Bass</td></tr><tr><td>Light in the Dark</td><td>L1ght 1n the Dark</td></tr><tr><td>Pemburu di Manchester Biru</td><td>Pemburu d1 Manchester B1ru</td></tr><tr><td>Bigflo & Oli: Hip Hop Frenzy</td><td>B1gfl0 & Ol1: H1p H0p Frenzy</td></tr><tr><td>Horrid Henry's Gross Day Out</td><td>H0rr1d Henry's Gr0ss Day Out</td></tr><tr><td>Last days on Earth</td><td>Last days 0n Earth</td></tr></tbody></table></div>"
      ]
     },
     "metadata": {
      "application/vnd.databricks.v1+output": {
       "addedWidgets": {},
       "aggData": [],
       "aggError": "",
       "aggOverflow": false,
       "aggSchema": [],
       "aggSeriesLimitReached": false,
       "aggType": "",
       "arguments": {},
       "columnCustomDisplayInfos": {},
       "data": [
        [
         "Army of the Dead",
         "Army 0f the Dead"
        ],
        [
         "The Woman in the Window",
         "The W0man 1n the W1nd0w"
        ],
        [
         "The Mitchells vs the Machines",
         "The M1tchells vs the Mach1nes"
        ],
        [
         "Blue Miracle",
         "Blue M1racle"
        ],
        [
         "Things Heard & Seen",
         "Th1ngs Heard & Seen"
        ],
        [
         "Stowaway",
         "St0waway"
        ],
        [
         "Don't Look Up",
         "D0n't L00k Up"
        ],
        [
         "I Am All Girls",
         "I Am All G1rls"
        ],
        [
         "Hotel Transylvania: Transformania",
         "H0tel Transylvan1a: Transf0rman1a"
        ],
        [
         "The Dig",
         "The D1g"
        ],
        [
         "Thunder Force",
         "Thunder F0rce"
        ],
        [
         "The Ice Road",
         "The Ice R0ad"
        ],
        [
         "Gunpowder Milkshake",
         "Gunp0wder M1lkshake"
        ],
        [
         "Fear Street",
         "Fear Street"
        ],
        [
         "The Nailbomber",
         "The Na1lb0mber"
        ],
        [
         "Awake",
         "Awake"
        ],
        [
         "Moxie",
         "M0x1e"
        ],
        [
         "Yes Day",
         "Yes Day"
        ],
        [
         "America: The Motion Picture",
         "Amer1ca: The M0t10n P1cture"
        ],
        [
         "Outside the Wire",
         "Outs1de the W1re"
        ],
        [
         "Red Notice",
         "Red N0t1ce"
        ],
        [
         "Bad Trip",
         "Bad Tr1p"
        ],
        [
         "Malcolm & Marie",
         "Malc0lm & Mar1e"
        ],
        [
         "Finding 'Ohana",
         "F1nd1ng 'Ohana"
        ],
        [
         "Fatherhood",
         "Fatherh00d"
        ],
        [
         "Deadly Illusions",
         "Deadly Illus10ns"
        ],
        [
         "Sing 2",
         "S1ng 2"
        ],
        [
         "A Week Away",
         "A Week Away"
        ],
        [
         "Blonde",
         "Bl0nde"
        ],
        [
         "He's All That",
         "He's All That"
        ],
        [
         "Seaspiracy",
         "Seasp1racy"
        ],
        [
         "Army of Thieves",
         "Army 0f Th1eves"
        ],
        [
         "Wish Dragon",
         "W1sh Drag0n"
        ],
        [
         "To All the Boys: Always and Forever",
         "T0 All the B0ys: Always and F0rever"
        ],
        [
         "Good on Paper",
         "G00d 0n Paper"
        ],
        [
         "Escape From Spiderhead",
         "Escape Fr0m Sp1derhead"
        ],
        [
         "The Last Letter from Your Lover",
         "The Last Letter fr0m Y0ur L0ver"
        ],
        [
         "The Kissing Booth 3",
         "The K1ss1ng B00th 3"
        ],
        [
         "Sweet Girl",
         "Sweet G1rl"
        ],
        [
         "Matilda",
         "Mat1lda"
        ],
        [
         "Breaking Boundaries: The Science of Our Planet",
         "Break1ng B0undar1es: The Sc1ence 0f Our Planet"
        ],
        [
         "tick, tick...Boom!",
         "t1ck, t1ck...B00m!"
        ],
        [
         "Secret Magic Control Agency",
         "Secret Mag1c C0ntr0l Agency"
        ],
        [
         "Vivo",
         "V1v0"
        ],
        [
         "The Guilty",
         "The Gu1lty"
        ],
        [
         "The Power of the Dog",
         "The P0wer 0f the D0g"
        ],
        [
         "Skater Girl",
         "Skater G1rl"
        ],
        [
         "Trippin' with the Kandasamys",
         "Tr1pp1n' w1th the Kandasamys"
        ],
        [
         "Trollhunters: Rise of the Titans",
         "Tr0llhunters: R1se 0f the T1tans"
        ],
        [
         "Fear Street 2",
         "Fear Street 2"
        ],
        [
         "Kate",
         "Kate"
        ],
        [
         "The Loud House",
         "The L0ud H0use"
        ],
        [
         "Operation Varsity Blues: The College Admissions Scandal",
         "Operat10n Vars1ty Blues: The C0llege Adm1ss10ns Scandal"
        ],
        [
         "Hating Peter Tatchell",
         "Hat1ng Peter Tatchell"
        ],
        [
         "Fear Street 3",
         "Fear Street 3"
        ],
        [
         "The Harder They Fall",
         "The Harder They Fall"
        ],
        [
         "Passing",
         "Pass1ng"
        ],
        [
         "Munich",
         "Mun1ch"
        ],
        [
         "A Boy Called Christmas",
         "A B0y Called Chr1stmas"
        ],
        [
         "A Jazzman's Blues",
         "A Jazzman's Blues"
        ],
        [
         "Untitled Sandra Bullock/Nora Fingscheidt Project",
         "Unt1tled Sandra Bull0ck/N0ra F1ngsche1dt Pr0ject"
        ],
        [
         "Night Teeth",
         "N1ght Teeth"
        ],
        [
         "In Our Mothers' Gardens",
         "In Our M0thers' Gardens"
        ],
        [
         "The Witcher: Nightmare of the Wolf",
         "The W1tcher: N1ghtmare 0f the W0lf"
        ],
        [
         "Back to the Outback",
         "Back t0 the Outback"
        ],
        [
         "There's Someone Inside Your House",
         "There's S0me0ne Ins1de Y0ur H0use"
        ],
        [
         "Biggie: I Got a Story to Tell",
         "B1gg1e: I G0t a St0ry t0 Tell"
        ],
        [
         "Metal Lords",
         "Metal L0rds"
        ],
        [
         "Pelé",
         "Pelé"
        ],
        [
         "The Minimalists: Less Is Now",
         "The M1n1mal1sts: Less Is N0w"
        ],
        [
         "Beauty",
         "Beauty"
        ],
        [
         "The Princess Switch 3",
         "The Pr1ncess Sw1tch 3"
        ],
        [
         "Love Hard",
         "L0ve Hard"
        ],
        [
         "Strip Down, Rise Up",
         "Str1p D0wn, R1se Up"
        ],
        [
         "Rise of the Teenage Mutant Ninja Turtles",
         "R1se 0f the Teenage Mutant N1nja Turtles"
        ],
        [
         "Nightbooks",
         "N1ghtb00ks"
        ],
        [
         "Crack: Cocaine, Corruption & Conspiracy",
         "Crack: C0ca1ne, C0rrupt10n & C0nsp1racy"
        ],
        [
         "Against the Ice",
         "Aga1nst the Ice"
        ],
        [
         "Resort to Love",
         "Res0rt t0 L0ve"
        ],
        [
         "A Castle for Christmas",
         "A Castle f0r Chr1stmas"
        ],
        [
         "Pray Away",
         "Pray Away"
        ],
        [
         "Single All the Way",
         "S1ngle All the Way"
        ],
        [
         "Sisters on Track",
         "S1sters 0n Track"
        ],
        [
         "Intrusion",
         "Intrus10n"
        ],
        [
         "Accomplice",
         "Acc0mpl1ce"
        ],
        [
         "Hypnotic",
         "Hypn0t1c"
        ],
        [
         "Diana",
         "D1ana"
        ],
        [
         "Headspace: Unwind Your Mind",
         "Headspace: Unw1nd Y0ur M1nd"
        ],
        [
         "Bob Ross: Happy Accidents, Betrayal & Greed",
         "B0b R0ss: Happy Acc1dents, Betrayal & Greed"
        ],
        [
         "Kane Chonicles",
         "Kane Ch0n1cles"
        ],
        [
         "Untitled Netflix Family Comedy 2021",
         "Unt1tled Netfl1x Fam1ly C0medy 2021"
        ],
        [
         "Untitled Boeing 737 Max/Rory Kennedy Project",
         "Unt1tled B0e1ng 737 Max/R0ry Kennedy Pr0ject"
        ],
        [
         "Happiness Ever After",
         "Happ1ness Ever After"
        ],
        [
         "Love and Monsters",
         "L0ve and M0nsters"
        ],
        [
         "I Care a Lot",
         "I Care a L0t"
        ],
        [
         "Eurovision Song Contest: The Story of Fire Saga",
         "Eur0v1s10n S0ng C0ntest: The St0ry 0f F1re Saga"
        ],
        [
         "The Devil All the Time",
         "The Dev1l All the T1me"
        ],
        [
         "Honest Thief",
         "H0nest Th1ef"
        ],
        [
         "Run",
         "Run"
        ],
        [
         "News of the World",
         "News 0f the W0rld"
        ],
        [
         "Enola Holmes",
         "En0la H0lmes"
        ],
        [
         "The Trial of the Chicago 7",
         "The Tr1al 0f the Ch1cag0 7"
        ],
        [
         "The Water Man",
         "The Water Man"
        ],
        [
         "Breach",
         "Breach"
        ],
        [
         "The Old Guard",
         "The Old Guard"
        ],
        [
         "Extraction",
         "Extract10n"
        ],
        [
         "Spenser Confidential",
         "Spenser C0nf1dent1al"
        ],
        [
         "Mank",
         "Mank"
        ],
        [
         "Hillbilly Elegy",
         "H1llb1lly Elegy"
        ],
        [
         "Rebecca",
         "Rebecca"
        ],
        [
         "I'm Thinking of Ending Things",
         "I'm Th1nk1ng 0f End1ng Th1ngs"
        ],
        [
         "Pieces of a Woman",
         "P1eces 0f a W0man"
        ],
        [
         "My Octopus Teacher",
         "My Oct0pus Teacher"
        ],
        [
         "Fantasy Island",
         "Fantasy Island"
        ],
        [
         "The Wrong Missy",
         "The Wr0ng M1ssy"
        ],
        [
         "The Midnight Sky",
         "The M1dn1ght Sky"
        ],
        [
         "We Can Be Heroes",
         "We Can Be Her0es"
        ],
        [
         "Project Power",
         "Pr0ject P0wer"
        ],
        [
         "The Babysitter: Killer Queen",
         "The Babys1tter: K1ller Queen"
        ],
        [
         "His House",
         "H1s H0use"
        ],
        [
         "Ma Rainey's Black Bottom",
         "Ma Ra1ney's Black B0tt0m"
        ],
        [
         "Hubie Halloween",
         "Hub1e Hall0ween"
        ],
        [
         "Concrete Cowboy",
         "C0ncrete C0wb0y"
        ],
        [
         "All the Bright Places",
         "All the Br1ght Places"
        ],
        [
         "Holidate",
         "H0l1date"
        ],
        [
         "2067",
         "2067"
        ],
        [
         "Force of Nature",
         "F0rce 0f Nature"
        ],
        [
         "Da 5 Bloods",
         "Da 5 Bl00ds"
        ],
        [
         "The SpongeBob Movie: Sponge on the Run",
         "The Sp0ngeB0b M0v1e: Sp0nge 0n the Run"
        ],
        [
         "Jungle Beat: The Movie",
         "Jungle Beat: The M0v1e"
        ],
        [
         "Penguin Bloom",
         "Pengu1n Bl00m"
        ],
        [
         "Over the Moon",
         "Over the M00n"
        ],
        [
         "Love Wedding Repeat",
         "L0ve Wedd1ng Repeat"
        ],
        [
         "The Prom",
         "The Pr0m"
        ],
        [
         "The Kissing Booth 2",
         "The K1ss1ng B00th 2"
        ],
        [
         "Lost Girls",
         "L0st G1rls"
        ],
        [
         "The Stand In",
         "The Stand In"
        ],
        [
         "The Last Thing He Wanted",
         "The Last Th1ng He Wanted"
        ],
        [
         "The Social Dilemma",
         "The S0c1al D1lemma"
        ],
        [
         "Horse Girl",
         "H0rse G1rl"
        ],
        [
         "The Sleepover",
         "The Sleep0ver"
        ],
        [
         "The Boys in the Band",
         "The B0ys 1n the Band"
        ],
        [
         "The Last Days of American Crime",
         "The Last Days 0f Amer1can Cr1me"
        ],
        [
         "Love, Guaranteed",
         "L0ve, Guaranteed"
        ],
        [
         "The Willoughbys",
         "The W1ll0ughbys"
        ],
        [
         "Feel the Beat",
         "Feel the Beat"
        ],
        [
         "American Murder: The Family Next Door",
         "Amer1can Murder: The Fam1ly Next D00r"
        ],
        [
         "Work It",
         "W0rk It"
        ],
        [
         "The Lovebirds",
         "The L0veb1rds"
        ],
        [
         "Sightless",
         "S1ghtless"
        ],
        [
         "Dangerous Lies",
         "Danger0us L1es"
        ],
        [
         "The F**k-It List",
         "The F**k-It L1st"
        ],
        [
         "A Fall from Grace",
         "A Fall fr0m Grace"
        ],
        [
         "Vampires vs. the Bronx",
         "Vamp1res vs. the Br0nx"
        ],
        [
         "Think Like a Dog",
         "Th1nk L1ke a D0g"
        ],
        [
         "To All the Boys: P.S. I Still Love You",
         "T0 All the B0ys: P.S. I St1ll L0ve Y0u"
        ],
        [
         "Desperados",
         "Desperad0s"
        ],
        [
         "A Babysitter's Guide to Monster Hunting",
         "A Babys1tter's Gu1de t0 M0nster Hunt1ng"
        ],
        [
         "Sergio",
         "Serg10"
        ],
        [
         "Roped",
         "R0ped"
        ],
        [
         "David Attenborough: A Life on Our Planet",
         "Dav1d Attenb0r0ugh: A L1fe 0n Our Planet"
        ],
        [
         "The Debt Collector 2",
         "The Debt C0llect0r 2"
        ],
        [
         "A California Christmas",
         "A Cal1f0rn1a Chr1stmas"
        ],
        [
         "All Together Now",
         "All T0gether N0w"
        ],
        [
         "The Christmas Chronicles: Part Two",
         "The Chr1stmas Chr0n1cles: Part Tw0"
        ],
        [
         "The Princess Switch: Switched Again",
         "The Pr1ncess Sw1tch: Sw1tched Aga1n"
        ],
        [
         "Crip Camp",
         "Cr1p Camp"
        ],
        [
         "Lady Driver",
         "Lady Dr1ver"
        ],
        [
         "Coffee & Kareem",
         "C0ffee & Kareem"
        ],
        [
         "Fatal Affair",
         "Fatal Affa1r"
        ],
        [
         "Wheels of Fortune",
         "Wheels 0f F0rtune"
        ],
        [
         "Kiss the Ground",
         "K1ss the Gr0und"
        ],
        [
         "The Forty-Year-Old Version",
         "The F0rty-Year-Old Vers10n"
        ],
        [
         "The Main Event",
         "The Ma1n Event"
        ],
        [
         "Made You Look: A True Story About Fake Art",
         "Made Y0u L00k: A True St0ry Ab0ut Fake Art"
        ],
        [
         "The Fisherman's Diary",
         "The F1sherman's D1ary"
        ],
        [
         "Serious Men",
         "Ser10us Men"
        ],
        [
         "Uncorked",
         "Unc0rked"
        ],
        [
         "Midnight at the Magnolia",
         "M1dn1ght at the Magn0l1a"
        ],
        [
         "All Day and a Night",
         "All Day and a N1ght"
        ],
        [
         "Operation Christmas Drop",
         "Operat10n Chr1stmas Dr0p"
        ],
        [
         "Jingle Jangle: A Christmas Journey",
         "J1ngle Jangle: A Chr1stmas J0urney"
        ],
        [
         "Bruised",
         "Bru1sed"
        ],
        [
         "What Is Life Worth",
         "What Is L1fe W0rth"
        ],
        [
         "Have a Good Trip: Adventures in Psychedelics",
         "Have a G00d Tr1p: Adventures 1n Psychedel1cs"
        ],
        [
         "I Am Vengeance: Retaliation",
         "I Am Vengeance: Retal1at10n"
        ],
        [
         "Miss Americana",
         "M1ss Amer1cana"
        ],
        [
         "Dick Johnson Is Dead",
         "D1ck J0hns0n Is Dead"
        ],
        [
         "You Are My Home",
         "Y0u Are My H0me"
        ],
        [
         "Tigertail",
         "T1gerta1l"
        ],
        [
         "Go!",
         "G0!"
        ],
        [
         "Athlete A",
         "Athlete A"
        ],
        [
         "Secrets of the Saqqara Tomb",
         "Secrets 0f the Saqqara T0mb"
        ],
        [
         "Ricos de Amor",
         "R1c0s de Am0r"
        ],
        [
         "A Secret Love",
         "A Secret L0ve"
        ],
        [
         "Ariana Grande: Excuse Me, I Love You",
         "Ar1ana Grande: Excuse Me, I L0ve Y0u"
        ],
        [
         "Malibu Rescue: The Next Wave",
         "Mal1bu Rescue: The Next Wave"
        ],
        [
         "Namaste Wahala",
         "Namaste Wahala"
        ],
        [
         "Citation",
         "C1tat10n"
        ],
        [
         "Farewell Amor",
         "Farewell Am0r"
        ],
        [
         "Funny Boy",
         "Funny B0y"
        ],
        [
         "A New York Christmas Wedding",
         "A New Y0rk Chr1stmas Wedd1ng"
        ],
        [
         "Christmas on the Square",
         "Chr1stmas 0n the Square"
        ],
        [
         "Seriously Single",
         "Ser10usly S1ngle"
        ],
        [
         "Rising Phoenix",
         "R1s1ng Ph0en1x"
        ],
        [
         "Riding Faith",
         "R1d1ng Fa1th"
        ],
        [
         "Murder to Mercy: The Cyntoia Brown Story",
         "Murder t0 Mercy: The Cynt01a Br0wn St0ry"
        ],
        [
         "Becoming",
         "Bec0m1ng"
        ],
        [
         "Not a Game",
         "N0t a Game"
        ],
        [
         "Barbie Princess Adventure",
         "Barb1e Pr1ncess Adventure"
        ],
        [
         "Angela's Christmas Wish",
         "Angela's Chr1stmas W1sh"
        ],
        [
         "Father Soldier Son",
         "Father S0ld1er S0n"
        ],
        [
         "Uppity: The Willy T. Ribbs Story",
         "Upp1ty: The W1lly T. R1bbs St0ry"
        ],
        [
         "Maska",
         "Maska"
        ],
        [
         "Octonauts & the Great Barrier Reef",
         "Oct0nauts & the Great Barr1er Reef"
        ],
        [
         "Shawn Mendes: In Wonder",
         "Shawn Mendes: In W0nder"
        ],
        [
         "LA Originals",
         "LA Or1g1nals"
        ],
        [
         "Mucho Mucho Amor: The Legend of Walter Mercado",
         "Much0 Much0 Am0r: The Legend 0f Walter Mercad0"
        ],
        [
         "Octonauts and the Caves of Sac Actun",
         "Oct0nauts and the Caves 0f Sac Actun"
        ],
        [
         "The Larva Island Movie",
         "The Larva Island M0v1e"
        ],
        [
         "André & His Olive Tree",
         "André & H1s Ol1ve Tree"
        ],
        [
         "Dance Dreams: Hot Chocolate Nutcracker",
         "Dance Dreams: H0t Ch0c0late Nutcracker"
        ],
        [
         "#cats_the_mewvie",
         "#cats_the_mewv1e"
        ],
        [
         "Giving Voice",
         "G1v1ng V01ce"
        ],
        [
         "The App That Stole Christmas",
         "The App That St0le Chr1stmas"
        ],
        [
         "Shawn Mendes: Live in Concert",
         "Shawn Mendes: L1ve 1n C0ncert"
        ],
        [
         "Thomas & Friends: Marvelous Machinery",
         "Th0mas & Fr1ends: Marvel0us Mach1nery"
        ],
        [
         "The Magic School Bus Rides Again: Kids in Space",
         "The Mag1c Sch00l Bus R1des Aga1n: K1ds 1n Space"
        ],
        [
         "Night on Earth: Shot in the Dark",
         "N1ght 0n Earth: Sh0t 1n the Dark"
        ],
        [
         "United Nation Three Decades of Drum & Bass",
         "Un1ted Nat10n Three Decades 0f Drum & Bass"
        ],
        [
         "Light in the Dark",
         "L1ght 1n the Dark"
        ],
        [
         "Pemburu di Manchester Biru",
         "Pemburu d1 Manchester B1ru"
        ],
        [
         "Bigflo & Oli: Hip Hop Frenzy",
         "B1gfl0 & Ol1: H1p H0p Frenzy"
        ],
        [
         "Horrid Henry's Gross Day Out",
         "H0rr1d Henry's Gr0ss Day Out"
        ],
        [
         "Last days on Earth",
         "Last days 0n Earth"
        ]
       ],
       "datasetInfos": [],
       "dbfsResultPath": null,
       "isJsonSchema": true,
       "metadata": {},
       "overflow": false,
       "plotOptions": {
        "customPlotOptions": {},
        "displayType": "table",
        "pivotAggregation": null,
        "pivotColumns": null,
        "xColumns": null,
        "yColumns": null
       },
       "removedWidgets": [],
       "schema": [
        {
         "metadata": "{}",
         "name": "title",
         "type": "\"string\""
        },
        {
         "metadata": "{}",
         "name": "translate(title, io, 10)",
         "type": "\"string\""
        }
       ],
       "type": "table"
      }
     },
     "output_type": "display_data"
    }
   ],
   "source": [
    "display(netflix_data.select('title', translate('title', 'io', '10')))"
   ]
  },
  {
   "cell_type": "code",
   "execution_count": 0,
   "metadata": {
    "application/vnd.databricks.v1+cell": {
     "cellMetadata": {
      "byteLimit": 2048000,
      "rowLimit": 10000
     },
     "inputWidgets": {},
     "nuid": "152e7191-4d0b-4af1-aeb9-d3c8b974dff9",
     "showTitle": false,
     "title": ""
    }
   },
   "outputs": [],
   "source": [
    "#create temp view/table accessable only by current notebook\n",
    "netflix_data.createOrReplaceTempView('netflix_data_table')"
   ]
  },
  {
   "cell_type": "code",
   "execution_count": 0,
   "metadata": {
    "application/vnd.databricks.v1+cell": {
     "cellMetadata": {
      "byteLimit": 2048000,
      "rowLimit": 10000
     },
     "inputWidgets": {},
     "nuid": "4d3c2755-32e4-4ad9-914c-641b93487324",
     "showTitle": false,
     "title": ""
    }
   },
   "outputs": [
    {
     "output_type": "display_data",
     "data": {
      "text/html": [
       "<style scoped>\n",
       "  .table-result-container {\n",
       "    max-height: 300px;\n",
       "    overflow: auto;\n",
       "  }\n",
       "  table, th, td {\n",
       "    border: 1px solid black;\n",
       "    border-collapse: collapse;\n",
       "  }\n",
       "  th, td {\n",
       "    padding: 5px;\n",
       "  }\n",
       "  th {\n",
       "    text-align: left;\n",
       "  }\n",
       "</style><div class='table-result-container'><table class='table-result'><thead style='background-color: white'><tr><th>imdb_id</th><th>title</th><th>certificate</th><th>startYear</th><th>type</th><th>origin_country</th><th>language</th><th>rating</th><th>numVotes</th><th>genres</th></tr></thead><tbody><tr><td>tt0993840</td><td>Army of the Dead</td><td>18</td><td>2021</td><td>movie</td><td>United States</td><td>English</td><td>5.8</td><td>110780.0</td><td>Action,Crime,Horror</td></tr><tr><td>tt6111574</td><td>The Woman in the Window</td><td>18</td><td>2021</td><td>movie</td><td>United States</td><td>English</td><td>5.7</td><td>46703.0</td><td>Crime,Drama,Mystery</td></tr><tr><td>tt7979580</td><td>The Mitchells vs the Machines</td><td>13</td><td>2021</td><td>movie</td><td>United States</td><td>English</td><td>7.8</td><td>55762.0</td><td>Adventure,Animation,Comedy</td></tr><tr><td>tt7084386</td><td>Blue Miracle</td><td>13</td><td>2021</td><td>movie</td><td>United States</td><td>English</td><td>6.7</td><td>2962.0</td><td>Adventure,Biography,Drama</td></tr><tr><td>tt10962368</td><td>Things Heard & Seen</td><td>16</td><td>2021</td><td>movie</td><td>United States</td><td>English</td><td>5.3</td><td>20762.0</td><td>Drama,Horror,Mystery</td></tr><tr><td>tt9203694</td><td>Stowaway</td><td>13</td><td>2021</td><td>movie</td><td>Germany</td><td>English</td><td>5.6</td><td>33501.0</td><td>Drama,Sci-Fi,Thriller</td></tr><tr><td>tt11286314</td><td>Don't Look Up</td><td>null</td><td>2021</td><td>movie</td><td>United States</td><td>English</td><td>null</td><td>null</td><td>Comedy</td></tr><tr><td>tt9013182</td><td>I Am All Girls</td><td>16</td><td>2021</td><td>movie</td><td>South Africa</td><td>English</td><td>5.8</td><td>3283.0</td><td>Crime,Drama,Mystery</td></tr><tr><td>tt9848626</td><td>Hotel Transylvania: Transformania</td><td>null</td><td>2021</td><td>movie</td><td>United States</td><td>English</td><td>null</td><td>null</td><td>Adventure,Animation,Comedy</td></tr><tr><td>tt3661210</td><td>The Dig</td><td>16</td><td>2021</td><td>movie</td><td>United Kingdom</td><td>English</td><td>7.1</td><td>56763.0</td><td>Biography,Drama,History</td></tr><tr><td>tt10121392</td><td>Thunder Force</td><td>13</td><td>2021</td><td>movie</td><td>United States</td><td>English</td><td>4.4</td><td>33506.0</td><td>Action,Adventure,Comedy</td></tr><tr><td>tt3758814</td><td>The Ice Road</td><td>PG-13</td><td>2021</td><td>movie</td><td>United States</td><td>English</td><td>null</td><td>null</td><td>Thriller</td></tr><tr><td>tt8368408</td><td>Gunpowder Milkshake</td><td>R</td><td>2021</td><td>movie</td><td>France</td><td>English</td><td>null</td><td>null</td><td>Action,Adventure,Thriller</td></tr><tr><td>tt6566576</td><td>Fear Street</td><td>null</td><td>2021</td><td>movie</td><td>United States</td><td>English</td><td>null</td><td>null</td><td>Horror,Mystery</td></tr><tr><td>tt12939812</td><td>The Nailbomber</td><td>null</td><td>2021</td><td>movie</td><td>United Kingdom</td><td>English</td><td>6.3</td><td>1107.0</td><td>Crime,Documentary,History</td></tr><tr><td>tt10418662</td><td>Awake</td><td>18</td><td>2021</td><td>movie</td><td>United States</td><td>English</td><td>4.8</td><td>2846.0</td><td>Action,Adventure,Drama</td></tr><tr><td>tt6432466</td><td>Moxie</td><td>13</td><td>2021</td><td>movie</td><td>United States</td><td>English</td><td>6.7</td><td>18962.0</td><td>Comedy,Drama,Music</td></tr><tr><td>tt8521876</td><td>Yes Day</td><td>7</td><td>2021</td><td>movie</td><td>United States</td><td>English</td><td>5.7</td><td>17536.0</td><td>Comedy,Family</td></tr><tr><td>tt6733874</td><td>America: The Motion Picture</td><td>null</td><td>2021</td><td>movie</td><td>United States</td><td>English</td><td>null</td><td>null</td><td>Action,Adventure,Animation</td></tr><tr><td>tt10451914</td><td>Outside the Wire</td><td>18</td><td>2021</td><td>movie</td><td>Hungary</td><td>English</td><td>5.4</td><td>35882.0</td><td>Action,Adventure,Fantasy</td></tr><tr><td>tt7991608</td><td>Red Notice</td><td>null</td><td>2021</td><td>movie</td><td>United States</td><td>English</td><td>null</td><td>null</td><td>Action,Comedy,Crime</td></tr><tr><td>tt9684220</td><td>Bad Trip</td><td>18</td><td>2021</td><td>movie</td><td>United States</td><td>English</td><td>6.6</td><td>18590.0</td><td>Comedy</td></tr><tr><td>tt12676326</td><td>Malcolm & Marie</td><td>18</td><td>2021</td><td>movie</td><td>United States</td><td>English</td><td>6.7</td><td>28869.0</td><td>Drama,Romance</td></tr><tr><td>tt10332588</td><td>Finding 'Ohana</td><td>7</td><td>2021</td><td>movie</td><td>United States</td><td>English</td><td>6.1</td><td>7636.0</td><td>Action,Adventure,Comedy</td></tr><tr><td>tt4733624</td><td>Fatherhood</td><td>PG-13</td><td>2021</td><td>movie</td><td>United States</td><td>English</td><td>null</td><td>null</td><td>Comedy,Drama</td></tr><tr><td>tt7897330</td><td>Deadly Illusions</td><td>18</td><td>2021</td><td>movie</td><td>United States</td><td>English</td><td>3.6</td><td>9808.0</td><td>Drama,Thriller</td></tr><tr><td>tt6467266</td><td>Sing 2</td><td>PG</td><td>2021</td><td>movie</td><td>France</td><td>English</td><td>null</td><td>null</td><td>Adventure,Animation,Comedy</td></tr><tr><td>tt11388278</td><td>A Week Away</td><td>13</td><td>2021</td><td>movie</td><td>United States</td><td>English</td><td>5.7</td><td>3247.0</td><td>Drama,Family,Musical</td></tr><tr><td>tt1655389</td><td>Blonde</td><td>null</td><td>2021</td><td>movie</td><td>United States</td><td>English</td><td>null</td><td>null</td><td>Biography,Drama,Romance</td></tr><tr><td>tt4590256</td><td>He's All That</td><td>null</td><td>2021</td><td>movie</td><td>United States</td><td>English</td><td>null</td><td>null</td><td>Comedy,Romance</td></tr><tr><td>tt14152756</td><td>Seaspiracy</td><td>18</td><td>2021</td><td>movie</td><td>United States</td><td>English</td><td>8.2</td><td>23284.0</td><td>Adventure,Documentary</td></tr><tr><td>tt13024674</td><td>Army of Thieves</td><td>null</td><td>2021</td><td>movie</td><td>Germany</td><td>English</td><td>null</td><td>null</td><td>Action,Crime,Horror</td></tr><tr><td>tt5562070</td><td>Wish Dragon</td><td>7</td><td>2021</td><td>movie</td><td>China</td><td>English</td><td>6.9</td><td>221.0</td><td>Adventure,Animation,Comedy</td></tr><tr><td>tt10676012</td><td>To All the Boys: Always and Forever</td><td>13</td><td>2021</td><td>movie</td><td>United States</td><td>English</td><td>6.3</td><td>17605.0</td><td>Comedy,Drama,Romance</td></tr><tr><td>tt8231668</td><td>Good on Paper</td><td>R</td><td>2021</td><td>movie</td><td>United States</td><td>English</td><td>null</td><td>null</td><td>Comedy,Romance</td></tr><tr><td>tt9783600</td><td>Escape From Spiderhead</td><td>null</td><td>2021</td><td>movie</td><td>United States</td><td>English</td><td>null</td><td>null</td><td>Action,Mystery,Sci-Fi</td></tr><tr><td>tt1893273</td><td>The Last Letter from Your Lover</td><td>null</td><td>2021</td><td>movie</td><td>United Kingdom</td><td>English</td><td>null</td><td>null</td><td>Drama,Romance</td></tr><tr><td>tt12783454</td><td>The Kissing Booth 3</td><td>null</td><td>2021</td><td>movie</td><td>United Kingdom</td><td>English</td><td>null</td><td>null</td><td>Comedy,Romance</td></tr><tr><td>tt10731768</td><td>Sweet Girl</td><td>R</td><td>2021</td><td>movie</td><td>United States</td><td>English</td><td>null</td><td>null</td><td>Action,Drama,Thriller</td></tr><tr><td>tt3447590</td><td>Matilda</td><td>null</td><td>2021</td><td>movie</td><td>United Kingdom</td><td>English</td><td>null</td><td>null</td><td>Comedy,Drama,Family</td></tr><tr><td>tt14539726</td><td>Breaking Boundaries: The Science of Our Planet</td><td>7</td><td>2021</td><td>movie</td><td>United States</td><td>English</td><td>7.8</td><td>475.0</td><td>Documentary</td></tr><tr><td>tt8721424</td><td>tick, tick...Boom!</td><td>null</td><td>2021</td><td>movie</td><td>United States</td><td>English</td><td>null</td><td>null</td><td>Biography,Drama,Musical</td></tr><tr><td>tt13932162</td><td>Secret Magic Control Agency</td><td>7</td><td>2021</td><td>movie</td><td>Russia</td><td>English</td><td>6.2</td><td>2241.0</td><td>Adventure,Animation,Comedy</td></tr><tr><td>tt6338498</td><td>Vivo</td><td>PG</td><td>2021</td><td>movie</td><td>Canada</td><td>English</td><td>null</td><td>null</td><td>Adventure,Animation,Comedy</td></tr><tr><td>tt9421570</td><td>The Guilty</td><td>R</td><td>2021</td><td>movie</td><td>United States</td><td>English</td><td>null</td><td>null</td><td>Crime,Drama,Thriller</td></tr><tr><td>tt10293406</td><td>The Power of the Dog</td><td>null</td><td>2021</td><td>movie</td><td>United Kingdom</td><td>English</td><td>null</td><td>null</td><td>Drama</td></tr><tr><td>tt6964940</td><td>Skater Girl</td><td>7</td><td>2021</td><td>movie</td><td>United States</td><td>English</td><td>null</td><td>null</td><td>Drama,Family,Sport</td></tr><tr><td>tt14611368</td><td>Trippin' with the Kandasamys</td><td>null</td><td>2021</td><td>movie</td><td>South Africa</td><td>English</td><td>5.3</td><td>146.0</td><td>Comedy,Romance</td></tr><tr><td>tt12851396</td><td>Trollhunters: Rise of the Titans</td><td>null</td><td>2021</td><td>movie</td><td>United States</td><td>English</td><td>null</td><td>null</td><td>Action,Adventure,Animation</td></tr><tr><td>tt9701940</td><td>Fear Street 2</td><td>null</td><td>2021</td><td>movie</td><td>United States</td><td>English</td><td>null</td><td>null</td><td>Horror,Mystery</td></tr><tr><td>tt7737528</td><td>Kate</td><td>R</td><td>2021</td><td>movie</td><td>United States</td><td>English</td><td>null</td><td>null</td><td>Action,Adventure,Crime</td></tr><tr><td>tt6714432</td><td>The Loud House</td><td>null</td><td>2021</td><td>movie</td><td>Spain</td><td>English</td><td>null</td><td>null</td><td>Action,Adventure,Animation</td></tr><tr><td>tt14111734</td><td>Operation Varsity Blues: The College Admissions Scandal</td><td>13</td><td>2021</td><td>movie</td><td>United States</td><td>English</td><td>7.0</td><td>6284.0</td><td>Crime,Documentary,Drama</td></tr><tr><td>tt6076668</td><td>Hating Peter Tatchell</td><td>null</td><td>2021</td><td>movie</td><td>Australia</td><td>English</td><td>7.5</td><td>244.0</td><td>Documentary</td></tr><tr><td>tt9701942</td><td>Fear Street 3</td><td>null</td><td>2021</td><td>movie</td><td>United States</td><td>English</td><td>null</td><td>null</td><td>Horror,Mystery</td></tr><tr><td>tt10696784</td><td>The Harder They Fall</td><td>null</td><td>2021</td><td>movie</td><td>United States</td><td>English</td><td>null</td><td>null</td><td>Drama,Western</td></tr><tr><td>tt8893974</td><td>Passing</td><td>PG-13</td><td>2021</td><td>movie</td><td>United Kingdom</td><td>English</td><td>7.1</td><td>182.0</td><td>Drama</td></tr><tr><td>tt7475578</td><td>Munich</td><td>null</td><td>2021</td><td>movie</td><td>United Kingdom</td><td>English</td><td>null</td><td>null</td><td>Biography,Drama,History</td></tr><tr><td>tt10187208</td><td>A Boy Called Christmas</td><td>null</td><td>2021</td><td>movie</td><td>United Kingdom</td><td>English</td><td>null</td><td>null</td><td>Adventure,Drama,Family</td></tr><tr><td>tt14307536</td><td>A Jazzman's Blues</td><td>null</td><td>2021</td><td>movie</td><td>United States</td><td>English</td><td>null</td><td>null</td><td>Drama</td></tr><tr><td>tt11233960</td><td>Untitled Sandra Bullock/Nora Fingscheidt Project</td><td>null</td><td>2021</td><td>movie</td><td>United Kingdom</td><td>English</td><td>null</td><td>null</td><td>Drama</td></tr><tr><td>tt10763820</td><td>Night Teeth</td><td>null</td><td>2021</td><td>movie</td><td>United States</td><td>English</td><td>null</td><td>null</td><td>Thriller</td></tr><tr><td>tt14369930</td><td>In Our Mothers' Gardens</td><td>null</td><td>2021</td><td>movie</td><td>United States</td><td>English</td><td>8.9</td><td>51.0</td><td>Documentary</td></tr><tr><td>tt11657662</td><td>The Witcher: Nightmare of the Wolf</td><td>null</td><td>2021</td><td>movie</td><td>United States</td><td>English</td><td>null</td><td>null</td><td>Action,Adventure,Animation</td></tr><tr><td>tt13575806</td><td>Back to the Outback</td><td>null</td><td>2021</td><td>movie</td><td>United States</td><td>English</td><td>null</td><td>null</td><td>Adventure,Animation,Comedy</td></tr><tr><td>tt8150814</td><td>There's Someone Inside Your House</td><td>null</td><td>2021</td><td>movie</td><td>United States</td><td>English</td><td>null</td><td>null</td><td>Horror,Thriller</td></tr><tr><td>tt14058484</td><td>Biggie: I Got a Story to Tell</td><td>18</td><td>2021</td><td>movie</td><td>United States</td><td>English</td><td>6.9</td><td>4135.0</td><td>Biography,Documentary,Music</td></tr><tr><td>tt12141112</td><td>Metal Lords</td><td>null</td><td>2021</td><td>movie</td><td>United States</td><td>English</td><td>null</td><td>null</td><td>Drama,Music</td></tr><tr><td>tt13842562</td><td>Pelé</td><td>13</td><td>2021</td><td>movie</td><td>United Kingdom</td><td>English</td><td>7.0</td><td>3268.0</td><td>Biography,Documentary,Sport</td></tr><tr><td>tt13583144</td><td>The Minimalists: Less Is Now</td><td>13</td><td>2021</td><td>movie</td><td>United States</td><td>English</td><td>5.9</td><td>3238.0</td><td>Documentary</td></tr><tr><td>tt11364112</td><td>Beauty</td><td>null</td><td>2021</td><td>movie</td><td>United States</td><td>English</td><td>null</td><td>null</td><td>Drama,Romance</td></tr><tr><td>tt14731142</td><td>The Princess Switch 3</td><td>null</td><td>2021</td><td>movie</td><td>United States</td><td>English</td><td>null</td><td>null</td><td>Comedy,Drama,Family</td></tr><tr><td>tt10752004</td><td>Love Hard</td><td>null</td><td>2021</td><td>movie</td><td>United States</td><td>English</td><td>null</td><td>null</td><td>Comedy,Romance</td></tr><tr><td>tt13787118</td><td>Strip Down, Rise Up</td><td>18</td><td>2021</td><td>movie</td><td>United States</td><td>English</td><td>5.2</td><td>492.0</td><td>Documentary</td></tr><tr><td>tt9784708</td><td>Rise of the Teenage Mutant Ninja Turtles</td><td>null</td><td>2021</td><td>movie</td><td>United States</td><td>English</td><td>null</td><td>null</td><td>Action,Adventure,Animation</td></tr><tr><td>tt10521144</td><td>Nightbooks</td><td>null</td><td>2021</td><td>movie</td><td>United States</td><td>English</td><td>null</td><td>null</td><td>Family,Fantasy,Horror</td></tr><tr><td>tt13649700</td><td>Crack: Cocaine, Corruption & Conspiracy</td><td>18</td><td>2021</td><td>movie</td><td>United States</td><td>English</td><td>6.7</td><td>2640.0</td><td>Crime,Documentary,History</td></tr><tr><td>tt13873302</td><td>Against the Ice</td><td>null</td><td>2021</td><td>movie</td><td>United States</td><td>English</td><td>null</td><td>null</td><td>Adventure,Drama,History</td></tr><tr><td>tt12929990</td><td>Resort to Love</td><td>null</td><td>2021</td><td>movie</td><td>United States</td><td>English</td><td>null</td><td>null</td><td>Comedy,Romance</td></tr><tr><td>tt13070602</td><td>A Castle for Christmas</td><td>null</td><td>2021</td><td>movie</td><td>United States</td><td>English</td><td>null</td><td>null</td><td>Adventure,Comedy,Family</td></tr><tr><td>tt11224358</td><td>Pray Away</td><td>null</td><td>2021</td><td>movie</td><td>United States</td><td>English</td><td>null</td><td>null</td><td>Documentary</td></tr><tr><td>tt14315756</td><td>Single All the Way</td><td>null</td><td>2021</td><td>movie</td><td>United States</td><td>English</td><td>null</td><td>null</td><td>Comedy,Drama,Romance</td></tr><tr><td>tt9337574</td><td>Sisters on Track</td><td>PG</td><td>2021</td><td>movie</td><td>United States</td><td>English</td><td>null</td><td>null</td><td>Documentary,Sport</td></tr><tr><td>tt5563324</td><td>Intrusion</td><td>null</td><td>2021</td><td>movie</td><td>United States</td><td>English</td><td>null</td><td>null</td><td>Thriller</td></tr><tr><td>tt13947978</td><td>Accomplice</td><td>null</td><td>2021</td><td>movie</td><td>United States</td><td>English</td><td>7.3</td><td>193.0</td><td>Documentary</td></tr><tr><td>tt12383460</td><td>Hypnotic</td><td>null</td><td>2021</td><td>movie</td><td>United States</td><td>English</td><td>null</td><td>null</td><td>Horror,Thriller</td></tr><tr><td>tt12885272</td><td>Diana</td><td>PG-13</td><td>2021</td><td>movie</td><td>United States</td><td>English</td><td>null</td><td>null</td><td>Biography,Drama,Musical</td></tr><tr><td>tt14684160</td><td>Headspace: Unwind Your Mind</td><td>All</td><td>2021</td><td>movie</td><td>United States</td><td>English</td><td>null</td><td>null</td><td>Animation,Documentary</td></tr><tr><td>tt14539744</td><td>Bob Ross: Happy Accidents, Betrayal & Greed</td><td>null</td><td>2021</td><td>movie</td><td>United States</td><td>English</td><td>null</td><td>null</td><td>Documentary</td></tr><tr><td>tt13666778</td><td>Kane Chonicles</td><td>null</td><td>2021</td><td>movie</td><td>United States</td><td>English</td><td>null</td><td>null</td><td>Adventure</td></tr><tr><td>tt13266974</td><td>Untitled Netflix Family Comedy 2021</td><td>null</td><td>2021</td><td>movie</td><td>United States</td><td>English</td><td>null</td><td>null</td><td>Comedy</td></tr><tr><td>tt11893274</td><td>Untitled Boeing 737 Max/Rory Kennedy Project</td><td>null</td><td>2021</td><td>movie</td><td>United States</td><td>English</td><td>null</td><td>null</td><td>Documentary</td></tr><tr><td>tt14307890</td><td>Happiness Ever After</td><td>null</td><td>2021</td><td>movie</td><td>South Africa</td><td>English</td><td>null</td><td>null</td><td>Drama,Romance</td></tr><tr><td>tt2222042</td><td>Love and Monsters</td><td>13</td><td>2020</td><td>movie</td><td>Canada</td><td>English</td><td>7.0</td><td>91971.0</td><td>Action,Adventure,Comedy</td></tr><tr><td>tt9893250</td><td>I Care a Lot</td><td>18</td><td>2020</td><td>movie</td><td>United States</td><td>English</td><td>6.3</td><td>101431.0</td><td>Comedy,Crime,Thriller</td></tr><tr><td>tt8580274</td><td>Eurovision Song Contest: The Story of Fire Saga</td><td>PG-13</td><td>2020</td><td>movie</td><td>United States</td><td>English</td><td>6.5</td><td>82411.0</td><td>Comedy,Music</td></tr><tr><td>tt7395114</td><td>The Devil All the Time</td><td>18</td><td>2020</td><td>movie</td><td>United States</td><td>English</td><td>7.1</td><td>105158.0</td><td>Crime,Drama,Thriller</td></tr><tr><td>tt1838556</td><td>Honest Thief</td><td>PG-13</td><td>2020</td><td>movie</td><td>United States</td><td>English</td><td>6.0</td><td>36583.0</td><td>Action,Crime,Drama</td></tr><tr><td>tt8633478</td><td>Run</td><td>PG-13</td><td>2020</td><td>movie</td><td>United States</td><td>English</td><td>6.7</td><td>50255.0</td><td>Mystery,Thriller</td></tr><tr><td>tt6878306</td><td>News of the World</td><td>16</td><td>2020</td><td>movie</td><td>United States</td><td>English</td><td>6.8</td><td>65228.0</td><td>Action,Adventure,Drama</td></tr><tr><td>tt7846844</td><td>Enola Holmes</td><td>13</td><td>2020</td><td>movie</td><td>United Kingdom</td><td>English</td><td>6.6</td><td>140708.0</td><td>Action,Adventure,Crime</td></tr><tr><td>tt1070874</td><td>The Trial of the Chicago 7</td><td>18</td><td>2020</td><td>movie</td><td>United States</td><td>English</td><td>7.8</td><td>147967.0</td><td>Drama,History,Thriller</td></tr><tr><td>tt4779326</td><td>The Water Man</td><td>PG</td><td>2020</td><td>movie</td><td>United States</td><td>English</td><td>4.9</td><td>565.0</td><td>Adventure,Drama,Family</td></tr><tr><td>tt9820556</td><td>Breach</td><td>R</td><td>2020</td><td>movie</td><td>Canada</td><td>English</td><td>2.9</td><td>7561.0</td><td>Action,Sci-Fi</td></tr><tr><td>tt7556122</td><td>The Old Guard</td><td>18</td><td>2020</td><td>movie</td><td>United States</td><td>English</td><td>6.7</td><td>137367.0</td><td>Action,Adventure,Fantasy</td></tr><tr><td>tt8936646</td><td>Extraction</td><td>18</td><td>2020</td><td>movie</td><td>United States</td><td>English</td><td>6.7</td><td>169609.0</td><td>Action,Thriller</td></tr><tr><td>tt8629748</td><td>Spenser Confidential</td><td>18</td><td>2020</td><td>movie</td><td>United States</td><td>English</td><td>6.2</td><td>75475.0</td><td>Action,Comedy,Crime</td></tr><tr><td>tt10618286</td><td>Mank</td><td>16</td><td>2020</td><td>movie</td><td>United States</td><td>English</td><td>6.9</td><td>61633.0</td><td>Biography,Comedy,Drama</td></tr><tr><td>tt6772802</td><td>Hillbilly Elegy</td><td>18</td><td>2020</td><td>movie</td><td>United States</td><td>English</td><td>6.7</td><td>35778.0</td><td>Drama</td></tr><tr><td>tt2235695</td><td>Rebecca</td><td>18</td><td>2020</td><td>movie</td><td>United Kingdom</td><td>English</td><td>6.0</td><td>34569.0</td><td>Drama,Mystery,Romance</td></tr><tr><td>tt7939766</td><td>I'm Thinking of Ending Things</td><td>16</td><td>2020</td><td>movie</td><td>United States</td><td>English</td><td>6.6</td><td>69398.0</td><td>Drama,Thriller</td></tr><tr><td>tt11161474</td><td>Pieces of a Woman</td><td>18</td><td>2020</td><td>movie</td><td>Canada</td><td>English</td><td>7.1</td><td>40086.0</td><td>Drama</td></tr><tr><td>tt12888462</td><td>My Octopus Teacher</td><td>7</td><td>2020</td><td>movie</td><td>South Africa</td><td>English</td><td>8.1</td><td>38740.0</td><td>Documentary</td></tr><tr><td>tt0983946</td><td>Fantasy Island</td><td>A</td><td>2020</td><td>movie</td><td>United States</td><td>English</td><td>4.9</td><td>40351.0</td><td>Action,Adventure,Fantasy</td></tr><tr><td>tt9619798</td><td>The Wrong Missy</td><td>18</td><td>2020</td><td>movie</td><td>United States</td><td>English</td><td>5.7</td><td>34222.0</td><td>Comedy,Romance</td></tr><tr><td>tt10539608</td><td>The Midnight Sky</td><td>13</td><td>2020</td><td>movie</td><td>United States</td><td>English</td><td>5.6</td><td>74470.0</td><td>Drama,Fantasy,Sci-Fi</td></tr><tr><td>tt10600398</td><td>We Can Be Heroes</td><td>7</td><td>2020</td><td>movie</td><td>United States</td><td>English</td><td>4.7</td><td>11673.0</td><td>Action,Comedy,Drama</td></tr><tr><td>tt7550000</td><td>Project Power</td><td>16</td><td>2020</td><td>movie</td><td>United States</td><td>English</td><td>6.0</td><td>75538.0</td><td>Action,Crime,Sci-Fi</td></tr><tr><td>tt11024272</td><td>The Babysitter: Killer Queen</td><td>18</td><td>2020</td><td>movie</td><td>United States</td><td>English</td><td>5.8</td><td>29703.0</td><td>Comedy,Horror</td></tr><tr><td>tt8508734</td><td>His House</td><td>16</td><td>2020</td><td>movie</td><td>United Kingdom</td><td>English</td><td>6.5</td><td>30212.0</td><td>Drama,Horror,Thriller</td></tr><tr><td>tt10514222</td><td>Ma Rainey's Black Bottom</td><td>16</td><td>2020</td><td>movie</td><td>United States</td><td>English</td><td>7.0</td><td>43065.0</td><td>Drama,Music</td></tr><tr><td>tt10682266</td><td>Hubie Halloween</td><td>13</td><td>2020</td><td>movie</td><td>United States</td><td>English</td><td>5.2</td><td>41175.0</td><td>Comedy,Mystery</td></tr><tr><td>tt8846176</td><td>Concrete Cowboy</td><td>16</td><td>2020</td><td>movie</td><td>United Kingdom</td><td>English</td><td>6.3</td><td>6320.0</td><td>Drama</td></tr><tr><td>tt3907584</td><td>All the Bright Places</td><td>18</td><td>2020</td><td>movie</td><td>United States</td><td>English</td><td>6.5</td><td>23088.0</td><td>Drama,Romance</td></tr><tr><td>tt9866072</td><td>Holidate</td><td>16</td><td>2020</td><td>movie</td><td>United States</td><td>English</td><td>6.1</td><td>49581.0</td><td>Comedy,Romance</td></tr><tr><td>tt1918734</td><td>2067</td><td>null</td><td>2020</td><td>movie</td><td>Australia</td><td>English</td><td>4.9</td><td>6376.0</td><td>Sci-Fi</td></tr><tr><td>tt10308928</td><td>Force of Nature</td><td>A</td><td>2020</td><td>movie</td><td>United States</td><td>English</td><td>4.5</td><td>8425.0</td><td>Action,Crime,Drama</td></tr><tr><td>tt9777644</td><td>Da 5 Bloods</td><td>18</td><td>2020</td><td>movie</td><td>United States</td><td>English</td><td>6.5</td><td>45651.0</td><td>Adventure,Drama,War</td></tr><tr><td>tt4823776</td><td>The SpongeBob Movie: Sponge on the Run</td><td>7</td><td>2020</td><td>movie</td><td>United States</td><td>English</td><td>6.0</td><td>13393.0</td><td>Adventure,Animation,Comedy</td></tr><tr><td>tt12139700</td><td>Jungle Beat: The Movie</td><td>G</td><td>2020</td><td>movie</td><td>Mauritius</td><td>English</td><td>5.5</td><td>658.0</td><td>Adventure,Animation,Comedy</td></tr><tr><td>tt6317656</td><td>Penguin Bloom</td><td>13</td><td>2020</td><td>movie</td><td>Australia</td><td>English</td><td>6.8</td><td>6338.0</td><td>Drama</td></tr><tr><td>tt7488208</td><td>Over the Moon</td><td>7</td><td>2020</td><td>movie</td><td>China</td><td>English</td><td>6.4</td><td>17434.0</td><td>Adventure,Animation,Comedy</td></tr><tr><td>tt5096470</td><td>Love Wedding Repeat</td><td>18</td><td>2020</td><td>movie</td><td>United Kingdom</td><td>English</td><td>5.5</td><td>18362.0</td><td>Comedy,Romance</td></tr><tr><td>tt10161886</td><td>The Prom</td><td>13</td><td>2020</td><td>movie</td><td>United States</td><td>English</td><td>5.9</td><td>23847.0</td><td>Comedy,Drama,Musical</td></tr><tr><td>tt9784456</td><td>The Kissing Booth 2</td><td>13</td><td>2020</td><td>movie</td><td>United Kingdom</td><td>English</td><td>5.8</td><td>22962.0</td><td>Comedy,Romance</td></tr><tr><td>tt3111426</td><td>Lost Girls</td><td>R</td><td>2020</td><td>movie</td><td>United States</td><td>English</td><td>6.1</td><td>18335.0</td><td>Drama,Mystery,Thriller</td></tr><tr><td>tt7970348</td><td>The Stand In</td><td>R</td><td>2020</td><td>movie</td><td>United States</td><td>English</td><td>4.6</td><td>2453.0</td><td>Comedy,Drama</td></tr><tr><td>tt7456312</td><td>The Last Thing He Wanted</td><td>18</td><td>2020</td><td>movie</td><td>United States</td><td>English</td><td>4.3</td><td>13387.0</td><td>Crime,Drama,Thriller</td></tr><tr><td>tt11464826</td><td>The Social Dilemma</td><td>13</td><td>2020</td><td>movie</td><td>United States</td><td>English</td><td>7.6</td><td>70972.0</td><td>Documentary,Drama</td></tr><tr><td>tt11388406</td><td>Horse Girl</td><td>18</td><td>2020</td><td>movie</td><td>United States</td><td>English</td><td>5.9</td><td>15514.0</td><td>Drama,Mystery,Thriller</td></tr><tr><td>tt10888708</td><td>The Sleepover</td><td>7</td><td>2020</td><td>movie</td><td>United States</td><td>English</td><td>5.6</td><td>8710.0</td><td>Action,Adventure,Comedy</td></tr><tr><td>tt10199914</td><td>The Boys in the Band</td><td>18</td><td>2020</td><td>movie</td><td>United States</td><td>English</td><td>6.8</td><td>12731.0</td><td>Drama</td></tr><tr><td>tt1552211</td><td>The Last Days of American Crime</td><td>18</td><td>2020</td><td>movie</td><td>United States</td><td>English</td><td>3.7</td><td>10109.0</td><td>Action,Crime,Drama</td></tr><tr><td>tt11100856</td><td>Love, Guaranteed</td><td>7</td><td>2020</td><td>movie</td><td>United States</td><td>English</td><td>5.6</td><td>14835.0</td><td>Comedy,Romance</td></tr><tr><td>tt5206260</td><td>The Willoughbys</td><td>7</td><td>2020</td><td>movie</td><td>Canada</td><td>English</td><td>6.4</td><td>14757.0</td><td>Adventure,Animation,Comedy</td></tr><tr><td>tt10714856</td><td>Feel the Beat</td><td>7</td><td>2020</td><td>movie</td><td>United States</td><td>English</td><td>6.3</td><td>9062.0</td><td>Comedy,Drama,Family</td></tr><tr><td>tt12987894</td><td>American Murder: The Family Next Door</td><td>16</td><td>2020</td><td>movie</td><td>United States</td><td>English</td><td>7.2</td><td>21242.0</td><td>Crime,Documentary</td></tr><tr><td>tt10276470</td><td>Work It</td><td>13</td><td>2020</td><td>movie</td><td>United States</td><td>English</td><td>6.1</td><td>10490.0</td><td>Comedy,Music</td></tr><tr><td>tt8851668</td><td>The Lovebirds</td><td>18</td><td>2020</td><td>movie</td><td>United States</td><td>English</td><td>6.1</td><td>22436.0</td><td>Action,Comedy,Crime</td></tr><tr><td>tt10303430</td><td>Sightless</td><td>16</td><td>2020</td><td>movie</td><td>United States</td><td>English</td><td>5.5</td><td>6022.0</td><td>Drama,Thriller</td></tr><tr><td>tt10183816</td><td>Dangerous Lies</td><td>13</td><td>2020</td><td>movie</td><td>United States</td><td>English</td><td>5.3</td><td>15040.0</td><td>Drama,Mystery,Thriller</td></tr><tr><td>tt8145202</td><td>The F**k-It List</td><td>null</td><td>2020</td><td>movie</td><td>United States</td><td>English</td><td>5.1</td><td>4934.0</td><td>Comedy</td></tr><tr><td>tt11390036</td><td>A Fall from Grace</td><td>null</td><td>2020</td><td>movie</td><td>United States</td><td>English</td><td>5.9</td><td>13018.0</td><td>Drama,Fantasy,Thriller</td></tr><tr><td>tt8976576</td><td>Vampires vs. the Bronx</td><td>13</td><td>2020</td><td>movie</td><td>United States</td><td>English</td><td>5.6</td><td>8181.0</td><td>Comedy,Horror</td></tr><tr><td>tt5929654</td><td>Think Like a Dog</td><td>PG</td><td>2020</td><td>movie</td><td>China</td><td>English</td><td>5.2</td><td>1266.0</td><td>Comedy,Drama,Family</td></tr><tr><td>tt9354842</td><td>To All the Boys: P.S. I Still Love You</td><td>13</td><td>2020</td><td>movie</td><td>United States</td><td>English</td><td>6.0</td><td>31232.0</td><td>Comedy,Drama,Romance</td></tr><tr><td>tt1545304</td><td>Desperados</td><td>16</td><td>2020</td><td>movie</td><td>United States</td><td>English</td><td>5.2</td><td>9090.0</td><td>Comedy,Romance</td></tr><tr><td>tt4844150</td><td>A Babysitter's Guide to Monster Hunting</td><td>7</td><td>2020</td><td>movie</td><td>United States</td><td>English</td><td>5.4</td><td>3270.0</td><td>Comedy,Family,Fantasy</td></tr><tr><td>tt8750570</td><td>Sergio</td><td>18</td><td>2020</td><td>movie</td><td>United States</td><td>English</td><td>6.1</td><td>8668.0</td><td>Biography,Drama,History</td></tr><tr><td>tt8523028</td><td>Roped</td><td>PG</td><td>2020</td><td>movie</td><td>United States</td><td>English</td><td>5.4</td><td>1081.0</td><td>Drama,Romance</td></tr><tr><td>tt11989890</td><td>David Attenborough: A Life on Our Planet</td><td>13</td><td>2020</td><td>movie</td><td>United Kingdom</td><td>English</td><td>9.0</td><td>27666.0</td><td>Biography,Documentary</td></tr><tr><td>tt10933680</td><td>The Debt Collector 2</td><td>null</td><td>2020</td><td>movie</td><td>United States</td><td>English</td><td>5.8</td><td>3412.0</td><td>Action,Comedy</td></tr><tr><td>tt13055780</td><td>A California Christmas</td><td>16</td><td>2020</td><td>movie</td><td>United States</td><td>English</td><td>5.8</td><td>6793.0</td><td>Comedy,Drama,Romance</td></tr><tr><td>tt3155342</td><td>All Together Now</td><td>13</td><td>2020</td><td>movie</td><td>United States</td><td>English</td><td>6.5</td><td>3357.0</td><td>Drama</td></tr><tr><td>tt11057644</td><td>The Christmas Chronicles: Part Two</td><td>7</td><td>2020</td><td>movie</td><td>United States</td><td>English</td><td>6.0</td><td>24065.0</td><td>Adventure,Comedy,Family</td></tr><tr><td>tt11199410</td><td>The Princess Switch: Switched Again</td><td>7</td><td>2020</td><td>movie</td><td>United States</td><td>English</td><td>5.4</td><td>8108.0</td><td>Comedy,Drama,Family</td></tr><tr><td>tt8923484</td><td>Crip Camp</td><td>R</td><td>2020</td><td>movie</td><td>United States</td><td>English</td><td>7.7</td><td>6150.0</td><td>Documentary</td></tr><tr><td>tt7562334</td><td>Lady Driver</td><td>PG</td><td>2020</td><td>movie</td><td>United States</td><td>English</td><td>5.9</td><td>1055.0</td><td>Sport</td></tr><tr><td>tt9898858</td><td>Coffee & Kareem</td><td>18</td><td>2020</td><td>movie</td><td>United States</td><td>English</td><td>5.1</td><td>12250.0</td><td>Action,Comedy,Crime</td></tr><tr><td>tt11057594</td><td>Fatal Affair</td><td>16</td><td>2020</td><td>movie</td><td>United States</td><td>English</td><td>4.5</td><td>5115.0</td><td>Thriller</td></tr><tr><td>tt9735976</td><td>Wheels of Fortune</td><td>R</td><td>2020</td><td>movie</td><td>United States</td><td>English</td><td>5.4</td><td>572.0</td><td>Comedy</td></tr><tr><td>tt8618654</td><td>Kiss the Ground</td><td>7</td><td>2020</td><td>movie</td><td>United States</td><td>English</td><td>8.3</td><td>5523.0</td><td>Documentary</td></tr><tr><td>tt10642834</td><td>The Forty-Year-Old Version</td><td>18</td><td>2020</td><td>movie</td><td>United States</td><td>English</td><td>7.2</td><td>4173.0</td><td>Comedy,Drama</td></tr><tr><td>tt10540242</td><td>The Main Event</td><td>All</td><td>2020</td><td>movie</td><td>United States</td><td>English</td><td>4.8</td><td>1970.0</td><td>Action,Comedy,Family</td></tr><tr><td>tt11994750</td><td>Made You Look: A True Story About Fake Art</td><td>null</td><td>2020</td><td>movie</td><td>Canada</td><td>English</td><td>7.0</td><td>2839.0</td><td>Crime,Documentary</td></tr><tr><td>tt13297136</td><td>The Fisherman's Diary</td><td>null</td><td>2020</td><td>movie</td><td>Cameroon</td><td>English</td><td>6.5</td><td>425.0</td><td>Drama</td></tr><tr><td>tt10230414</td><td>Serious Men</td><td>16</td><td>2020</td><td>movie</td><td>India</td><td>English</td><td>6.8</td><td>6355.0</td><td>Comedy,Drama</td></tr><tr><td>tt9261218</td><td>Uncorked</td><td>null</td><td>2020</td><td>movie</td><td>United States</td><td>English</td><td>6.3</td><td>4703.0</td><td>Drama</td></tr><tr><td>tt13318052</td><td>Midnight at the Magnolia</td><td>All</td><td>2020</td><td>movie</td><td>Canada</td><td>English</td><td>5.8</td><td>4254.0</td><td>Comedy,Romance</td></tr><tr><td>tt3993886</td><td>All Day and a Night</td><td>R</td><td>2020</td><td>movie</td><td>United States</td><td>English</td><td>5.8</td><td>3192.0</td><td>Drama</td></tr><tr><td>tt13236566</td><td>Operation Christmas Drop</td><td>7</td><td>2020</td><td>movie</td><td>United States</td><td>English</td><td>5.8</td><td>9467.0</td><td>Comedy,Family,Romance</td></tr><tr><td>tt7736496</td><td>Jingle Jangle: A Christmas Journey</td><td>PG</td><td>2020</td><td>movie</td><td>United States</td><td>English</td><td>6.5</td><td>15880.0</td><td>Family,Fantasy,Musical</td></tr><tr><td>tt8310474</td><td>Bruised</td><td>null</td><td>2020</td><td>movie</td><td>United States</td><td>English</td><td>7.2</td><td>38.0</td><td>Drama,Sport</td></tr><tr><td>tt8009744</td><td>What Is Life Worth</td><td>PG-13</td><td>2020</td><td>movie</td><td>United States</td><td>English</td><td>6.9</td><td>235.0</td><td>Biography,Drama,History</td></tr><tr><td>tt12133722</td><td>Have a Good Trip: Adventures in Psychedelics</td><td>null</td><td>2020</td><td>movie</td><td>United States</td><td>English</td><td>6.8</td><td>6576.0</td><td>Comedy,Documentary</td></tr><tr><td>tt8972556</td><td>I Am Vengeance: Retaliation</td><td>R</td><td>2020</td><td>movie</td><td>United Kingdom</td><td>English</td><td>3.5</td><td>977.0</td><td>Action</td></tr><tr><td>tt11388580</td><td>Miss Americana</td><td>null</td><td>2020</td><td>movie</td><td>United States</td><td>English</td><td>7.4</td><td>16787.0</td><td>Biography,Documentary,Music</td></tr><tr><td>tt11394180</td><td>Dick Johnson Is Dead</td><td>13</td><td>2020</td><td>movie</td><td>United States</td><td>English</td><td>7.5</td><td>5209.0</td><td>Documentary,Drama</td></tr><tr><td>tt6693156</td><td>You Are My Home</td><td>null</td><td>2020</td><td>movie</td><td>United States</td><td>English</td><td>6.5</td><td>343.0</td><td>Animation,Family,Fantasy</td></tr><tr><td>tt8902948</td><td>Tigertail</td><td>13</td><td>2020</td><td>movie</td><td>United States</td><td>English</td><td>6.5</td><td>3225.0</td><td>Drama</td></tr><tr><td>tt8116640</td><td>Go!</td><td>null</td><td>2020</td><td>movie</td><td>Australia</td><td>English</td><td>5.9</td><td>2317.0</td><td>Family,Sport</td></tr><tr><td>tt11905462</td><td>Athlete A</td><td>13</td><td>2020</td><td>movie</td><td>United States</td><td>English</td><td>7.6</td><td>8369.0</td><td>Crime,Documentary,Sport</td></tr><tr><td>tt13150630</td><td>Secrets of the Saqqara Tomb</td><td>13</td><td>2020</td><td>movie</td><td>United States</td><td>English</td><td>7.3</td><td>5195.0</td><td>Documentary,History</td></tr><tr><td>tt10329566</td><td>Ricos de Amor</td><td>13</td><td>2020</td><td>movie</td><td>Brazil</td><td>English</td><td>5.8</td><td>2213.0</td><td>Comedy,Romance</td></tr><tr><td>tt3260524</td><td>A Secret Love</td><td>null</td><td>2020</td><td>movie</td><td>United States</td><td>English</td><td>7.9</td><td>3668.0</td><td>Documentary,Drama</td></tr><tr><td>tt13615386</td><td>Ariana Grande: Excuse Me, I Love You</td><td>16</td><td>2020</td><td>movie</td><td>United States</td><td>English</td><td>6.4</td><td>2009.0</td><td>Documentary,Music</td></tr><tr><td>tt11032990</td><td>Malibu Rescue: The Next Wave</td><td>null</td><td>2020</td><td>movie</td><td>United States</td><td>English</td><td>4.8</td><td>635.0</td><td>Action,Comedy,Family</td></tr><tr><td>tt12423052</td><td>Namaste Wahala</td><td>13</td><td>2020</td><td>movie</td><td>Nigeria</td><td>English</td><td>5.1</td><td>820.0</td><td>Drama,Romance</td></tr><tr><td>tt11481312</td><td>Citation</td><td>16</td><td>2020</td><td>movie</td><td>Nigeria</td><td>English</td><td>6.2</td><td>844.0</td><td>Drama,Thriller</td></tr><tr><td>tt11380884</td><td>Farewell Amor</td><td>null</td><td>2020</td><td>movie</td><td>United States</td><td>English</td><td>6.9</td><td>867.0</td><td>Drama,Music,Romance</td></tr><tr><td>tt13345636</td><td>Funny Boy</td><td>null</td><td>2020</td><td>movie</td><td>Canada</td><td>English</td><td>5.8</td><td>759.0</td><td>Drama</td></tr><tr><td>tt10768194</td><td>A New York Christmas Wedding</td><td>null</td><td>2020</td><td>movie</td><td>United States</td><td>English</td><td>5.4</td><td>835.0</td><td>Drama,Romance</td></tr><tr><td>tt10627548</td><td>Christmas on the Square</td><td>13</td><td>2020</td><td>movie</td><td>United States</td><td>English</td><td>5.2</td><td>2194.0</td><td>Comedy,Family,Musical</td></tr><tr><td>tt11010144</td><td>Seriously Single</td><td>null</td><td>2020</td><td>movie</td><td>South Africa</td><td>English</td><td>4.5</td><td>1124.0</td><td>Comedy,Romance</td></tr><tr><td>tt10851618</td><td>Rising Phoenix</td><td>13</td><td>2020</td><td>movie</td><td>United Kingdom</td><td>English</td><td>8.1</td><td>1334.0</td><td>Documentary,Sport</td></tr><tr><td>tt5244812</td><td>Riding Faith</td><td>null</td><td>2020</td><td>movie</td><td>United States</td><td>English</td><td>4.4</td><td>174.0</td><td>Family</td></tr><tr><td>tt9050898</td><td>Murder to Mercy: The Cyntoia Brown Story</td><td>null</td><td>2020</td><td>movie</td><td>United States</td><td>English</td><td>6.4</td><td>2278.0</td><td>Documentary</td></tr><tr><td>tt12221748</td><td>Becoming</td><td>7</td><td>2020</td><td>movie</td><td>United States</td><td>English</td><td>6.8</td><td>5835.0</td><td>Documentary</td></tr><tr><td>tt11843712</td><td>Not a Game</td><td>null</td><td>2020</td><td>movie</td><td>United Kingdom</td><td>English</td><td>5.6</td><td>395.0</td><td>Documentary</td></tr><tr><td>tt12767498</td><td>Barbie Princess Adventure</td><td>null</td><td>2020</td><td>movie</td><td>Netherlands</td><td>English</td><td>5.6</td><td>246.0</td><td>Animation,Musical</td></tr><tr><td>tt13260836</td><td>Angela's Christmas Wish</td><td>U</td><td>2020</td><td>movie</td><td>United States</td><td>English</td><td>7.1</td><td>1046.0</td><td>Adventure,Animation,Family</td></tr><tr><td>tt12187586</td><td>Father Soldier Son</td><td>16</td><td>2020</td><td>movie</td><td>United States</td><td>English</td><td>7.3</td><td>798.0</td><td>Documentary,War</td></tr><tr><td>tt5862338</td><td>Uppity: The Willy T. Ribbs Story</td><td>null</td><td>2020</td><td>movie</td><td>United States</td><td>English</td><td>7.9</td><td>583.0</td><td>Documentary</td></tr><tr><td>tt11953628</td><td>Maska</td><td>16</td><td>2020</td><td>movie</td><td>India</td><td>English</td><td>5.8</td><td>1312.0</td><td>Comedy,Drama,Romance</td></tr><tr><td>tt13150606</td><td>Octonauts & the Great Barrier Reef</td><td>null</td><td>2020</td><td>movie</td><td>United Kingdom</td><td>English</td><td>7.4</td><td>85.0</td><td>Action,Adventure,Animation</td></tr><tr><td>tt13276386</td><td>Shawn Mendes: In Wonder</td><td>16</td><td>2020</td><td>movie</td><td>United States</td><td>English</td><td>6.6</td><td>1734.0</td><td>Documentary,Music</td></tr><tr><td>tt12027020</td><td>LA Originals</td><td>null</td><td>2020</td><td>movie</td><td>United States</td><td>English</td><td>7.2</td><td>1600.0</td><td>Documentary</td></tr><tr><td>tt11378264</td><td>Mucho Mucho Amor: The Legend of Walter Mercado</td><td>13</td><td>2020</td><td>movie</td><td>United States</td><td>English</td><td>7.3</td><td>2876.0</td><td>Documentary</td></tr><tr><td>tt12759408</td><td>Octonauts and the Caves of Sac Actun</td><td>null</td><td>2020</td><td>movie</td><td>United Kingdom</td><td>English</td><td>6.2</td><td>116.0</td><td>Adventure,Animation,Comedy</td></tr><tr><td>tt12588448</td><td>The Larva Island Movie</td><td>null</td><td>2020</td><td>movie</td><td>South Korea</td><td>English</td><td>5.1</td><td>505.0</td><td>Adventure,Animation,Comedy</td></tr><tr><td>tt13610390</td><td>André & His Olive Tree</td><td>null</td><td>2020</td><td>movie</td><td>Singapore</td><td>English</td><td>6.8</td><td>148.0</td><td>Documentary</td></tr><tr><td>tt8741182</td><td>Dance Dreams: Hot Chocolate Nutcracker</td><td>7</td><td>2020</td><td>movie</td><td>United States</td><td>English</td><td>7.1</td><td>261.0</td><td>Documentary,Family</td></tr><tr><td>tt11642302</td><td>#cats_the_mewvie</td><td>null</td><td>2020</td><td>movie</td><td>Canada</td><td>English</td><td>5.3</td><td>407.0</td><td>Documentary</td></tr><tr><td>tt11394338</td><td>Giving Voice</td><td>13</td><td>2020</td><td>movie</td><td>United States</td><td>English</td><td>6.7</td><td>197.0</td><td>Documentary</td></tr><tr><td>tt11378154</td><td>The App That Stole Christmas</td><td>null</td><td>2020</td><td>movie</td><td>United States</td><td>English</td><td>3.6</td><td>301.0</td><td>Comedy</td></tr><tr><td>tt13528990</td><td>Shawn Mendes: Live in Concert</td><td>null</td><td>2020</td><td>movie</td><td>United Kingdom</td><td>English</td><td>7.4</td><td>200.0</td><td>Music</td></tr><tr><td>tt12692980</td><td>Thomas & Friends: Marvelous Machinery</td><td>null</td><td>2020</td><td>movie</td><td>Canada</td><td>English</td><td>7.0</td><td>6.0</td><td>Action,Adventure,Animation</td></tr><tr><td>tt12730310</td><td>The Magic School Bus Rides Again: Kids in Space</td><td>null</td><td>2020</td><td>movie</td><td>United States</td><td>English</td><td>6.2</td><td>51.0</td><td>Adventure,Animation,Comedy</td></tr><tr><td>tt12687448</td><td>Night on Earth: Shot in the Dark</td><td>null</td><td>2020</td><td>movie</td><td>United Kingdom</td><td>English</td><td>7.9</td><td>156.0</td><td>Documentary</td></tr><tr><td>tt6824530</td><td>United Nation Three Decades of Drum & Bass</td><td>null</td><td>2020</td><td>movie</td><td>United Kingdom</td><td>English</td><td>8.0</td><td>540.0</td><td>Documentary</td></tr><tr><td>tt8530796</td><td>Light in the Dark</td><td>null</td><td>2020</td><td>movie</td><td>Nigeria</td><td>English</td><td>6.0</td><td>24.0</td><td>Thriller</td></tr><tr><td>tt11710234</td><td>Pemburu di Manchester Biru</td><td>null</td><td>2020</td><td>movie</td><td>Indonesia</td><td>English</td><td>5.9</td><td>33.0</td><td>Biography,Drama</td></tr><tr><td>tt13161318</td><td>Bigflo & Oli: Hip Hop Frenzy</td><td>null</td><td>2020</td><td>movie</td><td>France</td><td>English</td><td>6.9</td><td>98.0</td><td>Documentary,Music</td></tr><tr><td>tt13034096</td><td>Horrid Henry's Gross Day Out</td><td>null</td><td>2020</td><td>movie</td><td>United Kingdom</td><td>English</td><td>6.2</td><td>33.0</td><td>Action,Adventure,Animation</td></tr><tr><td>tt11725176</td><td>Last days on Earth</td><td>null</td><td>2020</td><td>movie</td><td>United Kingdom</td><td>English</td><td>null</td><td>null</td><td>Documentary</td></tr></tbody></table></div>"
      ]
     },
     "metadata": {
      "application/vnd.databricks.v1+output": {
       "addedWidgets": {},
       "aggData": [],
       "aggError": "",
       "aggOverflow": false,
       "aggSchema": [],
       "aggSeriesLimitReached": false,
       "aggType": "",
       "arguments": {},
       "columnCustomDisplayInfos": {},
       "data": [
        [
         "tt0993840",
         "Army of the Dead",
         "18",
         "2021",
         "movie",
         "United States",
         "English",
         "5.8",
         "110780.0",
         "Action,Crime,Horror"
        ],
        [
         "tt6111574",
         "The Woman in the Window",
         "18",
         "2021",
         "movie",
         "United States",
         "English",
         "5.7",
         "46703.0",
         "Crime,Drama,Mystery"
        ],
        [
         "tt7979580",
         "The Mitchells vs the Machines",
         "13",
         "2021",
         "movie",
         "United States",
         "English",
         "7.8",
         "55762.0",
         "Adventure,Animation,Comedy"
        ],
        [
         "tt7084386",
         "Blue Miracle",
         "13",
         "2021",
         "movie",
         "United States",
         "English",
         "6.7",
         "2962.0",
         "Adventure,Biography,Drama"
        ],
        [
         "tt10962368",
         "Things Heard & Seen",
         "16",
         "2021",
         "movie",
         "United States",
         "English",
         "5.3",
         "20762.0",
         "Drama,Horror,Mystery"
        ],
        [
         "tt9203694",
         "Stowaway",
         "13",
         "2021",
         "movie",
         "Germany",
         "English",
         "5.6",
         "33501.0",
         "Drama,Sci-Fi,Thriller"
        ],
        [
         "tt11286314",
         "Don't Look Up",
         null,
         "2021",
         "movie",
         "United States",
         "English",
         null,
         null,
         "Comedy"
        ],
        [
         "tt9013182",
         "I Am All Girls",
         "16",
         "2021",
         "movie",
         "South Africa",
         "English",
         "5.8",
         "3283.0",
         "Crime,Drama,Mystery"
        ],
        [
         "tt9848626",
         "Hotel Transylvania: Transformania",
         null,
         "2021",
         "movie",
         "United States",
         "English",
         null,
         null,
         "Adventure,Animation,Comedy"
        ],
        [
         "tt3661210",
         "The Dig",
         "16",
         "2021",
         "movie",
         "United Kingdom",
         "English",
         "7.1",
         "56763.0",
         "Biography,Drama,History"
        ],
        [
         "tt10121392",
         "Thunder Force",
         "13",
         "2021",
         "movie",
         "United States",
         "English",
         "4.4",
         "33506.0",
         "Action,Adventure,Comedy"
        ],
        [
         "tt3758814",
         "The Ice Road",
         "PG-13",
         "2021",
         "movie",
         "United States",
         "English",
         null,
         null,
         "Thriller"
        ],
        [
         "tt8368408",
         "Gunpowder Milkshake",
         "R",
         "2021",
         "movie",
         "France",
         "English",
         null,
         null,
         "Action,Adventure,Thriller"
        ],
        [
         "tt6566576",
         "Fear Street",
         null,
         "2021",
         "movie",
         "United States",
         "English",
         null,
         null,
         "Horror,Mystery"
        ],
        [
         "tt12939812",
         "The Nailbomber",
         null,
         "2021",
         "movie",
         "United Kingdom",
         "English",
         "6.3",
         "1107.0",
         "Crime,Documentary,History"
        ],
        [
         "tt10418662",
         "Awake",
         "18",
         "2021",
         "movie",
         "United States",
         "English",
         "4.8",
         "2846.0",
         "Action,Adventure,Drama"
        ],
        [
         "tt6432466",
         "Moxie",
         "13",
         "2021",
         "movie",
         "United States",
         "English",
         "6.7",
         "18962.0",
         "Comedy,Drama,Music"
        ],
        [
         "tt8521876",
         "Yes Day",
         "7",
         "2021",
         "movie",
         "United States",
         "English",
         "5.7",
         "17536.0",
         "Comedy,Family"
        ],
        [
         "tt6733874",
         "America: The Motion Picture",
         null,
         "2021",
         "movie",
         "United States",
         "English",
         null,
         null,
         "Action,Adventure,Animation"
        ],
        [
         "tt10451914",
         "Outside the Wire",
         "18",
         "2021",
         "movie",
         "Hungary",
         "English",
         "5.4",
         "35882.0",
         "Action,Adventure,Fantasy"
        ],
        [
         "tt7991608",
         "Red Notice",
         null,
         "2021",
         "movie",
         "United States",
         "English",
         null,
         null,
         "Action,Comedy,Crime"
        ],
        [
         "tt9684220",
         "Bad Trip",
         "18",
         "2021",
         "movie",
         "United States",
         "English",
         "6.6",
         "18590.0",
         "Comedy"
        ],
        [
         "tt12676326",
         "Malcolm & Marie",
         "18",
         "2021",
         "movie",
         "United States",
         "English",
         "6.7",
         "28869.0",
         "Drama,Romance"
        ],
        [
         "tt10332588",
         "Finding 'Ohana",
         "7",
         "2021",
         "movie",
         "United States",
         "English",
         "6.1",
         "7636.0",
         "Action,Adventure,Comedy"
        ],
        [
         "tt4733624",
         "Fatherhood",
         "PG-13",
         "2021",
         "movie",
         "United States",
         "English",
         null,
         null,
         "Comedy,Drama"
        ],
        [
         "tt7897330",
         "Deadly Illusions",
         "18",
         "2021",
         "movie",
         "United States",
         "English",
         "3.6",
         "9808.0",
         "Drama,Thriller"
        ],
        [
         "tt6467266",
         "Sing 2",
         "PG",
         "2021",
         "movie",
         "France",
         "English",
         null,
         null,
         "Adventure,Animation,Comedy"
        ],
        [
         "tt11388278",
         "A Week Away",
         "13",
         "2021",
         "movie",
         "United States",
         "English",
         "5.7",
         "3247.0",
         "Drama,Family,Musical"
        ],
        [
         "tt1655389",
         "Blonde",
         null,
         "2021",
         "movie",
         "United States",
         "English",
         null,
         null,
         "Biography,Drama,Romance"
        ],
        [
         "tt4590256",
         "He's All That",
         null,
         "2021",
         "movie",
         "United States",
         "English",
         null,
         null,
         "Comedy,Romance"
        ],
        [
         "tt14152756",
         "Seaspiracy",
         "18",
         "2021",
         "movie",
         "United States",
         "English",
         "8.2",
         "23284.0",
         "Adventure,Documentary"
        ],
        [
         "tt13024674",
         "Army of Thieves",
         null,
         "2021",
         "movie",
         "Germany",
         "English",
         null,
         null,
         "Action,Crime,Horror"
        ],
        [
         "tt5562070",
         "Wish Dragon",
         "7",
         "2021",
         "movie",
         "China",
         "English",
         "6.9",
         "221.0",
         "Adventure,Animation,Comedy"
        ],
        [
         "tt10676012",
         "To All the Boys: Always and Forever",
         "13",
         "2021",
         "movie",
         "United States",
         "English",
         "6.3",
         "17605.0",
         "Comedy,Drama,Romance"
        ],
        [
         "tt8231668",
         "Good on Paper",
         "R",
         "2021",
         "movie",
         "United States",
         "English",
         null,
         null,
         "Comedy,Romance"
        ],
        [
         "tt9783600",
         "Escape From Spiderhead",
         null,
         "2021",
         "movie",
         "United States",
         "English",
         null,
         null,
         "Action,Mystery,Sci-Fi"
        ],
        [
         "tt1893273",
         "The Last Letter from Your Lover",
         null,
         "2021",
         "movie",
         "United Kingdom",
         "English",
         null,
         null,
         "Drama,Romance"
        ],
        [
         "tt12783454",
         "The Kissing Booth 3",
         null,
         "2021",
         "movie",
         "United Kingdom",
         "English",
         null,
         null,
         "Comedy,Romance"
        ],
        [
         "tt10731768",
         "Sweet Girl",
         "R",
         "2021",
         "movie",
         "United States",
         "English",
         null,
         null,
         "Action,Drama,Thriller"
        ],
        [
         "tt3447590",
         "Matilda",
         null,
         "2021",
         "movie",
         "United Kingdom",
         "English",
         null,
         null,
         "Comedy,Drama,Family"
        ],
        [
         "tt14539726",
         "Breaking Boundaries: The Science of Our Planet",
         "7",
         "2021",
         "movie",
         "United States",
         "English",
         "7.8",
         "475.0",
         "Documentary"
        ],
        [
         "tt8721424",
         "tick, tick...Boom!",
         null,
         "2021",
         "movie",
         "United States",
         "English",
         null,
         null,
         "Biography,Drama,Musical"
        ],
        [
         "tt13932162",
         "Secret Magic Control Agency",
         "7",
         "2021",
         "movie",
         "Russia",
         "English",
         "6.2",
         "2241.0",
         "Adventure,Animation,Comedy"
        ],
        [
         "tt6338498",
         "Vivo",
         "PG",
         "2021",
         "movie",
         "Canada",
         "English",
         null,
         null,
         "Adventure,Animation,Comedy"
        ],
        [
         "tt9421570",
         "The Guilty",
         "R",
         "2021",
         "movie",
         "United States",
         "English",
         null,
         null,
         "Crime,Drama,Thriller"
        ],
        [
         "tt10293406",
         "The Power of the Dog",
         null,
         "2021",
         "movie",
         "United Kingdom",
         "English",
         null,
         null,
         "Drama"
        ],
        [
         "tt6964940",
         "Skater Girl",
         "7",
         "2021",
         "movie",
         "United States",
         "English",
         null,
         null,
         "Drama,Family,Sport"
        ],
        [
         "tt14611368",
         "Trippin' with the Kandasamys",
         null,
         "2021",
         "movie",
         "South Africa",
         "English",
         "5.3",
         "146.0",
         "Comedy,Romance"
        ],
        [
         "tt12851396",
         "Trollhunters: Rise of the Titans",
         null,
         "2021",
         "movie",
         "United States",
         "English",
         null,
         null,
         "Action,Adventure,Animation"
        ],
        [
         "tt9701940",
         "Fear Street 2",
         null,
         "2021",
         "movie",
         "United States",
         "English",
         null,
         null,
         "Horror,Mystery"
        ],
        [
         "tt7737528",
         "Kate",
         "R",
         "2021",
         "movie",
         "United States",
         "English",
         null,
         null,
         "Action,Adventure,Crime"
        ],
        [
         "tt6714432",
         "The Loud House",
         null,
         "2021",
         "movie",
         "Spain",
         "English",
         null,
         null,
         "Action,Adventure,Animation"
        ],
        [
         "tt14111734",
         "Operation Varsity Blues: The College Admissions Scandal",
         "13",
         "2021",
         "movie",
         "United States",
         "English",
         "7.0",
         "6284.0",
         "Crime,Documentary,Drama"
        ],
        [
         "tt6076668",
         "Hating Peter Tatchell",
         null,
         "2021",
         "movie",
         "Australia",
         "English",
         "7.5",
         "244.0",
         "Documentary"
        ],
        [
         "tt9701942",
         "Fear Street 3",
         null,
         "2021",
         "movie",
         "United States",
         "English",
         null,
         null,
         "Horror,Mystery"
        ],
        [
         "tt10696784",
         "The Harder They Fall",
         null,
         "2021",
         "movie",
         "United States",
         "English",
         null,
         null,
         "Drama,Western"
        ],
        [
         "tt8893974",
         "Passing",
         "PG-13",
         "2021",
         "movie",
         "United Kingdom",
         "English",
         "7.1",
         "182.0",
         "Drama"
        ],
        [
         "tt7475578",
         "Munich",
         null,
         "2021",
         "movie",
         "United Kingdom",
         "English",
         null,
         null,
         "Biography,Drama,History"
        ],
        [
         "tt10187208",
         "A Boy Called Christmas",
         null,
         "2021",
         "movie",
         "United Kingdom",
         "English",
         null,
         null,
         "Adventure,Drama,Family"
        ],
        [
         "tt14307536",
         "A Jazzman's Blues",
         null,
         "2021",
         "movie",
         "United States",
         "English",
         null,
         null,
         "Drama"
        ],
        [
         "tt11233960",
         "Untitled Sandra Bullock/Nora Fingscheidt Project",
         null,
         "2021",
         "movie",
         "United Kingdom",
         "English",
         null,
         null,
         "Drama"
        ],
        [
         "tt10763820",
         "Night Teeth",
         null,
         "2021",
         "movie",
         "United States",
         "English",
         null,
         null,
         "Thriller"
        ],
        [
         "tt14369930",
         "In Our Mothers' Gardens",
         null,
         "2021",
         "movie",
         "United States",
         "English",
         "8.9",
         "51.0",
         "Documentary"
        ],
        [
         "tt11657662",
         "The Witcher: Nightmare of the Wolf",
         null,
         "2021",
         "movie",
         "United States",
         "English",
         null,
         null,
         "Action,Adventure,Animation"
        ],
        [
         "tt13575806",
         "Back to the Outback",
         null,
         "2021",
         "movie",
         "United States",
         "English",
         null,
         null,
         "Adventure,Animation,Comedy"
        ],
        [
         "tt8150814",
         "There's Someone Inside Your House",
         null,
         "2021",
         "movie",
         "United States",
         "English",
         null,
         null,
         "Horror,Thriller"
        ],
        [
         "tt14058484",
         "Biggie: I Got a Story to Tell",
         "18",
         "2021",
         "movie",
         "United States",
         "English",
         "6.9",
         "4135.0",
         "Biography,Documentary,Music"
        ],
        [
         "tt12141112",
         "Metal Lords",
         null,
         "2021",
         "movie",
         "United States",
         "English",
         null,
         null,
         "Drama,Music"
        ],
        [
         "tt13842562",
         "Pelé",
         "13",
         "2021",
         "movie",
         "United Kingdom",
         "English",
         "7.0",
         "3268.0",
         "Biography,Documentary,Sport"
        ],
        [
         "tt13583144",
         "The Minimalists: Less Is Now",
         "13",
         "2021",
         "movie",
         "United States",
         "English",
         "5.9",
         "3238.0",
         "Documentary"
        ],
        [
         "tt11364112",
         "Beauty",
         null,
         "2021",
         "movie",
         "United States",
         "English",
         null,
         null,
         "Drama,Romance"
        ],
        [
         "tt14731142",
         "The Princess Switch 3",
         null,
         "2021",
         "movie",
         "United States",
         "English",
         null,
         null,
         "Comedy,Drama,Family"
        ],
        [
         "tt10752004",
         "Love Hard",
         null,
         "2021",
         "movie",
         "United States",
         "English",
         null,
         null,
         "Comedy,Romance"
        ],
        [
         "tt13787118",
         "Strip Down, Rise Up",
         "18",
         "2021",
         "movie",
         "United States",
         "English",
         "5.2",
         "492.0",
         "Documentary"
        ],
        [
         "tt9784708",
         "Rise of the Teenage Mutant Ninja Turtles",
         null,
         "2021",
         "movie",
         "United States",
         "English",
         null,
         null,
         "Action,Adventure,Animation"
        ],
        [
         "tt10521144",
         "Nightbooks",
         null,
         "2021",
         "movie",
         "United States",
         "English",
         null,
         null,
         "Family,Fantasy,Horror"
        ],
        [
         "tt13649700",
         "Crack: Cocaine, Corruption & Conspiracy",
         "18",
         "2021",
         "movie",
         "United States",
         "English",
         "6.7",
         "2640.0",
         "Crime,Documentary,History"
        ],
        [
         "tt13873302",
         "Against the Ice",
         null,
         "2021",
         "movie",
         "United States",
         "English",
         null,
         null,
         "Adventure,Drama,History"
        ],
        [
         "tt12929990",
         "Resort to Love",
         null,
         "2021",
         "movie",
         "United States",
         "English",
         null,
         null,
         "Comedy,Romance"
        ],
        [
         "tt13070602",
         "A Castle for Christmas",
         null,
         "2021",
         "movie",
         "United States",
         "English",
         null,
         null,
         "Adventure,Comedy,Family"
        ],
        [
         "tt11224358",
         "Pray Away",
         null,
         "2021",
         "movie",
         "United States",
         "English",
         null,
         null,
         "Documentary"
        ],
        [
         "tt14315756",
         "Single All the Way",
         null,
         "2021",
         "movie",
         "United States",
         "English",
         null,
         null,
         "Comedy,Drama,Romance"
        ],
        [
         "tt9337574",
         "Sisters on Track",
         "PG",
         "2021",
         "movie",
         "United States",
         "English",
         null,
         null,
         "Documentary,Sport"
        ],
        [
         "tt5563324",
         "Intrusion",
         null,
         "2021",
         "movie",
         "United States",
         "English",
         null,
         null,
         "Thriller"
        ],
        [
         "tt13947978",
         "Accomplice",
         null,
         "2021",
         "movie",
         "United States",
         "English",
         "7.3",
         "193.0",
         "Documentary"
        ],
        [
         "tt12383460",
         "Hypnotic",
         null,
         "2021",
         "movie",
         "United States",
         "English",
         null,
         null,
         "Horror,Thriller"
        ],
        [
         "tt12885272",
         "Diana",
         "PG-13",
         "2021",
         "movie",
         "United States",
         "English",
         null,
         null,
         "Biography,Drama,Musical"
        ],
        [
         "tt14684160",
         "Headspace: Unwind Your Mind",
         "All",
         "2021",
         "movie",
         "United States",
         "English",
         null,
         null,
         "Animation,Documentary"
        ],
        [
         "tt14539744",
         "Bob Ross: Happy Accidents, Betrayal & Greed",
         null,
         "2021",
         "movie",
         "United States",
         "English",
         null,
         null,
         "Documentary"
        ],
        [
         "tt13666778",
         "Kane Chonicles",
         null,
         "2021",
         "movie",
         "United States",
         "English",
         null,
         null,
         "Adventure"
        ],
        [
         "tt13266974",
         "Untitled Netflix Family Comedy 2021",
         null,
         "2021",
         "movie",
         "United States",
         "English",
         null,
         null,
         "Comedy"
        ],
        [
         "tt11893274",
         "Untitled Boeing 737 Max/Rory Kennedy Project",
         null,
         "2021",
         "movie",
         "United States",
         "English",
         null,
         null,
         "Documentary"
        ],
        [
         "tt14307890",
         "Happiness Ever After",
         null,
         "2021",
         "movie",
         "South Africa",
         "English",
         null,
         null,
         "Drama,Romance"
        ],
        [
         "tt2222042",
         "Love and Monsters",
         "13",
         "2020",
         "movie",
         "Canada",
         "English",
         "7.0",
         "91971.0",
         "Action,Adventure,Comedy"
        ],
        [
         "tt9893250",
         "I Care a Lot",
         "18",
         "2020",
         "movie",
         "United States",
         "English",
         "6.3",
         "101431.0",
         "Comedy,Crime,Thriller"
        ],
        [
         "tt8580274",
         "Eurovision Song Contest: The Story of Fire Saga",
         "PG-13",
         "2020",
         "movie",
         "United States",
         "English",
         "6.5",
         "82411.0",
         "Comedy,Music"
        ],
        [
         "tt7395114",
         "The Devil All the Time",
         "18",
         "2020",
         "movie",
         "United States",
         "English",
         "7.1",
         "105158.0",
         "Crime,Drama,Thriller"
        ],
        [
         "tt1838556",
         "Honest Thief",
         "PG-13",
         "2020",
         "movie",
         "United States",
         "English",
         "6.0",
         "36583.0",
         "Action,Crime,Drama"
        ],
        [
         "tt8633478",
         "Run",
         "PG-13",
         "2020",
         "movie",
         "United States",
         "English",
         "6.7",
         "50255.0",
         "Mystery,Thriller"
        ],
        [
         "tt6878306",
         "News of the World",
         "16",
         "2020",
         "movie",
         "United States",
         "English",
         "6.8",
         "65228.0",
         "Action,Adventure,Drama"
        ],
        [
         "tt7846844",
         "Enola Holmes",
         "13",
         "2020",
         "movie",
         "United Kingdom",
         "English",
         "6.6",
         "140708.0",
         "Action,Adventure,Crime"
        ],
        [
         "tt1070874",
         "The Trial of the Chicago 7",
         "18",
         "2020",
         "movie",
         "United States",
         "English",
         "7.8",
         "147967.0",
         "Drama,History,Thriller"
        ],
        [
         "tt4779326",
         "The Water Man",
         "PG",
         "2020",
         "movie",
         "United States",
         "English",
         "4.9",
         "565.0",
         "Adventure,Drama,Family"
        ],
        [
         "tt9820556",
         "Breach",
         "R",
         "2020",
         "movie",
         "Canada",
         "English",
         "2.9",
         "7561.0",
         "Action,Sci-Fi"
        ],
        [
         "tt7556122",
         "The Old Guard",
         "18",
         "2020",
         "movie",
         "United States",
         "English",
         "6.7",
         "137367.0",
         "Action,Adventure,Fantasy"
        ],
        [
         "tt8936646",
         "Extraction",
         "18",
         "2020",
         "movie",
         "United States",
         "English",
         "6.7",
         "169609.0",
         "Action,Thriller"
        ],
        [
         "tt8629748",
         "Spenser Confidential",
         "18",
         "2020",
         "movie",
         "United States",
         "English",
         "6.2",
         "75475.0",
         "Action,Comedy,Crime"
        ],
        [
         "tt10618286",
         "Mank",
         "16",
         "2020",
         "movie",
         "United States",
         "English",
         "6.9",
         "61633.0",
         "Biography,Comedy,Drama"
        ],
        [
         "tt6772802",
         "Hillbilly Elegy",
         "18",
         "2020",
         "movie",
         "United States",
         "English",
         "6.7",
         "35778.0",
         "Drama"
        ],
        [
         "tt2235695",
         "Rebecca",
         "18",
         "2020",
         "movie",
         "United Kingdom",
         "English",
         "6.0",
         "34569.0",
         "Drama,Mystery,Romance"
        ],
        [
         "tt7939766",
         "I'm Thinking of Ending Things",
         "16",
         "2020",
         "movie",
         "United States",
         "English",
         "6.6",
         "69398.0",
         "Drama,Thriller"
        ],
        [
         "tt11161474",
         "Pieces of a Woman",
         "18",
         "2020",
         "movie",
         "Canada",
         "English",
         "7.1",
         "40086.0",
         "Drama"
        ],
        [
         "tt12888462",
         "My Octopus Teacher",
         "7",
         "2020",
         "movie",
         "South Africa",
         "English",
         "8.1",
         "38740.0",
         "Documentary"
        ],
        [
         "tt0983946",
         "Fantasy Island",
         "A",
         "2020",
         "movie",
         "United States",
         "English",
         "4.9",
         "40351.0",
         "Action,Adventure,Fantasy"
        ],
        [
         "tt9619798",
         "The Wrong Missy",
         "18",
         "2020",
         "movie",
         "United States",
         "English",
         "5.7",
         "34222.0",
         "Comedy,Romance"
        ],
        [
         "tt10539608",
         "The Midnight Sky",
         "13",
         "2020",
         "movie",
         "United States",
         "English",
         "5.6",
         "74470.0",
         "Drama,Fantasy,Sci-Fi"
        ],
        [
         "tt10600398",
         "We Can Be Heroes",
         "7",
         "2020",
         "movie",
         "United States",
         "English",
         "4.7",
         "11673.0",
         "Action,Comedy,Drama"
        ],
        [
         "tt7550000",
         "Project Power",
         "16",
         "2020",
         "movie",
         "United States",
         "English",
         "6.0",
         "75538.0",
         "Action,Crime,Sci-Fi"
        ],
        [
         "tt11024272",
         "The Babysitter: Killer Queen",
         "18",
         "2020",
         "movie",
         "United States",
         "English",
         "5.8",
         "29703.0",
         "Comedy,Horror"
        ],
        [
         "tt8508734",
         "His House",
         "16",
         "2020",
         "movie",
         "United Kingdom",
         "English",
         "6.5",
         "30212.0",
         "Drama,Horror,Thriller"
        ],
        [
         "tt10514222",
         "Ma Rainey's Black Bottom",
         "16",
         "2020",
         "movie",
         "United States",
         "English",
         "7.0",
         "43065.0",
         "Drama,Music"
        ],
        [
         "tt10682266",
         "Hubie Halloween",
         "13",
         "2020",
         "movie",
         "United States",
         "English",
         "5.2",
         "41175.0",
         "Comedy,Mystery"
        ],
        [
         "tt8846176",
         "Concrete Cowboy",
         "16",
         "2020",
         "movie",
         "United Kingdom",
         "English",
         "6.3",
         "6320.0",
         "Drama"
        ],
        [
         "tt3907584",
         "All the Bright Places",
         "18",
         "2020",
         "movie",
         "United States",
         "English",
         "6.5",
         "23088.0",
         "Drama,Romance"
        ],
        [
         "tt9866072",
         "Holidate",
         "16",
         "2020",
         "movie",
         "United States",
         "English",
         "6.1",
         "49581.0",
         "Comedy,Romance"
        ],
        [
         "tt1918734",
         "2067",
         null,
         "2020",
         "movie",
         "Australia",
         "English",
         "4.9",
         "6376.0",
         "Sci-Fi"
        ],
        [
         "tt10308928",
         "Force of Nature",
         "A",
         "2020",
         "movie",
         "United States",
         "English",
         "4.5",
         "8425.0",
         "Action,Crime,Drama"
        ],
        [
         "tt9777644",
         "Da 5 Bloods",
         "18",
         "2020",
         "movie",
         "United States",
         "English",
         "6.5",
         "45651.0",
         "Adventure,Drama,War"
        ],
        [
         "tt4823776",
         "The SpongeBob Movie: Sponge on the Run",
         "7",
         "2020",
         "movie",
         "United States",
         "English",
         "6.0",
         "13393.0",
         "Adventure,Animation,Comedy"
        ],
        [
         "tt12139700",
         "Jungle Beat: The Movie",
         "G",
         "2020",
         "movie",
         "Mauritius",
         "English",
         "5.5",
         "658.0",
         "Adventure,Animation,Comedy"
        ],
        [
         "tt6317656",
         "Penguin Bloom",
         "13",
         "2020",
         "movie",
         "Australia",
         "English",
         "6.8",
         "6338.0",
         "Drama"
        ],
        [
         "tt7488208",
         "Over the Moon",
         "7",
         "2020",
         "movie",
         "China",
         "English",
         "6.4",
         "17434.0",
         "Adventure,Animation,Comedy"
        ],
        [
         "tt5096470",
         "Love Wedding Repeat",
         "18",
         "2020",
         "movie",
         "United Kingdom",
         "English",
         "5.5",
         "18362.0",
         "Comedy,Romance"
        ],
        [
         "tt10161886",
         "The Prom",
         "13",
         "2020",
         "movie",
         "United States",
         "English",
         "5.9",
         "23847.0",
         "Comedy,Drama,Musical"
        ],
        [
         "tt9784456",
         "The Kissing Booth 2",
         "13",
         "2020",
         "movie",
         "United Kingdom",
         "English",
         "5.8",
         "22962.0",
         "Comedy,Romance"
        ],
        [
         "tt3111426",
         "Lost Girls",
         "R",
         "2020",
         "movie",
         "United States",
         "English",
         "6.1",
         "18335.0",
         "Drama,Mystery,Thriller"
        ],
        [
         "tt7970348",
         "The Stand In",
         "R",
         "2020",
         "movie",
         "United States",
         "English",
         "4.6",
         "2453.0",
         "Comedy,Drama"
        ],
        [
         "tt7456312",
         "The Last Thing He Wanted",
         "18",
         "2020",
         "movie",
         "United States",
         "English",
         "4.3",
         "13387.0",
         "Crime,Drama,Thriller"
        ],
        [
         "tt11464826",
         "The Social Dilemma",
         "13",
         "2020",
         "movie",
         "United States",
         "English",
         "7.6",
         "70972.0",
         "Documentary,Drama"
        ],
        [
         "tt11388406",
         "Horse Girl",
         "18",
         "2020",
         "movie",
         "United States",
         "English",
         "5.9",
         "15514.0",
         "Drama,Mystery,Thriller"
        ],
        [
         "tt10888708",
         "The Sleepover",
         "7",
         "2020",
         "movie",
         "United States",
         "English",
         "5.6",
         "8710.0",
         "Action,Adventure,Comedy"
        ],
        [
         "tt10199914",
         "The Boys in the Band",
         "18",
         "2020",
         "movie",
         "United States",
         "English",
         "6.8",
         "12731.0",
         "Drama"
        ],
        [
         "tt1552211",
         "The Last Days of American Crime",
         "18",
         "2020",
         "movie",
         "United States",
         "English",
         "3.7",
         "10109.0",
         "Action,Crime,Drama"
        ],
        [
         "tt11100856",
         "Love, Guaranteed",
         "7",
         "2020",
         "movie",
         "United States",
         "English",
         "5.6",
         "14835.0",
         "Comedy,Romance"
        ],
        [
         "tt5206260",
         "The Willoughbys",
         "7",
         "2020",
         "movie",
         "Canada",
         "English",
         "6.4",
         "14757.0",
         "Adventure,Animation,Comedy"
        ],
        [
         "tt10714856",
         "Feel the Beat",
         "7",
         "2020",
         "movie",
         "United States",
         "English",
         "6.3",
         "9062.0",
         "Comedy,Drama,Family"
        ],
        [
         "tt12987894",
         "American Murder: The Family Next Door",
         "16",
         "2020",
         "movie",
         "United States",
         "English",
         "7.2",
         "21242.0",
         "Crime,Documentary"
        ],
        [
         "tt10276470",
         "Work It",
         "13",
         "2020",
         "movie",
         "United States",
         "English",
         "6.1",
         "10490.0",
         "Comedy,Music"
        ],
        [
         "tt8851668",
         "The Lovebirds",
         "18",
         "2020",
         "movie",
         "United States",
         "English",
         "6.1",
         "22436.0",
         "Action,Comedy,Crime"
        ],
        [
         "tt10303430",
         "Sightless",
         "16",
         "2020",
         "movie",
         "United States",
         "English",
         "5.5",
         "6022.0",
         "Drama,Thriller"
        ],
        [
         "tt10183816",
         "Dangerous Lies",
         "13",
         "2020",
         "movie",
         "United States",
         "English",
         "5.3",
         "15040.0",
         "Drama,Mystery,Thriller"
        ],
        [
         "tt8145202",
         "The F**k-It List",
         null,
         "2020",
         "movie",
         "United States",
         "English",
         "5.1",
         "4934.0",
         "Comedy"
        ],
        [
         "tt11390036",
         "A Fall from Grace",
         null,
         "2020",
         "movie",
         "United States",
         "English",
         "5.9",
         "13018.0",
         "Drama,Fantasy,Thriller"
        ],
        [
         "tt8976576",
         "Vampires vs. the Bronx",
         "13",
         "2020",
         "movie",
         "United States",
         "English",
         "5.6",
         "8181.0",
         "Comedy,Horror"
        ],
        [
         "tt5929654",
         "Think Like a Dog",
         "PG",
         "2020",
         "movie",
         "China",
         "English",
         "5.2",
         "1266.0",
         "Comedy,Drama,Family"
        ],
        [
         "tt9354842",
         "To All the Boys: P.S. I Still Love You",
         "13",
         "2020",
         "movie",
         "United States",
         "English",
         "6.0",
         "31232.0",
         "Comedy,Drama,Romance"
        ],
        [
         "tt1545304",
         "Desperados",
         "16",
         "2020",
         "movie",
         "United States",
         "English",
         "5.2",
         "9090.0",
         "Comedy,Romance"
        ],
        [
         "tt4844150",
         "A Babysitter's Guide to Monster Hunting",
         "7",
         "2020",
         "movie",
         "United States",
         "English",
         "5.4",
         "3270.0",
         "Comedy,Family,Fantasy"
        ],
        [
         "tt8750570",
         "Sergio",
         "18",
         "2020",
         "movie",
         "United States",
         "English",
         "6.1",
         "8668.0",
         "Biography,Drama,History"
        ],
        [
         "tt8523028",
         "Roped",
         "PG",
         "2020",
         "movie",
         "United States",
         "English",
         "5.4",
         "1081.0",
         "Drama,Romance"
        ],
        [
         "tt11989890",
         "David Attenborough: A Life on Our Planet",
         "13",
         "2020",
         "movie",
         "United Kingdom",
         "English",
         "9.0",
         "27666.0",
         "Biography,Documentary"
        ],
        [
         "tt10933680",
         "The Debt Collector 2",
         null,
         "2020",
         "movie",
         "United States",
         "English",
         "5.8",
         "3412.0",
         "Action,Comedy"
        ],
        [
         "tt13055780",
         "A California Christmas",
         "16",
         "2020",
         "movie",
         "United States",
         "English",
         "5.8",
         "6793.0",
         "Comedy,Drama,Romance"
        ],
        [
         "tt3155342",
         "All Together Now",
         "13",
         "2020",
         "movie",
         "United States",
         "English",
         "6.5",
         "3357.0",
         "Drama"
        ],
        [
         "tt11057644",
         "The Christmas Chronicles: Part Two",
         "7",
         "2020",
         "movie",
         "United States",
         "English",
         "6.0",
         "24065.0",
         "Adventure,Comedy,Family"
        ],
        [
         "tt11199410",
         "The Princess Switch: Switched Again",
         "7",
         "2020",
         "movie",
         "United States",
         "English",
         "5.4",
         "8108.0",
         "Comedy,Drama,Family"
        ],
        [
         "tt8923484",
         "Crip Camp",
         "R",
         "2020",
         "movie",
         "United States",
         "English",
         "7.7",
         "6150.0",
         "Documentary"
        ],
        [
         "tt7562334",
         "Lady Driver",
         "PG",
         "2020",
         "movie",
         "United States",
         "English",
         "5.9",
         "1055.0",
         "Sport"
        ],
        [
         "tt9898858",
         "Coffee & Kareem",
         "18",
         "2020",
         "movie",
         "United States",
         "English",
         "5.1",
         "12250.0",
         "Action,Comedy,Crime"
        ],
        [
         "tt11057594",
         "Fatal Affair",
         "16",
         "2020",
         "movie",
         "United States",
         "English",
         "4.5",
         "5115.0",
         "Thriller"
        ],
        [
         "tt9735976",
         "Wheels of Fortune",
         "R",
         "2020",
         "movie",
         "United States",
         "English",
         "5.4",
         "572.0",
         "Comedy"
        ],
        [
         "tt8618654",
         "Kiss the Ground",
         "7",
         "2020",
         "movie",
         "United States",
         "English",
         "8.3",
         "5523.0",
         "Documentary"
        ],
        [
         "tt10642834",
         "The Forty-Year-Old Version",
         "18",
         "2020",
         "movie",
         "United States",
         "English",
         "7.2",
         "4173.0",
         "Comedy,Drama"
        ],
        [
         "tt10540242",
         "The Main Event",
         "All",
         "2020",
         "movie",
         "United States",
         "English",
         "4.8",
         "1970.0",
         "Action,Comedy,Family"
        ],
        [
         "tt11994750",
         "Made You Look: A True Story About Fake Art",
         null,
         "2020",
         "movie",
         "Canada",
         "English",
         "7.0",
         "2839.0",
         "Crime,Documentary"
        ],
        [
         "tt13297136",
         "The Fisherman's Diary",
         null,
         "2020",
         "movie",
         "Cameroon",
         "English",
         "6.5",
         "425.0",
         "Drama"
        ],
        [
         "tt10230414",
         "Serious Men",
         "16",
         "2020",
         "movie",
         "India",
         "English",
         "6.8",
         "6355.0",
         "Comedy,Drama"
        ],
        [
         "tt9261218",
         "Uncorked",
         null,
         "2020",
         "movie",
         "United States",
         "English",
         "6.3",
         "4703.0",
         "Drama"
        ],
        [
         "tt13318052",
         "Midnight at the Magnolia",
         "All",
         "2020",
         "movie",
         "Canada",
         "English",
         "5.8",
         "4254.0",
         "Comedy,Romance"
        ],
        [
         "tt3993886",
         "All Day and a Night",
         "R",
         "2020",
         "movie",
         "United States",
         "English",
         "5.8",
         "3192.0",
         "Drama"
        ],
        [
         "tt13236566",
         "Operation Christmas Drop",
         "7",
         "2020",
         "movie",
         "United States",
         "English",
         "5.8",
         "9467.0",
         "Comedy,Family,Romance"
        ],
        [
         "tt7736496",
         "Jingle Jangle: A Christmas Journey",
         "PG",
         "2020",
         "movie",
         "United States",
         "English",
         "6.5",
         "15880.0",
         "Family,Fantasy,Musical"
        ],
        [
         "tt8310474",
         "Bruised",
         null,
         "2020",
         "movie",
         "United States",
         "English",
         "7.2",
         "38.0",
         "Drama,Sport"
        ],
        [
         "tt8009744",
         "What Is Life Worth",
         "PG-13",
         "2020",
         "movie",
         "United States",
         "English",
         "6.9",
         "235.0",
         "Biography,Drama,History"
        ],
        [
         "tt12133722",
         "Have a Good Trip: Adventures in Psychedelics",
         null,
         "2020",
         "movie",
         "United States",
         "English",
         "6.8",
         "6576.0",
         "Comedy,Documentary"
        ],
        [
         "tt8972556",
         "I Am Vengeance: Retaliation",
         "R",
         "2020",
         "movie",
         "United Kingdom",
         "English",
         "3.5",
         "977.0",
         "Action"
        ],
        [
         "tt11388580",
         "Miss Americana",
         null,
         "2020",
         "movie",
         "United States",
         "English",
         "7.4",
         "16787.0",
         "Biography,Documentary,Music"
        ],
        [
         "tt11394180",
         "Dick Johnson Is Dead",
         "13",
         "2020",
         "movie",
         "United States",
         "English",
         "7.5",
         "5209.0",
         "Documentary,Drama"
        ],
        [
         "tt6693156",
         "You Are My Home",
         null,
         "2020",
         "movie",
         "United States",
         "English",
         "6.5",
         "343.0",
         "Animation,Family,Fantasy"
        ],
        [
         "tt8902948",
         "Tigertail",
         "13",
         "2020",
         "movie",
         "United States",
         "English",
         "6.5",
         "3225.0",
         "Drama"
        ],
        [
         "tt8116640",
         "Go!",
         null,
         "2020",
         "movie",
         "Australia",
         "English",
         "5.9",
         "2317.0",
         "Family,Sport"
        ],
        [
         "tt11905462",
         "Athlete A",
         "13",
         "2020",
         "movie",
         "United States",
         "English",
         "7.6",
         "8369.0",
         "Crime,Documentary,Sport"
        ],
        [
         "tt13150630",
         "Secrets of the Saqqara Tomb",
         "13",
         "2020",
         "movie",
         "United States",
         "English",
         "7.3",
         "5195.0",
         "Documentary,History"
        ],
        [
         "tt10329566",
         "Ricos de Amor",
         "13",
         "2020",
         "movie",
         "Brazil",
         "English",
         "5.8",
         "2213.0",
         "Comedy,Romance"
        ],
        [
         "tt3260524",
         "A Secret Love",
         null,
         "2020",
         "movie",
         "United States",
         "English",
         "7.9",
         "3668.0",
         "Documentary,Drama"
        ],
        [
         "tt13615386",
         "Ariana Grande: Excuse Me, I Love You",
         "16",
         "2020",
         "movie",
         "United States",
         "English",
         "6.4",
         "2009.0",
         "Documentary,Music"
        ],
        [
         "tt11032990",
         "Malibu Rescue: The Next Wave",
         null,
         "2020",
         "movie",
         "United States",
         "English",
         "4.8",
         "635.0",
         "Action,Comedy,Family"
        ],
        [
         "tt12423052",
         "Namaste Wahala",
         "13",
         "2020",
         "movie",
         "Nigeria",
         "English",
         "5.1",
         "820.0",
         "Drama,Romance"
        ],
        [
         "tt11481312",
         "Citation",
         "16",
         "2020",
         "movie",
         "Nigeria",
         "English",
         "6.2",
         "844.0",
         "Drama,Thriller"
        ],
        [
         "tt11380884",
         "Farewell Amor",
         null,
         "2020",
         "movie",
         "United States",
         "English",
         "6.9",
         "867.0",
         "Drama,Music,Romance"
        ],
        [
         "tt13345636",
         "Funny Boy",
         null,
         "2020",
         "movie",
         "Canada",
         "English",
         "5.8",
         "759.0",
         "Drama"
        ],
        [
         "tt10768194",
         "A New York Christmas Wedding",
         null,
         "2020",
         "movie",
         "United States",
         "English",
         "5.4",
         "835.0",
         "Drama,Romance"
        ],
        [
         "tt10627548",
         "Christmas on the Square",
         "13",
         "2020",
         "movie",
         "United States",
         "English",
         "5.2",
         "2194.0",
         "Comedy,Family,Musical"
        ],
        [
         "tt11010144",
         "Seriously Single",
         null,
         "2020",
         "movie",
         "South Africa",
         "English",
         "4.5",
         "1124.0",
         "Comedy,Romance"
        ],
        [
         "tt10851618",
         "Rising Phoenix",
         "13",
         "2020",
         "movie",
         "United Kingdom",
         "English",
         "8.1",
         "1334.0",
         "Documentary,Sport"
        ],
        [
         "tt5244812",
         "Riding Faith",
         null,
         "2020",
         "movie",
         "United States",
         "English",
         "4.4",
         "174.0",
         "Family"
        ],
        [
         "tt9050898",
         "Murder to Mercy: The Cyntoia Brown Story",
         null,
         "2020",
         "movie",
         "United States",
         "English",
         "6.4",
         "2278.0",
         "Documentary"
        ],
        [
         "tt12221748",
         "Becoming",
         "7",
         "2020",
         "movie",
         "United States",
         "English",
         "6.8",
         "5835.0",
         "Documentary"
        ],
        [
         "tt11843712",
         "Not a Game",
         null,
         "2020",
         "movie",
         "United Kingdom",
         "English",
         "5.6",
         "395.0",
         "Documentary"
        ],
        [
         "tt12767498",
         "Barbie Princess Adventure",
         null,
         "2020",
         "movie",
         "Netherlands",
         "English",
         "5.6",
         "246.0",
         "Animation,Musical"
        ],
        [
         "tt13260836",
         "Angela's Christmas Wish",
         "U",
         "2020",
         "movie",
         "United States",
         "English",
         "7.1",
         "1046.0",
         "Adventure,Animation,Family"
        ],
        [
         "tt12187586",
         "Father Soldier Son",
         "16",
         "2020",
         "movie",
         "United States",
         "English",
         "7.3",
         "798.0",
         "Documentary,War"
        ],
        [
         "tt5862338",
         "Uppity: The Willy T. Ribbs Story",
         null,
         "2020",
         "movie",
         "United States",
         "English",
         "7.9",
         "583.0",
         "Documentary"
        ],
        [
         "tt11953628",
         "Maska",
         "16",
         "2020",
         "movie",
         "India",
         "English",
         "5.8",
         "1312.0",
         "Comedy,Drama,Romance"
        ],
        [
         "tt13150606",
         "Octonauts & the Great Barrier Reef",
         null,
         "2020",
         "movie",
         "United Kingdom",
         "English",
         "7.4",
         "85.0",
         "Action,Adventure,Animation"
        ],
        [
         "tt13276386",
         "Shawn Mendes: In Wonder",
         "16",
         "2020",
         "movie",
         "United States",
         "English",
         "6.6",
         "1734.0",
         "Documentary,Music"
        ],
        [
         "tt12027020",
         "LA Originals",
         null,
         "2020",
         "movie",
         "United States",
         "English",
         "7.2",
         "1600.0",
         "Documentary"
        ],
        [
         "tt11378264",
         "Mucho Mucho Amor: The Legend of Walter Mercado",
         "13",
         "2020",
         "movie",
         "United States",
         "English",
         "7.3",
         "2876.0",
         "Documentary"
        ],
        [
         "tt12759408",
         "Octonauts and the Caves of Sac Actun",
         null,
         "2020",
         "movie",
         "United Kingdom",
         "English",
         "6.2",
         "116.0",
         "Adventure,Animation,Comedy"
        ],
        [
         "tt12588448",
         "The Larva Island Movie",
         null,
         "2020",
         "movie",
         "South Korea",
         "English",
         "5.1",
         "505.0",
         "Adventure,Animation,Comedy"
        ],
        [
         "tt13610390",
         "André & His Olive Tree",
         null,
         "2020",
         "movie",
         "Singapore",
         "English",
         "6.8",
         "148.0",
         "Documentary"
        ],
        [
         "tt8741182",
         "Dance Dreams: Hot Chocolate Nutcracker",
         "7",
         "2020",
         "movie",
         "United States",
         "English",
         "7.1",
         "261.0",
         "Documentary,Family"
        ],
        [
         "tt11642302",
         "#cats_the_mewvie",
         null,
         "2020",
         "movie",
         "Canada",
         "English",
         "5.3",
         "407.0",
         "Documentary"
        ],
        [
         "tt11394338",
         "Giving Voice",
         "13",
         "2020",
         "movie",
         "United States",
         "English",
         "6.7",
         "197.0",
         "Documentary"
        ],
        [
         "tt11378154",
         "The App That Stole Christmas",
         null,
         "2020",
         "movie",
         "United States",
         "English",
         "3.6",
         "301.0",
         "Comedy"
        ],
        [
         "tt13528990",
         "Shawn Mendes: Live in Concert",
         null,
         "2020",
         "movie",
         "United Kingdom",
         "English",
         "7.4",
         "200.0",
         "Music"
        ],
        [
         "tt12692980",
         "Thomas & Friends: Marvelous Machinery",
         null,
         "2020",
         "movie",
         "Canada",
         "English",
         "7.0",
         "6.0",
         "Action,Adventure,Animation"
        ],
        [
         "tt12730310",
         "The Magic School Bus Rides Again: Kids in Space",
         null,
         "2020",
         "movie",
         "United States",
         "English",
         "6.2",
         "51.0",
         "Adventure,Animation,Comedy"
        ],
        [
         "tt12687448",
         "Night on Earth: Shot in the Dark",
         null,
         "2020",
         "movie",
         "United Kingdom",
         "English",
         "7.9",
         "156.0",
         "Documentary"
        ],
        [
         "tt6824530",
         "United Nation Three Decades of Drum & Bass",
         null,
         "2020",
         "movie",
         "United Kingdom",
         "English",
         "8.0",
         "540.0",
         "Documentary"
        ],
        [
         "tt8530796",
         "Light in the Dark",
         null,
         "2020",
         "movie",
         "Nigeria",
         "English",
         "6.0",
         "24.0",
         "Thriller"
        ],
        [
         "tt11710234",
         "Pemburu di Manchester Biru",
         null,
         "2020",
         "movie",
         "Indonesia",
         "English",
         "5.9",
         "33.0",
         "Biography,Drama"
        ],
        [
         "tt13161318",
         "Bigflo & Oli: Hip Hop Frenzy",
         null,
         "2020",
         "movie",
         "France",
         "English",
         "6.9",
         "98.0",
         "Documentary,Music"
        ],
        [
         "tt13034096",
         "Horrid Henry's Gross Day Out",
         null,
         "2020",
         "movie",
         "United Kingdom",
         "English",
         "6.2",
         "33.0",
         "Action,Adventure,Animation"
        ],
        [
         "tt11725176",
         "Last days on Earth",
         null,
         "2020",
         "movie",
         "United Kingdom",
         "English",
         null,
         null,
         "Documentary"
        ]
       ],
       "datasetInfos": [],
       "dbfsResultPath": null,
       "isJsonSchema": true,
       "metadata": {},
       "overflow": false,
       "plotOptions": {
        "customPlotOptions": {},
        "displayType": "table",
        "pivotAggregation": null,
        "pivotColumns": null,
        "xColumns": null,
        "yColumns": null
       },
       "removedWidgets": [],
       "schema": [
        {
         "metadata": "{}",
         "name": "imdb_id",
         "type": "\"string\""
        },
        {
         "metadata": "{}",
         "name": "title",
         "type": "\"string\""
        },
        {
         "metadata": "{}",
         "name": "certificate",
         "type": "\"string\""
        },
        {
         "metadata": "{}",
         "name": "startYear",
         "type": "\"string\""
        },
        {
         "metadata": "{}",
         "name": "type",
         "type": "\"string\""
        },
        {
         "metadata": "{}",
         "name": "origin_country",
         "type": "\"string\""
        },
        {
         "metadata": "{}",
         "name": "language",
         "type": "\"string\""
        },
        {
         "metadata": "{}",
         "name": "rating",
         "type": "\"string\""
        },
        {
         "metadata": "{}",
         "name": "numVotes",
         "type": "\"string\""
        },
        {
         "metadata": "{}",
         "name": "genres",
         "type": "\"string\""
        }
       ],
       "type": "table"
      }
     },
     "output_type": "display_data"
    }
   ],
   "source": [
    "display(spark.sql('select * from netflix_data_table'))"
   ]
  },
  {
   "cell_type": "code",
   "execution_count": 0,
   "metadata": {
    "application/vnd.databricks.v1+cell": {
     "cellMetadata": {
      "byteLimit": 2048000,
      "rowLimit": 10000
     },
     "inputWidgets": {},
     "nuid": "e4434f10-0455-4deb-a951-14a29e59b963",
     "showTitle": false,
     "title": ""
    }
   },
   "outputs": [
    {
     "output_type": "display_data",
     "data": {
      "text/html": [
       "<style scoped>\n",
       "  .table-result-container {\n",
       "    max-height: 300px;\n",
       "    overflow: auto;\n",
       "  }\n",
       "  table, th, td {\n",
       "    border: 1px solid black;\n",
       "    border-collapse: collapse;\n",
       "  }\n",
       "  th, td {\n",
       "    padding: 5px;\n",
       "  }\n",
       "  th {\n",
       "    text-align: left;\n",
       "  }\n",
       "</style><div class='table-result-container'><table class='table-result'><thead style='background-color: white'><tr><th>title</th><th>type</th><th>rating</th><th>numVotes</th></tr></thead><tbody><tr><td>Army of the Dead</td><td>movie</td><td>5.8</td><td>110780.0</td></tr><tr><td>The Woman in the Window</td><td>movie</td><td>5.7</td><td>46703.0</td></tr><tr><td>The Mitchells vs the Machines</td><td>movie</td><td>7.8</td><td>55762.0</td></tr><tr><td>Blue Miracle</td><td>movie</td><td>6.7</td><td>2962.0</td></tr><tr><td>Things Heard & Seen</td><td>movie</td><td>5.3</td><td>20762.0</td></tr><tr><td>Stowaway</td><td>movie</td><td>5.6</td><td>33501.0</td></tr><tr><td>Don't Look Up</td><td>movie</td><td>null</td><td>null</td></tr><tr><td>I Am All Girls</td><td>movie</td><td>5.8</td><td>3283.0</td></tr><tr><td>Hotel Transylvania: Transformania</td><td>movie</td><td>null</td><td>null</td></tr><tr><td>The Dig</td><td>movie</td><td>7.1</td><td>56763.0</td></tr><tr><td>Thunder Force</td><td>movie</td><td>4.4</td><td>33506.0</td></tr><tr><td>The Ice Road</td><td>movie</td><td>null</td><td>null</td></tr><tr><td>Gunpowder Milkshake</td><td>movie</td><td>null</td><td>null</td></tr><tr><td>Fear Street</td><td>movie</td><td>null</td><td>null</td></tr><tr><td>The Nailbomber</td><td>movie</td><td>6.3</td><td>1107.0</td></tr><tr><td>Awake</td><td>movie</td><td>4.8</td><td>2846.0</td></tr><tr><td>Moxie</td><td>movie</td><td>6.7</td><td>18962.0</td></tr><tr><td>Yes Day</td><td>movie</td><td>5.7</td><td>17536.0</td></tr><tr><td>America: The Motion Picture</td><td>movie</td><td>null</td><td>null</td></tr><tr><td>Outside the Wire</td><td>movie</td><td>5.4</td><td>35882.0</td></tr><tr><td>Red Notice</td><td>movie</td><td>null</td><td>null</td></tr><tr><td>Bad Trip</td><td>movie</td><td>6.6</td><td>18590.0</td></tr><tr><td>Malcolm & Marie</td><td>movie</td><td>6.7</td><td>28869.0</td></tr><tr><td>Finding 'Ohana</td><td>movie</td><td>6.1</td><td>7636.0</td></tr><tr><td>Fatherhood</td><td>movie</td><td>null</td><td>null</td></tr><tr><td>Deadly Illusions</td><td>movie</td><td>3.6</td><td>9808.0</td></tr><tr><td>Sing 2</td><td>movie</td><td>null</td><td>null</td></tr><tr><td>A Week Away</td><td>movie</td><td>5.7</td><td>3247.0</td></tr><tr><td>Blonde</td><td>movie</td><td>null</td><td>null</td></tr><tr><td>He's All That</td><td>movie</td><td>null</td><td>null</td></tr><tr><td>Seaspiracy</td><td>movie</td><td>8.2</td><td>23284.0</td></tr><tr><td>Army of Thieves</td><td>movie</td><td>null</td><td>null</td></tr><tr><td>Wish Dragon</td><td>movie</td><td>6.9</td><td>221.0</td></tr><tr><td>To All the Boys: Always and Forever</td><td>movie</td><td>6.3</td><td>17605.0</td></tr><tr><td>Good on Paper</td><td>movie</td><td>null</td><td>null</td></tr><tr><td>Escape From Spiderhead</td><td>movie</td><td>null</td><td>null</td></tr><tr><td>The Last Letter from Your Lover</td><td>movie</td><td>null</td><td>null</td></tr><tr><td>The Kissing Booth 3</td><td>movie</td><td>null</td><td>null</td></tr><tr><td>Sweet Girl</td><td>movie</td><td>null</td><td>null</td></tr><tr><td>Matilda</td><td>movie</td><td>null</td><td>null</td></tr><tr><td>Breaking Boundaries: The Science of Our Planet</td><td>movie</td><td>7.8</td><td>475.0</td></tr><tr><td>tick, tick...Boom!</td><td>movie</td><td>null</td><td>null</td></tr><tr><td>Secret Magic Control Agency</td><td>movie</td><td>6.2</td><td>2241.0</td></tr><tr><td>Vivo</td><td>movie</td><td>null</td><td>null</td></tr><tr><td>The Guilty</td><td>movie</td><td>null</td><td>null</td></tr><tr><td>The Power of the Dog</td><td>movie</td><td>null</td><td>null</td></tr><tr><td>Skater Girl</td><td>movie</td><td>null</td><td>null</td></tr><tr><td>Trippin' with the Kandasamys</td><td>movie</td><td>5.3</td><td>146.0</td></tr><tr><td>Trollhunters: Rise of the Titans</td><td>movie</td><td>null</td><td>null</td></tr><tr><td>Fear Street 2</td><td>movie</td><td>null</td><td>null</td></tr><tr><td>Kate</td><td>movie</td><td>null</td><td>null</td></tr><tr><td>The Loud House</td><td>movie</td><td>null</td><td>null</td></tr><tr><td>Operation Varsity Blues: The College Admissions Scandal</td><td>movie</td><td>7.0</td><td>6284.0</td></tr><tr><td>Hating Peter Tatchell</td><td>movie</td><td>7.5</td><td>244.0</td></tr><tr><td>Fear Street 3</td><td>movie</td><td>null</td><td>null</td></tr><tr><td>The Harder They Fall</td><td>movie</td><td>null</td><td>null</td></tr><tr><td>Passing</td><td>movie</td><td>7.1</td><td>182.0</td></tr><tr><td>Munich</td><td>movie</td><td>null</td><td>null</td></tr><tr><td>A Boy Called Christmas</td><td>movie</td><td>null</td><td>null</td></tr><tr><td>A Jazzman's Blues</td><td>movie</td><td>null</td><td>null</td></tr><tr><td>Untitled Sandra Bullock/Nora Fingscheidt Project</td><td>movie</td><td>null</td><td>null</td></tr><tr><td>Night Teeth</td><td>movie</td><td>null</td><td>null</td></tr><tr><td>In Our Mothers' Gardens</td><td>movie</td><td>8.9</td><td>51.0</td></tr><tr><td>The Witcher: Nightmare of the Wolf</td><td>movie</td><td>null</td><td>null</td></tr><tr><td>Back to the Outback</td><td>movie</td><td>null</td><td>null</td></tr><tr><td>There's Someone Inside Your House</td><td>movie</td><td>null</td><td>null</td></tr><tr><td>Biggie: I Got a Story to Tell</td><td>movie</td><td>6.9</td><td>4135.0</td></tr><tr><td>Metal Lords</td><td>movie</td><td>null</td><td>null</td></tr><tr><td>Pelé</td><td>movie</td><td>7.0</td><td>3268.0</td></tr><tr><td>The Minimalists: Less Is Now</td><td>movie</td><td>5.9</td><td>3238.0</td></tr><tr><td>Beauty</td><td>movie</td><td>null</td><td>null</td></tr><tr><td>The Princess Switch 3</td><td>movie</td><td>null</td><td>null</td></tr><tr><td>Love Hard</td><td>movie</td><td>null</td><td>null</td></tr><tr><td>Strip Down, Rise Up</td><td>movie</td><td>5.2</td><td>492.0</td></tr><tr><td>Rise of the Teenage Mutant Ninja Turtles</td><td>movie</td><td>null</td><td>null</td></tr><tr><td>Nightbooks</td><td>movie</td><td>null</td><td>null</td></tr><tr><td>Crack: Cocaine, Corruption & Conspiracy</td><td>movie</td><td>6.7</td><td>2640.0</td></tr><tr><td>Against the Ice</td><td>movie</td><td>null</td><td>null</td></tr><tr><td>Resort to Love</td><td>movie</td><td>null</td><td>null</td></tr><tr><td>A Castle for Christmas</td><td>movie</td><td>null</td><td>null</td></tr><tr><td>Pray Away</td><td>movie</td><td>null</td><td>null</td></tr><tr><td>Single All the Way</td><td>movie</td><td>null</td><td>null</td></tr><tr><td>Sisters on Track</td><td>movie</td><td>null</td><td>null</td></tr><tr><td>Intrusion</td><td>movie</td><td>null</td><td>null</td></tr><tr><td>Accomplice</td><td>movie</td><td>7.3</td><td>193.0</td></tr><tr><td>Hypnotic</td><td>movie</td><td>null</td><td>null</td></tr><tr><td>Diana</td><td>movie</td><td>null</td><td>null</td></tr><tr><td>Headspace: Unwind Your Mind</td><td>movie</td><td>null</td><td>null</td></tr><tr><td>Bob Ross: Happy Accidents, Betrayal & Greed</td><td>movie</td><td>null</td><td>null</td></tr><tr><td>Kane Chonicles</td><td>movie</td><td>null</td><td>null</td></tr><tr><td>Untitled Netflix Family Comedy 2021</td><td>movie</td><td>null</td><td>null</td></tr><tr><td>Untitled Boeing 737 Max/Rory Kennedy Project</td><td>movie</td><td>null</td><td>null</td></tr><tr><td>Happiness Ever After</td><td>movie</td><td>null</td><td>null</td></tr><tr><td>Love and Monsters</td><td>movie</td><td>7.0</td><td>91971.0</td></tr><tr><td>I Care a Lot</td><td>movie</td><td>6.3</td><td>101431.0</td></tr><tr><td>Eurovision Song Contest: The Story of Fire Saga</td><td>movie</td><td>6.5</td><td>82411.0</td></tr><tr><td>The Devil All the Time</td><td>movie</td><td>7.1</td><td>105158.0</td></tr><tr><td>Honest Thief</td><td>movie</td><td>6.0</td><td>36583.0</td></tr><tr><td>Run</td><td>movie</td><td>6.7</td><td>50255.0</td></tr><tr><td>News of the World</td><td>movie</td><td>6.8</td><td>65228.0</td></tr><tr><td>Enola Holmes</td><td>movie</td><td>6.6</td><td>140708.0</td></tr><tr><td>The Trial of the Chicago 7</td><td>movie</td><td>7.8</td><td>147967.0</td></tr><tr><td>The Water Man</td><td>movie</td><td>4.9</td><td>565.0</td></tr><tr><td>Breach</td><td>movie</td><td>2.9</td><td>7561.0</td></tr><tr><td>The Old Guard</td><td>movie</td><td>6.7</td><td>137367.0</td></tr><tr><td>Extraction</td><td>movie</td><td>6.7</td><td>169609.0</td></tr><tr><td>Spenser Confidential</td><td>movie</td><td>6.2</td><td>75475.0</td></tr><tr><td>Mank</td><td>movie</td><td>6.9</td><td>61633.0</td></tr><tr><td>Hillbilly Elegy</td><td>movie</td><td>6.7</td><td>35778.0</td></tr><tr><td>Rebecca</td><td>movie</td><td>6.0</td><td>34569.0</td></tr><tr><td>I'm Thinking of Ending Things</td><td>movie</td><td>6.6</td><td>69398.0</td></tr><tr><td>Pieces of a Woman</td><td>movie</td><td>7.1</td><td>40086.0</td></tr><tr><td>My Octopus Teacher</td><td>movie</td><td>8.1</td><td>38740.0</td></tr><tr><td>Fantasy Island</td><td>movie</td><td>4.9</td><td>40351.0</td></tr><tr><td>The Wrong Missy</td><td>movie</td><td>5.7</td><td>34222.0</td></tr><tr><td>The Midnight Sky</td><td>movie</td><td>5.6</td><td>74470.0</td></tr><tr><td>We Can Be Heroes</td><td>movie</td><td>4.7</td><td>11673.0</td></tr><tr><td>Project Power</td><td>movie</td><td>6.0</td><td>75538.0</td></tr><tr><td>The Babysitter: Killer Queen</td><td>movie</td><td>5.8</td><td>29703.0</td></tr><tr><td>His House</td><td>movie</td><td>6.5</td><td>30212.0</td></tr><tr><td>Ma Rainey's Black Bottom</td><td>movie</td><td>7.0</td><td>43065.0</td></tr><tr><td>Hubie Halloween</td><td>movie</td><td>5.2</td><td>41175.0</td></tr><tr><td>Concrete Cowboy</td><td>movie</td><td>6.3</td><td>6320.0</td></tr><tr><td>All the Bright Places</td><td>movie</td><td>6.5</td><td>23088.0</td></tr><tr><td>Holidate</td><td>movie</td><td>6.1</td><td>49581.0</td></tr><tr><td>2067</td><td>movie</td><td>4.9</td><td>6376.0</td></tr><tr><td>Force of Nature</td><td>movie</td><td>4.5</td><td>8425.0</td></tr><tr><td>Da 5 Bloods</td><td>movie</td><td>6.5</td><td>45651.0</td></tr><tr><td>The SpongeBob Movie: Sponge on the Run</td><td>movie</td><td>6.0</td><td>13393.0</td></tr><tr><td>Jungle Beat: The Movie</td><td>movie</td><td>5.5</td><td>658.0</td></tr><tr><td>Penguin Bloom</td><td>movie</td><td>6.8</td><td>6338.0</td></tr><tr><td>Over the Moon</td><td>movie</td><td>6.4</td><td>17434.0</td></tr><tr><td>Love Wedding Repeat</td><td>movie</td><td>5.5</td><td>18362.0</td></tr><tr><td>The Prom</td><td>movie</td><td>5.9</td><td>23847.0</td></tr><tr><td>The Kissing Booth 2</td><td>movie</td><td>5.8</td><td>22962.0</td></tr><tr><td>Lost Girls</td><td>movie</td><td>6.1</td><td>18335.0</td></tr><tr><td>The Stand In</td><td>movie</td><td>4.6</td><td>2453.0</td></tr><tr><td>The Last Thing He Wanted</td><td>movie</td><td>4.3</td><td>13387.0</td></tr><tr><td>The Social Dilemma</td><td>movie</td><td>7.6</td><td>70972.0</td></tr><tr><td>Horse Girl</td><td>movie</td><td>5.9</td><td>15514.0</td></tr><tr><td>The Sleepover</td><td>movie</td><td>5.6</td><td>8710.0</td></tr><tr><td>The Boys in the Band</td><td>movie</td><td>6.8</td><td>12731.0</td></tr><tr><td>The Last Days of American Crime</td><td>movie</td><td>3.7</td><td>10109.0</td></tr><tr><td>Love, Guaranteed</td><td>movie</td><td>5.6</td><td>14835.0</td></tr><tr><td>The Willoughbys</td><td>movie</td><td>6.4</td><td>14757.0</td></tr><tr><td>Feel the Beat</td><td>movie</td><td>6.3</td><td>9062.0</td></tr><tr><td>American Murder: The Family Next Door</td><td>movie</td><td>7.2</td><td>21242.0</td></tr><tr><td>Work It</td><td>movie</td><td>6.1</td><td>10490.0</td></tr><tr><td>The Lovebirds</td><td>movie</td><td>6.1</td><td>22436.0</td></tr><tr><td>Sightless</td><td>movie</td><td>5.5</td><td>6022.0</td></tr><tr><td>Dangerous Lies</td><td>movie</td><td>5.3</td><td>15040.0</td></tr><tr><td>The F**k-It List</td><td>movie</td><td>5.1</td><td>4934.0</td></tr><tr><td>A Fall from Grace</td><td>movie</td><td>5.9</td><td>13018.0</td></tr><tr><td>Vampires vs. the Bronx</td><td>movie</td><td>5.6</td><td>8181.0</td></tr><tr><td>Think Like a Dog</td><td>movie</td><td>5.2</td><td>1266.0</td></tr><tr><td>To All the Boys: P.S. I Still Love You</td><td>movie</td><td>6.0</td><td>31232.0</td></tr><tr><td>Desperados</td><td>movie</td><td>5.2</td><td>9090.0</td></tr><tr><td>A Babysitter's Guide to Monster Hunting</td><td>movie</td><td>5.4</td><td>3270.0</td></tr><tr><td>Sergio</td><td>movie</td><td>6.1</td><td>8668.0</td></tr><tr><td>Roped</td><td>movie</td><td>5.4</td><td>1081.0</td></tr><tr><td>David Attenborough: A Life on Our Planet</td><td>movie</td><td>9.0</td><td>27666.0</td></tr><tr><td>The Debt Collector 2</td><td>movie</td><td>5.8</td><td>3412.0</td></tr><tr><td>A California Christmas</td><td>movie</td><td>5.8</td><td>6793.0</td></tr><tr><td>All Together Now</td><td>movie</td><td>6.5</td><td>3357.0</td></tr><tr><td>The Christmas Chronicles: Part Two</td><td>movie</td><td>6.0</td><td>24065.0</td></tr><tr><td>The Princess Switch: Switched Again</td><td>movie</td><td>5.4</td><td>8108.0</td></tr><tr><td>Crip Camp</td><td>movie</td><td>7.7</td><td>6150.0</td></tr><tr><td>Lady Driver</td><td>movie</td><td>5.9</td><td>1055.0</td></tr><tr><td>Coffee & Kareem</td><td>movie</td><td>5.1</td><td>12250.0</td></tr><tr><td>Fatal Affair</td><td>movie</td><td>4.5</td><td>5115.0</td></tr><tr><td>Wheels of Fortune</td><td>movie</td><td>5.4</td><td>572.0</td></tr><tr><td>Kiss the Ground</td><td>movie</td><td>8.3</td><td>5523.0</td></tr><tr><td>The Forty-Year-Old Version</td><td>movie</td><td>7.2</td><td>4173.0</td></tr><tr><td>The Main Event</td><td>movie</td><td>4.8</td><td>1970.0</td></tr><tr><td>Made You Look: A True Story About Fake Art</td><td>movie</td><td>7.0</td><td>2839.0</td></tr><tr><td>The Fisherman's Diary</td><td>movie</td><td>6.5</td><td>425.0</td></tr><tr><td>Serious Men</td><td>movie</td><td>6.8</td><td>6355.0</td></tr><tr><td>Uncorked</td><td>movie</td><td>6.3</td><td>4703.0</td></tr><tr><td>Midnight at the Magnolia</td><td>movie</td><td>5.8</td><td>4254.0</td></tr><tr><td>All Day and a Night</td><td>movie</td><td>5.8</td><td>3192.0</td></tr><tr><td>Operation Christmas Drop</td><td>movie</td><td>5.8</td><td>9467.0</td></tr><tr><td>Jingle Jangle: A Christmas Journey</td><td>movie</td><td>6.5</td><td>15880.0</td></tr><tr><td>Bruised</td><td>movie</td><td>7.2</td><td>38.0</td></tr><tr><td>What Is Life Worth</td><td>movie</td><td>6.9</td><td>235.0</td></tr><tr><td>Have a Good Trip: Adventures in Psychedelics</td><td>movie</td><td>6.8</td><td>6576.0</td></tr><tr><td>I Am Vengeance: Retaliation</td><td>movie</td><td>3.5</td><td>977.0</td></tr><tr><td>Miss Americana</td><td>movie</td><td>7.4</td><td>16787.0</td></tr><tr><td>Dick Johnson Is Dead</td><td>movie</td><td>7.5</td><td>5209.0</td></tr><tr><td>You Are My Home</td><td>movie</td><td>6.5</td><td>343.0</td></tr><tr><td>Tigertail</td><td>movie</td><td>6.5</td><td>3225.0</td></tr><tr><td>Go!</td><td>movie</td><td>5.9</td><td>2317.0</td></tr><tr><td>Athlete A</td><td>movie</td><td>7.6</td><td>8369.0</td></tr><tr><td>Secrets of the Saqqara Tomb</td><td>movie</td><td>7.3</td><td>5195.0</td></tr><tr><td>Ricos de Amor</td><td>movie</td><td>5.8</td><td>2213.0</td></tr><tr><td>A Secret Love</td><td>movie</td><td>7.9</td><td>3668.0</td></tr><tr><td>Ariana Grande: Excuse Me, I Love You</td><td>movie</td><td>6.4</td><td>2009.0</td></tr><tr><td>Malibu Rescue: The Next Wave</td><td>movie</td><td>4.8</td><td>635.0</td></tr><tr><td>Namaste Wahala</td><td>movie</td><td>5.1</td><td>820.0</td></tr><tr><td>Citation</td><td>movie</td><td>6.2</td><td>844.0</td></tr><tr><td>Farewell Amor</td><td>movie</td><td>6.9</td><td>867.0</td></tr><tr><td>Funny Boy</td><td>movie</td><td>5.8</td><td>759.0</td></tr><tr><td>A New York Christmas Wedding</td><td>movie</td><td>5.4</td><td>835.0</td></tr><tr><td>Christmas on the Square</td><td>movie</td><td>5.2</td><td>2194.0</td></tr><tr><td>Seriously Single</td><td>movie</td><td>4.5</td><td>1124.0</td></tr><tr><td>Rising Phoenix</td><td>movie</td><td>8.1</td><td>1334.0</td></tr><tr><td>Riding Faith</td><td>movie</td><td>4.4</td><td>174.0</td></tr><tr><td>Murder to Mercy: The Cyntoia Brown Story</td><td>movie</td><td>6.4</td><td>2278.0</td></tr><tr><td>Becoming</td><td>movie</td><td>6.8</td><td>5835.0</td></tr><tr><td>Not a Game</td><td>movie</td><td>5.6</td><td>395.0</td></tr><tr><td>Barbie Princess Adventure</td><td>movie</td><td>5.6</td><td>246.0</td></tr><tr><td>Angela's Christmas Wish</td><td>movie</td><td>7.1</td><td>1046.0</td></tr><tr><td>Father Soldier Son</td><td>movie</td><td>7.3</td><td>798.0</td></tr><tr><td>Uppity: The Willy T. Ribbs Story</td><td>movie</td><td>7.9</td><td>583.0</td></tr><tr><td>Maska</td><td>movie</td><td>5.8</td><td>1312.0</td></tr><tr><td>Octonauts & the Great Barrier Reef</td><td>movie</td><td>7.4</td><td>85.0</td></tr><tr><td>Shawn Mendes: In Wonder</td><td>movie</td><td>6.6</td><td>1734.0</td></tr><tr><td>LA Originals</td><td>movie</td><td>7.2</td><td>1600.0</td></tr><tr><td>Mucho Mucho Amor: The Legend of Walter Mercado</td><td>movie</td><td>7.3</td><td>2876.0</td></tr><tr><td>Octonauts and the Caves of Sac Actun</td><td>movie</td><td>6.2</td><td>116.0</td></tr><tr><td>The Larva Island Movie</td><td>movie</td><td>5.1</td><td>505.0</td></tr><tr><td>André & His Olive Tree</td><td>movie</td><td>6.8</td><td>148.0</td></tr><tr><td>Dance Dreams: Hot Chocolate Nutcracker</td><td>movie</td><td>7.1</td><td>261.0</td></tr><tr><td>#cats_the_mewvie</td><td>movie</td><td>5.3</td><td>407.0</td></tr><tr><td>Giving Voice</td><td>movie</td><td>6.7</td><td>197.0</td></tr><tr><td>The App That Stole Christmas</td><td>movie</td><td>3.6</td><td>301.0</td></tr><tr><td>Shawn Mendes: Live in Concert</td><td>movie</td><td>7.4</td><td>200.0</td></tr><tr><td>Thomas & Friends: Marvelous Machinery</td><td>movie</td><td>7.0</td><td>6.0</td></tr><tr><td>The Magic School Bus Rides Again: Kids in Space</td><td>movie</td><td>6.2</td><td>51.0</td></tr><tr><td>Night on Earth: Shot in the Dark</td><td>movie</td><td>7.9</td><td>156.0</td></tr><tr><td>United Nation Three Decades of Drum & Bass</td><td>movie</td><td>8.0</td><td>540.0</td></tr><tr><td>Light in the Dark</td><td>movie</td><td>6.0</td><td>24.0</td></tr><tr><td>Pemburu di Manchester Biru</td><td>movie</td><td>5.9</td><td>33.0</td></tr><tr><td>Bigflo & Oli: Hip Hop Frenzy</td><td>movie</td><td>6.9</td><td>98.0</td></tr><tr><td>Horrid Henry's Gross Day Out</td><td>movie</td><td>6.2</td><td>33.0</td></tr><tr><td>Last days on Earth</td><td>movie</td><td>null</td><td>null</td></tr></tbody></table></div>"
      ]
     },
     "metadata": {
      "application/vnd.databricks.v1+output": {
       "addedWidgets": {},
       "aggData": [],
       "aggError": "",
       "aggOverflow": false,
       "aggSchema": [],
       "aggSeriesLimitReached": false,
       "aggType": "",
       "arguments": {},
       "columnCustomDisplayInfos": {},
       "data": [
        [
         "Army of the Dead",
         "movie",
         "5.8",
         "110780.0"
        ],
        [
         "The Woman in the Window",
         "movie",
         "5.7",
         "46703.0"
        ],
        [
         "The Mitchells vs the Machines",
         "movie",
         "7.8",
         "55762.0"
        ],
        [
         "Blue Miracle",
         "movie",
         "6.7",
         "2962.0"
        ],
        [
         "Things Heard & Seen",
         "movie",
         "5.3",
         "20762.0"
        ],
        [
         "Stowaway",
         "movie",
         "5.6",
         "33501.0"
        ],
        [
         "Don't Look Up",
         "movie",
         null,
         null
        ],
        [
         "I Am All Girls",
         "movie",
         "5.8",
         "3283.0"
        ],
        [
         "Hotel Transylvania: Transformania",
         "movie",
         null,
         null
        ],
        [
         "The Dig",
         "movie",
         "7.1",
         "56763.0"
        ],
        [
         "Thunder Force",
         "movie",
         "4.4",
         "33506.0"
        ],
        [
         "The Ice Road",
         "movie",
         null,
         null
        ],
        [
         "Gunpowder Milkshake",
         "movie",
         null,
         null
        ],
        [
         "Fear Street",
         "movie",
         null,
         null
        ],
        [
         "The Nailbomber",
         "movie",
         "6.3",
         "1107.0"
        ],
        [
         "Awake",
         "movie",
         "4.8",
         "2846.0"
        ],
        [
         "Moxie",
         "movie",
         "6.7",
         "18962.0"
        ],
        [
         "Yes Day",
         "movie",
         "5.7",
         "17536.0"
        ],
        [
         "America: The Motion Picture",
         "movie",
         null,
         null
        ],
        [
         "Outside the Wire",
         "movie",
         "5.4",
         "35882.0"
        ],
        [
         "Red Notice",
         "movie",
         null,
         null
        ],
        [
         "Bad Trip",
         "movie",
         "6.6",
         "18590.0"
        ],
        [
         "Malcolm & Marie",
         "movie",
         "6.7",
         "28869.0"
        ],
        [
         "Finding 'Ohana",
         "movie",
         "6.1",
         "7636.0"
        ],
        [
         "Fatherhood",
         "movie",
         null,
         null
        ],
        [
         "Deadly Illusions",
         "movie",
         "3.6",
         "9808.0"
        ],
        [
         "Sing 2",
         "movie",
         null,
         null
        ],
        [
         "A Week Away",
         "movie",
         "5.7",
         "3247.0"
        ],
        [
         "Blonde",
         "movie",
         null,
         null
        ],
        [
         "He's All That",
         "movie",
         null,
         null
        ],
        [
         "Seaspiracy",
         "movie",
         "8.2",
         "23284.0"
        ],
        [
         "Army of Thieves",
         "movie",
         null,
         null
        ],
        [
         "Wish Dragon",
         "movie",
         "6.9",
         "221.0"
        ],
        [
         "To All the Boys: Always and Forever",
         "movie",
         "6.3",
         "17605.0"
        ],
        [
         "Good on Paper",
         "movie",
         null,
         null
        ],
        [
         "Escape From Spiderhead",
         "movie",
         null,
         null
        ],
        [
         "The Last Letter from Your Lover",
         "movie",
         null,
         null
        ],
        [
         "The Kissing Booth 3",
         "movie",
         null,
         null
        ],
        [
         "Sweet Girl",
         "movie",
         null,
         null
        ],
        [
         "Matilda",
         "movie",
         null,
         null
        ],
        [
         "Breaking Boundaries: The Science of Our Planet",
         "movie",
         "7.8",
         "475.0"
        ],
        [
         "tick, tick...Boom!",
         "movie",
         null,
         null
        ],
        [
         "Secret Magic Control Agency",
         "movie",
         "6.2",
         "2241.0"
        ],
        [
         "Vivo",
         "movie",
         null,
         null
        ],
        [
         "The Guilty",
         "movie",
         null,
         null
        ],
        [
         "The Power of the Dog",
         "movie",
         null,
         null
        ],
        [
         "Skater Girl",
         "movie",
         null,
         null
        ],
        [
         "Trippin' with the Kandasamys",
         "movie",
         "5.3",
         "146.0"
        ],
        [
         "Trollhunters: Rise of the Titans",
         "movie",
         null,
         null
        ],
        [
         "Fear Street 2",
         "movie",
         null,
         null
        ],
        [
         "Kate",
         "movie",
         null,
         null
        ],
        [
         "The Loud House",
         "movie",
         null,
         null
        ],
        [
         "Operation Varsity Blues: The College Admissions Scandal",
         "movie",
         "7.0",
         "6284.0"
        ],
        [
         "Hating Peter Tatchell",
         "movie",
         "7.5",
         "244.0"
        ],
        [
         "Fear Street 3",
         "movie",
         null,
         null
        ],
        [
         "The Harder They Fall",
         "movie",
         null,
         null
        ],
        [
         "Passing",
         "movie",
         "7.1",
         "182.0"
        ],
        [
         "Munich",
         "movie",
         null,
         null
        ],
        [
         "A Boy Called Christmas",
         "movie",
         null,
         null
        ],
        [
         "A Jazzman's Blues",
         "movie",
         null,
         null
        ],
        [
         "Untitled Sandra Bullock/Nora Fingscheidt Project",
         "movie",
         null,
         null
        ],
        [
         "Night Teeth",
         "movie",
         null,
         null
        ],
        [
         "In Our Mothers' Gardens",
         "movie",
         "8.9",
         "51.0"
        ],
        [
         "The Witcher: Nightmare of the Wolf",
         "movie",
         null,
         null
        ],
        [
         "Back to the Outback",
         "movie",
         null,
         null
        ],
        [
         "There's Someone Inside Your House",
         "movie",
         null,
         null
        ],
        [
         "Biggie: I Got a Story to Tell",
         "movie",
         "6.9",
         "4135.0"
        ],
        [
         "Metal Lords",
         "movie",
         null,
         null
        ],
        [
         "Pelé",
         "movie",
         "7.0",
         "3268.0"
        ],
        [
         "The Minimalists: Less Is Now",
         "movie",
         "5.9",
         "3238.0"
        ],
        [
         "Beauty",
         "movie",
         null,
         null
        ],
        [
         "The Princess Switch 3",
         "movie",
         null,
         null
        ],
        [
         "Love Hard",
         "movie",
         null,
         null
        ],
        [
         "Strip Down, Rise Up",
         "movie",
         "5.2",
         "492.0"
        ],
        [
         "Rise of the Teenage Mutant Ninja Turtles",
         "movie",
         null,
         null
        ],
        [
         "Nightbooks",
         "movie",
         null,
         null
        ],
        [
         "Crack: Cocaine, Corruption & Conspiracy",
         "movie",
         "6.7",
         "2640.0"
        ],
        [
         "Against the Ice",
         "movie",
         null,
         null
        ],
        [
         "Resort to Love",
         "movie",
         null,
         null
        ],
        [
         "A Castle for Christmas",
         "movie",
         null,
         null
        ],
        [
         "Pray Away",
         "movie",
         null,
         null
        ],
        [
         "Single All the Way",
         "movie",
         null,
         null
        ],
        [
         "Sisters on Track",
         "movie",
         null,
         null
        ],
        [
         "Intrusion",
         "movie",
         null,
         null
        ],
        [
         "Accomplice",
         "movie",
         "7.3",
         "193.0"
        ],
        [
         "Hypnotic",
         "movie",
         null,
         null
        ],
        [
         "Diana",
         "movie",
         null,
         null
        ],
        [
         "Headspace: Unwind Your Mind",
         "movie",
         null,
         null
        ],
        [
         "Bob Ross: Happy Accidents, Betrayal & Greed",
         "movie",
         null,
         null
        ],
        [
         "Kane Chonicles",
         "movie",
         null,
         null
        ],
        [
         "Untitled Netflix Family Comedy 2021",
         "movie",
         null,
         null
        ],
        [
         "Untitled Boeing 737 Max/Rory Kennedy Project",
         "movie",
         null,
         null
        ],
        [
         "Happiness Ever After",
         "movie",
         null,
         null
        ],
        [
         "Love and Monsters",
         "movie",
         "7.0",
         "91971.0"
        ],
        [
         "I Care a Lot",
         "movie",
         "6.3",
         "101431.0"
        ],
        [
         "Eurovision Song Contest: The Story of Fire Saga",
         "movie",
         "6.5",
         "82411.0"
        ],
        [
         "The Devil All the Time",
         "movie",
         "7.1",
         "105158.0"
        ],
        [
         "Honest Thief",
         "movie",
         "6.0",
         "36583.0"
        ],
        [
         "Run",
         "movie",
         "6.7",
         "50255.0"
        ],
        [
         "News of the World",
         "movie",
         "6.8",
         "65228.0"
        ],
        [
         "Enola Holmes",
         "movie",
         "6.6",
         "140708.0"
        ],
        [
         "The Trial of the Chicago 7",
         "movie",
         "7.8",
         "147967.0"
        ],
        [
         "The Water Man",
         "movie",
         "4.9",
         "565.0"
        ],
        [
         "Breach",
         "movie",
         "2.9",
         "7561.0"
        ],
        [
         "The Old Guard",
         "movie",
         "6.7",
         "137367.0"
        ],
        [
         "Extraction",
         "movie",
         "6.7",
         "169609.0"
        ],
        [
         "Spenser Confidential",
         "movie",
         "6.2",
         "75475.0"
        ],
        [
         "Mank",
         "movie",
         "6.9",
         "61633.0"
        ],
        [
         "Hillbilly Elegy",
         "movie",
         "6.7",
         "35778.0"
        ],
        [
         "Rebecca",
         "movie",
         "6.0",
         "34569.0"
        ],
        [
         "I'm Thinking of Ending Things",
         "movie",
         "6.6",
         "69398.0"
        ],
        [
         "Pieces of a Woman",
         "movie",
         "7.1",
         "40086.0"
        ],
        [
         "My Octopus Teacher",
         "movie",
         "8.1",
         "38740.0"
        ],
        [
         "Fantasy Island",
         "movie",
         "4.9",
         "40351.0"
        ],
        [
         "The Wrong Missy",
         "movie",
         "5.7",
         "34222.0"
        ],
        [
         "The Midnight Sky",
         "movie",
         "5.6",
         "74470.0"
        ],
        [
         "We Can Be Heroes",
         "movie",
         "4.7",
         "11673.0"
        ],
        [
         "Project Power",
         "movie",
         "6.0",
         "75538.0"
        ],
        [
         "The Babysitter: Killer Queen",
         "movie",
         "5.8",
         "29703.0"
        ],
        [
         "His House",
         "movie",
         "6.5",
         "30212.0"
        ],
        [
         "Ma Rainey's Black Bottom",
         "movie",
         "7.0",
         "43065.0"
        ],
        [
         "Hubie Halloween",
         "movie",
         "5.2",
         "41175.0"
        ],
        [
         "Concrete Cowboy",
         "movie",
         "6.3",
         "6320.0"
        ],
        [
         "All the Bright Places",
         "movie",
         "6.5",
         "23088.0"
        ],
        [
         "Holidate",
         "movie",
         "6.1",
         "49581.0"
        ],
        [
         "2067",
         "movie",
         "4.9",
         "6376.0"
        ],
        [
         "Force of Nature",
         "movie",
         "4.5",
         "8425.0"
        ],
        [
         "Da 5 Bloods",
         "movie",
         "6.5",
         "45651.0"
        ],
        [
         "The SpongeBob Movie: Sponge on the Run",
         "movie",
         "6.0",
         "13393.0"
        ],
        [
         "Jungle Beat: The Movie",
         "movie",
         "5.5",
         "658.0"
        ],
        [
         "Penguin Bloom",
         "movie",
         "6.8",
         "6338.0"
        ],
        [
         "Over the Moon",
         "movie",
         "6.4",
         "17434.0"
        ],
        [
         "Love Wedding Repeat",
         "movie",
         "5.5",
         "18362.0"
        ],
        [
         "The Prom",
         "movie",
         "5.9",
         "23847.0"
        ],
        [
         "The Kissing Booth 2",
         "movie",
         "5.8",
         "22962.0"
        ],
        [
         "Lost Girls",
         "movie",
         "6.1",
         "18335.0"
        ],
        [
         "The Stand In",
         "movie",
         "4.6",
         "2453.0"
        ],
        [
         "The Last Thing He Wanted",
         "movie",
         "4.3",
         "13387.0"
        ],
        [
         "The Social Dilemma",
         "movie",
         "7.6",
         "70972.0"
        ],
        [
         "Horse Girl",
         "movie",
         "5.9",
         "15514.0"
        ],
        [
         "The Sleepover",
         "movie",
         "5.6",
         "8710.0"
        ],
        [
         "The Boys in the Band",
         "movie",
         "6.8",
         "12731.0"
        ],
        [
         "The Last Days of American Crime",
         "movie",
         "3.7",
         "10109.0"
        ],
        [
         "Love, Guaranteed",
         "movie",
         "5.6",
         "14835.0"
        ],
        [
         "The Willoughbys",
         "movie",
         "6.4",
         "14757.0"
        ],
        [
         "Feel the Beat",
         "movie",
         "6.3",
         "9062.0"
        ],
        [
         "American Murder: The Family Next Door",
         "movie",
         "7.2",
         "21242.0"
        ],
        [
         "Work It",
         "movie",
         "6.1",
         "10490.0"
        ],
        [
         "The Lovebirds",
         "movie",
         "6.1",
         "22436.0"
        ],
        [
         "Sightless",
         "movie",
         "5.5",
         "6022.0"
        ],
        [
         "Dangerous Lies",
         "movie",
         "5.3",
         "15040.0"
        ],
        [
         "The F**k-It List",
         "movie",
         "5.1",
         "4934.0"
        ],
        [
         "A Fall from Grace",
         "movie",
         "5.9",
         "13018.0"
        ],
        [
         "Vampires vs. the Bronx",
         "movie",
         "5.6",
         "8181.0"
        ],
        [
         "Think Like a Dog",
         "movie",
         "5.2",
         "1266.0"
        ],
        [
         "To All the Boys: P.S. I Still Love You",
         "movie",
         "6.0",
         "31232.0"
        ],
        [
         "Desperados",
         "movie",
         "5.2",
         "9090.0"
        ],
        [
         "A Babysitter's Guide to Monster Hunting",
         "movie",
         "5.4",
         "3270.0"
        ],
        [
         "Sergio",
         "movie",
         "6.1",
         "8668.0"
        ],
        [
         "Roped",
         "movie",
         "5.4",
         "1081.0"
        ],
        [
         "David Attenborough: A Life on Our Planet",
         "movie",
         "9.0",
         "27666.0"
        ],
        [
         "The Debt Collector 2",
         "movie",
         "5.8",
         "3412.0"
        ],
        [
         "A California Christmas",
         "movie",
         "5.8",
         "6793.0"
        ],
        [
         "All Together Now",
         "movie",
         "6.5",
         "3357.0"
        ],
        [
         "The Christmas Chronicles: Part Two",
         "movie",
         "6.0",
         "24065.0"
        ],
        [
         "The Princess Switch: Switched Again",
         "movie",
         "5.4",
         "8108.0"
        ],
        [
         "Crip Camp",
         "movie",
         "7.7",
         "6150.0"
        ],
        [
         "Lady Driver",
         "movie",
         "5.9",
         "1055.0"
        ],
        [
         "Coffee & Kareem",
         "movie",
         "5.1",
         "12250.0"
        ],
        [
         "Fatal Affair",
         "movie",
         "4.5",
         "5115.0"
        ],
        [
         "Wheels of Fortune",
         "movie",
         "5.4",
         "572.0"
        ],
        [
         "Kiss the Ground",
         "movie",
         "8.3",
         "5523.0"
        ],
        [
         "The Forty-Year-Old Version",
         "movie",
         "7.2",
         "4173.0"
        ],
        [
         "The Main Event",
         "movie",
         "4.8",
         "1970.0"
        ],
        [
         "Made You Look: A True Story About Fake Art",
         "movie",
         "7.0",
         "2839.0"
        ],
        [
         "The Fisherman's Diary",
         "movie",
         "6.5",
         "425.0"
        ],
        [
         "Serious Men",
         "movie",
         "6.8",
         "6355.0"
        ],
        [
         "Uncorked",
         "movie",
         "6.3",
         "4703.0"
        ],
        [
         "Midnight at the Magnolia",
         "movie",
         "5.8",
         "4254.0"
        ],
        [
         "All Day and a Night",
         "movie",
         "5.8",
         "3192.0"
        ],
        [
         "Operation Christmas Drop",
         "movie",
         "5.8",
         "9467.0"
        ],
        [
         "Jingle Jangle: A Christmas Journey",
         "movie",
         "6.5",
         "15880.0"
        ],
        [
         "Bruised",
         "movie",
         "7.2",
         "38.0"
        ],
        [
         "What Is Life Worth",
         "movie",
         "6.9",
         "235.0"
        ],
        [
         "Have a Good Trip: Adventures in Psychedelics",
         "movie",
         "6.8",
         "6576.0"
        ],
        [
         "I Am Vengeance: Retaliation",
         "movie",
         "3.5",
         "977.0"
        ],
        [
         "Miss Americana",
         "movie",
         "7.4",
         "16787.0"
        ],
        [
         "Dick Johnson Is Dead",
         "movie",
         "7.5",
         "5209.0"
        ],
        [
         "You Are My Home",
         "movie",
         "6.5",
         "343.0"
        ],
        [
         "Tigertail",
         "movie",
         "6.5",
         "3225.0"
        ],
        [
         "Go!",
         "movie",
         "5.9",
         "2317.0"
        ],
        [
         "Athlete A",
         "movie",
         "7.6",
         "8369.0"
        ],
        [
         "Secrets of the Saqqara Tomb",
         "movie",
         "7.3",
         "5195.0"
        ],
        [
         "Ricos de Amor",
         "movie",
         "5.8",
         "2213.0"
        ],
        [
         "A Secret Love",
         "movie",
         "7.9",
         "3668.0"
        ],
        [
         "Ariana Grande: Excuse Me, I Love You",
         "movie",
         "6.4",
         "2009.0"
        ],
        [
         "Malibu Rescue: The Next Wave",
         "movie",
         "4.8",
         "635.0"
        ],
        [
         "Namaste Wahala",
         "movie",
         "5.1",
         "820.0"
        ],
        [
         "Citation",
         "movie",
         "6.2",
         "844.0"
        ],
        [
         "Farewell Amor",
         "movie",
         "6.9",
         "867.0"
        ],
        [
         "Funny Boy",
         "movie",
         "5.8",
         "759.0"
        ],
        [
         "A New York Christmas Wedding",
         "movie",
         "5.4",
         "835.0"
        ],
        [
         "Christmas on the Square",
         "movie",
         "5.2",
         "2194.0"
        ],
        [
         "Seriously Single",
         "movie",
         "4.5",
         "1124.0"
        ],
        [
         "Rising Phoenix",
         "movie",
         "8.1",
         "1334.0"
        ],
        [
         "Riding Faith",
         "movie",
         "4.4",
         "174.0"
        ],
        [
         "Murder to Mercy: The Cyntoia Brown Story",
         "movie",
         "6.4",
         "2278.0"
        ],
        [
         "Becoming",
         "movie",
         "6.8",
         "5835.0"
        ],
        [
         "Not a Game",
         "movie",
         "5.6",
         "395.0"
        ],
        [
         "Barbie Princess Adventure",
         "movie",
         "5.6",
         "246.0"
        ],
        [
         "Angela's Christmas Wish",
         "movie",
         "7.1",
         "1046.0"
        ],
        [
         "Father Soldier Son",
         "movie",
         "7.3",
         "798.0"
        ],
        [
         "Uppity: The Willy T. Ribbs Story",
         "movie",
         "7.9",
         "583.0"
        ],
        [
         "Maska",
         "movie",
         "5.8",
         "1312.0"
        ],
        [
         "Octonauts & the Great Barrier Reef",
         "movie",
         "7.4",
         "85.0"
        ],
        [
         "Shawn Mendes: In Wonder",
         "movie",
         "6.6",
         "1734.0"
        ],
        [
         "LA Originals",
         "movie",
         "7.2",
         "1600.0"
        ],
        [
         "Mucho Mucho Amor: The Legend of Walter Mercado",
         "movie",
         "7.3",
         "2876.0"
        ],
        [
         "Octonauts and the Caves of Sac Actun",
         "movie",
         "6.2",
         "116.0"
        ],
        [
         "The Larva Island Movie",
         "movie",
         "5.1",
         "505.0"
        ],
        [
         "André & His Olive Tree",
         "movie",
         "6.8",
         "148.0"
        ],
        [
         "Dance Dreams: Hot Chocolate Nutcracker",
         "movie",
         "7.1",
         "261.0"
        ],
        [
         "#cats_the_mewvie",
         "movie",
         "5.3",
         "407.0"
        ],
        [
         "Giving Voice",
         "movie",
         "6.7",
         "197.0"
        ],
        [
         "The App That Stole Christmas",
         "movie",
         "3.6",
         "301.0"
        ],
        [
         "Shawn Mendes: Live in Concert",
         "movie",
         "7.4",
         "200.0"
        ],
        [
         "Thomas & Friends: Marvelous Machinery",
         "movie",
         "7.0",
         "6.0"
        ],
        [
         "The Magic School Bus Rides Again: Kids in Space",
         "movie",
         "6.2",
         "51.0"
        ],
        [
         "Night on Earth: Shot in the Dark",
         "movie",
         "7.9",
         "156.0"
        ],
        [
         "United Nation Three Decades of Drum & Bass",
         "movie",
         "8.0",
         "540.0"
        ],
        [
         "Light in the Dark",
         "movie",
         "6.0",
         "24.0"
        ],
        [
         "Pemburu di Manchester Biru",
         "movie",
         "5.9",
         "33.0"
        ],
        [
         "Bigflo & Oli: Hip Hop Frenzy",
         "movie",
         "6.9",
         "98.0"
        ],
        [
         "Horrid Henry's Gross Day Out",
         "movie",
         "6.2",
         "33.0"
        ],
        [
         "Last days on Earth",
         "movie",
         null,
         null
        ]
       ],
       "datasetInfos": [],
       "dbfsResultPath": null,
       "isJsonSchema": true,
       "metadata": {},
       "overflow": false,
       "plotOptions": {
        "customPlotOptions": {},
        "displayType": "table",
        "pivotAggregation": null,
        "pivotColumns": null,
        "xColumns": null,
        "yColumns": null
       },
       "removedWidgets": [],
       "schema": [
        {
         "metadata": "{}",
         "name": "title",
         "type": "\"string\""
        },
        {
         "metadata": "{}",
         "name": "type",
         "type": "\"string\""
        },
        {
         "metadata": "{}",
         "name": "rating",
         "type": "\"string\""
        },
        {
         "metadata": "{}",
         "name": "numVotes",
         "type": "\"string\""
        }
       ],
       "type": "table"
      }
     },
     "output_type": "display_data"
    }
   ],
   "source": [
    "display(spark.sql('select title, type, rating, numVotes from netflix_data_table'))"
   ]
  },
  {
   "cell_type": "code",
   "execution_count": 0,
   "metadata": {
    "application/vnd.databricks.v1+cell": {
     "cellMetadata": {
      "byteLimit": 2048000,
      "rowLimit": 10000
     },
     "inputWidgets": {},
     "nuid": "d032ac1c-d34b-42ea-bdb9-2de2f3d8dad8",
     "showTitle": false,
     "title": ""
    }
   },
   "outputs": [
    {
     "output_type": "display_data",
     "data": {
      "text/html": [
       "<style scoped>\n",
       "  .table-result-container {\n",
       "    max-height: 300px;\n",
       "    overflow: auto;\n",
       "  }\n",
       "  table, th, td {\n",
       "    border: 1px solid black;\n",
       "    border-collapse: collapse;\n",
       "  }\n",
       "  th, td {\n",
       "    padding: 5px;\n",
       "  }\n",
       "  th {\n",
       "    text-align: left;\n",
       "  }\n",
       "</style><div class='table-result-container'><table class='table-result'><thead style='background-color: white'><tr><th>title</th><th>lower(title)</th><th>genres</th><th>upper(genres)</th></tr></thead><tbody><tr><td>Army of the Dead</td><td>army of the dead</td><td>Action,Crime,Horror</td><td>ACTION,CRIME,HORROR</td></tr><tr><td>The Woman in the Window</td><td>the woman in the window</td><td>Crime,Drama,Mystery</td><td>CRIME,DRAMA,MYSTERY</td></tr><tr><td>The Mitchells vs the Machines</td><td>the mitchells vs the machines</td><td>Adventure,Animation,Comedy</td><td>ADVENTURE,ANIMATION,COMEDY</td></tr><tr><td>Blue Miracle</td><td>blue miracle</td><td>Adventure,Biography,Drama</td><td>ADVENTURE,BIOGRAPHY,DRAMA</td></tr><tr><td>Things Heard & Seen</td><td>things heard & seen</td><td>Drama,Horror,Mystery</td><td>DRAMA,HORROR,MYSTERY</td></tr><tr><td>Stowaway</td><td>stowaway</td><td>Drama,Sci-Fi,Thriller</td><td>DRAMA,SCI-FI,THRILLER</td></tr><tr><td>Don't Look Up</td><td>don't look up</td><td>Comedy</td><td>COMEDY</td></tr><tr><td>I Am All Girls</td><td>i am all girls</td><td>Crime,Drama,Mystery</td><td>CRIME,DRAMA,MYSTERY</td></tr><tr><td>Hotel Transylvania: Transformania</td><td>hotel transylvania: transformania</td><td>Adventure,Animation,Comedy</td><td>ADVENTURE,ANIMATION,COMEDY</td></tr><tr><td>The Dig</td><td>the dig</td><td>Biography,Drama,History</td><td>BIOGRAPHY,DRAMA,HISTORY</td></tr><tr><td>Thunder Force</td><td>thunder force</td><td>Action,Adventure,Comedy</td><td>ACTION,ADVENTURE,COMEDY</td></tr><tr><td>The Ice Road</td><td>the ice road</td><td>Thriller</td><td>THRILLER</td></tr><tr><td>Gunpowder Milkshake</td><td>gunpowder milkshake</td><td>Action,Adventure,Thriller</td><td>ACTION,ADVENTURE,THRILLER</td></tr><tr><td>Fear Street</td><td>fear street</td><td>Horror,Mystery</td><td>HORROR,MYSTERY</td></tr><tr><td>The Nailbomber</td><td>the nailbomber</td><td>Crime,Documentary,History</td><td>CRIME,DOCUMENTARY,HISTORY</td></tr><tr><td>Awake</td><td>awake</td><td>Action,Adventure,Drama</td><td>ACTION,ADVENTURE,DRAMA</td></tr><tr><td>Moxie</td><td>moxie</td><td>Comedy,Drama,Music</td><td>COMEDY,DRAMA,MUSIC</td></tr><tr><td>Yes Day</td><td>yes day</td><td>Comedy,Family</td><td>COMEDY,FAMILY</td></tr><tr><td>America: The Motion Picture</td><td>america: the motion picture</td><td>Action,Adventure,Animation</td><td>ACTION,ADVENTURE,ANIMATION</td></tr><tr><td>Outside the Wire</td><td>outside the wire</td><td>Action,Adventure,Fantasy</td><td>ACTION,ADVENTURE,FANTASY</td></tr><tr><td>Red Notice</td><td>red notice</td><td>Action,Comedy,Crime</td><td>ACTION,COMEDY,CRIME</td></tr><tr><td>Bad Trip</td><td>bad trip</td><td>Comedy</td><td>COMEDY</td></tr><tr><td>Malcolm & Marie</td><td>malcolm & marie</td><td>Drama,Romance</td><td>DRAMA,ROMANCE</td></tr><tr><td>Finding 'Ohana</td><td>finding 'ohana</td><td>Action,Adventure,Comedy</td><td>ACTION,ADVENTURE,COMEDY</td></tr><tr><td>Fatherhood</td><td>fatherhood</td><td>Comedy,Drama</td><td>COMEDY,DRAMA</td></tr><tr><td>Deadly Illusions</td><td>deadly illusions</td><td>Drama,Thriller</td><td>DRAMA,THRILLER</td></tr><tr><td>Sing 2</td><td>sing 2</td><td>Adventure,Animation,Comedy</td><td>ADVENTURE,ANIMATION,COMEDY</td></tr><tr><td>A Week Away</td><td>a week away</td><td>Drama,Family,Musical</td><td>DRAMA,FAMILY,MUSICAL</td></tr><tr><td>Blonde</td><td>blonde</td><td>Biography,Drama,Romance</td><td>BIOGRAPHY,DRAMA,ROMANCE</td></tr><tr><td>He's All That</td><td>he's all that</td><td>Comedy,Romance</td><td>COMEDY,ROMANCE</td></tr><tr><td>Seaspiracy</td><td>seaspiracy</td><td>Adventure,Documentary</td><td>ADVENTURE,DOCUMENTARY</td></tr><tr><td>Army of Thieves</td><td>army of thieves</td><td>Action,Crime,Horror</td><td>ACTION,CRIME,HORROR</td></tr><tr><td>Wish Dragon</td><td>wish dragon</td><td>Adventure,Animation,Comedy</td><td>ADVENTURE,ANIMATION,COMEDY</td></tr><tr><td>To All the Boys: Always and Forever</td><td>to all the boys: always and forever</td><td>Comedy,Drama,Romance</td><td>COMEDY,DRAMA,ROMANCE</td></tr><tr><td>Good on Paper</td><td>good on paper</td><td>Comedy,Romance</td><td>COMEDY,ROMANCE</td></tr><tr><td>Escape From Spiderhead</td><td>escape from spiderhead</td><td>Action,Mystery,Sci-Fi</td><td>ACTION,MYSTERY,SCI-FI</td></tr><tr><td>The Last Letter from Your Lover</td><td>the last letter from your lover</td><td>Drama,Romance</td><td>DRAMA,ROMANCE</td></tr><tr><td>The Kissing Booth 3</td><td>the kissing booth 3</td><td>Comedy,Romance</td><td>COMEDY,ROMANCE</td></tr><tr><td>Sweet Girl</td><td>sweet girl</td><td>Action,Drama,Thriller</td><td>ACTION,DRAMA,THRILLER</td></tr><tr><td>Matilda</td><td>matilda</td><td>Comedy,Drama,Family</td><td>COMEDY,DRAMA,FAMILY</td></tr><tr><td>Breaking Boundaries: The Science of Our Planet</td><td>breaking boundaries: the science of our planet</td><td>Documentary</td><td>DOCUMENTARY</td></tr><tr><td>tick, tick...Boom!</td><td>tick, tick...boom!</td><td>Biography,Drama,Musical</td><td>BIOGRAPHY,DRAMA,MUSICAL</td></tr><tr><td>Secret Magic Control Agency</td><td>secret magic control agency</td><td>Adventure,Animation,Comedy</td><td>ADVENTURE,ANIMATION,COMEDY</td></tr><tr><td>Vivo</td><td>vivo</td><td>Adventure,Animation,Comedy</td><td>ADVENTURE,ANIMATION,COMEDY</td></tr><tr><td>The Guilty</td><td>the guilty</td><td>Crime,Drama,Thriller</td><td>CRIME,DRAMA,THRILLER</td></tr><tr><td>The Power of the Dog</td><td>the power of the dog</td><td>Drama</td><td>DRAMA</td></tr><tr><td>Skater Girl</td><td>skater girl</td><td>Drama,Family,Sport</td><td>DRAMA,FAMILY,SPORT</td></tr><tr><td>Trippin' with the Kandasamys</td><td>trippin' with the kandasamys</td><td>Comedy,Romance</td><td>COMEDY,ROMANCE</td></tr><tr><td>Trollhunters: Rise of the Titans</td><td>trollhunters: rise of the titans</td><td>Action,Adventure,Animation</td><td>ACTION,ADVENTURE,ANIMATION</td></tr><tr><td>Fear Street 2</td><td>fear street 2</td><td>Horror,Mystery</td><td>HORROR,MYSTERY</td></tr><tr><td>Kate</td><td>kate</td><td>Action,Adventure,Crime</td><td>ACTION,ADVENTURE,CRIME</td></tr><tr><td>The Loud House</td><td>the loud house</td><td>Action,Adventure,Animation</td><td>ACTION,ADVENTURE,ANIMATION</td></tr><tr><td>Operation Varsity Blues: The College Admissions Scandal</td><td>operation varsity blues: the college admissions scandal</td><td>Crime,Documentary,Drama</td><td>CRIME,DOCUMENTARY,DRAMA</td></tr><tr><td>Hating Peter Tatchell</td><td>hating peter tatchell</td><td>Documentary</td><td>DOCUMENTARY</td></tr><tr><td>Fear Street 3</td><td>fear street 3</td><td>Horror,Mystery</td><td>HORROR,MYSTERY</td></tr><tr><td>The Harder They Fall</td><td>the harder they fall</td><td>Drama,Western</td><td>DRAMA,WESTERN</td></tr><tr><td>Passing</td><td>passing</td><td>Drama</td><td>DRAMA</td></tr><tr><td>Munich</td><td>munich</td><td>Biography,Drama,History</td><td>BIOGRAPHY,DRAMA,HISTORY</td></tr><tr><td>A Boy Called Christmas</td><td>a boy called christmas</td><td>Adventure,Drama,Family</td><td>ADVENTURE,DRAMA,FAMILY</td></tr><tr><td>A Jazzman's Blues</td><td>a jazzman's blues</td><td>Drama</td><td>DRAMA</td></tr><tr><td>Untitled Sandra Bullock/Nora Fingscheidt Project</td><td>untitled sandra bullock/nora fingscheidt project</td><td>Drama</td><td>DRAMA</td></tr><tr><td>Night Teeth</td><td>night teeth</td><td>Thriller</td><td>THRILLER</td></tr><tr><td>In Our Mothers' Gardens</td><td>in our mothers' gardens</td><td>Documentary</td><td>DOCUMENTARY</td></tr><tr><td>The Witcher: Nightmare of the Wolf</td><td>the witcher: nightmare of the wolf</td><td>Action,Adventure,Animation</td><td>ACTION,ADVENTURE,ANIMATION</td></tr><tr><td>Back to the Outback</td><td>back to the outback</td><td>Adventure,Animation,Comedy</td><td>ADVENTURE,ANIMATION,COMEDY</td></tr><tr><td>There's Someone Inside Your House</td><td>there's someone inside your house</td><td>Horror,Thriller</td><td>HORROR,THRILLER</td></tr><tr><td>Biggie: I Got a Story to Tell</td><td>biggie: i got a story to tell</td><td>Biography,Documentary,Music</td><td>BIOGRAPHY,DOCUMENTARY,MUSIC</td></tr><tr><td>Metal Lords</td><td>metal lords</td><td>Drama,Music</td><td>DRAMA,MUSIC</td></tr><tr><td>Pelé</td><td>pelé</td><td>Biography,Documentary,Sport</td><td>BIOGRAPHY,DOCUMENTARY,SPORT</td></tr><tr><td>The Minimalists: Less Is Now</td><td>the minimalists: less is now</td><td>Documentary</td><td>DOCUMENTARY</td></tr><tr><td>Beauty</td><td>beauty</td><td>Drama,Romance</td><td>DRAMA,ROMANCE</td></tr><tr><td>The Princess Switch 3</td><td>the princess switch 3</td><td>Comedy,Drama,Family</td><td>COMEDY,DRAMA,FAMILY</td></tr><tr><td>Love Hard</td><td>love hard</td><td>Comedy,Romance</td><td>COMEDY,ROMANCE</td></tr><tr><td>Strip Down, Rise Up</td><td>strip down, rise up</td><td>Documentary</td><td>DOCUMENTARY</td></tr><tr><td>Rise of the Teenage Mutant Ninja Turtles</td><td>rise of the teenage mutant ninja turtles</td><td>Action,Adventure,Animation</td><td>ACTION,ADVENTURE,ANIMATION</td></tr><tr><td>Nightbooks</td><td>nightbooks</td><td>Family,Fantasy,Horror</td><td>FAMILY,FANTASY,HORROR</td></tr><tr><td>Crack: Cocaine, Corruption & Conspiracy</td><td>crack: cocaine, corruption & conspiracy</td><td>Crime,Documentary,History</td><td>CRIME,DOCUMENTARY,HISTORY</td></tr><tr><td>Against the Ice</td><td>against the ice</td><td>Adventure,Drama,History</td><td>ADVENTURE,DRAMA,HISTORY</td></tr><tr><td>Resort to Love</td><td>resort to love</td><td>Comedy,Romance</td><td>COMEDY,ROMANCE</td></tr><tr><td>A Castle for Christmas</td><td>a castle for christmas</td><td>Adventure,Comedy,Family</td><td>ADVENTURE,COMEDY,FAMILY</td></tr><tr><td>Pray Away</td><td>pray away</td><td>Documentary</td><td>DOCUMENTARY</td></tr><tr><td>Single All the Way</td><td>single all the way</td><td>Comedy,Drama,Romance</td><td>COMEDY,DRAMA,ROMANCE</td></tr><tr><td>Sisters on Track</td><td>sisters on track</td><td>Documentary,Sport</td><td>DOCUMENTARY,SPORT</td></tr><tr><td>Intrusion</td><td>intrusion</td><td>Thriller</td><td>THRILLER</td></tr><tr><td>Accomplice</td><td>accomplice</td><td>Documentary</td><td>DOCUMENTARY</td></tr><tr><td>Hypnotic</td><td>hypnotic</td><td>Horror,Thriller</td><td>HORROR,THRILLER</td></tr><tr><td>Diana</td><td>diana</td><td>Biography,Drama,Musical</td><td>BIOGRAPHY,DRAMA,MUSICAL</td></tr><tr><td>Headspace: Unwind Your Mind</td><td>headspace: unwind your mind</td><td>Animation,Documentary</td><td>ANIMATION,DOCUMENTARY</td></tr><tr><td>Bob Ross: Happy Accidents, Betrayal & Greed</td><td>bob ross: happy accidents, betrayal & greed</td><td>Documentary</td><td>DOCUMENTARY</td></tr><tr><td>Kane Chonicles</td><td>kane chonicles</td><td>Adventure</td><td>ADVENTURE</td></tr><tr><td>Untitled Netflix Family Comedy 2021</td><td>untitled netflix family comedy 2021</td><td>Comedy</td><td>COMEDY</td></tr><tr><td>Untitled Boeing 737 Max/Rory Kennedy Project</td><td>untitled boeing 737 max/rory kennedy project</td><td>Documentary</td><td>DOCUMENTARY</td></tr><tr><td>Happiness Ever After</td><td>happiness ever after</td><td>Drama,Romance</td><td>DRAMA,ROMANCE</td></tr><tr><td>Love and Monsters</td><td>love and monsters</td><td>Action,Adventure,Comedy</td><td>ACTION,ADVENTURE,COMEDY</td></tr><tr><td>I Care a Lot</td><td>i care a lot</td><td>Comedy,Crime,Thriller</td><td>COMEDY,CRIME,THRILLER</td></tr><tr><td>Eurovision Song Contest: The Story of Fire Saga</td><td>eurovision song contest: the story of fire saga</td><td>Comedy,Music</td><td>COMEDY,MUSIC</td></tr><tr><td>The Devil All the Time</td><td>the devil all the time</td><td>Crime,Drama,Thriller</td><td>CRIME,DRAMA,THRILLER</td></tr><tr><td>Honest Thief</td><td>honest thief</td><td>Action,Crime,Drama</td><td>ACTION,CRIME,DRAMA</td></tr><tr><td>Run</td><td>run</td><td>Mystery,Thriller</td><td>MYSTERY,THRILLER</td></tr><tr><td>News of the World</td><td>news of the world</td><td>Action,Adventure,Drama</td><td>ACTION,ADVENTURE,DRAMA</td></tr><tr><td>Enola Holmes</td><td>enola holmes</td><td>Action,Adventure,Crime</td><td>ACTION,ADVENTURE,CRIME</td></tr><tr><td>The Trial of the Chicago 7</td><td>the trial of the chicago 7</td><td>Drama,History,Thriller</td><td>DRAMA,HISTORY,THRILLER</td></tr><tr><td>The Water Man</td><td>the water man</td><td>Adventure,Drama,Family</td><td>ADVENTURE,DRAMA,FAMILY</td></tr><tr><td>Breach</td><td>breach</td><td>Action,Sci-Fi</td><td>ACTION,SCI-FI</td></tr><tr><td>The Old Guard</td><td>the old guard</td><td>Action,Adventure,Fantasy</td><td>ACTION,ADVENTURE,FANTASY</td></tr><tr><td>Extraction</td><td>extraction</td><td>Action,Thriller</td><td>ACTION,THRILLER</td></tr><tr><td>Spenser Confidential</td><td>spenser confidential</td><td>Action,Comedy,Crime</td><td>ACTION,COMEDY,CRIME</td></tr><tr><td>Mank</td><td>mank</td><td>Biography,Comedy,Drama</td><td>BIOGRAPHY,COMEDY,DRAMA</td></tr><tr><td>Hillbilly Elegy</td><td>hillbilly elegy</td><td>Drama</td><td>DRAMA</td></tr><tr><td>Rebecca</td><td>rebecca</td><td>Drama,Mystery,Romance</td><td>DRAMA,MYSTERY,ROMANCE</td></tr><tr><td>I'm Thinking of Ending Things</td><td>i'm thinking of ending things</td><td>Drama,Thriller</td><td>DRAMA,THRILLER</td></tr><tr><td>Pieces of a Woman</td><td>pieces of a woman</td><td>Drama</td><td>DRAMA</td></tr><tr><td>My Octopus Teacher</td><td>my octopus teacher</td><td>Documentary</td><td>DOCUMENTARY</td></tr><tr><td>Fantasy Island</td><td>fantasy island</td><td>Action,Adventure,Fantasy</td><td>ACTION,ADVENTURE,FANTASY</td></tr><tr><td>The Wrong Missy</td><td>the wrong missy</td><td>Comedy,Romance</td><td>COMEDY,ROMANCE</td></tr><tr><td>The Midnight Sky</td><td>the midnight sky</td><td>Drama,Fantasy,Sci-Fi</td><td>DRAMA,FANTASY,SCI-FI</td></tr><tr><td>We Can Be Heroes</td><td>we can be heroes</td><td>Action,Comedy,Drama</td><td>ACTION,COMEDY,DRAMA</td></tr><tr><td>Project Power</td><td>project power</td><td>Action,Crime,Sci-Fi</td><td>ACTION,CRIME,SCI-FI</td></tr><tr><td>The Babysitter: Killer Queen</td><td>the babysitter: killer queen</td><td>Comedy,Horror</td><td>COMEDY,HORROR</td></tr><tr><td>His House</td><td>his house</td><td>Drama,Horror,Thriller</td><td>DRAMA,HORROR,THRILLER</td></tr><tr><td>Ma Rainey's Black Bottom</td><td>ma rainey's black bottom</td><td>Drama,Music</td><td>DRAMA,MUSIC</td></tr><tr><td>Hubie Halloween</td><td>hubie halloween</td><td>Comedy,Mystery</td><td>COMEDY,MYSTERY</td></tr><tr><td>Concrete Cowboy</td><td>concrete cowboy</td><td>Drama</td><td>DRAMA</td></tr><tr><td>All the Bright Places</td><td>all the bright places</td><td>Drama,Romance</td><td>DRAMA,ROMANCE</td></tr><tr><td>Holidate</td><td>holidate</td><td>Comedy,Romance</td><td>COMEDY,ROMANCE</td></tr><tr><td>2067</td><td>2067</td><td>Sci-Fi</td><td>SCI-FI</td></tr><tr><td>Force of Nature</td><td>force of nature</td><td>Action,Crime,Drama</td><td>ACTION,CRIME,DRAMA</td></tr><tr><td>Da 5 Bloods</td><td>da 5 bloods</td><td>Adventure,Drama,War</td><td>ADVENTURE,DRAMA,WAR</td></tr><tr><td>The SpongeBob Movie: Sponge on the Run</td><td>the spongebob movie: sponge on the run</td><td>Adventure,Animation,Comedy</td><td>ADVENTURE,ANIMATION,COMEDY</td></tr><tr><td>Jungle Beat: The Movie</td><td>jungle beat: the movie</td><td>Adventure,Animation,Comedy</td><td>ADVENTURE,ANIMATION,COMEDY</td></tr><tr><td>Penguin Bloom</td><td>penguin bloom</td><td>Drama</td><td>DRAMA</td></tr><tr><td>Over the Moon</td><td>over the moon</td><td>Adventure,Animation,Comedy</td><td>ADVENTURE,ANIMATION,COMEDY</td></tr><tr><td>Love Wedding Repeat</td><td>love wedding repeat</td><td>Comedy,Romance</td><td>COMEDY,ROMANCE</td></tr><tr><td>The Prom</td><td>the prom</td><td>Comedy,Drama,Musical</td><td>COMEDY,DRAMA,MUSICAL</td></tr><tr><td>The Kissing Booth 2</td><td>the kissing booth 2</td><td>Comedy,Romance</td><td>COMEDY,ROMANCE</td></tr><tr><td>Lost Girls</td><td>lost girls</td><td>Drama,Mystery,Thriller</td><td>DRAMA,MYSTERY,THRILLER</td></tr><tr><td>The Stand In</td><td>the stand in</td><td>Comedy,Drama</td><td>COMEDY,DRAMA</td></tr><tr><td>The Last Thing He Wanted</td><td>the last thing he wanted</td><td>Crime,Drama,Thriller</td><td>CRIME,DRAMA,THRILLER</td></tr><tr><td>The Social Dilemma</td><td>the social dilemma</td><td>Documentary,Drama</td><td>DOCUMENTARY,DRAMA</td></tr><tr><td>Horse Girl</td><td>horse girl</td><td>Drama,Mystery,Thriller</td><td>DRAMA,MYSTERY,THRILLER</td></tr><tr><td>The Sleepover</td><td>the sleepover</td><td>Action,Adventure,Comedy</td><td>ACTION,ADVENTURE,COMEDY</td></tr><tr><td>The Boys in the Band</td><td>the boys in the band</td><td>Drama</td><td>DRAMA</td></tr><tr><td>The Last Days of American Crime</td><td>the last days of american crime</td><td>Action,Crime,Drama</td><td>ACTION,CRIME,DRAMA</td></tr><tr><td>Love, Guaranteed</td><td>love, guaranteed</td><td>Comedy,Romance</td><td>COMEDY,ROMANCE</td></tr><tr><td>The Willoughbys</td><td>the willoughbys</td><td>Adventure,Animation,Comedy</td><td>ADVENTURE,ANIMATION,COMEDY</td></tr><tr><td>Feel the Beat</td><td>feel the beat</td><td>Comedy,Drama,Family</td><td>COMEDY,DRAMA,FAMILY</td></tr><tr><td>American Murder: The Family Next Door</td><td>american murder: the family next door</td><td>Crime,Documentary</td><td>CRIME,DOCUMENTARY</td></tr><tr><td>Work It</td><td>work it</td><td>Comedy,Music</td><td>COMEDY,MUSIC</td></tr><tr><td>The Lovebirds</td><td>the lovebirds</td><td>Action,Comedy,Crime</td><td>ACTION,COMEDY,CRIME</td></tr><tr><td>Sightless</td><td>sightless</td><td>Drama,Thriller</td><td>DRAMA,THRILLER</td></tr><tr><td>Dangerous Lies</td><td>dangerous lies</td><td>Drama,Mystery,Thriller</td><td>DRAMA,MYSTERY,THRILLER</td></tr><tr><td>The F**k-It List</td><td>the f**k-it list</td><td>Comedy</td><td>COMEDY</td></tr><tr><td>A Fall from Grace</td><td>a fall from grace</td><td>Drama,Fantasy,Thriller</td><td>DRAMA,FANTASY,THRILLER</td></tr><tr><td>Vampires vs. the Bronx</td><td>vampires vs. the bronx</td><td>Comedy,Horror</td><td>COMEDY,HORROR</td></tr><tr><td>Think Like a Dog</td><td>think like a dog</td><td>Comedy,Drama,Family</td><td>COMEDY,DRAMA,FAMILY</td></tr><tr><td>To All the Boys: P.S. I Still Love You</td><td>to all the boys: p.s. i still love you</td><td>Comedy,Drama,Romance</td><td>COMEDY,DRAMA,ROMANCE</td></tr><tr><td>Desperados</td><td>desperados</td><td>Comedy,Romance</td><td>COMEDY,ROMANCE</td></tr><tr><td>A Babysitter's Guide to Monster Hunting</td><td>a babysitter's guide to monster hunting</td><td>Comedy,Family,Fantasy</td><td>COMEDY,FAMILY,FANTASY</td></tr><tr><td>Sergio</td><td>sergio</td><td>Biography,Drama,History</td><td>BIOGRAPHY,DRAMA,HISTORY</td></tr><tr><td>Roped</td><td>roped</td><td>Drama,Romance</td><td>DRAMA,ROMANCE</td></tr><tr><td>David Attenborough: A Life on Our Planet</td><td>david attenborough: a life on our planet</td><td>Biography,Documentary</td><td>BIOGRAPHY,DOCUMENTARY</td></tr><tr><td>The Debt Collector 2</td><td>the debt collector 2</td><td>Action,Comedy</td><td>ACTION,COMEDY</td></tr><tr><td>A California Christmas</td><td>a california christmas</td><td>Comedy,Drama,Romance</td><td>COMEDY,DRAMA,ROMANCE</td></tr><tr><td>All Together Now</td><td>all together now</td><td>Drama</td><td>DRAMA</td></tr><tr><td>The Christmas Chronicles: Part Two</td><td>the christmas chronicles: part two</td><td>Adventure,Comedy,Family</td><td>ADVENTURE,COMEDY,FAMILY</td></tr><tr><td>The Princess Switch: Switched Again</td><td>the princess switch: switched again</td><td>Comedy,Drama,Family</td><td>COMEDY,DRAMA,FAMILY</td></tr><tr><td>Crip Camp</td><td>crip camp</td><td>Documentary</td><td>DOCUMENTARY</td></tr><tr><td>Lady Driver</td><td>lady driver</td><td>Sport</td><td>SPORT</td></tr><tr><td>Coffee & Kareem</td><td>coffee & kareem</td><td>Action,Comedy,Crime</td><td>ACTION,COMEDY,CRIME</td></tr><tr><td>Fatal Affair</td><td>fatal affair</td><td>Thriller</td><td>THRILLER</td></tr><tr><td>Wheels of Fortune</td><td>wheels of fortune</td><td>Comedy</td><td>COMEDY</td></tr><tr><td>Kiss the Ground</td><td>kiss the ground</td><td>Documentary</td><td>DOCUMENTARY</td></tr><tr><td>The Forty-Year-Old Version</td><td>the forty-year-old version</td><td>Comedy,Drama</td><td>COMEDY,DRAMA</td></tr><tr><td>The Main Event</td><td>the main event</td><td>Action,Comedy,Family</td><td>ACTION,COMEDY,FAMILY</td></tr><tr><td>Made You Look: A True Story About Fake Art</td><td>made you look: a true story about fake art</td><td>Crime,Documentary</td><td>CRIME,DOCUMENTARY</td></tr><tr><td>The Fisherman's Diary</td><td>the fisherman's diary</td><td>Drama</td><td>DRAMA</td></tr><tr><td>Serious Men</td><td>serious men</td><td>Comedy,Drama</td><td>COMEDY,DRAMA</td></tr><tr><td>Uncorked</td><td>uncorked</td><td>Drama</td><td>DRAMA</td></tr><tr><td>Midnight at the Magnolia</td><td>midnight at the magnolia</td><td>Comedy,Romance</td><td>COMEDY,ROMANCE</td></tr><tr><td>All Day and a Night</td><td>all day and a night</td><td>Drama</td><td>DRAMA</td></tr><tr><td>Operation Christmas Drop</td><td>operation christmas drop</td><td>Comedy,Family,Romance</td><td>COMEDY,FAMILY,ROMANCE</td></tr><tr><td>Jingle Jangle: A Christmas Journey</td><td>jingle jangle: a christmas journey</td><td>Family,Fantasy,Musical</td><td>FAMILY,FANTASY,MUSICAL</td></tr><tr><td>Bruised</td><td>bruised</td><td>Drama,Sport</td><td>DRAMA,SPORT</td></tr><tr><td>What Is Life Worth</td><td>what is life worth</td><td>Biography,Drama,History</td><td>BIOGRAPHY,DRAMA,HISTORY</td></tr><tr><td>Have a Good Trip: Adventures in Psychedelics</td><td>have a good trip: adventures in psychedelics</td><td>Comedy,Documentary</td><td>COMEDY,DOCUMENTARY</td></tr><tr><td>I Am Vengeance: Retaliation</td><td>i am vengeance: retaliation</td><td>Action</td><td>ACTION</td></tr><tr><td>Miss Americana</td><td>miss americana</td><td>Biography,Documentary,Music</td><td>BIOGRAPHY,DOCUMENTARY,MUSIC</td></tr><tr><td>Dick Johnson Is Dead</td><td>dick johnson is dead</td><td>Documentary,Drama</td><td>DOCUMENTARY,DRAMA</td></tr><tr><td>You Are My Home</td><td>you are my home</td><td>Animation,Family,Fantasy</td><td>ANIMATION,FAMILY,FANTASY</td></tr><tr><td>Tigertail</td><td>tigertail</td><td>Drama</td><td>DRAMA</td></tr><tr><td>Go!</td><td>go!</td><td>Family,Sport</td><td>FAMILY,SPORT</td></tr><tr><td>Athlete A</td><td>athlete a</td><td>Crime,Documentary,Sport</td><td>CRIME,DOCUMENTARY,SPORT</td></tr><tr><td>Secrets of the Saqqara Tomb</td><td>secrets of the saqqara tomb</td><td>Documentary,History</td><td>DOCUMENTARY,HISTORY</td></tr><tr><td>Ricos de Amor</td><td>ricos de amor</td><td>Comedy,Romance</td><td>COMEDY,ROMANCE</td></tr><tr><td>A Secret Love</td><td>a secret love</td><td>Documentary,Drama</td><td>DOCUMENTARY,DRAMA</td></tr><tr><td>Ariana Grande: Excuse Me, I Love You</td><td>ariana grande: excuse me, i love you</td><td>Documentary,Music</td><td>DOCUMENTARY,MUSIC</td></tr><tr><td>Malibu Rescue: The Next Wave</td><td>malibu rescue: the next wave</td><td>Action,Comedy,Family</td><td>ACTION,COMEDY,FAMILY</td></tr><tr><td>Namaste Wahala</td><td>namaste wahala</td><td>Drama,Romance</td><td>DRAMA,ROMANCE</td></tr><tr><td>Citation</td><td>citation</td><td>Drama,Thriller</td><td>DRAMA,THRILLER</td></tr><tr><td>Farewell Amor</td><td>farewell amor</td><td>Drama,Music,Romance</td><td>DRAMA,MUSIC,ROMANCE</td></tr><tr><td>Funny Boy</td><td>funny boy</td><td>Drama</td><td>DRAMA</td></tr><tr><td>A New York Christmas Wedding</td><td>a new york christmas wedding</td><td>Drama,Romance</td><td>DRAMA,ROMANCE</td></tr><tr><td>Christmas on the Square</td><td>christmas on the square</td><td>Comedy,Family,Musical</td><td>COMEDY,FAMILY,MUSICAL</td></tr><tr><td>Seriously Single</td><td>seriously single</td><td>Comedy,Romance</td><td>COMEDY,ROMANCE</td></tr><tr><td>Rising Phoenix</td><td>rising phoenix</td><td>Documentary,Sport</td><td>DOCUMENTARY,SPORT</td></tr><tr><td>Riding Faith</td><td>riding faith</td><td>Family</td><td>FAMILY</td></tr><tr><td>Murder to Mercy: The Cyntoia Brown Story</td><td>murder to mercy: the cyntoia brown story</td><td>Documentary</td><td>DOCUMENTARY</td></tr><tr><td>Becoming</td><td>becoming</td><td>Documentary</td><td>DOCUMENTARY</td></tr><tr><td>Not a Game</td><td>not a game</td><td>Documentary</td><td>DOCUMENTARY</td></tr><tr><td>Barbie Princess Adventure</td><td>barbie princess adventure</td><td>Animation,Musical</td><td>ANIMATION,MUSICAL</td></tr><tr><td>Angela's Christmas Wish</td><td>angela's christmas wish</td><td>Adventure,Animation,Family</td><td>ADVENTURE,ANIMATION,FAMILY</td></tr><tr><td>Father Soldier Son</td><td>father soldier son</td><td>Documentary,War</td><td>DOCUMENTARY,WAR</td></tr><tr><td>Uppity: The Willy T. Ribbs Story</td><td>uppity: the willy t. ribbs story</td><td>Documentary</td><td>DOCUMENTARY</td></tr><tr><td>Maska</td><td>maska</td><td>Comedy,Drama,Romance</td><td>COMEDY,DRAMA,ROMANCE</td></tr><tr><td>Octonauts & the Great Barrier Reef</td><td>octonauts & the great barrier reef</td><td>Action,Adventure,Animation</td><td>ACTION,ADVENTURE,ANIMATION</td></tr><tr><td>Shawn Mendes: In Wonder</td><td>shawn mendes: in wonder</td><td>Documentary,Music</td><td>DOCUMENTARY,MUSIC</td></tr><tr><td>LA Originals</td><td>la originals</td><td>Documentary</td><td>DOCUMENTARY</td></tr><tr><td>Mucho Mucho Amor: The Legend of Walter Mercado</td><td>mucho mucho amor: the legend of walter mercado</td><td>Documentary</td><td>DOCUMENTARY</td></tr><tr><td>Octonauts and the Caves of Sac Actun</td><td>octonauts and the caves of sac actun</td><td>Adventure,Animation,Comedy</td><td>ADVENTURE,ANIMATION,COMEDY</td></tr><tr><td>The Larva Island Movie</td><td>the larva island movie</td><td>Adventure,Animation,Comedy</td><td>ADVENTURE,ANIMATION,COMEDY</td></tr><tr><td>André & His Olive Tree</td><td>andré & his olive tree</td><td>Documentary</td><td>DOCUMENTARY</td></tr><tr><td>Dance Dreams: Hot Chocolate Nutcracker</td><td>dance dreams: hot chocolate nutcracker</td><td>Documentary,Family</td><td>DOCUMENTARY,FAMILY</td></tr><tr><td>#cats_the_mewvie</td><td>#cats_the_mewvie</td><td>Documentary</td><td>DOCUMENTARY</td></tr><tr><td>Giving Voice</td><td>giving voice</td><td>Documentary</td><td>DOCUMENTARY</td></tr><tr><td>The App That Stole Christmas</td><td>the app that stole christmas</td><td>Comedy</td><td>COMEDY</td></tr><tr><td>Shawn Mendes: Live in Concert</td><td>shawn mendes: live in concert</td><td>Music</td><td>MUSIC</td></tr><tr><td>Thomas & Friends: Marvelous Machinery</td><td>thomas & friends: marvelous machinery</td><td>Action,Adventure,Animation</td><td>ACTION,ADVENTURE,ANIMATION</td></tr><tr><td>The Magic School Bus Rides Again: Kids in Space</td><td>the magic school bus rides again: kids in space</td><td>Adventure,Animation,Comedy</td><td>ADVENTURE,ANIMATION,COMEDY</td></tr><tr><td>Night on Earth: Shot in the Dark</td><td>night on earth: shot in the dark</td><td>Documentary</td><td>DOCUMENTARY</td></tr><tr><td>United Nation Three Decades of Drum & Bass</td><td>united nation three decades of drum & bass</td><td>Documentary</td><td>DOCUMENTARY</td></tr><tr><td>Light in the Dark</td><td>light in the dark</td><td>Thriller</td><td>THRILLER</td></tr><tr><td>Pemburu di Manchester Biru</td><td>pemburu di manchester biru</td><td>Biography,Drama</td><td>BIOGRAPHY,DRAMA</td></tr><tr><td>Bigflo & Oli: Hip Hop Frenzy</td><td>bigflo & oli: hip hop frenzy</td><td>Documentary,Music</td><td>DOCUMENTARY,MUSIC</td></tr><tr><td>Horrid Henry's Gross Day Out</td><td>horrid henry's gross day out</td><td>Action,Adventure,Animation</td><td>ACTION,ADVENTURE,ANIMATION</td></tr><tr><td>Last days on Earth</td><td>last days on earth</td><td>Documentary</td><td>DOCUMENTARY</td></tr></tbody></table></div>"
      ]
     },
     "metadata": {
      "application/vnd.databricks.v1+output": {
       "addedWidgets": {},
       "aggData": [],
       "aggError": "",
       "aggOverflow": false,
       "aggSchema": [],
       "aggSeriesLimitReached": false,
       "aggType": "",
       "arguments": {},
       "columnCustomDisplayInfos": {},
       "data": [
        [
         "Army of the Dead",
         "army of the dead",
         "Action,Crime,Horror",
         "ACTION,CRIME,HORROR"
        ],
        [
         "The Woman in the Window",
         "the woman in the window",
         "Crime,Drama,Mystery",
         "CRIME,DRAMA,MYSTERY"
        ],
        [
         "The Mitchells vs the Machines",
         "the mitchells vs the machines",
         "Adventure,Animation,Comedy",
         "ADVENTURE,ANIMATION,COMEDY"
        ],
        [
         "Blue Miracle",
         "blue miracle",
         "Adventure,Biography,Drama",
         "ADVENTURE,BIOGRAPHY,DRAMA"
        ],
        [
         "Things Heard & Seen",
         "things heard & seen",
         "Drama,Horror,Mystery",
         "DRAMA,HORROR,MYSTERY"
        ],
        [
         "Stowaway",
         "stowaway",
         "Drama,Sci-Fi,Thriller",
         "DRAMA,SCI-FI,THRILLER"
        ],
        [
         "Don't Look Up",
         "don't look up",
         "Comedy",
         "COMEDY"
        ],
        [
         "I Am All Girls",
         "i am all girls",
         "Crime,Drama,Mystery",
         "CRIME,DRAMA,MYSTERY"
        ],
        [
         "Hotel Transylvania: Transformania",
         "hotel transylvania: transformania",
         "Adventure,Animation,Comedy",
         "ADVENTURE,ANIMATION,COMEDY"
        ],
        [
         "The Dig",
         "the dig",
         "Biography,Drama,History",
         "BIOGRAPHY,DRAMA,HISTORY"
        ],
        [
         "Thunder Force",
         "thunder force",
         "Action,Adventure,Comedy",
         "ACTION,ADVENTURE,COMEDY"
        ],
        [
         "The Ice Road",
         "the ice road",
         "Thriller",
         "THRILLER"
        ],
        [
         "Gunpowder Milkshake",
         "gunpowder milkshake",
         "Action,Adventure,Thriller",
         "ACTION,ADVENTURE,THRILLER"
        ],
        [
         "Fear Street",
         "fear street",
         "Horror,Mystery",
         "HORROR,MYSTERY"
        ],
        [
         "The Nailbomber",
         "the nailbomber",
         "Crime,Documentary,History",
         "CRIME,DOCUMENTARY,HISTORY"
        ],
        [
         "Awake",
         "awake",
         "Action,Adventure,Drama",
         "ACTION,ADVENTURE,DRAMA"
        ],
        [
         "Moxie",
         "moxie",
         "Comedy,Drama,Music",
         "COMEDY,DRAMA,MUSIC"
        ],
        [
         "Yes Day",
         "yes day",
         "Comedy,Family",
         "COMEDY,FAMILY"
        ],
        [
         "America: The Motion Picture",
         "america: the motion picture",
         "Action,Adventure,Animation",
         "ACTION,ADVENTURE,ANIMATION"
        ],
        [
         "Outside the Wire",
         "outside the wire",
         "Action,Adventure,Fantasy",
         "ACTION,ADVENTURE,FANTASY"
        ],
        [
         "Red Notice",
         "red notice",
         "Action,Comedy,Crime",
         "ACTION,COMEDY,CRIME"
        ],
        [
         "Bad Trip",
         "bad trip",
         "Comedy",
         "COMEDY"
        ],
        [
         "Malcolm & Marie",
         "malcolm & marie",
         "Drama,Romance",
         "DRAMA,ROMANCE"
        ],
        [
         "Finding 'Ohana",
         "finding 'ohana",
         "Action,Adventure,Comedy",
         "ACTION,ADVENTURE,COMEDY"
        ],
        [
         "Fatherhood",
         "fatherhood",
         "Comedy,Drama",
         "COMEDY,DRAMA"
        ],
        [
         "Deadly Illusions",
         "deadly illusions",
         "Drama,Thriller",
         "DRAMA,THRILLER"
        ],
        [
         "Sing 2",
         "sing 2",
         "Adventure,Animation,Comedy",
         "ADVENTURE,ANIMATION,COMEDY"
        ],
        [
         "A Week Away",
         "a week away",
         "Drama,Family,Musical",
         "DRAMA,FAMILY,MUSICAL"
        ],
        [
         "Blonde",
         "blonde",
         "Biography,Drama,Romance",
         "BIOGRAPHY,DRAMA,ROMANCE"
        ],
        [
         "He's All That",
         "he's all that",
         "Comedy,Romance",
         "COMEDY,ROMANCE"
        ],
        [
         "Seaspiracy",
         "seaspiracy",
         "Adventure,Documentary",
         "ADVENTURE,DOCUMENTARY"
        ],
        [
         "Army of Thieves",
         "army of thieves",
         "Action,Crime,Horror",
         "ACTION,CRIME,HORROR"
        ],
        [
         "Wish Dragon",
         "wish dragon",
         "Adventure,Animation,Comedy",
         "ADVENTURE,ANIMATION,COMEDY"
        ],
        [
         "To All the Boys: Always and Forever",
         "to all the boys: always and forever",
         "Comedy,Drama,Romance",
         "COMEDY,DRAMA,ROMANCE"
        ],
        [
         "Good on Paper",
         "good on paper",
         "Comedy,Romance",
         "COMEDY,ROMANCE"
        ],
        [
         "Escape From Spiderhead",
         "escape from spiderhead",
         "Action,Mystery,Sci-Fi",
         "ACTION,MYSTERY,SCI-FI"
        ],
        [
         "The Last Letter from Your Lover",
         "the last letter from your lover",
         "Drama,Romance",
         "DRAMA,ROMANCE"
        ],
        [
         "The Kissing Booth 3",
         "the kissing booth 3",
         "Comedy,Romance",
         "COMEDY,ROMANCE"
        ],
        [
         "Sweet Girl",
         "sweet girl",
         "Action,Drama,Thriller",
         "ACTION,DRAMA,THRILLER"
        ],
        [
         "Matilda",
         "matilda",
         "Comedy,Drama,Family",
         "COMEDY,DRAMA,FAMILY"
        ],
        [
         "Breaking Boundaries: The Science of Our Planet",
         "breaking boundaries: the science of our planet",
         "Documentary",
         "DOCUMENTARY"
        ],
        [
         "tick, tick...Boom!",
         "tick, tick...boom!",
         "Biography,Drama,Musical",
         "BIOGRAPHY,DRAMA,MUSICAL"
        ],
        [
         "Secret Magic Control Agency",
         "secret magic control agency",
         "Adventure,Animation,Comedy",
         "ADVENTURE,ANIMATION,COMEDY"
        ],
        [
         "Vivo",
         "vivo",
         "Adventure,Animation,Comedy",
         "ADVENTURE,ANIMATION,COMEDY"
        ],
        [
         "The Guilty",
         "the guilty",
         "Crime,Drama,Thriller",
         "CRIME,DRAMA,THRILLER"
        ],
        [
         "The Power of the Dog",
         "the power of the dog",
         "Drama",
         "DRAMA"
        ],
        [
         "Skater Girl",
         "skater girl",
         "Drama,Family,Sport",
         "DRAMA,FAMILY,SPORT"
        ],
        [
         "Trippin' with the Kandasamys",
         "trippin' with the kandasamys",
         "Comedy,Romance",
         "COMEDY,ROMANCE"
        ],
        [
         "Trollhunters: Rise of the Titans",
         "trollhunters: rise of the titans",
         "Action,Adventure,Animation",
         "ACTION,ADVENTURE,ANIMATION"
        ],
        [
         "Fear Street 2",
         "fear street 2",
         "Horror,Mystery",
         "HORROR,MYSTERY"
        ],
        [
         "Kate",
         "kate",
         "Action,Adventure,Crime",
         "ACTION,ADVENTURE,CRIME"
        ],
        [
         "The Loud House",
         "the loud house",
         "Action,Adventure,Animation",
         "ACTION,ADVENTURE,ANIMATION"
        ],
        [
         "Operation Varsity Blues: The College Admissions Scandal",
         "operation varsity blues: the college admissions scandal",
         "Crime,Documentary,Drama",
         "CRIME,DOCUMENTARY,DRAMA"
        ],
        [
         "Hating Peter Tatchell",
         "hating peter tatchell",
         "Documentary",
         "DOCUMENTARY"
        ],
        [
         "Fear Street 3",
         "fear street 3",
         "Horror,Mystery",
         "HORROR,MYSTERY"
        ],
        [
         "The Harder They Fall",
         "the harder they fall",
         "Drama,Western",
         "DRAMA,WESTERN"
        ],
        [
         "Passing",
         "passing",
         "Drama",
         "DRAMA"
        ],
        [
         "Munich",
         "munich",
         "Biography,Drama,History",
         "BIOGRAPHY,DRAMA,HISTORY"
        ],
        [
         "A Boy Called Christmas",
         "a boy called christmas",
         "Adventure,Drama,Family",
         "ADVENTURE,DRAMA,FAMILY"
        ],
        [
         "A Jazzman's Blues",
         "a jazzman's blues",
         "Drama",
         "DRAMA"
        ],
        [
         "Untitled Sandra Bullock/Nora Fingscheidt Project",
         "untitled sandra bullock/nora fingscheidt project",
         "Drama",
         "DRAMA"
        ],
        [
         "Night Teeth",
         "night teeth",
         "Thriller",
         "THRILLER"
        ],
        [
         "In Our Mothers' Gardens",
         "in our mothers' gardens",
         "Documentary",
         "DOCUMENTARY"
        ],
        [
         "The Witcher: Nightmare of the Wolf",
         "the witcher: nightmare of the wolf",
         "Action,Adventure,Animation",
         "ACTION,ADVENTURE,ANIMATION"
        ],
        [
         "Back to the Outback",
         "back to the outback",
         "Adventure,Animation,Comedy",
         "ADVENTURE,ANIMATION,COMEDY"
        ],
        [
         "There's Someone Inside Your House",
         "there's someone inside your house",
         "Horror,Thriller",
         "HORROR,THRILLER"
        ],
        [
         "Biggie: I Got a Story to Tell",
         "biggie: i got a story to tell",
         "Biography,Documentary,Music",
         "BIOGRAPHY,DOCUMENTARY,MUSIC"
        ],
        [
         "Metal Lords",
         "metal lords",
         "Drama,Music",
         "DRAMA,MUSIC"
        ],
        [
         "Pelé",
         "pelé",
         "Biography,Documentary,Sport",
         "BIOGRAPHY,DOCUMENTARY,SPORT"
        ],
        [
         "The Minimalists: Less Is Now",
         "the minimalists: less is now",
         "Documentary",
         "DOCUMENTARY"
        ],
        [
         "Beauty",
         "beauty",
         "Drama,Romance",
         "DRAMA,ROMANCE"
        ],
        [
         "The Princess Switch 3",
         "the princess switch 3",
         "Comedy,Drama,Family",
         "COMEDY,DRAMA,FAMILY"
        ],
        [
         "Love Hard",
         "love hard",
         "Comedy,Romance",
         "COMEDY,ROMANCE"
        ],
        [
         "Strip Down, Rise Up",
         "strip down, rise up",
         "Documentary",
         "DOCUMENTARY"
        ],
        [
         "Rise of the Teenage Mutant Ninja Turtles",
         "rise of the teenage mutant ninja turtles",
         "Action,Adventure,Animation",
         "ACTION,ADVENTURE,ANIMATION"
        ],
        [
         "Nightbooks",
         "nightbooks",
         "Family,Fantasy,Horror",
         "FAMILY,FANTASY,HORROR"
        ],
        [
         "Crack: Cocaine, Corruption & Conspiracy",
         "crack: cocaine, corruption & conspiracy",
         "Crime,Documentary,History",
         "CRIME,DOCUMENTARY,HISTORY"
        ],
        [
         "Against the Ice",
         "against the ice",
         "Adventure,Drama,History",
         "ADVENTURE,DRAMA,HISTORY"
        ],
        [
         "Resort to Love",
         "resort to love",
         "Comedy,Romance",
         "COMEDY,ROMANCE"
        ],
        [
         "A Castle for Christmas",
         "a castle for christmas",
         "Adventure,Comedy,Family",
         "ADVENTURE,COMEDY,FAMILY"
        ],
        [
         "Pray Away",
         "pray away",
         "Documentary",
         "DOCUMENTARY"
        ],
        [
         "Single All the Way",
         "single all the way",
         "Comedy,Drama,Romance",
         "COMEDY,DRAMA,ROMANCE"
        ],
        [
         "Sisters on Track",
         "sisters on track",
         "Documentary,Sport",
         "DOCUMENTARY,SPORT"
        ],
        [
         "Intrusion",
         "intrusion",
         "Thriller",
         "THRILLER"
        ],
        [
         "Accomplice",
         "accomplice",
         "Documentary",
         "DOCUMENTARY"
        ],
        [
         "Hypnotic",
         "hypnotic",
         "Horror,Thriller",
         "HORROR,THRILLER"
        ],
        [
         "Diana",
         "diana",
         "Biography,Drama,Musical",
         "BIOGRAPHY,DRAMA,MUSICAL"
        ],
        [
         "Headspace: Unwind Your Mind",
         "headspace: unwind your mind",
         "Animation,Documentary",
         "ANIMATION,DOCUMENTARY"
        ],
        [
         "Bob Ross: Happy Accidents, Betrayal & Greed",
         "bob ross: happy accidents, betrayal & greed",
         "Documentary",
         "DOCUMENTARY"
        ],
        [
         "Kane Chonicles",
         "kane chonicles",
         "Adventure",
         "ADVENTURE"
        ],
        [
         "Untitled Netflix Family Comedy 2021",
         "untitled netflix family comedy 2021",
         "Comedy",
         "COMEDY"
        ],
        [
         "Untitled Boeing 737 Max/Rory Kennedy Project",
         "untitled boeing 737 max/rory kennedy project",
         "Documentary",
         "DOCUMENTARY"
        ],
        [
         "Happiness Ever After",
         "happiness ever after",
         "Drama,Romance",
         "DRAMA,ROMANCE"
        ],
        [
         "Love and Monsters",
         "love and monsters",
         "Action,Adventure,Comedy",
         "ACTION,ADVENTURE,COMEDY"
        ],
        [
         "I Care a Lot",
         "i care a lot",
         "Comedy,Crime,Thriller",
         "COMEDY,CRIME,THRILLER"
        ],
        [
         "Eurovision Song Contest: The Story of Fire Saga",
         "eurovision song contest: the story of fire saga",
         "Comedy,Music",
         "COMEDY,MUSIC"
        ],
        [
         "The Devil All the Time",
         "the devil all the time",
         "Crime,Drama,Thriller",
         "CRIME,DRAMA,THRILLER"
        ],
        [
         "Honest Thief",
         "honest thief",
         "Action,Crime,Drama",
         "ACTION,CRIME,DRAMA"
        ],
        [
         "Run",
         "run",
         "Mystery,Thriller",
         "MYSTERY,THRILLER"
        ],
        [
         "News of the World",
         "news of the world",
         "Action,Adventure,Drama",
         "ACTION,ADVENTURE,DRAMA"
        ],
        [
         "Enola Holmes",
         "enola holmes",
         "Action,Adventure,Crime",
         "ACTION,ADVENTURE,CRIME"
        ],
        [
         "The Trial of the Chicago 7",
         "the trial of the chicago 7",
         "Drama,History,Thriller",
         "DRAMA,HISTORY,THRILLER"
        ],
        [
         "The Water Man",
         "the water man",
         "Adventure,Drama,Family",
         "ADVENTURE,DRAMA,FAMILY"
        ],
        [
         "Breach",
         "breach",
         "Action,Sci-Fi",
         "ACTION,SCI-FI"
        ],
        [
         "The Old Guard",
         "the old guard",
         "Action,Adventure,Fantasy",
         "ACTION,ADVENTURE,FANTASY"
        ],
        [
         "Extraction",
         "extraction",
         "Action,Thriller",
         "ACTION,THRILLER"
        ],
        [
         "Spenser Confidential",
         "spenser confidential",
         "Action,Comedy,Crime",
         "ACTION,COMEDY,CRIME"
        ],
        [
         "Mank",
         "mank",
         "Biography,Comedy,Drama",
         "BIOGRAPHY,COMEDY,DRAMA"
        ],
        [
         "Hillbilly Elegy",
         "hillbilly elegy",
         "Drama",
         "DRAMA"
        ],
        [
         "Rebecca",
         "rebecca",
         "Drama,Mystery,Romance",
         "DRAMA,MYSTERY,ROMANCE"
        ],
        [
         "I'm Thinking of Ending Things",
         "i'm thinking of ending things",
         "Drama,Thriller",
         "DRAMA,THRILLER"
        ],
        [
         "Pieces of a Woman",
         "pieces of a woman",
         "Drama",
         "DRAMA"
        ],
        [
         "My Octopus Teacher",
         "my octopus teacher",
         "Documentary",
         "DOCUMENTARY"
        ],
        [
         "Fantasy Island",
         "fantasy island",
         "Action,Adventure,Fantasy",
         "ACTION,ADVENTURE,FANTASY"
        ],
        [
         "The Wrong Missy",
         "the wrong missy",
         "Comedy,Romance",
         "COMEDY,ROMANCE"
        ],
        [
         "The Midnight Sky",
         "the midnight sky",
         "Drama,Fantasy,Sci-Fi",
         "DRAMA,FANTASY,SCI-FI"
        ],
        [
         "We Can Be Heroes",
         "we can be heroes",
         "Action,Comedy,Drama",
         "ACTION,COMEDY,DRAMA"
        ],
        [
         "Project Power",
         "project power",
         "Action,Crime,Sci-Fi",
         "ACTION,CRIME,SCI-FI"
        ],
        [
         "The Babysitter: Killer Queen",
         "the babysitter: killer queen",
         "Comedy,Horror",
         "COMEDY,HORROR"
        ],
        [
         "His House",
         "his house",
         "Drama,Horror,Thriller",
         "DRAMA,HORROR,THRILLER"
        ],
        [
         "Ma Rainey's Black Bottom",
         "ma rainey's black bottom",
         "Drama,Music",
         "DRAMA,MUSIC"
        ],
        [
         "Hubie Halloween",
         "hubie halloween",
         "Comedy,Mystery",
         "COMEDY,MYSTERY"
        ],
        [
         "Concrete Cowboy",
         "concrete cowboy",
         "Drama",
         "DRAMA"
        ],
        [
         "All the Bright Places",
         "all the bright places",
         "Drama,Romance",
         "DRAMA,ROMANCE"
        ],
        [
         "Holidate",
         "holidate",
         "Comedy,Romance",
         "COMEDY,ROMANCE"
        ],
        [
         "2067",
         "2067",
         "Sci-Fi",
         "SCI-FI"
        ],
        [
         "Force of Nature",
         "force of nature",
         "Action,Crime,Drama",
         "ACTION,CRIME,DRAMA"
        ],
        [
         "Da 5 Bloods",
         "da 5 bloods",
         "Adventure,Drama,War",
         "ADVENTURE,DRAMA,WAR"
        ],
        [
         "The SpongeBob Movie: Sponge on the Run",
         "the spongebob movie: sponge on the run",
         "Adventure,Animation,Comedy",
         "ADVENTURE,ANIMATION,COMEDY"
        ],
        [
         "Jungle Beat: The Movie",
         "jungle beat: the movie",
         "Adventure,Animation,Comedy",
         "ADVENTURE,ANIMATION,COMEDY"
        ],
        [
         "Penguin Bloom",
         "penguin bloom",
         "Drama",
         "DRAMA"
        ],
        [
         "Over the Moon",
         "over the moon",
         "Adventure,Animation,Comedy",
         "ADVENTURE,ANIMATION,COMEDY"
        ],
        [
         "Love Wedding Repeat",
         "love wedding repeat",
         "Comedy,Romance",
         "COMEDY,ROMANCE"
        ],
        [
         "The Prom",
         "the prom",
         "Comedy,Drama,Musical",
         "COMEDY,DRAMA,MUSICAL"
        ],
        [
         "The Kissing Booth 2",
         "the kissing booth 2",
         "Comedy,Romance",
         "COMEDY,ROMANCE"
        ],
        [
         "Lost Girls",
         "lost girls",
         "Drama,Mystery,Thriller",
         "DRAMA,MYSTERY,THRILLER"
        ],
        [
         "The Stand In",
         "the stand in",
         "Comedy,Drama",
         "COMEDY,DRAMA"
        ],
        [
         "The Last Thing He Wanted",
         "the last thing he wanted",
         "Crime,Drama,Thriller",
         "CRIME,DRAMA,THRILLER"
        ],
        [
         "The Social Dilemma",
         "the social dilemma",
         "Documentary,Drama",
         "DOCUMENTARY,DRAMA"
        ],
        [
         "Horse Girl",
         "horse girl",
         "Drama,Mystery,Thriller",
         "DRAMA,MYSTERY,THRILLER"
        ],
        [
         "The Sleepover",
         "the sleepover",
         "Action,Adventure,Comedy",
         "ACTION,ADVENTURE,COMEDY"
        ],
        [
         "The Boys in the Band",
         "the boys in the band",
         "Drama",
         "DRAMA"
        ],
        [
         "The Last Days of American Crime",
         "the last days of american crime",
         "Action,Crime,Drama",
         "ACTION,CRIME,DRAMA"
        ],
        [
         "Love, Guaranteed",
         "love, guaranteed",
         "Comedy,Romance",
         "COMEDY,ROMANCE"
        ],
        [
         "The Willoughbys",
         "the willoughbys",
         "Adventure,Animation,Comedy",
         "ADVENTURE,ANIMATION,COMEDY"
        ],
        [
         "Feel the Beat",
         "feel the beat",
         "Comedy,Drama,Family",
         "COMEDY,DRAMA,FAMILY"
        ],
        [
         "American Murder: The Family Next Door",
         "american murder: the family next door",
         "Crime,Documentary",
         "CRIME,DOCUMENTARY"
        ],
        [
         "Work It",
         "work it",
         "Comedy,Music",
         "COMEDY,MUSIC"
        ],
        [
         "The Lovebirds",
         "the lovebirds",
         "Action,Comedy,Crime",
         "ACTION,COMEDY,CRIME"
        ],
        [
         "Sightless",
         "sightless",
         "Drama,Thriller",
         "DRAMA,THRILLER"
        ],
        [
         "Dangerous Lies",
         "dangerous lies",
         "Drama,Mystery,Thriller",
         "DRAMA,MYSTERY,THRILLER"
        ],
        [
         "The F**k-It List",
         "the f**k-it list",
         "Comedy",
         "COMEDY"
        ],
        [
         "A Fall from Grace",
         "a fall from grace",
         "Drama,Fantasy,Thriller",
         "DRAMA,FANTASY,THRILLER"
        ],
        [
         "Vampires vs. the Bronx",
         "vampires vs. the bronx",
         "Comedy,Horror",
         "COMEDY,HORROR"
        ],
        [
         "Think Like a Dog",
         "think like a dog",
         "Comedy,Drama,Family",
         "COMEDY,DRAMA,FAMILY"
        ],
        [
         "To All the Boys: P.S. I Still Love You",
         "to all the boys: p.s. i still love you",
         "Comedy,Drama,Romance",
         "COMEDY,DRAMA,ROMANCE"
        ],
        [
         "Desperados",
         "desperados",
         "Comedy,Romance",
         "COMEDY,ROMANCE"
        ],
        [
         "A Babysitter's Guide to Monster Hunting",
         "a babysitter's guide to monster hunting",
         "Comedy,Family,Fantasy",
         "COMEDY,FAMILY,FANTASY"
        ],
        [
         "Sergio",
         "sergio",
         "Biography,Drama,History",
         "BIOGRAPHY,DRAMA,HISTORY"
        ],
        [
         "Roped",
         "roped",
         "Drama,Romance",
         "DRAMA,ROMANCE"
        ],
        [
         "David Attenborough: A Life on Our Planet",
         "david attenborough: a life on our planet",
         "Biography,Documentary",
         "BIOGRAPHY,DOCUMENTARY"
        ],
        [
         "The Debt Collector 2",
         "the debt collector 2",
         "Action,Comedy",
         "ACTION,COMEDY"
        ],
        [
         "A California Christmas",
         "a california christmas",
         "Comedy,Drama,Romance",
         "COMEDY,DRAMA,ROMANCE"
        ],
        [
         "All Together Now",
         "all together now",
         "Drama",
         "DRAMA"
        ],
        [
         "The Christmas Chronicles: Part Two",
         "the christmas chronicles: part two",
         "Adventure,Comedy,Family",
         "ADVENTURE,COMEDY,FAMILY"
        ],
        [
         "The Princess Switch: Switched Again",
         "the princess switch: switched again",
         "Comedy,Drama,Family",
         "COMEDY,DRAMA,FAMILY"
        ],
        [
         "Crip Camp",
         "crip camp",
         "Documentary",
         "DOCUMENTARY"
        ],
        [
         "Lady Driver",
         "lady driver",
         "Sport",
         "SPORT"
        ],
        [
         "Coffee & Kareem",
         "coffee & kareem",
         "Action,Comedy,Crime",
         "ACTION,COMEDY,CRIME"
        ],
        [
         "Fatal Affair",
         "fatal affair",
         "Thriller",
         "THRILLER"
        ],
        [
         "Wheels of Fortune",
         "wheels of fortune",
         "Comedy",
         "COMEDY"
        ],
        [
         "Kiss the Ground",
         "kiss the ground",
         "Documentary",
         "DOCUMENTARY"
        ],
        [
         "The Forty-Year-Old Version",
         "the forty-year-old version",
         "Comedy,Drama",
         "COMEDY,DRAMA"
        ],
        [
         "The Main Event",
         "the main event",
         "Action,Comedy,Family",
         "ACTION,COMEDY,FAMILY"
        ],
        [
         "Made You Look: A True Story About Fake Art",
         "made you look: a true story about fake art",
         "Crime,Documentary",
         "CRIME,DOCUMENTARY"
        ],
        [
         "The Fisherman's Diary",
         "the fisherman's diary",
         "Drama",
         "DRAMA"
        ],
        [
         "Serious Men",
         "serious men",
         "Comedy,Drama",
         "COMEDY,DRAMA"
        ],
        [
         "Uncorked",
         "uncorked",
         "Drama",
         "DRAMA"
        ],
        [
         "Midnight at the Magnolia",
         "midnight at the magnolia",
         "Comedy,Romance",
         "COMEDY,ROMANCE"
        ],
        [
         "All Day and a Night",
         "all day and a night",
         "Drama",
         "DRAMA"
        ],
        [
         "Operation Christmas Drop",
         "operation christmas drop",
         "Comedy,Family,Romance",
         "COMEDY,FAMILY,ROMANCE"
        ],
        [
         "Jingle Jangle: A Christmas Journey",
         "jingle jangle: a christmas journey",
         "Family,Fantasy,Musical",
         "FAMILY,FANTASY,MUSICAL"
        ],
        [
         "Bruised",
         "bruised",
         "Drama,Sport",
         "DRAMA,SPORT"
        ],
        [
         "What Is Life Worth",
         "what is life worth",
         "Biography,Drama,History",
         "BIOGRAPHY,DRAMA,HISTORY"
        ],
        [
         "Have a Good Trip: Adventures in Psychedelics",
         "have a good trip: adventures in psychedelics",
         "Comedy,Documentary",
         "COMEDY,DOCUMENTARY"
        ],
        [
         "I Am Vengeance: Retaliation",
         "i am vengeance: retaliation",
         "Action",
         "ACTION"
        ],
        [
         "Miss Americana",
         "miss americana",
         "Biography,Documentary,Music",
         "BIOGRAPHY,DOCUMENTARY,MUSIC"
        ],
        [
         "Dick Johnson Is Dead",
         "dick johnson is dead",
         "Documentary,Drama",
         "DOCUMENTARY,DRAMA"
        ],
        [
         "You Are My Home",
         "you are my home",
         "Animation,Family,Fantasy",
         "ANIMATION,FAMILY,FANTASY"
        ],
        [
         "Tigertail",
         "tigertail",
         "Drama",
         "DRAMA"
        ],
        [
         "Go!",
         "go!",
         "Family,Sport",
         "FAMILY,SPORT"
        ],
        [
         "Athlete A",
         "athlete a",
         "Crime,Documentary,Sport",
         "CRIME,DOCUMENTARY,SPORT"
        ],
        [
         "Secrets of the Saqqara Tomb",
         "secrets of the saqqara tomb",
         "Documentary,History",
         "DOCUMENTARY,HISTORY"
        ],
        [
         "Ricos de Amor",
         "ricos de amor",
         "Comedy,Romance",
         "COMEDY,ROMANCE"
        ],
        [
         "A Secret Love",
         "a secret love",
         "Documentary,Drama",
         "DOCUMENTARY,DRAMA"
        ],
        [
         "Ariana Grande: Excuse Me, I Love You",
         "ariana grande: excuse me, i love you",
         "Documentary,Music",
         "DOCUMENTARY,MUSIC"
        ],
        [
         "Malibu Rescue: The Next Wave",
         "malibu rescue: the next wave",
         "Action,Comedy,Family",
         "ACTION,COMEDY,FAMILY"
        ],
        [
         "Namaste Wahala",
         "namaste wahala",
         "Drama,Romance",
         "DRAMA,ROMANCE"
        ],
        [
         "Citation",
         "citation",
         "Drama,Thriller",
         "DRAMA,THRILLER"
        ],
        [
         "Farewell Amor",
         "farewell amor",
         "Drama,Music,Romance",
         "DRAMA,MUSIC,ROMANCE"
        ],
        [
         "Funny Boy",
         "funny boy",
         "Drama",
         "DRAMA"
        ],
        [
         "A New York Christmas Wedding",
         "a new york christmas wedding",
         "Drama,Romance",
         "DRAMA,ROMANCE"
        ],
        [
         "Christmas on the Square",
         "christmas on the square",
         "Comedy,Family,Musical",
         "COMEDY,FAMILY,MUSICAL"
        ],
        [
         "Seriously Single",
         "seriously single",
         "Comedy,Romance",
         "COMEDY,ROMANCE"
        ],
        [
         "Rising Phoenix",
         "rising phoenix",
         "Documentary,Sport",
         "DOCUMENTARY,SPORT"
        ],
        [
         "Riding Faith",
         "riding faith",
         "Family",
         "FAMILY"
        ],
        [
         "Murder to Mercy: The Cyntoia Brown Story",
         "murder to mercy: the cyntoia brown story",
         "Documentary",
         "DOCUMENTARY"
        ],
        [
         "Becoming",
         "becoming",
         "Documentary",
         "DOCUMENTARY"
        ],
        [
         "Not a Game",
         "not a game",
         "Documentary",
         "DOCUMENTARY"
        ],
        [
         "Barbie Princess Adventure",
         "barbie princess adventure",
         "Animation,Musical",
         "ANIMATION,MUSICAL"
        ],
        [
         "Angela's Christmas Wish",
         "angela's christmas wish",
         "Adventure,Animation,Family",
         "ADVENTURE,ANIMATION,FAMILY"
        ],
        [
         "Father Soldier Son",
         "father soldier son",
         "Documentary,War",
         "DOCUMENTARY,WAR"
        ],
        [
         "Uppity: The Willy T. Ribbs Story",
         "uppity: the willy t. ribbs story",
         "Documentary",
         "DOCUMENTARY"
        ],
        [
         "Maska",
         "maska",
         "Comedy,Drama,Romance",
         "COMEDY,DRAMA,ROMANCE"
        ],
        [
         "Octonauts & the Great Barrier Reef",
         "octonauts & the great barrier reef",
         "Action,Adventure,Animation",
         "ACTION,ADVENTURE,ANIMATION"
        ],
        [
         "Shawn Mendes: In Wonder",
         "shawn mendes: in wonder",
         "Documentary,Music",
         "DOCUMENTARY,MUSIC"
        ],
        [
         "LA Originals",
         "la originals",
         "Documentary",
         "DOCUMENTARY"
        ],
        [
         "Mucho Mucho Amor: The Legend of Walter Mercado",
         "mucho mucho amor: the legend of walter mercado",
         "Documentary",
         "DOCUMENTARY"
        ],
        [
         "Octonauts and the Caves of Sac Actun",
         "octonauts and the caves of sac actun",
         "Adventure,Animation,Comedy",
         "ADVENTURE,ANIMATION,COMEDY"
        ],
        [
         "The Larva Island Movie",
         "the larva island movie",
         "Adventure,Animation,Comedy",
         "ADVENTURE,ANIMATION,COMEDY"
        ],
        [
         "André & His Olive Tree",
         "andré & his olive tree",
         "Documentary",
         "DOCUMENTARY"
        ],
        [
         "Dance Dreams: Hot Chocolate Nutcracker",
         "dance dreams: hot chocolate nutcracker",
         "Documentary,Family",
         "DOCUMENTARY,FAMILY"
        ],
        [
         "#cats_the_mewvie",
         "#cats_the_mewvie",
         "Documentary",
         "DOCUMENTARY"
        ],
        [
         "Giving Voice",
         "giving voice",
         "Documentary",
         "DOCUMENTARY"
        ],
        [
         "The App That Stole Christmas",
         "the app that stole christmas",
         "Comedy",
         "COMEDY"
        ],
        [
         "Shawn Mendes: Live in Concert",
         "shawn mendes: live in concert",
         "Music",
         "MUSIC"
        ],
        [
         "Thomas & Friends: Marvelous Machinery",
         "thomas & friends: marvelous machinery",
         "Action,Adventure,Animation",
         "ACTION,ADVENTURE,ANIMATION"
        ],
        [
         "The Magic School Bus Rides Again: Kids in Space",
         "the magic school bus rides again: kids in space",
         "Adventure,Animation,Comedy",
         "ADVENTURE,ANIMATION,COMEDY"
        ],
        [
         "Night on Earth: Shot in the Dark",
         "night on earth: shot in the dark",
         "Documentary",
         "DOCUMENTARY"
        ],
        [
         "United Nation Three Decades of Drum & Bass",
         "united nation three decades of drum & bass",
         "Documentary",
         "DOCUMENTARY"
        ],
        [
         "Light in the Dark",
         "light in the dark",
         "Thriller",
         "THRILLER"
        ],
        [
         "Pemburu di Manchester Biru",
         "pemburu di manchester biru",
         "Biography,Drama",
         "BIOGRAPHY,DRAMA"
        ],
        [
         "Bigflo & Oli: Hip Hop Frenzy",
         "bigflo & oli: hip hop frenzy",
         "Documentary,Music",
         "DOCUMENTARY,MUSIC"
        ],
        [
         "Horrid Henry's Gross Day Out",
         "horrid henry's gross day out",
         "Action,Adventure,Animation",
         "ACTION,ADVENTURE,ANIMATION"
        ],
        [
         "Last days on Earth",
         "last days on earth",
         "Documentary",
         "DOCUMENTARY"
        ]
       ],
       "datasetInfos": [],
       "dbfsResultPath": null,
       "isJsonSchema": true,
       "metadata": {},
       "overflow": false,
       "plotOptions": {
        "customPlotOptions": {},
        "displayType": "table",
        "pivotAggregation": null,
        "pivotColumns": null,
        "xColumns": null,
        "yColumns": null
       },
       "removedWidgets": [],
       "schema": [
        {
         "metadata": "{}",
         "name": "title",
         "type": "\"string\""
        },
        {
         "metadata": "{\"__autoGeneratedAlias\":\"true\"}",
         "name": "lower(title)",
         "type": "\"string\""
        },
        {
         "metadata": "{}",
         "name": "genres",
         "type": "\"string\""
        },
        {
         "metadata": "{\"__autoGeneratedAlias\":\"true\"}",
         "name": "upper(genres)",
         "type": "\"string\""
        }
       ],
       "type": "table"
      }
     },
     "output_type": "display_data"
    }
   ],
   "source": [
    "display(spark.sql('select title, lower(title), genres, upper(genres) from netflix_data_table'))"
   ]
  },
  {
   "cell_type": "code",
   "execution_count": 0,
   "metadata": {
    "application/vnd.databricks.v1+cell": {
     "cellMetadata": {
      "byteLimit": 2048000,
      "rowLimit": 10000
     },
     "inputWidgets": {},
     "nuid": "9b092e3f-4523-42dc-85de-a05ca9952fdd",
     "showTitle": false,
     "title": ""
    }
   },
   "outputs": [
    {
     "output_type": "display_data",
     "data": {
      "text/html": [
       "<style scoped>\n",
       "  .table-result-container {\n",
       "    max-height: 300px;\n",
       "    overflow: auto;\n",
       "  }\n",
       "  table, th, td {\n",
       "    border: 1px solid black;\n",
       "    border-collapse: collapse;\n",
       "  }\n",
       "  th, td {\n",
       "    padding: 5px;\n",
       "  }\n",
       "  th {\n",
       "    text-align: left;\n",
       "  }\n",
       "</style><div class='table-result-container'><table class='table-result'><thead style='background-color: white'><tr><th>title</th><th>rating</th><th>round(rating, 0)</th></tr></thead><tbody><tr><td>Army of the Dead</td><td>5.8</td><td>6.0</td></tr><tr><td>The Woman in the Window</td><td>5.7</td><td>6.0</td></tr><tr><td>The Mitchells vs the Machines</td><td>7.8</td><td>8.0</td></tr><tr><td>Blue Miracle</td><td>6.7</td><td>7.0</td></tr><tr><td>Things Heard & Seen</td><td>5.3</td><td>5.0</td></tr><tr><td>Stowaway</td><td>5.6</td><td>6.0</td></tr><tr><td>Don't Look Up</td><td>null</td><td>null</td></tr><tr><td>I Am All Girls</td><td>5.8</td><td>6.0</td></tr><tr><td>Hotel Transylvania: Transformania</td><td>null</td><td>null</td></tr><tr><td>The Dig</td><td>7.1</td><td>7.0</td></tr><tr><td>Thunder Force</td><td>4.4</td><td>4.0</td></tr><tr><td>The Ice Road</td><td>null</td><td>null</td></tr><tr><td>Gunpowder Milkshake</td><td>null</td><td>null</td></tr><tr><td>Fear Street</td><td>null</td><td>null</td></tr><tr><td>The Nailbomber</td><td>6.3</td><td>6.0</td></tr><tr><td>Awake</td><td>4.8</td><td>5.0</td></tr><tr><td>Moxie</td><td>6.7</td><td>7.0</td></tr><tr><td>Yes Day</td><td>5.7</td><td>6.0</td></tr><tr><td>America: The Motion Picture</td><td>null</td><td>null</td></tr><tr><td>Outside the Wire</td><td>5.4</td><td>5.0</td></tr><tr><td>Red Notice</td><td>null</td><td>null</td></tr><tr><td>Bad Trip</td><td>6.6</td><td>7.0</td></tr><tr><td>Malcolm & Marie</td><td>6.7</td><td>7.0</td></tr><tr><td>Finding 'Ohana</td><td>6.1</td><td>6.0</td></tr><tr><td>Fatherhood</td><td>null</td><td>null</td></tr><tr><td>Deadly Illusions</td><td>3.6</td><td>4.0</td></tr><tr><td>Sing 2</td><td>null</td><td>null</td></tr><tr><td>A Week Away</td><td>5.7</td><td>6.0</td></tr><tr><td>Blonde</td><td>null</td><td>null</td></tr><tr><td>He's All That</td><td>null</td><td>null</td></tr><tr><td>Seaspiracy</td><td>8.2</td><td>8.0</td></tr><tr><td>Army of Thieves</td><td>null</td><td>null</td></tr><tr><td>Wish Dragon</td><td>6.9</td><td>7.0</td></tr><tr><td>To All the Boys: Always and Forever</td><td>6.3</td><td>6.0</td></tr><tr><td>Good on Paper</td><td>null</td><td>null</td></tr><tr><td>Escape From Spiderhead</td><td>null</td><td>null</td></tr><tr><td>The Last Letter from Your Lover</td><td>null</td><td>null</td></tr><tr><td>The Kissing Booth 3</td><td>null</td><td>null</td></tr><tr><td>Sweet Girl</td><td>null</td><td>null</td></tr><tr><td>Matilda</td><td>null</td><td>null</td></tr><tr><td>Breaking Boundaries: The Science of Our Planet</td><td>7.8</td><td>8.0</td></tr><tr><td>tick, tick...Boom!</td><td>null</td><td>null</td></tr><tr><td>Secret Magic Control Agency</td><td>6.2</td><td>6.0</td></tr><tr><td>Vivo</td><td>null</td><td>null</td></tr><tr><td>The Guilty</td><td>null</td><td>null</td></tr><tr><td>The Power of the Dog</td><td>null</td><td>null</td></tr><tr><td>Skater Girl</td><td>null</td><td>null</td></tr><tr><td>Trippin' with the Kandasamys</td><td>5.3</td><td>5.0</td></tr><tr><td>Trollhunters: Rise of the Titans</td><td>null</td><td>null</td></tr><tr><td>Fear Street 2</td><td>null</td><td>null</td></tr><tr><td>Kate</td><td>null</td><td>null</td></tr><tr><td>The Loud House</td><td>null</td><td>null</td></tr><tr><td>Operation Varsity Blues: The College Admissions Scandal</td><td>7.0</td><td>7.0</td></tr><tr><td>Hating Peter Tatchell</td><td>7.5</td><td>8.0</td></tr><tr><td>Fear Street 3</td><td>null</td><td>null</td></tr><tr><td>The Harder They Fall</td><td>null</td><td>null</td></tr><tr><td>Passing</td><td>7.1</td><td>7.0</td></tr><tr><td>Munich</td><td>null</td><td>null</td></tr><tr><td>A Boy Called Christmas</td><td>null</td><td>null</td></tr><tr><td>A Jazzman's Blues</td><td>null</td><td>null</td></tr><tr><td>Untitled Sandra Bullock/Nora Fingscheidt Project</td><td>null</td><td>null</td></tr><tr><td>Night Teeth</td><td>null</td><td>null</td></tr><tr><td>In Our Mothers' Gardens</td><td>8.9</td><td>9.0</td></tr><tr><td>The Witcher: Nightmare of the Wolf</td><td>null</td><td>null</td></tr><tr><td>Back to the Outback</td><td>null</td><td>null</td></tr><tr><td>There's Someone Inside Your House</td><td>null</td><td>null</td></tr><tr><td>Biggie: I Got a Story to Tell</td><td>6.9</td><td>7.0</td></tr><tr><td>Metal Lords</td><td>null</td><td>null</td></tr><tr><td>Pelé</td><td>7.0</td><td>7.0</td></tr><tr><td>The Minimalists: Less Is Now</td><td>5.9</td><td>6.0</td></tr><tr><td>Beauty</td><td>null</td><td>null</td></tr><tr><td>The Princess Switch 3</td><td>null</td><td>null</td></tr><tr><td>Love Hard</td><td>null</td><td>null</td></tr><tr><td>Strip Down, Rise Up</td><td>5.2</td><td>5.0</td></tr><tr><td>Rise of the Teenage Mutant Ninja Turtles</td><td>null</td><td>null</td></tr><tr><td>Nightbooks</td><td>null</td><td>null</td></tr><tr><td>Crack: Cocaine, Corruption & Conspiracy</td><td>6.7</td><td>7.0</td></tr><tr><td>Against the Ice</td><td>null</td><td>null</td></tr><tr><td>Resort to Love</td><td>null</td><td>null</td></tr><tr><td>A Castle for Christmas</td><td>null</td><td>null</td></tr><tr><td>Pray Away</td><td>null</td><td>null</td></tr><tr><td>Single All the Way</td><td>null</td><td>null</td></tr><tr><td>Sisters on Track</td><td>null</td><td>null</td></tr><tr><td>Intrusion</td><td>null</td><td>null</td></tr><tr><td>Accomplice</td><td>7.3</td><td>7.0</td></tr><tr><td>Hypnotic</td><td>null</td><td>null</td></tr><tr><td>Diana</td><td>null</td><td>null</td></tr><tr><td>Headspace: Unwind Your Mind</td><td>null</td><td>null</td></tr><tr><td>Bob Ross: Happy Accidents, Betrayal & Greed</td><td>null</td><td>null</td></tr><tr><td>Kane Chonicles</td><td>null</td><td>null</td></tr><tr><td>Untitled Netflix Family Comedy 2021</td><td>null</td><td>null</td></tr><tr><td>Untitled Boeing 737 Max/Rory Kennedy Project</td><td>null</td><td>null</td></tr><tr><td>Happiness Ever After</td><td>null</td><td>null</td></tr><tr><td>Love and Monsters</td><td>7.0</td><td>7.0</td></tr><tr><td>I Care a Lot</td><td>6.3</td><td>6.0</td></tr><tr><td>Eurovision Song Contest: The Story of Fire Saga</td><td>6.5</td><td>7.0</td></tr><tr><td>The Devil All the Time</td><td>7.1</td><td>7.0</td></tr><tr><td>Honest Thief</td><td>6.0</td><td>6.0</td></tr><tr><td>Run</td><td>6.7</td><td>7.0</td></tr><tr><td>News of the World</td><td>6.8</td><td>7.0</td></tr><tr><td>Enola Holmes</td><td>6.6</td><td>7.0</td></tr><tr><td>The Trial of the Chicago 7</td><td>7.8</td><td>8.0</td></tr><tr><td>The Water Man</td><td>4.9</td><td>5.0</td></tr><tr><td>Breach</td><td>2.9</td><td>3.0</td></tr><tr><td>The Old Guard</td><td>6.7</td><td>7.0</td></tr><tr><td>Extraction</td><td>6.7</td><td>7.0</td></tr><tr><td>Spenser Confidential</td><td>6.2</td><td>6.0</td></tr><tr><td>Mank</td><td>6.9</td><td>7.0</td></tr><tr><td>Hillbilly Elegy</td><td>6.7</td><td>7.0</td></tr><tr><td>Rebecca</td><td>6.0</td><td>6.0</td></tr><tr><td>I'm Thinking of Ending Things</td><td>6.6</td><td>7.0</td></tr><tr><td>Pieces of a Woman</td><td>7.1</td><td>7.0</td></tr><tr><td>My Octopus Teacher</td><td>8.1</td><td>8.0</td></tr><tr><td>Fantasy Island</td><td>4.9</td><td>5.0</td></tr><tr><td>The Wrong Missy</td><td>5.7</td><td>6.0</td></tr><tr><td>The Midnight Sky</td><td>5.6</td><td>6.0</td></tr><tr><td>We Can Be Heroes</td><td>4.7</td><td>5.0</td></tr><tr><td>Project Power</td><td>6.0</td><td>6.0</td></tr><tr><td>The Babysitter: Killer Queen</td><td>5.8</td><td>6.0</td></tr><tr><td>His House</td><td>6.5</td><td>7.0</td></tr><tr><td>Ma Rainey's Black Bottom</td><td>7.0</td><td>7.0</td></tr><tr><td>Hubie Halloween</td><td>5.2</td><td>5.0</td></tr><tr><td>Concrete Cowboy</td><td>6.3</td><td>6.0</td></tr><tr><td>All the Bright Places</td><td>6.5</td><td>7.0</td></tr><tr><td>Holidate</td><td>6.1</td><td>6.0</td></tr><tr><td>2067</td><td>4.9</td><td>5.0</td></tr><tr><td>Force of Nature</td><td>4.5</td><td>5.0</td></tr><tr><td>Da 5 Bloods</td><td>6.5</td><td>7.0</td></tr><tr><td>The SpongeBob Movie: Sponge on the Run</td><td>6.0</td><td>6.0</td></tr><tr><td>Jungle Beat: The Movie</td><td>5.5</td><td>6.0</td></tr><tr><td>Penguin Bloom</td><td>6.8</td><td>7.0</td></tr><tr><td>Over the Moon</td><td>6.4</td><td>6.0</td></tr><tr><td>Love Wedding Repeat</td><td>5.5</td><td>6.0</td></tr><tr><td>The Prom</td><td>5.9</td><td>6.0</td></tr><tr><td>The Kissing Booth 2</td><td>5.8</td><td>6.0</td></tr><tr><td>Lost Girls</td><td>6.1</td><td>6.0</td></tr><tr><td>The Stand In</td><td>4.6</td><td>5.0</td></tr><tr><td>The Last Thing He Wanted</td><td>4.3</td><td>4.0</td></tr><tr><td>The Social Dilemma</td><td>7.6</td><td>8.0</td></tr><tr><td>Horse Girl</td><td>5.9</td><td>6.0</td></tr><tr><td>The Sleepover</td><td>5.6</td><td>6.0</td></tr><tr><td>The Boys in the Band</td><td>6.8</td><td>7.0</td></tr><tr><td>The Last Days of American Crime</td><td>3.7</td><td>4.0</td></tr><tr><td>Love, Guaranteed</td><td>5.6</td><td>6.0</td></tr><tr><td>The Willoughbys</td><td>6.4</td><td>6.0</td></tr><tr><td>Feel the Beat</td><td>6.3</td><td>6.0</td></tr><tr><td>American Murder: The Family Next Door</td><td>7.2</td><td>7.0</td></tr><tr><td>Work It</td><td>6.1</td><td>6.0</td></tr><tr><td>The Lovebirds</td><td>6.1</td><td>6.0</td></tr><tr><td>Sightless</td><td>5.5</td><td>6.0</td></tr><tr><td>Dangerous Lies</td><td>5.3</td><td>5.0</td></tr><tr><td>The F**k-It List</td><td>5.1</td><td>5.0</td></tr><tr><td>A Fall from Grace</td><td>5.9</td><td>6.0</td></tr><tr><td>Vampires vs. the Bronx</td><td>5.6</td><td>6.0</td></tr><tr><td>Think Like a Dog</td><td>5.2</td><td>5.0</td></tr><tr><td>To All the Boys: P.S. I Still Love You</td><td>6.0</td><td>6.0</td></tr><tr><td>Desperados</td><td>5.2</td><td>5.0</td></tr><tr><td>A Babysitter's Guide to Monster Hunting</td><td>5.4</td><td>5.0</td></tr><tr><td>Sergio</td><td>6.1</td><td>6.0</td></tr><tr><td>Roped</td><td>5.4</td><td>5.0</td></tr><tr><td>David Attenborough: A Life on Our Planet</td><td>9.0</td><td>9.0</td></tr><tr><td>The Debt Collector 2</td><td>5.8</td><td>6.0</td></tr><tr><td>A California Christmas</td><td>5.8</td><td>6.0</td></tr><tr><td>All Together Now</td><td>6.5</td><td>7.0</td></tr><tr><td>The Christmas Chronicles: Part Two</td><td>6.0</td><td>6.0</td></tr><tr><td>The Princess Switch: Switched Again</td><td>5.4</td><td>5.0</td></tr><tr><td>Crip Camp</td><td>7.7</td><td>8.0</td></tr><tr><td>Lady Driver</td><td>5.9</td><td>6.0</td></tr><tr><td>Coffee & Kareem</td><td>5.1</td><td>5.0</td></tr><tr><td>Fatal Affair</td><td>4.5</td><td>5.0</td></tr><tr><td>Wheels of Fortune</td><td>5.4</td><td>5.0</td></tr><tr><td>Kiss the Ground</td><td>8.3</td><td>8.0</td></tr><tr><td>The Forty-Year-Old Version</td><td>7.2</td><td>7.0</td></tr><tr><td>The Main Event</td><td>4.8</td><td>5.0</td></tr><tr><td>Made You Look: A True Story About Fake Art</td><td>7.0</td><td>7.0</td></tr><tr><td>The Fisherman's Diary</td><td>6.5</td><td>7.0</td></tr><tr><td>Serious Men</td><td>6.8</td><td>7.0</td></tr><tr><td>Uncorked</td><td>6.3</td><td>6.0</td></tr><tr><td>Midnight at the Magnolia</td><td>5.8</td><td>6.0</td></tr><tr><td>All Day and a Night</td><td>5.8</td><td>6.0</td></tr><tr><td>Operation Christmas Drop</td><td>5.8</td><td>6.0</td></tr><tr><td>Jingle Jangle: A Christmas Journey</td><td>6.5</td><td>7.0</td></tr><tr><td>Bruised</td><td>7.2</td><td>7.0</td></tr><tr><td>What Is Life Worth</td><td>6.9</td><td>7.0</td></tr><tr><td>Have a Good Trip: Adventures in Psychedelics</td><td>6.8</td><td>7.0</td></tr><tr><td>I Am Vengeance: Retaliation</td><td>3.5</td><td>4.0</td></tr><tr><td>Miss Americana</td><td>7.4</td><td>7.0</td></tr><tr><td>Dick Johnson Is Dead</td><td>7.5</td><td>8.0</td></tr><tr><td>You Are My Home</td><td>6.5</td><td>7.0</td></tr><tr><td>Tigertail</td><td>6.5</td><td>7.0</td></tr><tr><td>Go!</td><td>5.9</td><td>6.0</td></tr><tr><td>Athlete A</td><td>7.6</td><td>8.0</td></tr><tr><td>Secrets of the Saqqara Tomb</td><td>7.3</td><td>7.0</td></tr><tr><td>Ricos de Amor</td><td>5.8</td><td>6.0</td></tr><tr><td>A Secret Love</td><td>7.9</td><td>8.0</td></tr><tr><td>Ariana Grande: Excuse Me, I Love You</td><td>6.4</td><td>6.0</td></tr><tr><td>Malibu Rescue: The Next Wave</td><td>4.8</td><td>5.0</td></tr><tr><td>Namaste Wahala</td><td>5.1</td><td>5.0</td></tr><tr><td>Citation</td><td>6.2</td><td>6.0</td></tr><tr><td>Farewell Amor</td><td>6.9</td><td>7.0</td></tr><tr><td>Funny Boy</td><td>5.8</td><td>6.0</td></tr><tr><td>A New York Christmas Wedding</td><td>5.4</td><td>5.0</td></tr><tr><td>Christmas on the Square</td><td>5.2</td><td>5.0</td></tr><tr><td>Seriously Single</td><td>4.5</td><td>5.0</td></tr><tr><td>Rising Phoenix</td><td>8.1</td><td>8.0</td></tr><tr><td>Riding Faith</td><td>4.4</td><td>4.0</td></tr><tr><td>Murder to Mercy: The Cyntoia Brown Story</td><td>6.4</td><td>6.0</td></tr><tr><td>Becoming</td><td>6.8</td><td>7.0</td></tr><tr><td>Not a Game</td><td>5.6</td><td>6.0</td></tr><tr><td>Barbie Princess Adventure</td><td>5.6</td><td>6.0</td></tr><tr><td>Angela's Christmas Wish</td><td>7.1</td><td>7.0</td></tr><tr><td>Father Soldier Son</td><td>7.3</td><td>7.0</td></tr><tr><td>Uppity: The Willy T. Ribbs Story</td><td>7.9</td><td>8.0</td></tr><tr><td>Maska</td><td>5.8</td><td>6.0</td></tr><tr><td>Octonauts & the Great Barrier Reef</td><td>7.4</td><td>7.0</td></tr><tr><td>Shawn Mendes: In Wonder</td><td>6.6</td><td>7.0</td></tr><tr><td>LA Originals</td><td>7.2</td><td>7.0</td></tr><tr><td>Mucho Mucho Amor: The Legend of Walter Mercado</td><td>7.3</td><td>7.0</td></tr><tr><td>Octonauts and the Caves of Sac Actun</td><td>6.2</td><td>6.0</td></tr><tr><td>The Larva Island Movie</td><td>5.1</td><td>5.0</td></tr><tr><td>André & His Olive Tree</td><td>6.8</td><td>7.0</td></tr><tr><td>Dance Dreams: Hot Chocolate Nutcracker</td><td>7.1</td><td>7.0</td></tr><tr><td>#cats_the_mewvie</td><td>5.3</td><td>5.0</td></tr><tr><td>Giving Voice</td><td>6.7</td><td>7.0</td></tr><tr><td>The App That Stole Christmas</td><td>3.6</td><td>4.0</td></tr><tr><td>Shawn Mendes: Live in Concert</td><td>7.4</td><td>7.0</td></tr><tr><td>Thomas & Friends: Marvelous Machinery</td><td>7.0</td><td>7.0</td></tr><tr><td>The Magic School Bus Rides Again: Kids in Space</td><td>6.2</td><td>6.0</td></tr><tr><td>Night on Earth: Shot in the Dark</td><td>7.9</td><td>8.0</td></tr><tr><td>United Nation Three Decades of Drum & Bass</td><td>8.0</td><td>8.0</td></tr><tr><td>Light in the Dark</td><td>6.0</td><td>6.0</td></tr><tr><td>Pemburu di Manchester Biru</td><td>5.9</td><td>6.0</td></tr><tr><td>Bigflo & Oli: Hip Hop Frenzy</td><td>6.9</td><td>7.0</td></tr><tr><td>Horrid Henry's Gross Day Out</td><td>6.2</td><td>6.0</td></tr><tr><td>Last days on Earth</td><td>null</td><td>null</td></tr></tbody></table></div>"
      ]
     },
     "metadata": {
      "application/vnd.databricks.v1+output": {
       "addedWidgets": {},
       "aggData": [],
       "aggError": "",
       "aggOverflow": false,
       "aggSchema": [],
       "aggSeriesLimitReached": false,
       "aggType": "",
       "arguments": {},
       "columnCustomDisplayInfos": {},
       "data": [
        [
         "Army of the Dead",
         "5.8",
         6.0
        ],
        [
         "The Woman in the Window",
         "5.7",
         6.0
        ],
        [
         "The Mitchells vs the Machines",
         "7.8",
         8.0
        ],
        [
         "Blue Miracle",
         "6.7",
         7.0
        ],
        [
         "Things Heard & Seen",
         "5.3",
         5.0
        ],
        [
         "Stowaway",
         "5.6",
         6.0
        ],
        [
         "Don't Look Up",
         null,
         null
        ],
        [
         "I Am All Girls",
         "5.8",
         6.0
        ],
        [
         "Hotel Transylvania: Transformania",
         null,
         null
        ],
        [
         "The Dig",
         "7.1",
         7.0
        ],
        [
         "Thunder Force",
         "4.4",
         4.0
        ],
        [
         "The Ice Road",
         null,
         null
        ],
        [
         "Gunpowder Milkshake",
         null,
         null
        ],
        [
         "Fear Street",
         null,
         null
        ],
        [
         "The Nailbomber",
         "6.3",
         6.0
        ],
        [
         "Awake",
         "4.8",
         5.0
        ],
        [
         "Moxie",
         "6.7",
         7.0
        ],
        [
         "Yes Day",
         "5.7",
         6.0
        ],
        [
         "America: The Motion Picture",
         null,
         null
        ],
        [
         "Outside the Wire",
         "5.4",
         5.0
        ],
        [
         "Red Notice",
         null,
         null
        ],
        [
         "Bad Trip",
         "6.6",
         7.0
        ],
        [
         "Malcolm & Marie",
         "6.7",
         7.0
        ],
        [
         "Finding 'Ohana",
         "6.1",
         6.0
        ],
        [
         "Fatherhood",
         null,
         null
        ],
        [
         "Deadly Illusions",
         "3.6",
         4.0
        ],
        [
         "Sing 2",
         null,
         null
        ],
        [
         "A Week Away",
         "5.7",
         6.0
        ],
        [
         "Blonde",
         null,
         null
        ],
        [
         "He's All That",
         null,
         null
        ],
        [
         "Seaspiracy",
         "8.2",
         8.0
        ],
        [
         "Army of Thieves",
         null,
         null
        ],
        [
         "Wish Dragon",
         "6.9",
         7.0
        ],
        [
         "To All the Boys: Always and Forever",
         "6.3",
         6.0
        ],
        [
         "Good on Paper",
         null,
         null
        ],
        [
         "Escape From Spiderhead",
         null,
         null
        ],
        [
         "The Last Letter from Your Lover",
         null,
         null
        ],
        [
         "The Kissing Booth 3",
         null,
         null
        ],
        [
         "Sweet Girl",
         null,
         null
        ],
        [
         "Matilda",
         null,
         null
        ],
        [
         "Breaking Boundaries: The Science of Our Planet",
         "7.8",
         8.0
        ],
        [
         "tick, tick...Boom!",
         null,
         null
        ],
        [
         "Secret Magic Control Agency",
         "6.2",
         6.0
        ],
        [
         "Vivo",
         null,
         null
        ],
        [
         "The Guilty",
         null,
         null
        ],
        [
         "The Power of the Dog",
         null,
         null
        ],
        [
         "Skater Girl",
         null,
         null
        ],
        [
         "Trippin' with the Kandasamys",
         "5.3",
         5.0
        ],
        [
         "Trollhunters: Rise of the Titans",
         null,
         null
        ],
        [
         "Fear Street 2",
         null,
         null
        ],
        [
         "Kate",
         null,
         null
        ],
        [
         "The Loud House",
         null,
         null
        ],
        [
         "Operation Varsity Blues: The College Admissions Scandal",
         "7.0",
         7.0
        ],
        [
         "Hating Peter Tatchell",
         "7.5",
         8.0
        ],
        [
         "Fear Street 3",
         null,
         null
        ],
        [
         "The Harder They Fall",
         null,
         null
        ],
        [
         "Passing",
         "7.1",
         7.0
        ],
        [
         "Munich",
         null,
         null
        ],
        [
         "A Boy Called Christmas",
         null,
         null
        ],
        [
         "A Jazzman's Blues",
         null,
         null
        ],
        [
         "Untitled Sandra Bullock/Nora Fingscheidt Project",
         null,
         null
        ],
        [
         "Night Teeth",
         null,
         null
        ],
        [
         "In Our Mothers' Gardens",
         "8.9",
         9.0
        ],
        [
         "The Witcher: Nightmare of the Wolf",
         null,
         null
        ],
        [
         "Back to the Outback",
         null,
         null
        ],
        [
         "There's Someone Inside Your House",
         null,
         null
        ],
        [
         "Biggie: I Got a Story to Tell",
         "6.9",
         7.0
        ],
        [
         "Metal Lords",
         null,
         null
        ],
        [
         "Pelé",
         "7.0",
         7.0
        ],
        [
         "The Minimalists: Less Is Now",
         "5.9",
         6.0
        ],
        [
         "Beauty",
         null,
         null
        ],
        [
         "The Princess Switch 3",
         null,
         null
        ],
        [
         "Love Hard",
         null,
         null
        ],
        [
         "Strip Down, Rise Up",
         "5.2",
         5.0
        ],
        [
         "Rise of the Teenage Mutant Ninja Turtles",
         null,
         null
        ],
        [
         "Nightbooks",
         null,
         null
        ],
        [
         "Crack: Cocaine, Corruption & Conspiracy",
         "6.7",
         7.0
        ],
        [
         "Against the Ice",
         null,
         null
        ],
        [
         "Resort to Love",
         null,
         null
        ],
        [
         "A Castle for Christmas",
         null,
         null
        ],
        [
         "Pray Away",
         null,
         null
        ],
        [
         "Single All the Way",
         null,
         null
        ],
        [
         "Sisters on Track",
         null,
         null
        ],
        [
         "Intrusion",
         null,
         null
        ],
        [
         "Accomplice",
         "7.3",
         7.0
        ],
        [
         "Hypnotic",
         null,
         null
        ],
        [
         "Diana",
         null,
         null
        ],
        [
         "Headspace: Unwind Your Mind",
         null,
         null
        ],
        [
         "Bob Ross: Happy Accidents, Betrayal & Greed",
         null,
         null
        ],
        [
         "Kane Chonicles",
         null,
         null
        ],
        [
         "Untitled Netflix Family Comedy 2021",
         null,
         null
        ],
        [
         "Untitled Boeing 737 Max/Rory Kennedy Project",
         null,
         null
        ],
        [
         "Happiness Ever After",
         null,
         null
        ],
        [
         "Love and Monsters",
         "7.0",
         7.0
        ],
        [
         "I Care a Lot",
         "6.3",
         6.0
        ],
        [
         "Eurovision Song Contest: The Story of Fire Saga",
         "6.5",
         7.0
        ],
        [
         "The Devil All the Time",
         "7.1",
         7.0
        ],
        [
         "Honest Thief",
         "6.0",
         6.0
        ],
        [
         "Run",
         "6.7",
         7.0
        ],
        [
         "News of the World",
         "6.8",
         7.0
        ],
        [
         "Enola Holmes",
         "6.6",
         7.0
        ],
        [
         "The Trial of the Chicago 7",
         "7.8",
         8.0
        ],
        [
         "The Water Man",
         "4.9",
         5.0
        ],
        [
         "Breach",
         "2.9",
         3.0
        ],
        [
         "The Old Guard",
         "6.7",
         7.0
        ],
        [
         "Extraction",
         "6.7",
         7.0
        ],
        [
         "Spenser Confidential",
         "6.2",
         6.0
        ],
        [
         "Mank",
         "6.9",
         7.0
        ],
        [
         "Hillbilly Elegy",
         "6.7",
         7.0
        ],
        [
         "Rebecca",
         "6.0",
         6.0
        ],
        [
         "I'm Thinking of Ending Things",
         "6.6",
         7.0
        ],
        [
         "Pieces of a Woman",
         "7.1",
         7.0
        ],
        [
         "My Octopus Teacher",
         "8.1",
         8.0
        ],
        [
         "Fantasy Island",
         "4.9",
         5.0
        ],
        [
         "The Wrong Missy",
         "5.7",
         6.0
        ],
        [
         "The Midnight Sky",
         "5.6",
         6.0
        ],
        [
         "We Can Be Heroes",
         "4.7",
         5.0
        ],
        [
         "Project Power",
         "6.0",
         6.0
        ],
        [
         "The Babysitter: Killer Queen",
         "5.8",
         6.0
        ],
        [
         "His House",
         "6.5",
         7.0
        ],
        [
         "Ma Rainey's Black Bottom",
         "7.0",
         7.0
        ],
        [
         "Hubie Halloween",
         "5.2",
         5.0
        ],
        [
         "Concrete Cowboy",
         "6.3",
         6.0
        ],
        [
         "All the Bright Places",
         "6.5",
         7.0
        ],
        [
         "Holidate",
         "6.1",
         6.0
        ],
        [
         "2067",
         "4.9",
         5.0
        ],
        [
         "Force of Nature",
         "4.5",
         5.0
        ],
        [
         "Da 5 Bloods",
         "6.5",
         7.0
        ],
        [
         "The SpongeBob Movie: Sponge on the Run",
         "6.0",
         6.0
        ],
        [
         "Jungle Beat: The Movie",
         "5.5",
         6.0
        ],
        [
         "Penguin Bloom",
         "6.8",
         7.0
        ],
        [
         "Over the Moon",
         "6.4",
         6.0
        ],
        [
         "Love Wedding Repeat",
         "5.5",
         6.0
        ],
        [
         "The Prom",
         "5.9",
         6.0
        ],
        [
         "The Kissing Booth 2",
         "5.8",
         6.0
        ],
        [
         "Lost Girls",
         "6.1",
         6.0
        ],
        [
         "The Stand In",
         "4.6",
         5.0
        ],
        [
         "The Last Thing He Wanted",
         "4.3",
         4.0
        ],
        [
         "The Social Dilemma",
         "7.6",
         8.0
        ],
        [
         "Horse Girl",
         "5.9",
         6.0
        ],
        [
         "The Sleepover",
         "5.6",
         6.0
        ],
        [
         "The Boys in the Band",
         "6.8",
         7.0
        ],
        [
         "The Last Days of American Crime",
         "3.7",
         4.0
        ],
        [
         "Love, Guaranteed",
         "5.6",
         6.0
        ],
        [
         "The Willoughbys",
         "6.4",
         6.0
        ],
        [
         "Feel the Beat",
         "6.3",
         6.0
        ],
        [
         "American Murder: The Family Next Door",
         "7.2",
         7.0
        ],
        [
         "Work It",
         "6.1",
         6.0
        ],
        [
         "The Lovebirds",
         "6.1",
         6.0
        ],
        [
         "Sightless",
         "5.5",
         6.0
        ],
        [
         "Dangerous Lies",
         "5.3",
         5.0
        ],
        [
         "The F**k-It List",
         "5.1",
         5.0
        ],
        [
         "A Fall from Grace",
         "5.9",
         6.0
        ],
        [
         "Vampires vs. the Bronx",
         "5.6",
         6.0
        ],
        [
         "Think Like a Dog",
         "5.2",
         5.0
        ],
        [
         "To All the Boys: P.S. I Still Love You",
         "6.0",
         6.0
        ],
        [
         "Desperados",
         "5.2",
         5.0
        ],
        [
         "A Babysitter's Guide to Monster Hunting",
         "5.4",
         5.0
        ],
        [
         "Sergio",
         "6.1",
         6.0
        ],
        [
         "Roped",
         "5.4",
         5.0
        ],
        [
         "David Attenborough: A Life on Our Planet",
         "9.0",
         9.0
        ],
        [
         "The Debt Collector 2",
         "5.8",
         6.0
        ],
        [
         "A California Christmas",
         "5.8",
         6.0
        ],
        [
         "All Together Now",
         "6.5",
         7.0
        ],
        [
         "The Christmas Chronicles: Part Two",
         "6.0",
         6.0
        ],
        [
         "The Princess Switch: Switched Again",
         "5.4",
         5.0
        ],
        [
         "Crip Camp",
         "7.7",
         8.0
        ],
        [
         "Lady Driver",
         "5.9",
         6.0
        ],
        [
         "Coffee & Kareem",
         "5.1",
         5.0
        ],
        [
         "Fatal Affair",
         "4.5",
         5.0
        ],
        [
         "Wheels of Fortune",
         "5.4",
         5.0
        ],
        [
         "Kiss the Ground",
         "8.3",
         8.0
        ],
        [
         "The Forty-Year-Old Version",
         "7.2",
         7.0
        ],
        [
         "The Main Event",
         "4.8",
         5.0
        ],
        [
         "Made You Look: A True Story About Fake Art",
         "7.0",
         7.0
        ],
        [
         "The Fisherman's Diary",
         "6.5",
         7.0
        ],
        [
         "Serious Men",
         "6.8",
         7.0
        ],
        [
         "Uncorked",
         "6.3",
         6.0
        ],
        [
         "Midnight at the Magnolia",
         "5.8",
         6.0
        ],
        [
         "All Day and a Night",
         "5.8",
         6.0
        ],
        [
         "Operation Christmas Drop",
         "5.8",
         6.0
        ],
        [
         "Jingle Jangle: A Christmas Journey",
         "6.5",
         7.0
        ],
        [
         "Bruised",
         "7.2",
         7.0
        ],
        [
         "What Is Life Worth",
         "6.9",
         7.0
        ],
        [
         "Have a Good Trip: Adventures in Psychedelics",
         "6.8",
         7.0
        ],
        [
         "I Am Vengeance: Retaliation",
         "3.5",
         4.0
        ],
        [
         "Miss Americana",
         "7.4",
         7.0
        ],
        [
         "Dick Johnson Is Dead",
         "7.5",
         8.0
        ],
        [
         "You Are My Home",
         "6.5",
         7.0
        ],
        [
         "Tigertail",
         "6.5",
         7.0
        ],
        [
         "Go!",
         "5.9",
         6.0
        ],
        [
         "Athlete A",
         "7.6",
         8.0
        ],
        [
         "Secrets of the Saqqara Tomb",
         "7.3",
         7.0
        ],
        [
         "Ricos de Amor",
         "5.8",
         6.0
        ],
        [
         "A Secret Love",
         "7.9",
         8.0
        ],
        [
         "Ariana Grande: Excuse Me, I Love You",
         "6.4",
         6.0
        ],
        [
         "Malibu Rescue: The Next Wave",
         "4.8",
         5.0
        ],
        [
         "Namaste Wahala",
         "5.1",
         5.0
        ],
        [
         "Citation",
         "6.2",
         6.0
        ],
        [
         "Farewell Amor",
         "6.9",
         7.0
        ],
        [
         "Funny Boy",
         "5.8",
         6.0
        ],
        [
         "A New York Christmas Wedding",
         "5.4",
         5.0
        ],
        [
         "Christmas on the Square",
         "5.2",
         5.0
        ],
        [
         "Seriously Single",
         "4.5",
         5.0
        ],
        [
         "Rising Phoenix",
         "8.1",
         8.0
        ],
        [
         "Riding Faith",
         "4.4",
         4.0
        ],
        [
         "Murder to Mercy: The Cyntoia Brown Story",
         "6.4",
         6.0
        ],
        [
         "Becoming",
         "6.8",
         7.0
        ],
        [
         "Not a Game",
         "5.6",
         6.0
        ],
        [
         "Barbie Princess Adventure",
         "5.6",
         6.0
        ],
        [
         "Angela's Christmas Wish",
         "7.1",
         7.0
        ],
        [
         "Father Soldier Son",
         "7.3",
         7.0
        ],
        [
         "Uppity: The Willy T. Ribbs Story",
         "7.9",
         8.0
        ],
        [
         "Maska",
         "5.8",
         6.0
        ],
        [
         "Octonauts & the Great Barrier Reef",
         "7.4",
         7.0
        ],
        [
         "Shawn Mendes: In Wonder",
         "6.6",
         7.0
        ],
        [
         "LA Originals",
         "7.2",
         7.0
        ],
        [
         "Mucho Mucho Amor: The Legend of Walter Mercado",
         "7.3",
         7.0
        ],
        [
         "Octonauts and the Caves of Sac Actun",
         "6.2",
         6.0
        ],
        [
         "The Larva Island Movie",
         "5.1",
         5.0
        ],
        [
         "André & His Olive Tree",
         "6.8",
         7.0
        ],
        [
         "Dance Dreams: Hot Chocolate Nutcracker",
         "7.1",
         7.0
        ],
        [
         "#cats_the_mewvie",
         "5.3",
         5.0
        ],
        [
         "Giving Voice",
         "6.7",
         7.0
        ],
        [
         "The App That Stole Christmas",
         "3.6",
         4.0
        ],
        [
         "Shawn Mendes: Live in Concert",
         "7.4",
         7.0
        ],
        [
         "Thomas & Friends: Marvelous Machinery",
         "7.0",
         7.0
        ],
        [
         "The Magic School Bus Rides Again: Kids in Space",
         "6.2",
         6.0
        ],
        [
         "Night on Earth: Shot in the Dark",
         "7.9",
         8.0
        ],
        [
         "United Nation Three Decades of Drum & Bass",
         "8.0",
         8.0
        ],
        [
         "Light in the Dark",
         "6.0",
         6.0
        ],
        [
         "Pemburu di Manchester Biru",
         "5.9",
         6.0
        ],
        [
         "Bigflo & Oli: Hip Hop Frenzy",
         "6.9",
         7.0
        ],
        [
         "Horrid Henry's Gross Day Out",
         "6.2",
         6.0
        ],
        [
         "Last days on Earth",
         null,
         null
        ]
       ],
       "datasetInfos": [],
       "dbfsResultPath": null,
       "isJsonSchema": true,
       "metadata": {},
       "overflow": false,
       "plotOptions": {
        "customPlotOptions": {},
        "displayType": "table",
        "pivotAggregation": null,
        "pivotColumns": null,
        "xColumns": null,
        "yColumns": null
       },
       "removedWidgets": [],
       "schema": [
        {
         "metadata": "{}",
         "name": "title",
         "type": "\"string\""
        },
        {
         "metadata": "{}",
         "name": "rating",
         "type": "\"string\""
        },
        {
         "metadata": "{\"__autoGeneratedAlias\":\"true\"}",
         "name": "round(rating, 0)",
         "type": "\"double\""
        }
       ],
       "type": "table"
      }
     },
     "output_type": "display_data"
    }
   ],
   "source": [
    "display(spark.sql('select title, rating, round(rating) from netflix_data_table'))"
   ]
  },
  {
   "cell_type": "code",
   "execution_count": 0,
   "metadata": {
    "application/vnd.databricks.v1+cell": {
     "cellMetadata": {
      "byteLimit": 2048000,
      "rowLimit": 10000
     },
     "inputWidgets": {},
     "nuid": "4102fa62-43da-490a-9356-ec0b8206740d",
     "showTitle": false,
     "title": ""
    }
   },
   "outputs": [
    {
     "output_type": "execute_result",
     "data": {
      "text/plain": [
       "0.3233840451451909"
      ]
     },
     "execution_count": 27,
     "metadata": {},
     "output_type": "execute_result"
    }
   ],
   "source": [
    "#show coorelation between rating & numvotes\n",
    "netflix_data.stat.corr('rating', 'numVotes')"
   ]
  },
  {
   "cell_type": "code",
   "execution_count": 0,
   "metadata": {
    "application/vnd.databricks.v1+cell": {
     "cellMetadata": {
      "byteLimit": 2048000,
      "rowLimit": 10000
     },
     "inputWidgets": {},
     "nuid": "cb1880ce-7ce8-43a9-80f4-1d8bf44cc3d2",
     "showTitle": false,
     "title": ""
    }
   },
   "outputs": [
    {
     "output_type": "display_data",
     "data": {
      "text/html": [
       "<style scoped>\n",
       "  .table-result-container {\n",
       "    max-height: 300px;\n",
       "    overflow: auto;\n",
       "  }\n",
       "  table, th, td {\n",
       "    border: 1px solid black;\n",
       "    border-collapse: collapse;\n",
       "  }\n",
       "  th, td {\n",
       "    padding: 5px;\n",
       "  }\n",
       "  th {\n",
       "    text-align: left;\n",
       "  }\n",
       "</style><div class='table-result-container'><table class='table-result'><thead style='background-color: white'><tr><th>rating</th><th>numVotes</th></tr></thead><tbody><tr><td>5.8</td><td>110780.0</td></tr><tr><td>5.7</td><td>46703.0</td></tr><tr><td>7.8</td><td>55762.0</td></tr><tr><td>6.7</td><td>2962.0</td></tr><tr><td>5.3</td><td>20762.0</td></tr><tr><td>5.6</td><td>33501.0</td></tr><tr><td>null</td><td>null</td></tr><tr><td>5.8</td><td>3283.0</td></tr><tr><td>null</td><td>null</td></tr><tr><td>7.1</td><td>56763.0</td></tr><tr><td>4.4</td><td>33506.0</td></tr><tr><td>null</td><td>null</td></tr><tr><td>null</td><td>null</td></tr><tr><td>null</td><td>null</td></tr><tr><td>6.3</td><td>1107.0</td></tr><tr><td>4.8</td><td>2846.0</td></tr><tr><td>6.7</td><td>18962.0</td></tr><tr><td>5.7</td><td>17536.0</td></tr><tr><td>null</td><td>null</td></tr><tr><td>5.4</td><td>35882.0</td></tr><tr><td>null</td><td>null</td></tr><tr><td>6.6</td><td>18590.0</td></tr><tr><td>6.7</td><td>28869.0</td></tr><tr><td>6.1</td><td>7636.0</td></tr><tr><td>null</td><td>null</td></tr><tr><td>3.6</td><td>9808.0</td></tr><tr><td>null</td><td>null</td></tr><tr><td>5.7</td><td>3247.0</td></tr><tr><td>null</td><td>null</td></tr><tr><td>null</td><td>null</td></tr><tr><td>8.2</td><td>23284.0</td></tr><tr><td>null</td><td>null</td></tr><tr><td>6.9</td><td>221.0</td></tr><tr><td>6.3</td><td>17605.0</td></tr><tr><td>null</td><td>null</td></tr><tr><td>null</td><td>null</td></tr><tr><td>null</td><td>null</td></tr><tr><td>null</td><td>null</td></tr><tr><td>null</td><td>null</td></tr><tr><td>null</td><td>null</td></tr><tr><td>7.8</td><td>475.0</td></tr><tr><td>null</td><td>null</td></tr><tr><td>6.2</td><td>2241.0</td></tr><tr><td>null</td><td>null</td></tr><tr><td>null</td><td>null</td></tr><tr><td>null</td><td>null</td></tr><tr><td>null</td><td>null</td></tr><tr><td>5.3</td><td>146.0</td></tr><tr><td>null</td><td>null</td></tr><tr><td>null</td><td>null</td></tr><tr><td>null</td><td>null</td></tr><tr><td>null</td><td>null</td></tr><tr><td>7.0</td><td>6284.0</td></tr><tr><td>7.5</td><td>244.0</td></tr><tr><td>null</td><td>null</td></tr><tr><td>null</td><td>null</td></tr><tr><td>7.1</td><td>182.0</td></tr><tr><td>null</td><td>null</td></tr><tr><td>null</td><td>null</td></tr><tr><td>null</td><td>null</td></tr><tr><td>null</td><td>null</td></tr><tr><td>null</td><td>null</td></tr><tr><td>8.9</td><td>51.0</td></tr><tr><td>null</td><td>null</td></tr><tr><td>null</td><td>null</td></tr><tr><td>null</td><td>null</td></tr><tr><td>6.9</td><td>4135.0</td></tr><tr><td>null</td><td>null</td></tr><tr><td>7.0</td><td>3268.0</td></tr><tr><td>5.9</td><td>3238.0</td></tr><tr><td>null</td><td>null</td></tr><tr><td>null</td><td>null</td></tr><tr><td>null</td><td>null</td></tr><tr><td>5.2</td><td>492.0</td></tr><tr><td>null</td><td>null</td></tr><tr><td>null</td><td>null</td></tr><tr><td>6.7</td><td>2640.0</td></tr><tr><td>null</td><td>null</td></tr><tr><td>null</td><td>null</td></tr><tr><td>null</td><td>null</td></tr><tr><td>null</td><td>null</td></tr><tr><td>null</td><td>null</td></tr><tr><td>null</td><td>null</td></tr><tr><td>null</td><td>null</td></tr><tr><td>7.3</td><td>193.0</td></tr><tr><td>null</td><td>null</td></tr><tr><td>null</td><td>null</td></tr><tr><td>null</td><td>null</td></tr><tr><td>null</td><td>null</td></tr><tr><td>null</td><td>null</td></tr><tr><td>null</td><td>null</td></tr><tr><td>null</td><td>null</td></tr><tr><td>null</td><td>null</td></tr><tr><td>7.0</td><td>91971.0</td></tr><tr><td>6.3</td><td>101431.0</td></tr><tr><td>6.5</td><td>82411.0</td></tr><tr><td>7.1</td><td>105158.0</td></tr><tr><td>6.0</td><td>36583.0</td></tr><tr><td>6.7</td><td>50255.0</td></tr><tr><td>6.8</td><td>65228.0</td></tr><tr><td>6.6</td><td>140708.0</td></tr><tr><td>7.8</td><td>147967.0</td></tr><tr><td>4.9</td><td>565.0</td></tr><tr><td>2.9</td><td>7561.0</td></tr><tr><td>6.7</td><td>137367.0</td></tr><tr><td>6.7</td><td>169609.0</td></tr><tr><td>6.2</td><td>75475.0</td></tr><tr><td>6.9</td><td>61633.0</td></tr><tr><td>6.7</td><td>35778.0</td></tr><tr><td>6.0</td><td>34569.0</td></tr><tr><td>6.6</td><td>69398.0</td></tr><tr><td>7.1</td><td>40086.0</td></tr><tr><td>8.1</td><td>38740.0</td></tr><tr><td>4.9</td><td>40351.0</td></tr><tr><td>5.7</td><td>34222.0</td></tr><tr><td>5.6</td><td>74470.0</td></tr><tr><td>4.7</td><td>11673.0</td></tr><tr><td>6.0</td><td>75538.0</td></tr><tr><td>5.8</td><td>29703.0</td></tr><tr><td>6.5</td><td>30212.0</td></tr><tr><td>7.0</td><td>43065.0</td></tr><tr><td>5.2</td><td>41175.0</td></tr><tr><td>6.3</td><td>6320.0</td></tr><tr><td>6.5</td><td>23088.0</td></tr><tr><td>6.1</td><td>49581.0</td></tr><tr><td>4.9</td><td>6376.0</td></tr><tr><td>4.5</td><td>8425.0</td></tr><tr><td>6.5</td><td>45651.0</td></tr><tr><td>6.0</td><td>13393.0</td></tr><tr><td>5.5</td><td>658.0</td></tr><tr><td>6.8</td><td>6338.0</td></tr><tr><td>6.4</td><td>17434.0</td></tr><tr><td>5.5</td><td>18362.0</td></tr><tr><td>5.9</td><td>23847.0</td></tr><tr><td>5.8</td><td>22962.0</td></tr><tr><td>6.1</td><td>18335.0</td></tr><tr><td>4.6</td><td>2453.0</td></tr><tr><td>4.3</td><td>13387.0</td></tr><tr><td>7.6</td><td>70972.0</td></tr><tr><td>5.9</td><td>15514.0</td></tr><tr><td>5.6</td><td>8710.0</td></tr><tr><td>6.8</td><td>12731.0</td></tr><tr><td>3.7</td><td>10109.0</td></tr><tr><td>5.6</td><td>14835.0</td></tr><tr><td>6.4</td><td>14757.0</td></tr><tr><td>6.3</td><td>9062.0</td></tr><tr><td>7.2</td><td>21242.0</td></tr><tr><td>6.1</td><td>10490.0</td></tr><tr><td>6.1</td><td>22436.0</td></tr><tr><td>5.5</td><td>6022.0</td></tr><tr><td>5.3</td><td>15040.0</td></tr><tr><td>5.1</td><td>4934.0</td></tr><tr><td>5.9</td><td>13018.0</td></tr><tr><td>5.6</td><td>8181.0</td></tr><tr><td>5.2</td><td>1266.0</td></tr><tr><td>6.0</td><td>31232.0</td></tr><tr><td>5.2</td><td>9090.0</td></tr><tr><td>5.4</td><td>3270.0</td></tr><tr><td>6.1</td><td>8668.0</td></tr><tr><td>5.4</td><td>1081.0</td></tr><tr><td>9.0</td><td>27666.0</td></tr><tr><td>5.8</td><td>3412.0</td></tr><tr><td>5.8</td><td>6793.0</td></tr><tr><td>6.5</td><td>3357.0</td></tr><tr><td>6.0</td><td>24065.0</td></tr><tr><td>5.4</td><td>8108.0</td></tr><tr><td>7.7</td><td>6150.0</td></tr><tr><td>5.9</td><td>1055.0</td></tr><tr><td>5.1</td><td>12250.0</td></tr><tr><td>4.5</td><td>5115.0</td></tr><tr><td>5.4</td><td>572.0</td></tr><tr><td>8.3</td><td>5523.0</td></tr><tr><td>7.2</td><td>4173.0</td></tr><tr><td>4.8</td><td>1970.0</td></tr><tr><td>7.0</td><td>2839.0</td></tr><tr><td>6.5</td><td>425.0</td></tr><tr><td>6.8</td><td>6355.0</td></tr><tr><td>6.3</td><td>4703.0</td></tr><tr><td>5.8</td><td>4254.0</td></tr><tr><td>5.8</td><td>3192.0</td></tr><tr><td>5.8</td><td>9467.0</td></tr><tr><td>6.5</td><td>15880.0</td></tr><tr><td>7.2</td><td>38.0</td></tr><tr><td>6.9</td><td>235.0</td></tr><tr><td>6.8</td><td>6576.0</td></tr><tr><td>3.5</td><td>977.0</td></tr><tr><td>7.4</td><td>16787.0</td></tr><tr><td>7.5</td><td>5209.0</td></tr><tr><td>6.5</td><td>343.0</td></tr><tr><td>6.5</td><td>3225.0</td></tr><tr><td>5.9</td><td>2317.0</td></tr><tr><td>7.6</td><td>8369.0</td></tr><tr><td>7.3</td><td>5195.0</td></tr><tr><td>5.8</td><td>2213.0</td></tr><tr><td>7.9</td><td>3668.0</td></tr><tr><td>6.4</td><td>2009.0</td></tr><tr><td>4.8</td><td>635.0</td></tr><tr><td>5.1</td><td>820.0</td></tr><tr><td>6.2</td><td>844.0</td></tr><tr><td>6.9</td><td>867.0</td></tr><tr><td>5.8</td><td>759.0</td></tr><tr><td>5.4</td><td>835.0</td></tr><tr><td>5.2</td><td>2194.0</td></tr><tr><td>4.5</td><td>1124.0</td></tr><tr><td>8.1</td><td>1334.0</td></tr><tr><td>4.4</td><td>174.0</td></tr><tr><td>6.4</td><td>2278.0</td></tr><tr><td>6.8</td><td>5835.0</td></tr><tr><td>5.6</td><td>395.0</td></tr><tr><td>5.6</td><td>246.0</td></tr><tr><td>7.1</td><td>1046.0</td></tr><tr><td>7.3</td><td>798.0</td></tr><tr><td>7.9</td><td>583.0</td></tr><tr><td>5.8</td><td>1312.0</td></tr><tr><td>7.4</td><td>85.0</td></tr><tr><td>6.6</td><td>1734.0</td></tr><tr><td>7.2</td><td>1600.0</td></tr><tr><td>7.3</td><td>2876.0</td></tr><tr><td>6.2</td><td>116.0</td></tr><tr><td>5.1</td><td>505.0</td></tr><tr><td>6.8</td><td>148.0</td></tr><tr><td>7.1</td><td>261.0</td></tr><tr><td>5.3</td><td>407.0</td></tr><tr><td>6.7</td><td>197.0</td></tr><tr><td>3.6</td><td>301.0</td></tr><tr><td>7.4</td><td>200.0</td></tr><tr><td>7.0</td><td>6.0</td></tr><tr><td>6.2</td><td>51.0</td></tr><tr><td>7.9</td><td>156.0</td></tr><tr><td>8.0</td><td>540.0</td></tr><tr><td>6.0</td><td>24.0</td></tr><tr><td>5.9</td><td>33.0</td></tr><tr><td>6.9</td><td>98.0</td></tr><tr><td>6.2</td><td>33.0</td></tr><tr><td>null</td><td>null</td></tr></tbody></table></div>"
      ]
     },
     "metadata": {
      "application/vnd.databricks.v1+output": {
       "addedWidgets": {},
       "aggData": [],
       "aggError": "",
       "aggOverflow": false,
       "aggSchema": [],
       "aggSeriesLimitReached": false,
       "aggType": "",
       "arguments": {},
       "columnCustomDisplayInfos": {},
       "data": [
        [
         5.8,
         110780.0
        ],
        [
         5.7,
         46703.0
        ],
        [
         7.8,
         55762.0
        ],
        [
         6.7,
         2962.0
        ],
        [
         5.3,
         20762.0
        ],
        [
         5.6,
         33501.0
        ],
        [
         null,
         null
        ],
        [
         5.8,
         3283.0
        ],
        [
         null,
         null
        ],
        [
         7.1,
         56763.0
        ],
        [
         4.4,
         33506.0
        ],
        [
         null,
         null
        ],
        [
         null,
         null
        ],
        [
         null,
         null
        ],
        [
         6.3,
         1107.0
        ],
        [
         4.8,
         2846.0
        ],
        [
         6.7,
         18962.0
        ],
        [
         5.7,
         17536.0
        ],
        [
         null,
         null
        ],
        [
         5.4,
         35882.0
        ],
        [
         null,
         null
        ],
        [
         6.6,
         18590.0
        ],
        [
         6.7,
         28869.0
        ],
        [
         6.1,
         7636.0
        ],
        [
         null,
         null
        ],
        [
         3.6,
         9808.0
        ],
        [
         null,
         null
        ],
        [
         5.7,
         3247.0
        ],
        [
         null,
         null
        ],
        [
         null,
         null
        ],
        [
         8.2,
         23284.0
        ],
        [
         null,
         null
        ],
        [
         6.9,
         221.0
        ],
        [
         6.3,
         17605.0
        ],
        [
         null,
         null
        ],
        [
         null,
         null
        ],
        [
         null,
         null
        ],
        [
         null,
         null
        ],
        [
         null,
         null
        ],
        [
         null,
         null
        ],
        [
         7.8,
         475.0
        ],
        [
         null,
         null
        ],
        [
         6.2,
         2241.0
        ],
        [
         null,
         null
        ],
        [
         null,
         null
        ],
        [
         null,
         null
        ],
        [
         null,
         null
        ],
        [
         5.3,
         146.0
        ],
        [
         null,
         null
        ],
        [
         null,
         null
        ],
        [
         null,
         null
        ],
        [
         null,
         null
        ],
        [
         7.0,
         6284.0
        ],
        [
         7.5,
         244.0
        ],
        [
         null,
         null
        ],
        [
         null,
         null
        ],
        [
         7.1,
         182.0
        ],
        [
         null,
         null
        ],
        [
         null,
         null
        ],
        [
         null,
         null
        ],
        [
         null,
         null
        ],
        [
         null,
         null
        ],
        [
         8.9,
         51.0
        ],
        [
         null,
         null
        ],
        [
         null,
         null
        ],
        [
         null,
         null
        ],
        [
         6.9,
         4135.0
        ],
        [
         null,
         null
        ],
        [
         7.0,
         3268.0
        ],
        [
         5.9,
         3238.0
        ],
        [
         null,
         null
        ],
        [
         null,
         null
        ],
        [
         null,
         null
        ],
        [
         5.2,
         492.0
        ],
        [
         null,
         null
        ],
        [
         null,
         null
        ],
        [
         6.7,
         2640.0
        ],
        [
         null,
         null
        ],
        [
         null,
         null
        ],
        [
         null,
         null
        ],
        [
         null,
         null
        ],
        [
         null,
         null
        ],
        [
         null,
         null
        ],
        [
         null,
         null
        ],
        [
         7.3,
         193.0
        ],
        [
         null,
         null
        ],
        [
         null,
         null
        ],
        [
         null,
         null
        ],
        [
         null,
         null
        ],
        [
         null,
         null
        ],
        [
         null,
         null
        ],
        [
         null,
         null
        ],
        [
         null,
         null
        ],
        [
         7.0,
         91971.0
        ],
        [
         6.3,
         101431.0
        ],
        [
         6.5,
         82411.0
        ],
        [
         7.1,
         105158.0
        ],
        [
         6.0,
         36583.0
        ],
        [
         6.7,
         50255.0
        ],
        [
         6.8,
         65228.0
        ],
        [
         6.6,
         140708.0
        ],
        [
         7.8,
         147967.0
        ],
        [
         4.9,
         565.0
        ],
        [
         2.9,
         7561.0
        ],
        [
         6.7,
         137367.0
        ],
        [
         6.7,
         169609.0
        ],
        [
         6.2,
         75475.0
        ],
        [
         6.9,
         61633.0
        ],
        [
         6.7,
         35778.0
        ],
        [
         6.0,
         34569.0
        ],
        [
         6.6,
         69398.0
        ],
        [
         7.1,
         40086.0
        ],
        [
         8.1,
         38740.0
        ],
        [
         4.9,
         40351.0
        ],
        [
         5.7,
         34222.0
        ],
        [
         5.6,
         74470.0
        ],
        [
         4.7,
         11673.0
        ],
        [
         6.0,
         75538.0
        ],
        [
         5.8,
         29703.0
        ],
        [
         6.5,
         30212.0
        ],
        [
         7.0,
         43065.0
        ],
        [
         5.2,
         41175.0
        ],
        [
         6.3,
         6320.0
        ],
        [
         6.5,
         23088.0
        ],
        [
         6.1,
         49581.0
        ],
        [
         4.9,
         6376.0
        ],
        [
         4.5,
         8425.0
        ],
        [
         6.5,
         45651.0
        ],
        [
         6.0,
         13393.0
        ],
        [
         5.5,
         658.0
        ],
        [
         6.8,
         6338.0
        ],
        [
         6.4,
         17434.0
        ],
        [
         5.5,
         18362.0
        ],
        [
         5.9,
         23847.0
        ],
        [
         5.8,
         22962.0
        ],
        [
         6.1,
         18335.0
        ],
        [
         4.6,
         2453.0
        ],
        [
         4.3,
         13387.0
        ],
        [
         7.6,
         70972.0
        ],
        [
         5.9,
         15514.0
        ],
        [
         5.6,
         8710.0
        ],
        [
         6.8,
         12731.0
        ],
        [
         3.7,
         10109.0
        ],
        [
         5.6,
         14835.0
        ],
        [
         6.4,
         14757.0
        ],
        [
         6.3,
         9062.0
        ],
        [
         7.2,
         21242.0
        ],
        [
         6.1,
         10490.0
        ],
        [
         6.1,
         22436.0
        ],
        [
         5.5,
         6022.0
        ],
        [
         5.3,
         15040.0
        ],
        [
         5.1,
         4934.0
        ],
        [
         5.9,
         13018.0
        ],
        [
         5.6,
         8181.0
        ],
        [
         5.2,
         1266.0
        ],
        [
         6.0,
         31232.0
        ],
        [
         5.2,
         9090.0
        ],
        [
         5.4,
         3270.0
        ],
        [
         6.1,
         8668.0
        ],
        [
         5.4,
         1081.0
        ],
        [
         9.0,
         27666.0
        ],
        [
         5.8,
         3412.0
        ],
        [
         5.8,
         6793.0
        ],
        [
         6.5,
         3357.0
        ],
        [
         6.0,
         24065.0
        ],
        [
         5.4,
         8108.0
        ],
        [
         7.7,
         6150.0
        ],
        [
         5.9,
         1055.0
        ],
        [
         5.1,
         12250.0
        ],
        [
         4.5,
         5115.0
        ],
        [
         5.4,
         572.0
        ],
        [
         8.3,
         5523.0
        ],
        [
         7.2,
         4173.0
        ],
        [
         4.8,
         1970.0
        ],
        [
         7.0,
         2839.0
        ],
        [
         6.5,
         425.0
        ],
        [
         6.8,
         6355.0
        ],
        [
         6.3,
         4703.0
        ],
        [
         5.8,
         4254.0
        ],
        [
         5.8,
         3192.0
        ],
        [
         5.8,
         9467.0
        ],
        [
         6.5,
         15880.0
        ],
        [
         7.2,
         38.0
        ],
        [
         6.9,
         235.0
        ],
        [
         6.8,
         6576.0
        ],
        [
         3.5,
         977.0
        ],
        [
         7.4,
         16787.0
        ],
        [
         7.5,
         5209.0
        ],
        [
         6.5,
         343.0
        ],
        [
         6.5,
         3225.0
        ],
        [
         5.9,
         2317.0
        ],
        [
         7.6,
         8369.0
        ],
        [
         7.3,
         5195.0
        ],
        [
         5.8,
         2213.0
        ],
        [
         7.9,
         3668.0
        ],
        [
         6.4,
         2009.0
        ],
        [
         4.8,
         635.0
        ],
        [
         5.1,
         820.0
        ],
        [
         6.2,
         844.0
        ],
        [
         6.9,
         867.0
        ],
        [
         5.8,
         759.0
        ],
        [
         5.4,
         835.0
        ],
        [
         5.2,
         2194.0
        ],
        [
         4.5,
         1124.0
        ],
        [
         8.1,
         1334.0
        ],
        [
         4.4,
         174.0
        ],
        [
         6.4,
         2278.0
        ],
        [
         6.8,
         5835.0
        ],
        [
         5.6,
         395.0
        ],
        [
         5.6,
         246.0
        ],
        [
         7.1,
         1046.0
        ],
        [
         7.3,
         798.0
        ],
        [
         7.9,
         583.0
        ],
        [
         5.8,
         1312.0
        ],
        [
         7.4,
         85.0
        ],
        [
         6.6,
         1734.0
        ],
        [
         7.2,
         1600.0
        ],
        [
         7.3,
         2876.0
        ],
        [
         6.2,
         116.0
        ],
        [
         5.1,
         505.0
        ],
        [
         6.8,
         148.0
        ],
        [
         7.1,
         261.0
        ],
        [
         5.3,
         407.0
        ],
        [
         6.7,
         197.0
        ],
        [
         3.6,
         301.0
        ],
        [
         7.4,
         200.0
        ],
        [
         7.0,
         6.0
        ],
        [
         6.2,
         51.0
        ],
        [
         7.9,
         156.0
        ],
        [
         8.0,
         540.0
        ],
        [
         6.0,
         24.0
        ],
        [
         5.9,
         33.0
        ],
        [
         6.9,
         98.0
        ],
        [
         6.2,
         33.0
        ],
        [
         null,
         null
        ]
       ],
       "datasetInfos": [],
       "dbfsResultPath": null,
       "isJsonSchema": true,
       "metadata": {},
       "overflow": false,
       "plotOptions": {
        "customPlotOptions": {},
        "displayType": "table",
        "pivotAggregation": null,
        "pivotColumns": null,
        "xColumns": null,
        "yColumns": null
       },
       "removedWidgets": [],
       "schema": [
        {
         "metadata": "{}",
         "name": "rating",
         "type": "\"double\""
        },
        {
         "metadata": "{}",
         "name": "numVotes",
         "type": "\"double\""
        }
       ],
       "type": "table"
      }
     },
     "output_type": "display_data"
    }
   ],
   "source": [
    "display(netflix_data.select('rating', 'numVotes'))"
   ]
  },
  {
   "cell_type": "code",
   "execution_count": 0,
   "metadata": {
    "application/vnd.databricks.v1+cell": {
     "cellMetadata": {},
     "inputWidgets": {},
     "nuid": "91a6b32e-dc2a-4817-be18-d8ef171c6316",
     "showTitle": false,
     "title": ""
    }
   },
   "outputs": [],
   "source": []
  }
 ],
 "metadata": {
  "application/vnd.databricks.v1+notebook": {
   "dashboards": [],
   "language": "python",
   "notebookMetadata": {
    "pythonIndentUnit": 4
   },
   "notebookName": "SparkBultinFunctions",
   "widgets": {}
  }
 },
 "nbformat": 4,
 "nbformat_minor": 0
}
