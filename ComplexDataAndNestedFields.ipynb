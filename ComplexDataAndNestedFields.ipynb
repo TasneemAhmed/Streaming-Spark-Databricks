{
 "cells": [
  {
   "cell_type": "code",
   "execution_count": 0,
   "metadata": {
    "application/vnd.databricks.v1+cell": {
     "cellMetadata": {},
     "inputWidgets": {},
     "nuid": "0f5b9bec-b93e-40d8-89e4-f05fd9be0b4f",
     "showTitle": false,
     "title": ""
    }
   },
   "outputs": [],
   "source": [
    "df1 = spark.read.format(\"json\").load(\"dbfs:/FileStore/shared_uploads/999tasneemahmed@gmail.com/employees.json\")\n",
    "df2 = spark.read.format(\"json\").load(\"dbfs:/FileStore/shared_uploads/999tasneemahmed@gmail.com/people.json\")\n",
    "df3 = spark.read.format(\"json\").load(\"dbfs:/FileStore/shared_uploads/999tasneemahmed@gmail.com/iris.json\")"
   ]
  },
  {
   "cell_type": "code",
   "execution_count": 0,
   "metadata": {
    "application/vnd.databricks.v1+cell": {
     "cellMetadata": {
      "byteLimit": 2048000,
      "rowLimit": 10000
     },
     "inputWidgets": {},
     "nuid": "34a73b09-74e9-4095-a40b-d405fdfe35be",
     "showTitle": false,
     "title": ""
    }
   },
   "outputs": [],
   "source": [
    "people_data = spark.read.option(\"multiline\", False)\\\n",
    "    .json(\"dbfs:/FileStore/shared_uploads/999tasneemahmed@gmail.com/people.json\")"
   ]
  },
  {
   "cell_type": "code",
   "execution_count": 0,
   "metadata": {
    "application/vnd.databricks.v1+cell": {
     "cellMetadata": {
      "byteLimit": 2048000,
      "rowLimit": 10000
     },
     "inputWidgets": {},
     "nuid": "fbbf2996-da9b-441c-9e42-8c1052478c12",
     "showTitle": false,
     "title": ""
    }
   },
   "outputs": [
    {
     "output_type": "stream",
     "name": "stdout",
     "output_type": "stream",
     "text": [
      "+---+-------+------+\n|age|   city|  name|\n+---+-------+------+\n| 30|NewYork|  John|\n| 34|Chicago| James|\n| 28| Boston|Robert|\n| 22|Seattle| Peter|\n| 32|Houston|  Anna|\n+---+-------+------+\n\n"
     ]
    }
   ],
   "source": [
    "display(people_data.show(10))"
   ]
  },
  {
   "cell_type": "code",
   "execution_count": 0,
   "metadata": {
    "application/vnd.databricks.v1+cell": {
     "cellMetadata": {
      "byteLimit": 2048000,
      "rowLimit": 10000
     },
     "inputWidgets": {},
     "nuid": "2f7c7e96-1032-4aa4-a134-d33c83a6caa3",
     "showTitle": false,
     "title": ""
    }
   },
   "outputs": [
    {
     "output_type": "display_data",
     "data": {
      "text/html": [
       "<style scoped>\n",
       "  .table-result-container {\n",
       "    max-height: 300px;\n",
       "    overflow: auto;\n",
       "  }\n",
       "  table, th, td {\n",
       "    border: 1px solid black;\n",
       "    border-collapse: collapse;\n",
       "  }\n",
       "  th, td {\n",
       "    padding: 5px;\n",
       "  }\n",
       "  th {\n",
       "    text-align: left;\n",
       "  }\n",
       "</style><div class='table-result-container'><table class='table-result'><thead style='background-color: white'><tr><th>age</th><th>city</th><th>name</th></tr></thead><tbody><tr><td>30</td><td>NewYork</td><td>John</td></tr><tr><td>34</td><td>Chicago</td><td>James</td></tr><tr><td>32</td><td>Houston</td><td>Anna</td></tr></tbody></table></div>"
      ]
     },
     "metadata": {
      "application/vnd.databricks.v1+output": {
       "addedWidgets": {},
       "aggData": [],
       "aggError": "",
       "aggOverflow": false,
       "aggSchema": [],
       "aggSeriesLimitReached": false,
       "aggType": "",
       "arguments": {},
       "columnCustomDisplayInfos": {},
       "data": [
        [
         30,
         "NewYork",
         "John"
        ],
        [
         34,
         "Chicago",
         "James"
        ],
        [
         32,
         "Houston",
         "Anna"
        ]
       ],
       "datasetInfos": [],
       "dbfsResultPath": null,
       "isJsonSchema": true,
       "metadata": {},
       "overflow": false,
       "plotOptions": {
        "customPlotOptions": {},
        "displayType": "table",
        "pivotAggregation": null,
        "pivotColumns": null,
        "xColumns": null,
        "yColumns": null
       },
       "removedWidgets": [],
       "schema": [
        {
         "metadata": "{}",
         "name": "age",
         "type": "\"long\""
        },
        {
         "metadata": "{}",
         "name": "city",
         "type": "\"string\""
        },
        {
         "metadata": "{}",
         "name": "name",
         "type": "\"string\""
        }
       ],
       "type": "table"
      }
     },
     "output_type": "display_data"
    }
   ],
   "source": [
    "display(people_data.filter(people_data['age'] >= 30))"
   ]
  },
  {
   "cell_type": "code",
   "execution_count": 0,
   "metadata": {
    "application/vnd.databricks.v1+cell": {
     "cellMetadata": {
      "byteLimit": 2048000,
      "rowLimit": 10000
     },
     "inputWidgets": {},
     "nuid": "3d996228-a4cb-4e7e-89d5-26bc7c47daf6",
     "showTitle": false,
     "title": ""
    }
   },
   "outputs": [],
   "source": [
    "iris_df = spark.read.option('multiline', True) \\\n",
    "    .json(\"dbfs:/FileStore/shared_uploads/999tasneemahmed@gmail.com/iris.json\")"
   ]
  },
  {
   "cell_type": "code",
   "execution_count": 0,
   "metadata": {
    "application/vnd.databricks.v1+cell": {
     "cellMetadata": {
      "byteLimit": 2048000,
      "rowLimit": 10000
     },
     "inputWidgets": {},
     "nuid": "34cee18f-00d7-4600-9ccd-7437038f4756",
     "showTitle": false,
     "title": ""
    }
   },
   "outputs": [
    {
     "output_type": "stream",
     "name": "stdout",
     "output_type": "stream",
     "text": [
      "+-----------+----------+-----------+----------+-------+\n|petalLength|petalWidth|sepalLength|sepalWidth|species|\n+-----------+----------+-----------+----------+-------+\n|        1.4|       0.2|        5.1|       3.5| setosa|\n|        1.4|       0.2|        4.9|       3.0| setosa|\n|        1.3|       0.2|        4.7|       3.2| setosa|\n|        1.5|       0.2|        4.6|       3.1| setosa|\n|        1.4|       0.2|        5.0|       3.6| setosa|\n|        1.7|       0.4|        5.4|       3.9| setosa|\n|        1.4|       0.3|        4.6|       3.4| setosa|\n|        1.5|       0.2|        5.0|       3.4| setosa|\n|        1.4|       0.2|        4.4|       2.9| setosa|\n|        1.5|       0.1|        4.9|       3.1| setosa|\n+-----------+----------+-----------+----------+-------+\nonly showing top 10 rows\n\n"
     ]
    }
   ],
   "source": [
    "display(iris_df.show(10))"
   ]
  },
  {
   "cell_type": "code",
   "execution_count": 0,
   "metadata": {
    "application/vnd.databricks.v1+cell": {
     "cellMetadata": {
      "byteLimit": 2048000,
      "rowLimit": 10000
     },
     "inputWidgets": {},
     "nuid": "3e2ce3b8-b748-435d-b3c1-2a169e6bc674",
     "showTitle": false,
     "title": ""
    }
   },
   "outputs": [
    {
     "output_type": "display_data",
     "data": {
      "text/html": [
       "<style scoped>\n",
       "  .table-result-container {\n",
       "    max-height: 300px;\n",
       "    overflow: auto;\n",
       "  }\n",
       "  table, th, td {\n",
       "    border: 1px solid black;\n",
       "    border-collapse: collapse;\n",
       "  }\n",
       "  th, td {\n",
       "    padding: 5px;\n",
       "  }\n",
       "  th {\n",
       "    text-align: left;\n",
       "  }\n",
       "</style><div class='table-result-container'><table class='table-result'><thead style='background-color: white'><tr><th>species</th></tr></thead><tbody><tr><td>virginica</td></tr><tr><td>versicolor</td></tr><tr><td>setosa</td></tr></tbody></table></div>"
      ]
     },
     "metadata": {
      "application/vnd.databricks.v1+output": {
       "addedWidgets": {},
       "aggData": [],
       "aggError": "",
       "aggOverflow": false,
       "aggSchema": [],
       "aggSeriesLimitReached": false,
       "aggType": "",
       "arguments": {},
       "columnCustomDisplayInfos": {},
       "data": [
        [
         "virginica"
        ],
        [
         "versicolor"
        ],
        [
         "setosa"
        ]
       ],
       "datasetInfos": [],
       "dbfsResultPath": null,
       "isJsonSchema": true,
       "metadata": {},
       "overflow": false,
       "plotOptions": {
        "customPlotOptions": {},
        "displayType": "table",
        "pivotAggregation": null,
        "pivotColumns": null,
        "xColumns": null,
        "yColumns": null
       },
       "removedWidgets": [],
       "schema": [
        {
         "metadata": "{}",
         "name": "species",
         "type": "\"string\""
        }
       ],
       "type": "table"
      }
     },
     "output_type": "display_data"
    }
   ],
   "source": [
    "display(iris_df.select('species').distinct())"
   ]
  },
  {
   "cell_type": "code",
   "execution_count": 0,
   "metadata": {
    "application/vnd.databricks.v1+cell": {
     "cellMetadata": {
      "byteLimit": 2048000,
      "rowLimit": 10000
     },
     "inputWidgets": {},
     "nuid": "5d12a1c9-d139-473a-9a49-0a6bdfbc0e8b",
     "showTitle": false,
     "title": ""
    }
   },
   "outputs": [],
   "source": [
    "#multiline : allow to parse json file with multi lines (data record exist in multi records)\n",
    "#mode : allow to deal with nested fields\n",
    "employee_data = spark.read.option(\"multiline\", True)\\\n",
    "    .option(\"mode\", \"PEAMISSIVE\")\\\n",
    "        .json(\"dbfs:/FileStore/shared_uploads/999tasneemahmed@gmail.com/employees.json\")"
   ]
  },
  {
   "cell_type": "code",
   "execution_count": 0,
   "metadata": {
    "application/vnd.databricks.v1+cell": {
     "cellMetadata": {
      "byteLimit": 2048000,
      "rowLimit": 10000
     },
     "inputWidgets": {},
     "nuid": "f9371e3c-1eb1-4b28-b07d-da93ea304b9c",
     "showTitle": false,
     "title": ""
    }
   },
   "outputs": [
    {
     "output_type": "display_data",
     "data": {
      "text/html": [
       "<style scoped>\n",
       "  .table-result-container {\n",
       "    max-height: 300px;\n",
       "    overflow: auto;\n",
       "  }\n",
       "  table, th, td {\n",
       "    border: 1px solid black;\n",
       "    border-collapse: collapse;\n",
       "  }\n",
       "  th, td {\n",
       "    padding: 5px;\n",
       "  }\n",
       "  th {\n",
       "    text-align: left;\n",
       "  }\n",
       "</style><div class='table-result-container'><table class='table-result'><thead style='background-color: white'><tr><th>name</th><th>salary</th><th>address</th><th>contact</th></tr></thead><tbody><tr><td>Emily Watson</td><td>54000.0</td><td>List(Baltimore, MD)</td><td>List(List(watson@commerce.gov, 650-333-3456), List(emily@gmail.com, 238-111-7689))</td></tr><tr><td>John Smith</td><td>67000.0</td><td>List(Barton, TN)</td><td>List(List(johnsmith@yahoo.com, 425-231-8754))</td></tr><tr><td>Peter Jones</td><td>45000.0</td><td>List(Salt Lake City, UT)</td><td>List(List(peter@radio.us, null), List(peterjones@yahoo.com, 425-213-0987))</td></tr><tr><td>Nina James</td><td>95500.0</td><td>List(Seattle, WA)</td><td>List(List(nina@hotmail.com, 813-190-3628), List(ninajames@hotmail.com, 813-456-6509))</td></tr></tbody></table></div>"
      ]
     },
     "metadata": {
      "application/vnd.databricks.v1+output": {
       "addedWidgets": {},
       "aggData": [],
       "aggError": "",
       "aggOverflow": false,
       "aggSchema": [],
       "aggSeriesLimitReached": false,
       "aggType": "",
       "arguments": {},
       "columnCustomDisplayInfos": {},
       "data": [
        [
         "Emily Watson",
         54000.0,
         [
          "Baltimore",
          "MD"
         ],
         [
          [
           "watson@commerce.gov",
           "650-333-3456"
          ],
          [
           "emily@gmail.com",
           "238-111-7689"
          ]
         ]
        ],
        [
         "John Smith",
         67000.0,
         [
          "Barton",
          "TN"
         ],
         [
          [
           "johnsmith@yahoo.com",
           "425-231-8754"
          ]
         ]
        ],
        [
         "Peter Jones",
         45000.0,
         [
          "Salt Lake City",
          "UT"
         ],
         [
          [
           "peter@radio.us",
           null
          ],
          [
           "peterjones@yahoo.com",
           "425-213-0987"
          ]
         ]
        ],
        [
         "Nina James",
         95500.0,
         [
          "Seattle",
          "WA"
         ],
         [
          [
           "nina@hotmail.com",
           "813-190-3628"
          ],
          [
           "ninajames@hotmail.com",
           "813-456-6509"
          ]
         ]
        ]
       ],
       "datasetInfos": [],
       "dbfsResultPath": null,
       "isJsonSchema": true,
       "metadata": {},
       "overflow": false,
       "plotOptions": {
        "customPlotOptions": {},
        "displayType": "table",
        "pivotAggregation": null,
        "pivotColumns": null,
        "xColumns": null,
        "yColumns": null
       },
       "removedWidgets": [],
       "schema": [
        {
         "metadata": "{}",
         "name": "name",
         "type": "\"string\""
        },
        {
         "metadata": "{}",
         "name": "salary",
         "type": "\"double\""
        },
        {
         "metadata": "{}",
         "name": "address",
         "type": "{\"type\":\"struct\",\"fields\":[{\"name\":\"city\",\"type\":\"string\",\"nullable\":true,\"metadata\":{}},{\"name\":\"state\",\"type\":\"string\",\"nullable\":true,\"metadata\":{}}]}"
        },
        {
         "metadata": "{}",
         "name": "contact",
         "type": "{\"type\":\"array\",\"elementType\":{\"type\":\"struct\",\"fields\":[{\"name\":\"email\",\"type\":\"string\",\"nullable\":true,\"metadata\":{}},{\"name\":\"phone\",\"type\":\"string\",\"nullable\":true,\"metadata\":{}}]},\"containsNull\":true}"
        }
       ],
       "type": "table"
      }
     },
     "output_type": "display_data"
    }
   ],
   "source": [
    "display(employee_data.select('name', 'salary', 'address', 'contact'))"
   ]
  },
  {
   "cell_type": "code",
   "execution_count": 0,
   "metadata": {
    "application/vnd.databricks.v1+cell": {
     "cellMetadata": {
      "byteLimit": 2048000,
      "rowLimit": 10000
     },
     "inputWidgets": {},
     "nuid": "2ca7a13a-094c-40be-a006-d82f9b47f058",
     "showTitle": false,
     "title": ""
    }
   },
   "outputs": [
    {
     "output_type": "display_data",
     "data": {
      "text/html": [
       "<style scoped>\n",
       "  .table-result-container {\n",
       "    max-height: 300px;\n",
       "    overflow: auto;\n",
       "  }\n",
       "  table, th, td {\n",
       "    border: 1px solid black;\n",
       "    border-collapse: collapse;\n",
       "  }\n",
       "  th, td {\n",
       "    padding: 5px;\n",
       "  }\n",
       "  th {\n",
       "    text-align: left;\n",
       "  }\n",
       "</style><div class='table-result-container'><table class='table-result'><thead style='background-color: white'><tr><th>name</th><th>city</th><th>email</th></tr></thead><tbody><tr><td>Emily Watson</td><td>Baltimore</td><td>List(watson@commerce.gov, emily@gmail.com)</td></tr><tr><td>John Smith</td><td>Barton</td><td>List(johnsmith@yahoo.com)</td></tr><tr><td>Peter Jones</td><td>Salt Lake City</td><td>List(peter@radio.us, peterjones@yahoo.com)</td></tr><tr><td>Nina James</td><td>Seattle</td><td>List(nina@hotmail.com, ninajames@hotmail.com)</td></tr></tbody></table></div>"
      ]
     },
     "metadata": {
      "application/vnd.databricks.v1+output": {
       "addedWidgets": {},
       "aggData": [],
       "aggError": "",
       "aggOverflow": false,
       "aggSchema": [],
       "aggSeriesLimitReached": false,
       "aggType": "",
       "arguments": {},
       "columnCustomDisplayInfos": {},
       "data": [
        [
         "Emily Watson",
         "Baltimore",
         [
          "watson@commerce.gov",
          "emily@gmail.com"
         ]
        ],
        [
         "John Smith",
         "Barton",
         [
          "johnsmith@yahoo.com"
         ]
        ],
        [
         "Peter Jones",
         "Salt Lake City",
         [
          "peter@radio.us",
          "peterjones@yahoo.com"
         ]
        ],
        [
         "Nina James",
         "Seattle",
         [
          "nina@hotmail.com",
          "ninajames@hotmail.com"
         ]
        ]
       ],
       "datasetInfos": [],
       "dbfsResultPath": null,
       "isJsonSchema": true,
       "metadata": {},
       "overflow": false,
       "plotOptions": {
        "customPlotOptions": {},
        "displayType": "table",
        "pivotAggregation": null,
        "pivotColumns": null,
        "xColumns": null,
        "yColumns": null
       },
       "removedWidgets": [],
       "schema": [
        {
         "metadata": "{}",
         "name": "name",
         "type": "\"string\""
        },
        {
         "metadata": "{}",
         "name": "city",
         "type": "\"string\""
        },
        {
         "metadata": "{}",
         "name": "email",
         "type": "{\"type\":\"array\",\"elementType\":\"string\",\"containsNull\":true}"
        }
       ],
       "type": "table"
      }
     },
     "output_type": "display_data"
    }
   ],
   "source": [
    "display(employee_data.select('name', 'address.city', 'contact.email'))"
   ]
  },
  {
   "cell_type": "code",
   "execution_count": 0,
   "metadata": {
    "application/vnd.databricks.v1+cell": {
     "cellMetadata": {
      "byteLimit": 2048000,
      "rowLimit": 10000
     },
     "inputWidgets": {},
     "nuid": "f4b7293c-bbe6-4637-b37f-2f022876ddba",
     "showTitle": false,
     "title": ""
    }
   },
   "outputs": [],
   "source": [
    "from pyspark.sql import functions as f"
   ]
  },
  {
   "cell_type": "code",
   "execution_count": 0,
   "metadata": {
    "application/vnd.databricks.v1+cell": {
     "cellMetadata": {
      "byteLimit": 2048000,
      "rowLimit": 10000
     },
     "inputWidgets": {},
     "nuid": "ee3518f0-5dfc-4f49-97df-ccd4f68d756a",
     "showTitle": false,
     "title": ""
    }
   },
   "outputs": [
    {
     "output_type": "stream",
     "name": "stdout",
     "output_type": "stream",
     "text": [
      "+-------------------+\n|      email_address|\n+-------------------+\n|watson@commerce.gov|\n|johnsmith@yahoo.com|\n|     peter@radio.us|\n|   nina@hotmail.com|\n+-------------------+\n\n"
     ]
    }
   ],
   "source": [
    "employee_data.select(f.col('contact.email')\n",
    "                     .getItem(0)\n",
    "                     .alias('email_address')).show()"
   ]
  },
  {
   "cell_type": "code",
   "execution_count": 0,
   "metadata": {
    "application/vnd.databricks.v1+cell": {
     "cellMetadata": {
      "byteLimit": 2048000,
      "rowLimit": 10000
     },
     "inputWidgets": {},
     "nuid": "d46f3efc-e2ab-4511-800c-db2e146ca969",
     "showTitle": false,
     "title": ""
    }
   },
   "outputs": [
    {
     "output_type": "stream",
     "name": "stdout",
     "output_type": "stream",
     "text": [
      "+------------+-------+--------------+-------------------+------------+\n|        name| salary|          city|      email_address|phone_number|\n+------------+-------+--------------+-------------------+------------+\n|Emily Watson|54000.0|     Baltimore|watson@commerce.gov|238-111-7689|\n|  John Smith|67000.0|        Barton|johnsmith@yahoo.com|        null|\n| Peter Jones|45000.0|Salt Lake City|     peter@radio.us|425-213-0987|\n|  Nina James|95500.0|       Seattle|   nina@hotmail.com|813-456-6509|\n+------------+-------+--------------+-------------------+------------+\n\n"
     ]
    }
   ],
   "source": [
    "employee_data.select('name', 'salary', 'address.city',\n",
    "                     f.col('contact.email').getItem(0).alias('email_address'),\n",
    "                     f.col('contact.phone').getItem(1).alias('phone_number')).show()"
   ]
  }
 ],
 "metadata": {
  "application/vnd.databricks.v1+notebook": {
   "dashboards": [],
   "language": "python",
   "notebookMetadata": {
    "pythonIndentUnit": 4
   },
   "notebookName": "ComplexDataAndNestedFields",
   "widgets": {}
  }
 },
 "nbformat": 4,
 "nbformat_minor": 0
}
